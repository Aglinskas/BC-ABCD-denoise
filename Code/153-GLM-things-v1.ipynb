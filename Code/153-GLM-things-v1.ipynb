{
 "cells": [
  {
   "cell_type": "code",
   "execution_count": 2,
   "id": "9db101cf-1751-40cd-902b-c3c55d370120",
   "metadata": {},
   "outputs": [
    {
     "name": "stdout",
     "output_type": "stream",
     "text": [
      "Wed Jun 11 10:27:01 AM EDT 2025\n"
     ]
    }
   ],
   "source": [
    "!date"
   ]
  },
  {
   "cell_type": "code",
   "execution_count": 2,
   "id": "6280f06d-fd2c-4e02-bce7-e3ac8b87673a",
   "metadata": {},
   "outputs": [
    {
     "data": {
      "text/plain": [
       "'/projects/sccn/andromeda1/aglinska/BC-ABCD-denoise/Code'"
      ]
     },
     "execution_count": 2,
     "metadata": {},
     "output_type": "execute_result"
    }
   ],
   "source": [
    "pwd"
   ]
  },
  {
   "cell_type": "code",
   "execution_count": 42,
   "id": "b1dd1264-3e78-4980-a858-2dd4bdd36c0a",
   "metadata": {},
   "outputs": [],
   "source": [
    "import os\n",
    "import numpy as np\n",
    "import pandas as pd\n",
    "from matplotlib import pyplot as plt\n",
    "import seaborn as sns\n",
    "import ants\n",
    "from tqdm import tqdm\n",
    "import warnings\n"
   ]
  },
  {
   "cell_type": "code",
   "execution_count": 32,
   "id": "0b7ea144-6bd4-46c5-ae10-83e94c4dd92f",
   "metadata": {},
   "outputs": [],
   "source": [
    "import ants"
   ]
  },
  {
   "cell_type": "code",
   "execution_count": 24,
   "id": "041d394d-9e88-48c5-bb37-2a5cf34ef8ec",
   "metadata": {},
   "outputs": [],
   "source": [
    "indir = '../Data/things/fmriprep2'"
   ]
  },
  {
   "cell_type": "code",
   "execution_count": 25,
   "id": "f2e5cf10-fd41-4010-93d4-3e15bf818b9a",
   "metadata": {},
   "outputs": [],
   "source": [
    "sub = 'sub-01'\n",
    "sess_name = 'ses-localizer2' if sub=='sub-01' else 'ses-localizer1'"
   ]
  },
  {
   "cell_type": "code",
   "execution_count": 27,
   "id": "8302b77e-0260-40ac-9ea2-c22a12227d99",
   "metadata": {},
   "outputs": [],
   "source": [
    "func_imgs = []\n",
    "events_tsv = []\n",
    "confounds_tsv = []\n",
    "\n",
    "\n",
    "for r in [1,2,3,4]:\n",
    "    epi_fn = os.path.join(indir,sub,sess_name,'func',f'{sub}_{sess_name}_task-6cat_run-{r:02d}_space-MNI152NLin2009cAsym_res-2_desc-preproc_bold.nii.gz')\n",
    "    anat_fn = os.path.join(indir,sub,'anat',f'{sub}_rec-pydeface_space-MNI152NLin2009cAsym_res-2_desc-preproc_T1w.nii.gz')\n",
    "    anat_gm_fn = os.path.join(indir,sub,'anat',f'{sub}_rec-pydeface_space-MNI152NLin2009cAsym_res-2_label-GM_probseg.nii.gz')\n",
    "    anat_wm_fn = os.path.join(indir,sub,'anat',f'{sub}_rec-pydeface_space-MNI152NLin2009cAsym_res-2_label-WM_probseg.nii.gz')\n",
    "    anat_csf_fn = os.path.join(indir,sub,'anat',f'{sub}_rec-pydeface_space-MNI152NLin2009cAsym_res-2_label-CSF_probseg.nii.gz')\n",
    "    conf_fn = os.path.join(indir,sub,sess_name,'func',f'{sub}_{sess_name}_task-6cat_run-01_desc-confounds_timeseries.tsv')\n",
    "    events_fn = f'../Data/things/ds004192/{sub}/{sess_name}/func/{sub}_{sess_name}_task-6cat_run-{r:02d}_events.tsv'\n",
    "\n",
    "    assert os.path.exists(epi_fn), 'epi_fn does not exist'\n",
    "    assert os.path.exists(anat_fn), 'anat_fn does not exist'\n",
    "    assert os.path.exists(anat_gm_fn), 'anat_gm_fn does not exist'\n",
    "    assert os.path.exists(anat_wm_fn), 'anat_wm_fn does not exist'\n",
    "    assert os.path.exists(anat_csf_fn), 'anat_csf_fn does not exist'\n",
    "    assert os.path.exists(conf_fn), f'conf_fn does not exist:\\n{conf_fn}'\n",
    "    assert os.path.exists(events_fn), f'events_fn does not exist:\\n{events_fn}'\n",
    "\n",
    "\n",
    "    func_imgs.append(epi_fn)\n",
    "    events_tsv.append(events_fn)\n",
    "    confounds_tsv.append(conf_fn)"
   ]
  },
  {
   "cell_type": "code",
   "execution_count": 29,
   "id": "22f68cf4-9fd3-4f17-9ebd-db9124abe108",
   "metadata": {},
   "outputs": [],
   "source": [
    "first_level_model = FirstLevelModel(\n",
    "    t_r=1.5,                   # replace with your TR\n",
    "    slice_time_ref=0.5,        # reference slice (0–1)\n",
    "    hrf_model='spm',           # canonical SPM HRF\n",
    "    drift_model='cosine',\n",
    "    high_pass=0.01,            # cutoff (Hz)\n",
    "    noise_model='ar1',\n",
    "    smoothing_fwhm=6.0,        # in mm\n",
    "    verbose=1)"
   ]
  },
  {
   "cell_type": "code",
   "execution_count": 46,
   "id": "e3fb2db6-65bd-4709-a03a-61cb6215634a",
   "metadata": {},
   "outputs": [
    {
     "data": {
      "text/plain": [
       "array(['bodyparts', 'words', 'scrambled', 'faces', 'scenes', 'objects'],\n",
       "      dtype=object)"
      ]
     },
     "execution_count": 46,
     "metadata": {},
     "output_type": "execute_result"
    }
   ],
   "source": [
    "pd.unique(pd.read_csv(events_tsv[0],delimiter='\\t')['trial_type'])"
   ]
  },
  {
   "cell_type": "code",
   "execution_count": 57,
   "id": "4922f179-203e-4b6e-a435-fb58a7011387",
   "metadata": {},
   "outputs": [],
   "source": [
    "from nilearn import plotting\n",
    "from nilearn.glm.first_level import FirstLevelModel"
   ]
  },
  {
   "cell_type": "code",
   "execution_count": 38,
   "id": "5d2197f7-06d0-4d91-b4ec-531d1d8e3eed",
   "metadata": {},
   "outputs": [
    {
     "name": "stderr",
     "output_type": "stream",
     "text": [
      "Computing run 1 out of 4 runs (go take a coffee, a big one)\n",
      "Computing run 2 out of 4 runs (39 seconds remaining)\n",
      "Computing run 3 out of 4 runs (26 seconds remaining)\n",
      "Computing run 4 out of 4 runs (13 seconds remaining)\n",
      "\n",
      "Computation of 4 runs done in 52.75923943519592 seconds.\n",
      "\n"
     ]
    }
   ],
   "source": [
    "first_level_model = first_level_model.fit(\n",
    "    run_imgs=func_imgs,\n",
    "    events=events_tsv,\n",
    "    confounds=None)"
   ]
  },
  {
   "cell_type": "code",
   "execution_count": 47,
   "id": "f452e65d-14d0-4303-8868-75a028047937",
   "metadata": {},
   "outputs": [],
   "source": [
    "contrast_def = {\n",
    "    'faces': 5,               # weight for faces\n",
    "    'bodyparts': -1,           # combined weight for all others\n",
    "    'scenes': -1,\n",
    "    'objects': -1,\n",
    "    'words': -1,\n",
    "}"
   ]
  },
  {
   "cell_type": "code",
   "execution_count": 51,
   "id": "2efcf63e-f8de-4ccb-ba0a-7f7f83d5e38d",
   "metadata": {},
   "outputs": [
    {
     "name": "stdout",
     "output_type": "stream",
     "text": [
      "Index(['bodyparts', 'faces', 'objects', 'scenes', 'scrambled', 'words',\n",
      "       'drift_1', 'drift_2', 'drift_3', 'drift_4', 'drift_5', 'constant'],\n",
      "      dtype='object')\n"
     ]
    }
   ],
   "source": [
    "dm = first_level_model.design_matrices_[0]\n",
    "print(dm.columns) "
   ]
  },
  {
   "cell_type": "code",
   "execution_count": 54,
   "id": "7ed72ea6-068e-4b66-a305-7c4aee9bcda4",
   "metadata": {},
   "outputs": [],
   "source": [
    "contrast_vec = np.array([0,4,-1,-1,-1,-1,0,0,0,0])"
   ]
  },
  {
   "cell_type": "code",
   "execution_count": 64,
   "id": "25b33021-6ba9-4e36-9dce-21b0cb6650b0",
   "metadata": {},
   "outputs": [
    {
     "name": "stderr",
     "output_type": "stream",
     "text": [
      "<ipython-input-64-a7a9db74a61c>:1: UserWarning: One contrast given, assuming it for all 4 runs\n",
      "  z_map = first_level_model.compute_contrast(\n",
      "/home/aglinska/anaconda3/lib/python3.8/site-packages/nilearn/glm/contrasts.py:108: UserWarning: t contrasts should be of length P=12, but it has length 10. The rest of the contrast was padded with zeros.\n",
      "  reg = regression_result[label_].Tcontrast(con_val)\n"
     ]
    }
   ],
   "source": [
    "z_map = first_level_model.compute_contrast(\n",
    "    contrast_vec, \n",
    "    output_type='z_score'\n",
    ")"
   ]
  },
  {
   "cell_type": "code",
   "execution_count": 65,
   "id": "c34d73be-4021-49a8-ac55-1ef9a75c37c3",
   "metadata": {},
   "outputs": [
    {
     "data": {
      "image/png": "[encoded data removed]",
      "text/plain": [
       "<Figure size 525.6x252 with 5 Axes>"
      ]
     },
     "metadata": {},
     "output_type": "display_data"
    }
   ],
   "source": [
    "display = plotting.plot_stat_map(\n",
    "    z_map,\n",
    "    threshold=3.0,\n",
    "    display_mode='ortho',\n",
    "    cut_coords=(0, -52, 8),\n",
    "    title='Faces > Others (all runs)'\n",
    ")\n",
    "plotting.show()"
   ]
  },
  {
   "cell_type": "code",
   "execution_count": 66,
   "id": "90bdd889-50c5-4f2c-a02f-fa29206aa76a",
   "metadata": {},
   "outputs": [],
   "source": [
    "z_map.to_filename('../Data/things/GLM/sub-01-face.nii')"
   ]
  },
  {
   "cell_type": "code",
   "execution_count": null,
   "id": "ead2986c-3a02-4307-b399-36a1cbf11474",
   "metadata": {},
   "outputs": [],
   "source": []
  }
 ],
 "metadata": {
  "kernelspec": {
   "display_name": "Python 3",
   "language": "python",
   "name": "python3"
  },
  "language_info": {
   "codemirror_mode": {
    "name": "ipython",
    "version": 3
   },
   "file_extension": ".py",
   "mimetype": "text/x-python",
   "name": "python",
   "nbconvert_exporter": "python",
   "pygments_lexer": "ipython3",
   "version": "3.8.8"
  }
 },
 "nbformat": 4,
 "nbformat_minor": 5
}
