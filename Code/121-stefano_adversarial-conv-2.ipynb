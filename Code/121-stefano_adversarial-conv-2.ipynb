{
 "cells": [
  {
   "cell_type": "code",
   "execution_count": 1,
   "id": "69fa8213-8a59-4597-a787-4cc8af236f0b",
   "metadata": {},
   "outputs": [],
   "source": [
    "# This code implements an adversarial network that uses coordinate information and a normalized cross-correlation loss"
   ]
  },
  {
   "cell_type": "code",
   "execution_count": 2,
   "id": "b61973cb-50a5-4349-9c7a-d44a5c0aee12",
   "metadata": {},
   "outputs": [
    {
     "name": "stdout",
     "output_type": "stream",
     "text": [
      "Sat Apr 26 09:58:55 PM EDT 2025\n"
     ]
    }
   ],
   "source": [
    "!date"
   ]
  },
  {
   "cell_type": "code",
   "execution_count": 3,
   "id": "10f177c3-ced3-461e-bc5b-70a9a217c1b5",
   "metadata": {
    "scrolled": true
   },
   "outputs": [
    {
     "data": {
      "text/plain": [
       "'/projects/sccn/andromeda1/aglinska/BC-ABCD-denoise/Code'"
      ]
     },
     "execution_count": 3,
     "metadata": {},
     "output_type": "execute_result"
    }
   ],
   "source": [
    "pwd"
   ]
  },
  {
   "cell_type": "code",
   "execution_count": 58,
   "id": "7d5214e2-8e03-4f0d-a124-82694934feb2",
   "metadata": {},
   "outputs": [
    {
     "name": "stdout",
     "output_type": "stream",
     "text": [
      "~/anaconda3/bin/python\n"
     ]
    }
   ],
   "source": [
    "!which python"
   ]
  },
  {
   "cell_type": "code",
   "execution_count": 4,
   "id": "82cb2038-8e9a-40d4-abfc-31442b8f05d7",
   "metadata": {
    "scrolled": true
   },
   "outputs": [
    {
     "name": "stdout",
     "output_type": "stream",
     "text": [
      "CPU times: user 1.46 s, sys: 426 ms, total: 1.88 s\n",
      "Wall time: 2.68 s\n"
     ]
    }
   ],
   "source": [
    "%%time\n",
    "import nibabel as nib\n",
    "import os\n",
    "import numpy as np\n",
    "import matplotlib.pyplot as plt\n",
    "import nibabel.processing as nibp\n",
    "from scipy import signal\n",
    "from itertools import combinations_with_replacement\n",
    "from numpy import savetxt\n",
    "import nibabel as nib\n",
    "import math\n",
    "from numpy import random\n",
    "import sklearn.preprocessing  \n",
    "import matplotlib.pyplot as plt \n",
    "from sklearn.metrics import mean_squared_error\n",
    "import torch\n",
    "from torch import nn\n",
    "from torch.nn import functional as F\n",
    "from torch import Tensor\n",
    "from typing import List, Callable, Union, Any, TypeVar, Tuple\n",
    "import torch.optim as optim\n",
    "from sklearn.decomposition import PCA\n",
    "from sklearn import linear_model\n",
    "import sys\n",
    "from IPython import display\n",
    "from datetime import datetime\n",
    "from sklearn.mixture import GaussianMixture\n"
   ]
  },
  {
   "cell_type": "code",
   "execution_count": 5,
   "id": "1b1c7757-4f56-4c54-9779-19bfe72552ef",
   "metadata": {},
   "outputs": [],
   "source": [
    "# !pip install tqdm"
   ]
  },
  {
   "cell_type": "code",
   "execution_count": 6,
   "id": "88d8d742-d632-4779-baad-5482226ef667",
   "metadata": {},
   "outputs": [],
   "source": [
    "import pickle\n",
    "def load_pickle(filename):\n",
    "    with open(filename,\"rb\") as filehandler:\n",
    "        dump = pickle.load(filehandler)\n",
    "    return dump"
   ]
  },
  {
   "cell_type": "code",
   "execution_count": 7,
   "id": "3d52a55b-f7e5-463a-a050-023ee3ce443b",
   "metadata": {},
   "outputs": [
    {
     "name": "stdout",
     "output_type": "stream",
     "text": [
      "CPU times: user 368 ms, sys: 69.3 ms, total: 438 ms\n",
      "Wall time: 919 ms\n"
     ]
    }
   ],
   "source": [
    "%%time\n",
    "import ants # ANTSpy in the toolbox for manipulating MRI files \n",
    "from tqdm import tqdm # Easy progress bars\n",
    "import seaborn as sns"
   ]
  },
  {
   "cell_type": "code",
   "execution_count": 8,
   "id": "1cc435f3-13f2-4260-944a-7fc5c7837d8a",
   "metadata": {},
   "outputs": [],
   "source": [
    "import models\n",
    "import utils\n",
    "import datasets\n",
    "import dashboard"
   ]
  },
  {
   "cell_type": "code",
   "execution_count": 9,
   "id": "63d488e2-05c3-4119-aac4-e3c292947234",
   "metadata": {},
   "outputs": [],
   "source": [
    "import importlib"
   ]
  },
  {
   "cell_type": "code",
   "execution_count": 10,
   "id": "5dace1e9-b5b8-494b-9575-07b8376f2a52",
   "metadata": {},
   "outputs": [
    {
     "data": {
      "text/plain": [
       "<module 'dashboard' from '/projects/sccn/andromeda1/aglinska/BC-ABCD-denoise/Code/dashboard.py'>"
      ]
     },
     "execution_count": 10,
     "metadata": {},
     "output_type": "execute_result"
    }
   ],
   "source": [
    "importlib.reload(models)\n",
    "importlib.reload(utils)\n",
    "importlib.reload(datasets)\n",
    "importlib.reload(dashboard)"
   ]
  },
  {
   "cell_type": "markdown",
   "id": "a190f0e0-f1c5-4a47-b24a-55b454e5578c",
   "metadata": {},
   "source": [
    "## Loading the subject specific data"
   ]
  },
  {
   "cell_type": "code",
   "execution_count": 11,
   "id": "ecedf4f5-095c-41a4-91c6-a9afdb411cff",
   "metadata": {},
   "outputs": [
    {
     "name": "stdout",
     "output_type": "stream",
     "text": [
      "14/14\n"
     ]
    }
   ],
   "source": [
    "# Specify Data Paths \n",
    "indir = '../Data/StudyForrest/fmriprep/'\n",
    "subs_orig = [s for s in os.listdir(indir) if all((s.startswith('sub'),not s.endswith('.html')))]\n",
    "n_orig = len(subs_orig)\n",
    "epi_fn = os.path.join(indir,'{sub}/ses-localizer/func/{sub}_ses-localizer_task-objectcategories_run-{r}_bold_space-MNI152NLin2009cAsym_preproc.nii.gz')\n",
    "cf_fn = os.path.join(indir,'mask_roni.nii')\n",
    "gm_fn = os.path.join(indir,'mask_roi.nii')\n",
    "brain_mask = os.path.join(indir,'{sub}/ses-localizer/func/{sub}_ses-localizer_task-objectcategories_run-{r}_bold_space-MNI152NLin2009cAsym_brainmask.nii.gz')\n",
    "\n",
    "subs = [sub for sub in subs_orig if all(( \n",
    "    os.path.exists(epi_fn.format(sub=sub,r=1)),\n",
    "    os.path.exists(epi_fn.format(sub=sub,r=2)),\n",
    "    os.path.exists(cf_fn.format(sub=sub)),\n",
    "    os.path.exists(gm_fn.format(sub=sub)),\n",
    "    os.path.exists(brain_mask.format(sub=sub,r=1)),\n",
    "    ))]\n",
    "\n",
    "subs.sort()\n",
    "print(f'{len(subs)}/{len(subs_orig)}')"
   ]
  },
  {
   "cell_type": "markdown",
   "id": "81ae7d08-232e-4f40-8bf4-9a5887638c93",
   "metadata": {},
   "source": [
    "#### Specify the subject and the run to use"
   ]
  },
  {
   "cell_type": "code",
   "execution_count": 12,
   "id": "b5b2ba1c-8953-4fc1-af4d-518f80a7c246",
   "metadata": {
    "editable": true,
    "slideshow": {
     "slide_type": ""
    },
    "tags": [
     "parameters"
    ]
   },
   "outputs": [],
   "source": [
    "# Parameters for looping. \n",
    "s = 1 # index for subject (out of 14)\n",
    "r = 2 # index for run (out of 4)"
   ]
  },
  {
   "cell_type": "code",
   "execution_count": 13,
   "id": "71f0241d-6316-4f01-96c1-c599cf0ab35f",
   "metadata": {
    "editable": true,
    "slideshow": {
     "slide_type": ""
    },
    "tags": []
   },
   "outputs": [],
   "source": [
    "sub = subs[int(s)]\n",
    "rep = 0 # Optional if doing multiple repetitions\n",
    "analysis_name = 'test' # This is be appended to the saved output files "
   ]
  },
  {
   "cell_type": "code",
   "execution_count": 14,
   "id": "dc875b05-9fc1-4a7c-bbcf-3b49224f2734",
   "metadata": {
    "editable": true,
    "slideshow": {
     "slide_type": ""
    },
    "tags": []
   },
   "outputs": [],
   "source": [
    "# load data\n",
    "epi,gm,cf,brain,epi_flat,gm_flat,cf_flat,gm_coords,cf_coords = utils.gather_niftis_coords(sub,epi_fn,cf_fn,gm_fn,brain_mask,r)"
   ]
  },
  {
   "cell_type": "code",
   "execution_count": 15,
   "id": "5789ceba-8d12-470c-9b3a-68315b48d4b4",
   "metadata": {},
   "outputs": [
    {
     "data": {
      "text/plain": [
       "44212"
      ]
     },
     "execution_count": 15,
     "metadata": {},
     "output_type": "execute_result"
    }
   ],
   "source": [
    "len(gm_coords)"
   ]
  },
  {
   "cell_type": "code",
   "execution_count": 16,
   "id": "771f9966-825a-4cfc-a449-fc848ef19397",
   "metadata": {},
   "outputs": [
    {
     "data": {
      "text/plain": [
       "(9519, 44212)"
      ]
     },
     "execution_count": 16,
     "metadata": {},
     "output_type": "execute_result"
    }
   ],
   "source": [
    "# How many voxels in RONI and ROI\n",
    "(cf.numpy()==1).sum(),(gm.numpy()==1).sum()"
   ]
  },
  {
   "cell_type": "code",
   "execution_count": 17,
   "id": "3a205e58-c61a-4b32-bfd2-e26d03c2af71",
   "metadata": {},
   "outputs": [
    {
     "name": "stdout",
     "output_type": "stream",
     "text": [
      "(300300, 156)\n",
      "44212\n",
      "9519\n"
     ]
    }
   ],
   "source": [
    "print(epi_flat.shape)\n",
    "print(sum(gm_flat==1))\n",
    "print(sum(cf_flat==1))"
   ]
  },
  {
   "cell_type": "code",
   "execution_count": 18,
   "id": "2524a412-4d77-4b0a-8d7c-efad41b7f413",
   "metadata": {},
   "outputs": [],
   "source": [
    "func_gm = epi_flat[gm_flat==1,:] # Data that will be used as the ROI data\n",
    "func_cf = epi_flat[cf_flat==1,:] # Data that will be used as the RONI data"
   ]
  },
  {
   "cell_type": "code",
   "execution_count": 19,
   "id": "5fd8334a-00c5-4b8e-bc75-5299e6df6356",
   "metadata": {},
   "outputs": [
    {
     "data": {
      "text/plain": [
       "44212"
      ]
     },
     "execution_count": 19,
     "metadata": {},
     "output_type": "execute_result"
    }
   ],
   "source": [
    "len(func_gm)"
   ]
  },
  {
   "cell_type": "code",
   "execution_count": 20,
   "id": "07e4c53e-c616-46a1-9844-db931dc278bf",
   "metadata": {},
   "outputs": [
    {
     "data": {
      "text/plain": [
       "(62389, 156)"
      ]
     },
     "execution_count": 20,
     "metadata": {},
     "output_type": "execute_result"
    }
   ],
   "source": [
    "# Train deepcorr with strict ROI and RONI masks. But after that, apply it to the whole brain \n",
    "brain_flat = brain.numpy().flatten()>.5 \n",
    "brain_gm = epi_flat[brain_flat,:]\n",
    "brain_gm = utils.remove_std0(brain_gm)\n",
    "brain_gm.shape"
   ]
  },
  {
   "cell_type": "code",
   "execution_count": 21,
   "id": "bd9df839-e73e-4b30-9919-317f2539f8b2",
   "metadata": {},
   "outputs": [
    {
     "data": {
      "text/plain": [
       "Text(0.5, 1.0, 'ffa activity + regs\\nffa corr w/ face: 0.67\\nffa corr w/ place: -0.19')"
      ]
     },
     "execution_count": 21,
     "metadata": {},
     "output_type": "execute_result"
    },
    {
     "data": {
      "image/png": "[encoded data removed]",
      "text/plain": [
       "<Figure size 1080x360 with 1 Axes>"
      ]
     },
     "metadata": {
      "needs_background": "light"
     },
     "output_type": "display_data"
    }
   ],
   "source": [
    "# Task regressors\n",
    "from nilearn.glm.first_level import make_first_level_design_matrix\n",
    "import pandas as pd\n",
    "\n",
    "events_fn = f'../Data/StudyForrest/events/{sub}_ses-localizer_task-objectcategories_run-{r}_events.tsv'\n",
    "events = pd.read_csv(events_fn,delimiter='\\t')\n",
    "\n",
    "t_r = 2.0 \n",
    "n_scans = epi_flat.shape[1]  # the acquisition comprises 128 scans\n",
    "frame_times = (np.arange(n_scans) * t_r)\n",
    "\n",
    "design_matrix = make_first_level_design_matrix(frame_times,events,drift_model=\"polynomial\",drift_order=3,hrf_model=\"SPM\") #\n",
    "\n",
    "face_reg = design_matrix[['face','body']].values.sum(axis=1)\n",
    "place_reg = design_matrix[['house', 'object', 'scene', 'scramble']].values.sum(axis=1)\n",
    "\n",
    "ffa_im = ants.image_read(f'../Data/StudyForrest/ROIs/rFFA_final_mask_{sub}_bin.nii.gz')\n",
    "func_ffa = func_gm[ffa_im.numpy().flatten()[gm_flat==1]==1,:]\n",
    "ffa_scaler = utils.Scaler(func_ffa)\n",
    "ffa_list = ffa_scaler.transform(func_ffa)\n",
    "ffa_coords = torch.from_numpy(gm_coords[ffa_im.numpy().flatten()[gm_flat==1]==1,:])\n",
    "\n",
    "plt.figure(figsize=(15,5))\n",
    "plt.plot(ffa_list[:,:].mean(axis=0))\n",
    "plt.plot(func_cf.mean(axis=0)-func_cf.mean(axis=0).mean())\n",
    "plt.plot(face_reg,alpha=.5)\n",
    "plt.plot(place_reg,alpha=.5)\n",
    "plt.title('ffa activity + regs\\n'+'ffa corr w/ face: {:.2f}\\nffa corr w/ place: {:.2f}'.format(np.corrcoef(ffa_list[:,:].mean(axis=0),face_reg)[0,1],np.corrcoef(ffa_list[:,:].mean(axis=0),place_reg)[0,1]))"
   ]
  },
  {
   "cell_type": "code",
   "execution_count": 22,
   "id": "5d3708e5-4550-4633-9884-dd629b2ed0df",
   "metadata": {},
   "outputs": [
    {
     "data": {
      "text/plain": [
       "(58, 156)"
      ]
     },
     "execution_count": 22,
     "metadata": {},
     "output_type": "execute_result"
    }
   ],
   "source": [
    "ffa_list.shape"
   ]
  },
  {
   "cell_type": "code",
   "execution_count": null,
   "id": "3cc7a08d-d56e-4068-a5d8-922f18e1d0e9",
   "metadata": {},
   "outputs": [],
   "source": []
  },
  {
   "cell_type": "code",
   "execution_count": null,
   "id": "f5fa600a-12b6-4ea5-9ba3-8661793cb785",
   "metadata": {},
   "outputs": [],
   "source": []
  },
  {
   "cell_type": "code",
   "execution_count": 23,
   "id": "4fef682d-4d40-4bfd-8ce8-ae28577d186f",
   "metadata": {},
   "outputs": [
    {
     "data": {
      "text/plain": [
       "(0.6265776697426783, -0.20437710027115752)"
      ]
     },
     "execution_count": 23,
     "metadata": {},
     "output_type": "execute_result"
    }
   ],
   "source": [
    "# Correlation between FFA AVG and regressors before denoising\n",
    "(np.corrcoef(func_ffa.mean(axis=0),face_reg)[0,1],\n",
    "np.corrcoef(func_ffa.mean(axis=0),place_reg)[0,1],)"
   ]
  },
  {
   "cell_type": "code",
   "execution_count": 24,
   "id": "809ef934-4ce5-45a3-9a17-95d6c0794e8c",
   "metadata": {},
   "outputs": [
    {
     "data": {
      "text/plain": [
       "(0.23765441692530917, -0.0685568901420259)"
      ]
     },
     "execution_count": 24,
     "metadata": {},
     "output_type": "execute_result"
    }
   ],
   "source": [
    "# Same thing, but correlate with every voxel first and then average the correlations. \n",
    "(np.array([np.corrcoef(func_ffa[v,:],face_reg)[0,1] for v in range(func_ffa.shape[0])]).mean(),\n",
    "np.array([np.corrcoef(func_ffa[v,:],place_reg)[0,1] for v in range(func_ffa.shape[0])]).mean(),)"
   ]
  },
  {
   "cell_type": "code",
   "execution_count": 25,
   "id": "17341fe2-1724-485b-87a5-7342c69b1e47",
   "metadata": {},
   "outputs": [
    {
     "data": {
      "text/plain": [
       "<matplotlib.legend.Legend at 0x7ffed01a92b0>"
      ]
     },
     "execution_count": 25,
     "metadata": {},
     "output_type": "execute_result"
    },
    {
     "data": {
      "image/png": "[encoded data removed]",
      "text/plain": [
       "<Figure size 1440x360 with 3 Axes>"
      ]
     },
     "metadata": {
      "needs_background": "light"
     },
     "output_type": "display_data"
    }
   ],
   "source": [
    "# Plot first voxel in ROI, RONI and both\n",
    "plt.figure(figsize=(20,5))\n",
    "plt.subplot(1,3,1);plt.plot(func_gm[0,:])\n",
    "plt.subplot(1,3,2);plt.plot(func_cf[0,:])\n",
    "plt.subplot(1,3,3);plt.plot(func_gm[0,:]);plt.plot(func_cf[0,:]);plt.legend(['ROI','RONI'])"
   ]
  },
  {
   "cell_type": "code",
   "execution_count": 26,
   "id": "4f674588-2009-4c48-87e6-35ef35ebafd3",
   "metadata": {},
   "outputs": [
    {
     "name": "stdout",
     "output_type": "stream",
     "text": [
      "(44212, 156)\n",
      "(9519, 156)\n"
     ]
    }
   ],
   "source": [
    "print(func_gm.shape)\n",
    "print(func_cf.shape)"
   ]
  },
  {
   "cell_type": "code",
   "execution_count": 27,
   "id": "857923df-6824-4ba3-a95c-4638ba6e93e3",
   "metadata": {},
   "outputs": [
    {
     "name": "stdout",
     "output_type": "stream",
     "text": [
      "(40867, 156)\n",
      "(9096, 156)\n"
     ]
    }
   ],
   "source": [
    "#Normalization of Data, remove voxels with std of 0 so it doesnt crash CVAE (from Yu Zhu's code)\n",
    "func_gm, gm_coords = utils.remove_std0_coords(func_gm,gm_coords)\n",
    "# func_gm = utils.remove_std0(func_gm)\n",
    "func_cf = utils.remove_std0(func_cf)\n",
    "print(func_gm.shape)\n",
    "print(func_cf.shape)"
   ]
  },
  {
   "cell_type": "code",
   "execution_count": 28,
   "id": "0bb08d1a-321a-4bc6-baee-7f0eaeb1e7ab",
   "metadata": {},
   "outputs": [
    {
     "data": {
      "text/plain": [
       "40867"
      ]
     },
     "execution_count": 28,
     "metadata": {},
     "output_type": "execute_result"
    }
   ],
   "source": [
    "len(gm_coords)"
   ]
  },
  {
   "cell_type": "code",
   "execution_count": 29,
   "id": "f895b2a2-02d6-4785-96ec-4fe705beb1ca",
   "metadata": {},
   "outputs": [
    {
     "name": "stdout",
     "output_type": "stream",
     "text": [
      "(40867, 156)\n",
      "(9096, 156)\n"
     ]
    }
   ],
   "source": [
    "# Apply scaler to ROI and RONI\n",
    "obs_scale = utils.Scaler(func_gm)\n",
    "obs_list = obs_scale.transform(func_gm)\n",
    "print(obs_list.shape)\n",
    "noi_scale = utils.Scaler(func_cf)\n",
    "noi_list = noi_scale.transform(func_cf)\n",
    "print(noi_list.shape)"
   ]
  },
  {
   "cell_type": "code",
   "execution_count": 30,
   "id": "2fc330f2-7ceb-4cd2-bd45-16cfd66168b6",
   "metadata": {},
   "outputs": [],
   "source": [
    "obs_aug = np.concatenate((obs_list,np.repeat(ffa_list,100,axis=0)),axis=0)"
   ]
  },
  {
   "cell_type": "code",
   "execution_count": 31,
   "id": "68c7dc28-baf6-4b21-bc83-20f8e617a2d3",
   "metadata": {},
   "outputs": [
    {
     "name": "stdout",
     "output_type": "stream",
     "text": [
      "(40867, 3)\n",
      "(40867, 156)\n",
      "(9096, 156)\n"
     ]
    }
   ],
   "source": [
    "print(gm_coords.shape)\n",
    "print(obs_list.shape)\n",
    "print(noi_list.shape)"
   ]
  },
  {
   "cell_type": "code",
   "execution_count": 32,
   "id": "238b7c74-ad90-4455-afe0-c20b61d066ff",
   "metadata": {},
   "outputs": [],
   "source": [
    "gm_coords = gm_coords[obs_list.std(axis=-1)!=0.0,:]\n",
    "obs_list = obs_list[obs_list.std(axis=-1)!=0.0,:]\n",
    "noi_list = noi_list[noi_list.std(axis=-1)!=0.0,:]"
   ]
  },
  {
   "cell_type": "code",
   "execution_count": 33,
   "id": "fdc68f69-0750-47b7-9e9f-ba6673f039ae",
   "metadata": {},
   "outputs": [
    {
     "name": "stdout",
     "output_type": "stream",
     "text": [
      "(40867, 3)\n",
      "(40867, 156)\n",
      "(9096, 156)\n"
     ]
    }
   ],
   "source": [
    "print(gm_coords.shape)\n",
    "print(obs_list.shape)\n",
    "print(noi_list.shape)"
   ]
  },
  {
   "cell_type": "code",
   "execution_count": 34,
   "id": "d72940a8-4c14-49f6-810e-4ad86bca29f1",
   "metadata": {},
   "outputs": [
    {
     "data": {
      "text/plain": [
       "40867"
      ]
     },
     "execution_count": 34,
     "metadata": {},
     "output_type": "execute_result"
    }
   ],
   "source": [
    "len(obs_list)"
   ]
  },
  {
   "cell_type": "code",
   "execution_count": 35,
   "id": "a5c98929-546a-4f24-8cbc-864d64358c1a",
   "metadata": {},
   "outputs": [
    {
     "data": {
      "text/plain": [
       "46667"
      ]
     },
     "execution_count": 35,
     "metadata": {},
     "output_type": "execute_result"
    }
   ],
   "source": [
    "len(obs_aug)"
   ]
  },
  {
   "cell_type": "code",
   "execution_count": 36,
   "id": "8477c142-bbd5-4d6c-84d6-728934c9509c",
   "metadata": {},
   "outputs": [
    {
     "name": "stdout",
     "output_type": "stream",
     "text": [
      "(40867, 156)\n",
      "(9096, 156)\n",
      "(40867, 156)\n",
      "(40867, 156)\n"
     ]
    }
   ],
   "source": [
    "print(obs_list.shape)\n",
    "print(noi_list.shape)\n",
    "if obs_list.shape[0]>noi_list.shape[0]:\n",
    "    n_pad = obs_list.shape[0]-noi_list.shape[0]\n",
    "    pad_idx = np.random.randint(low=0,high=noi_list.shape[0],size=n_pad)\n",
    "    noi_list = np.concatenate([noi_list,np.array([noi_list[i,:] for i in pad_idx])])\n",
    "    print(obs_list.shape)\n",
    "    print(noi_list.shape)"
   ]
  },
  {
   "cell_type": "code",
   "execution_count": 37,
   "id": "1ed2a0ac-c9a4-412f-9252-4602f24c47b0",
   "metadata": {},
   "outputs": [],
   "source": [
    "#pca = PCA(n_components = 20)"
   ]
  },
  {
   "cell_type": "code",
   "execution_count": 38,
   "id": "4a98115c-c01e-4f6c-bfec-09521b4480c8",
   "metadata": {},
   "outputs": [],
   "source": [
    "#pca.fit(obs_list)"
   ]
  },
  {
   "cell_type": "code",
   "execution_count": 39,
   "id": "32beb068-2edc-4996-97c1-a7ec1dc56005",
   "metadata": {},
   "outputs": [],
   "source": [
    "#obs_dimred = pca.fit_transform(obs_list)"
   ]
  },
  {
   "cell_type": "code",
   "execution_count": 40,
   "id": "3bb14eca-7762-42d9-95db-54f6a93a2ea0",
   "metadata": {},
   "outputs": [],
   "source": [
    "#obs_dimred.shape"
   ]
  },
  {
   "cell_type": "code",
   "execution_count": 41,
   "id": "e52c3da3-178e-479c-b88e-2d040c17dcc9",
   "metadata": {},
   "outputs": [],
   "source": [
    "# %%time\n",
    "# # Fit GMM\n",
    "# gmm = GaussianMixture(n_components=20)\n",
    "# gmm.fit(obs_dimred)"
   ]
  },
  {
   "cell_type": "code",
   "execution_count": 42,
   "id": "b3dcac74-f101-44f7-961e-65e977812bc3",
   "metadata": {},
   "outputs": [],
   "source": [
    "#log_prob = gmm.score_samples(pca.transform(obs_list[0:2]).reshape(2, -1))"
   ]
  },
  {
   "cell_type": "code",
   "execution_count": 43,
   "id": "9802cc84-0fd6-400a-bba2-b22368b43328",
   "metadata": {},
   "outputs": [],
   "source": [
    "#print(-log_prob)"
   ]
  },
  {
   "cell_type": "code",
   "execution_count": 44,
   "id": "195eb4e8-6fc6-46b6-a1b8-dea480fea392",
   "metadata": {},
   "outputs": [
    {
     "data": {
      "text/plain": [
       "(array([8.900000e+01, 6.805000e+03, 8.713270e+05, 4.225148e+06,\n",
       "        1.250808e+06, 2.092800e+04, 1.210000e+02, 0.000000e+00,\n",
       "        4.000000e+00, 2.200000e+01]),\n",
       " array([-6.8895464, -4.9556017, -3.021657 , -1.0877123,  0.8462324,\n",
       "         2.780177 ,  4.714122 ,  6.6480665,  8.582011 , 10.515956 ,\n",
       "        12.449901 ], dtype=float32),\n",
       " <BarContainer object of 10 artists>)"
      ]
     },
     "execution_count": 44,
     "metadata": {},
     "output_type": "execute_result"
    },
    {
     "data": {
      "image/png": "[encoded data removed]",
      "text/plain": [
       "<Figure size 1080x360 with 2 Axes>"
      ]
     },
     "metadata": {
      "needs_background": "light"
     },
     "output_type": "display_data"
    }
   ],
   "source": [
    "# Plot histograms for ROI and RONI\n",
    "plt.figure(figsize=(15,5))\n",
    "plt.subplot(1,2,1)\n",
    "plt.hist(obs_list.flatten())\n",
    "plt.subplot(1,2,2)\n",
    "plt.hist(noi_list.flatten())"
   ]
  },
  {
   "cell_type": "code",
   "execution_count": 45,
   "id": "f7236aa5-ae6e-4e7d-9514-ad0476800356",
   "metadata": {},
   "outputs": [],
   "source": [
    "min_obs_list = obs_list.min()\n",
    "max_obs_list = obs_list.max()\n",
    "\n",
    "min_noi_list = noi_list.min()\n",
    "max_noi_list = noi_list.max()"
   ]
  },
  {
   "cell_type": "code",
   "execution_count": 46,
   "id": "e98a4bf7-479c-4ac6-a3e7-235874b87f48",
   "metadata": {},
   "outputs": [],
   "source": [
    "# Optiomal, additionaly norm the inputs to be 0-1\n",
    "do_norm = False\n",
    "if do_norm==True:\n",
    "    obs_list = utils.norm(obs_list)\n",
    "    noi_list = utils.norm(noi_list)"
   ]
  },
  {
   "cell_type": "code",
   "execution_count": 47,
   "id": "2c17addd-41e2-445f-a0eb-9edd04c7bfaa",
   "metadata": {},
   "outputs": [],
   "source": [
    "from nilearn.glm.first_level import make_first_level_design_matrix\n",
    "import pandas as pd\n",
    "\n",
    "events_fn = f'../Data/StudyForrest/events/{sub}_ses-localizer_task-objectcategories_run-{r}_events.tsv'\n",
    "events = pd.read_csv(events_fn,delimiter='\\t')\n",
    "\n",
    "t_r = 2.0 \n",
    "n_scans = epi_flat.shape[1]  # the acquisition comprises 128 scans\n",
    "frame_times = (np.arange(n_scans) * t_r)\n",
    "\n",
    "X1 = make_first_level_design_matrix(frame_times,events,drift_model=\"polynomial\",drift_order=3,hrf_model=\"SPM\") #"
   ]
  },
  {
   "cell_type": "markdown",
   "id": "5aacde47-5da5-45ba-a156-f2aa168f05d9",
   "metadata": {},
   "source": [
    "## Plotting functions"
   ]
  },
  {
   "cell_type": "code",
   "execution_count": 48,
   "id": "5be557fe-242b-428d-ad0d-db5d6f5c6230",
   "metadata": {},
   "outputs": [],
   "source": [
    "def get_betas(ffa_batch):\n",
    "    # Calculates betas for different regressors\n",
    "    Y = ffa_batch\n",
    "    do_norm=True # This is important, incase DeepCor scales the signal, we dont want the betas to be artificailly inflated\n",
    "    if do_norm==True:\n",
    "        Y = Y-Y.mean(axis=1)[:,np.newaxis]\n",
    "        Y = Y/Y.std(axis=1)[:,np.newaxis]\n",
    "    Y = Y.T\n",
    "    X = X1.values # Regressor information \n",
    "    beta = np.linalg.inv(X.T @ X1) @ X1.T @ Y\n",
    "    beta = beta.T\n",
    "    return beta\n",
    "    \n",
    "def get_contrast(ffa_fg):\n",
    "    # Calculates face+body > house+scene+object+scramble\n",
    "    beta = get_betas(ffa_fg).values\n",
    "    contrast_vector = np.array([2,2,-1,-1,-1,-1,0,0,0,0])\n",
    "    contrast_values = beta @ contrast_vector\n",
    "    return contrast_values.mean()\n",
    "\n",
    "def plot_contrast():\n",
    "    plt.figure()\n",
    "    ffa_batch = ffa_list[0:batch_size,:]\n",
    "    ffa_batch = torch.tensor(ffa_batch[:,:]).to(device)\n",
    "    \n",
    "    ffa_tensor = ffa_batch.unsqueeze(1)\n",
    "    coords_tensor = ffa_coords.unsqueeze(2)\n",
    "    coords_tensor = coords_tensor.repeat(1,1,ffa_tensor.shape[2])\n",
    "    observation = torch.cat((ffa_tensor,coords_tensor.to(device)),axis=1)\n",
    "    min_val = torch.min(observation[0,:])\n",
    "    max_val = torch.max(observation[0,:])\n",
    "    observation[0,:] = (observation[0,:]-min_val)/(max_val-min_val)\n",
    "    \n",
    "    signal,noise = model.forward(observation.to(device))\n",
    "    signal = signal.detach().cpu().numpy()[:,:epi.shape[-1]]\n",
    "    noise = noise.detach().cpu().numpy()[:,:epi.shape[-1]]\n",
    "    \n",
    "    conf_pcs = PCA(n_components=5).fit_transform(epi_flat[cf_flat==1,:].transpose())\n",
    "    conf_pcs.shape\n",
    "    \n",
    "    lin_reg = linear_model.LinearRegression()\n",
    "    lin_reg.fit(conf_pcs,ffa_list.transpose());\n",
    "    ffa_compcorr = ffa_list.transpose()-lin_reg.predict(conf_pcs)\n",
    "    ffa_compcorr = ffa_compcorr.transpose()\n",
    "    \n",
    "    contrast_vals = [get_contrast(ffa_list),\n",
    "        get_contrast(ffa_compcorr),\n",
    "        get_contrast(signal),\n",
    "        get_contrast(noise)]\n",
    "    \n",
    "    plt.bar(np.arange(len(contrast_vals)),contrast_vals);\n",
    "    plt.title('face selectivity contrast');\n",
    "    #plt.xticks([0,1,2,3],['RAW','COMPCOR','SIGNAL','NOISE']);\n",
    "    plt.xticks([0,1,2,3],[f'RAW\\n{contrast_vals[0]:.2f}',f'COMPCOR\\n{contrast_vals[1]:.2f}',f'SIGNAL\\n{contrast_vals[2]:.2f}',f'NOISE\\n{contrast_vals[3]:.2f}'])"
   ]
  },
  {
   "cell_type": "code",
   "execution_count": 49,
   "id": "a9180e92-15bc-4152-96fe-0bc8e3de373b",
   "metadata": {},
   "outputs": [],
   "source": [
    " def get_batches(data, batch_size):\n",
    "    n = data.shape[0]\n",
    "    for start in range(0, n, batch_size):\n",
    "        yield data[start: start + batch_size]    "
   ]
  },
  {
   "cell_type": "code",
   "execution_count": 50,
   "id": "03a5eca9-762c-4a46-81fb-6c7df0b2febe",
   "metadata": {
    "editable": true,
    "slideshow": {
     "slide_type": ""
    },
    "tags": []
   },
   "outputs": [],
   "source": [
    "def save_derivs(weights_ofn):\n",
    "    model.eval()\n",
    "    import pickle\n",
    "\n",
    "    ffa_batch = ffa_list[0:batch_size,:]\n",
    "    ffa_batch = torch.tensor(ffa_batch[:,:]).to(device)\n",
    "    \n",
    "    ffa_tensor = ffa_batch.unsqueeze(1)\n",
    "    coords_tensor = ffa_coords.unsqueeze(2)\n",
    "    coords_tensor = coords_tensor.repeat(1,1,ffa_tensor.shape[2])\n",
    "    observation = torch.cat((ffa_tensor,coords_tensor.to(device)),axis=1)\n",
    "    min_val = torch.min(observation[0,:])\n",
    "    max_val = torch.max(observation[0,:])\n",
    "    observation[0,:] = (observation[0,:]-min_val)/(max_val-min_val)\n",
    "    \n",
    "    signal,noise = model.forward(observation.to(device))\n",
    "    \n",
    "    signal = signal.detach().cpu().numpy()[:,:epi.shape[-1]]\n",
    "    noise = noise.detach().cpu().numpy()[:,:epi.shape[-1]]\n",
    "    \n",
    "    conf_pcs = PCA(n_components=5).fit_transform(epi_flat[cf_flat==1,:].transpose())\n",
    "    conf_pcs.shape\n",
    "    \n",
    "    lin_reg = linear_model.LinearRegression()\n",
    "    lin_reg.fit(conf_pcs,ffa_list.transpose());\n",
    "    ffa_compcorr = ffa_list.transpose()-lin_reg.predict(conf_pcs)\n",
    "    ffa_compcorr = ffa_compcorr.transpose()\n",
    "    \n",
    "    contrast_vals = [get_contrast(ffa_list),\n",
    "        get_contrast(ffa_compcorr),\n",
    "        get_contrast(signal),\n",
    "        get_contrast(noise)]\n",
    "    \n",
    "    \n",
    "    corr2face = [np.corrcoef(ffa_list.mean(axis=0),face_reg)[0,1],\n",
    "    np.corrcoef(ffa_compcorr.mean(axis=0),face_reg)[0,1],\n",
    "    np.corrcoef(signal.mean(axis=0),face_reg)[0,1],\n",
    "    np.corrcoef(noise.mean(axis=0),face_reg)[0,1],]\n",
    "    \n",
    "    corr2place = [np.corrcoef(ffa_list.mean(axis=0),place_reg)[0,1],\n",
    "    np.corrcoef(ffa_compcorr.mean(axis=0),place_reg)[0,1],\n",
    "    np.corrcoef(signal.mean(axis=0),place_reg)[0,1],\n",
    "    np.corrcoef(noise.mean(axis=0),place_reg)[0,1],]\n",
    "    \n",
    "    derivs = {\n",
    "        'ffa_list' : ffa_list,\n",
    "        'signal' :signal ,\n",
    "        'noise' : noise,\n",
    "        'conf_pcs' : conf_pcs,\n",
    "        'face_reg' : face_reg,\n",
    "        'place_reg' : place_reg,\n",
    "        'contrast_vals' : contrast_vals,\n",
    "        'corr2face' : corr2face,\n",
    "        'corr2place' : corr2place,}\n",
    "    \n",
    "    derivs_ofn = weights_ofn.replace('.weights','.pickle')\n",
    "    with open(derivs_ofn, 'wb') as handle:\n",
    "        pickle.dump(derivs, handle, protocol=pickle.HIGHEST_PROTOCOL)\n",
    "    print(f'saved as: {derivs_ofn}')\n",
    "\n",
    "   \n",
    "    coords_cast = np.concatenate([gm_coords[:,:,np.newaxis] for _ in range(obs_list.shape[-1])],axis=-1)\n",
    "    use_obs_list = np.concatenate([obs_list[:,np.newaxis,:],coords_cast],axis=1)\n",
    "    \n",
    "    brain_signals=[]\n",
    "    gm_batches = list(get_batches(use_obs_list, batch_size))\n",
    "    \n",
    "    for gm_batch in gm_batches:\n",
    "        gm_batch = torch.from_numpy(gm_batch).float().to(device)\n",
    "        brain_signals.append( model.forward(gm_batch)[0][:,0:epi.shape[-1]].detach().cpu().numpy() )\n",
    "    \n",
    "    brain_arr = np.zeros(epi.numpy().shape)\n",
    "    std0 = epi.numpy().std(axis=-1)<1e-3\n",
    "    brain_arr[(gm.numpy()==1) * (std0==False)] = np.vstack(brain_signals)\n",
    "    denoised_im = epi.new_image_like(brain_arr)\n",
    "    denoised_im.to_filename(weights_ofn.replace('.weights','.nii.gz'))\n",
    "    model.train()"
   ]
  },
  {
   "cell_type": "markdown",
   "id": "f15a905f-c6f0-4520-835c-5a95b5c443aa",
   "metadata": {},
   "source": [
    "# Training the network"
   ]
  },
  {
   "cell_type": "code",
   "execution_count": 51,
   "id": "92128633-c572-442a-8067-5515189bb0a2",
   "metadata": {},
   "outputs": [],
   "source": [
    "n_epochs = 100\n",
    "batch_size = 1024"
   ]
  },
  {
   "cell_type": "markdown",
   "id": "bf5664ff-fb87-4f3f-84a2-d9e6ccb07db7",
   "metadata": {},
   "source": [
    "### Conv denoiser"
   ]
  },
  {
   "cell_type": "code",
   "execution_count": 52,
   "id": "72e6d9ed-1568-4952-907b-20d311efdec5",
   "metadata": {},
   "outputs": [
    {
     "name": "stdout",
     "output_type": "stream",
     "text": [
      "conv-sub-02-R2-T-2025_04_26_21_59_02\n"
     ]
    }
   ],
   "source": [
    "torch.cuda.empty_cache()\n",
    "torch.cuda.init()\n",
    "\n",
    "# Dataset\n",
    "train_inputs = datasets.TrainDataset_coords2conv(obs_list,noi_list,gm_coords)\n",
    "#train_inputs = TrainDataset_coords2conv(obs_list,noi_list,gm_coords)\n",
    "\n",
    "# Dataloader\n",
    "train_in = torch.utils.data.DataLoader(train_inputs, batch_size=batch_size,\n",
    "                                                 shuffle=True, num_workers=1,drop_last=True)\n",
    "\n",
    "# Output folder\n",
    "\n",
    "timestamp = \"{:%Y_%m_%d_%H_%M_%S}\".format(datetime.now())\n",
    "conv_dir = f'conv-{sub}-R{r}-T-{timestamp}' # pretraining dir is {sub}-{run}-{timestamp}\n",
    "print(conv_dir)\n",
    "utils.safe_mkdir(os.path.join('../Data/StudyForrest/conv_coords',conv_dir)) # Makes the directory\n",
    "device = torch.device('cuda:0' if torch.cuda.is_available() else 'cpu')\n",
    "\n",
    "# Model\n",
    "model = models.Conv1Ddenoise(input_channels = 4)   # need to add the last layer to rebuild the original size\n",
    "model.to(device)\n",
    "\n",
    "# Optimizer\n",
    "optimizer = optim.AdamW(model.parameters(), lr=0.001, betas=(0.9, 0.999), eps=1e-08)"
   ]
  },
  {
   "cell_type": "code",
   "execution_count": 52,
   "id": "7a4c67f8-ef16-42ae-a09e-a0c4b296ea65",
   "metadata": {},
   "outputs": [
    {
     "name": "stderr",
     "output_type": "stream",
     "text": [
      " 38%|███▊      | 38/100 [01:57<03:11,  3.09s/it]\n",
      "ERROR:root:Internal Python error in the inspect module.\n",
      "Below is the traceback from this internal error.\n",
      "\n",
      "ERROR:root:Internal Python error in the inspect module.\n",
      "Below is the traceback from this internal error.\n",
      "\n"
     ]
    },
    {
     "name": "stdout",
     "output_type": "stream",
     "text": [
      "Traceback (most recent call last):\n",
      "  File \"/home/aglinska/anaconda3/lib/python3.8/site-packages/IPython/core/interactiveshell.py\", line 3437, in run_code\n",
      "    exec(code_obj, self.user_global_ns, self.user_ns)\n",
      "  File \"<ipython-input-53-3bd4feb59222>\", line 13, in <module>\n",
      "    inputs_gm,inputs_cf,coords = next(dataloader_iter_in)\n",
      "  File \"/home/aglinska/anaconda3/lib/python3.8/site-packages/torch/utils/data/dataloader.py\", line 630, in __next__\n",
      "    data = self._next_data()\n",
      "  File \"/home/aglinska/anaconda3/lib/python3.8/site-packages/torch/utils/data/dataloader.py\", line 1327, in _next_data\n",
      "    idx, data = self._get_data()\n",
      "  File \"/home/aglinska/anaconda3/lib/python3.8/site-packages/torch/utils/data/dataloader.py\", line 1293, in _get_data\n",
      "    success, data = self._try_get_data()\n",
      "  File \"/home/aglinska/anaconda3/lib/python3.8/site-packages/torch/utils/data/dataloader.py\", line 1131, in _try_get_data\n",
      "    data = self._data_queue.get(timeout=timeout)\n",
      "  File \"/home/aglinska/anaconda3/lib/python3.8/multiprocessing/queues.py\", line 107, in get\n",
      "    if not self._poll(timeout):\n",
      "  File \"/home/aglinska/anaconda3/lib/python3.8/multiprocessing/connection.py\", line 257, in poll\n",
      "    return self._poll(timeout)\n",
      "  File \"/home/aglinska/anaconda3/lib/python3.8/multiprocessing/connection.py\", line 424, in _poll\n",
      "    r = wait([self], timeout)\n",
      "  File \"/home/aglinska/anaconda3/lib/python3.8/multiprocessing/connection.py\", line 931, in wait\n",
      "    ready = selector.select(timeout)\n",
      "  File \"/home/aglinska/anaconda3/lib/python3.8/selectors.py\", line 415, in select\n",
      "    fd_event_list = self._selector.poll(timeout)\n",
      "KeyboardInterrupt\n",
      "\n",
      "During handling of the above exception, another exception occurred:\n",
      "\n",
      "Traceback (most recent call last):\n",
      "  File \"/home/aglinska/anaconda3/lib/python3.8/site-packages/IPython/core/interactiveshell.py\", line 2061, in showtraceback\n",
      "    stb = value._render_traceback_()\n",
      "AttributeError: 'KeyboardInterrupt' object has no attribute '_render_traceback_'\n",
      "\n",
      "During handling of the above exception, another exception occurred:\n",
      "\n",
      "Traceback (most recent call last):\n",
      "  File \"/home/aglinska/anaconda3/lib/python3.8/site-packages/IPython/core/ultratb.py\", line 1101, in get_records\n",
      "    return _fixed_getinnerframes(etb, number_of_lines_of_context, tb_offset)\n",
      "  File \"/home/aglinska/anaconda3/lib/python3.8/site-packages/IPython/core/ultratb.py\", line 248, in wrapped\n",
      "    return f(*args, **kwargs)\n",
      "  File \"/home/aglinska/anaconda3/lib/python3.8/site-packages/IPython/core/ultratb.py\", line 281, in _fixed_getinnerframes\n",
      "    records = fix_frame_records_filenames(inspect.getinnerframes(etb, context))\n",
      "  File \"/home/aglinska/anaconda3/lib/python3.8/inspect.py\", line 1515, in getinnerframes\n",
      "    frameinfo = (tb.tb_frame,) + getframeinfo(tb, context)\n",
      "  File \"/home/aglinska/anaconda3/lib/python3.8/inspect.py\", line 1473, in getframeinfo\n",
      "    filename = getsourcefile(frame) or getfile(frame)\n",
      "  File \"/home/aglinska/anaconda3/lib/python3.8/inspect.py\", line 708, in getsourcefile\n",
      "    if getattr(getmodule(object, filename), '__loader__', None) is not None:\n",
      "  File \"/home/aglinska/anaconda3/lib/python3.8/inspect.py\", line 754, in getmodule\n",
      "    os.path.realpath(f)] = module.__name__\n",
      "  File \"/home/aglinska/anaconda3/lib/python3.8/posixpath.py\", line 391, in realpath\n",
      "    path, ok = _joinrealpath(filename[:0], filename, {})\n",
      "  File \"/home/aglinska/anaconda3/lib/python3.8/posixpath.py\", line 424, in _joinrealpath\n",
      "    newpath = join(path, name)\n",
      "  File \"/home/aglinska/anaconda3/lib/python3.8/posixpath.py\", line 88, in join\n",
      "    path += sep + b\n",
      "KeyboardInterrupt\n",
      "Traceback (most recent call last):\n",
      "  File \"/home/aglinska/anaconda3/lib/python3.8/site-packages/IPython/core/interactiveshell.py\", line 3437, in run_code\n",
      "    exec(code_obj, self.user_global_ns, self.user_ns)\n",
      "  File \"<ipython-input-53-3bd4feb59222>\", line 13, in <module>\n",
      "    inputs_gm,inputs_cf,coords = next(dataloader_iter_in)\n",
      "  File \"/home/aglinska/anaconda3/lib/python3.8/site-packages/torch/utils/data/dataloader.py\", line 630, in __next__\n",
      "    data = self._next_data()\n",
      "  File \"/home/aglinska/anaconda3/lib/python3.8/site-packages/torch/utils/data/dataloader.py\", line 1327, in _next_data\n",
      "    idx, data = self._get_data()\n",
      "  File \"/home/aglinska/anaconda3/lib/python3.8/site-packages/torch/utils/data/dataloader.py\", line 1293, in _get_data\n",
      "    success, data = self._try_get_data()\n",
      "  File \"/home/aglinska/anaconda3/lib/python3.8/site-packages/torch/utils/data/dataloader.py\", line 1131, in _try_get_data\n",
      "    data = self._data_queue.get(timeout=timeout)\n",
      "  File \"/home/aglinska/anaconda3/lib/python3.8/multiprocessing/queues.py\", line 107, in get\n",
      "    if not self._poll(timeout):\n",
      "  File \"/home/aglinska/anaconda3/lib/python3.8/multiprocessing/connection.py\", line 257, in poll\n",
      "    return self._poll(timeout)\n",
      "  File \"/home/aglinska/anaconda3/lib/python3.8/multiprocessing/connection.py\", line 424, in _poll\n",
      "    r = wait([self], timeout)\n",
      "  File \"/home/aglinska/anaconda3/lib/python3.8/multiprocessing/connection.py\", line 931, in wait\n",
      "    ready = selector.select(timeout)\n",
      "  File \"/home/aglinska/anaconda3/lib/python3.8/selectors.py\", line 415, in select\n",
      "    fd_event_list = self._selector.poll(timeout)\n",
      "KeyboardInterrupt\n",
      "\n",
      "During handling of the above exception, another exception occurred:\n",
      "\n",
      "Traceback (most recent call last):\n",
      "  File \"/home/aglinska/anaconda3/lib/python3.8/site-packages/IPython/core/interactiveshell.py\", line 2061, in showtraceback\n",
      "    stb = value._render_traceback_()\n",
      "AttributeError: 'KeyboardInterrupt' object has no attribute '_render_traceback_'\n",
      "\n",
      "During handling of the above exception, another exception occurred:\n",
      "\n",
      "Traceback (most recent call last):\n",
      "  File \"/home/aglinska/anaconda3/lib/python3.8/site-packages/IPython/core/interactiveshell.py\", line 3357, in run_ast_nodes\n",
      "    if (await self.run_code(code, result,  async_=asy)):\n",
      "  File \"/home/aglinska/anaconda3/lib/python3.8/site-packages/IPython/core/interactiveshell.py\", line 3454, in run_code\n",
      "    self.showtraceback(running_compiled_code=True)\n",
      "  File \"/home/aglinska/anaconda3/lib/python3.8/site-packages/IPython/core/interactiveshell.py\", line 2063, in showtraceback\n",
      "    stb = self.InteractiveTB.structured_traceback(etype,\n",
      "  File \"/home/aglinska/anaconda3/lib/python3.8/site-packages/IPython/core/ultratb.py\", line 1367, in structured_traceback\n",
      "    return FormattedTB.structured_traceback(\n",
      "  File \"/home/aglinska/anaconda3/lib/python3.8/site-packages/IPython/core/ultratb.py\", line 1267, in structured_traceback\n",
      "    return VerboseTB.structured_traceback(\n",
      "  File \"/home/aglinska/anaconda3/lib/python3.8/site-packages/IPython/core/ultratb.py\", line 1124, in structured_traceback\n",
      "    formatted_exception = self.format_exception_as_a_whole(etype, evalue, etb, number_of_lines_of_context,\n",
      "  File \"/home/aglinska/anaconda3/lib/python3.8/site-packages/IPython/core/ultratb.py\", line 1082, in format_exception_as_a_whole\n",
      "    last_unique, recursion_repeat = find_recursion(orig_etype, evalue, records)\n",
      "  File \"/home/aglinska/anaconda3/lib/python3.8/site-packages/IPython/core/ultratb.py\", line 382, in find_recursion\n",
      "    return len(records), 0\n",
      "TypeError: object of type 'NoneType' has no len()\n",
      "\n",
      "During handling of the above exception, another exception occurred:\n",
      "\n",
      "Traceback (most recent call last):\n",
      "  File \"/home/aglinska/anaconda3/lib/python3.8/site-packages/IPython/core/interactiveshell.py\", line 2061, in showtraceback\n",
      "    stb = value._render_traceback_()\n",
      "AttributeError: 'TypeError' object has no attribute '_render_traceback_'\n",
      "\n",
      "During handling of the above exception, another exception occurred:\n",
      "\n",
      "Traceback (most recent call last):\n",
      "  File \"/home/aglinska/anaconda3/lib/python3.8/site-packages/IPython/core/ultratb.py\", line 1101, in get_records\n",
      "    return _fixed_getinnerframes(etb, number_of_lines_of_context, tb_offset)\n",
      "  File \"/home/aglinska/anaconda3/lib/python3.8/site-packages/IPython/core/ultratb.py\", line 248, in wrapped\n",
      "    return f(*args, **kwargs)\n",
      "  File \"/home/aglinska/anaconda3/lib/python3.8/site-packages/IPython/core/ultratb.py\", line 281, in _fixed_getinnerframes\n",
      "    records = fix_frame_records_filenames(inspect.getinnerframes(etb, context))\n",
      "  File \"/home/aglinska/anaconda3/lib/python3.8/inspect.py\", line 1515, in getinnerframes\n",
      "    frameinfo = (tb.tb_frame,) + getframeinfo(tb, context)\n",
      "  File \"/home/aglinska/anaconda3/lib/python3.8/inspect.py\", line 1473, in getframeinfo\n",
      "    filename = getsourcefile(frame) or getfile(frame)\n",
      "  File \"/home/aglinska/anaconda3/lib/python3.8/inspect.py\", line 708, in getsourcefile\n",
      "    if getattr(getmodule(object, filename), '__loader__', None) is not None:\n",
      "  File \"/home/aglinska/anaconda3/lib/python3.8/inspect.py\", line 751, in getmodule\n",
      "    f = getabsfile(module)\n",
      "  File \"/home/aglinska/anaconda3/lib/python3.8/inspect.py\", line 720, in getabsfile\n",
      "    _filename = getsourcefile(object) or getfile(object)\n",
      "  File \"/home/aglinska/anaconda3/lib/python3.8/inspect.py\", line 705, in getsourcefile\n",
      "    if os.path.exists(filename):\n",
      "  File \"/home/aglinska/anaconda3/lib/python3.8/genericpath.py\", line 19, in exists\n",
      "    os.stat(path)\n",
      "KeyboardInterrupt\n"
     ]
    },
    {
     "ename": "TypeError",
     "evalue": "object of type 'NoneType' has no len()",
     "output_type": "error",
     "traceback": [
      "\u001b[0;31m---------------------------------------------------------------------------\u001b[0m",
      "\u001b[0;31mKeyboardInterrupt\u001b[0m                         Traceback (most recent call last)",
      "    \u001b[0;31m[... skipping hidden 1 frame]\u001b[0m\n",
      "\u001b[0;32m<ipython-input-53-3bd4feb59222>\u001b[0m in \u001b[0;36m<module>\u001b[0;34m\u001b[0m\n\u001b[1;32m     12\u001b[0m         \u001b[0moptimizer\u001b[0m\u001b[0;34m.\u001b[0m\u001b[0mzero_grad\u001b[0m\u001b[0;34m(\u001b[0m\u001b[0;34m)\u001b[0m\u001b[0;34m\u001b[0m\u001b[0;34m\u001b[0m\u001b[0m\n\u001b[0;32m---> 13\u001b[0;31m         \u001b[0minputs_gm\u001b[0m\u001b[0;34m,\u001b[0m\u001b[0minputs_cf\u001b[0m\u001b[0;34m,\u001b[0m\u001b[0mcoords\u001b[0m \u001b[0;34m=\u001b[0m \u001b[0mnext\u001b[0m\u001b[0;34m(\u001b[0m\u001b[0mdataloader_iter_in\u001b[0m\u001b[0;34m)\u001b[0m\u001b[0;34m\u001b[0m\u001b[0;34m\u001b[0m\u001b[0m\n\u001b[0m\u001b[1;32m     14\u001b[0m         \u001b[0minputs_gm\u001b[0m \u001b[0;34m=\u001b[0m \u001b[0minputs_gm\u001b[0m\u001b[0;34m.\u001b[0m\u001b[0mfloat\u001b[0m\u001b[0;34m(\u001b[0m\u001b[0;34m)\u001b[0m\u001b[0;34m.\u001b[0m\u001b[0mto\u001b[0m\u001b[0;34m(\u001b[0m\u001b[0mdevice\u001b[0m\u001b[0;34m)\u001b[0m\u001b[0;34m\u001b[0m\u001b[0;34m\u001b[0m\u001b[0m\n",
      "\u001b[0;32m~/anaconda3/lib/python3.8/site-packages/torch/utils/data/dataloader.py\u001b[0m in \u001b[0;36m__next__\u001b[0;34m(self)\u001b[0m\n\u001b[1;32m    629\u001b[0m                 \u001b[0mself\u001b[0m\u001b[0;34m.\u001b[0m\u001b[0m_reset\u001b[0m\u001b[0;34m(\u001b[0m\u001b[0;34m)\u001b[0m  \u001b[0;31m# type: ignore[call-arg]\u001b[0m\u001b[0;34m\u001b[0m\u001b[0;34m\u001b[0m\u001b[0m\n\u001b[0;32m--> 630\u001b[0;31m             \u001b[0mdata\u001b[0m \u001b[0;34m=\u001b[0m \u001b[0mself\u001b[0m\u001b[0;34m.\u001b[0m\u001b[0m_next_data\u001b[0m\u001b[0;34m(\u001b[0m\u001b[0;34m)\u001b[0m\u001b[0;34m\u001b[0m\u001b[0;34m\u001b[0m\u001b[0m\n\u001b[0m\u001b[1;32m    631\u001b[0m             \u001b[0mself\u001b[0m\u001b[0;34m.\u001b[0m\u001b[0m_num_yielded\u001b[0m \u001b[0;34m+=\u001b[0m \u001b[0;36m1\u001b[0m\u001b[0;34m\u001b[0m\u001b[0;34m\u001b[0m\u001b[0m\n",
      "\u001b[0;32m~/anaconda3/lib/python3.8/site-packages/torch/utils/data/dataloader.py\u001b[0m in \u001b[0;36m_next_data\u001b[0;34m(self)\u001b[0m\n\u001b[1;32m   1326\u001b[0m             \u001b[0;32massert\u001b[0m \u001b[0;32mnot\u001b[0m \u001b[0mself\u001b[0m\u001b[0;34m.\u001b[0m\u001b[0m_shutdown\u001b[0m \u001b[0;32mand\u001b[0m \u001b[0mself\u001b[0m\u001b[0;34m.\u001b[0m\u001b[0m_tasks_outstanding\u001b[0m \u001b[0;34m>\u001b[0m \u001b[0;36m0\u001b[0m\u001b[0;34m\u001b[0m\u001b[0;34m\u001b[0m\u001b[0m\n\u001b[0;32m-> 1327\u001b[0;31m             \u001b[0midx\u001b[0m\u001b[0;34m,\u001b[0m \u001b[0mdata\u001b[0m \u001b[0;34m=\u001b[0m \u001b[0mself\u001b[0m\u001b[0;34m.\u001b[0m\u001b[0m_get_data\u001b[0m\u001b[0;34m(\u001b[0m\u001b[0;34m)\u001b[0m\u001b[0;34m\u001b[0m\u001b[0;34m\u001b[0m\u001b[0m\n\u001b[0m\u001b[1;32m   1328\u001b[0m             \u001b[0mself\u001b[0m\u001b[0;34m.\u001b[0m\u001b[0m_tasks_outstanding\u001b[0m \u001b[0;34m-=\u001b[0m \u001b[0;36m1\u001b[0m\u001b[0;34m\u001b[0m\u001b[0;34m\u001b[0m\u001b[0m\n",
      "\u001b[0;32m~/anaconda3/lib/python3.8/site-packages/torch/utils/data/dataloader.py\u001b[0m in \u001b[0;36m_get_data\u001b[0;34m(self)\u001b[0m\n\u001b[1;32m   1292\u001b[0m             \u001b[0;32mwhile\u001b[0m \u001b[0;32mTrue\u001b[0m\u001b[0;34m:\u001b[0m\u001b[0;34m\u001b[0m\u001b[0;34m\u001b[0m\u001b[0m\n\u001b[0;32m-> 1293\u001b[0;31m                 \u001b[0msuccess\u001b[0m\u001b[0;34m,\u001b[0m \u001b[0mdata\u001b[0m \u001b[0;34m=\u001b[0m \u001b[0mself\u001b[0m\u001b[0;34m.\u001b[0m\u001b[0m_try_get_data\u001b[0m\u001b[0;34m(\u001b[0m\u001b[0;34m)\u001b[0m\u001b[0;34m\u001b[0m\u001b[0;34m\u001b[0m\u001b[0m\n\u001b[0m\u001b[1;32m   1294\u001b[0m                 \u001b[0;32mif\u001b[0m \u001b[0msuccess\u001b[0m\u001b[0;34m:\u001b[0m\u001b[0;34m\u001b[0m\u001b[0;34m\u001b[0m\u001b[0m\n",
      "\u001b[0;32m~/anaconda3/lib/python3.8/site-packages/torch/utils/data/dataloader.py\u001b[0m in \u001b[0;36m_try_get_data\u001b[0;34m(self, timeout)\u001b[0m\n\u001b[1;32m   1130\u001b[0m         \u001b[0;32mtry\u001b[0m\u001b[0;34m:\u001b[0m\u001b[0;34m\u001b[0m\u001b[0;34m\u001b[0m\u001b[0m\n\u001b[0;32m-> 1131\u001b[0;31m             \u001b[0mdata\u001b[0m \u001b[0;34m=\u001b[0m \u001b[0mself\u001b[0m\u001b[0;34m.\u001b[0m\u001b[0m_data_queue\u001b[0m\u001b[0;34m.\u001b[0m\u001b[0mget\u001b[0m\u001b[0;34m(\u001b[0m\u001b[0mtimeout\u001b[0m\u001b[0;34m=\u001b[0m\u001b[0mtimeout\u001b[0m\u001b[0;34m)\u001b[0m\u001b[0;34m\u001b[0m\u001b[0;34m\u001b[0m\u001b[0m\n\u001b[0m\u001b[1;32m   1132\u001b[0m             \u001b[0;32mreturn\u001b[0m \u001b[0;34m(\u001b[0m\u001b[0;32mTrue\u001b[0m\u001b[0;34m,\u001b[0m \u001b[0mdata\u001b[0m\u001b[0;34m)\u001b[0m\u001b[0;34m\u001b[0m\u001b[0;34m\u001b[0m\u001b[0m\n",
      "\u001b[0;32m~/anaconda3/lib/python3.8/multiprocessing/queues.py\u001b[0m in \u001b[0;36mget\u001b[0;34m(self, block, timeout)\u001b[0m\n\u001b[1;32m    106\u001b[0m                     \u001b[0mtimeout\u001b[0m \u001b[0;34m=\u001b[0m \u001b[0mdeadline\u001b[0m \u001b[0;34m-\u001b[0m \u001b[0mtime\u001b[0m\u001b[0;34m.\u001b[0m\u001b[0mmonotonic\u001b[0m\u001b[0;34m(\u001b[0m\u001b[0;34m)\u001b[0m\u001b[0;34m\u001b[0m\u001b[0;34m\u001b[0m\u001b[0m\n\u001b[0;32m--> 107\u001b[0;31m                     \u001b[0;32mif\u001b[0m \u001b[0;32mnot\u001b[0m \u001b[0mself\u001b[0m\u001b[0;34m.\u001b[0m\u001b[0m_poll\u001b[0m\u001b[0;34m(\u001b[0m\u001b[0mtimeout\u001b[0m\u001b[0;34m)\u001b[0m\u001b[0;34m:\u001b[0m\u001b[0;34m\u001b[0m\u001b[0;34m\u001b[0m\u001b[0m\n\u001b[0m\u001b[1;32m    108\u001b[0m                         \u001b[0;32mraise\u001b[0m \u001b[0mEmpty\u001b[0m\u001b[0;34m\u001b[0m\u001b[0;34m\u001b[0m\u001b[0m\n",
      "\u001b[0;32m~/anaconda3/lib/python3.8/multiprocessing/connection.py\u001b[0m in \u001b[0;36mpoll\u001b[0;34m(self, timeout)\u001b[0m\n\u001b[1;32m    256\u001b[0m         \u001b[0mself\u001b[0m\u001b[0;34m.\u001b[0m\u001b[0m_check_readable\u001b[0m\u001b[0;34m(\u001b[0m\u001b[0;34m)\u001b[0m\u001b[0;34m\u001b[0m\u001b[0;34m\u001b[0m\u001b[0m\n\u001b[0;32m--> 257\u001b[0;31m         \u001b[0;32mreturn\u001b[0m \u001b[0mself\u001b[0m\u001b[0;34m.\u001b[0m\u001b[0m_poll\u001b[0m\u001b[0;34m(\u001b[0m\u001b[0mtimeout\u001b[0m\u001b[0;34m)\u001b[0m\u001b[0;34m\u001b[0m\u001b[0;34m\u001b[0m\u001b[0m\n\u001b[0m\u001b[1;32m    258\u001b[0m \u001b[0;34m\u001b[0m\u001b[0m\n",
      "\u001b[0;32m~/anaconda3/lib/python3.8/multiprocessing/connection.py\u001b[0m in \u001b[0;36m_poll\u001b[0;34m(self, timeout)\u001b[0m\n\u001b[1;32m    423\u001b[0m     \u001b[0;32mdef\u001b[0m \u001b[0m_poll\u001b[0m\u001b[0;34m(\u001b[0m\u001b[0mself\u001b[0m\u001b[0;34m,\u001b[0m \u001b[0mtimeout\u001b[0m\u001b[0;34m)\u001b[0m\u001b[0;34m:\u001b[0m\u001b[0;34m\u001b[0m\u001b[0;34m\u001b[0m\u001b[0m\n\u001b[0;32m--> 424\u001b[0;31m         \u001b[0mr\u001b[0m \u001b[0;34m=\u001b[0m \u001b[0mwait\u001b[0m\u001b[0;34m(\u001b[0m\u001b[0;34m[\u001b[0m\u001b[0mself\u001b[0m\u001b[0;34m]\u001b[0m\u001b[0;34m,\u001b[0m \u001b[0mtimeout\u001b[0m\u001b[0;34m)\u001b[0m\u001b[0;34m\u001b[0m\u001b[0;34m\u001b[0m\u001b[0m\n\u001b[0m\u001b[1;32m    425\u001b[0m         \u001b[0;32mreturn\u001b[0m \u001b[0mbool\u001b[0m\u001b[0;34m(\u001b[0m\u001b[0mr\u001b[0m\u001b[0;34m)\u001b[0m\u001b[0;34m\u001b[0m\u001b[0;34m\u001b[0m\u001b[0m\n",
      "\u001b[0;32m~/anaconda3/lib/python3.8/multiprocessing/connection.py\u001b[0m in \u001b[0;36mwait\u001b[0;34m(object_list, timeout)\u001b[0m\n\u001b[1;32m    930\u001b[0m             \u001b[0;32mwhile\u001b[0m \u001b[0;32mTrue\u001b[0m\u001b[0;34m:\u001b[0m\u001b[0;34m\u001b[0m\u001b[0;34m\u001b[0m\u001b[0m\n\u001b[0;32m--> 931\u001b[0;31m                 \u001b[0mready\u001b[0m \u001b[0;34m=\u001b[0m \u001b[0mselector\u001b[0m\u001b[0;34m.\u001b[0m\u001b[0mselect\u001b[0m\u001b[0;34m(\u001b[0m\u001b[0mtimeout\u001b[0m\u001b[0;34m)\u001b[0m\u001b[0;34m\u001b[0m\u001b[0;34m\u001b[0m\u001b[0m\n\u001b[0m\u001b[1;32m    932\u001b[0m                 \u001b[0;32mif\u001b[0m \u001b[0mready\u001b[0m\u001b[0;34m:\u001b[0m\u001b[0;34m\u001b[0m\u001b[0;34m\u001b[0m\u001b[0m\n",
      "\u001b[0;32m~/anaconda3/lib/python3.8/selectors.py\u001b[0m in \u001b[0;36mselect\u001b[0;34m(self, timeout)\u001b[0m\n\u001b[1;32m    414\u001b[0m         \u001b[0;32mtry\u001b[0m\u001b[0;34m:\u001b[0m\u001b[0;34m\u001b[0m\u001b[0;34m\u001b[0m\u001b[0m\n\u001b[0;32m--> 415\u001b[0;31m             \u001b[0mfd_event_list\u001b[0m \u001b[0;34m=\u001b[0m \u001b[0mself\u001b[0m\u001b[0;34m.\u001b[0m\u001b[0m_selector\u001b[0m\u001b[0;34m.\u001b[0m\u001b[0mpoll\u001b[0m\u001b[0;34m(\u001b[0m\u001b[0mtimeout\u001b[0m\u001b[0;34m)\u001b[0m\u001b[0;34m\u001b[0m\u001b[0;34m\u001b[0m\u001b[0m\n\u001b[0m\u001b[1;32m    416\u001b[0m         \u001b[0;32mexcept\u001b[0m \u001b[0mInterruptedError\u001b[0m\u001b[0;34m:\u001b[0m\u001b[0;34m\u001b[0m\u001b[0;34m\u001b[0m\u001b[0m\n",
      "\u001b[0;31mKeyboardInterrupt\u001b[0m: ",
      "\nDuring handling of the above exception, another exception occurred:\n",
      "\u001b[0;31mAttributeError\u001b[0m                            Traceback (most recent call last)",
      "\u001b[0;32m~/anaconda3/lib/python3.8/site-packages/IPython/core/interactiveshell.py\u001b[0m in \u001b[0;36mshowtraceback\u001b[0;34m(self, exc_tuple, filename, tb_offset, exception_only, running_compiled_code)\u001b[0m\n\u001b[1;32m   2060\u001b[0m                         \u001b[0;31m# in the engines. This should return a list of strings.\u001b[0m\u001b[0;34m\u001b[0m\u001b[0;34m\u001b[0m\u001b[0;34m\u001b[0m\u001b[0m\n\u001b[0;32m-> 2061\u001b[0;31m                         \u001b[0mstb\u001b[0m \u001b[0;34m=\u001b[0m \u001b[0mvalue\u001b[0m\u001b[0;34m.\u001b[0m\u001b[0m_render_traceback_\u001b[0m\u001b[0;34m(\u001b[0m\u001b[0;34m)\u001b[0m\u001b[0;34m\u001b[0m\u001b[0;34m\u001b[0m\u001b[0m\n\u001b[0m\u001b[1;32m   2062\u001b[0m                     \u001b[0;32mexcept\u001b[0m \u001b[0mException\u001b[0m\u001b[0;34m:\u001b[0m\u001b[0;34m\u001b[0m\u001b[0;34m\u001b[0m\u001b[0m\n",
      "\u001b[0;31mAttributeError\u001b[0m: 'KeyboardInterrupt' object has no attribute '_render_traceback_'",
      "\nDuring handling of the above exception, another exception occurred:\n",
      "\u001b[0;31mTypeError\u001b[0m                                 Traceback (most recent call last)",
      "\u001b[0;32m~/anaconda3/lib/python3.8/site-packages/IPython/core/interactiveshell.py\u001b[0m in \u001b[0;36mrun_ast_nodes\u001b[0;34m(self, nodelist, cell_name, interactivity, compiler, result)\u001b[0m\n\u001b[1;32m   3356\u001b[0m                         \u001b[0masy\u001b[0m \u001b[0;34m=\u001b[0m \u001b[0mcompare\u001b[0m\u001b[0;34m(\u001b[0m\u001b[0mcode\u001b[0m\u001b[0;34m)\u001b[0m\u001b[0;34m\u001b[0m\u001b[0;34m\u001b[0m\u001b[0m\n\u001b[0;32m-> 3357\u001b[0;31m                     \u001b[0;32mif\u001b[0m \u001b[0;34m(\u001b[0m\u001b[0;32mawait\u001b[0m \u001b[0mself\u001b[0m\u001b[0;34m.\u001b[0m\u001b[0mrun_code\u001b[0m\u001b[0;34m(\u001b[0m\u001b[0mcode\u001b[0m\u001b[0;34m,\u001b[0m \u001b[0mresult\u001b[0m\u001b[0;34m,\u001b[0m  \u001b[0masync_\u001b[0m\u001b[0;34m=\u001b[0m\u001b[0masy\u001b[0m\u001b[0;34m)\u001b[0m\u001b[0;34m)\u001b[0m\u001b[0;34m:\u001b[0m\u001b[0;34m\u001b[0m\u001b[0;34m\u001b[0m\u001b[0m\n\u001b[0m\u001b[1;32m   3358\u001b[0m                         \u001b[0;32mreturn\u001b[0m \u001b[0;32mTrue\u001b[0m\u001b[0;34m\u001b[0m\u001b[0;34m\u001b[0m\u001b[0m\n",
      "    \u001b[0;31m[... skipping hidden 1 frame]\u001b[0m\n",
      "\u001b[0;32m~/anaconda3/lib/python3.8/site-packages/IPython/core/interactiveshell.py\u001b[0m in \u001b[0;36mshowtraceback\u001b[0;34m(self, exc_tuple, filename, tb_offset, exception_only, running_compiled_code)\u001b[0m\n\u001b[1;32m   2062\u001b[0m                     \u001b[0;32mexcept\u001b[0m \u001b[0mException\u001b[0m\u001b[0;34m:\u001b[0m\u001b[0;34m\u001b[0m\u001b[0;34m\u001b[0m\u001b[0m\n\u001b[0;32m-> 2063\u001b[0;31m                         stb = self.InteractiveTB.structured_traceback(etype,\n\u001b[0m\u001b[1;32m   2064\u001b[0m                                             value, tb, tb_offset=tb_offset)\n",
      "\u001b[0;32m~/anaconda3/lib/python3.8/site-packages/IPython/core/ultratb.py\u001b[0m in \u001b[0;36mstructured_traceback\u001b[0;34m(self, etype, value, tb, tb_offset, number_of_lines_of_context)\u001b[0m\n\u001b[1;32m   1366\u001b[0m             \u001b[0mself\u001b[0m\u001b[0;34m.\u001b[0m\u001b[0mtb\u001b[0m \u001b[0;34m=\u001b[0m \u001b[0mtb\u001b[0m\u001b[0;34m\u001b[0m\u001b[0;34m\u001b[0m\u001b[0m\n\u001b[0;32m-> 1367\u001b[0;31m         return FormattedTB.structured_traceback(\n\u001b[0m\u001b[1;32m   1368\u001b[0m             self, etype, value, tb, tb_offset, number_of_lines_of_context)\n",
      "\u001b[0;32m~/anaconda3/lib/python3.8/site-packages/IPython/core/ultratb.py\u001b[0m in \u001b[0;36mstructured_traceback\u001b[0;34m(self, etype, value, tb, tb_offset, number_of_lines_of_context)\u001b[0m\n\u001b[1;32m   1266\u001b[0m             \u001b[0;31m# Verbose modes need a full traceback\u001b[0m\u001b[0;34m\u001b[0m\u001b[0;34m\u001b[0m\u001b[0;34m\u001b[0m\u001b[0m\n\u001b[0;32m-> 1267\u001b[0;31m             return VerboseTB.structured_traceback(\n\u001b[0m\u001b[1;32m   1268\u001b[0m                 \u001b[0mself\u001b[0m\u001b[0;34m,\u001b[0m \u001b[0metype\u001b[0m\u001b[0;34m,\u001b[0m \u001b[0mvalue\u001b[0m\u001b[0;34m,\u001b[0m \u001b[0mtb\u001b[0m\u001b[0;34m,\u001b[0m \u001b[0mtb_offset\u001b[0m\u001b[0;34m,\u001b[0m \u001b[0mnumber_of_lines_of_context\u001b[0m\u001b[0;34m\u001b[0m\u001b[0;34m\u001b[0m\u001b[0m\n",
      "\u001b[0;32m~/anaconda3/lib/python3.8/site-packages/IPython/core/ultratb.py\u001b[0m in \u001b[0;36mstructured_traceback\u001b[0;34m(self, etype, evalue, etb, tb_offset, number_of_lines_of_context)\u001b[0m\n\u001b[1;32m   1123\u001b[0m \u001b[0;34m\u001b[0m\u001b[0m\n\u001b[0;32m-> 1124\u001b[0;31m         formatted_exception = self.format_exception_as_a_whole(etype, evalue, etb, number_of_lines_of_context,\n\u001b[0m\u001b[1;32m   1125\u001b[0m                                                                tb_offset)\n",
      "\u001b[0;32m~/anaconda3/lib/python3.8/site-packages/IPython/core/ultratb.py\u001b[0m in \u001b[0;36mformat_exception_as_a_whole\u001b[0;34m(self, etype, evalue, etb, number_of_lines_of_context, tb_offset)\u001b[0m\n\u001b[1;32m   1081\u001b[0m \u001b[0;34m\u001b[0m\u001b[0m\n\u001b[0;32m-> 1082\u001b[0;31m         \u001b[0mlast_unique\u001b[0m\u001b[0;34m,\u001b[0m \u001b[0mrecursion_repeat\u001b[0m \u001b[0;34m=\u001b[0m \u001b[0mfind_recursion\u001b[0m\u001b[0;34m(\u001b[0m\u001b[0morig_etype\u001b[0m\u001b[0;34m,\u001b[0m \u001b[0mevalue\u001b[0m\u001b[0;34m,\u001b[0m \u001b[0mrecords\u001b[0m\u001b[0;34m)\u001b[0m\u001b[0;34m\u001b[0m\u001b[0;34m\u001b[0m\u001b[0m\n\u001b[0m\u001b[1;32m   1083\u001b[0m \u001b[0;34m\u001b[0m\u001b[0m\n",
      "\u001b[0;32m~/anaconda3/lib/python3.8/site-packages/IPython/core/ultratb.py\u001b[0m in \u001b[0;36mfind_recursion\u001b[0;34m(etype, value, records)\u001b[0m\n\u001b[1;32m    381\u001b[0m     \u001b[0;32mif\u001b[0m \u001b[0;32mnot\u001b[0m \u001b[0mis_recursion_error\u001b[0m\u001b[0;34m(\u001b[0m\u001b[0metype\u001b[0m\u001b[0;34m,\u001b[0m \u001b[0mvalue\u001b[0m\u001b[0;34m,\u001b[0m \u001b[0mrecords\u001b[0m\u001b[0;34m)\u001b[0m\u001b[0;34m:\u001b[0m\u001b[0;34m\u001b[0m\u001b[0;34m\u001b[0m\u001b[0m\n\u001b[0;32m--> 382\u001b[0;31m         \u001b[0;32mreturn\u001b[0m \u001b[0mlen\u001b[0m\u001b[0;34m(\u001b[0m\u001b[0mrecords\u001b[0m\u001b[0;34m)\u001b[0m\u001b[0;34m,\u001b[0m \u001b[0;36m0\u001b[0m\u001b[0;34m\u001b[0m\u001b[0;34m\u001b[0m\u001b[0m\n\u001b[0m\u001b[1;32m    383\u001b[0m \u001b[0;34m\u001b[0m\u001b[0m\n",
      "\u001b[0;31mTypeError\u001b[0m: object of type 'NoneType' has no len()",
      "\nDuring handling of the above exception, another exception occurred:\n",
      "\u001b[0;31mAttributeError\u001b[0m                            Traceback (most recent call last)",
      "\u001b[0;32m~/anaconda3/lib/python3.8/site-packages/IPython/core/interactiveshell.py\u001b[0m in \u001b[0;36mshowtraceback\u001b[0;34m(self, exc_tuple, filename, tb_offset, exception_only, running_compiled_code)\u001b[0m\n\u001b[1;32m   2060\u001b[0m                         \u001b[0;31m# in the engines. This should return a list of strings.\u001b[0m\u001b[0;34m\u001b[0m\u001b[0;34m\u001b[0m\u001b[0;34m\u001b[0m\u001b[0m\n\u001b[0;32m-> 2061\u001b[0;31m                         \u001b[0mstb\u001b[0m \u001b[0;34m=\u001b[0m \u001b[0mvalue\u001b[0m\u001b[0;34m.\u001b[0m\u001b[0m_render_traceback_\u001b[0m\u001b[0;34m(\u001b[0m\u001b[0;34m)\u001b[0m\u001b[0;34m\u001b[0m\u001b[0;34m\u001b[0m\u001b[0m\n\u001b[0m\u001b[1;32m   2062\u001b[0m                     \u001b[0;32mexcept\u001b[0m \u001b[0mException\u001b[0m\u001b[0;34m:\u001b[0m\u001b[0;34m\u001b[0m\u001b[0;34m\u001b[0m\u001b[0m\n",
      "\u001b[0;31mAttributeError\u001b[0m: 'TypeError' object has no attribute '_render_traceback_'",
      "\nDuring handling of the above exception, another exception occurred:\n",
      "\u001b[0;31mTypeError\u001b[0m                                 Traceback (most recent call last)",
      "\u001b[0;32m~/anaconda3/lib/python3.8/site-packages/IPython/core/async_helpers.py\u001b[0m in \u001b[0;36m_pseudo_sync_runner\u001b[0;34m(coro)\u001b[0m\n\u001b[1;32m     66\u001b[0m     \"\"\"\n\u001b[1;32m     67\u001b[0m     \u001b[0;32mtry\u001b[0m\u001b[0;34m:\u001b[0m\u001b[0;34m\u001b[0m\u001b[0;34m\u001b[0m\u001b[0m\n\u001b[0;32m---> 68\u001b[0;31m         \u001b[0mcoro\u001b[0m\u001b[0;34m.\u001b[0m\u001b[0msend\u001b[0m\u001b[0;34m(\u001b[0m\u001b[0;32mNone\u001b[0m\u001b[0;34m)\u001b[0m\u001b[0;34m\u001b[0m\u001b[0;34m\u001b[0m\u001b[0m\n\u001b[0m\u001b[1;32m     69\u001b[0m     \u001b[0;32mexcept\u001b[0m \u001b[0mStopIteration\u001b[0m \u001b[0;32mas\u001b[0m \u001b[0mexc\u001b[0m\u001b[0;34m:\u001b[0m\u001b[0;34m\u001b[0m\u001b[0;34m\u001b[0m\u001b[0m\n\u001b[1;32m     70\u001b[0m         \u001b[0;32mreturn\u001b[0m \u001b[0mexc\u001b[0m\u001b[0;34m.\u001b[0m\u001b[0mvalue\u001b[0m\u001b[0;34m\u001b[0m\u001b[0;34m\u001b[0m\u001b[0m\n",
      "\u001b[0;32m~/anaconda3/lib/python3.8/site-packages/IPython/core/interactiveshell.py\u001b[0m in \u001b[0;36mrun_cell_async\u001b[0;34m(self, raw_cell, store_history, silent, shell_futures, transformed_cell, preprocessing_exc_tuple)\u001b[0m\n\u001b[1;32m   3163\u001b[0m                     \u001b[0minteractivity\u001b[0m \u001b[0;34m=\u001b[0m \u001b[0;34m'async'\u001b[0m\u001b[0;34m\u001b[0m\u001b[0;34m\u001b[0m\u001b[0m\n\u001b[1;32m   3164\u001b[0m \u001b[0;34m\u001b[0m\u001b[0m\n\u001b[0;32m-> 3165\u001b[0;31m                 has_raised = await self.run_ast_nodes(code_ast.body, cell_name,\n\u001b[0m\u001b[1;32m   3166\u001b[0m                        interactivity=interactivity, compiler=compiler, result=result)\n\u001b[1;32m   3167\u001b[0m \u001b[0;34m\u001b[0m\u001b[0m\n",
      "\u001b[0;32m~/anaconda3/lib/python3.8/site-packages/IPython/core/interactiveshell.py\u001b[0m in \u001b[0;36mrun_ast_nodes\u001b[0;34m(self, nodelist, cell_name, interactivity, compiler, result)\u001b[0m\n\u001b[1;32m   3374\u001b[0m             \u001b[0;32mif\u001b[0m \u001b[0mresult\u001b[0m\u001b[0;34m:\u001b[0m\u001b[0;34m\u001b[0m\u001b[0;34m\u001b[0m\u001b[0m\n\u001b[1;32m   3375\u001b[0m                 \u001b[0mresult\u001b[0m\u001b[0;34m.\u001b[0m\u001b[0merror_before_exec\u001b[0m \u001b[0;34m=\u001b[0m \u001b[0msys\u001b[0m\u001b[0;34m.\u001b[0m\u001b[0mexc_info\u001b[0m\u001b[0;34m(\u001b[0m\u001b[0;34m)\u001b[0m\u001b[0;34m[\u001b[0m\u001b[0;36m1\u001b[0m\u001b[0;34m]\u001b[0m\u001b[0;34m\u001b[0m\u001b[0;34m\u001b[0m\u001b[0m\n\u001b[0;32m-> 3376\u001b[0;31m             \u001b[0mself\u001b[0m\u001b[0;34m.\u001b[0m\u001b[0mshowtraceback\u001b[0m\u001b[0;34m(\u001b[0m\u001b[0;34m)\u001b[0m\u001b[0;34m\u001b[0m\u001b[0;34m\u001b[0m\u001b[0m\n\u001b[0m\u001b[1;32m   3377\u001b[0m             \u001b[0;32mreturn\u001b[0m \u001b[0;32mTrue\u001b[0m\u001b[0;34m\u001b[0m\u001b[0;34m\u001b[0m\u001b[0m\n\u001b[1;32m   3378\u001b[0m \u001b[0;34m\u001b[0m\u001b[0m\n",
      "\u001b[0;32m~/anaconda3/lib/python3.8/site-packages/IPython/core/interactiveshell.py\u001b[0m in \u001b[0;36mshowtraceback\u001b[0;34m(self, exc_tuple, filename, tb_offset, exception_only, running_compiled_code)\u001b[0m\n\u001b[1;32m   2061\u001b[0m                         \u001b[0mstb\u001b[0m \u001b[0;34m=\u001b[0m \u001b[0mvalue\u001b[0m\u001b[0;34m.\u001b[0m\u001b[0m_render_traceback_\u001b[0m\u001b[0;34m(\u001b[0m\u001b[0;34m)\u001b[0m\u001b[0;34m\u001b[0m\u001b[0;34m\u001b[0m\u001b[0m\n\u001b[1;32m   2062\u001b[0m                     \u001b[0;32mexcept\u001b[0m \u001b[0mException\u001b[0m\u001b[0;34m:\u001b[0m\u001b[0;34m\u001b[0m\u001b[0;34m\u001b[0m\u001b[0m\n\u001b[0;32m-> 2063\u001b[0;31m                         stb = self.InteractiveTB.structured_traceback(etype,\n\u001b[0m\u001b[1;32m   2064\u001b[0m                                             value, tb, tb_offset=tb_offset)\n\u001b[1;32m   2065\u001b[0m \u001b[0;34m\u001b[0m\u001b[0m\n",
      "\u001b[0;32m~/anaconda3/lib/python3.8/site-packages/IPython/core/ultratb.py\u001b[0m in \u001b[0;36mstructured_traceback\u001b[0;34m(self, etype, value, tb, tb_offset, number_of_lines_of_context)\u001b[0m\n\u001b[1;32m   1365\u001b[0m         \u001b[0;32melse\u001b[0m\u001b[0;34m:\u001b[0m\u001b[0;34m\u001b[0m\u001b[0;34m\u001b[0m\u001b[0m\n\u001b[1;32m   1366\u001b[0m             \u001b[0mself\u001b[0m\u001b[0;34m.\u001b[0m\u001b[0mtb\u001b[0m \u001b[0;34m=\u001b[0m \u001b[0mtb\u001b[0m\u001b[0;34m\u001b[0m\u001b[0;34m\u001b[0m\u001b[0m\n\u001b[0;32m-> 1367\u001b[0;31m         return FormattedTB.structured_traceback(\n\u001b[0m\u001b[1;32m   1368\u001b[0m             self, etype, value, tb, tb_offset, number_of_lines_of_context)\n\u001b[1;32m   1369\u001b[0m \u001b[0;34m\u001b[0m\u001b[0m\n",
      "\u001b[0;32m~/anaconda3/lib/python3.8/site-packages/IPython/core/ultratb.py\u001b[0m in \u001b[0;36mstructured_traceback\u001b[0;34m(self, etype, value, tb, tb_offset, number_of_lines_of_context)\u001b[0m\n\u001b[1;32m   1265\u001b[0m         \u001b[0;32mif\u001b[0m \u001b[0mmode\u001b[0m \u001b[0;32min\u001b[0m \u001b[0mself\u001b[0m\u001b[0;34m.\u001b[0m\u001b[0mverbose_modes\u001b[0m\u001b[0;34m:\u001b[0m\u001b[0;34m\u001b[0m\u001b[0;34m\u001b[0m\u001b[0m\n\u001b[1;32m   1266\u001b[0m             \u001b[0;31m# Verbose modes need a full traceback\u001b[0m\u001b[0;34m\u001b[0m\u001b[0;34m\u001b[0m\u001b[0;34m\u001b[0m\u001b[0m\n\u001b[0;32m-> 1267\u001b[0;31m             return VerboseTB.structured_traceback(\n\u001b[0m\u001b[1;32m   1268\u001b[0m                 \u001b[0mself\u001b[0m\u001b[0;34m,\u001b[0m \u001b[0metype\u001b[0m\u001b[0;34m,\u001b[0m \u001b[0mvalue\u001b[0m\u001b[0;34m,\u001b[0m \u001b[0mtb\u001b[0m\u001b[0;34m,\u001b[0m \u001b[0mtb_offset\u001b[0m\u001b[0;34m,\u001b[0m \u001b[0mnumber_of_lines_of_context\u001b[0m\u001b[0;34m\u001b[0m\u001b[0;34m\u001b[0m\u001b[0m\n\u001b[1;32m   1269\u001b[0m             )\n",
      "\u001b[0;32m~/anaconda3/lib/python3.8/site-packages/IPython/core/ultratb.py\u001b[0m in \u001b[0;36mstructured_traceback\u001b[0;34m(self, etype, evalue, etb, tb_offset, number_of_lines_of_context)\u001b[0m\n\u001b[1;32m   1140\u001b[0m         \u001b[0mchained_exc_ids\u001b[0m \u001b[0;34m=\u001b[0m \u001b[0mset\u001b[0m\u001b[0;34m(\u001b[0m\u001b[0;34m)\u001b[0m\u001b[0;34m\u001b[0m\u001b[0;34m\u001b[0m\u001b[0m\n\u001b[1;32m   1141\u001b[0m         \u001b[0;32mwhile\u001b[0m \u001b[0mevalue\u001b[0m\u001b[0;34m:\u001b[0m\u001b[0;34m\u001b[0m\u001b[0;34m\u001b[0m\u001b[0m\n\u001b[0;32m-> 1142\u001b[0;31m             formatted_exceptions += self.format_exception_as_a_whole(etype, evalue, etb, lines_of_context,\n\u001b[0m\u001b[1;32m   1143\u001b[0m                                                                      chained_exceptions_tb_offset)\n\u001b[1;32m   1144\u001b[0m             \u001b[0mexception\u001b[0m \u001b[0;34m=\u001b[0m \u001b[0mself\u001b[0m\u001b[0;34m.\u001b[0m\u001b[0mget_parts_of_chained_exception\u001b[0m\u001b[0;34m(\u001b[0m\u001b[0mevalue\u001b[0m\u001b[0;34m)\u001b[0m\u001b[0;34m\u001b[0m\u001b[0;34m\u001b[0m\u001b[0m\n",
      "\u001b[0;32m~/anaconda3/lib/python3.8/site-packages/IPython/core/ultratb.py\u001b[0m in \u001b[0;36mformat_exception_as_a_whole\u001b[0;34m(self, etype, evalue, etb, number_of_lines_of_context, tb_offset)\u001b[0m\n\u001b[1;32m   1080\u001b[0m \u001b[0;34m\u001b[0m\u001b[0m\n\u001b[1;32m   1081\u001b[0m \u001b[0;34m\u001b[0m\u001b[0m\n\u001b[0;32m-> 1082\u001b[0;31m         \u001b[0mlast_unique\u001b[0m\u001b[0;34m,\u001b[0m \u001b[0mrecursion_repeat\u001b[0m \u001b[0;34m=\u001b[0m \u001b[0mfind_recursion\u001b[0m\u001b[0;34m(\u001b[0m\u001b[0morig_etype\u001b[0m\u001b[0;34m,\u001b[0m \u001b[0mevalue\u001b[0m\u001b[0;34m,\u001b[0m \u001b[0mrecords\u001b[0m\u001b[0;34m)\u001b[0m\u001b[0;34m\u001b[0m\u001b[0;34m\u001b[0m\u001b[0m\n\u001b[0m\u001b[1;32m   1083\u001b[0m \u001b[0;34m\u001b[0m\u001b[0m\n\u001b[1;32m   1084\u001b[0m         \u001b[0mframes\u001b[0m \u001b[0;34m=\u001b[0m \u001b[0mself\u001b[0m\u001b[0;34m.\u001b[0m\u001b[0mformat_records\u001b[0m\u001b[0;34m(\u001b[0m\u001b[0mrecords\u001b[0m\u001b[0;34m,\u001b[0m \u001b[0mlast_unique\u001b[0m\u001b[0;34m,\u001b[0m \u001b[0mrecursion_repeat\u001b[0m\u001b[0;34m)\u001b[0m\u001b[0;34m\u001b[0m\u001b[0;34m\u001b[0m\u001b[0m\n",
      "\u001b[0;32m~/anaconda3/lib/python3.8/site-packages/IPython/core/ultratb.py\u001b[0m in \u001b[0;36mfind_recursion\u001b[0;34m(etype, value, records)\u001b[0m\n\u001b[1;32m    380\u001b[0m     \u001b[0;31m# first frame (from in to out) that looks different.\u001b[0m\u001b[0;34m\u001b[0m\u001b[0;34m\u001b[0m\u001b[0;34m\u001b[0m\u001b[0m\n\u001b[1;32m    381\u001b[0m     \u001b[0;32mif\u001b[0m \u001b[0;32mnot\u001b[0m \u001b[0mis_recursion_error\u001b[0m\u001b[0;34m(\u001b[0m\u001b[0metype\u001b[0m\u001b[0;34m,\u001b[0m \u001b[0mvalue\u001b[0m\u001b[0;34m,\u001b[0m \u001b[0mrecords\u001b[0m\u001b[0;34m)\u001b[0m\u001b[0;34m:\u001b[0m\u001b[0;34m\u001b[0m\u001b[0;34m\u001b[0m\u001b[0m\n\u001b[0;32m--> 382\u001b[0;31m         \u001b[0;32mreturn\u001b[0m \u001b[0mlen\u001b[0m\u001b[0;34m(\u001b[0m\u001b[0mrecords\u001b[0m\u001b[0;34m)\u001b[0m\u001b[0;34m,\u001b[0m \u001b[0;36m0\u001b[0m\u001b[0;34m\u001b[0m\u001b[0;34m\u001b[0m\u001b[0m\n\u001b[0m\u001b[1;32m    383\u001b[0m \u001b[0;34m\u001b[0m\u001b[0m\n\u001b[1;32m    384\u001b[0m     \u001b[0;31m# Select filename, lineno, func_name to track frames with\u001b[0m\u001b[0;34m\u001b[0m\u001b[0;34m\u001b[0m\u001b[0;34m\u001b[0m\u001b[0m\n",
      "\u001b[0;31mTypeError\u001b[0m: object of type 'NoneType' has no len()"
     ]
    }
   ],
   "source": [
    "track = {}\n",
    "loss_L = []\n",
    "loss_signal_L = []\n",
    "loss_noise_L = []\n",
    "track['face_reg'] = face_reg\n",
    "for epoch in tqdm(range(n_epochs)):  # loop over the dataset multiple times    \n",
    "    dataloader_iter_in = iter(train_in)\n",
    "    running_loss = 0\n",
    "    running_loss_signal = 0\n",
    "    running_loss_noise = 0\n",
    "    for i in range(len(train_in)):           \n",
    "        optimizer.zero_grad()\n",
    "        inputs_gm,inputs_cf,coords = next(dataloader_iter_in)\n",
    "        inputs_gm = inputs_gm.float().to(device)\n",
    "        inputs_cf = inputs_cf.float().to(device)\n",
    "        coords = coords.float().to(device)\n",
    "        [sig, noise] = model.forward(inputs_gm)\n",
    "        #loss,loss_signal,loss_noise = model.loss_ncc_gmm(inputs_gm,inputs_cf,signal,noise,pca,gmm,device)\n",
    "        loss_ncc,loss_signal_ncc,loss_noise_ncc = model.loss_ncc(inputs_gm[:,0,:],inputs_cf,sig[:,0:epi.shape[-1]],noise[:,0:epi.shape[-1]])\n",
    "        loss_mse,loss_signal_mse,loss_noise_mse = model.loss_function(inputs_gm[:,0,:],inputs_cf,sig[:,0:epi.shape[-1]],noise[:,0:epi.shape[-1]])\n",
    "        loss = loss_ncc+loss_mse\n",
    "        loss_signal = loss_signal_ncc+loss_signal_mse\n",
    "        loss_noise = loss_noise_ncc+loss_noise_mse\n",
    "        if np.isnan(loss.detach().cpu().numpy()):\n",
    "            print('loss is NaN')\n",
    "            break\n",
    "        loss.backward()\n",
    "        optimizer.step()\n",
    "        running_loss += loss\n",
    "        running_loss_signal += loss_signal\n",
    "        running_loss_noise += loss_noise        \n",
    "    epoch_loss = running_loss / len(train_in)\n",
    "    epoch_loss_signal = running_loss_signal / len(train_in)\n",
    "    epoch_loss_noise = running_loss_noise / len(train_in)\n",
    "    loss_L.append(epoch_loss.detach().cpu().numpy())\n",
    "    loss_signal_L.append(epoch_loss_signal.detach().cpu().numpy())\n",
    "    loss_noise_L.append(epoch_loss_noise.detach().cpu().numpy())\n",
    "    track['loss_L'] = loss_L\n",
    "    track['loss_signal_L'] = loss_signal_L\n",
    "    track['loss_noise_L'] = loss_noise_L\n",
    "weights_ofn = f'../Data/StudyForrest/conv_coords/{conv_dir}/conv_denoise-{sub}.weights'\n",
    "torch.save(model.state_dict(),weights_ofn)\n",
    "save_derivs(weights_ofn)"
   ]
  },
  {
   "cell_type": "code",
   "execution_count": null,
   "id": "74559b24-39ec-483b-8cce-be67e93eee72",
   "metadata": {},
   "outputs": [],
   "source": [
    "dashboard.adversarial_losses(track)"
   ]
  },
  {
   "cell_type": "code",
   "execution_count": null,
   "id": "99a305dc-1599-45a1-939e-9d564b3bc6ae",
   "metadata": {},
   "outputs": [],
   "source": [
    "dashboard.adversarial_ffa_coords2_conv(ffa_list,batch_size,device,model,noi_list,face_reg,place_reg,ffa_coords)"
   ]
  },
  {
   "cell_type": "code",
   "execution_count": null,
   "id": "bd64bcd8-d42e-49fa-83df-a4dc6c750433",
   "metadata": {},
   "outputs": [],
   "source": [
    "plot_contrast()"
   ]
  },
  {
   "cell_type": "markdown",
   "id": "9f274a20-5fa5-43d4-a337-dd366ab91895",
   "metadata": {},
   "source": [
    "### Train longer"
   ]
  },
  {
   "cell_type": "code",
   "execution_count": null,
   "id": "895df45f-f5a6-45a5-b115-7a2637a9c4f9",
   "metadata": {},
   "outputs": [],
   "source": [
    "#n_epochs = 1000\n",
    "for epoch in tqdm(range(n_epochs)):  # loop over the dataset multiple times    \n",
    "    dataloader_iter_in = iter(train_in)\n",
    "    running_loss = 0\n",
    "    running_loss_signal = 0\n",
    "    running_loss_noise = 0\n",
    "    for i in range(len(train_in)):           \n",
    "        optimizer.zero_grad()\n",
    "        inputs_gm,inputs_cf,coords = next(dataloader_iter_in)\n",
    "        inputs_gm = inputs_gm.float().to(device)\n",
    "        inputs_cf = inputs_cf.float().to(device)\n",
    "        coords = coords.float().to(device)\n",
    "        [sig, noise] = model.forward(inputs_gm)\n",
    "        #loss,loss_signal,loss_noise = model.loss_ncc_gmm(inputs_gm,inputs_cf,signal,noise,pca,gmm,device)\n",
    "        loss_ncc,loss_signal_ncc,loss_noise_ncc = model.loss_ncc(inputs_gm[:,0,:],inputs_cf,sig[:,0:epi.shape[-1]],noise[:,0:epi.shape[-1]])\n",
    "        loss_mse,loss_signal_mse,loss_noise_mse = model.loss_function(inputs_gm[:,0,:],inputs_cf,sig[:,0:epi.shape[-1]],noise[:,0:epi.shape[-1]])\n",
    "        loss = loss_ncc+loss_mse\n",
    "        loss_signal = loss_signal_ncc+loss_signal_mse\n",
    "        loss_noise = loss_noise_ncc+loss_noise_mse\n",
    "        if np.isnan(loss.detach().cpu().numpy()):\n",
    "            print('loss is NaN')\n",
    "            break\n",
    "        loss.backward()\n",
    "        optimizer.step()\n",
    "        running_loss += loss\n",
    "        running_loss_signal += loss_signal\n",
    "        running_loss_noise += loss_noise        \n",
    "    epoch_loss = running_loss / len(train_in)\n",
    "    epoch_loss_signal = running_loss_signal / len(train_in)\n",
    "    epoch_loss_noise = running_loss_noise / len(train_in)\n",
    "    loss_L.append(epoch_loss.detach().cpu().numpy())\n",
    "    loss_signal_L.append(epoch_loss_signal.detach().cpu().numpy())\n",
    "    loss_noise_L.append(epoch_loss_noise.detach().cpu().numpy())\n",
    "    track['loss_L'] = loss_L\n",
    "    track['loss_signal_L'] = loss_signal_L\n",
    "    track['loss_noise_L'] = loss_noise_L\n",
    "\n",
    "weights_ofn = f'../Data/StudyForrest/conv_coords/{conv_dir}/conv_denoise500-{sub}.weights'\n",
    "torch.save(model.state_dict(),weights_ofn)\n",
    "save_derivs(weights_ofn)"
   ]
  },
  {
   "cell_type": "code",
   "execution_count": null,
   "id": "fdef67eb-6e85-4f6a-9b03-9ddd85d63493",
   "metadata": {},
   "outputs": [],
   "source": [
    "dashboard.adversarial_losses(track)"
   ]
  },
  {
   "cell_type": "code",
   "execution_count": null,
   "id": "48b9fbc4-5379-4caf-a9a4-41b94790227f",
   "metadata": {},
   "outputs": [],
   "source": [
    "dashboard.adversarial_ffa_coords2_conv(ffa_list,batch_size,device,model,noi_list,face_reg,place_reg,ffa_coords)"
   ]
  },
  {
   "cell_type": "code",
   "execution_count": null,
   "id": "38e61591-50df-4e13-8434-bcde37d16dd0",
   "metadata": {},
   "outputs": [],
   "source": [
    "plot_contrast()"
   ]
  },
  {
   "cell_type": "markdown",
   "id": "01d94308-c666-4381-936e-429d54247615",
   "metadata": {},
   "source": [
    "### Conv denoiser with batchnorm"
   ]
  },
  {
   "cell_type": "code",
   "execution_count": null,
   "id": "4c1b2e5d-e9e3-4672-abb6-6462b2274d2f",
   "metadata": {},
   "outputs": [],
   "source": [
    "# n_epochs = 1000\n",
    "# batch_size = 1024\n",
    "\n",
    "torch.cuda.empty_cache()\n",
    "torch.cuda.init()\n",
    "\n",
    "# Dataset\n",
    "train_inputs = datasets.TrainDataset_coords2conv(obs_list,noi_list,gm_coords)\n",
    "\n",
    "# Dataloader\n",
    "train_in = torch.utils.data.DataLoader(train_inputs, batch_size=batch_size,\n",
    "                                                 shuffle=True, num_workers=1,drop_last=True)\n",
    "\n",
    "# Output folder\n",
    "\n",
    "timestamp = \"{:%Y_%m_%d_%H_%M_%S}\".format(datetime.now())\n",
    "conv_dir = f'conv-{sub}-R{r}-T-{timestamp}' # pretraining dir is {sub}-{run}-{timestamp}\n",
    "print(conv_dir)\n",
    "utils.safe_mkdir(os.path.join('../Data/StudyForrest/conv_coords',conv_dir)) # Makes the directory\n",
    "device = torch.device('cuda:0' if torch.cuda.is_available() else 'cpu')\n",
    "\n",
    "# Model\n",
    "model = models.Conv1DdenoiseBN(input_channels = 4)   # need to add the last layer to rebuild the original size\n",
    "model.to(device)\n",
    "\n",
    "# Optimizer\n",
    "optimizer = optim.AdamW(model.parameters(), lr=0.001, betas=(0.9, 0.999), eps=1e-08)"
   ]
  },
  {
   "cell_type": "code",
   "execution_count": null,
   "id": "284d1f7f-8b20-4a3d-9dcc-cab63af9bd19",
   "metadata": {},
   "outputs": [],
   "source": [
    "track = {}\n",
    "loss_L = []\n",
    "loss_signal_L = []\n",
    "loss_noise_L = []\n",
    "track['face_reg'] = face_reg\n",
    "for epoch in tqdm(range(n_epochs)):  # loop over the dataset multiple times    \n",
    "    dataloader_iter_in = iter(train_in)\n",
    "    running_loss = 0\n",
    "    running_loss_signal = 0\n",
    "    running_loss_noise = 0\n",
    "    for i in range(len(train_in)):           \n",
    "        optimizer.zero_grad()\n",
    "        inputs_gm,inputs_cf,coords = next(dataloader_iter_in)\n",
    "        inputs_gm = inputs_gm.float().to(device)\n",
    "        inputs_cf = inputs_cf.float().to(device)\n",
    "        coords = coords.float().to(device)\n",
    "        [sig, noise] = model.forward(inputs_gm)\n",
    "        #loss,loss_signal,loss_noise = model.loss_ncc_gmm(inputs_gm,inputs_cf,signal,noise,pca,gmm,device)\n",
    "        loss_ncc,loss_signal_ncc,loss_noise_ncc = model.loss_ncc(inputs_gm[:,0,:],inputs_cf,sig[:,0:epi.shape[-1]],noise[:,0:epi.shape[-1]])\n",
    "        loss_mse,loss_signal_mse,loss_noise_mse = model.loss_function(inputs_gm[:,0,:],inputs_cf,sig[:,0:epi.shape[-1]],noise[:,0:epi.shape[-1]])\n",
    "        loss = loss_ncc+loss_mse\n",
    "        loss_signal = loss_signal_ncc+loss_signal_mse\n",
    "        loss_noise = loss_noise_ncc+loss_noise_mse\n",
    "        if np.isnan(loss.detach().cpu().numpy()):\n",
    "            print('loss is NaN')\n",
    "            break\n",
    "        loss.backward()\n",
    "        optimizer.step()\n",
    "        running_loss += loss\n",
    "        running_loss_signal += loss_signal\n",
    "        running_loss_noise += loss_noise        \n",
    "    epoch_loss = running_loss / len(train_in)\n",
    "    epoch_loss_signal = running_loss_signal / len(train_in)\n",
    "    epoch_loss_noise = running_loss_noise / len(train_in)\n",
    "    loss_L.append(epoch_loss.detach().cpu().numpy())\n",
    "    loss_signal_L.append(epoch_loss_signal.detach().cpu().numpy())\n",
    "    loss_noise_L.append(epoch_loss_noise.detach().cpu().numpy())\n",
    "    track['loss_L'] = loss_L\n",
    "    track['loss_signal_L'] = loss_signal_L\n",
    "    track['loss_noise_L'] = loss_noise_L\n",
    "\n",
    "weights_ofn = f'../Data/StudyForrest/conv_coords/{conv_dir}/conv_denoise_bn-{sub}.weights'\n",
    "torch.save(model.state_dict(),weights_ofn)\n",
    "save_derivs(weights_ofn)"
   ]
  },
  {
   "cell_type": "code",
   "execution_count": null,
   "id": "5115118d-414b-4c0a-a0a7-31cb2064476c",
   "metadata": {},
   "outputs": [],
   "source": [
    "dashboard.adversarial_losses(track)"
   ]
  },
  {
   "cell_type": "code",
   "execution_count": null,
   "id": "41edd28d-9fce-4e55-ba0b-e6386f31f1e0",
   "metadata": {},
   "outputs": [],
   "source": [
    "dashboard.adversarial_ffa_coords2_conv(ffa_list,batch_size,device,model,noi_list,face_reg,place_reg,ffa_coords)"
   ]
  },
  {
   "cell_type": "code",
   "execution_count": null,
   "id": "6103dfed-90a2-4141-87a9-f18a2de47b0f",
   "metadata": {},
   "outputs": [],
   "source": [
    "plot_contrast()"
   ]
  },
  {
   "cell_type": "markdown",
   "id": "24971492-7de6-46a2-9286-fdd9fbc293ac",
   "metadata": {},
   "source": [
    "### Larger conv denoiser"
   ]
  },
  {
   "cell_type": "code",
   "execution_count": null,
   "id": "0829aa16-ec68-4552-97ed-fa6577f17618",
   "metadata": {},
   "outputs": [],
   "source": [
    "# n_epochs = 1000\n",
    "# batch_size = 1024\n",
    "\n",
    "torch.cuda.empty_cache()\n",
    "torch.cuda.init()\n",
    "\n",
    "# Dataset\n",
    "train_inputs = datasets.TrainDataset_coords2conv(obs_list,noi_list,gm_coords)\n",
    "\n",
    "# Dataloader\n",
    "train_in = torch.utils.data.DataLoader(train_inputs, batch_size=batch_size,\n",
    "                                                 shuffle=True, num_workers=1,drop_last=True)\n",
    "\n",
    "# Output folder\n",
    "\n",
    "timestamp = \"{:%Y_%m_%d_%H_%M_%S}\".format(datetime.now())\n",
    "conv_dir = f'conv-{sub}-R{r}-T-{timestamp}' # pretraining dir is {sub}-{run}-{timestamp}\n",
    "print(conv_dir)\n",
    "utils.safe_mkdir(os.path.join('../Data/StudyForrest/conv_coords',conv_dir)) # Makes the directory\n",
    "device = torch.device('cuda:0' if torch.cuda.is_available() else 'cpu')\n",
    "\n",
    "# Model\n",
    "model = models.Conv1Ddenoise_large(input_channels = 4)   # need to add the last layer to rebuild the original size\n",
    "model.to(device)\n",
    "\n",
    "# Optimizer\n",
    "optimizer = optim.AdamW(model.parameters(), lr=0.001, betas=(0.9, 0.999), eps=1e-08)"
   ]
  },
  {
   "cell_type": "code",
   "execution_count": null,
   "id": "e2c2c46b-cbee-435d-8dbc-c1dea91ec98b",
   "metadata": {},
   "outputs": [],
   "source": [
    "track = {}\n",
    "loss_L = []\n",
    "loss_signal_L = []\n",
    "loss_noise_L = []\n",
    "track['face_reg'] = face_reg\n",
    "for epoch in tqdm(range(n_epochs)):  # loop over the dataset multiple times    \n",
    "    dataloader_iter_in = iter(train_in)\n",
    "    running_loss = 0\n",
    "    running_loss_signal = 0\n",
    "    running_loss_noise = 0\n",
    "    for i in range(len(train_in)):           \n",
    "        optimizer.zero_grad()\n",
    "        inputs_gm,inputs_cf,coords = next(dataloader_iter_in)\n",
    "        inputs_gm = inputs_gm.float().to(device)\n",
    "        inputs_cf = inputs_cf.float().to(device)\n",
    "        coords = coords.float().to(device)\n",
    "        [sig, noise] = model.forward(inputs_gm)\n",
    "        #loss,loss_signal,loss_noise = model.loss_ncc_gmm(inputs_gm,inputs_cf,signal,noise,pca,gmm,device)\n",
    "        loss_ncc,loss_signal_ncc,loss_noise_ncc = model.loss_ncc(inputs_gm[:,0,:],inputs_cf,sig[:,0:epi.shape[-1]],noise[:,0:epi.shape[-1]])\n",
    "        loss_mse,loss_signal_mse,loss_noise_mse = model.loss_function(inputs_gm[:,0,:],inputs_cf,sig[:,0:epi.shape[-1]],noise[:,0:epi.shape[-1]])\n",
    "        loss = loss_ncc+loss_mse\n",
    "        loss_signal = loss_signal_ncc+loss_signal_mse\n",
    "        loss_noise = loss_noise_ncc+loss_noise_mse\n",
    "        if np.isnan(loss.detach().cpu().numpy()):\n",
    "            print('loss is NaN')\n",
    "            break\n",
    "        loss.backward()\n",
    "        optimizer.step()\n",
    "        running_loss += loss\n",
    "        running_loss_signal += loss_signal\n",
    "        running_loss_noise += loss_noise        \n",
    "    epoch_loss = running_loss / len(train_in)\n",
    "    epoch_loss_signal = running_loss_signal / len(train_in)\n",
    "    epoch_loss_noise = running_loss_noise / len(train_in)\n",
    "    loss_L.append(epoch_loss.detach().cpu().numpy())\n",
    "    loss_signal_L.append(epoch_loss_signal.detach().cpu().numpy())\n",
    "    loss_noise_L.append(epoch_loss_noise.detach().cpu().numpy())\n",
    "    track['loss_L'] = loss_L\n",
    "    track['loss_signal_L'] = loss_signal_L\n",
    "    track['loss_noise_L'] = loss_noise_L\n",
    "\n",
    "weights_ofn = f'../Data/StudyForrest/conv_coords/{conv_dir}/conv_denoise_large-{sub}.weights'\n",
    "torch.save(model.state_dict(),weights_ofn)\n",
    "save_derivs(weights_ofn)"
   ]
  },
  {
   "cell_type": "code",
   "execution_count": null,
   "id": "79f0c528-66c7-4e7a-855b-a2b28e4aefde",
   "metadata": {},
   "outputs": [],
   "source": [
    "dashboard.adversarial_losses(track)"
   ]
  },
  {
   "cell_type": "code",
   "execution_count": null,
   "id": "f932034c-31b7-46d8-b5c7-ef42ce87fcf3",
   "metadata": {},
   "outputs": [],
   "source": [
    "dashboard.adversarial_ffa_coords2_conv(ffa_list,batch_size,device,model,noi_list,face_reg,place_reg,ffa_coords)"
   ]
  },
  {
   "cell_type": "code",
   "execution_count": null,
   "id": "618f7fd9-dc99-448e-b24d-5548fcebc790",
   "metadata": {},
   "outputs": [],
   "source": [
    "plot_contrast()"
   ]
  },
  {
   "cell_type": "markdown",
   "id": "8d34d809-61c1-4ec6-94f5-322d2c9bb25c",
   "metadata": {},
   "source": [
    "### Train longer"
   ]
  },
  {
   "cell_type": "code",
   "execution_count": null,
   "id": "011900eb-79a1-4261-a4a3-9b69eed7432b",
   "metadata": {},
   "outputs": [],
   "source": [
    "#n_epochs = 1000\n",
    "for epoch in tqdm(range(n_epochs)):  # loop over the dataset multiple times    \n",
    "    dataloader_iter_in = iter(train_in)\n",
    "    running_loss = 0\n",
    "    running_loss_signal = 0\n",
    "    running_loss_noise = 0\n",
    "    for i in range(len(train_in)):           \n",
    "        optimizer.zero_grad()\n",
    "        inputs_gm,inputs_cf,coords = next(dataloader_iter_in)\n",
    "        inputs_gm = inputs_gm.float().to(device)\n",
    "        inputs_cf = inputs_cf.float().to(device)\n",
    "        coords = coords.float().to(device)\n",
    "        [sig, noise] = model.forward(inputs_gm)\n",
    "        #loss,loss_signal,loss_noise = model.loss_ncc_gmm(inputs_gm,inputs_cf,signal,noise,pca,gmm,device)\n",
    "        loss_ncc,loss_signal_ncc,loss_noise_ncc = model.loss_ncc(inputs_gm[:,0,:],inputs_cf,sig[:,0:epi.shape[-1]],noise[:,0:epi.shape[-1]])\n",
    "        loss_mse,loss_signal_mse,loss_noise_mse = model.loss_function(inputs_gm[:,0,:],inputs_cf,sig[:,0:epi.shape[-1]],noise[:,0:epi.shape[-1]])\n",
    "        loss = loss_ncc+loss_mse\n",
    "        loss_signal = loss_signal_ncc+loss_signal_mse\n",
    "        loss_noise = loss_noise_ncc+loss_noise_mse\n",
    "        if np.isnan(loss.detach().cpu().numpy()):\n",
    "            print('loss is NaN')\n",
    "            break\n",
    "        loss.backward()\n",
    "        optimizer.step()\n",
    "        running_loss += loss\n",
    "        running_loss_signal += loss_signal\n",
    "        running_loss_noise += loss_noise        \n",
    "    epoch_loss = running_loss / len(train_in)\n",
    "    epoch_loss_signal = running_loss_signal / len(train_in)\n",
    "    epoch_loss_noise = running_loss_noise / len(train_in)\n",
    "    loss_L.append(epoch_loss.detach().cpu().numpy())\n",
    "    loss_signal_L.append(epoch_loss_signal.detach().cpu().numpy())\n",
    "    loss_noise_L.append(epoch_loss_noise.detach().cpu().numpy())\n",
    "    track['loss_L'] = loss_L\n",
    "    track['loss_signal_L'] = loss_signal_L\n",
    "    track['loss_noise_L'] = loss_noise_L\n",
    "\n",
    "weights_ofn = f'../Data/StudyForrest/conv_coords/{conv_dir}/conv_denoise_large500-{sub}.weights'\n",
    "torch.save(model.state_dict(),weights_ofn)\n",
    "save_derivs(weights_ofn)"
   ]
  },
  {
   "cell_type": "code",
   "execution_count": null,
   "id": "beb6dba5-9388-4260-b245-15e3188ceeb8",
   "metadata": {},
   "outputs": [],
   "source": [
    "dashboard.adversarial_losses(track)"
   ]
  },
  {
   "cell_type": "code",
   "execution_count": null,
   "id": "ee00897e-c230-40c7-9aa0-e12fc94454ad",
   "metadata": {},
   "outputs": [],
   "source": [
    "dashboard.adversarial_ffa_coords2_conv(ffa_list,batch_size,device,model,noi_list,face_reg,place_reg,ffa_coords)"
   ]
  },
  {
   "cell_type": "code",
   "execution_count": null,
   "id": "278a2fe4-fa20-44ff-abf1-2840bf505f35",
   "metadata": {},
   "outputs": [],
   "source": [
    "plot_contrast()"
   ]
  },
  {
   "cell_type": "markdown",
   "id": "280bccd9-35ef-4ac6-9ba7-9d898f8bf952",
   "metadata": {},
   "source": [
    "### Conv denoiser with smoothness loss"
   ]
  },
  {
   "cell_type": "code",
   "execution_count": null,
   "id": "928bcc94-fe8a-4452-99d7-2d7d604fc08e",
   "metadata": {},
   "outputs": [],
   "source": [
    "# n_epochs = 1000\n",
    "# batch_size = 1024\n",
    "\n",
    "torch.cuda.empty_cache()\n",
    "torch.cuda.init()\n",
    "\n",
    "# Dataset\n",
    "train_inputs = datasets.TrainDataset_coords2conv(obs_list,noi_list,gm_coords)\n",
    "\n",
    "# Dataloader\n",
    "train_in = torch.utils.data.DataLoader(train_inputs, batch_size=batch_size,\n",
    "                                                 shuffle=True, num_workers=1,drop_last=True)\n",
    "\n",
    "# Output folder\n",
    "\n",
    "timestamp = \"{:%Y_%m_%d_%H_%M_%S}\".format(datetime.now())\n",
    "conv_dir = f'conv-{sub}-R{r}-T-{timestamp}' # pretraining dir is {sub}-{run}-{timestamp}\n",
    "print(conv_dir)\n",
    "utils.safe_mkdir(os.path.join('../Data/StudyForrest/conv_coords',conv_dir)) # Makes the directory\n",
    "device = torch.device('cuda:0' if torch.cuda.is_available() else 'cpu')\n",
    "\n",
    "# Model\n",
    "model = models.Conv1Ddenoise(input_channels = 4)   # need to add the last layer to rebuild the original size\n",
    "model.to(device)\n",
    "\n",
    "# Optimizer\n",
    "optimizer = optim.AdamW(model.parameters(), lr=0.001, betas=(0.9, 0.999), eps=1e-08)"
   ]
  },
  {
   "cell_type": "code",
   "execution_count": null,
   "id": "8bde67fa-05a8-4264-9159-05de7ee824fb",
   "metadata": {},
   "outputs": [],
   "source": [
    "track = {}\n",
    "loss_L = []\n",
    "loss_signal_L = []\n",
    "loss_noise_L = []\n",
    "track['face_reg'] = face_reg\n",
    "for epoch in tqdm(range(n_epochs)):  # loop over the dataset multiple times    \n",
    "    dataloader_iter_in = iter(train_in)\n",
    "    running_loss = 0\n",
    "    running_loss_signal = 0\n",
    "    running_loss_noise = 0\n",
    "    for i in range(len(train_in)):           \n",
    "        optimizer.zero_grad()\n",
    "        inputs_gm,inputs_cf,coords = next(dataloader_iter_in)\n",
    "        inputs_gm = inputs_gm.float().to(device)\n",
    "        inputs_cf = inputs_cf.float().to(device)\n",
    "        coords = coords.float().to(device)\n",
    "        [sig, noise] = model.forward(inputs_gm)\n",
    "        #loss,loss_signal,loss_noise = model.loss_ncc_gmm(inputs_gm,inputs_cf,signal,noise,pca,gmm,device)\n",
    "        loss_ncc,loss_signal_ncc,loss_noise_ncc = model.loss_ncc(inputs_gm[:,0,:],inputs_cf,sig[:,0:epi.shape[-1]],noise[:,0:epi.shape[-1]])\n",
    "        loss_mse,loss_signal_mse,loss_noise_mse = model.loss_function(inputs_gm[:,0,:],inputs_cf,sig[:,0:epi.shape[-1]],noise[:,0:epi.shape[-1]])\n",
    "        smoothness_loss = model.smoothness_loss(sig[:,0:epi.shape[-1]])\n",
    "        loss = loss_ncc+loss_mse+0.01*smoothness_loss\n",
    "        loss_signal = loss_signal_ncc+loss_signal_mse\n",
    "        loss_noise = loss_noise_ncc+loss_noise_mse\n",
    "        if np.isnan(loss.detach().cpu().numpy()):\n",
    "            print('loss is NaN')\n",
    "            break\n",
    "        loss.backward()\n",
    "        optimizer.step()\n",
    "        running_loss += loss\n",
    "        running_loss_signal += loss_signal\n",
    "        running_loss_noise += loss_noise        \n",
    "    epoch_loss = running_loss / len(train_in)\n",
    "    epoch_loss_signal = running_loss_signal / len(train_in)\n",
    "    epoch_loss_noise = running_loss_noise / len(train_in)\n",
    "    loss_L.append(epoch_loss.detach().cpu().numpy())\n",
    "    loss_signal_L.append(epoch_loss_signal.detach().cpu().numpy())\n",
    "    loss_noise_L.append(epoch_loss_noise.detach().cpu().numpy())\n",
    "    track['loss_L'] = loss_L\n",
    "    track['loss_signal_L'] = loss_signal_L\n",
    "    track['loss_noise_L'] = loss_noise_L\n",
    "\n",
    "weights_ofn = f'../Data/StudyForrest/conv_coords/{conv_dir}/conv_smooth-{sub}.weights'\n",
    "torch.save(model.state_dict(),weights_ofn)\n",
    "save_derivs(weights_ofn)"
   ]
  },
  {
   "cell_type": "code",
   "execution_count": null,
   "id": "6cbf242d-b842-4b6a-bb9f-43e75a73f271",
   "metadata": {},
   "outputs": [],
   "source": [
    "dashboard.adversarial_losses(track)"
   ]
  },
  {
   "cell_type": "code",
   "execution_count": null,
   "id": "94ca20f7-d6ee-4033-8b60-f016efe1e10c",
   "metadata": {},
   "outputs": [],
   "source": [
    "dashboard.adversarial_ffa_coords2_conv(ffa_list,batch_size,device,model,noi_list,face_reg,place_reg,ffa_coords)"
   ]
  },
  {
   "cell_type": "code",
   "execution_count": null,
   "id": "afe10bc5-5bf3-4fa1-ad24-c2b29bfcf085",
   "metadata": {},
   "outputs": [],
   "source": [
    "plot_contrast()"
   ]
  },
  {
   "cell_type": "markdown",
   "id": "734f9a39-65f8-44b4-b7fd-992724e9895a",
   "metadata": {},
   "source": [
    "### Smaller amount of smoothness"
   ]
  },
  {
   "cell_type": "code",
   "execution_count": null,
   "id": "061b10e3-b7c6-4a7f-940b-6d9447987a80",
   "metadata": {},
   "outputs": [],
   "source": [
    "# n_epochs = 1000\n",
    "# batch_size = 1024\n",
    "\n",
    "torch.cuda.empty_cache()\n",
    "torch.cuda.init()\n",
    "\n",
    "# Dataset\n",
    "train_inputs = datasets.TrainDataset_coords2conv(obs_list,noi_list,gm_coords)\n",
    "\n",
    "# Dataloader\n",
    "train_in = torch.utils.data.DataLoader(train_inputs, batch_size=batch_size,\n",
    "                                                 shuffle=True, num_workers=1,drop_last=True)\n",
    "\n",
    "# Output folder\n",
    "\n",
    "timestamp = \"{:%Y_%m_%d_%H_%M_%S}\".format(datetime.now())\n",
    "conv_dir = f'conv-{sub}-R{r}-T-{timestamp}' # pretraining dir is {sub}-{run}-{timestamp}\n",
    "print(conv_dir)\n",
    "utils.safe_mkdir(os.path.join('../Data/StudyForrest/conv_coords',conv_dir)) # Makes the directory\n",
    "device = torch.device('cuda:0' if torch.cuda.is_available() else 'cpu')\n",
    "\n",
    "# Model\n",
    "model = models.Conv1Ddenoise(input_channels = 4)   # need to add the last layer to rebuild the original size\n",
    "model.to(device)\n",
    "\n",
    "# Optimizer\n",
    "optimizer = optim.AdamW(model.parameters(), lr=0.001, betas=(0.9, 0.999), eps=1e-08)"
   ]
  },
  {
   "cell_type": "code",
   "execution_count": null,
   "id": "44808821-9b8d-4be5-8824-57fc9336a41a",
   "metadata": {},
   "outputs": [],
   "source": [
    "track = {}\n",
    "loss_L = []\n",
    "loss_signal_L = []\n",
    "loss_noise_L = []\n",
    "track['face_reg'] = face_reg\n",
    "for epoch in tqdm(range(n_epochs)):  # loop over the dataset multiple times    \n",
    "    dataloader_iter_in = iter(train_in)\n",
    "    running_loss = 0\n",
    "    running_loss_signal = 0\n",
    "    running_loss_noise = 0\n",
    "    for i in range(len(train_in)):           \n",
    "        optimizer.zero_grad()\n",
    "        inputs_gm,inputs_cf,coords = next(dataloader_iter_in)\n",
    "        inputs_gm = inputs_gm.float().to(device)\n",
    "        inputs_cf = inputs_cf.float().to(device)\n",
    "        coords = coords.float().to(device)\n",
    "        [sig, noise] = model.forward(inputs_gm)\n",
    "        #loss,loss_signal,loss_noise = model.loss_ncc_gmm(inputs_gm,inputs_cf,signal,noise,pca,gmm,device)\n",
    "        loss_ncc,loss_signal_ncc,loss_noise_ncc = model.loss_ncc(inputs_gm[:,0,:],inputs_cf,sig[:,0:epi.shape[-1]],noise[:,0:epi.shape[-1]])\n",
    "        loss_mse,loss_signal_mse,loss_noise_mse = model.loss_function(inputs_gm[:,0,:],inputs_cf,sig[:,0:epi.shape[-1]],noise[:,0:epi.shape[-1]])\n",
    "        smoothness_loss = model.smoothness_loss(sig[:,0:epi.shape[-1]])\n",
    "        loss = loss_ncc+loss_mse+0.0001*smoothness_loss\n",
    "        loss_signal = loss_signal_ncc+loss_signal_mse\n",
    "        loss_noise = loss_noise_ncc+loss_noise_mse\n",
    "        if np.isnan(loss.detach().cpu().numpy()):\n",
    "            print('loss is NaN')\n",
    "            break\n",
    "        loss.backward()\n",
    "        optimizer.step()\n",
    "        running_loss += loss\n",
    "        running_loss_signal += loss_signal\n",
    "        running_loss_noise += loss_noise        \n",
    "    epoch_loss = running_loss / len(train_in)\n",
    "    epoch_loss_signal = running_loss_signal / len(train_in)\n",
    "    epoch_loss_noise = running_loss_noise / len(train_in)\n",
    "    loss_L.append(epoch_loss.detach().cpu().numpy())\n",
    "    loss_signal_L.append(epoch_loss_signal.detach().cpu().numpy())\n",
    "    loss_noise_L.append(epoch_loss_noise.detach().cpu().numpy())\n",
    "    track['loss_L'] = loss_L\n",
    "    track['loss_signal_L'] = loss_signal_L\n",
    "    track['loss_noise_L'] = loss_noise_L\n",
    "\n",
    "weights_ofn = f'../Data/StudyForrest/conv_coords/{conv_dir}/conv_smooth-small-{sub}.weights'\n",
    "torch.save(model.state_dict(),weights_ofn)\n",
    "save_derivs(weights_ofn)"
   ]
  },
  {
   "cell_type": "code",
   "execution_count": null,
   "id": "032d326a-266e-4e0a-b7b9-d064e4c36da8",
   "metadata": {},
   "outputs": [],
   "source": [
    "dashboard.adversarial_losses(track)"
   ]
  },
  {
   "cell_type": "code",
   "execution_count": null,
   "id": "82fb1bdb-a582-4884-8d3e-f48265f15ee1",
   "metadata": {},
   "outputs": [],
   "source": [
    "dashboard.adversarial_ffa_coords2_conv(ffa_list,batch_size,device,model,noi_list,face_reg,place_reg,ffa_coords)"
   ]
  },
  {
   "cell_type": "code",
   "execution_count": null,
   "id": "ae1c0f73-1060-452f-a848-5b9b7ecd6f60",
   "metadata": {},
   "outputs": [],
   "source": [
    "plot_contrast()"
   ]
  },
  {
   "cell_type": "markdown",
   "id": "6a756dc6-0ab8-4b3d-a5ea-167a318a5b6c",
   "metadata": {},
   "source": [
    "### Unet denoiser"
   ]
  },
  {
   "cell_type": "code",
   "execution_count": null,
   "id": "40b48b27-c10d-45cb-a08a-3c84d84f9658",
   "metadata": {},
   "outputs": [],
   "source": [
    "# n_epochs = 1000\n",
    "# batch_size = 1024\n",
    "\n",
    "torch.cuda.empty_cache()\n",
    "torch.cuda.init()\n",
    "\n",
    "# Dataset\n",
    "train_inputs = datasets.TrainDataset_coords2conv(obs_list,noi_list,gm_coords)\n",
    "\n",
    "# Dataloader\n",
    "train_in = torch.utils.data.DataLoader(train_inputs, batch_size=batch_size,\n",
    "                                                 shuffle=True, num_workers=1,drop_last=True)\n",
    "\n",
    "# Output folder\n",
    "\n",
    "timestamp = \"{:%Y_%m_%d_%H_%M_%S}\".format(datetime.now())\n",
    "conv_dir = f'conv-{sub}-R{r}-T-{timestamp}' # pretraining dir is {sub}-{run}-{timestamp}\n",
    "print(conv_dir)\n",
    "utils.safe_mkdir(os.path.join('../Data/StudyForrest/conv_coords',conv_dir)) # Makes the directory\n",
    "device = torch.device('cuda:0' if torch.cuda.is_available() else 'cpu')\n",
    "\n",
    "# Model\n",
    "model = models.Conv1DUnet_denoise(input_channels = 4)   # need to add the last layer to rebuild the original size\n",
    "model.to(device)\n",
    "\n",
    "# Optimizer\n",
    "optimizer = optim.AdamW(model.parameters(), lr=0.001, betas=(0.9, 0.999), eps=1e-08)"
   ]
  },
  {
   "cell_type": "code",
   "execution_count": null,
   "id": "b5d1cd51-d25d-49d0-9fad-5c307471e632",
   "metadata": {},
   "outputs": [],
   "source": [
    "track = {}\n",
    "loss_L = []\n",
    "loss_signal_L = []\n",
    "loss_noise_L = []\n",
    "track['face_reg'] = face_reg\n",
    "for epoch in tqdm(range(n_epochs)):  # loop over the dataset multiple times    \n",
    "    dataloader_iter_in = iter(train_in)\n",
    "    running_loss = 0\n",
    "    running_loss_signal = 0\n",
    "    running_loss_noise = 0\n",
    "    for i in range(len(train_in)):           \n",
    "        optimizer.zero_grad()\n",
    "        inputs_gm,inputs_cf,coords = next(dataloader_iter_in)\n",
    "        inputs_gm = inputs_gm.float().to(device)\n",
    "        inputs_cf = inputs_cf.float().to(device)\n",
    "        coords = coords.float().to(device)\n",
    "        [sig, noise] = model.forward(inputs_gm)\n",
    "        #loss,loss_signal,loss_noise = model.loss_ncc_gmm(inputs_gm,inputs_cf,signal,noise,pca,gmm,device)\n",
    "        loss_ncc,loss_signal_ncc,loss_noise_ncc = model.loss_ncc(inputs_gm[:,0,:],inputs_cf,sig[:,0:epi.shape[-1]],noise[:,0:epi.shape[-1]])\n",
    "        loss_mse,loss_signal_mse,loss_noise_mse = model.loss_function(inputs_gm[:,0,:],inputs_cf,sig[:,0:epi.shape[-1]],noise[:,0:epi.shape[-1]])\n",
    "        loss = loss_ncc+loss_mse\n",
    "        loss_signal = loss_signal_ncc+loss_signal_mse\n",
    "        loss_noise = loss_noise_ncc+loss_noise_mse\n",
    "        if np.isnan(loss.detach().cpu().numpy()):\n",
    "            print('loss is NaN')\n",
    "            break\n",
    "        loss.backward()\n",
    "        optimizer.step()\n",
    "        running_loss += loss\n",
    "        running_loss_signal += loss_signal\n",
    "        running_loss_noise += loss_noise        \n",
    "    epoch_loss = running_loss / len(train_in)\n",
    "    epoch_loss_signal = running_loss_signal / len(train_in)\n",
    "    epoch_loss_noise = running_loss_noise / len(train_in)\n",
    "    loss_L.append(epoch_loss.detach().cpu().numpy())\n",
    "    loss_signal_L.append(epoch_loss_signal.detach().cpu().numpy())\n",
    "    loss_noise_L.append(epoch_loss_noise.detach().cpu().numpy())\n",
    "    track['loss_L'] = loss_L\n",
    "    track['loss_signal_L'] = loss_signal_L\n",
    "    track['loss_noise_L'] = loss_noise_L\n",
    "\n",
    "weights_ofn = f'../Data/StudyForrest/conv_coords/{conv_dir}/conv_weights_unet_denoise-{sub}.weights'\n",
    "torch.save(model.state_dict(),weights_ofn)\n",
    "save_derivs(weights_ofn)"
   ]
  },
  {
   "cell_type": "code",
   "execution_count": null,
   "id": "d3d896c3-c327-4120-abdf-f1c343b93e70",
   "metadata": {},
   "outputs": [],
   "source": [
    "dashboard.adversarial_losses(track)"
   ]
  },
  {
   "cell_type": "code",
   "execution_count": null,
   "id": "5e7fb92d-b7d2-42cc-a32c-9c495798dc6a",
   "metadata": {},
   "outputs": [],
   "source": [
    "dashboard.adversarial_ffa_coords2_conv(ffa_list,batch_size,device,model,noi_list,face_reg,place_reg,ffa_coords)"
   ]
  },
  {
   "cell_type": "code",
   "execution_count": null,
   "id": "38e1057a-78ee-4434-af92-c422b0098bbc",
   "metadata": {},
   "outputs": [],
   "source": [
    "plot_contrast()"
   ]
  },
  {
   "cell_type": "markdown",
   "id": "f691b5e2-fe22-4999-a8cc-52b2ebc3921a",
   "metadata": {},
   "source": [
    "### Train longer"
   ]
  },
  {
   "cell_type": "code",
   "execution_count": null,
   "id": "d3cd4dcd-b12d-4865-ad4b-687a98da3c0b",
   "metadata": {},
   "outputs": [],
   "source": [
    "#n_epochs = 1000\n",
    "for epoch in tqdm(range(n_epochs)):  # loop over the dataset multiple times    \n",
    "    dataloader_iter_in = iter(train_in)\n",
    "    running_loss = 0\n",
    "    running_loss_signal = 0\n",
    "    running_loss_noise = 0\n",
    "    for i in range(len(train_in)):           \n",
    "        optimizer.zero_grad()\n",
    "        inputs_gm,inputs_cf,coords = next(dataloader_iter_in)\n",
    "        inputs_gm = inputs_gm.float().to(device)\n",
    "        inputs_cf = inputs_cf.float().to(device)\n",
    "        coords = coords.float().to(device)\n",
    "        [sig, noise] = model.forward(inputs_gm)\n",
    "        #loss,loss_signal,loss_noise = model.loss_ncc_gmm(inputs_gm,inputs_cf,signal,noise,pca,gmm,device)\n",
    "        loss_ncc,loss_signal_ncc,loss_noise_ncc = model.loss_ncc(inputs_gm[:,0,:],inputs_cf,sig[:,0:epi.shape[-1]],noise[:,0:epi.shape[-1]])\n",
    "        loss_mse,loss_signal_mse,loss_noise_mse = model.loss_function(inputs_gm[:,0,:],inputs_cf,sig[:,0:epi.shape[-1]],noise[:,0:epi.shape[-1]])\n",
    "        loss = loss_ncc+loss_mse\n",
    "        loss_signal = loss_signal_ncc+loss_signal_mse\n",
    "        loss_noise = loss_noise_ncc+loss_noise_mse\n",
    "        if np.isnan(loss.detach().cpu().numpy()):\n",
    "            print('loss is NaN')\n",
    "            break\n",
    "        loss.backward()\n",
    "        optimizer.step()\n",
    "        running_loss += loss\n",
    "        running_loss_signal += loss_signal\n",
    "        running_loss_noise += loss_noise        \n",
    "    epoch_loss = running_loss / len(train_in)\n",
    "    epoch_loss_signal = running_loss_signal / len(train_in)\n",
    "    epoch_loss_noise = running_loss_noise / len(train_in)\n",
    "    loss_L.append(epoch_loss.detach().cpu().numpy())\n",
    "    loss_signal_L.append(epoch_loss_signal.detach().cpu().numpy())\n",
    "    loss_noise_L.append(epoch_loss_noise.detach().cpu().numpy())\n",
    "    track['loss_L'] = loss_L\n",
    "    track['loss_signal_L'] = loss_signal_L\n",
    "    track['loss_noise_L'] = loss_noise_L\n",
    "\n",
    "weights_ofn = f'../Data/StudyForrest/conv_coords/{conv_dir}/conv_weights_unet_denoise500-{sub}.weights'\n",
    "torch.save(model.state_dict(),weights_ofn)\n",
    "save_derivs(weights_ofn)"
   ]
  },
  {
   "cell_type": "code",
   "execution_count": null,
   "id": "0bc143b7-f49f-40e4-8686-479a42ed6556",
   "metadata": {},
   "outputs": [],
   "source": [
    "dashboard.adversarial_losses(track)"
   ]
  },
  {
   "cell_type": "code",
   "execution_count": null,
   "id": "1287bce2-15cc-4a84-9d6a-0614a2ca7f47",
   "metadata": {},
   "outputs": [],
   "source": [
    "dashboard.adversarial_ffa_coords2_conv(ffa_list,batch_size,device,model,noi_list,face_reg,place_reg,ffa_coords)"
   ]
  },
  {
   "cell_type": "code",
   "execution_count": null,
   "id": "8c67e97d-78c3-4810-bc1d-74cc7a071e8c",
   "metadata": {},
   "outputs": [],
   "source": [
    "plot_contrast()"
   ]
  },
  {
   "cell_type": "code",
   "execution_count": null,
   "id": "90ae9fe4-58d8-46b6-95f3-f7a451502fda",
   "metadata": {},
   "outputs": [],
   "source": []
  },
  {
   "cell_type": "code",
   "execution_count": null,
   "id": "0ea30514-6b73-4a12-a53b-db430bd9ddf7",
   "metadata": {},
   "outputs": [],
   "source": []
  }
 ],
 "metadata": {
  "kernelspec": {
   "display_name": "Python 3 (ipykernel)",
   "language": "python",
   "name": "python3"
  },
  "language_info": {
   "codemirror_mode": {
    "name": "ipython",
    "version": 3
   },
   "file_extension": ".py",
   "mimetype": "text/x-python",
   "name": "python",
   "nbconvert_exporter": "python",
   "pygments_lexer": "ipython3",
   "version": "3.8.17"
  }
 },
 "nbformat": 4,
 "nbformat_minor": 5
}
