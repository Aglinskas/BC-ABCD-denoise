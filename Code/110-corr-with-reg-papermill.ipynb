{
 "cells": [
  {
   "cell_type": "code",
   "execution_count": 1,
   "id": "9c32c3fe-46ea-4973-b134-372d7d4cfeed",
   "metadata": {
    "editable": true,
    "slideshow": {
     "slide_type": ""
    },
    "tags": []
   },
   "outputs": [
    {
     "data": {
      "text/plain": [
       "'/mmfs1/data/aglinska/BC-ABCD-denoise/Code'"
      ]
     },
     "execution_count": 1,
     "metadata": {},
     "output_type": "execute_result"
    }
   ],
   "source": [
    "pwd"
   ]
  },
  {
   "cell_type": "code",
   "execution_count": 2,
   "id": "9acb773e-8ade-472c-836f-80d437577ca8",
   "metadata": {},
   "outputs": [
    {
     "name": "stdout",
     "output_type": "stream",
     "text": [
      "Fri Oct 25 12:08:59 EDT 2024\n"
     ]
    }
   ],
   "source": [
    "!date"
   ]
  },
  {
   "cell_type": "code",
   "execution_count": 3,
   "id": "cd00315b-8f45-438e-99f6-0f26d2e89dee",
   "metadata": {},
   "outputs": [
    {
     "name": "stderr",
     "output_type": "stream",
     "text": [
      "/data/aglinska/anaconda3/lib/python3.8/site-packages/statsmodels/tsa/base/tsa_model.py:7: FutureWarning: pandas.Int64Index is deprecated and will be removed from pandas in a future version. Use pandas.Index with the appropriate dtype instead.\n",
      "  from pandas import (to_datetime, Int64Index, DatetimeIndex, Period,\n",
      "/data/aglinska/anaconda3/lib/python3.8/site-packages/statsmodels/tsa/base/tsa_model.py:7: FutureWarning: pandas.Float64Index is deprecated and will be removed from pandas in a future version. Use pandas.Index with the appropriate dtype instead.\n",
      "  from pandas import (to_datetime, Int64Index, DatetimeIndex, Period,\n",
      "/data/aglinska/anaconda3/lib/python3.8/site-packages/paramiko/transport.py:219: CryptographyDeprecationWarning: Blowfish has been deprecated\n",
      "  \"class\": algorithms.Blowfish,\n"
     ]
    }
   ],
   "source": [
    "import os\n",
    "import numpy as np\n",
    "import pandas as pd\n",
    "import ants\n",
    "from tqdm import tqdm\n",
    "from matplotlib import pyplot as plt"
   ]
  },
  {
   "cell_type": "code",
   "execution_count": 4,
   "id": "d58464e0-d999-4c71-b012-cd63b0438d27",
   "metadata": {},
   "outputs": [],
   "source": [
    "def correlate_columns(arr1, arr2):\n",
    "    \"\"\"\n",
    "    Computes the Pearson correlation between corresponding columns of two matrices.\n",
    "    \n",
    "    Parameters:\n",
    "    arr1 (np.ndarray): First matrix of shape (370, 1000)\n",
    "    arr2 (np.ndarray): Second matrix of shape (370, 1000)\n",
    "    \n",
    "    Returns:\n",
    "    np.ndarray: 1D array of correlations for each column (size 1000)\n",
    "    \"\"\"\n",
    "    # Ensure input arrays are numpy arrays\n",
    "    arr1 = np.asarray(arr1)\n",
    "    arr2 = np.asarray(arr2)\n",
    "    \n",
    "    # Subtract the mean of each column (normalize)\n",
    "    arr1_centered = arr1 - np.mean(arr1, axis=0)\n",
    "    arr2_centered = arr2 - np.mean(arr2, axis=0)\n",
    "    \n",
    "    # Compute the numerator (covariance)\n",
    "    numerator = np.sum(arr1_centered * arr2_centered, axis=0)\n",
    "    \n",
    "    # Compute the denominator (product of standard deviations)\n",
    "    denominator = np.sqrt(np.sum(arr1_centered**2, axis=0) * np.sum(arr2_centered**2, axis=0))\n",
    "    \n",
    "    # Compute the Pearson correlation for each column\n",
    "    correlation = numerator / denominator\n",
    "    \n",
    "    return correlation\n",
    "\n",
    "# Example usage:\n",
    "#ARR1 = np.random.rand(370, 1000)  # Replace with your actual matrix\n",
    "#ARR2 = np.random.rand(370, 1000)  # Replace with your actual matrix\n",
    "#correlations = correlate_columns(ARR1, ARR2)\n",
    "\n",
    "\n",
    "def make_RDM(inVec,data_scale='ratio',metric='euclidean'):\n",
    "    from scipy.spatial.distance import pdist\n",
    "    from scipy.spatial.distance import squareform\n",
    "    vec = inVec\n",
    "    vec = (vec - min(vec.flatten())) / (max(vec.flatten())-min(vec.flatten()))\n",
    "    \n",
    "    if np.ndim(inVec)==1: # must be at least 2D\n",
    "        vec = np.vstack((vec,np.zeros(vec.shape))).transpose()\n",
    "                   \n",
    "    mat = squareform(pdist(vec,metric=metric).transpose())\n",
    "    if data_scale=='ordinal':\n",
    "        mat[mat!=0]=1 # Make into zeros and ones\n",
    "        \n",
    "    return mat\n",
    "\n",
    "def get_triu(inMat):\n",
    "    assert np.ndim(inMat)==2, 'not 2 dim, wtf'\n",
    "    assert inMat.shape[0]==inMat.shape[1], 'not a square'\n",
    "\n",
    "    n = inMat.shape[0]\n",
    "    triu_vec = inMat[np.triu_indices(n=n,k=1)]\n",
    "    return triu_vec"
   ]
  },
  {
   "cell_type": "code",
   "execution_count": 5,
   "id": "139441c0-533f-432f-8ab9-acd103921f42",
   "metadata": {},
   "outputs": [
    {
     "name": "stdout",
     "output_type": "stream",
     "text": [
      "34/34\n"
     ]
    }
   ],
   "source": [
    "indir = '../Data/020-fmriprepped/'\n",
    "subs_orig = [s for s in os.listdir(indir) if all((s.startswith('sub'),not s.endswith('.html')))]\n",
    "n_orig = len(subs_orig)\n",
    "epi_fn = os.path.join(indir,'{sub}/ses-baselineYear1Arm1/func/{sub}_ses-baselineYear1Arm1_task-nback_run-0{r}_space-MNI152NLin2009cAsym_res-2_desc-preproc_bold.nii')\n",
    "#cf_fn = os.path.join(indir,'{sub}/ses-baselineYear1Arm1/anat/analysis_mask_CF.nii')\n",
    "#gm_fn = os.path.join(indir,'{sub}/ses-baselineYear1Arm1/anat/analysis_mask_GM.nii')\n",
    "cf_fn = os.path.join(indir,'{sub}/ses-baselineYear1Arm1/anat/analysis_mask_CF-strict.nii')\n",
    "gm_fn = os.path.join(indir,'{sub}/ses-baselineYear1Arm1/anat/analysis_mask_GM-strict.nii')\n",
    "brain_mask = os.path.join(indir,'{sub}/ses-baselineYear1Arm1/anat/{sub}_ses-baselineYear1Arm1_run-01_space-MNI152NLin2009cAsym_res-2_label-GM_probseg.nii.gz')\n",
    "\n",
    "subs = [sub for sub in subs_orig if all(( \n",
    "    os.path.exists(epi_fn.format(sub=sub,r=1)),\n",
    "    os.path.exists(epi_fn.format(sub=sub,r=2)),\n",
    "    os.path.exists(cf_fn.format(sub=sub)),\n",
    "    os.path.exists(gm_fn.format(sub=sub)),\n",
    "    os.path.exists(brain_mask.format(sub=sub)),\n",
    "    ))]\n",
    "\n",
    "subs.sort()\n",
    "print(f'{len(subs)}/{len(subs_orig)}')"
   ]
  },
  {
   "cell_type": "code",
   "execution_count": 6,
   "id": "94d5a5f0-3a61-4536-bafe-6ee4dc489b0a",
   "metadata": {},
   "outputs": [
    {
     "name": "stdout",
     "output_type": "stream",
     "text": [
      "30\n"
     ]
    }
   ],
   "source": [
    "has_files = np.array([all([os.path.exists(epi_fn.format(sub=sub,r=1).replace('preproc',f'DEEPCOR-FG-{rep}')) for rep in range(5)]) for sub in subs])\n",
    "subs = np.array(subs)[has_files]\n",
    "print(len(subs))"
   ]
  },
  {
   "cell_type": "code",
   "execution_count": 7,
   "id": "2fffe320-ff51-4799-ae31-c9831f5284c7",
   "metadata": {},
   "outputs": [],
   "source": [
    "ffa = ants.image_read('../Misc/ffa_mask_resampled.nii')\n",
    "ffa_n = ffa.numpy().sum()"
   ]
  },
  {
   "cell_type": "code",
   "execution_count": 8,
   "id": "214f0339-8792-448e-a7a5-ac8210d2ca52",
   "metadata": {
    "editable": true,
    "slideshow": {
     "slide_type": ""
    },
    "tags": [
     "parameters"
    ]
   },
   "outputs": [],
   "source": [
    "s = 0"
   ]
  },
  {
   "cell_type": "code",
   "execution_count": 9,
   "id": "64976582-7cdf-4604-8db0-9e68a27c8345",
   "metadata": {
    "editable": true,
    "slideshow": {
     "slide_type": ""
    },
    "tags": []
   },
   "outputs": [
    {
     "name": "stdout",
     "output_type": "stream",
     "text": [
      "sub-NDARINV1H7JEJW1\n"
     ]
    }
   ],
   "source": [
    "sub = subs[s]\n",
    "print(sub)"
   ]
  },
  {
   "cell_type": "code",
   "execution_count": 10,
   "id": "4070fb9d-0c92-47ce-81c9-ebcfa89fcfca",
   "metadata": {},
   "outputs": [],
   "source": [
    "#compcorr = ants.image_read(os.path.join(indir,'{sub}/ses-baselineYear1Arm1/func/{sub}_ses-baselineYear1Arm1_task-nback_run-0{r}_space-MNI152NLin2009cAsym_res-2_desc-COMPCORR_bold.nii').format(sub=sub,r=r))"
   ]
  },
  {
   "cell_type": "code",
   "execution_count": 11,
   "id": "37456194-c801-4eae-ab09-0e3fe7d9d8e7",
   "metadata": {},
   "outputs": [],
   "source": [
    "#ims = [ants.image_read(epi_fn.format(sub=sub,r=1).replace('preproc','DEEPCOR-FG-{rep}'.format(rep=rep))) for rep in range(5)]"
   ]
  },
  {
   "cell_type": "code",
   "execution_count": 12,
   "id": "249c48db-51d3-4024-8571-5e1a248b080c",
   "metadata": {},
   "outputs": [],
   "source": [
    "def get_regs(sub,r):\n",
    "    from nilearn.glm.first_level import make_first_level_design_matrix\n",
    "    import pandas as pd\n",
    "    events_fn = f'../Data/010-Data_bids2/{sub}/ses-baselineYear1Arm1/func/{sub}_ses-baselineYear1Arm1_task-nback_run-0{r}_events.tsv'\n",
    "    events = pd.read_csv(events_fn,delimiter='\\t')\n",
    "    \n",
    "    t_r = 0.8  # repetition time is 1 second\n",
    "    n_scans = 370  # the acquisition comprises 128 scans\n",
    "    frame_times = (np.arange(n_scans) * t_r)\n",
    "    \n",
    "    X1 = make_first_level_design_matrix(frame_times,events,drift_model=\"polynomial\",drift_order=3,hrf_model=\"SPM\") #\n",
    "    \n",
    "    face_reg = X1[['0_back_negface','0_back_neutface','0_back_place','0_back_posface','2_back_negface','2_back_neutface']].values.sum(axis=1)\n",
    "    place_reg = X1[['0_back_place','2_back_place']].values.sum(axis=1)\n",
    "    return face_reg,place_reg"
   ]
  },
  {
   "cell_type": "code",
   "execution_count": 13,
   "id": "d5699500-e3a5-49c5-b41b-38c503244568",
   "metadata": {},
   "outputs": [],
   "source": [
    "def get_r_map_dff(im,face_reg,place_reg):\n",
    "    brain_mask = im.sum(axis=-1)>100\n",
    "    corr_res_face = correlate_columns(im[brain_mask].transpose(),np.array([face_reg for _ in range(int(brain_mask.sum()))]).transpose())\n",
    "    corr_res_place = correlate_columns(im[brain_mask].transpose(),np.array([place_reg for _ in range(int(brain_mask.sum()))]).transpose())\n",
    "    corr_brain = np.zeros(brain_mask.flatten().shape)\n",
    "    corr_brain[brain_mask.flatten()==1] = corr_res_face-corr_res_place\n",
    "    corr_brain = corr_brain.reshape(ffa.shape)\n",
    "    return ffa.new_image_like(corr_brain)"
   ]
  },
  {
   "cell_type": "code",
   "execution_count": 14,
   "id": "c517589f-1bc2-4568-9939-10870d5c80af",
   "metadata": {
    "editable": true,
    "slideshow": {
     "slide_type": ""
    },
    "tags": []
   },
   "outputs": [
    {
     "name": "stderr",
     "output_type": "stream",
     "text": [
      "  0%|                                                    | 0/30 [00:20<?, ?it/s]\n"
     ]
    },
    {
     "ename": "KeyboardInterrupt",
     "evalue": "",
     "output_type": "error",
     "traceback": [
      "\u001b[0;31m---------------------------------------------------------------------------\u001b[0m",
      "\u001b[0;31mKeyboardInterrupt\u001b[0m                         Traceback (most recent call last)",
      "\u001b[0;32m/tmp/ipykernel_371487/1404706732.py\u001b[0m in \u001b[0;36m<cell line: 1>\u001b[0;34m()\u001b[0m\n\u001b[1;32m      5\u001b[0m             \u001b[0;31m#ims_tg = [ants.image_read(epi_fn.format(sub=sub,r=1).replace('preproc','DEEPCOR-TG-{rep}'.format(rep=rep))) for rep in range(5)]\u001b[0m\u001b[0;34m\u001b[0m\u001b[0;34m\u001b[0m\u001b[0;34m\u001b[0m\u001b[0m\n\u001b[1;32m      6\u001b[0m             \u001b[0;31m#ims_bg = [ants.image_read(epi_fn.format(sub=sub,r=1).replace('preproc','DEEPCOR-BG-{rep}'.format(rep=rep))) for rep in range(5)]\u001b[0m\u001b[0;34m\u001b[0m\u001b[0;34m\u001b[0m\u001b[0;34m\u001b[0m\u001b[0m\n\u001b[0;32m----> 7\u001b[0;31m             \u001b[0mims_fg\u001b[0m \u001b[0;34m=\u001b[0m \u001b[0;34m[\u001b[0m\u001b[0mants\u001b[0m\u001b[0;34m.\u001b[0m\u001b[0mimage_read\u001b[0m\u001b[0;34m(\u001b[0m\u001b[0mepi_fn\u001b[0m\u001b[0;34m.\u001b[0m\u001b[0mformat\u001b[0m\u001b[0;34m(\u001b[0m\u001b[0msub\u001b[0m\u001b[0;34m=\u001b[0m\u001b[0msub\u001b[0m\u001b[0;34m,\u001b[0m\u001b[0mr\u001b[0m\u001b[0;34m=\u001b[0m\u001b[0mr\u001b[0m\u001b[0;34m)\u001b[0m\u001b[0;34m.\u001b[0m\u001b[0mreplace\u001b[0m\u001b[0;34m(\u001b[0m\u001b[0;34m'preproc'\u001b[0m\u001b[0;34m,\u001b[0m\u001b[0;34m'DEEPCOR-FG-{rep}'\u001b[0m\u001b[0;34m.\u001b[0m\u001b[0mformat\u001b[0m\u001b[0;34m(\u001b[0m\u001b[0mrep\u001b[0m\u001b[0;34m=\u001b[0m\u001b[0mrep\u001b[0m\u001b[0;34m)\u001b[0m\u001b[0;34m)\u001b[0m\u001b[0;34m)\u001b[0m \u001b[0;32mfor\u001b[0m \u001b[0mrep\u001b[0m \u001b[0;32min\u001b[0m \u001b[0mrange\u001b[0m\u001b[0;34m(\u001b[0m\u001b[0;36m5\u001b[0m\u001b[0;34m)\u001b[0m\u001b[0;34m]\u001b[0m\u001b[0;34m\u001b[0m\u001b[0;34m\u001b[0m\u001b[0m\n\u001b[0m\u001b[1;32m      8\u001b[0m \u001b[0;34m\u001b[0m\u001b[0m\n\u001b[1;32m      9\u001b[0m             \u001b[0;31m#im_tg = np.array([val.numpy() for val in ims_tg]).mean(axis=0)\u001b[0m\u001b[0;34m\u001b[0m\u001b[0;34m\u001b[0m\u001b[0;34m\u001b[0m\u001b[0m\n",
      "\u001b[0;32m/tmp/ipykernel_371487/1404706732.py\u001b[0m in \u001b[0;36m<listcomp>\u001b[0;34m(.0)\u001b[0m\n\u001b[1;32m      5\u001b[0m             \u001b[0;31m#ims_tg = [ants.image_read(epi_fn.format(sub=sub,r=1).replace('preproc','DEEPCOR-TG-{rep}'.format(rep=rep))) for rep in range(5)]\u001b[0m\u001b[0;34m\u001b[0m\u001b[0;34m\u001b[0m\u001b[0;34m\u001b[0m\u001b[0m\n\u001b[1;32m      6\u001b[0m             \u001b[0;31m#ims_bg = [ants.image_read(epi_fn.format(sub=sub,r=1).replace('preproc','DEEPCOR-BG-{rep}'.format(rep=rep))) for rep in range(5)]\u001b[0m\u001b[0;34m\u001b[0m\u001b[0;34m\u001b[0m\u001b[0;34m\u001b[0m\u001b[0m\n\u001b[0;32m----> 7\u001b[0;31m             \u001b[0mims_fg\u001b[0m \u001b[0;34m=\u001b[0m \u001b[0;34m[\u001b[0m\u001b[0mants\u001b[0m\u001b[0;34m.\u001b[0m\u001b[0mimage_read\u001b[0m\u001b[0;34m(\u001b[0m\u001b[0mepi_fn\u001b[0m\u001b[0;34m.\u001b[0m\u001b[0mformat\u001b[0m\u001b[0;34m(\u001b[0m\u001b[0msub\u001b[0m\u001b[0;34m=\u001b[0m\u001b[0msub\u001b[0m\u001b[0;34m,\u001b[0m\u001b[0mr\u001b[0m\u001b[0;34m=\u001b[0m\u001b[0mr\u001b[0m\u001b[0;34m)\u001b[0m\u001b[0;34m.\u001b[0m\u001b[0mreplace\u001b[0m\u001b[0;34m(\u001b[0m\u001b[0;34m'preproc'\u001b[0m\u001b[0;34m,\u001b[0m\u001b[0;34m'DEEPCOR-FG-{rep}'\u001b[0m\u001b[0;34m.\u001b[0m\u001b[0mformat\u001b[0m\u001b[0;34m(\u001b[0m\u001b[0mrep\u001b[0m\u001b[0;34m=\u001b[0m\u001b[0mrep\u001b[0m\u001b[0;34m)\u001b[0m\u001b[0;34m)\u001b[0m\u001b[0;34m)\u001b[0m \u001b[0;32mfor\u001b[0m \u001b[0mrep\u001b[0m \u001b[0;32min\u001b[0m \u001b[0mrange\u001b[0m\u001b[0;34m(\u001b[0m\u001b[0;36m5\u001b[0m\u001b[0;34m)\u001b[0m\u001b[0;34m]\u001b[0m\u001b[0;34m\u001b[0m\u001b[0;34m\u001b[0m\u001b[0m\n\u001b[0m\u001b[1;32m      8\u001b[0m \u001b[0;34m\u001b[0m\u001b[0m\n\u001b[1;32m      9\u001b[0m             \u001b[0;31m#im_tg = np.array([val.numpy() for val in ims_tg]).mean(axis=0)\u001b[0m\u001b[0;34m\u001b[0m\u001b[0;34m\u001b[0m\u001b[0;34m\u001b[0m\u001b[0m\n",
      "\u001b[0;32m~/anaconda3/lib/python3.8/site-packages/ants/core/ants_image_io.py\u001b[0m in \u001b[0;36mimage_read\u001b[0;34m(filename, dimension, pixeltype, reorient)\u001b[0m\n\u001b[1;32m    544\u001b[0m \u001b[0;34m\u001b[0m\u001b[0m\n\u001b[1;32m    545\u001b[0m         \u001b[0mlibfn\u001b[0m \u001b[0;34m=\u001b[0m \u001b[0mutils\u001b[0m\u001b[0;34m.\u001b[0m\u001b[0mget_lib_fn\u001b[0m\u001b[0;34m(\u001b[0m\u001b[0m_image_read_dict\u001b[0m\u001b[0;34m[\u001b[0m\u001b[0mpclass\u001b[0m\u001b[0;34m]\u001b[0m\u001b[0;34m[\u001b[0m\u001b[0mptype\u001b[0m\u001b[0;34m]\u001b[0m\u001b[0;34m[\u001b[0m\u001b[0mndim\u001b[0m\u001b[0;34m]\u001b[0m\u001b[0;34m)\u001b[0m\u001b[0;34m\u001b[0m\u001b[0;34m\u001b[0m\u001b[0m\n\u001b[0;32m--> 546\u001b[0;31m         \u001b[0mitk_pointer\u001b[0m \u001b[0;34m=\u001b[0m \u001b[0mlibfn\u001b[0m\u001b[0;34m(\u001b[0m\u001b[0mfilename\u001b[0m\u001b[0;34m)\u001b[0m\u001b[0;34m\u001b[0m\u001b[0;34m\u001b[0m\u001b[0m\n\u001b[0m\u001b[1;32m    547\u001b[0m \u001b[0;34m\u001b[0m\u001b[0m\n\u001b[1;32m    548\u001b[0m         ants_image = iio.ANTsImage(\n",
      "\u001b[0;31mKeyboardInterrupt\u001b[0m: "
     ]
    }
   ],
   "source": [
    "for s in tqdm(range(len(subs))):\n",
    "    for r in [1,2]:\n",
    "            sub = subs[s]\n",
    "            compcorr = ants.image_read(epi_fn.format(sub=sub,r=r).replace('preproc','COMPCORR'))\n",
    "            #ims_tg = [ants.image_read(epi_fn.format(sub=sub,r=1).replace('preproc','DEEPCOR-TG-{rep}'.format(rep=rep))) for rep in range(5)]\n",
    "            #ims_bg = [ants.image_read(epi_fn.format(sub=sub,r=1).replace('preproc','DEEPCOR-BG-{rep}'.format(rep=rep))) for rep in range(5)]\n",
    "            ims_fg = [ants.image_read(epi_fn.format(sub=sub,r=r).replace('preproc','DEEPCOR-FG-{rep}'.format(rep=rep))) for rep in range(5)]\n",
    "            \n",
    "            #im_tg = np.array([val.numpy() for val in ims_tg]).mean(axis=0)\n",
    "            #im_bg = np.array([val.numpy() for val in ims_bg]).mean(axis=0)\n",
    "            im_fg = np.array([val.numpy() for val in ims_fg]).mean(axis=0)\n",
    "        \n",
    "            face_reg,place_reg = get_regs(sub,r)\n",
    "\n",
    "            corr_map_fg = get_r_map_dff(im_fg,face_reg,place_reg)\n",
    "            corr_map_fg.to_filename(f'../temp/FG-diff-S{s}-R{r}.nii')\n",
    "        \n",
    "            corr_map_compcorr = get_r_map_dff(compcorr,face_reg,place_reg)\n",
    "            corr_map_compcorr.to_filename(f'../temp/COMPCORR-diff-S{s}-R{r}.nii')"
   ]
  },
  {
   "cell_type": "code",
   "execution_count": null,
   "id": "cfd84f8a-8fd3-42a6-9d55-818fb641e5f1",
   "metadata": {},
   "outputs": [],
   "source": []
  },
  {
   "cell_type": "code",
   "execution_count": null,
   "id": "58e1968b-419d-44c2-9320-8ab1e8e123aa",
   "metadata": {},
   "outputs": [],
   "source": []
  },
  {
   "cell_type": "code",
   "execution_count": null,
   "id": "e7410653-be2d-4cb8-9ac8-289d3d1defb1",
   "metadata": {},
   "outputs": [],
   "source": []
  },
  {
   "cell_type": "code",
   "execution_count": null,
   "id": "edea47ae-8a51-4a62-9ec0-c8fc9fc94305",
   "metadata": {},
   "outputs": [],
   "source": [
    "# fg_run1 = [ants.image_read('../temp/FG-diff-S{s}-R1.nii'.format(s=s)) for s in range(20)]\n",
    "# fg_run2 = [ants.image_read('../temp/FG-diff-S{s}-R2.nii'.format(s=s)) for s in range(20)]"
   ]
  },
  {
   "cell_type": "code",
   "execution_count": null,
   "id": "33be1e4b-9f2f-48e3-8c88-8aecef302b08",
   "metadata": {},
   "outputs": [],
   "source": [
    "# compcorr_run1 = [ants.image_read('../temp/COMPCORR-diff-S{s}-R1.nii'.format(s=s)) for s in range(20)]\n",
    "# compcorr_run2 = [ants.image_read('../temp/COMPCORR-diff-S{s}-R2.nii'.format(s=s)) for s in range(20)]"
   ]
  },
  {
   "cell_type": "code",
   "execution_count": null,
   "id": "53657a8a-297f-4ca2-a690-23a6e7cc2c8d",
   "metadata": {},
   "outputs": [],
   "source": [
    "# fg_mean = fg_run1[0].new_image_like(np.array([val.numpy() for val in fg_run1+fg_run2]).mean(axis=0))\n",
    "# fg_mean.to_filename('../temp/fg-diff-mean.nii')"
   ]
  },
  {
   "cell_type": "code",
   "execution_count": null,
   "id": "3f71ae85-b96b-4ef0-9348-3b6b7a9ba232",
   "metadata": {},
   "outputs": [],
   "source": [
    "# compcorr_mean = compcorr_run1[0].new_image_like(np.array([val.numpy() for val in compcorr_run1+compcorr_run2]).mean(axis=0))\n",
    "# compcorr_mean.to_filename('../temp/compcorr-diff-mean.nii')"
   ]
  },
  {
   "cell_type": "code",
   "execution_count": null,
   "id": "a50249e1-74ab-4dbb-bbc5-5e4b7c5ab3c4",
   "metadata": {},
   "outputs": [],
   "source": [
    "# (fg_mean.numpy()[ffa.numpy()==1].mean(),compcorr_mean.numpy()[ffa.numpy()==1].mean())"
   ]
  },
  {
   "cell_type": "code",
   "execution_count": null,
   "id": "5036429f-cdd2-4a6a-b5eb-29a02a7237c7",
   "metadata": {},
   "outputs": [],
   "source": [
    "# np.corrcoef(fg_run1[0].numpy()[ffa.numpy()==1],fg_run1[10].numpy()[ffa.numpy()==1])[0,1]"
   ]
  },
  {
   "cell_type": "code",
   "execution_count": null,
   "id": "e38ac63b-25f7-4d0b-b740-f92b8c5bc24a",
   "metadata": {},
   "outputs": [],
   "source": [
    "# plt.hist([np.corrcoef(fg_run1[i].numpy()[ffa.numpy()==1],fg_run2[i].numpy()[ffa.numpy()==1])[0,1] for i in range(20)])\n",
    "# plt.hist([np.corrcoef(compcorr_run1[i].numpy()[ffa.numpy()==1],compcorr_run2[i].numpy()[ffa.numpy()==1])[0,1] for i in range(20)])"
   ]
  },
  {
   "cell_type": "code",
   "execution_count": null,
   "id": "6d85a39f-551b-4ae3-b899-2d02051df20d",
   "metadata": {},
   "outputs": [],
   "source": []
  }
 ],
 "metadata": {
  "kernelspec": {
   "display_name": "Python 3 (ipykernel)",
   "language": "python",
   "name": "python3"
  },
  "language_info": {
   "codemirror_mode": {
    "name": "ipython",
    "version": 3
   },
   "file_extension": ".py",
   "mimetype": "text/x-python",
   "name": "python",
   "nbconvert_exporter": "python",
   "pygments_lexer": "ipython3",
   "version": "3.8.17"
  }
 },
 "nbformat": 4,
 "nbformat_minor": 5
}
