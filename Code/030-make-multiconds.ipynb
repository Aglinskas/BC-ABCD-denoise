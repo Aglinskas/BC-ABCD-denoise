{
 "cells": [
  {
   "cell_type": "code",
   "execution_count": 177,
   "id": "f5809b8c-20f1-42a4-bef6-43c8e6245ad1",
   "metadata": {},
   "outputs": [],
   "source": [
    "import numpy as np\n",
    "import pandas as pd\n",
    "import os \n",
    "from scipy.io import savemat"
   ]
  },
  {
   "cell_type": "code",
   "execution_count": 13,
   "id": "4e1cecaa-4881-4769-a30d-09aabd8a2a30",
   "metadata": {},
   "outputs": [
    {
     "data": {
      "text/plain": [
       "['sub-NDARINVTKENUL3C',\n",
       " 'sub-NDARINVVR8GJJYB',\n",
       " 'sub-NDARINVXZRDA6CJ',\n",
       " 'sub-NDARINVTDXHD95M',\n",
       " 'sub-NDARINVNNNX0496',\n",
       " 'sub-NDARINVHPU5TKNF',\n",
       " 'sub-NDARINVVWH7ZJJR',\n",
       " 'sub-NDARINVXZ44NE7H',\n",
       " 'sub-NDARINV8RN0AJRP',\n",
       " 'sub-NDARINVMMN463FT',\n",
       " 'sub-NDARINVRF70B79M',\n",
       " 'sub-NDARINVR6R9DHFF',\n",
       " 'sub-NDARINVTPXZDTAT',\n",
       " 'sub-NDARINVG0K2DRXF',\n",
       " 'sub-NDARINVTMVWP642',\n",
       " 'sub-NDARINVET4W53Z8',\n",
       " 'sub-NDARINVKK5BJGB6',\n",
       " 'sub-NDARINVURJ3XK7W',\n",
       " 'sub-NDARINVWNUXY3KF',\n",
       " 'sub-NDARINVZ4YHXYLW',\n",
       " 'sub-NDARINVJPMRY00B',\n",
       " 'sub-NDARINVTHHL55VX',\n",
       " 'sub-NDARINVPAJ26DUR',\n",
       " 'sub-NDARINVJNDY0DWK',\n",
       " 'sub-NDARINVN9D4XZKE',\n",
       " 'sub-NDARINVHRTU9HVX',\n",
       " 'sub-NDARINVX6MC634B',\n",
       " 'sub-NDARINV5YHWBYRD',\n",
       " 'sub-NDARINVPURW8L0G',\n",
       " 'sub-NDARINV6WXU5DEY',\n",
       " 'sub-NDARINV1H7JEJW1',\n",
       " 'sub-NDARINVE1XNAPC7',\n",
       " 'sub-NDARINV3385AZ13',\n",
       " 'sub-NDARINV29P0F670']"
      ]
     },
     "execution_count": 13,
     "metadata": {},
     "output_type": "execute_result"
    }
   ],
   "source": [
    "indir = '../Data/010-Data_bids/'\n",
    "subs = [f for f in os.listdir(indir) if f.startswith('sub-')]\n",
    "subs"
   ]
  },
  {
   "cell_type": "code",
   "execution_count": 282,
   "id": "b7875be8-2340-4034-9f87-7836f1e8bfb3",
   "metadata": {},
   "outputs": [],
   "source": [
    "s = 3\n",
    "r = 2 # 1 or 2"
   ]
  },
  {
   "cell_type": "code",
   "execution_count": 283,
   "id": "fe314801-fe64-4da9-bb5b-1764a5ee0fef",
   "metadata": {},
   "outputs": [],
   "source": [
    "sub = subs[s]"
   ]
  },
  {
   "cell_type": "code",
   "execution_count": 284,
   "id": "8c67c634-180f-43e9-af38-e65fdd5bfd13",
   "metadata": {},
   "outputs": [
    {
     "data": {
      "text/html": [
       "<div>\n",
       "<style scoped>\n",
       "    .dataframe tbody tr th:only-of-type {\n",
       "        vertical-align: middle;\n",
       "    }\n",
       "\n",
       "    .dataframe tbody tr th {\n",
       "        vertical-align: top;\n",
       "    }\n",
       "\n",
       "    .dataframe thead th {\n",
       "        text-align: right;\n",
       "    }\n",
       "</style>\n",
       "<table border=\"1\" class=\"dataframe\">\n",
       "  <thead>\n",
       "    <tr style=\"text-align: right;\">\n",
       "      <th></th>\n",
       "      <th>onset</th>\n",
       "      <th>duration</th>\n",
       "      <th>trial_type</th>\n",
       "    </tr>\n",
       "  </thead>\n",
       "  <tbody>\n",
       "    <tr>\n",
       "      <th>0</th>\n",
       "      <td>0.00</td>\n",
       "      <td>6.4</td>\n",
       "      <td>dummy</td>\n",
       "    </tr>\n",
       "    <tr>\n",
       "      <th>1</th>\n",
       "      <td>6.50</td>\n",
       "      <td>2.9</td>\n",
       "      <td>cue</td>\n",
       "    </tr>\n",
       "    <tr>\n",
       "      <th>2</th>\n",
       "      <td>9.50</td>\n",
       "      <td>1.9</td>\n",
       "      <td>0_back_neutface</td>\n",
       "    </tr>\n",
       "    <tr>\n",
       "      <th>3</th>\n",
       "      <td>12.00</td>\n",
       "      <td>1.9</td>\n",
       "      <td>0_back_neutface</td>\n",
       "    </tr>\n",
       "    <tr>\n",
       "      <th>4</th>\n",
       "      <td>14.50</td>\n",
       "      <td>1.9</td>\n",
       "      <td>0_back_neutface</td>\n",
       "    </tr>\n",
       "    <tr>\n",
       "      <th>...</th>\n",
       "      <td>...</td>\n",
       "      <td>...</td>\n",
       "      <td>...</td>\n",
       "    </tr>\n",
       "    <tr>\n",
       "      <th>84</th>\n",
       "      <td>263.66</td>\n",
       "      <td>1.9</td>\n",
       "      <td>2_back_negface</td>\n",
       "    </tr>\n",
       "    <tr>\n",
       "      <th>85</th>\n",
       "      <td>266.16</td>\n",
       "      <td>1.9</td>\n",
       "      <td>2_back_negface</td>\n",
       "    </tr>\n",
       "    <tr>\n",
       "      <th>86</th>\n",
       "      <td>268.68</td>\n",
       "      <td>1.9</td>\n",
       "      <td>2_back_negface</td>\n",
       "    </tr>\n",
       "    <tr>\n",
       "      <th>87</th>\n",
       "      <td>271.18</td>\n",
       "      <td>1.9</td>\n",
       "      <td>2_back_negface</td>\n",
       "    </tr>\n",
       "    <tr>\n",
       "      <th>88</th>\n",
       "      <td>273.70</td>\n",
       "      <td>1.9</td>\n",
       "      <td>2_back_negface</td>\n",
       "    </tr>\n",
       "  </tbody>\n",
       "</table>\n",
       "<p>89 rows × 3 columns</p>\n",
       "</div>"
      ],
      "text/plain": [
       "     onset  duration       trial_type\n",
       "0     0.00       6.4            dummy\n",
       "1     6.50       2.9              cue\n",
       "2     9.50       1.9  0_back_neutface\n",
       "3    12.00       1.9  0_back_neutface\n",
       "4    14.50       1.9  0_back_neutface\n",
       "..     ...       ...              ...\n",
       "84  263.66       1.9   2_back_negface\n",
       "85  266.16       1.9   2_back_negface\n",
       "86  268.68       1.9   2_back_negface\n",
       "87  271.18       1.9   2_back_negface\n",
       "88  273.70       1.9   2_back_negface\n",
       "\n",
       "[89 rows x 3 columns]"
      ]
     },
     "execution_count": 284,
     "metadata": {},
     "output_type": "execute_result"
    }
   ],
   "source": [
    "fn_temp = '../Data/010-Data_bids/{sub}/ses-baselineYear1Arm1/func/{sub}_ses-baselineYear1Arm1_task-nback_run-0{run}_events.tsv'\n",
    "#fn = '../Data/010-Data_bids/sub-NDARINVJPMRY00B/ses-baselineYear1Arm1/func/sub-NDARINVJPMRY00B_ses-baselineYear1Arm1_task-nback_run-01_events.tsv'\n",
    "fn = fn_temp.format(sub=sub,run=r)\n",
    "df = pd.read_csv(fn,delimiter='\\t')\n",
    "df"
   ]
  },
  {
   "cell_type": "code",
   "execution_count": 285,
   "id": "4ae3d9c7-adfc-48fe-9326-8349a1e78f26",
   "metadata": {},
   "outputs": [],
   "source": [
    "conds = ['0_back_neutface',\n",
    "'2_back_neutface',\n",
    "'0_back_posface',\n",
    "'2_back_posface',\n",
    "'0_back_negface',\n",
    "'2_back_negface' ,\n",
    "'0_back_place',\n",
    "'2_back_place',\n",
    "'dummy', \n",
    "'cue', ]"
   ]
  },
  {
   "cell_type": "code",
   "execution_count": 286,
   "id": "150bdf3f-4650-4d4b-a517-f504169e0d7c",
   "metadata": {},
   "outputs": [],
   "source": [
    "assert len(pd.unique(df['trial_type'].values))==len(np.unique(conds))"
   ]
  },
  {
   "cell_type": "code",
   "execution_count": null,
   "id": "f12fc523-e835-4e8c-ad5c-0fc94f2861b2",
   "metadata": {},
   "outputs": [],
   "source": []
  },
  {
   "cell_type": "code",
   "execution_count": 287,
   "id": "9941cafe-63e0-4a40-b4ac-449fdf48c148",
   "metadata": {},
   "outputs": [],
   "source": [
    "names = conds"
   ]
  },
  {
   "cell_type": "code",
   "execution_count": 288,
   "id": "f9a0cb65-ee91-498f-b5e7-0d059de8ec26",
   "metadata": {},
   "outputs": [],
   "source": [
    "onsets = []\n",
    "durations = []"
   ]
  },
  {
   "cell_type": "code",
   "execution_count": 289,
   "id": "6dc1e0bc-8e08-4403-9e66-4d64b9a67cce",
   "metadata": {},
   "outputs": [],
   "source": [
    "onsets.append(df.iloc[df['trial_type'].values=='0_back_neutface']['onset'].values[0])\n",
    "onsets.append(df.iloc[df['trial_type'].values=='2_back_neutface']['onset'].values[0])\n",
    "onsets.append(df.iloc[df['trial_type'].values=='0_back_posface']['onset'].values[0])\n",
    "onsets.append(df.iloc[df['trial_type'].values=='2_back_posface']['onset'].values[0])\n",
    "onsets.append(df.iloc[df['trial_type'].values=='0_back_negface']['onset'].values[0])\n",
    "onsets.append(df.iloc[df['trial_type'].values=='2_back_negface']['onset'].values[0])\n",
    "onsets.append(df.iloc[df['trial_type'].values=='0_back_place']['onset'].values[0])\n",
    "onsets.append(df.iloc[df['trial_type'].values=='2_back_place']['onset'].values[0])\n",
    "onsets.append(df.iloc[df['trial_type'].values=='dummy']['onset'].values[0])\n",
    "onsets.append(df.iloc[df['trial_type'].values=='cue']['onset'].values)"
   ]
  },
  {
   "cell_type": "code",
   "execution_count": 290,
   "id": "5527700f-ab73-400f-8e66-291a24e26251",
   "metadata": {},
   "outputs": [],
   "source": [
    "# durations.append( df.iloc[df['trial_type'].values=='0_back_neutface']['onset'].values[-1] + df.iloc[df['trial_type'].values=='0_back_neutface']['duration'].values[-1] )\n",
    "# durations.append( df.iloc[df['trial_type'].values=='2_back_neutface']['onset'].values[-1] + df.iloc[df['trial_type'].values=='2_back_neutface']['duration'].values[-1] )\n",
    "# durations.append( df.iloc[df['trial_type'].values=='0_back_posface']['onset'].values[-1] + df.iloc[df['trial_type'].values=='0_back_posface']['duration'].values[-1] )\n",
    "# durations.append( df.iloc[df['trial_type'].values=='2_back_posface']['onset'].values[-1] + df.iloc[df['trial_type'].values=='2_back_posface']['duration'].values[-1] )\n",
    "# durations.append( df.iloc[df['trial_type'].values=='0_back_negface']['onset'].values[-1] + df.iloc[df['trial_type'].values=='0_back_negface']['duration'].values[-1] )\n",
    "# durations.append( df.iloc[df['trial_type'].values=='2_back_negface']['onset'].values[-1] + df.iloc[df['trial_type'].values=='2_back_negface']['duration'].values[-1] )\n",
    "# durations.append( df.iloc[df['trial_type'].values=='0_back_place']['onset'].values[-1] + df.iloc[df['trial_type'].values=='0_back_place']['duration'].values[-1] )\n",
    "# durations.append( df.iloc[df['trial_type'].values=='2_back_place']['onset'].values[-1] + df.iloc[df['trial_type'].values=='2_back_place']['duration'].values[-1] )\n",
    "# durations.append( df.iloc[df['trial_type'].values=='dummy']['duration'].values[0] )\n",
    "# durations.append( df.iloc[df['trial_type'].values=='cue']['duration'].values )"
   ]
  },
  {
   "cell_type": "code",
   "execution_count": 291,
   "id": "941647af-f40a-4b01-b48b-e6812bbbdd05",
   "metadata": {},
   "outputs": [],
   "source": [
    "durations.append( df.iloc[df['trial_type'].values=='0_back_neutface']['duration'].values.sum() )\n",
    "durations.append( df.iloc[df['trial_type'].values=='2_back_neutface']['duration'].values.sum() )\n",
    "durations.append( df.iloc[df['trial_type'].values=='0_back_posface']['duration'].values.sum() )\n",
    "durations.append( df.iloc[df['trial_type'].values=='2_back_posface']['duration'].values.sum() )\n",
    "durations.append( df.iloc[df['trial_type'].values=='0_back_negface']['duration'].values.sum() )\n",
    "durations.append( df.iloc[df['trial_type'].values=='2_back_negface']['duration'].values.sum() )\n",
    "durations.append( df.iloc[df['trial_type'].values=='0_back_place']['duration'].values.sum() )\n",
    "durations.append( df.iloc[df['trial_type'].values=='2_back_place']['duration'].values.sum() )\n",
    "durations.append( df.iloc[df['trial_type'].values=='dummy']['duration'].values[0] )\n",
    "durations.append( df.iloc[df['trial_type'].values=='cue']['duration'].values )"
   ]
  },
  {
   "cell_type": "code",
   "execution_count": 292,
   "id": "23816f5b-aaaa-4243-b0d1-199daf226020",
   "metadata": {},
   "outputs": [],
   "source": [
    "names = np.array(conds,dtype=object)"
   ]
  },
  {
   "cell_type": "code",
   "execution_count": 293,
   "id": "900a611f-d1b8-476a-9afc-f107c64fbd20",
   "metadata": {},
   "outputs": [],
   "source": [
    "mdic = {'names' : names, 'onsets' : onsets, 'durations' : durations}"
   ]
  },
  {
   "cell_type": "code",
   "execution_count": 294,
   "id": "8d970b7d-2b7b-407f-8078-0094943735d9",
   "metadata": {},
   "outputs": [
    {
     "name": "stdout",
     "output_type": "stream",
     "text": [
      "../Data/030-subject-multiconds/sub-NDARINVHRTU9HVX_nback_multicond_run_2.mat\n"
     ]
    },
    {
     "name": "stderr",
     "output_type": "stream",
     "text": [
      "/data/aglinska/anaconda3/lib/python3.8/site-packages/scipy/io/matlab/mio5.py:493: VisibleDeprecationWarning: Creating an ndarray from ragged nested sequences (which is a list-or-tuple of lists-or-tuples-or ndarrays with different lengths or shapes) is deprecated. If you meant to do this, you must specify 'dtype=object' when creating the ndarray.\n",
      "  narr = np.asanyarray(source)\n"
     ]
    }
   ],
   "source": [
    "ofn = f'../Data/030-subject-multiconds/{sub}_nback_multicond_run_{r}.mat'\n",
    "print(ofn)\n",
    "savemat(ofn, mdic)"
   ]
  },
  {
   "cell_type": "code",
   "execution_count": 302,
   "id": "326c7f76-e742-4157-82af-713dd01f186a",
   "metadata": {},
   "outputs": [],
   "source": [
    "savemat('subject_list.mat', {'subjects' : np.array(subs,dtype=object)})"
   ]
  },
  {
   "cell_type": "code",
   "execution_count": null,
   "id": "407631c6-b1bc-49ed-b30e-a4273292083f",
   "metadata": {},
   "outputs": [],
   "source": []
  },
  {
   "cell_type": "code",
   "execution_count": 100,
   "id": "8ff0e366-67b5-4a33-aa61-ca8ba597b0c1",
   "metadata": {},
   "outputs": [],
   "source": []
  },
  {
   "cell_type": "code",
   "execution_count": null,
   "id": "86fa8b94-3166-46e0-9cd4-7237ef1fbbc5",
   "metadata": {},
   "outputs": [],
   "source": []
  },
  {
   "cell_type": "code",
   "execution_count": 1,
   "id": "4f763c82-31b5-4fab-88b8-7a8628bb3673",
   "metadata": {},
   "outputs": [],
   "source": [
    "import numpy as np\n",
    "import pandas as pd\n",
    "import os \n",
    "from scipy.io import savemat\n",
    "from tqdm import tqdm"
   ]
  },
  {
   "cell_type": "code",
   "execution_count": 2,
   "id": "1fbb42c9-6bb0-4959-b376-98f4493aba30",
   "metadata": {},
   "outputs": [
    {
     "name": "stdout",
     "output_type": "stream",
     "text": [
      "30\n",
      "30\n"
     ]
    }
   ],
   "source": [
    "indir = '../Data/010-Data_bids2/'\n",
    "subs = [f for f in os.listdir(indir) if f.startswith('sub-')]\n",
    "print(len(subs))\n",
    "fn_temp = '../Data/010-Data_bids2/{sub}/ses-baselineYear1Arm1/func/{sub}_ses-baselineYear1Arm1_task-nback_run-0{run}_events.tsv'\n",
    "nii_temp = '../Data/020-fmriprepped/{sub}/ses-baselineYear1Arm1/func/{sub}_ses-baselineYear1Arm1_task-nback_run-0{run}_space-MNI152NLin2009cAsym_res-2_desc-preproc_bold.nii.gz'\n",
    "\n",
    "subs = [sub for sub in subs if all((os.path.exists(fn_temp.format(sub=sub,run=1)),\n",
    "os.path.exists(fn_temp.format(sub=sub,run=2)),\n",
    "os.path.exists(nii_temp.format(sub=sub,run=1)),\n",
    "os.path.exists(nii_temp.format(sub=sub,run=2))))]\n",
    "print(len(subs))"
   ]
  },
  {
   "cell_type": "code",
   "execution_count": 3,
   "id": "5ae4fd8a-6c40-4e9e-8ef3-dd5ced7f1e51",
   "metadata": {},
   "outputs": [
    {
     "name": "stderr",
     "output_type": "stream",
     "text": [
      "  0%|                                                    | 0/30 [00:00<?, ?it/s]/data/aglinska/anaconda3/lib/python3.8/site-packages/scipy/io/matlab/mio5.py:493: VisibleDeprecationWarning: Creating an ndarray from ragged nested sequences (which is a list-or-tuple of lists-or-tuples-or ndarrays with different lengths or shapes) is deprecated. If you meant to do this, you must specify 'dtype=object' when creating the ndarray.\n",
      "  narr = np.asanyarray(source)\n",
      "/data/aglinska/anaconda3/lib/python3.8/site-packages/scipy/io/matlab/mio5.py:493: VisibleDeprecationWarning: Creating an ndarray from ragged nested sequences (which is a list-or-tuple of lists-or-tuples-or ndarrays with different lengths or shapes) is deprecated. If you meant to do this, you must specify 'dtype=object' when creating the ndarray.\n",
      "  narr = np.asanyarray(source)\n",
      "/data/aglinska/anaconda3/lib/python3.8/site-packages/scipy/io/matlab/mio5.py:493: VisibleDeprecationWarning: Creating an ndarray from ragged nested sequences (which is a list-or-tuple of lists-or-tuples-or ndarrays with different lengths or shapes) is deprecated. If you meant to do this, you must specify 'dtype=object' when creating the ndarray.\n",
      "  narr = np.asanyarray(source)\n",
      "/data/aglinska/anaconda3/lib/python3.8/site-packages/scipy/io/matlab/mio5.py:493: VisibleDeprecationWarning: Creating an ndarray from ragged nested sequences (which is a list-or-tuple of lists-or-tuples-or ndarrays with different lengths or shapes) is deprecated. If you meant to do this, you must specify 'dtype=object' when creating the ndarray.\n",
      "  narr = np.asanyarray(source)\n",
      "/data/aglinska/anaconda3/lib/python3.8/site-packages/scipy/io/matlab/mio5.py:493: VisibleDeprecationWarning: Creating an ndarray from ragged nested sequences (which is a list-or-tuple of lists-or-tuples-or ndarrays with different lengths or shapes) is deprecated. If you meant to do this, you must specify 'dtype=object' when creating the ndarray.\n",
      "  narr = np.asanyarray(source)\n",
      "/data/aglinska/anaconda3/lib/python3.8/site-packages/scipy/io/matlab/mio5.py:493: VisibleDeprecationWarning: Creating an ndarray from ragged nested sequences (which is a list-or-tuple of lists-or-tuples-or ndarrays with different lengths or shapes) is deprecated. If you meant to do this, you must specify 'dtype=object' when creating the ndarray.\n",
      "  narr = np.asanyarray(source)\n",
      " 10%|████▍                                       | 3/30 [00:00<00:01, 26.04it/s]/data/aglinska/anaconda3/lib/python3.8/site-packages/scipy/io/matlab/mio5.py:493: VisibleDeprecationWarning: Creating an ndarray from ragged nested sequences (which is a list-or-tuple of lists-or-tuples-or ndarrays with different lengths or shapes) is deprecated. If you meant to do this, you must specify 'dtype=object' when creating the ndarray.\n",
      "  narr = np.asanyarray(source)\n",
      "/data/aglinska/anaconda3/lib/python3.8/site-packages/scipy/io/matlab/mio5.py:493: VisibleDeprecationWarning: Creating an ndarray from ragged nested sequences (which is a list-or-tuple of lists-or-tuples-or ndarrays with different lengths or shapes) is deprecated. If you meant to do this, you must specify 'dtype=object' when creating the ndarray.\n",
      "  narr = np.asanyarray(source)\n",
      "/data/aglinska/anaconda3/lib/python3.8/site-packages/scipy/io/matlab/mio5.py:493: VisibleDeprecationWarning: Creating an ndarray from ragged nested sequences (which is a list-or-tuple of lists-or-tuples-or ndarrays with different lengths or shapes) is deprecated. If you meant to do this, you must specify 'dtype=object' when creating the ndarray.\n",
      "  narr = np.asanyarray(source)\n",
      "/data/aglinska/anaconda3/lib/python3.8/site-packages/scipy/io/matlab/mio5.py:493: VisibleDeprecationWarning: Creating an ndarray from ragged nested sequences (which is a list-or-tuple of lists-or-tuples-or ndarrays with different lengths or shapes) is deprecated. If you meant to do this, you must specify 'dtype=object' when creating the ndarray.\n",
      "  narr = np.asanyarray(source)\n",
      "/data/aglinska/anaconda3/lib/python3.8/site-packages/scipy/io/matlab/mio5.py:493: VisibleDeprecationWarning: Creating an ndarray from ragged nested sequences (which is a list-or-tuple of lists-or-tuples-or ndarrays with different lengths or shapes) is deprecated. If you meant to do this, you must specify 'dtype=object' when creating the ndarray.\n",
      "  narr = np.asanyarray(source)\n",
      "/data/aglinska/anaconda3/lib/python3.8/site-packages/scipy/io/matlab/mio5.py:493: VisibleDeprecationWarning: Creating an ndarray from ragged nested sequences (which is a list-or-tuple of lists-or-tuples-or ndarrays with different lengths or shapes) is deprecated. If you meant to do this, you must specify 'dtype=object' when creating the ndarray.\n",
      "  narr = np.asanyarray(source)\n",
      "/data/aglinska/anaconda3/lib/python3.8/site-packages/scipy/io/matlab/mio5.py:493: VisibleDeprecationWarning: Creating an ndarray from ragged nested sequences (which is a list-or-tuple of lists-or-tuples-or ndarrays with different lengths or shapes) is deprecated. If you meant to do this, you must specify 'dtype=object' when creating the ndarray.\n",
      "  narr = np.asanyarray(source)\n"
     ]
    },
    {
     "name": "stdout",
     "output_type": "stream",
     "text": [
      "../Data/030-subject-multiconds/sub-NDARINVTKENUL3C_nback_multicond_run_1.mat\n",
      "../Data/030-subject-multiconds/sub-NDARINVTKENUL3C_nback_multicond_run_2.mat\n",
      "../Data/030-subject-multiconds/sub-NDARINVVR8GJJYB_nback_multicond_run_1.mat\n",
      "../Data/030-subject-multiconds/sub-NDARINVVR8GJJYB_nback_multicond_run_2.mat\n",
      "../Data/030-subject-multiconds/sub-NDARINVXZRDA6CJ_nback_multicond_run_1.mat\n",
      "../Data/030-subject-multiconds/sub-NDARINVXZRDA6CJ_nback_multicond_run_2.mat\n",
      "../Data/030-subject-multiconds/sub-NDARINVTDXHD95M_nback_multicond_run_1.mat\n",
      "../Data/030-subject-multiconds/sub-NDARINVTDXHD95M_nback_multicond_run_2.mat\n",
      "../Data/030-subject-multiconds/sub-NDARINVNNNX0496_nback_multicond_run_1.mat\n",
      "../Data/030-subject-multiconds/sub-NDARINVNNNX0496_nback_multicond_run_2.mat\n",
      "../Data/030-subject-multiconds/sub-NDARINVHPU5TKNF_nback_multicond_run_1.mat\n",
      "../Data/030-subject-multiconds/sub-NDARINVHPU5TKNF_nback_multicond_run_2.mat\n",
      "../Data/030-subject-multiconds/sub-NDARINVVWH7ZJJR_nback_multicond_run_1.mat\n",
      "../Data/030-subject-multiconds/sub-NDARINVVWH7ZJJR_nback_multicond_run_2.mat\n"
     ]
    },
    {
     "name": "stderr",
     "output_type": "stream",
     "text": [
      "/data/aglinska/anaconda3/lib/python3.8/site-packages/scipy/io/matlab/mio5.py:493: VisibleDeprecationWarning: Creating an ndarray from ragged nested sequences (which is a list-or-tuple of lists-or-tuples-or ndarrays with different lengths or shapes) is deprecated. If you meant to do this, you must specify 'dtype=object' when creating the ndarray.\n",
      "  narr = np.asanyarray(source)\n",
      "/data/aglinska/anaconda3/lib/python3.8/site-packages/scipy/io/matlab/mio5.py:493: VisibleDeprecationWarning: Creating an ndarray from ragged nested sequences (which is a list-or-tuple of lists-or-tuples-or ndarrays with different lengths or shapes) is deprecated. If you meant to do this, you must specify 'dtype=object' when creating the ndarray.\n",
      "  narr = np.asanyarray(source)\n",
      "/data/aglinska/anaconda3/lib/python3.8/site-packages/scipy/io/matlab/mio5.py:493: VisibleDeprecationWarning: Creating an ndarray from ragged nested sequences (which is a list-or-tuple of lists-or-tuples-or ndarrays with different lengths or shapes) is deprecated. If you meant to do this, you must specify 'dtype=object' when creating the ndarray.\n",
      "  narr = np.asanyarray(source)\n",
      " 27%|███████████▋                                | 8/30 [00:00<00:00, 37.64it/s]/data/aglinska/anaconda3/lib/python3.8/site-packages/scipy/io/matlab/mio5.py:493: VisibleDeprecationWarning: Creating an ndarray from ragged nested sequences (which is a list-or-tuple of lists-or-tuples-or ndarrays with different lengths or shapes) is deprecated. If you meant to do this, you must specify 'dtype=object' when creating the ndarray.\n",
      "  narr = np.asanyarray(source)\n",
      "/data/aglinska/anaconda3/lib/python3.8/site-packages/scipy/io/matlab/mio5.py:493: VisibleDeprecationWarning: Creating an ndarray from ragged nested sequences (which is a list-or-tuple of lists-or-tuples-or ndarrays with different lengths or shapes) is deprecated. If you meant to do this, you must specify 'dtype=object' when creating the ndarray.\n",
      "  narr = np.asanyarray(source)\n",
      "/data/aglinska/anaconda3/lib/python3.8/site-packages/scipy/io/matlab/mio5.py:493: VisibleDeprecationWarning: Creating an ndarray from ragged nested sequences (which is a list-or-tuple of lists-or-tuples-or ndarrays with different lengths or shapes) is deprecated. If you meant to do this, you must specify 'dtype=object' when creating the ndarray.\n",
      "  narr = np.asanyarray(source)\n",
      "/data/aglinska/anaconda3/lib/python3.8/site-packages/scipy/io/matlab/mio5.py:493: VisibleDeprecationWarning: Creating an ndarray from ragged nested sequences (which is a list-or-tuple of lists-or-tuples-or ndarrays with different lengths or shapes) is deprecated. If you meant to do this, you must specify 'dtype=object' when creating the ndarray.\n",
      "  narr = np.asanyarray(source)\n",
      "/data/aglinska/anaconda3/lib/python3.8/site-packages/scipy/io/matlab/mio5.py:493: VisibleDeprecationWarning: Creating an ndarray from ragged nested sequences (which is a list-or-tuple of lists-or-tuples-or ndarrays with different lengths or shapes) is deprecated. If you meant to do this, you must specify 'dtype=object' when creating the ndarray.\n",
      "  narr = np.asanyarray(source)\n",
      "/data/aglinska/anaconda3/lib/python3.8/site-packages/scipy/io/matlab/mio5.py:493: VisibleDeprecationWarning: Creating an ndarray from ragged nested sequences (which is a list-or-tuple of lists-or-tuples-or ndarrays with different lengths or shapes) is deprecated. If you meant to do this, you must specify 'dtype=object' when creating the ndarray.\n",
      "  narr = np.asanyarray(source)\n",
      "/data/aglinska/anaconda3/lib/python3.8/site-packages/scipy/io/matlab/mio5.py:493: VisibleDeprecationWarning: Creating an ndarray from ragged nested sequences (which is a list-or-tuple of lists-or-tuples-or ndarrays with different lengths or shapes) is deprecated. If you meant to do this, you must specify 'dtype=object' when creating the ndarray.\n",
      "  narr = np.asanyarray(source)\n",
      "/data/aglinska/anaconda3/lib/python3.8/site-packages/scipy/io/matlab/mio5.py:493: VisibleDeprecationWarning: Creating an ndarray from ragged nested sequences (which is a list-or-tuple of lists-or-tuples-or ndarrays with different lengths or shapes) is deprecated. If you meant to do this, you must specify 'dtype=object' when creating the ndarray.\n",
      "  narr = np.asanyarray(source)\n",
      "/data/aglinska/anaconda3/lib/python3.8/site-packages/scipy/io/matlab/mio5.py:493: VisibleDeprecationWarning: Creating an ndarray from ragged nested sequences (which is a list-or-tuple of lists-or-tuples-or ndarrays with different lengths or shapes) is deprecated. If you meant to do this, you must specify 'dtype=object' when creating the ndarray.\n",
      "  narr = np.asanyarray(source)\n",
      "/data/aglinska/anaconda3/lib/python3.8/site-packages/scipy/io/matlab/mio5.py:493: VisibleDeprecationWarning: Creating an ndarray from ragged nested sequences (which is a list-or-tuple of lists-or-tuples-or ndarrays with different lengths or shapes) is deprecated. If you meant to do this, you must specify 'dtype=object' when creating the ndarray.\n",
      "  narr = np.asanyarray(source)\n",
      " 43%|██████████████████▋                        | 13/30 [00:00<00:00, 40.91it/s]/data/aglinska/anaconda3/lib/python3.8/site-packages/scipy/io/matlab/mio5.py:493: VisibleDeprecationWarning: Creating an ndarray from ragged nested sequences (which is a list-or-tuple of lists-or-tuples-or ndarrays with different lengths or shapes) is deprecated. If you meant to do this, you must specify 'dtype=object' when creating the ndarray.\n",
      "  narr = np.asanyarray(source)\n",
      "/data/aglinska/anaconda3/lib/python3.8/site-packages/scipy/io/matlab/mio5.py:493: VisibleDeprecationWarning: Creating an ndarray from ragged nested sequences (which is a list-or-tuple of lists-or-tuples-or ndarrays with different lengths or shapes) is deprecated. If you meant to do this, you must specify 'dtype=object' when creating the ndarray.\n",
      "  narr = np.asanyarray(source)\n",
      "/data/aglinska/anaconda3/lib/python3.8/site-packages/scipy/io/matlab/mio5.py:493: VisibleDeprecationWarning: Creating an ndarray from ragged nested sequences (which is a list-or-tuple of lists-or-tuples-or ndarrays with different lengths or shapes) is deprecated. If you meant to do this, you must specify 'dtype=object' when creating the ndarray.\n",
      "  narr = np.asanyarray(source)\n",
      "/data/aglinska/anaconda3/lib/python3.8/site-packages/scipy/io/matlab/mio5.py:493: VisibleDeprecationWarning: Creating an ndarray from ragged nested sequences (which is a list-or-tuple of lists-or-tuples-or ndarrays with different lengths or shapes) is deprecated. If you meant to do this, you must specify 'dtype=object' when creating the ndarray.\n",
      "  narr = np.asanyarray(source)\n",
      "/data/aglinska/anaconda3/lib/python3.8/site-packages/scipy/io/matlab/mio5.py:493: VisibleDeprecationWarning: Creating an ndarray from ragged nested sequences (which is a list-or-tuple of lists-or-tuples-or ndarrays with different lengths or shapes) is deprecated. If you meant to do this, you must specify 'dtype=object' when creating the ndarray.\n",
      "  narr = np.asanyarray(source)\n",
      "/data/aglinska/anaconda3/lib/python3.8/site-packages/scipy/io/matlab/mio5.py:493: VisibleDeprecationWarning: Creating an ndarray from ragged nested sequences (which is a list-or-tuple of lists-or-tuples-or ndarrays with different lengths or shapes) is deprecated. If you meant to do this, you must specify 'dtype=object' when creating the ndarray.\n",
      "  narr = np.asanyarray(source)\n"
     ]
    },
    {
     "name": "stdout",
     "output_type": "stream",
     "text": [
      "../Data/030-subject-multiconds/sub-NDARINVXZ44NE7H_nback_multicond_run_1.mat\n",
      "../Data/030-subject-multiconds/sub-NDARINVXZ44NE7H_nback_multicond_run_2.mat\n",
      "../Data/030-subject-multiconds/sub-NDARINV8RN0AJRP_nback_multicond_run_1.mat\n",
      "../Data/030-subject-multiconds/sub-NDARINV8RN0AJRP_nback_multicond_run_2.mat\n",
      "../Data/030-subject-multiconds/sub-NDARINVMMN463FT_nback_multicond_run_1.mat\n",
      "../Data/030-subject-multiconds/sub-NDARINVMMN463FT_nback_multicond_run_2.mat\n",
      "../Data/030-subject-multiconds/sub-NDARINVRF70B79M_nback_multicond_run_1.mat\n",
      "../Data/030-subject-multiconds/sub-NDARINVRF70B79M_nback_multicond_run_2.mat\n",
      "../Data/030-subject-multiconds/sub-NDARINVR6R9DHFF_nback_multicond_run_1.mat\n",
      "../Data/030-subject-multiconds/sub-NDARINVR6R9DHFF_nback_multicond_run_2.mat\n",
      "../Data/030-subject-multiconds/sub-NDARINVTPXZDTAT_nback_multicond_run_1.mat\n",
      "../Data/030-subject-multiconds/sub-NDARINVTPXZDTAT_nback_multicond_run_2.mat\n",
      "../Data/030-subject-multiconds/sub-NDARINVG0K2DRXF_nback_multicond_run_1.mat\n",
      "../Data/030-subject-multiconds/sub-NDARINVG0K2DRXF_nback_multicond_run_2.mat\n",
      "../Data/030-subject-multiconds/sub-NDARINVTMVWP642_nback_multicond_run_1.mat\n",
      "../Data/030-subject-multiconds/sub-NDARINVTMVWP642_nback_multicond_run_2.mat\n",
      "../Data/030-subject-multiconds/sub-NDARINVET4W53Z8_nback_multicond_run_1.mat\n",
      "../Data/030-subject-multiconds/sub-NDARINVET4W53Z8_nback_multicond_run_2.mat\n",
      "../Data/030-subject-multiconds/sub-NDARINVURJ3XK7W_nback_multicond_run_1.mat\n"
     ]
    },
    {
     "name": "stderr",
     "output_type": "stream",
     "text": [
      "/data/aglinska/anaconda3/lib/python3.8/site-packages/scipy/io/matlab/mio5.py:493: VisibleDeprecationWarning: Creating an ndarray from ragged nested sequences (which is a list-or-tuple of lists-or-tuples-or ndarrays with different lengths or shapes) is deprecated. If you meant to do this, you must specify 'dtype=object' when creating the ndarray.\n",
      "  narr = np.asanyarray(source)\n",
      "/data/aglinska/anaconda3/lib/python3.8/site-packages/scipy/io/matlab/mio5.py:493: VisibleDeprecationWarning: Creating an ndarray from ragged nested sequences (which is a list-or-tuple of lists-or-tuples-or ndarrays with different lengths or shapes) is deprecated. If you meant to do this, you must specify 'dtype=object' when creating the ndarray.\n",
      "  narr = np.asanyarray(source)\n",
      "/data/aglinska/anaconda3/lib/python3.8/site-packages/scipy/io/matlab/mio5.py:493: VisibleDeprecationWarning: Creating an ndarray from ragged nested sequences (which is a list-or-tuple of lists-or-tuples-or ndarrays with different lengths or shapes) is deprecated. If you meant to do this, you must specify 'dtype=object' when creating the ndarray.\n",
      "  narr = np.asanyarray(source)\n",
      "/data/aglinska/anaconda3/lib/python3.8/site-packages/scipy/io/matlab/mio5.py:493: VisibleDeprecationWarning: Creating an ndarray from ragged nested sequences (which is a list-or-tuple of lists-or-tuples-or ndarrays with different lengths or shapes) is deprecated. If you meant to do this, you must specify 'dtype=object' when creating the ndarray.\n",
      "  narr = np.asanyarray(source)\n",
      "/data/aglinska/anaconda3/lib/python3.8/site-packages/scipy/io/matlab/mio5.py:493: VisibleDeprecationWarning: Creating an ndarray from ragged nested sequences (which is a list-or-tuple of lists-or-tuples-or ndarrays with different lengths or shapes) is deprecated. If you meant to do this, you must specify 'dtype=object' when creating the ndarray.\n",
      "  narr = np.asanyarray(source)\n",
      "/data/aglinska/anaconda3/lib/python3.8/site-packages/scipy/io/matlab/mio5.py:493: VisibleDeprecationWarning: Creating an ndarray from ragged nested sequences (which is a list-or-tuple of lists-or-tuples-or ndarrays with different lengths or shapes) is deprecated. If you meant to do this, you must specify 'dtype=object' when creating the ndarray.\n",
      "  narr = np.asanyarray(source)\n",
      " 63%|███████████████████████████▏               | 19/30 [00:00<00:00, 45.17it/s]/data/aglinska/anaconda3/lib/python3.8/site-packages/scipy/io/matlab/mio5.py:493: VisibleDeprecationWarning: Creating an ndarray from ragged nested sequences (which is a list-or-tuple of lists-or-tuples-or ndarrays with different lengths or shapes) is deprecated. If you meant to do this, you must specify 'dtype=object' when creating the ndarray.\n",
      "  narr = np.asanyarray(source)\n",
      "/data/aglinska/anaconda3/lib/python3.8/site-packages/scipy/io/matlab/mio5.py:493: VisibleDeprecationWarning: Creating an ndarray from ragged nested sequences (which is a list-or-tuple of lists-or-tuples-or ndarrays with different lengths or shapes) is deprecated. If you meant to do this, you must specify 'dtype=object' when creating the ndarray.\n",
      "  narr = np.asanyarray(source)\n",
      "/data/aglinska/anaconda3/lib/python3.8/site-packages/scipy/io/matlab/mio5.py:493: VisibleDeprecationWarning: Creating an ndarray from ragged nested sequences (which is a list-or-tuple of lists-or-tuples-or ndarrays with different lengths or shapes) is deprecated. If you meant to do this, you must specify 'dtype=object' when creating the ndarray.\n",
      "  narr = np.asanyarray(source)\n",
      "/data/aglinska/anaconda3/lib/python3.8/site-packages/scipy/io/matlab/mio5.py:493: VisibleDeprecationWarning: Creating an ndarray from ragged nested sequences (which is a list-or-tuple of lists-or-tuples-or ndarrays with different lengths or shapes) is deprecated. If you meant to do this, you must specify 'dtype=object' when creating the ndarray.\n",
      "  narr = np.asanyarray(source)\n",
      "/data/aglinska/anaconda3/lib/python3.8/site-packages/scipy/io/matlab/mio5.py:493: VisibleDeprecationWarning: Creating an ndarray from ragged nested sequences (which is a list-or-tuple of lists-or-tuples-or ndarrays with different lengths or shapes) is deprecated. If you meant to do this, you must specify 'dtype=object' when creating the ndarray.\n",
      "  narr = np.asanyarray(source)\n",
      "/data/aglinska/anaconda3/lib/python3.8/site-packages/scipy/io/matlab/mio5.py:493: VisibleDeprecationWarning: Creating an ndarray from ragged nested sequences (which is a list-or-tuple of lists-or-tuples-or ndarrays with different lengths or shapes) is deprecated. If you meant to do this, you must specify 'dtype=object' when creating the ndarray.\n",
      "  narr = np.asanyarray(source)\n",
      "/data/aglinska/anaconda3/lib/python3.8/site-packages/scipy/io/matlab/mio5.py:493: VisibleDeprecationWarning: Creating an ndarray from ragged nested sequences (which is a list-or-tuple of lists-or-tuples-or ndarrays with different lengths or shapes) is deprecated. If you meant to do this, you must specify 'dtype=object' when creating the ndarray.\n",
      "  narr = np.asanyarray(source)\n",
      "/data/aglinska/anaconda3/lib/python3.8/site-packages/scipy/io/matlab/mio5.py:493: VisibleDeprecationWarning: Creating an ndarray from ragged nested sequences (which is a list-or-tuple of lists-or-tuples-or ndarrays with different lengths or shapes) is deprecated. If you meant to do this, you must specify 'dtype=object' when creating the ndarray.\n",
      "  narr = np.asanyarray(source)\n",
      "/data/aglinska/anaconda3/lib/python3.8/site-packages/scipy/io/matlab/mio5.py:493: VisibleDeprecationWarning: Creating an ndarray from ragged nested sequences (which is a list-or-tuple of lists-or-tuples-or ndarrays with different lengths or shapes) is deprecated. If you meant to do this, you must specify 'dtype=object' when creating the ndarray.\n",
      "  narr = np.asanyarray(source)\n",
      "/data/aglinska/anaconda3/lib/python3.8/site-packages/scipy/io/matlab/mio5.py:493: VisibleDeprecationWarning: Creating an ndarray from ragged nested sequences (which is a list-or-tuple of lists-or-tuples-or ndarrays with different lengths or shapes) is deprecated. If you meant to do this, you must specify 'dtype=object' when creating the ndarray.\n",
      "  narr = np.asanyarray(source)\n",
      " 80%|██████████████████████████████████▍        | 24/30 [00:00<00:00, 45.74it/s]/data/aglinska/anaconda3/lib/python3.8/site-packages/scipy/io/matlab/mio5.py:493: VisibleDeprecationWarning: Creating an ndarray from ragged nested sequences (which is a list-or-tuple of lists-or-tuples-or ndarrays with different lengths or shapes) is deprecated. If you meant to do this, you must specify 'dtype=object' when creating the ndarray.\n",
      "  narr = np.asanyarray(source)\n",
      "/data/aglinska/anaconda3/lib/python3.8/site-packages/scipy/io/matlab/mio5.py:493: VisibleDeprecationWarning: Creating an ndarray from ragged nested sequences (which is a list-or-tuple of lists-or-tuples-or ndarrays with different lengths or shapes) is deprecated. If you meant to do this, you must specify 'dtype=object' when creating the ndarray.\n",
      "  narr = np.asanyarray(source)\n",
      "/data/aglinska/anaconda3/lib/python3.8/site-packages/scipy/io/matlab/mio5.py:493: VisibleDeprecationWarning: Creating an ndarray from ragged nested sequences (which is a list-or-tuple of lists-or-tuples-or ndarrays with different lengths or shapes) is deprecated. If you meant to do this, you must specify 'dtype=object' when creating the ndarray.\n",
      "  narr = np.asanyarray(source)\n",
      "/data/aglinska/anaconda3/lib/python3.8/site-packages/scipy/io/matlab/mio5.py:493: VisibleDeprecationWarning: Creating an ndarray from ragged nested sequences (which is a list-or-tuple of lists-or-tuples-or ndarrays with different lengths or shapes) is deprecated. If you meant to do this, you must specify 'dtype=object' when creating the ndarray.\n",
      "  narr = np.asanyarray(source)\n"
     ]
    },
    {
     "name": "stdout",
     "output_type": "stream",
     "text": [
      "../Data/030-subject-multiconds/sub-NDARINVURJ3XK7W_nback_multicond_run_2.mat\n",
      "../Data/030-subject-multiconds/sub-NDARINVWNUXY3KF_nback_multicond_run_1.mat\n",
      "../Data/030-subject-multiconds/sub-NDARINVWNUXY3KF_nback_multicond_run_2.mat\n",
      "../Data/030-subject-multiconds/sub-NDARINVZ4YHXYLW_nback_multicond_run_1.mat\n",
      "../Data/030-subject-multiconds/sub-NDARINVZ4YHXYLW_nback_multicond_run_2.mat\n",
      "../Data/030-subject-multiconds/sub-NDARINVTHHL55VX_nback_multicond_run_1.mat\n",
      "../Data/030-subject-multiconds/sub-NDARINVTHHL55VX_nback_multicond_run_2.mat\n",
      "../Data/030-subject-multiconds/sub-NDARINVPAJ26DUR_nback_multicond_run_1.mat\n",
      "../Data/030-subject-multiconds/sub-NDARINVPAJ26DUR_nback_multicond_run_2.mat\n",
      "../Data/030-subject-multiconds/sub-NDARINVJNDY0DWK_nback_multicond_run_1.mat\n",
      "../Data/030-subject-multiconds/sub-NDARINVJNDY0DWK_nback_multicond_run_2.mat\n",
      "../Data/030-subject-multiconds/sub-NDARINVX6MC634B_nback_multicond_run_1.mat\n",
      "../Data/030-subject-multiconds/sub-NDARINVX6MC634B_nback_multicond_run_2.mat\n",
      "../Data/030-subject-multiconds/sub-NDARINV5YHWBYRD_nback_multicond_run_1.mat\n",
      "../Data/030-subject-multiconds/sub-NDARINV5YHWBYRD_nback_multicond_run_2.mat\n",
      "../Data/030-subject-multiconds/sub-NDARINVPURW8L0G_nback_multicond_run_1.mat\n",
      "../Data/030-subject-multiconds/sub-NDARINVPURW8L0G_nback_multicond_run_2.mat\n",
      "../Data/030-subject-multiconds/sub-NDARINV6WXU5DEY_nback_multicond_run_1.mat\n",
      "../Data/030-subject-multiconds/sub-NDARINV6WXU5DEY_nback_multicond_run_2.mat\n",
      "../Data/030-subject-multiconds/sub-NDARINV1H7JEJW1_nback_multicond_run_1.mat\n"
     ]
    },
    {
     "name": "stderr",
     "output_type": "stream",
     "text": [
      "/data/aglinska/anaconda3/lib/python3.8/site-packages/scipy/io/matlab/mio5.py:493: VisibleDeprecationWarning: Creating an ndarray from ragged nested sequences (which is a list-or-tuple of lists-or-tuples-or ndarrays with different lengths or shapes) is deprecated. If you meant to do this, you must specify 'dtype=object' when creating the ndarray.\n",
      "  narr = np.asanyarray(source)\n",
      "/data/aglinska/anaconda3/lib/python3.8/site-packages/scipy/io/matlab/mio5.py:493: VisibleDeprecationWarning: Creating an ndarray from ragged nested sequences (which is a list-or-tuple of lists-or-tuples-or ndarrays with different lengths or shapes) is deprecated. If you meant to do this, you must specify 'dtype=object' when creating the ndarray.\n",
      "  narr = np.asanyarray(source)\n",
      "/data/aglinska/anaconda3/lib/python3.8/site-packages/scipy/io/matlab/mio5.py:493: VisibleDeprecationWarning: Creating an ndarray from ragged nested sequences (which is a list-or-tuple of lists-or-tuples-or ndarrays with different lengths or shapes) is deprecated. If you meant to do this, you must specify 'dtype=object' when creating the ndarray.\n",
      "  narr = np.asanyarray(source)\n",
      "/data/aglinska/anaconda3/lib/python3.8/site-packages/scipy/io/matlab/mio5.py:493: VisibleDeprecationWarning: Creating an ndarray from ragged nested sequences (which is a list-or-tuple of lists-or-tuples-or ndarrays with different lengths or shapes) is deprecated. If you meant to do this, you must specify 'dtype=object' when creating the ndarray.\n",
      "  narr = np.asanyarray(source)\n",
      "/data/aglinska/anaconda3/lib/python3.8/site-packages/scipy/io/matlab/mio5.py:493: VisibleDeprecationWarning: Creating an ndarray from ragged nested sequences (which is a list-or-tuple of lists-or-tuples-or ndarrays with different lengths or shapes) is deprecated. If you meant to do this, you must specify 'dtype=object' when creating the ndarray.\n",
      "  narr = np.asanyarray(source)\n",
      "/data/aglinska/anaconda3/lib/python3.8/site-packages/scipy/io/matlab/mio5.py:493: VisibleDeprecationWarning: Creating an ndarray from ragged nested sequences (which is a list-or-tuple of lists-or-tuples-or ndarrays with different lengths or shapes) is deprecated. If you meant to do this, you must specify 'dtype=object' when creating the ndarray.\n",
      "  narr = np.asanyarray(source)\n",
      " 97%|█████████████████████████████████████████▌ | 29/30 [00:00<00:00, 45.60it/s]/data/aglinska/anaconda3/lib/python3.8/site-packages/scipy/io/matlab/mio5.py:493: VisibleDeprecationWarning: Creating an ndarray from ragged nested sequences (which is a list-or-tuple of lists-or-tuples-or ndarrays with different lengths or shapes) is deprecated. If you meant to do this, you must specify 'dtype=object' when creating the ndarray.\n",
      "  narr = np.asanyarray(source)\n",
      "/data/aglinska/anaconda3/lib/python3.8/site-packages/scipy/io/matlab/mio5.py:493: VisibleDeprecationWarning: Creating an ndarray from ragged nested sequences (which is a list-or-tuple of lists-or-tuples-or ndarrays with different lengths or shapes) is deprecated. If you meant to do this, you must specify 'dtype=object' when creating the ndarray.\n",
      "  narr = np.asanyarray(source)\n",
      "100%|███████████████████████████████████████████| 30/30 [00:00<00:00, 43.33it/s]"
     ]
    },
    {
     "name": "stdout",
     "output_type": "stream",
     "text": [
      "../Data/030-subject-multiconds/sub-NDARINV1H7JEJW1_nback_multicond_run_2.mat\n",
      "../Data/030-subject-multiconds/sub-NDARINVE1XNAPC7_nback_multicond_run_1.mat\n",
      "../Data/030-subject-multiconds/sub-NDARINVE1XNAPC7_nback_multicond_run_2.mat\n",
      "../Data/030-subject-multiconds/sub-NDARINV3385AZ13_nback_multicond_run_1.mat\n",
      "../Data/030-subject-multiconds/sub-NDARINV3385AZ13_nback_multicond_run_2.mat\n",
      "../Data/030-subject-multiconds/sub-NDARINV29P0F670_nback_multicond_run_1.mat\n",
      "../Data/030-subject-multiconds/sub-NDARINV29P0F670_nback_multicond_run_2.mat\n"
     ]
    },
    {
     "name": "stderr",
     "output_type": "stream",
     "text": [
      "\n"
     ]
    }
   ],
   "source": [
    "for sub in tqdm(subs):\n",
    "    for r in [1,2]:\n",
    "        fn = fn_temp.format(sub=sub,run=r)\n",
    "        df = pd.read_csv(fn,delimiter='\\t')\n",
    "        \n",
    "        conds = ['0_back_neutface',\n",
    "        '2_back_neutface',\n",
    "        '0_back_posface',\n",
    "        '2_back_posface',\n",
    "        '0_back_negface',\n",
    "        '2_back_negface' ,\n",
    "        '0_back_place',\n",
    "        '2_back_place',\n",
    "        'dummy', \n",
    "        'cue', ]\n",
    "        \n",
    "        assert len(pd.unique(df['trial_type'].values))==len(np.unique(conds))\n",
    "        \n",
    "        names = conds\n",
    "        onsets = []\n",
    "        durations = []\n",
    "        \n",
    "        onsets.append(df.iloc[df['trial_type'].values=='0_back_neutface']['onset'].values[0])\n",
    "        onsets.append(df.iloc[df['trial_type'].values=='2_back_neutface']['onset'].values[0])\n",
    "        onsets.append(df.iloc[df['trial_type'].values=='0_back_posface']['onset'].values[0])\n",
    "        onsets.append(df.iloc[df['trial_type'].values=='2_back_posface']['onset'].values[0])\n",
    "        onsets.append(df.iloc[df['trial_type'].values=='0_back_negface']['onset'].values[0])\n",
    "        onsets.append(df.iloc[df['trial_type'].values=='2_back_negface']['onset'].values[0])\n",
    "        onsets.append(df.iloc[df['trial_type'].values=='0_back_place']['onset'].values[0])\n",
    "        onsets.append(df.iloc[df['trial_type'].values=='2_back_place']['onset'].values[0])\n",
    "        onsets.append(df.iloc[df['trial_type'].values=='dummy']['onset'].values[0])\n",
    "        onsets.append(df.iloc[df['trial_type'].values=='cue']['onset'].values)\n",
    "        \n",
    "        durations.append( df.iloc[df['trial_type'].values=='0_back_neutface']['duration'].values.sum() )\n",
    "        durations.append( df.iloc[df['trial_type'].values=='2_back_neutface']['duration'].values.sum() )\n",
    "        durations.append( df.iloc[df['trial_type'].values=='0_back_posface']['duration'].values.sum() )\n",
    "        durations.append( df.iloc[df['trial_type'].values=='2_back_posface']['duration'].values.sum() )\n",
    "        durations.append( df.iloc[df['trial_type'].values=='0_back_negface']['duration'].values.sum() )\n",
    "        durations.append( df.iloc[df['trial_type'].values=='2_back_negface']['duration'].values.sum() )\n",
    "        durations.append( df.iloc[df['trial_type'].values=='0_back_place']['duration'].values.sum() )\n",
    "        durations.append( df.iloc[df['trial_type'].values=='2_back_place']['duration'].values.sum() )\n",
    "        durations.append( df.iloc[df['trial_type'].values=='dummy']['duration'].values[0] )\n",
    "        durations.append( df.iloc[df['trial_type'].values=='cue']['duration'].values )\n",
    "        \n",
    "        names = np.array(conds,dtype=object)\n",
    "        mdic = {'names' : names, 'onsets' : onsets, 'durations' : durations}\n",
    "        ofn = f'../Data/030-subject-multiconds/{sub}_nback_multicond_run_{r}.mat'\n",
    "        print(ofn)\n",
    "        savemat(ofn, mdic)"
   ]
  },
  {
   "cell_type": "code",
   "execution_count": 6,
   "id": "80473bbb-4127-4db5-83d9-99177abfd79a",
   "metadata": {},
   "outputs": [],
   "source": [
    "savemat('subject_list.mat', {'subjects' : np.array(subs,dtype=object)})"
   ]
  },
  {
   "cell_type": "code",
   "execution_count": null,
   "id": "7ae99353-aa5e-4418-a76b-b4521f8f7a84",
   "metadata": {},
   "outputs": [],
   "source": []
  }
 ],
 "metadata": {
  "kernelspec": {
   "display_name": "Python 3 (ipykernel)",
   "language": "python",
   "name": "python3"
  },
  "language_info": {
   "codemirror_mode": {
    "name": "ipython",
    "version": 3
   },
   "file_extension": ".py",
   "mimetype": "text/x-python",
   "name": "python",
   "nbconvert_exporter": "python",
   "pygments_lexer": "ipython3",
   "version": "3.8.17"
  }
 },
 "nbformat": 4,
 "nbformat_minor": 5
}
