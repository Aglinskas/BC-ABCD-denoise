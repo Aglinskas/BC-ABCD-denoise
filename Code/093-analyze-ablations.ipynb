{
 "cells": [
  {
   "cell_type": "code",
   "execution_count": 44,
   "id": "3268818a-eb7d-4a9e-8974-c8d307683b9e",
   "metadata": {},
   "outputs": [
    {
     "name": "stdout",
     "output_type": "stream",
     "text": [
      "Thu Apr 10 08:07:13 PM EDT 2025\n"
     ]
    }
   ],
   "source": [
    "!date"
   ]
  },
  {
   "cell_type": "code",
   "execution_count": 45,
   "id": "c37bb63e-0a63-42df-ad8a-d8392eb22a5d",
   "metadata": {},
   "outputs": [
    {
     "data": {
      "text/plain": [
       "'/projects/sccn/andromeda1/aglinska/BC-ABCD-denoise/Code'"
      ]
     },
     "execution_count": 45,
     "metadata": {},
     "output_type": "execute_result"
    }
   ],
   "source": [
    "pwd"
   ]
  },
  {
   "cell_type": "code",
   "execution_count": 46,
   "id": "7b82a893-2056-4454-82b5-827d4753de56",
   "metadata": {},
   "outputs": [],
   "source": [
    "import os\n",
    "import numpy as np\n",
    "import pandas as pd\n",
    "import ants\n",
    "from matplotlib import pyplot as plt\n",
    "import pickle\n",
    "from tqdm import tqdm"
   ]
  },
  {
   "cell_type": "code",
   "execution_count": 47,
   "id": "a2097e7d-11ae-4ee7-a59d-b0f51f921305",
   "metadata": {},
   "outputs": [],
   "source": [
    "def load_pickle(fn):\n",
    "    if os.path.exists(fn):\n",
    "        with open(fn, 'rb') as file:\n",
    "            loaded_dict = pickle.load(file)\n",
    "    return loaded_dict"
   ]
  },
  {
   "cell_type": "code",
   "execution_count": 48,
   "id": "ce30ff22-718f-4c04-ad47-88ad8e288465",
   "metadata": {},
   "outputs": [
    {
     "data": {
      "text/plain": [
       "14"
      ]
     },
     "execution_count": 48,
     "metadata": {},
     "output_type": "execute_result"
    }
   ],
   "source": [
    "indir = '../Data/StudyForrest/fmriprep/'\n",
    "subs = [s for s in os.listdir(indir) if all((s.startswith('sub'),not s.endswith('.html')))]\n",
    "n = len(subs)\n",
    "n"
   ]
  },
  {
   "cell_type": "code",
   "execution_count": 49,
   "id": "46528f0c-ce22-4565-b970-199401e6f158",
   "metadata": {},
   "outputs": [
    {
     "data": {
      "text/plain": [
       "['DeepCor-Forrest-ablations-00-baseline',\n",
       " 'DeepCor-Forrest-ablations-01-nosummation',\n",
       " 'DeepCor-Forrest-ablations-02-noAdvRemoval',\n",
       " 'DeepCor-Forrest-ablations-03-noNCC',\n",
       " 'DeepCor-Forrest-ablations-03-noTC',\n",
       " 'DeepCor-Forrest-ablations-04-noCoords']"
      ]
     },
     "execution_count": 49,
     "metadata": {},
     "output_type": "execute_result"
    }
   ],
   "source": [
    "data_dir = '../Data/StudyForrest/ensembles_last_CVAE/'\n",
    "abl = [a for a in os.listdir(data_dir) if 'ablations' in a]\n",
    "abl.sort()\n",
    "abl"
   ]
  },
  {
   "cell_type": "code",
   "execution_count": 50,
   "id": "076e4ee1-5127-42d4-ae1b-9673960e1f65",
   "metadata": {},
   "outputs": [],
   "source": [
    "abl = ['DeepCor-Forrest-ablations-00-baseline',\n",
    " 'DeepCor-Forrest-ablations-01-nosummation',\n",
    " 'DeepCor-Forrest-ablations-02-noAdvRemoval',\n",
    " 'DeepCor-Forrest-ablations-03-noNCC',\n",
    " 'DeepCor-Forrest-ablations-03-noTC',]"
   ]
  },
  {
   "cell_type": "code",
   "execution_count": 51,
   "id": "43cde4c2-194b-40b3-8884-813d47731ce8",
   "metadata": {},
   "outputs": [],
   "source": [
    "def get_sub_data(s,r,analysis_dir,return_type='corr'):\n",
    "    output_files = [os.path.join(analysis_dir,val) for val in os.listdir(analysis_dir) if val.startswith(f'outputs_S{s}_R{r}_')]\n",
    "    vals_ffa = load_pickle(output_files[0])['ffa']\n",
    "    vals_compcor = load_pickle(output_files[0])['ffa_compcorr']\n",
    "    face_reg = load_pickle(output_files[0])['face_reg']\n",
    "    vals_signals = np.array([load_pickle(output_file)['signal'] for output_file in output_files])\n",
    "    vals_signals_med = np.median(vals_signals,0)\n",
    "    #vals_signals_med = np.average(vals_signals,0)\n",
    "\n",
    "    r_ffa = np.array([np.corrcoef(vals_ffa[v,:],face_reg)[0,1] for v in range(vals_ffa.shape[0])]).mean()\n",
    "    r_compcor = np.array([np.corrcoef(vals_compcor[v,:],face_reg)[0,1] for v in range(vals_ffa.shape[0])]).mean()\n",
    "    r_fg = np.array([np.corrcoef(vals_signals_med[v,:],face_reg)[0,1] for v in range(vals_ffa.shape[0])]).mean()\n",
    "    \n",
    "    if return_type=='corr':\n",
    "        return (r_ffa,r_compcor,r_fg)\n",
    "    elif return_type=='vals':\n",
    "        return vals_ffa,vals_compcor,vals_signals_med,vals_signals,face_reg"
   ]
  },
  {
   "cell_type": "code",
   "execution_count": 52,
   "id": "0eae39bc-539c-4e57-a25f-07bc4aa23463",
   "metadata": {},
   "outputs": [],
   "source": [
    "#analysis_dir = os.path.join('../Data/StudyForrest/ensembles_last_CVAE/',analysis_name)"
   ]
  },
  {
   "cell_type": "code",
   "execution_count": 53,
   "id": "e0df411d-4a87-4430-b1f3-b253bb669a88",
   "metadata": {},
   "outputs": [
    {
     "data": {
      "text/plain": [
       "['baseline', 'nosummation', 'noAdvRemoval', 'noNCC', 'noTC']"
      ]
     },
     "execution_count": 53,
     "metadata": {},
     "output_type": "execute_result"
    }
   ],
   "source": [
    "a_names = [val.split('-')[-1] for val in abl]\n",
    "a_names"
   ]
  },
  {
   "cell_type": "code",
   "execution_count": 54,
   "id": "c4bcc6c6-64c6-410a-85e7-12a811099026",
   "metadata": {},
   "outputs": [],
   "source": [
    "s = 0\n",
    "r = 1\n",
    "a = 4\n",
    "c = [get_sub_data(s,r,os.path.join(data_dir,a),return_type='corr') for a in abl]\n",
    "c = np.array(c)"
   ]
  },
  {
   "cell_type": "code",
   "execution_count": 55,
   "id": "942be7b9-6d2c-4cbb-bfbe-031c9e74cbe4",
   "metadata": {},
   "outputs": [],
   "source": [
    "diff = c[:,2]-c[:,1]\n",
    "xs = np.arange(len(diff))"
   ]
  },
  {
   "cell_type": "code",
   "execution_count": 56,
   "id": "75ae2a54-d66a-439c-a91b-a944cf02d0ad",
   "metadata": {},
   "outputs": [
    {
     "data": {
      "text/plain": [
       "<BarContainer object of 5 artists>"
      ]
     },
     "execution_count": 56,
     "metadata": {},
     "output_type": "execute_result"
    },
    {
     "data": {
      "image/png": "[encoded data removed]",
      "text/plain": [
       "<Figure size 432x288 with 1 Axes>"
      ]
     },
     "metadata": {
      "needs_background": "light"
     },
     "output_type": "display_data"
    }
   ],
   "source": [
    "plt.bar(xs,diff-diff[0])"
   ]
  },
  {
   "cell_type": "code",
   "execution_count": null,
   "id": "4eeb4f46-7bd6-48f2-8942-502e26a946a7",
   "metadata": {},
   "outputs": [],
   "source": []
  },
  {
   "cell_type": "code",
   "execution_count": null,
   "id": "f43dbd6c-8c7f-4eb1-a300-16bd7dc3272b",
   "metadata": {},
   "outputs": [],
   "source": []
  },
  {
   "cell_type": "code",
   "execution_count": null,
   "id": "baccafb6-d321-4e5e-b59f-f57414c2b5ce",
   "metadata": {},
   "outputs": [],
   "source": []
  },
  {
   "cell_type": "code",
   "execution_count": null,
   "id": "a48f4b8f-7d1c-49cf-aea1-a99902ea5ad6",
   "metadata": {},
   "outputs": [],
   "source": []
  },
  {
   "cell_type": "code",
   "execution_count": null,
   "id": "093071fe-5df3-48d1-bc25-824a263ab38b",
   "metadata": {},
   "outputs": [],
   "source": []
  },
  {
   "cell_type": "code",
   "execution_count": null,
   "id": "9007815d-12bf-40d1-9a94-825fb168687a",
   "metadata": {},
   "outputs": [],
   "source": []
  },
  {
   "cell_type": "code",
   "execution_count": null,
   "id": "51432ac6-7091-49fd-9a89-c44c8f7459e7",
   "metadata": {},
   "outputs": [],
   "source": []
  },
  {
   "cell_type": "code",
   "execution_count": null,
   "id": "433afc13-fd4f-490b-9052-49085d3b30ed",
   "metadata": {},
   "outputs": [],
   "source": []
  },
  {
   "cell_type": "code",
   "execution_count": null,
   "id": "a0343995-54c5-44fc-b55d-3ea838ed0949",
   "metadata": {},
   "outputs": [],
   "source": []
  }
 ],
 "metadata": {
  "kernelspec": {
   "display_name": "Python 3",
   "language": "python",
   "name": "python3"
  },
  "language_info": {
   "codemirror_mode": {
    "name": "ipython",
    "version": 3
   },
   "file_extension": ".py",
   "mimetype": "text/x-python",
   "name": "python",
   "nbconvert_exporter": "python",
   "pygments_lexer": "ipython3",
   "version": "3.8.8"
  }
 },
 "nbformat": 4,
 "nbformat_minor": 5
}
