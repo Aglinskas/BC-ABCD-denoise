{
 "cells": [
  {
   "cell_type": "code",
   "execution_count": 1,
   "id": "8488fe55-4baa-44d3-85cd-d523770fde1f",
   "metadata": {},
   "outputs": [
    {
     "name": "stdout",
     "output_type": "stream",
     "text": [
      "Mon May 19 04:54:08 PM EDT 2025\n"
     ]
    }
   ],
   "source": [
    "!date"
   ]
  },
  {
   "cell_type": "code",
   "execution_count": 2,
   "id": "e910e242-57cc-4e33-9ff2-07b5eced382c",
   "metadata": {},
   "outputs": [
    {
     "data": {
      "text/plain": [
       "'/projects/sccn/andromeda1/aglinska/BC-ABCD-denoise/Code'"
      ]
     },
     "execution_count": 2,
     "metadata": {},
     "output_type": "execute_result"
    }
   ],
   "source": [
    "pwd"
   ]
  },
  {
   "cell_type": "code",
   "execution_count": 3,
   "id": "fb2ea9cd-21a1-47e3-8011-608e03eeb594",
   "metadata": {},
   "outputs": [],
   "source": [
    "import os\n",
    "import numpy as np\n",
    "import pandas as pd\n",
    "from matplotlib import pyplot as plt\n",
    "import ants\n",
    "import pickle\n",
    "from tqdm import tqdm"
   ]
  },
  {
   "cell_type": "code",
   "execution_count": 4,
   "id": "95742edc-6667-48f6-9eef-008c876ab1c1",
   "metadata": {},
   "outputs": [],
   "source": [
    "def correlate_columns(arr1, arr2):\n",
    "    \"\"\"\n",
    "    Computes the Pearson correlation between corresponding columns of two matrices.\n",
    "    \n",
    "    Parameters:\n",
    "    arr1 (np.ndarray): First matrix of shape (370, 1000)\n",
    "    arr2 (np.ndarray): Second matrix of shape (370, 1000)\n",
    "    \n",
    "    Returns:\n",
    "    np.ndarray: 1D array of correlations for each column (size 1000)\n",
    "    \"\"\"\n",
    "    # Ensure input arrays are numpy arrays\n",
    "    arr1 = np.asarray(arr1)\n",
    "    arr2 = np.asarray(arr2)\n",
    "    \n",
    "    # Subtract the mean of each column (normalize)\n",
    "    arr1_centered = arr1 - np.mean(arr1, axis=0)\n",
    "    arr2_centered = arr2 - np.mean(arr2, axis=0)\n",
    "    \n",
    "    # Compute the numerator (covariance)\n",
    "    numerator = np.sum(arr1_centered * arr2_centered, axis=0)\n",
    "    \n",
    "    # Compute the denominator (product of standard deviations)\n",
    "    denominator = np.sqrt(np.sum(arr1_centered**2, axis=0) * np.sum(arr2_centered**2, axis=0))\n",
    "    \n",
    "    # Compute the Pearson correlation for each column\n",
    "    correlation = numerator / denominator\n",
    "    \n",
    "    return correlation"
   ]
  },
  {
   "cell_type": "code",
   "execution_count": 5,
   "id": "20276c46-f335-4916-81de-835f8d796428",
   "metadata": {},
   "outputs": [],
   "source": [
    "def get_regs(events_fn):\n",
    "    from nilearn.glm.first_level import make_first_level_design_matrix\n",
    "\n",
    "    events = pd.read_csv(events_fn,delimiter='\\t')\n",
    "\n",
    "    t_r = 2.0 \n",
    "    #n_scans = epi.shape[-1]\n",
    "    n_scans = 156\n",
    "    frame_times = (np.arange(n_scans) * t_r)\n",
    "\n",
    "    X1 = make_first_level_design_matrix(frame_times,events,drift_model=\"polynomial\",drift_order=3,hrf_model=\"SPM\") #\n",
    "\n",
    "    face_reg = X1[['face']].values.sum(axis=1)\n",
    "    place_reg = X1[['house','scene']].values.sum(axis=1)\n",
    "    #place_reg = X1[['body', 'house', 'object', 'scene', 'scramble']].values.sum(axis=1)\n",
    "    \n",
    "    return face_reg,place_reg\n",
    "\n",
    "events_fn_temp = '../Data/StudyForrest/events/{sub}_ses-localizer_task-objectcategories_run-{r}_events.tsv'\n",
    "face_reg,place_reg = get_regs(events_fn_temp.format(sub='sub-01',r=1))"
   ]
  },
  {
   "cell_type": "code",
   "execution_count": 6,
   "id": "c6d25584-32a9-4918-aa39-bee3514a7c7e",
   "metadata": {},
   "outputs": [],
   "source": [
    "def get_contrast_val(s,r,Y,return_type='contrast',contype='face'):\n",
    "    from nilearn.glm.first_level import make_first_level_design_matrix\n",
    "    \n",
    "    events = pd.read_csv(events_fn_temp.format(sub=subs[s],r=r),delimiter='\\t')\n",
    "\n",
    "    t_r = 2.0 \n",
    "    n_scans = 156  # the acquisition comprises 128 scans\n",
    "    frame_times = (np.arange(n_scans) * t_r)\n",
    "\n",
    "    X1 = make_first_level_design_matrix(frame_times,events,drift_model=\"polynomial\",drift_order=3,hrf_model=\"SPM\") #\n",
    "    \n",
    "    Y = (Y-Y.mean(axis=1)[:,np.newaxis])/Y.std(axis=1)[:,np.newaxis] # Z score values\n",
    "    Y = Y.transpose()\n",
    "    X = X1.values\n",
    "    beta = np.linalg.inv(X.T @ X1) @ X1.T @ Y\n",
    "    beta = beta.T\n",
    "    beta = beta.values\n",
    "\n",
    "    #['body', 'face', 'house', 'object', 'scene', 'scramble', 'drift_1','drift_2', 'drift_3', 'constant']\n",
    "    \n",
    "    if contype=='face':\n",
    "        contrast_vector = np.array([-1,5,-1,-1,-1,-1,0,0,0,0]) # Faces > Rest\n",
    "        contrast_values = beta @ contrast_vector\n",
    "    elif contype=='place':\n",
    "        contrast_vector = np.array([-1,-1,3,-1,3,-1,0,0,0,0]) # Places over Rest\n",
    "        contrast_values = beta @ contrast_vector\n",
    "    \n",
    "    if return_type=='contrast':\n",
    "        return contrast_values.mean()\n",
    "    elif return_type=='betas':\n",
    "        return beta.mean(axis=0)"
   ]
  },
  {
   "cell_type": "code",
   "execution_count": 7,
   "id": "1123a706-7fa9-4632-991a-4f244be87cc3",
   "metadata": {},
   "outputs": [],
   "source": [
    "ffa_mask_temp = '../Data/StudyForrest/ROIs/rFFA_final_mask_{sub}_bin.nii.gz'\n",
    "ppa_mask_temp = '../Data/StudyForrest/ROIs/rPPA_final_mask_{sub}_bin.nii.gz'"
   ]
  },
  {
   "cell_type": "code",
   "execution_count": 8,
   "id": "f162fd34-6a87-485d-9f6c-310f0d61c577",
   "metadata": {},
   "outputs": [],
   "source": [
    "subs = ['sub-01','sub-02','sub-03','sub-04','sub-05','sub-09','sub-10','sub-14','sub-15','sub-16','sub-17','sub-18','sub-19','sub-20',]"
   ]
  },
  {
   "cell_type": "code",
   "execution_count": 9,
   "id": "6105a985-3e9d-4205-8b51-6e6d7914ecca",
   "metadata": {},
   "outputs": [
    {
     "data": {
      "text/plain": [
       "953"
      ]
     },
     "execution_count": 9,
     "metadata": {},
     "output_type": "execute_result"
    }
   ],
   "source": [
    "faceMap = ants.image_read('../Misc/ffa_map_resampled_forrest.nii.gz')\n",
    "faceMap_mask = faceMap.numpy()>5\n",
    "faceMap_mask.sum()"
   ]
  },
  {
   "cell_type": "code",
   "execution_count": 10,
   "id": "9339f2cc-1f59-471d-9266-e604ee0c26ce",
   "metadata": {},
   "outputs": [],
   "source": [
    "roi = ants.image_read('../Data/StudyForrest/fmriprep/mask_roi.nii')\n",
    "roni = ants.image_read('../Data/StudyForrest/fmriprep/mask_roni.nii')"
   ]
  },
  {
   "cell_type": "code",
   "execution_count": 11,
   "id": "815317f9-85ba-42fc-94a3-d56dbb20dbff",
   "metadata": {},
   "outputs": [],
   "source": [
    "def get_result(fn_temp,subFormat='name'):\n",
    "    result = np.zeros((14,4,6))\n",
    "    for s in tqdm(range(14)):\n",
    "        for r in [1,2,3,4]:\n",
    "            \n",
    "            if subFormat=='number':\n",
    "                subim = ants.image_read(os.path.join(fn_temp.format(s=s,r=r)))\n",
    "            elif subFormat=='name':\n",
    "                subim = ants.image_read(os.path.join(fn_temp.format(sub=subs[s],r=r)))\n",
    "            \n",
    "            subFFA = ants.image_read(os.path.join(ffa_mask_temp.format(sub=subs[s])))\n",
    "            valsFFA = subim.numpy()[subFFA.numpy()==1]\n",
    "            valsFFA = valsFFA[valsFFA.std(axis=1)>1e-3,:]\n",
    "            \n",
    "            subPPA = ants.image_read(os.path.join(ppa_mask_temp.format(sub=subs[s])))\n",
    "            valsPPA = subim.numpy()[subPPA.numpy()==1]\n",
    "            valsPPA = valsPPA[valsPPA.std(axis=1)>1e-3,:]\n",
    "\n",
    "            corr2reg_face = np.nanmean(correlate_columns(valsFFA.transpose(),np.array([face_reg for _ in range(valsFFA.shape[0])]).transpose()))\n",
    "            contrastVal_face = get_contrast_val(s,r,valsFFA,return_type='contrast',contype='face')\n",
    "            \n",
    "            corr2reg_place = np.nanmean(correlate_columns(valsPPA.transpose(),np.array([place_reg for _ in range(valsPPA.shape[0])]).transpose()))\n",
    "            contrastVal_place = get_contrast_val(s,r,valsPPA,return_type='contrast',contype='place')\n",
    "            \n",
    "            arr1=subim.numpy()[(roi.numpy()==1) * (subFFA.numpy()==True)]\n",
    "            arr2=subim.numpy()[(roi.numpy()==1) * (subFFA.numpy()==False)]\n",
    "            arr1=arr1[arr1.std(axis=1)>1e-3]\n",
    "            arr2=arr2[arr2.std(axis=1)>1e-3]\n",
    "            r1=correlate_columns(arr1.transpose(),np.array([face_reg for _ in range(arr1.shape[0])]).transpose())\n",
    "            r2=correlate_columns(arr2.transpose(),np.array([face_reg for _ in range(arr2.shape[0])]).transpose())\n",
    "            specificity_face = r1.mean()-r2.mean()\n",
    "            \n",
    "            arr1=subim.numpy()[(roi.numpy()==1) * (subPPA.numpy()==True)]\n",
    "            arr2=subim.numpy()[(roi.numpy()==1) * (subPPA.numpy()==False)]\n",
    "            arr1=arr1[arr1.std(axis=1)>1e-3]\n",
    "            arr2=arr2[arr2.std(axis=1)>1e-3]\n",
    "            r1=correlate_columns(arr1.transpose(),np.array([place_reg for _ in range(arr1.shape[0])]).transpose())\n",
    "            r2=correlate_columns(arr2.transpose(),np.array([place_reg for _ in range(arr2.shape[0])]).transpose())\n",
    "            specificity_place = r1.mean()-r2.mean()\n",
    "\n",
    "            result[s,r-1,0] = corr2reg_face\n",
    "            result[s,r-1,1] = contrastVal_face\n",
    "            result[s,r-1,2] = corr2reg_place\n",
    "            result[s,r-1,3] = contrastVal_place\n",
    "            result[s,r-1,4] = specificity_face\n",
    "            result[s,r-1,5] = specificity_place\n",
    "            \n",
    "    return result"
   ]
  },
  {
   "cell_type": "code",
   "execution_count": 12,
   "id": "3ce6b4cf-a3e3-4de8-804f-507a64be0e59",
   "metadata": {},
   "outputs": [
    {
     "name": "stderr",
     "output_type": "stream",
     "text": [
      "100%|██████████| 14/14 [01:05<00:00,  4.70s/it]\n"
     ]
    }
   ],
   "source": [
    "fn_temp = '../Data/StudyForrest/ensembles_last_CVAE/fixed-seed-00-YuOrig-00-DataloaderFix/signal_S{s}_R{r}_avg.nii.gz'\n",
    "result_CVAE_Yu = get_result(fn_temp,subFormat='number')"
   ]
  },
  {
   "cell_type": "code",
   "execution_count": 13,
   "id": "bda4c441-10a3-44a6-9d18-a9bb99a3e7c1",
   "metadata": {},
   "outputs": [
    {
     "name": "stderr",
     "output_type": "stream",
     "text": [
      "100%|██████████| 14/14 [01:22<00:00,  5.87s/it]\n"
     ]
    }
   ],
   "source": [
    "fn_temp = '../Data/StudyForrest/fmriprep/{sub}/ses-localizer/func/{sub}_ses-localizer_task-objectcategories_run-{r}_bold_space-MNI152NLin2009cAsym_preproc.nii.gz'\n",
    "result_preproc = get_result(fn_temp,subFormat='name')"
   ]
  },
  {
   "cell_type": "code",
   "execution_count": 14,
   "id": "e0b36349-fde5-4737-9b1a-8f1f4d2c4cb4",
   "metadata": {},
   "outputs": [
    {
     "name": "stderr",
     "output_type": "stream",
     "text": [
      "100%|██████████| 14/14 [01:11<00:00,  5.12s/it]\n"
     ]
    }
   ],
   "source": [
    "fn_temp = '../Data/StudyForrest/fmriprep/{sub}/ses-localizer/func/{sub}_ses-localizer_task-objectcategories_run-{r}_bold_space-MNI152NLin2009cAsym_COMPCOR-RONI.nii'\n",
    "result_compcor = get_result(fn_temp,subFormat='name')"
   ]
  },
  {
   "cell_type": "code",
   "execution_count": 15,
   "id": "28f033af-8fe4-4c81-a72b-f4f29d2ad660",
   "metadata": {},
   "outputs": [
    {
     "name": "stderr",
     "output_type": "stream",
     "text": [
      " 14%|█▍        | 2/14 [00:09<00:57,  4.78s/it]/home/aglinska/anaconda3/lib/python3.8/site-packages/numpy/core/_methods.py:232: RuntimeWarning: overflow encountered in multiply\n",
      "  x = um.multiply(x, x, out=x)\n",
      "/home/aglinska/anaconda3/lib/python3.8/site-packages/numpy/core/_methods.py:243: RuntimeWarning: overflow encountered in reduce\n",
      "  ret = umr_sum(x, axis, dtype, out, keepdims=keepdims, where=where)\n",
      "<ipython-input-4-9f9a06f806b9>:24: RuntimeWarning: overflow encountered in square\n",
      "  denominator = np.sqrt(np.sum(arr1_centered**2, axis=0) * np.sum(arr2_centered**2, axis=0))\n",
      "/home/aglinska/anaconda3/lib/python3.8/site-packages/numpy/core/fromnumeric.py:87: RuntimeWarning: overflow encountered in reduce\n",
      "  return ufunc.reduce(obj, axis, dtype, out, **passkwargs)\n",
      "100%|██████████| 14/14 [01:05<00:00,  4.71s/it]\n"
     ]
    }
   ],
   "source": [
    "fn_temp = '../Data/StudyForrest/ensembles_last_CVAE/DeepCor-Forrest-face-v5/signal_S{s}_R{r}_avg.nii.gz'\n",
    "result_CVAE_AA = get_result(fn_temp,subFormat='number')"
   ]
  },
  {
   "cell_type": "code",
   "execution_count": 16,
   "id": "fa66e938-06d7-429f-a0bb-ba106d300e4e",
   "metadata": {},
   "outputs": [],
   "source": [
    "model_names=['conv_denoise',\n",
    " 'conv_denoise500',\n",
    " 'conv_denoise_bn',\n",
    " 'conv_denoise_large',\n",
    " 'conv_denoise_large500',\n",
    " 'conv_smooth',\n",
    " 'conv_smooth-small',\n",
    " 'conv_weights_unet_denoise',\n",
    " 'conv_weights_unet_denoise500']"
   ]
  },
  {
   "cell_type": "code",
   "execution_count": 22,
   "id": "d8756511-56df-4658-9741-6854ace2f93c",
   "metadata": {},
   "outputs": [
    {
     "name": "stderr",
     "output_type": "stream",
     "text": [
      "100%|██████████| 14/14 [01:12<00:00,  5.18s/it]\n"
     ]
    }
   ],
   "source": [
    "fn_temp = '../Data/StudyForrest/Stefano_adv_outputs/01-signals_averaged/S{s}-R{r}-conv_denoise-avg.nii.gz'\n",
    "result_conv_denoise = get_result(fn_temp,subFormat='number')"
   ]
  },
  {
   "cell_type": "code",
   "execution_count": 23,
   "id": "ec9eb802-0954-44fb-848d-09abde50639f",
   "metadata": {},
   "outputs": [
    {
     "name": "stderr",
     "output_type": "stream",
     "text": [
      "100%|██████████| 14/14 [01:17<00:00,  5.56s/it]\n"
     ]
    }
   ],
   "source": [
    "fn_temp = '../Data/StudyForrest/Stefano_adv_outputs/01-signals_averaged/S{s}-R{r}-conv_denoise500-avg.nii.gz'\n",
    "result_conv_denoise500 = get_result(fn_temp,subFormat='number')"
   ]
  },
  {
   "cell_type": "code",
   "execution_count": 24,
   "id": "85e17b40-87fb-45fc-b8de-f76a2f67d7de",
   "metadata": {},
   "outputs": [
    {
     "name": "stderr",
     "output_type": "stream",
     "text": [
      "100%|██████████| 14/14 [01:21<00:00,  5.84s/it]\n"
     ]
    }
   ],
   "source": [
    "fn_temp = '../Data/StudyForrest/Stefano_adv_outputs/01-signals_averaged/S{s}-R{r}-conv_denoise_bn-avg.nii.gz'\n",
    "result_conv_denoise_bn = get_result(fn_temp,subFormat='number')"
   ]
  },
  {
   "cell_type": "code",
   "execution_count": 25,
   "id": "8336b4b5-60b7-4fc1-9166-2e77cd9db8e9",
   "metadata": {},
   "outputs": [
    {
     "name": "stderr",
     "output_type": "stream",
     "text": [
      "100%|██████████| 14/14 [01:24<00:00,  6.02s/it]\n"
     ]
    }
   ],
   "source": [
    "fn_temp = '../Data/StudyForrest/Stefano_adv_outputs/01-signals_averaged/S{s}-R{r}-conv_smooth-avg.nii.gz'\n",
    "result_conv_smooth = get_result(fn_temp,subFormat='number')"
   ]
  },
  {
   "cell_type": "code",
   "execution_count": 28,
   "id": "2d034836-eb56-4410-9a93-a23a6c7515eb",
   "metadata": {},
   "outputs": [
    {
     "name": "stderr",
     "output_type": "stream",
     "text": [
      "100%|██████████| 14/14 [01:28<00:00,  6.34s/it]\n"
     ]
    }
   ],
   "source": [
    "fn_temp = '../Data/StudyForrest/Stefano_adv_outputs/01-signals_averaged/S{s}-R{r}-conv_denoise_large-avg.nii.gz'\n",
    "result_conv_denoise_large = get_result(fn_temp,subFormat='number')"
   ]
  },
  {
   "cell_type": "code",
   "execution_count": 26,
   "id": "8cd4f3fc-e869-4482-82f2-6c53de046f18",
   "metadata": {},
   "outputs": [
    {
     "name": "stderr",
     "output_type": "stream",
     "text": [
      "100%|██████████| 14/14 [01:13<00:00,  5.25s/it]\n"
     ]
    }
   ],
   "source": [
    "fn_temp = '../Data/StudyForrest/Stefano_adv_outputs/01-signals_averaged/S{s}-R{r}-conv_denoise_large500-avg.nii.gz'\n",
    "result_conv_denoise_large500 = get_result(fn_temp,subFormat='number')"
   ]
  },
  {
   "cell_type": "code",
   "execution_count": null,
   "id": "6ed3dd9a-f53d-4ef9-9e32-63f8a2886c49",
   "metadata": {},
   "outputs": [],
   "source": []
  },
  {
   "cell_type": "code",
   "execution_count": 27,
   "id": "d1db24f6-b4ff-4780-8d8b-6cb9536cbfe3",
   "metadata": {},
   "outputs": [
    {
     "name": "stderr",
     "output_type": "stream",
     "text": [
      "100%|██████████| 14/14 [01:11<00:00,  5.07s/it]\n"
     ]
    }
   ],
   "source": [
    "fn_temp = '../Data/StudyForrest/Stefano_adv_outputs/01-signals_averaged/S{s}-R{r}-conv_weights_unet_denoise-avg.nii.gz'\n",
    "result_conv_weights_unet_denoise = get_result(fn_temp,subFormat='number')"
   ]
  },
  {
   "cell_type": "code",
   "execution_count": null,
   "id": "86778619-7376-4971-9632-67b796636e44",
   "metadata": {},
   "outputs": [],
   "source": []
  },
  {
   "cell_type": "code",
   "execution_count": 19,
   "id": "9899c531-e057-4b33-9b4b-3c477cceb998",
   "metadata": {},
   "outputs": [],
   "source": [
    "names = ['result_preproc',\n",
    "'result_compcor',\n",
    "'result_conv_denoise',\n",
    "'result_CVAE_Yu',\n",
    "'result_CVAE_AA',]"
   ]
  },
  {
   "cell_type": "code",
   "execution_count": null,
   "id": "60fd07c4-3f47-4dca-bdc8-24e390441216",
   "metadata": {},
   "outputs": [],
   "source": [
    "arrs = [result_preproc.mean(axis=0).mean(axis=0),\n",
    "result_compcor.mean(axis=0).mean(axis=0),\n",
    "result_conv_denoise.mean(axis=0).mean(axis=0),\n",
    "result_CVAE_Yu.mean(axis=0).mean(axis=0),\n",
    "result_CVAE_AA.mean(axis=0).mean(axis=0),]"
   ]
  },
  {
   "cell_type": "code",
   "execution_count": 21,
   "id": "46e3e9fa-9195-4e7b-8562-fc64364da46d",
   "metadata": {},
   "outputs": [
    {
     "data": {
      "text/html": [
       "<div>\n",
       "<style scoped>\n",
       "    .dataframe tbody tr th:only-of-type {\n",
       "        vertical-align: middle;\n",
       "    }\n",
       "\n",
       "    .dataframe tbody tr th {\n",
       "        vertical-align: top;\n",
       "    }\n",
       "\n",
       "    .dataframe thead th {\n",
       "        text-align: right;\n",
       "    }\n",
       "</style>\n",
       "<table border=\"1\" class=\"dataframe\">\n",
       "  <thead>\n",
       "    <tr style=\"text-align: right;\">\n",
       "      <th></th>\n",
       "      <th>corr2reg_face</th>\n",
       "      <th>contrastVal_face</th>\n",
       "      <th>corr2reg_place</th>\n",
       "      <th>contrastVal_place</th>\n",
       "      <th>specificity_face</th>\n",
       "      <th>specificity_place</th>\n",
       "      <th>names</th>\n",
       "    </tr>\n",
       "  </thead>\n",
       "  <tbody>\n",
       "    <tr>\n",
       "      <th>0</th>\n",
       "      <td>0.147232</td>\n",
       "      <td>1.866531</td>\n",
       "      <td>0.249454</td>\n",
       "      <td>3.686941</td>\n",
       "      <td>0.151931</td>\n",
       "      <td>0.251526</td>\n",
       "      <td>result_preproc</td>\n",
       "    </tr>\n",
       "    <tr>\n",
       "      <th>1</th>\n",
       "      <td>0.167879</td>\n",
       "      <td>2.060754</td>\n",
       "      <td>0.271078</td>\n",
       "      <td>4.057826</td>\n",
       "      <td>0.166171</td>\n",
       "      <td>0.265403</td>\n",
       "      <td>result_compcor</td>\n",
       "    </tr>\n",
       "    <tr>\n",
       "      <th>2</th>\n",
       "      <td>0.199547</td>\n",
       "      <td>2.715568</td>\n",
       "      <td>0.307565</td>\n",
       "      <td>4.372802</td>\n",
       "      <td>0.190002</td>\n",
       "      <td>0.286192</td>\n",
       "      <td>result_conv_denoise</td>\n",
       "    </tr>\n",
       "    <tr>\n",
       "      <th>3</th>\n",
       "      <td>0.210093</td>\n",
       "      <td>1.982772</td>\n",
       "      <td>0.350785</td>\n",
       "      <td>5.266423</td>\n",
       "      <td>0.188370</td>\n",
       "      <td>0.335175</td>\n",
       "      <td>result_CVAE_Yu</td>\n",
       "    </tr>\n",
       "    <tr>\n",
       "      <th>4</th>\n",
       "      <td>0.245298</td>\n",
       "      <td>2.600636</td>\n",
       "      <td>0.409713</td>\n",
       "      <td>6.169140</td>\n",
       "      <td>0.237673</td>\n",
       "      <td>0.414718</td>\n",
       "      <td>result_CVAE_AA</td>\n",
       "    </tr>\n",
       "  </tbody>\n",
       "</table>\n",
       "</div>"
      ],
      "text/plain": [
       "   corr2reg_face  contrastVal_face  corr2reg_place  contrastVal_place  \\\n",
       "0       0.147232          1.866531        0.249454           3.686941   \n",
       "1       0.167879          2.060754        0.271078           4.057826   \n",
       "2       0.199547          2.715568        0.307565           4.372802   \n",
       "3       0.210093          1.982772        0.350785           5.266423   \n",
       "4       0.245298          2.600636        0.409713           6.169140   \n",
       "\n",
       "   specificity_face  specificity_place                names  \n",
       "0          0.151931           0.251526       result_preproc  \n",
       "1          0.166171           0.265403       result_compcor  \n",
       "2          0.190002           0.286192  result_conv_denoise  \n",
       "3          0.188370           0.335175       result_CVAE_Yu  \n",
       "4          0.237673           0.414718       result_CVAE_AA  "
      ]
     },
     "execution_count": 21,
     "metadata": {},
     "output_type": "execute_result"
    }
   ],
   "source": [
    "df = pd.DataFrame(arrs,columns=['corr2reg_face','contrastVal_face','corr2reg_place','contrastVal_place','specificity_face','specificity_place'])\n",
    "df['names'] = names\n",
    "df"
   ]
  },
  {
   "cell_type": "code",
   "execution_count": 32,
   "id": "1965ad05-1043-4263-a931-538d8a8a34fb",
   "metadata": {},
   "outputs": [
    {
     "data": {
      "text/html": [
       "<div>\n",
       "<style scoped>\n",
       "    .dataframe tbody tr th:only-of-type {\n",
       "        vertical-align: middle;\n",
       "    }\n",
       "\n",
       "    .dataframe tbody tr th {\n",
       "        vertical-align: top;\n",
       "    }\n",
       "\n",
       "    .dataframe thead th {\n",
       "        text-align: right;\n",
       "    }\n",
       "</style>\n",
       "<table border=\"1\" class=\"dataframe\">\n",
       "  <thead>\n",
       "    <tr style=\"text-align: right;\">\n",
       "      <th></th>\n",
       "      <th>corr2reg_face</th>\n",
       "      <th>contrastVal_face</th>\n",
       "      <th>corr2reg_place</th>\n",
       "      <th>contrastVal_place</th>\n",
       "      <th>specificity_face</th>\n",
       "      <th>specificity_place</th>\n",
       "      <th>names</th>\n",
       "    </tr>\n",
       "  </thead>\n",
       "  <tbody>\n",
       "    <tr>\n",
       "      <th>0</th>\n",
       "      <td>0.147232</td>\n",
       "      <td>1.866531</td>\n",
       "      <td>0.249454</td>\n",
       "      <td>3.686941</td>\n",
       "      <td>0.151931</td>\n",
       "      <td>0.251526</td>\n",
       "      <td>preproc</td>\n",
       "    </tr>\n",
       "    <tr>\n",
       "      <th>1</th>\n",
       "      <td>0.167879</td>\n",
       "      <td>2.060754</td>\n",
       "      <td>0.271078</td>\n",
       "      <td>4.057826</td>\n",
       "      <td>0.166171</td>\n",
       "      <td>0.265403</td>\n",
       "      <td>compcor</td>\n",
       "    </tr>\n",
       "    <tr>\n",
       "      <th>2</th>\n",
       "      <td>0.199547</td>\n",
       "      <td>2.715568</td>\n",
       "      <td>0.307565</td>\n",
       "      <td>4.372802</td>\n",
       "      <td>0.190002</td>\n",
       "      <td>0.286192</td>\n",
       "      <td>conv_denoise</td>\n",
       "    </tr>\n",
       "    <tr>\n",
       "      <th>3</th>\n",
       "      <td>0.192869</td>\n",
       "      <td>2.523999</td>\n",
       "      <td>0.290921</td>\n",
       "      <td>4.210294</td>\n",
       "      <td>0.183736</td>\n",
       "      <td>0.270932</td>\n",
       "      <td>conv_denoise_long</td>\n",
       "    </tr>\n",
       "    <tr>\n",
       "      <th>4</th>\n",
       "      <td>0.178558</td>\n",
       "      <td>2.403890</td>\n",
       "      <td>0.233639</td>\n",
       "      <td>3.306160</td>\n",
       "      <td>0.162095</td>\n",
       "      <td>0.217818</td>\n",
       "      <td>conv_denoise_BN</td>\n",
       "    </tr>\n",
       "    <tr>\n",
       "      <th>5</th>\n",
       "      <td>0.167949</td>\n",
       "      <td>2.303065</td>\n",
       "      <td>0.245884</td>\n",
       "      <td>3.631025</td>\n",
       "      <td>0.159885</td>\n",
       "      <td>0.231558</td>\n",
       "      <td>conv_smooth</td>\n",
       "    </tr>\n",
       "    <tr>\n",
       "      <th>6</th>\n",
       "      <td>0.182833</td>\n",
       "      <td>2.576522</td>\n",
       "      <td>0.256966</td>\n",
       "      <td>3.798450</td>\n",
       "      <td>0.169548</td>\n",
       "      <td>0.232360</td>\n",
       "      <td>conv_denoise_large</td>\n",
       "    </tr>\n",
       "    <tr>\n",
       "      <th>7</th>\n",
       "      <td>0.180436</td>\n",
       "      <td>2.399011</td>\n",
       "      <td>0.253868</td>\n",
       "      <td>3.715063</td>\n",
       "      <td>0.166474</td>\n",
       "      <td>0.237937</td>\n",
       "      <td>conv_weights_unet_denoise</td>\n",
       "    </tr>\n",
       "    <tr>\n",
       "      <th>8</th>\n",
       "      <td>0.210093</td>\n",
       "      <td>1.982772</td>\n",
       "      <td>0.350785</td>\n",
       "      <td>5.266423</td>\n",
       "      <td>0.188370</td>\n",
       "      <td>0.335175</td>\n",
       "      <td>CVAE_Yu</td>\n",
       "    </tr>\n",
       "    <tr>\n",
       "      <th>9</th>\n",
       "      <td>0.245298</td>\n",
       "      <td>2.600636</td>\n",
       "      <td>0.409713</td>\n",
       "      <td>6.169140</td>\n",
       "      <td>0.237673</td>\n",
       "      <td>0.414718</td>\n",
       "      <td>CVAE_AA</td>\n",
       "    </tr>\n",
       "  </tbody>\n",
       "</table>\n",
       "</div>"
      ],
      "text/plain": [
       "   corr2reg_face  contrastVal_face  corr2reg_place  contrastVal_place  \\\n",
       "0       0.147232          1.866531        0.249454           3.686941   \n",
       "1       0.167879          2.060754        0.271078           4.057826   \n",
       "2       0.199547          2.715568        0.307565           4.372802   \n",
       "3       0.192869          2.523999        0.290921           4.210294   \n",
       "4       0.178558          2.403890        0.233639           3.306160   \n",
       "5       0.167949          2.303065        0.245884           3.631025   \n",
       "6       0.182833          2.576522        0.256966           3.798450   \n",
       "7       0.180436          2.399011        0.253868           3.715063   \n",
       "8       0.210093          1.982772        0.350785           5.266423   \n",
       "9       0.245298          2.600636        0.409713           6.169140   \n",
       "\n",
       "   specificity_face  specificity_place                      names  \n",
       "0          0.151931           0.251526                    preproc  \n",
       "1          0.166171           0.265403                    compcor  \n",
       "2          0.190002           0.286192               conv_denoise  \n",
       "3          0.183736           0.270932          conv_denoise_long  \n",
       "4          0.162095           0.217818            conv_denoise_BN  \n",
       "5          0.159885           0.231558                conv_smooth  \n",
       "6          0.169548           0.232360         conv_denoise_large  \n",
       "7          0.166474           0.237937  conv_weights_unet_denoise  \n",
       "8          0.188370           0.335175                    CVAE_Yu  \n",
       "9          0.237673           0.414718                    CVAE_AA  "
      ]
     },
     "execution_count": 32,
     "metadata": {},
     "output_type": "execute_result"
    }
   ],
   "source": [
    "arrs = [result_preproc.mean(axis=0).mean(axis=0),\n",
    "result_compcor.mean(axis=0).mean(axis=0),\n",
    "result_conv_denoise.mean(axis=0).mean(axis=0),\n",
    "result_conv_denoise500.mean(axis=0).mean(axis=0),\n",
    "result_conv_denoise_bn.mean(axis=0).mean(axis=0),\n",
    "result_conv_smooth.mean(axis=0).mean(axis=0),\n",
    "result_conv_denoise_large.mean(axis=0).mean(axis=0),\n",
    "result_conv_weights_unet_denoise.mean(axis=0).mean(axis=0),\n",
    "result_CVAE_Yu.mean(axis=0).mean(axis=0),\n",
    "result_CVAE_AA.mean(axis=0).mean(axis=0),]\n",
    "\n",
    "names = ['preproc',\n",
    "'compcor',\n",
    "'conv_denoise',\n",
    "'conv_denoise_long',\n",
    "'conv_denoise_BN',\n",
    "'conv_smooth',\n",
    "'conv_denoise_large',\n",
    "'conv_weights_unet_denoise',\n",
    "'CVAE_Yu',\n",
    "'CVAE_AA']\n",
    "\n",
    "df = pd.DataFrame(arrs,columns=['corr2reg_face','contrastVal_face','corr2reg_place','contrastVal_place','specificity_face','specificity_place'])\n",
    "df['names'] = names\n",
    "df"
   ]
  },
  {
   "cell_type": "code",
   "execution_count": 31,
   "id": "52008d25-0073-4b52-a6e0-c9c44b4002a6",
   "metadata": {},
   "outputs": [],
   "source": [
    "# For GRANT\n",
    "# For 10 subjects.\n",
    "# bar plot preproc,compcor,CVAE_Yu,CVAE_AA,conv_denoise_long: separate bar plots  corr2reg_face  corr2reg_place specificity_face specificity_place\n",
    "#\n",
    "#\n",
    "# "
   ]
  },
  {
   "cell_type": "code",
   "execution_count": null,
   "id": "a5bd8e1c-50b2-4a6d-82a4-df80d7fb8c8a",
   "metadata": {},
   "outputs": [],
   "source": []
  },
  {
   "cell_type": "code",
   "execution_count": null,
   "id": "28a3e797-f2d0-4d7c-8ee3-3c15e5789510",
   "metadata": {},
   "outputs": [],
   "source": []
  },
  {
   "cell_type": "code",
   "execution_count": null,
   "id": "32d56df8-6ae1-4b22-8acd-6ab20fac1024",
   "metadata": {},
   "outputs": [],
   "source": []
  },
  {
   "cell_type": "code",
   "execution_count": null,
   "id": "dada039d-bc81-46cb-a34c-d4808eabda70",
   "metadata": {},
   "outputs": [],
   "source": []
  },
  {
   "cell_type": "code",
   "execution_count": null,
   "id": "c063fefc-0154-4035-8896-16df1f11b569",
   "metadata": {},
   "outputs": [],
   "source": []
  },
  {
   "cell_type": "code",
   "execution_count": null,
   "id": "685e3e44-9bd3-4270-bc71-31562fa58be6",
   "metadata": {},
   "outputs": [],
   "source": []
  },
  {
   "cell_type": "code",
   "execution_count": null,
   "id": "a1b01f97-7870-4085-b8cf-5534f4c9f72b",
   "metadata": {},
   "outputs": [],
   "source": []
  },
  {
   "cell_type": "code",
   "execution_count": null,
   "id": "4bf067a7-c47e-4b23-98bd-64a6a2b854ce",
   "metadata": {},
   "outputs": [],
   "source": [
    "print(result_preproc.mean(axis=0).mean(axis=0)/result_preproc.mean(axis=1).std(axis=0))\n",
    "print(result_compcor.mean(axis=0).mean(axis=0)/result_preproc.mean(axis=1).std(axis=0))\n",
    "print(result_conv_denoise.mean(axis=0).mean(axis=0)/result_preproc.mean(axis=1).std(axis=0))\n",
    "print(result_CVAE_Yu.mean(axis=0).mean(axis=0)/result_preproc.mean(axis=1).std(axis=0))\n",
    "print(result_CVAE_AA.mean(axis=0).mean(axis=0)/result_preproc.mean(axis=1).std(axis=0))"
   ]
  },
  {
   "cell_type": "code",
   "execution_count": null,
   "id": "2c50da41-60b4-4596-a30a-227fd00ca1e5",
   "metadata": {},
   "outputs": [],
   "source": [
    "print(result_preproc.mean(axis=0).mean(axis=0))\n",
    "print(result_compcor.mean(axis=0).mean(axis=0))\n",
    "print(result_conv_denoise.mean(axis=0).mean(axis=0))\n",
    "print(result_CVAE_Yu.mean(axis=0).mean(axis=0))\n",
    "print(result_CVAE_AA.mean(axis=0).mean(axis=0))"
   ]
  },
  {
   "cell_type": "code",
   "execution_count": null,
   "id": "84c6768a-56eb-4505-90e4-d42145cacdbf",
   "metadata": {},
   "outputs": [],
   "source": [
    "# result[s,r-1,0] = corr2reg_face\n",
    "# result[s,r-1,1] = contrastVal_face\n",
    "# result[s,r-1,2] = corr2reg_place\n",
    "# result[s,r-1,3] = contrastVal_place\n",
    "# result[s,r-1,4] = specificity"
   ]
  },
  {
   "cell_type": "code",
   "execution_count": null,
   "id": "54942de5-b320-4e9e-863d-ef37f391df64",
   "metadata": {},
   "outputs": [],
   "source": []
  },
  {
   "cell_type": "code",
   "execution_count": null,
   "id": "5c59664e-98db-4ff1-894f-cc91f5bd77db",
   "metadata": {},
   "outputs": [],
   "source": []
  }
 ],
 "metadata": {
  "kernelspec": {
   "display_name": "Python 3",
   "language": "python",
   "name": "python3"
  },
  "language_info": {
   "codemirror_mode": {
    "name": "ipython",
    "version": 3
   },
   "file_extension": ".py",
   "mimetype": "text/x-python",
   "name": "python",
   "nbconvert_exporter": "python",
   "pygments_lexer": "ipython3",
   "version": "3.8.8"
  }
 },
 "nbformat": 4,
 "nbformat_minor": 5
}
