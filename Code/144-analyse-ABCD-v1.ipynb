{
 "cells": [
  {
   "cell_type": "code",
   "execution_count": 1,
   "id": "9db101cf-1751-40cd-902b-c3c55d370120",
   "metadata": {},
   "outputs": [
    {
     "name": "stdout",
     "output_type": "stream",
     "text": [
      "Tue Jun  3 02:13:13 PM EDT 2025\n"
     ]
    }
   ],
   "source": [
    "!date"
   ]
  },
  {
   "cell_type": "code",
   "execution_count": 2,
   "id": "6280f06d-fd2c-4e02-bce7-e3ac8b87673a",
   "metadata": {},
   "outputs": [
    {
     "data": {
      "text/plain": [
       "'/projects/sccn/andromeda1/aglinska/BC-ABCD-denoise/Code'"
      ]
     },
     "execution_count": 2,
     "metadata": {},
     "output_type": "execute_result"
    }
   ],
   "source": [
    "pwd"
   ]
  },
  {
   "cell_type": "code",
   "execution_count": 51,
   "id": "b1dd1264-3e78-4980-a858-2dd4bdd36c0a",
   "metadata": {},
   "outputs": [],
   "source": [
    "import os\n",
    "import numpy as np\n",
    "from matplotlib import pyplot as plt\n",
    "import seaborn as sns\n",
    "import ants\n",
    "from tqdm import tqdm\n",
    "import warnings"
   ]
  },
  {
   "cell_type": "code",
   "execution_count": 5,
   "id": "a205f336-c304-40b6-925c-95b5513ceca1",
   "metadata": {},
   "outputs": [
    {
     "data": {
      "text/plain": [
       "'../Data/StudyForrest/ensembles_last_CVAE/DeepCor-ABCD-v10'"
      ]
     },
     "execution_count": 5,
     "metadata": {},
     "output_type": "execute_result"
    }
   ],
   "source": [
    "indir='../Data/StudyForrest/ensembles_last_CVAE/'\n",
    "analysis_name = 'DeepCor-ABCD-v10'\n",
    "analysis_dir = os.path.join(indir,analysis_name)\n",
    "analysis_dir"
   ]
  },
  {
   "cell_type": "code",
   "execution_count": 175,
   "id": "28c42eb7-a921-49e7-897c-d3a9c4a9559d",
   "metadata": {},
   "outputs": [],
   "source": [
    "def run_done_check(fn = 'signal_S{s}_R{r}_avg.nii.gz'):\n",
    "    done_check = np.zeros((34,2))\n",
    "    for s in range(34):\n",
    "        for r in [1,2]:\n",
    "            done_check[s,r-1]=os.path.exists(os.path.join(analysis_dir,fn.format(s=s,r=r)))\n",
    "\n",
    "    plt.figure(figsize=(25,5))\n",
    "    sns.heatmap(done_check.transpose(),annot=True,cbar=False,vmin=0,vmax=1)\n",
    "    plt.ylabel('subjects')\n",
    "    plt.xlabel('runs')\n",
    "    plt.title(fn,fontsize=16)\n",
    "    \n",
    "#run_done_check('signal_S{s}_R{r}_avg.nii.gz')\n",
    "#run_done_check('outputs_S{s}_R{r}_rep_1.pickle')"
   ]
  },
  {
   "cell_type": "code",
   "execution_count": 97,
   "id": "7b9df7fe-99bb-489a-8a0b-b14b016718f8",
   "metadata": {},
   "outputs": [],
   "source": [
    "def avg_deriv_runs(fn,s):\n",
    "    ims = [ants.image_read(os.path.join(analysis_dir,fn.format(s=s,r=r))) for r in [1,2]]\n",
    "    ims[0].new_image_like(np.array([im.numpy() for im in ims]).mean(axis=0)).to_filename(os.path.join(analysis_dir,fn.format(s=s,r='avg')))"
   ]
  },
  {
   "cell_type": "code",
   "execution_count": 98,
   "id": "7546fcd5-a91f-4f60-af91-99b14f1abc7a",
   "metadata": {},
   "outputs": [],
   "source": [
    "def avg_deriv_subs(fn):\n",
    "    ims = [ants.image_read(os.path.join(analysis_dir,fn.format(s=s,r='avg'))) for s in range(34)]\n",
    "    arr = np.array([im.numpy() for im in ims])\n",
    "    nans = np.argwhere(np.isnan(arr).sum(-1).sum(-1).sum(-1)!=0)\n",
    "    if len(nans)>0:\n",
    "        string = f'NaNs in {nans}'\n",
    "        warnings.warn(string)\n",
    "    ims[0].new_image_like(arr.mean(axis=0)).to_filename(os.path.join(analysis_dir,fn.format(s='avg',r='avg')))"
   ]
  },
  {
   "cell_type": "code",
   "execution_count": 99,
   "id": "c4528332-15b5-43a2-bb8b-219e88a171fc",
   "metadata": {},
   "outputs": [],
   "source": [
    "fns = ['preproc_contrast_face_S{s}_R{r}.nii.gz',\n",
    "'preproc_contrast_place_S{s}_R{r}.nii.gz',\n",
    "'preproc_corr2face_S{s}_R{r}.nii.gz',\n",
    "'preproc_corr2place_S{s}_R{r}.nii.gz',\n",
    "       \n",
    "'compcor_contrast_face_S{s}_R{r}.nii.gz',\n",
    "'compcor_contrast_place_S{s}_R{r}.nii.gz',\n",
    "'compcor_corr2face_S{s}_R{r}.nii.gz',\n",
    "'compcor_corr2place_S{s}_R{r}.nii.gz',\n",
    "\n",
    "'signal_contrast_face_S{s}_R{r}.nii.gz',\n",
    "'signal_contrast_place_S{s}_R{r}.nii.gz',\n",
    "'signal_corr2face_S{s}_R{r}.nii.gz',\n",
    "'signal_corr2place_S{s}_R{r}.nii.gz',]"
   ]
  },
  {
   "cell_type": "code",
   "execution_count": 100,
   "id": "5e76c286-7a79-4e55-b271-26df5e7143e1",
   "metadata": {},
   "outputs": [
    {
     "name": "stderr",
     "output_type": "stream",
     "text": [
      "100%|██████████| 12/12 [00:18<00:00,  1.58s/it]\n"
     ]
    }
   ],
   "source": [
    "[[avg_deriv_runs(fn,s) for s in range(34)] for fn in tqdm(fns)];"
   ]
  },
  {
   "cell_type": "code",
   "execution_count": 101,
   "id": "a57872ee-afd1-4dc8-abd3-4e2ea83ed68a",
   "metadata": {},
   "outputs": [
    {
     "name": "stderr",
     "output_type": "stream",
     "text": [
      "100%|██████████| 12/12 [00:06<00:00,  1.76it/s]\n"
     ]
    }
   ],
   "source": [
    "[avg_deriv_subs(fn) for fn in tqdm(fns)];"
   ]
  },
  {
   "cell_type": "code",
   "execution_count": 110,
   "id": "a971d32a-85d4-4e30-8263-276c94cc1083",
   "metadata": {},
   "outputs": [],
   "source": [
    "ffa = ants.image_read('../Misc/ffa_mask_resampled.nii')\n",
    "ffa_mask = ffa.numpy()==1\n",
    "\n",
    "ppa = ants.image_read('../Misc/ppa_mask_resampled.nii.gz')\n",
    "ppa_mask = ppa.numpy()==1"
   ]
  },
  {
   "cell_type": "code",
   "execution_count": 130,
   "id": "530e4120-80e6-48b5-9de3-5c49a120d664",
   "metadata": {},
   "outputs": [],
   "source": [
    "results = {}"
   ]
  },
  {
   "cell_type": "code",
   "execution_count": 137,
   "id": "d31e1b86-e01c-4041-a793-890293d7411e",
   "metadata": {},
   "outputs": [],
   "source": [
    "def get_roi_avg_values(fn):\n",
    "    ims = [ants.image_read(os.path.join(analysis_dir,fn.format(s=s,r='avg'))) for s in range(34)]\n",
    "\n",
    "    if 'face' in fn:\n",
    "        mask=ffa_mask\n",
    "    elif 'place' in fn:\n",
    "        mask=ppa_mask\n",
    "    else:\n",
    "        raise Exception('bad\"')\n",
    "\n",
    "    vals = np.array([im.numpy()[ffa_mask].mean() for im in ims])\n",
    "    return vals"
   ]
  },
  {
   "cell_type": "code",
   "execution_count": 140,
   "id": "9b08246e-d582-462c-8011-0220a96c4390",
   "metadata": {},
   "outputs": [],
   "source": [
    "results['preproc_contrast_face'] = get_roi_avg_values('preproc_contrast_face_S{s}_R{r}.nii.gz')\n",
    "results['preproc_contrast_place'] = get_roi_avg_values('preproc_contrast_place_S{s}_R{r}.nii.gz')\n",
    "results['preproc_corr_face'] = get_roi_avg_values('preproc_corr2face_S{s}_R{r}.nii.gz')\n",
    "results['preproc_corr_place'] = get_roi_avg_values('preproc_corr2place_S{s}_R{r}.nii.gz')\n",
    "\n",
    "results['compcor_contrast_face'] = get_roi_avg_values('compcor_contrast_face_S{s}_R{r}.nii.gz')\n",
    "results['compcor_contrast_place'] = get_roi_avg_values('compcor_contrast_place_S{s}_R{r}.nii.gz')\n",
    "results['compcor_corr_face'] = get_roi_avg_values('compcor_corr2face_S{s}_R{r}.nii.gz')\n",
    "results['compcor_corr_place'] = get_roi_avg_values('compcor_corr2place_S{s}_R{r}.nii.gz')\n",
    "\n",
    "results['signal_contrast_face'] = get_roi_avg_values('signal_contrast_face_S{s}_R{r}.nii.gz')\n",
    "results['signal_contrast_place'] = get_roi_avg_values('signal_contrast_place_S{s}_R{r}.nii.gz')\n",
    "results['signal_corr_face'] = get_roi_avg_values('signal_corr2face_S{s}_R{r}.nii.gz')\n",
    "results['signal_corr_place'] = get_roi_avg_values('signal_corr2place_S{s}_R{r}.nii.gz')"
   ]
  },
  {
   "cell_type": "code",
   "execution_count": null,
   "id": "7c124d78-3051-4491-baf9-398128a5161e",
   "metadata": {},
   "outputs": [],
   "source": []
  },
  {
   "cell_type": "code",
   "execution_count": 156,
   "id": "8c252f02-57db-47a2-93f7-829daa3eba6f",
   "metadata": {},
   "outputs": [
    {
     "data": {
      "text/plain": [
       "<BarContainer object of 3 artists>"
      ]
     },
     "execution_count": 156,
     "metadata": {},
     "output_type": "execute_result"
    },
    {
     "data": {
      "image/png": "[encoded data removed]",
      "text/plain": [
       "<Figure size 432x288 with 1 Axes>"
      ]
     },
     "metadata": {
      "needs_background": "light"
     },
     "output_type": "display_data"
    }
   ],
   "source": [
    "ys = [results['preproc_corr_face'].mean(),\n",
    "results['compcor_corr_face'].mean(),\n",
    "results['signal_corr_face'].mean(),]\n",
    "xs = [0,1,2]\n",
    "plt.bar(xs,ys)"
   ]
  },
  {
   "cell_type": "code",
   "execution_count": 155,
   "id": "562638ed-07da-4205-8c96-2a02aaeba6a1",
   "metadata": {},
   "outputs": [
    {
     "data": {
      "text/plain": [
       "<BarContainer object of 3 artists>"
      ]
     },
     "execution_count": 155,
     "metadata": {},
     "output_type": "execute_result"
    },
    {
     "data": {
      "image/png": "[encoded data removed]",
      "text/plain": [
       "<Figure size 432x288 with 1 Axes>"
      ]
     },
     "metadata": {
      "needs_background": "light"
     },
     "output_type": "display_data"
    }
   ],
   "source": [
    "ys = [results['preproc_corr_place'].mean(),\n",
    "results['compcor_corr_place'].mean(),\n",
    "results['signal_corr_place'].mean(),]\n",
    "xs = [0,1,2]\n",
    "plt.bar(xs,ys)"
   ]
  },
  {
   "cell_type": "code",
   "execution_count": null,
   "id": "281dd0d4-1d8b-4aa4-98e3-a7ebf0e88742",
   "metadata": {},
   "outputs": [],
   "source": []
  },
  {
   "cell_type": "code",
   "execution_count": 154,
   "id": "f9847dd6-a6e8-4863-9e61-79108fea5991",
   "metadata": {},
   "outputs": [
    {
     "data": {
      "text/plain": [
       "<BarContainer object of 3 artists>"
      ]
     },
     "execution_count": 154,
     "metadata": {},
     "output_type": "execute_result"
    },
    {
     "data": {
      "image/png": "[encoded data removed]",
      "text/plain": [
       "<Figure size 432x288 with 1 Axes>"
      ]
     },
     "metadata": {
      "needs_background": "light"
     },
     "output_type": "display_data"
    }
   ],
   "source": [
    "ys = [results['preproc_contrast_place'].mean(),\n",
    "results['compcor_contrast_place'].mean(),\n",
    "results['signal_contrast_place'].mean(),]\n",
    "xs = [0,1,2]\n",
    "plt.bar(xs,ys)"
   ]
  },
  {
   "cell_type": "code",
   "execution_count": null,
   "id": "5472739f-445d-4deb-805f-c911b8233312",
   "metadata": {},
   "outputs": [],
   "source": []
  },
  {
   "cell_type": "code",
   "execution_count": 151,
   "id": "768f5e78-128c-44fa-a5ef-93c7c2c4582a",
   "metadata": {},
   "outputs": [
    {
     "data": {
      "text/plain": [
       "<BarContainer object of 3 artists>"
      ]
     },
     "execution_count": 151,
     "metadata": {},
     "output_type": "execute_result"
    },
    {
     "data": {
      "image/png": "[encoded data removed]",
      "text/plain": [
       "<Figure size 432x288 with 1 Axes>"
      ]
     },
     "metadata": {
      "needs_background": "light"
     },
     "output_type": "display_data"
    }
   ],
   "source": [
    "ys = [results['preproc_contrast_face'].mean(),\n",
    "results['compcor_contrast_face'].mean(),\n",
    "results['signal_contrast_face'].mean(),]\n",
    "xs = [0,1,2]\n",
    "\n",
    "plt.bar(xs,ys)"
   ]
  },
  {
   "cell_type": "code",
   "execution_count": 162,
   "id": "087e6851-c12a-4319-9031-a3e8eddd2f77",
   "metadata": {},
   "outputs": [],
   "source": [
    "def pretty_t_test(vec1,vec2,ttl,alternative='two-sided'):\n",
    "    from scipy.stats import ttest_rel\n",
    "    \n",
    "    #t,p = ttest_rel(np.arctanh(vec1),np.arctanh(vec2),alternative=alternative) # Fisher Z transform before t-testing\n",
    "    t,p = ttest_rel(vec1,vec2,alternative=alternative) # Fisher Z transform before t-testing\n",
    "    \n",
    "    degf = len(vec1)-1\n",
    "    diff = vec1.mean()-vec2.mean()\n",
    "\n",
    "    if p < .001:\n",
    "        print(f'{ttl} ΔM={diff:.3f}, t({int(degf)}) = {t:.2f}, p < .001')\n",
    "    else:\n",
    "        print(f'{ttl} ΔM={diff:.3f}, t({int(degf)}) = {t:.2f}, p = {p:.3f}')"
   ]
  },
  {
   "cell_type": "code",
   "execution_count": 164,
   "id": "9aefeb35-5042-4197-ac3c-10debb704637",
   "metadata": {},
   "outputs": [
    {
     "name": "stdout",
     "output_type": "stream",
     "text": [
      "face contrast: signal > preproc ΔM=0.505, t(33) = 2.93, p = 0.006\n",
      "face contrast: signal > compcor ΔM=0.311, t(33) = 1.96, p = 0.059\n"
     ]
    }
   ],
   "source": [
    "pretty_t_test(results['signal_contrast_face'],results['preproc_contrast_face'],ttl='face contrast: signal > preproc')\n",
    "pretty_t_test(results['signal_contrast_face'],results['compcor_contrast_face'],ttl='face contrast: signal > compcor')"
   ]
  },
  {
   "cell_type": "code",
   "execution_count": 209,
   "id": "785e15bc-b357-4a7b-a439-13abf63ef029",
   "metadata": {},
   "outputs": [],
   "source": [
    "def plot_scatter(vec1,vec2,xlabel='',ylabel='',title=''):\n",
    "    plt.scatter(vec1, vec2, color='blue', label='Data points',s=150)\n",
    "    f = 20\n",
    "    plt.xticks(fontsize=f)\n",
    "    plt.yticks(fontsize=f)\n",
    "\n",
    "    # Adding the parity line (where y = x)\n",
    "    # Determine the limits for the line based on the data range:\n",
    "    min_val = min(np.min(vec1), np.min(vec2))\n",
    "    max_val = max(np.max(vec1), np.max(vec2))\n",
    "    plt.plot([min_val, max_val], [min_val, max_val], color='red', linestyle='--', label='Parity line (y=x)')\n",
    "\n",
    "    # Add labels and title\n",
    "    plt.xlabel(xlabel,fontsize=16,fontweight='bold')\n",
    "    plt.ylabel(ylabel,fontsize=16,fontweight='bold')\n",
    "    plt.title(title,fontsize=16,fontweight='bold')\n",
    "    plt.grid(True)\n",
    "    \n",
    "    "
   ]
  },
  {
   "cell_type": "code",
   "execution_count": 167,
   "id": "f0c9dec5-885f-4e8f-8ca3-4bc5672f91b0",
   "metadata": {},
   "outputs": [
    {
     "data": {
      "image/png": "[encoded data removed]",
      "text/plain": [
       "<Figure size 432x288 with 1 Axes>"
      ]
     },
     "metadata": {
      "needs_background": "light"
     },
     "output_type": "display_data"
    }
   ],
   "source": [
    "plot_scatter(results['compcor_contrast_face'],results['signal_contrast_face'])"
   ]
  },
  {
   "cell_type": "code",
   "execution_count": 187,
   "id": "bcc9de04-6a44-4c6d-91d9-5ad48ec9adea",
   "metadata": {},
   "outputs": [],
   "source": [
    "def compute_framewise_displacement(motion_params, radius=50.0):\n",
    "    \"\"\"\n",
    "    Compute framewise displacement (FD) from 6 motion parameters.\n",
    "\n",
    "    Parameters\n",
    "    ----------\n",
    "    motion_params : np.ndarray, shape (6, T)\n",
    "        Motion parameters where the first 3 rows are translations (in mm)\n",
    "        and the last 3 rows are rotations (in degrees). T is the number of timepoints.\n",
    "    radius : float, optional\n",
    "        Radius (in mm) to convert rotational displacements (degrees → mm) via arc length.\n",
    "        Default is 50 mm (commonly used approximation for head radius).\n",
    "\n",
    "    Returns\n",
    "    -------\n",
    "    fd : np.ndarray, shape (T,)\n",
    "        Framewise displacement at each timepoint. FD[0] is set to 0.\n",
    "    \"\"\"\n",
    "    # Check shape: expect 6 rows\n",
    "    if motion_params.ndim != 2 or motion_params.shape[0] != 6:\n",
    "        raise ValueError(\"motion_params must have shape (6, T)\")\n",
    "\n",
    "    # Number of timepoints\n",
    "    T = motion_params.shape[1]\n",
    "\n",
    "    # Compute temporal differences (t → t-1) for each parameter\n",
    "    diff = np.diff(motion_params, axis=1)  # shape = (6, T-1)\n",
    "\n",
    "    # Separate translation diffs (rows 0,1,2) and rotation diffs (rows 3,4,5)\n",
    "    trans_diff = np.abs(diff[0:3, :])             # shape (3, T-1), in mm\n",
    "    rot_diff_deg = np.abs(diff[3:6, :])           # shape (3, T-1), in degrees\n",
    "\n",
    "    # Convert rotation differences from degrees to mm: arc_length = radius * (angle_rad)\n",
    "    # angle_rad = angle_deg * (π/180)\n",
    "    rot_diff_mm = rot_diff_deg * (np.pi / 180.0) * radius  # shape (3, T-1)\n",
    "\n",
    "    # Sum absolute diffs for each timepoint (t=2..T)\n",
    "    # FD(t) = sum_{i=1..3} |Δtranslation_i| + sum_{j=1..3} |Δrotation_j (in mm)|\n",
    "    fd_vals = np.sum(trans_diff, axis=0) + np.sum(rot_diff_mm, axis=0)  # shape (T-1,)\n",
    "\n",
    "    # Prepend FD[0] = 0 to match original time axis\n",
    "    fd = np.zeros(T, dtype=float)\n",
    "    fd[1:] = fd_vals\n",
    "\n",
    "    return fd"
   ]
  },
  {
   "cell_type": "code",
   "execution_count": 179,
   "id": "365eb3a7-5120-471d-9614-3520636a5d98",
   "metadata": {},
   "outputs": [],
   "source": [
    "def load_pickle(fn):\n",
    "    import pickle\n",
    "    if os.path.exists(fn):\n",
    "        with open(fn, 'rb') as file:\n",
    "            loaded_dict = pickle.load(file)\n",
    "    return loaded_dict"
   ]
  },
  {
   "cell_type": "code",
   "execution_count": 192,
   "id": "8cfa0d39-c785-4285-8dd5-c410c0a97225",
   "metadata": {},
   "outputs": [],
   "source": [
    "def get_FD(s,r):\n",
    "    fn = os.path.join(analysis_dir,'outputs_S{s}_R{r}_rep_0.pickle'.format(s=s,r=r))\n",
    "    if not os.path.exists(fn):\n",
    "        fn = os.path.join(analysis_dir,'outputs_S{s}_R{r}_rep_1.pickle'.format(s=s,r=r))\n",
    "    out = load_pickle(fn)\n",
    "    fd = compute_framewise_displacement(out['confounds'])\n",
    "    return fd"
   ]
  },
  {
   "cell_type": "code",
   "execution_count": 198,
   "id": "c5bf4524-7369-49fc-a913-f122b1096d4e",
   "metadata": {},
   "outputs": [],
   "source": [
    "FDs = np.array([[get_FD(s,r).mean() for s in range(34)] for r in [1,2]])"
   ]
  },
  {
   "cell_type": "code",
   "execution_count": 219,
   "id": "5bb4a593-c0ca-45f6-ae9a-6d3ff9b40e56",
   "metadata": {},
   "outputs": [
    {
     "data": {
      "text/plain": [
       "array([[1.        , 0.52990989],\n",
       "       [0.52990989, 1.        ]])"
      ]
     },
     "execution_count": 219,
     "metadata": {},
     "output_type": "execute_result"
    }
   ],
   "source": [
    "np.corrcoef(diff,mot)"
   ]
  },
  {
   "cell_type": "code",
   "execution_count": 216,
   "id": "920e3a2d-e500-4022-91f6-eb3ccf596618",
   "metadata": {},
   "outputs": [],
   "source": [
    "diff = results['signal_contrast_face']-results['preproc_contrast_face']\n",
    "mot = FDs.mean(axis=0)"
   ]
  },
  {
   "cell_type": "code",
   "execution_count": 217,
   "id": "fc9fc888-2543-47b5-8cd7-4d22dd88c1b6",
   "metadata": {},
   "outputs": [],
   "source": [
    "I = np.argsort(mot)"
   ]
  },
  {
   "cell_type": "code",
   "execution_count": 218,
   "id": "48788fc1-e917-4823-9bbb-13dc4b9b683d",
   "metadata": {},
   "outputs": [
    {
     "data": {
      "text/plain": [
       "[<matplotlib.lines.Line2D at 0x14c710467640>]"
      ]
     },
     "execution_count": 218,
     "metadata": {},
     "output_type": "execute_result"
    },
    {
     "data": {
      "image/png": "[encoded data removed]",
      "text/plain": [
       "<Figure size 432x288 with 1 Axes>"
      ]
     },
     "metadata": {
      "needs_background": "light"
     },
     "output_type": "display_data"
    }
   ],
   "source": [
    "plt.plot(mot[I])\n",
    "plt.plot(diff[I])"
   ]
  },
  {
   "cell_type": "code",
   "execution_count": null,
   "id": "a746becc-1d97-4495-8905-1d1ffdbd694b",
   "metadata": {},
   "outputs": [],
   "source": []
  }
 ],
 "metadata": {
  "kernelspec": {
   "display_name": "Python 3",
   "language": "python",
   "name": "python3"
  },
  "language_info": {
   "codemirror_mode": {
    "name": "ipython",
    "version": 3
   },
   "file_extension": ".py",
   "mimetype": "text/x-python",
   "name": "python",
   "nbconvert_exporter": "python",
   "pygments_lexer": "ipython3",
   "version": "3.8.8"
  }
 },
 "nbformat": 4,
 "nbformat_minor": 5
}
