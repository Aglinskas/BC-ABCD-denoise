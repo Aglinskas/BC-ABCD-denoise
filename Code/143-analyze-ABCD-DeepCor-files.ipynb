{
 "cells": [
  {
   "cell_type": "code",
   "execution_count": 1,
   "id": "9064bb3a-d238-4983-b603-588732e62657",
   "metadata": {},
   "outputs": [
    {
     "name": "stdout",
     "output_type": "stream",
     "text": [
      "Thu May 22 02:21:06 PM EDT 2025\n"
     ]
    }
   ],
   "source": [
    "!date"
   ]
  },
  {
   "cell_type": "code",
   "execution_count": 2,
   "id": "05a4a4b2-227d-4999-a537-ead06e2ec6dc",
   "metadata": {},
   "outputs": [
    {
     "data": {
      "text/plain": [
       "'/projects/sccn/andromeda1/aglinska/BC-ABCD-denoise/Code'"
      ]
     },
     "execution_count": 2,
     "metadata": {},
     "output_type": "execute_result"
    }
   ],
   "source": [
    "pwd"
   ]
  },
  {
   "cell_type": "code",
   "execution_count": 3,
   "id": "02f5de93-5ee7-4224-af8f-e63277f64300",
   "metadata": {},
   "outputs": [],
   "source": [
    "import os\n",
    "import numpy as np\n",
    "import pandas as pd\n",
    "from matplotlib import pyplot as plt\n",
    "import ants\n",
    "import pickle\n",
    "from tqdm import tqdm\n",
    "import seaborn as sns"
   ]
  },
  {
   "cell_type": "code",
   "execution_count": 4,
   "id": "b7b6fa3c-e26a-4af7-8ab7-f6b9455e5c3c",
   "metadata": {},
   "outputs": [],
   "source": [
    "def correlate_columns(arr1, arr2):\n",
    "    \"\"\"\n",
    "    Computes the Pearson correlation between corresponding columns of two matrices.\n",
    "    \n",
    "    Parameters:\n",
    "    arr1 (np.ndarray): First matrix of shape (370, 1000)\n",
    "    arr2 (np.ndarray): Second matrix of shape (370, 1000)\n",
    "    \n",
    "    Returns:\n",
    "    np.ndarray: 1D array of correlations for each column (size 1000)\n",
    "    \"\"\"\n",
    "    # Ensure input arrays are numpy arrays\n",
    "    arr1 = np.asarray(arr1)\n",
    "    arr2 = np.asarray(arr2)\n",
    "    \n",
    "    # Subtract the mean of each column (normalize)\n",
    "    arr1_centered = arr1 - np.mean(arr1, axis=0)\n",
    "    arr2_centered = arr2 - np.mean(arr2, axis=0)\n",
    "    \n",
    "    # Compute the numerator (covariance)\n",
    "    numerator = np.sum(arr1_centered * arr2_centered, axis=0)\n",
    "    \n",
    "    # Compute the denominator (product of standard deviations)\n",
    "    denominator = np.sqrt(np.sum(arr1_centered**2, axis=0) * np.sum(arr2_centered**2, axis=0))\n",
    "    \n",
    "    # Compute the Pearson correlation for each column\n",
    "    correlation = numerator / denominator\n",
    "    \n",
    "    return correlation"
   ]
  },
  {
   "cell_type": "code",
   "execution_count": 5,
   "id": "86776cad-1995-48ae-ab8c-d7d7d38e1e0b",
   "metadata": {},
   "outputs": [],
   "source": [
    "def load_pickle(fn):\n",
    "    if os.path.exists(fn):\n",
    "        with open(fn, 'rb') as file:\n",
    "            loaded_dict = pickle.load(file)\n",
    "    return loaded_dict"
   ]
  },
  {
   "cell_type": "code",
   "execution_count": 91,
   "id": "49e3d0bf-61a6-4834-ad7a-84df8c40b5c8",
   "metadata": {},
   "outputs": [],
   "source": [
    "def get_contrast_val(Y,return_type='contrast'):\n",
    "    from nilearn.glm.first_level import make_first_level_design_matrix\n",
    "    events_fn = '../Data/011-ABCD-events/{sub}_ses-baselineYear1Arm1_task-nback_run-0{r}_events.tsv'\n",
    "    events = pd.read_csv(events_fn.format(sub=subs[s],r=r),delimiter='\\t')\n",
    "\n",
    "    t_r = 0.8\n",
    "    #n_scans = 370  # the acquisition comprises 128 scans\n",
    "    n_scans = Y.shape[1]\n",
    "    frame_times = (np.arange(n_scans) * t_r)\n",
    "\n",
    "    X1 = make_first_level_design_matrix(frame_times,events,drift_model=\"polynomial\",drift_order=3,hrf_model=\"SPM\") #\n",
    "\n",
    "    Y = (Y-Y.mean(axis=1)[:,np.newaxis])/Y.std(axis=1)[:,np.newaxis] # Z score values\n",
    "    Y = Y.transpose()\n",
    "    X = X1.values\n",
    "    beta = np.linalg.inv(X.T @ X1) @ X1.T @ Y\n",
    "    beta = beta.T\n",
    "    beta = beta.values\n",
    "\n",
    "    contrast_vector = np.array([1,1,-3,1,1,1,-3,1,0,0,0,0,0,0]) # Faces > Place\n",
    "    contrast_values = beta @ contrast_vector\n",
    "\n",
    "    if return_type=='contrast':\n",
    "        return contrast_values.mean()\n",
    "    elif return_type=='betas':\n",
    "        return beta.mean(axis=0)"
   ]
  },
  {
   "cell_type": "code",
   "execution_count": 7,
   "id": "12bc072d-0e50-4190-bc4c-2db185babd31",
   "metadata": {},
   "outputs": [
    {
     "name": "stdout",
     "output_type": "stream",
     "text": [
      "34\n"
     ]
    }
   ],
   "source": [
    "indir = '../Data/020-fmriprepped'\n",
    "subs = [s for s in os.listdir(indir) if all((s.startswith('sub'),not s.endswith('.html')))]\n",
    "subs.sort()\n",
    "print(len(subs))"
   ]
  },
  {
   "cell_type": "code",
   "execution_count": 8,
   "id": "83c8b646-9270-4f55-98fc-2492f8a93a6e",
   "metadata": {},
   "outputs": [],
   "source": [
    "#epi_fn = os.path.join(indir,sub,'ses-baselineYear1Arm1','func',f'{sub}_ses-baselineYear1Arm1_task-nback_run-0{r}_space-MNI152NLin2009cAsym_res-2_desc-preproc_bold.nii.gz')\n",
    "# conf_fn = os.path.join(indir,sub,'ses-baselineYear1Arm1','func',f'{sub}_ses-baselineYear1Arm1_task-nback_run-0{r}_desc-confounds_timeseries.tsv')\n",
    "# events_fn = os.path.join(f'../Data/011-ABCD-events/{sub}_ses-baselineYear1Arm1_task-nback_run-0{r}_events.tsv')\n",
    "# ffa_im = ants.image_read('../Misc/ffa_mask_resampled.nii')"
   ]
  },
  {
   "cell_type": "code",
   "execution_count": 9,
   "id": "3421a792-6f26-4c46-abd7-825f95d2c7c3",
   "metadata": {},
   "outputs": [
    {
     "data": {
      "text/plain": [
       "<AxesSubplot:>"
      ]
     },
     "execution_count": 9,
     "metadata": {},
     "output_type": "execute_result"
    },
    {
     "data": {
      "image/png": "[encoded data removed]",
      "text/plain": [
       "<Figure size 1080x360 with 1 Axes>"
      ]
     },
     "metadata": {
      "needs_background": "light"
     },
     "output_type": "display_data"
    }
   ],
   "source": [
    "output_fn_temp = '../Data/StudyForrest/ensembles_last_CVAE/DeepCor-ABCD-v5/outputs_S{s}_R{r}_rep_{rep}.pickle'\n",
    "done_check = np.zeros((14,2,20))\n",
    "for s in range(14):\n",
    "    for r in [1,2]:\n",
    "        for rep in range(20):\n",
    "            done_check[s,r-1,rep] = os.path.exists(output_fn_temp.format(s=s,r=r,rep=rep))\n",
    "plt.figure(figsize=(15,5))\n",
    "sns.heatmap(done_check.sum(axis=-1).transpose(),annot=True,vmin=0,vmax=20,cbar=False)"
   ]
  },
  {
   "cell_type": "code",
   "execution_count": 42,
   "id": "628055f7-9421-4c9b-8aed-812cbe3d7b9c",
   "metadata": {},
   "outputs": [],
   "source": [
    "def get_data(s,r):\n",
    "    sub_pickles = [load_pickle(output_fn_temp.format(s=s,r=r,rep=rep)) for rep in range(20) if os.path.exists(output_fn_temp.format(s=s,r=r,rep=rep))]\n",
    "\n",
    "    sub_signals = np.array([val['signal'] for val in sub_pickles])\n",
    "    #sub_signal_avg = np.average(sub_signals,axis=0)\n",
    "    has_nans = np.isnan(sub_signals).sum(axis=-1).sum(axis=-1)!=0\n",
    "    has_nans+=sub_signals.max(axis=-1).max(axis=-1)>1e3\n",
    "    has_nans+=sub_signals.max(axis=-1).max(axis=-1)<1e-3\n",
    "    sub_signal_avg = np.average(sub_signals[~has_nans,:,:],axis=0)\n",
    "    sub_ffa = sub_pickles[0]['ffa']\n",
    "    sub_compcor = sub_pickles[0]['ffa_compcorr']\n",
    "    sub_face_reg = sub_pickles[0]['face_reg'] \n",
    "    sub_place_reg = sub_pickles[0]['place_reg'] \n",
    "    sub_conf = sub_pickles[0]['confounds']\n",
    "\n",
    "    v_idx = sub_signal_avg.std(axis=-1)>1e-3\n",
    "    n_vox = sum(v_idx)\n",
    "\n",
    "    r_signal = correlate_columns(sub_signal_avg[v_idx,:].transpose(),np.array([sub_face_reg for _ in range(n_vox)]).transpose()).mean()\n",
    "    r_ffa = correlate_columns(sub_ffa[v_idx,:].transpose(),np.array([sub_face_reg for _ in range(n_vox)]).transpose()).mean()\n",
    "    r_compcor = correlate_columns(sub_compcor[v_idx,:].transpose(),np.array([sub_face_reg for _ in range(n_vox)]).transpose()).mean()\n",
    "\n",
    "    con_signal = get_contrast_val(sub_signal_avg[v_idx,:],return_type='contrast')\n",
    "    con_ffa = get_contrast_val(sub_ffa[v_idx,:],return_type='contrast')\n",
    "    con_compcor = get_contrast_val(sub_compcor[v_idx,:],return_type='contrast')\n",
    "    \n",
    "    return [r_ffa,r_compcor,r_signal,con_ffa,con_compcor,con_signal]"
   ]
  },
  {
   "cell_type": "code",
   "execution_count": 41,
   "id": "055f4e0f-e16b-4542-8828-c95dd8525fc8",
   "metadata": {},
   "outputs": [],
   "source": [
    "s = 7\n",
    "r = 1\n",
    "\n",
    "sub_pickles = [load_pickle(output_fn_temp.format(s=s,r=r,rep=rep)) for rep in range(20) if os.path.exists(output_fn_temp.format(s=s,r=r,rep=rep))]\n",
    "\n",
    "sub_signals = np.array([val['signal'] for val in sub_pickles])\n",
    "#sub_signal_avg = np.average(sub_signals,axis=0)\n",
    "has_nans = np.isnan(sub_signals).sum(axis=-1).sum(axis=-1)!=0\n",
    "has_nans+=sub_signals.max(axis=-1).max(axis=-1)>1e3\n",
    "sub_signal_avg = np.average(sub_signals[~has_nans,:,:],axis=0)\n",
    "sub_ffa = sub_pickles[0]['ffa']\n",
    "sub_compcor = sub_pickles[0]['ffa_compcorr']\n",
    "sub_face_reg = sub_pickles[0]['face_reg'] \n",
    "sub_place_reg = sub_pickles[0]['place_reg'] \n",
    "sub_conf = sub_pickles[0]['confounds']\n",
    "\n",
    "v_idx = sub_signal_avg.std(axis=-1)>1e-3\n",
    "n_vox = sum(v_idx)\n",
    "\n",
    "r_signal = correlate_columns(sub_signal_avg[v_idx,:].transpose(),np.array([sub_face_reg for _ in range(n_vox)]).transpose()).mean()\n",
    "r_ffa = correlate_columns(sub_ffa[v_idx,:].transpose(),np.array([sub_face_reg for _ in range(n_vox)]).transpose()).mean()\n",
    "r_compcor = correlate_columns(sub_compcor[v_idx,:].transpose(),np.array([sub_face_reg for _ in range(n_vox)]).transpose()).mean()\n",
    "\n",
    "con_signal = get_contrast_val(sub_signal_avg[v_idx,:],return_type='contrast')\n",
    "con_ffa = get_contrast_val(sub_ffa[v_idx,:],return_type='contrast')\n",
    "con_compcor = get_contrast_val(sub_compcor[v_idx,:],return_type='contrast')"
   ]
  },
  {
   "cell_type": "code",
   "execution_count": 43,
   "id": "7f348354-d73c-4d98-a5db-b4c8ab4719dd",
   "metadata": {},
   "outputs": [
    {
     "name": "stderr",
     "output_type": "stream",
     "text": [
      "\n",
      "  0%|          | 0/34 [00:00<?, ?it/s]\u001b[A\n",
      "  3%|▎         | 1/34 [00:00<00:28,  1.16it/s]\u001b[A\n",
      "  6%|▌         | 2/34 [00:01<00:24,  1.30it/s]\u001b[A\n",
      "  9%|▉         | 3/34 [00:02<00:22,  1.39it/s]\u001b[A\n",
      " 12%|█▏        | 4/34 [00:03<00:24,  1.25it/s]\u001b[A\n",
      " 15%|█▍        | 5/34 [00:03<00:22,  1.30it/s]\u001b[A\n",
      " 18%|█▊        | 6/34 [00:04<00:21,  1.33it/s]\u001b[A\n",
      " 21%|██        | 7/34 [00:05<00:20,  1.34it/s]\u001b[A\n",
      " 24%|██▎       | 8/34 [00:06<00:19,  1.33it/s]\u001b[A\n",
      " 26%|██▋       | 9/34 [00:06<00:19,  1.27it/s]\u001b[A\n",
      " 29%|██▉       | 10/34 [00:07<00:18,  1.29it/s]\u001b[A\n",
      " 32%|███▏      | 11/34 [00:08<00:17,  1.30it/s]\u001b[A\n",
      " 35%|███▌      | 12/34 [00:09<00:16,  1.33it/s]\u001b[A\n",
      " 38%|███▊      | 13/34 [00:09<00:16,  1.30it/s]\u001b[A\n",
      " 41%|████      | 14/34 [00:10<00:16,  1.21it/s]\u001b[A\n",
      " 44%|████▍     | 15/34 [00:11<00:15,  1.26it/s]\u001b[A\n",
      " 47%|████▋     | 16/34 [00:12<00:13,  1.34it/s]\u001b[A\n",
      " 50%|█████     | 17/34 [00:12<00:12,  1.37it/s]\u001b[A\n",
      " 53%|█████▎    | 18/34 [00:13<00:11,  1.35it/s]\u001b[A\n",
      " 56%|█████▌    | 19/34 [00:14<00:11,  1.33it/s]\u001b[A\n",
      " 59%|█████▉    | 20/34 [00:15<00:10,  1.39it/s]\u001b[A\n",
      " 62%|██████▏   | 21/34 [00:15<00:09,  1.35it/s]\u001b[A\n",
      " 65%|██████▍   | 22/34 [00:16<00:08,  1.33it/s]\u001b[A\n",
      " 68%|██████▊   | 23/34 [00:17<00:08,  1.25it/s]\u001b[A\n",
      " 71%|███████   | 24/34 [00:18<00:07,  1.30it/s]\u001b[A\n",
      " 74%|███████▎  | 25/34 [00:19<00:06,  1.32it/s]\u001b[A\n",
      " 76%|███████▋  | 26/34 [00:19<00:05,  1.35it/s]\u001b[A\n",
      " 79%|███████▉  | 27/34 [00:20<00:05,  1.34it/s]\u001b[A\n",
      " 82%|████████▏ | 28/34 [00:21<00:04,  1.37it/s]\u001b[A\n",
      " 85%|████████▌ | 29/34 [00:21<00:03,  1.35it/s]\u001b[A\n",
      " 88%|████████▊ | 30/34 [00:22<00:03,  1.31it/s]\u001b[A\n",
      " 91%|█████████ | 31/34 [00:23<00:02,  1.32it/s]\u001b[A\n",
      " 94%|█████████▍| 32/34 [00:24<00:01,  1.28it/s]\u001b[A\n",
      " 97%|█████████▋| 33/34 [00:25<00:00,  1.18it/s]\u001b[A\n",
      "100%|██████████| 34/34 [00:26<00:00,  1.31it/s]\u001b[A\n"
     ]
    }
   ],
   "source": [
    "results = [[get_data(s,r) for r in [1,2]] for s in tqdm(range(len(subs)))]\n",
    "results = np.array(results)"
   ]
  },
  {
   "cell_type": "code",
   "execution_count": 67,
   "id": "4987d54f-54a4-480c-bcf5-9c1ced2a1946",
   "metadata": {},
   "outputs": [],
   "source": [
    "results_avg = results.mean(axis=0).mean(axis=0)"
   ]
  },
  {
   "cell_type": "code",
   "execution_count": 68,
   "id": "ef27c9b4-c242-4a0d-8711-209539772880",
   "metadata": {},
   "outputs": [
    {
     "data": {
      "text/plain": [
       "array([0.09569928, 0.09393417, 0.13727317, 0.01406661, 0.13304559,\n",
       "       0.06707546])"
      ]
     },
     "execution_count": 68,
     "metadata": {},
     "output_type": "execute_result"
    }
   ],
   "source": [
    "results_avg"
   ]
  },
  {
   "cell_type": "code",
   "execution_count": 92,
   "id": "fc033da4-762b-4f57-853d-1dfead6f9d9c",
   "metadata": {},
   "outputs": [
    {
     "data": {
      "text/plain": [
       "Text(0, 0.5, 'Correlation (r)')"
      ]
     },
     "execution_count": 92,
     "metadata": {},
     "output_type": "execute_result"
    },
    {
     "data": {
      "image/png": "[encoded data removed]",
      "text/plain": [
       "<Figure size 360x360 with 1 Axes>"
      ]
     },
     "metadata": {
      "needs_background": "light"
     },
     "output_type": "display_data"
    }
   ],
   "source": [
    "plt.figure(figsize=(5,5))\n",
    "xs = [0,1,2]\n",
    "plt.bar(xs,results_avg[0:3])\n",
    "plt.xticks(xs,labels=['Preproc','COMPCOR','DeepCor'],fontsize=16)\n",
    "plt.yticks(fontsize=16)\n",
    "plt.title('ABCD: corr2reg_face',fontsize=16)\n",
    "plt.ylabel('Correlation (r)')"
   ]
  },
  {
   "cell_type": "code",
   "execution_count": 93,
   "id": "7dc3fffe-d623-4205-bded-015732a04fc1",
   "metadata": {},
   "outputs": [
    {
     "data": {
      "text/plain": [
       "array([0.01406661, 0.13304559, 0.06707546])"
      ]
     },
     "execution_count": 93,
     "metadata": {},
     "output_type": "execute_result"
    }
   ],
   "source": [
    "results_avg[3::]"
   ]
  },
  {
   "cell_type": "code",
   "execution_count": 94,
   "id": "c93a5057-1b08-4490-8c02-f43cbfa57f5b",
   "metadata": {},
   "outputs": [
    {
     "data": {
      "text/plain": [
       "Text(0.5, 1.0, 'corr2reg_face')"
      ]
     },
     "execution_count": 94,
     "metadata": {},
     "output_type": "execute_result"
    },
    {
     "data": {
      "image/png": "[encoded data removed]",
      "text/plain": [
       "<Figure size 360x360 with 1 Axes>"
      ]
     },
     "metadata": {
      "needs_background": "light"
     },
     "output_type": "display_data"
    }
   ],
   "source": [
    "plt.figure(figsize=(5,5))\n",
    "xs = [0,1,2]\n",
    "plt.bar(xs,results_avg[3::])\n",
    "plt.xticks(xs,labels=['Preproc','COMPCOR','DeepCor'],fontsize=16)\n",
    "plt.yticks(fontsize=16)\n",
    "plt.title('corr2reg_face',fontsize=16)"
   ]
  },
  {
   "cell_type": "code",
   "execution_count": 83,
   "id": "380b5396-e0cb-4027-be65-2886a180b85e",
   "metadata": {},
   "outputs": [],
   "source": [
    "def plot_scatter(vec1,vec2,xlabel='',ylabel='',title=''):\n",
    "    plt.scatter(vec1, vec2, color='blue', label='Data points',s=150)\n",
    "    f = 20\n",
    "    plt.xticks(fontsize=f)\n",
    "    plt.yticks(fontsize=f)\n",
    "\n",
    "    # Adding the parity line (where y = x)\n",
    "    # Determine the limits for the line based on the data range:\n",
    "    min_val = min(np.min(vec1), np.min(vec2))\n",
    "    max_val = max(np.max(vec1), np.max(vec2))\n",
    "    plt.plot([min_val, max_val], [min_val, max_val], color='red', linestyle='--', label='Parity line (y=x)')\n",
    "\n",
    "    # Add labels and title\n",
    "    plt.xlabel(xlabel,fontsize=16,fontweight='bold')\n",
    "    plt.ylabel(ylabel,fontsize=16,fontweight='bold')\n",
    "    plt.title(title,fontsize=16,fontweight='bold')\n",
    "    plt.grid(True)"
   ]
  },
  {
   "cell_type": "code",
   "execution_count": 86,
   "id": "2ac2b6c3-7170-411b-a092-0ab3835de94e",
   "metadata": {},
   "outputs": [
    {
     "data": {
      "image/png": "[encoded data removed]",
      "text/plain": [
       "<Figure size 432x288 with 1 Axes>"
      ]
     },
     "metadata": {
      "needs_background": "light"
     },
     "output_type": "display_data"
    }
   ],
   "source": [
    "plot_scatter(results.mean(axis=1)[:,1],results.mean(axis=1)[:,2],xlabel='CompCor',ylabel='DeepCor',title='ABCD: corr2reg_face')"
   ]
  },
  {
   "cell_type": "code",
   "execution_count": 87,
   "id": "a5c1107d-f99c-435d-b694-8b37b638d5d9",
   "metadata": {},
   "outputs": [],
   "source": [
    "def pretty_t_test(vec1,vec2,ttl,alternative='two-sided'):\n",
    "    from scipy.stats import ttest_rel\n",
    "    t,p = ttest_rel(np.arctanh(vec1),np.arctanh(vec2),alternative=alternative) # Fisher Z transform before t-testing\n",
    "    degf = len(vec1)-1\n",
    "    diff = vec1.mean()-vec2.mean()\n",
    "\n",
    "    if p < .001:\n",
    "        print(f'{ttl} ΔM={diff:.3f}, t({int(degf)}) = {t:.2f}, p < .001')\n",
    "    else:\n",
    "        print(f'{ttl} ΔM={diff:.3f}, t({int(degf)}) = {t:.2f}, p = {p:.3f}')"
   ]
  },
  {
   "cell_type": "code",
   "execution_count": 78,
   "id": "592e20fc-4c14-4867-ace4-13fee962ee50",
   "metadata": {},
   "outputs": [
    {
     "name": "stdout",
     "output_type": "stream",
     "text": [
      "DeepCor > Preprocessing  ΔM=0.042, t(33) = 4.21, p < .001\n"
     ]
    }
   ],
   "source": [
    "pretty_t_test(results.mean(axis=1)[:,2],results.mean(axis=1)[:,0],ttl='DeepCor > Preprocessing ')"
   ]
  },
  {
   "cell_type": "code",
   "execution_count": 79,
   "id": "0059b566-de24-4310-879b-e71fa831a505",
   "metadata": {},
   "outputs": [
    {
     "name": "stdout",
     "output_type": "stream",
     "text": [
      "DeepCor > CompCor  ΔM=0.043, t(33) = 5.08, p < .001\n"
     ]
    }
   ],
   "source": [
    "pretty_t_test(results.mean(axis=1)[:,2],results.mean(axis=1)[:,1],ttl='DeepCor > CompCor ')"
   ]
  },
  {
   "cell_type": "code",
   "execution_count": 64,
   "id": "97f05e5f-2ecb-4c0a-8d25-eb17b861e5c8",
   "metadata": {},
   "outputs": [],
   "source": [
    "# Test - retest relaibility\n",
    "# 34 vec of beta values for run 1 and 2. \n",
    "# \n",
    "# "
   ]
  },
  {
   "cell_type": "code",
   "execution_count": null,
   "id": "86d35f33-dc58-41ba-822b-dd29c2905cd7",
   "metadata": {},
   "outputs": [],
   "source": []
  },
  {
   "cell_type": "code",
   "execution_count": 96,
   "id": "107ec79d-45f9-4e2c-a2aa-e865a61743fa",
   "metadata": {},
   "outputs": [
    {
     "data": {
      "image/png": "[encoded data removed]",
      "text/plain": [
       "<Figure size 432x288 with 1 Axes>"
      ]
     },
     "metadata": {
      "needs_background": "light"
     },
     "output_type": "display_data"
    }
   ],
   "source": [
    "plot_scatter(results.mean(axis=1)[:,3],results.mean(axis=1)[:,5],xlabel='',ylabel='',title='')"
   ]
  },
  {
   "cell_type": "code",
   "execution_count": 95,
   "id": "7589ad50-bc90-497c-b8fc-b9a3a9709530",
   "metadata": {},
   "outputs": [
    {
     "data": {
      "image/png": "[encoded data removed]",
      "text/plain": [
       "<Figure size 432x288 with 1 Axes>"
      ]
     },
     "metadata": {
      "needs_background": "light"
     },
     "output_type": "display_data"
    }
   ],
   "source": [
    "plot_scatter(results.mean(axis=1)[:,4],results.mean(axis=1)[:,5],xlabel='',ylabel='',title='')"
   ]
  },
  {
   "cell_type": "code",
   "execution_count": null,
   "id": "bad1c327-9cc1-49c6-a8dc-01b05fa706be",
   "metadata": {},
   "outputs": [],
   "source": []
  },
  {
   "cell_type": "code",
   "execution_count": null,
   "id": "9acf2a11-25c5-47e3-bee4-f6c1d4496b73",
   "metadata": {},
   "outputs": [],
   "source": []
  },
  {
   "cell_type": "code",
   "execution_count": null,
   "id": "53f96b46-91ea-47d7-9e46-141a786eee05",
   "metadata": {},
   "outputs": [],
   "source": [
    "# dict_keys(['recon', 'recon_coords', 'signal', 'signal_coords', 'noise', 'noise_coords', 'ffa', \n",
    "#'ffa_coords', 'ffa_compcorr', 'face_reg', 'place_reg', 'confounds'])"
   ]
  }
 ],
 "metadata": {
  "kernelspec": {
   "display_name": "Python 3",
   "language": "python",
   "name": "python3"
  },
  "language_info": {
   "codemirror_mode": {
    "name": "ipython",
    "version": 3
   },
   "file_extension": ".py",
   "mimetype": "text/x-python",
   "name": "python",
   "nbconvert_exporter": "python",
   "pygments_lexer": "ipython3",
   "version": "3.8.8"
  }
 },
 "nbformat": 4,
 "nbformat_minor": 5
}
