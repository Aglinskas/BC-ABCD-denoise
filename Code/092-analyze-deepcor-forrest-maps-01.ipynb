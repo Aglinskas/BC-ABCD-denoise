{
 "cells": [
  {
   "cell_type": "code",
   "execution_count": 1,
   "id": "f6ab9dff-d773-49cb-912a-6ae6504e3126",
   "metadata": {},
   "outputs": [
    {
     "name": "stdout",
     "output_type": "stream",
     "text": [
      "Wed Apr 16 04:51:44 PM EDT 2025\n"
     ]
    }
   ],
   "source": [
    "!date"
   ]
  },
  {
   "cell_type": "code",
   "execution_count": 2,
   "id": "75d54a12-4725-4338-b580-2301a89dcd0f",
   "metadata": {},
   "outputs": [
    {
     "data": {
      "text/plain": [
       "'/projects/sccn/andromeda1/aglinska/BC-ABCD-denoise/Code'"
      ]
     },
     "execution_count": 2,
     "metadata": {},
     "output_type": "execute_result"
    }
   ],
   "source": [
    "pwd"
   ]
  },
  {
   "cell_type": "code",
   "execution_count": 3,
   "id": "14796ecd-3ebc-4123-a466-40c785910f21",
   "metadata": {},
   "outputs": [],
   "source": [
    "import os\n",
    "import numpy as np\n",
    "import pandas as pd\n",
    "import ants\n",
    "from matplotlib import pyplot as plt\n",
    "import pickle\n",
    "from tqdm import tqdm"
   ]
  },
  {
   "cell_type": "code",
   "execution_count": 4,
   "id": "43086ba9-8407-4dfd-94e3-05bc81f9a440",
   "metadata": {},
   "outputs": [],
   "source": [
    "def load_pickle(fn):\n",
    "    if os.path.exists(fn):\n",
    "        with open(fn, 'rb') as file:\n",
    "            loaded_dict = pickle.load(file)\n",
    "    return loaded_dict"
   ]
  },
  {
   "cell_type": "code",
   "execution_count": 5,
   "id": "3c07e74b-4b44-425e-a0ae-0e4b60f0f310",
   "metadata": {},
   "outputs": [],
   "source": [
    "def pretty_bar_plot(arrs,group_labels,bar_color):\n",
    "    # Organize data into a list for easy looping\n",
    "    #arrs = [face_preproc_vals, face_compcor_vals, face_signal_vals]\n",
    "    #group_labels = ['Face Preproc', 'Face CompCor', 'Face Signal']\n",
    "\n",
    "    # Calculate means and standard deviations\n",
    "    means = np.array([arr.mean() for arr in arrs])\n",
    "    stds = np.array([arr.std() for arr in arrs])\n",
    "    xs = np.arange(len(arrs))  # positions for each bar\n",
    "\n",
    "    # Set the desired color for the bars (change this variable as needed)\n",
    "    #bar_color = 'red'  # e.g., 'red', 'blue', 'green', etc.\n",
    "\n",
    "    # Create the figure with appropriate dimensions for publication\n",
    "    #plt.figure(figsize=(8, 6))\n",
    "\n",
    "    # Plot bars with error bars\n",
    "    bar_container = plt.bar(xs, means, yerr=stds, capsize=5,\n",
    "                            color=bar_color, edgecolor='black', alpha=0.8)\n",
    "\n",
    "    # Overlay individual data points with jitter to avoid overlap.\n",
    "    for i, arr in enumerate(arrs):\n",
    "        # Add a little random jitter to the x-positions so points don't overlay exactly.\n",
    "        jitter = np.random.normal(0, 0.03, size=len(arr))\n",
    "        plt.scatter(np.full(len(arr), xs[i]) + jitter, arr,\n",
    "                    color='black', zorder=5, s=50, alpha=0.85)\n",
    "\n",
    "    # Increase font sizes and set text bold for clarity in print.\n",
    "    plt.xticks(xs, group_labels, fontsize=16, fontweight='bold')\n",
    "    #plt.xlabel('Processing Type', fontsize=18, fontweight='bold')\n",
    "    plt.ylabel('Corr. with Regressor', fontsize=18, fontweight='bold')\n",
    "    #plt.title('Comparison of Face Processing Methods', fontsize=20, fontweight='bold')\n",
    "    plt.grid(axis='y', linestyle='--', alpha=0.6)\n",
    "\n",
    "    # Optionally, remove top and right borders for a clean aesthetic.\n",
    "    ax = plt.gca()\n",
    "    ax.spines['top'].set_visible(False)\n",
    "    ax.spines['right'].set_visible(False)\n",
    "\n",
    "    # Bold tick labels on the y-axis as well.\n",
    "    for label in ax.get_yticklabels():\n",
    "        label.set_fontsize(16)\n",
    "        label.set_fontweight('bold')\n",
    "\n",
    "    plt.tight_layout()\n",
    "    plt.show()"
   ]
  },
  {
   "cell_type": "code",
   "execution_count": 6,
   "id": "99c40165-e7b3-45bd-9f7d-2cf0318d9d47",
   "metadata": {},
   "outputs": [
    {
     "data": {
      "text/plain": [
       "14"
      ]
     },
     "execution_count": 6,
     "metadata": {},
     "output_type": "execute_result"
    }
   ],
   "source": [
    "indir = '../Data/StudyForrest/fmriprep/'\n",
    "subs = [s for s in os.listdir(indir) if all((s.startswith('sub'),not s.endswith('.html')))]\n",
    "n = len(subs)\n",
    "n"
   ]
  },
  {
   "cell_type": "code",
   "execution_count": 18,
   "id": "63635acd-31ce-432a-a84d-e4f39e5e2e57",
   "metadata": {},
   "outputs": [],
   "source": [
    "#analysis_name = 'DeepCor-Forrest-face-v1'\n",
    "#analysis_name = 'DeepCor-ABCD-v1'\n",
    "analysis_name = 'YuOrig-00-orig'\n",
    "analysis_dir = os.path.join('../Data/StudyForrest/ensembles_last_CVAE/',analysis_name)"
   ]
  },
  {
   "cell_type": "code",
   "execution_count": 19,
   "id": "b8a32b5a-ba9a-4c44-8d85-685eae8061c3",
   "metadata": {},
   "outputs": [],
   "source": [
    "baselines_dir = '../Data/StudyForrest/DeepCor-baselines-2/'"
   ]
  },
  {
   "cell_type": "code",
   "execution_count": 20,
   "id": "0292367e-8ce5-4a9d-b7ac-4ce1d9d5399a",
   "metadata": {},
   "outputs": [],
   "source": [
    "fn_face_signal_map = os.path.join(analysis_dir,'signal-corr2face-S{s}_R_avg_med.nii.gz')\n",
    "fn_face_preproc_map = os.path.join(baselines_dir,'preproc-corr2face_S{s}_R_avg.nii.gz')\n",
    "fn_face_compcor_map = os.path.join(baselines_dir,'compcor-corr2face_S{s}_R_avg.nii.gz')\n",
    "\n",
    "fn_place_signal_map = os.path.join(analysis_dir,'signal-corr2place-S{s}_R_avg_med.nii.gz')\n",
    "fn_place_preproc_map = os.path.join(baselines_dir,'preproc-corr2place_S{s}_R_avg.nii.gz')\n",
    "fn_place_compcor_map = os.path.join(baselines_dir,'compcor-corr2place_S{s}_R_avg.nii.gz')"
   ]
  },
  {
   "cell_type": "code",
   "execution_count": 21,
   "id": "8eba4988-3996-4bf0-92bf-004de8817702",
   "metadata": {},
   "outputs": [],
   "source": [
    "def compute_diff_averages(fn1,fn2,ofn):\n",
    "    diffs = []\n",
    "    for s in range(14):\n",
    "        map1 = ants.image_read(fn1.format(s=s))\n",
    "        map2 = ants.image_read(fn2.format(s=s))\n",
    "        diffs.append((map1.numpy()-map2.numpy()))\n",
    "    map1.new_image_like(np.array(diffs).mean(axis=0)).to_filename(os.path.join(analysis_dir,ofn))"
   ]
  },
  {
   "cell_type": "code",
   "execution_count": 22,
   "id": "89355b6c-efd3-451a-be0a-05632327c9ac",
   "metadata": {},
   "outputs": [],
   "source": [
    "compute_diff_averages(fn_face_compcor_map,fn_face_preproc_map,'adiff-CompCor_over_preproc_face.nii.gz')\n",
    "compute_diff_averages(fn_place_compcor_map,fn_place_preproc_map,'adiff-CompCor_over_preproc_place.nii.gz')\n",
    "compute_diff_averages(fn_face_signal_map,fn_face_compcor_map,'adiff-Signal_over_compcor_face.nii.gz')\n",
    "compute_diff_averages(fn_place_signal_map,fn_place_compcor_map,'adiff-Signal_over_compcor_place.nii.gz')"
   ]
  },
  {
   "cell_type": "code",
   "execution_count": null,
   "id": "4ecfa320-ee2d-4c98-a839-58ce462f6108",
   "metadata": {},
   "outputs": [],
   "source": []
  },
  {
   "cell_type": "code",
   "execution_count": 18,
   "id": "c40cc705-0b26-4715-8dc2-b8eb6de88a38",
   "metadata": {},
   "outputs": [],
   "source": [
    "# linear\n",
    "# nearestNeighbor\n",
    "# multiLabel for label images but genericlabel is preferred\n",
    "# gaussian\n",
    "# bSpline\n",
    "# cosineWindowedSinc\n",
    "# welchWindowedSinc\n",
    "# hammingWindowedSinc\n",
    "# lanczosWindowedSinc\n",
    "# genericLabel use this for label images"
   ]
  },
  {
   "cell_type": "code",
   "execution_count": 19,
   "id": "2c6ff1af-0a03-4fe8-83fc-fac88c025b1a",
   "metadata": {},
   "outputs": [
    {
     "name": "stdout",
     "output_type": "stream",
     "text": [
      "236\n",
      "282\n"
     ]
    }
   ],
   "source": [
    "im = ants.image_read(fn_face_signal_map.format(s=0))\n",
    "ppa = ants.image_read('../Misc/ppa-map.nii.gz')\n",
    "ants.resample_image_to_target(ppa,im,interp_type='bSpline').to_filename('../Misc/ppa_map_resampled.nii.gz')\n",
    "ppa = ants.image_read('../Misc/ppa_map_resampled.nii.gz')\n",
    "thresh=4\n",
    "ppa[ppa<thresh]=0\n",
    "ppa[ppa>thresh]=1\n",
    "ppa.to_filename('../Misc/ppa_mask_resampled.nii.gz')\n",
    "print((ppa.numpy()==1).sum())\n",
    "\n",
    "\n",
    "im = ants.image_read(fn_face_signal_map.format(s=0))\n",
    "ffa = ants.image_read('../Misc/ffa_map.nii')\n",
    "ants.resample_image_to_target(ffa,im,interp_type='bSpline').to_filename('../Misc/ffa_map_resampled_forrest.nii.gz')\n",
    "ffa = ants.image_read('../Misc/ffa_map_resampled_forrest.nii.gz')\n",
    "thresh=9\n",
    "ffa[ffa<thresh]=0\n",
    "ffa[ffa>thresh]=1\n",
    "ffa.to_filename('../Misc/ffa_mask_resampled_forrest.nii.gz')\n",
    "print((ffa.numpy()==1).sum())"
   ]
  },
  {
   "cell_type": "code",
   "execution_count": null,
   "id": "ce9fe393-392a-4852-9d7c-bf97d3830842",
   "metadata": {},
   "outputs": [],
   "source": []
  },
  {
   "cell_type": "code",
   "execution_count": 20,
   "id": "547f2c4c-f680-4c5e-804a-777c717adb0f",
   "metadata": {},
   "outputs": [],
   "source": [
    "mask_ffa = ants.image_read('../Misc/ffa_mask_resampled_forrest.nii.gz')\n",
    "mask_ppa = ants.image_read('../Misc/ppa_mask_resampled.nii.gz')"
   ]
  },
  {
   "cell_type": "code",
   "execution_count": 21,
   "id": "c030b54b-04db-4875-a327-2c8f94c3508d",
   "metadata": {},
   "outputs": [],
   "source": [
    "def get_mask_data(fn,mask):\n",
    "    vals = []\n",
    "    for s in range(14):\n",
    "        im = ants.image_read(fn.format(s=s))\n",
    "        val = im.numpy()[mask.numpy()==1].mean()\n",
    "        vals.append(val)\n",
    "    return vals"
   ]
  },
  {
   "cell_type": "code",
   "execution_count": 22,
   "id": "4253fca0-8b6d-4e95-b752-ea7842a486b6",
   "metadata": {},
   "outputs": [],
   "source": [
    "def pretty_t_test_rel(v1,v2,ttl):\n",
    "    from scipy.stats import ttest_rel\n",
    "    t,p = ttest_rel(v1,v2)\n",
    "    degf = len(v1)-1\n",
    "    diff=v1.mean()-v2.mean()\n",
    "    if p>.001:\n",
    "        print(f'{ttl}ΔM={diff:.2f},t({int(degf)}) = {t:.2f}, p = {p:.3f}')\n",
    "    else:\n",
    "        print(f'{ttl}ΔM={diff:.2f},t({int(degf)}) = {t:.2f}, p < .001')"
   ]
  },
  {
   "cell_type": "code",
   "execution_count": 23,
   "id": "c5cdbcec-dcbb-4b23-9071-3eff5d8144b8",
   "metadata": {},
   "outputs": [],
   "source": [
    "face_signal_vals = np.array(get_mask_data(fn_face_signal_map,mask_ffa))\n",
    "face_preproc_vals = np.array(get_mask_data(fn_face_preproc_map,mask_ffa))\n",
    "face_compcor_vals = np.array(get_mask_data(fn_face_compcor_map,mask_ffa))\n",
    "\n",
    "place_signal_vals = np.array(get_mask_data(fn_place_signal_map,mask_ppa))\n",
    "place_preproc_vals = np.array(get_mask_data(fn_place_preproc_map,mask_ppa))\n",
    "place_compcor_vals = np.array(get_mask_data(fn_place_compcor_map,mask_ppa))"
   ]
  },
  {
   "cell_type": "code",
   "execution_count": null,
   "id": "b46f5faf-0182-4c00-a2d1-ae666975d48b",
   "metadata": {},
   "outputs": [],
   "source": []
  },
  {
   "cell_type": "code",
   "execution_count": 24,
   "id": "e73191e6-6587-4ae3-b694-c467c0b8314d",
   "metadata": {},
   "outputs": [
    {
     "data": {
      "image/png": "[encoded data removed]",
      "text/plain": [
       "<Figure size 576x432 with 1 Axes>"
      ]
     },
     "metadata": {
      "needs_background": "light"
     },
     "output_type": "display_data"
    }
   ],
   "source": [
    "plt.figure(figsize=(8,6))\n",
    "arrs = [face_preproc_vals,face_compcor_vals,face_signal_vals]\n",
    "group_labels = ['Preproc','CompCor','DeepCor']\n",
    "bar_color = 'red'\n",
    "pretty_bar_plot(arrs,group_labels,bar_color)"
   ]
  },
  {
   "cell_type": "code",
   "execution_count": 25,
   "id": "fb6f3626-12cb-43dc-b961-6b64e11ac659",
   "metadata": {},
   "outputs": [
    {
     "data": {
      "image/png": "[encoded data removed]",
      "text/plain": [
       "<Figure size 576x432 with 1 Axes>"
      ]
     },
     "metadata": {
      "needs_background": "light"
     },
     "output_type": "display_data"
    }
   ],
   "source": [
    "plt.figure(figsize=(8,6))\n",
    "arrs = [place_preproc_vals,place_compcor_vals,place_signal_vals]\n",
    "group_labels = ['Preproc','CompCor','DeepCor']\n",
    "bar_color = 'blue'\n",
    "pretty_bar_plot(arrs,group_labels,bar_color)"
   ]
  },
  {
   "cell_type": "code",
   "execution_count": 26,
   "id": "1b47e181-16af-461f-b5c6-630b1451cc57",
   "metadata": {},
   "outputs": [
    {
     "name": "stdout",
     "output_type": "stream",
     "text": [
      "Place: CompCor > PreprocΔM=0.01,t(13) = 1.24, p = 0.236\n",
      "Place: DeepCor > CompCorΔM=0.01,t(13) = 0.25, p = 0.810\n",
      "\n",
      "\n",
      "Face: CompCor > PreprocΔM=0.01,t(13) = 1.94, p = 0.074\n",
      "Face: DeepCor > CompCorΔM=0.09,t(13) = 3.42, p = 0.005\n"
     ]
    }
   ],
   "source": [
    "pretty_t_test_rel(place_compcor_vals,place_preproc_vals,'Place: CompCor > Preproc')\n",
    "pretty_t_test_rel(place_signal_vals,place_compcor_vals,'Place: DeepCor > CompCor')\n",
    "print('\\n')\n",
    "pretty_t_test_rel(face_compcor_vals,face_preproc_vals,'Face: CompCor > Preproc')\n",
    "pretty_t_test_rel(face_signal_vals,face_compcor_vals,'Face: DeepCor > CompCor')"
   ]
  },
  {
   "cell_type": "code",
   "execution_count": null,
   "id": "83e10f66-5a94-4b9b-acf6-002688357cb1",
   "metadata": {},
   "outputs": [],
   "source": []
  },
  {
   "cell_type": "code",
   "execution_count": null,
   "id": "c6bc9a3d-f7e0-4533-b149-ee6ac03dafe8",
   "metadata": {},
   "outputs": [],
   "source": []
  }
 ],
 "metadata": {
  "kernelspec": {
   "display_name": "Python 3",
   "language": "python",
   "name": "python3"
  },
  "language_info": {
   "codemirror_mode": {
    "name": "ipython",
    "version": 3
   },
   "file_extension": ".py",
   "mimetype": "text/x-python",
   "name": "python",
   "nbconvert_exporter": "python",
   "pygments_lexer": "ipython3",
   "version": "3.8.8"
  }
 },
 "nbformat": 4,
 "nbformat_minor": 5
}
