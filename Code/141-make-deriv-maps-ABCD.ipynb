{
 "cells": [
  {
   "cell_type": "code",
   "execution_count": 1,
   "id": "08179fd8-d165-4f57-ad77-bdbfd808e43c",
   "metadata": {},
   "outputs": [],
   "source": [
    "import os\n",
    "import numpy as np\n",
    "import pandas as pd\n",
    "from matplotlib import pyplot as plt\n",
    "import ants\n",
    "from tqdm import tqdm"
   ]
  },
  {
   "cell_type": "code",
   "execution_count": 2,
   "id": "59d5c4bd-d78b-4568-ac65-a0766fbc536b",
   "metadata": {},
   "outputs": [],
   "source": [
    "def correlate_columns(arr1, arr2):\n",
    "    \"\"\"\n",
    "    Computes the Pearson correlation between corresponding columns of two matrices.\n",
    "    \n",
    "    Parameters:\n",
    "    arr1 (np.ndarray): First matrix of shape (370, 1000)\n",
    "    arr2 (np.ndarray): Second matrix of shape (370, 1000)\n",
    "    \n",
    "    Returns:\n",
    "    np.ndarray: 1D array of correlations for each column (size 1000)\n",
    "    \"\"\"\n",
    "    # Ensure input arrays are numpy arrays\n",
    "    arr1 = np.asarray(arr1)\n",
    "    arr2 = np.asarray(arr2)\n",
    "    \n",
    "    # Subtract the mean of each column (normalize)\n",
    "    arr1_centered = arr1 - np.mean(arr1, axis=0)\n",
    "    arr2_centered = arr2 - np.mean(arr2, axis=0)\n",
    "    \n",
    "    # Compute the numerator (covariance)\n",
    "    numerator = np.sum(arr1_centered * arr2_centered, axis=0)\n",
    "    \n",
    "    # Compute the denominator (product of standard deviations)\n",
    "    denominator = np.sqrt(np.sum(arr1_centered**2, axis=0) * np.sum(arr2_centered**2, axis=0))\n",
    "    \n",
    "    # Compute the Pearson correlation for each column\n",
    "    correlation = numerator / denominator\n",
    "    \n",
    "    return correlation"
   ]
  },
  {
   "cell_type": "code",
   "execution_count": 3,
   "id": "b5924050-0967-4d18-8318-eda411dd4757",
   "metadata": {},
   "outputs": [],
   "source": [
    "def get_regs(events_fn):\n",
    "    from nilearn.glm.first_level import make_first_level_design_matrix\n",
    "\n",
    "    events = pd.read_csv(events_fn,delimiter='\\t')\n",
    "\n",
    "    t_r = 0.8\n",
    "    n_scans = nTR\n",
    "    frame_times = (np.arange(n_scans) * t_r)\n",
    "    X1 = make_first_level_design_matrix(frame_times,events,drift_model=\"polynomial\",drift_order=3,hrf_model=\"SPM\") #\n",
    "    face_reg = X1[['0_back_negface','0_back_neutface','0_back_posface','2_back_negface','2_back_neutface','2_back_posface']].values.sum(axis=1)\n",
    "    place_reg = X1[['0_back_place','2_back_place']].values.sum(axis=1)\n",
    "\n",
    "    return face_reg,place_reg"
   ]
  },
  {
   "cell_type": "code",
   "execution_count": 4,
   "id": "f8c9ab8f-d0c6-44da-a010-f5f204f6244e",
   "metadata": {},
   "outputs": [],
   "source": [
    "def get_contrast_val(Y,return_type='contrast',contrast_name='face'):\n",
    "    from nilearn.glm.first_level import make_first_level_design_matrix\n",
    "    \n",
    "    events = pd.read_csv(events_fn,delimiter='\\t')\n",
    "\n",
    "    t_r = 0.8\n",
    "    n_scans = Y.shape[1]\n",
    "    frame_times = (np.arange(n_scans) * t_r)\n",
    "\n",
    "    X1 = make_first_level_design_matrix(frame_times,events,drift_model=\"polynomial\",drift_order=3,hrf_model=\"SPM\") #\n",
    "\n",
    "    Y = (Y-Y.mean(axis=1)[:,np.newaxis])/Y.std(axis=1)[:,np.newaxis] # Z score values\n",
    "    Y = Y.transpose()\n",
    "    X = X1.values\n",
    "    beta = np.linalg.inv(X.T @ X1) @ X1.T @ Y\n",
    "    beta = beta.T\n",
    "    beta = beta.values\n",
    "\n",
    "    if contrast_name=='face':\n",
    "        contrast_vector = np.array([1,1,-3,1,1,1,-3,1,0,0,0,0,0,0]) # Faces > Place\n",
    "    elif contrast_name=='place':\n",
    "        contrast_vector = np.array([-1,-1,3,-1,-1,-1,3,-1,0,0,0,0,0,0]) # Place > Face\n",
    "    \n",
    "    contrast_values = beta @ contrast_vector\n",
    "\n",
    "    if return_type=='contrast':\n",
    "        #return contrast_values.mean()\n",
    "        return contrast_values\n",
    "    elif return_type=='betas':\n",
    "        return beta.mean(axis=0)"
   ]
  },
  {
   "cell_type": "code",
   "execution_count": 5,
   "id": "74a5542c-51fb-4501-9a28-1c996343758c",
   "metadata": {},
   "outputs": [
    {
     "name": "stdout",
     "output_type": "stream",
     "text": [
      "34\n"
     ]
    }
   ],
   "source": [
    "indir = '../Data/020-fmriprepped'\n",
    "subs = [s for s in os.listdir(indir) if all((s.startswith('sub'),not s.endswith('.html')))]\n",
    "subs.sort()\n",
    "print(len(subs))"
   ]
  },
  {
   "cell_type": "code",
   "execution_count": 6,
   "id": "a4833820-7539-402b-a4e4-3da1e9eae647",
   "metadata": {},
   "outputs": [],
   "source": [
    "analysis_name = 'DeepCor-ABCD-v5'\n",
    "analysis_dir = os.path.join('../Data/StudyForrest/ensembles_last_CVAE/',analysis_name)"
   ]
  },
  {
   "cell_type": "code",
   "execution_count": 7,
   "id": "82971f74-726c-4c85-8f78-6e8b0e3e4523",
   "metadata": {},
   "outputs": [],
   "source": [
    "events_fn_temp = '../Data/011-ABCD-events/{sub}_ses-baselineYear1Arm1_task-nback_run-0{r}_events.tsv'"
   ]
  },
  {
   "cell_type": "code",
   "execution_count": 8,
   "id": "1c1e414c-374b-443e-bf5f-19dea71a4641",
   "metadata": {},
   "outputs": [],
   "source": [
    "ofname = os.path.join(analysis_dir,'{name}_S{s}_R{r}_med.nii.gz')"
   ]
  },
  {
   "cell_type": "code",
   "execution_count": 9,
   "id": "2845fa93-57ee-477e-bd80-69d6bbcac0fa",
   "metadata": {},
   "outputs": [],
   "source": [
    "svec = np.random.permutation(np.arange(len(subs)))\n",
    "rvec = np.random.permutation([1,2])\n",
    "\n",
    "svec = np.arange(len(subs))\n",
    "rvec = [1,2]"
   ]
  },
  {
   "cell_type": "code",
   "execution_count": 36,
   "id": "9a3fd3c5-0180-4638-b6d0-62e821bb2a34",
   "metadata": {},
   "outputs": [
    {
     "data": {
      "text/plain": [
       "'../Data/StudyForrest/ensembles_last_CVAE/DeepCor-ABCD-v5/signal_S33_R2_med.nii.gz'"
      ]
     },
     "execution_count": 36,
     "metadata": {},
     "output_type": "execute_result"
    }
   ],
   "source": [
    "epi_fn"
   ]
  },
  {
   "cell_type": "code",
   "execution_count": 37,
   "id": "7bdbf3fd-4499-4796-a52d-aa0ca111aacb",
   "metadata": {},
   "outputs": [
    {
     "data": {
      "text/plain": [
       "<AxesSubplot:>"
      ]
     },
     "execution_count": 37,
     "metadata": {},
     "output_type": "execute_result"
    },
    {
     "data": {
      "image/png": "[encoded data removed]",
      "text/plain": [
       "<Figure size 1440x216 with 1 Axes>"
      ]
     },
     "metadata": {
      "needs_background": "light"
     },
     "output_type": "display_data"
    }
   ],
   "source": [
    "check_done = np.zeros((len(svec),len(rvec)))\n",
    "for s in svec:\n",
    "    for r in rvec:\n",
    "        epi_fn = os.path.join(analysis_dir,f'signal_S{s}_R{r}_med.nii.gz')\n",
    "        check_done[s,r-1]=np.array(os.path.exists(epi_fn.format(s=s,r=r)))*1.0\n",
    "\n",
    "import seaborn as sns\n",
    "plt.figure(figsize=(20,3))\n",
    "sns.heatmap(check_done.transpose(),annot=True,cbar=False,vmin=0,vmax=1)"
   ]
  },
  {
   "cell_type": "code",
   "execution_count": 19,
   "id": "8f4c3c15-31a8-4387-ba40-f2aa7d28e464",
   "metadata": {},
   "outputs": [],
   "source": [
    "delete_old = True\n",
    "if delete_old==True:\n",
    "    for s in svec:\n",
    "        for r in rvec:\n",
    "            file_path = ofname.format(name='corr2face',s=s,r=r); os.remove(file_path) if os.path.exists(file_path) else None\n",
    "            file_path = ofname.format(name='corr2place',s=s,r=r); os.remove(file_path) if os.path.exists(file_path) else None\n",
    "            file_path = ofname.format(name='contrast_face',s=s,r=r); os.remove(file_path) if os.path.exists(file_path) else None\n",
    "            file_path = ofname.format(name='contrast_place',s=s,r=r); os.remove(file_path) if os.path.exists(file_path) else None"
   ]
  },
  {
   "cell_type": "code",
   "execution_count": 30,
   "id": "f4ac4edb-4335-418a-b16d-7ef6ef85a0cc",
   "metadata": {},
   "outputs": [
    {
     "name": "stderr",
     "output_type": "stream",
     "text": [
      "  0%|          | 0/34 [00:00<?, ?it/s]\n",
      "  0%|          | 0/2 [00:00<?, ?it/s]\u001b[A\n",
      "                                     \u001b[A\n",
      "  0%|          | 0/2 [00:00<?, ?it/s]\u001b[A\n",
      "                                     \u001b[A\n",
      "  0%|          | 0/2 [00:00<?, ?it/s]\u001b[A\n",
      "                                     \u001b[A\n",
      "  0%|          | 0/2 [00:00<?, ?it/s]\u001b[A\n",
      "                                     \u001b[A\n",
      "  0%|          | 0/2 [00:00<?, ?it/s]\u001b[A\n",
      "                                     \u001b[A\n",
      "  0%|          | 0/2 [00:00<?, ?it/s]\u001b[A\n",
      "                                     \u001b[A\n",
      "  0%|          | 0/2 [00:00<?, ?it/s]\u001b[A\n",
      "                                     \u001b[A\n",
      "  0%|          | 0/2 [00:00<?, ?it/s]\u001b[A\n",
      "                                     \u001b[A\n",
      "  0%|          | 0/2 [00:00<?, ?it/s]\u001b[A\n",
      "                                     \u001b[A\n",
      "  0%|          | 0/2 [00:00<?, ?it/s]\u001b[A\n",
      "                                     \u001b[A\n",
      "  0%|          | 0/2 [00:00<?, ?it/s]\u001b[A\n",
      "                                     \u001b[A\n",
      "  0%|          | 0/2 [00:00<?, ?it/s]\u001b[A\n",
      "                                     \u001b[A\n",
      "  0%|          | 0/2 [00:00<?, ?it/s]\u001b[A\n",
      "                                     \u001b[A\n",
      "  0%|          | 0/2 [00:00<?, ?it/s]\u001b[A\n",
      "                                     \u001b[A\n",
      "  0%|          | 0/2 [00:00<?, ?it/s]\u001b[A\n",
      "                                     \u001b[A\n",
      "  0%|          | 0/2 [00:00<?, ?it/s]\u001b[A\n",
      "                                     \u001b[A\n",
      "  0%|          | 0/2 [00:00<?, ?it/s]\u001b[A\n",
      "                                     \u001b[A\n",
      "  0%|          | 0/2 [00:00<?, ?it/s]\u001b[A\n",
      "                                     \u001b[A\n",
      "  0%|          | 0/2 [00:00<?, ?it/s]\u001b[A\n",
      "                                     \u001b[A\n",
      "  0%|          | 0/2 [00:00<?, ?it/s]\u001b[A\n",
      "                                     \u001b[A\n",
      "  0%|          | 0/2 [00:00<?, ?it/s]\u001b[A\n",
      "                                     \u001b[A\n",
      "  0%|          | 0/2 [00:00<?, ?it/s]\u001b[A\n",
      "                                     \u001b[A\n",
      "  0%|          | 0/2 [00:00<?, ?it/s]\u001b[A\n",
      "                                     \u001b[A\n",
      "  0%|          | 0/2 [00:00<?, ?it/s]\u001b[A\n",
      "                                     \u001b[A\n",
      "  0%|          | 0/2 [00:00<?, ?it/s]\u001b[A\n",
      "                                     \u001b[A\n",
      "  0%|          | 0/2 [00:00<?, ?it/s]\u001b[A\n",
      "                                     \u001b[A\n",
      "  0%|          | 0/2 [00:00<?, ?it/s]\u001b[A\n",
      "                                     \u001b[A\n",
      "  0%|          | 0/2 [00:00<?, ?it/s]\u001b[A\n",
      "                                     \u001b[A\n",
      "  0%|          | 0/2 [00:00<?, ?it/s]\u001b[A\n",
      "                                     \u001b[A\n",
      "  0%|          | 0/2 [00:00<?, ?it/s]\u001b[A\n",
      "                                     \u001b[A\n",
      "  0%|          | 0/2 [00:00<?, ?it/s]\u001b[A\n",
      "                                     \u001b[A\n",
      "  0%|          | 0/2 [00:00<?, ?it/s]\u001b[A\n",
      "                                     \u001b[A\n",
      "  0%|          | 0/2 [00:00<?, ?it/s]\u001b[A\n",
      "                                     \u001b[A\n",
      "  0%|          | 0/2 [00:00<?, ?it/s]\u001b[A\n",
      "100%|██████████| 34/34 [00:00<00:00, 429.17it/s]\n"
     ]
    }
   ],
   "source": [
    "for s in tqdm(svec):\n",
    "    sub = subs[s]\n",
    "    for r in tqdm(rvec,leave=False):\n",
    "    \n",
    "        is_done = all([os.path.exists(ofname.format(name='corr2face',s=s,r=r)),\n",
    "    os.path.exists(ofname.format(name='corr2place',s=s,r=r)),\n",
    "    os.path.exists(ofname.format(name='contrast_face',s=s,r=r)),\n",
    "    os.path.exists(ofname.format(name='contrast_place',s=s,r=r)),])\n",
    "        \n",
    "        if is_done==False:\n",
    "            anat_fn = os.path.join(indir,sub,'ses-baselineYear1Arm1','anat',f'{sub}_ses-baselineYear1Arm1_run-01_space-MNI152NLin2009cAsym_res-2_desc-preproc_T1w.nii.gz')\n",
    "            anat_gm_fn = os.path.join(indir,sub,'ses-baselineYear1Arm1','anat',f'{sub}_ses-baselineYear1Arm1_run-01_space-MNI152NLin2009cAsym_res-2_label-GM_probseg.nii.gz')\n",
    "            anat_wm_fn = os.path.join(indir,sub,'ses-baselineYear1Arm1','anat',f'{sub}_ses-baselineYear1Arm1_run-01_space-MNI152NLin2009cAsym_res-2_label-WM_probseg.nii.gz')\n",
    "            anat_csf_fn = os.path.join(indir,sub,'ses-baselineYear1Arm1','anat',f'{sub}_ses-baselineYear1Arm1_run-01_space-MNI152NLin2009cAsym_res-2_label-CSF_probseg.nii.gz')\n",
    "\n",
    "            epi_fn = os.path.join(analysis_dir,f'signal_S{s}_R{r}_med.nii.gz')\n",
    "            if os.path.exists(epi_fn):\n",
    "                epi = ants.image_read(epi_fn)\n",
    "                nTR = epi.shape[-1]\n",
    "\n",
    "                events_fn = events_fn_temp.format(sub=subs[s],r=r)\n",
    "                face_reg,place_reg = get_regs(events_fn)\n",
    "\n",
    "                #anat = ants.image_read(anat_fn)\n",
    "                gm = ants.image_read(anat_gm_fn)\n",
    "                wm = ants.image_read(anat_wm_fn)\n",
    "                csf = ants.image_read(anat_csf_fn)\n",
    "\n",
    "                gm_values = gm.numpy()\n",
    "                gm_mask = (gm_values>0.5)\n",
    "                wm_values = wm.numpy()\n",
    "                csf_values = csf.numpy()\n",
    "                cf_values = wm_values+csf_values\n",
    "                cf_mask = (cf_values>0.5)\n",
    "\n",
    "                diff = gm_mask & cf_mask\n",
    "                gm_mask_c = gm_mask ^ diff\n",
    "                cf_mask_c = cf_mask ^ diff\n",
    "                gm_mask_c = gm_mask_c*(epi.numpy().std(axis=-1)>1e-3) # Drop std0\n",
    "\n",
    "                ndummy = 8 # how many dummy scans to discard\n",
    "\n",
    "                epi_flat = epi.numpy().reshape(-1,nTR).transpose() \n",
    "                epi_flat[0:ndummy,:] = epi_flat[ndummy+1::,:].mean(axis=0) # What to do with dummy scans, set to mean\n",
    "                epi_flat = epi_flat.transpose()\n",
    "\n",
    "                gm_flat = gm_mask_c.flatten().astype(int)\n",
    "                cf_flat = cf_mask_c.flatten().astype(int)\n",
    "\n",
    "\n",
    "                func_gm = epi_flat[gm_flat==1,:].copy() # Data that will be used as the ROI data\n",
    "                func_cf = epi_flat[cf_flat==1,:].copy() # Data that will be used as the RONI data\n",
    "\n",
    "                reg = face_reg\n",
    "                r_vals = correlate_columns(func_gm.transpose(),np.tile(reg[:,np.newaxis],func_gm.shape[0]))\n",
    "                new_arr = np.zeros(gm.shape)\n",
    "                new_arr[gm_mask_c==True]=r_vals\n",
    "                new_im = gm.new_image_like(new_arr)\n",
    "                ofn = ofname.format(name='corr2face',s=s,r=r)\n",
    "                new_im.to_filename(ofn)\n",
    "\n",
    "                reg = place_reg\n",
    "                r_vals = correlate_columns(func_gm.transpose(),np.tile(reg[:,np.newaxis],func_gm.shape[0]))\n",
    "                new_arr = np.zeros(gm.shape)\n",
    "                new_arr[gm_mask_c==True]=r_vals\n",
    "                new_im = gm.new_image_like(new_arr)\n",
    "                ofn = ofname.format(name='corr2place',s=s,r=r)\n",
    "                new_im.to_filename(ofn)\n",
    "\n",
    "                con_vals = get_contrast_val(func_gm,return_type='contrast',contrast_name='face')\n",
    "                new_arr = np.zeros(gm.shape)\n",
    "                new_arr[gm_mask_c==True]=con_vals\n",
    "                new_im = gm.new_image_like(new_arr)\n",
    "                ofn = ofname.format(name='contrast_face',s=s,r=r)\n",
    "                new_im.to_filename(ofn)\n",
    "\n",
    "                con_vals = get_contrast_val(func_gm,return_type='contrast',contrast_name='place')\n",
    "                new_arr = np.zeros(gm.shape)\n",
    "                new_arr[gm_mask_c==True]=con_vals\n",
    "                new_im = gm.new_image_like(new_arr)\n",
    "                ofn = ofname.format(name='contrast_place',s=s,r=r)\n",
    "                new_im.to_filename(ofn)"
   ]
  },
  {
   "cell_type": "code",
   "execution_count": 31,
   "id": "61729fd0-0fe9-46c8-8b50-204100e4a207",
   "metadata": {},
   "outputs": [
    {
     "data": {
      "text/plain": [
       "<AxesSubplot:>"
      ]
     },
     "execution_count": 31,
     "metadata": {},
     "output_type": "execute_result"
    },
    {
     "data": {
      "image/png": "[encoded data removed]",
      "text/plain": [
       "<Figure size 1440x216 with 1 Axes>"
      ]
     },
     "metadata": {
      "needs_background": "light"
     },
     "output_type": "display_data"
    }
   ],
   "source": [
    "check_done = np.zeros((len(svec),len(rvec)))\n",
    "for s in svec:\n",
    "    for r in rvec:\n",
    "        is_done = [os.path.exists(ofname.format(name='corr2face',s=s,r=r)),\n",
    "    os.path.exists(ofname.format(name='corr2place',s=s,r=r)),\n",
    "    os.path.exists(ofname.format(name='contrast_face',s=s,r=r)),\n",
    "    os.path.exists(ofname.format(name='contrast_place',s=s,r=r))]\n",
    "        check_done[s,r-1]=np.array(is_done).sum()\n",
    "\n",
    "import seaborn as sns\n",
    "plt.figure(figsize=(20,3))\n",
    "sns.heatmap(check_done.transpose(),annot=True,cbar=False)"
   ]
  },
  {
   "cell_type": "code",
   "execution_count": null,
   "id": "0d85f1ca-d8d4-4512-b627-688315153d8d",
   "metadata": {},
   "outputs": [],
   "source": []
  },
  {
   "cell_type": "code",
   "execution_count": null,
   "id": "92fedee3-44c5-4dd7-ae4d-e3dc1dc3f813",
   "metadata": {},
   "outputs": [],
   "source": []
  }
 ],
 "metadata": {
  "kernelspec": {
   "display_name": "Python 3",
   "language": "python",
   "name": "python3"
  },
  "language_info": {
   "codemirror_mode": {
    "name": "ipython",
    "version": 3
   },
   "file_extension": ".py",
   "mimetype": "text/x-python",
   "name": "python",
   "nbconvert_exporter": "python",
   "pygments_lexer": "ipython3",
   "version": "3.8.8"
  }
 },
 "nbformat": 4,
 "nbformat_minor": 5
}
