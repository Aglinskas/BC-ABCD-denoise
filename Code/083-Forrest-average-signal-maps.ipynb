{
 "cells": [
  {
   "cell_type": "code",
   "execution_count": 1,
   "id": "f6ab9dff-d773-49cb-912a-6ae6504e3126",
   "metadata": {},
   "outputs": [
    {
     "name": "stdout",
     "output_type": "stream",
     "text": [
      "Tue Apr  8 03:52:51 PM EDT 2025\n"
     ]
    }
   ],
   "source": [
    "!date"
   ]
  },
  {
   "cell_type": "code",
   "execution_count": 2,
   "id": "75d54a12-4725-4338-b580-2301a89dcd0f",
   "metadata": {},
   "outputs": [
    {
     "data": {
      "text/plain": [
       "'/projects/sccn/andromeda1/aglinska/BC-ABCD-denoise/Code'"
      ]
     },
     "execution_count": 2,
     "metadata": {},
     "output_type": "execute_result"
    }
   ],
   "source": [
    "pwd"
   ]
  },
  {
   "cell_type": "code",
   "execution_count": 3,
   "id": "14796ecd-3ebc-4123-a466-40c785910f21",
   "metadata": {},
   "outputs": [],
   "source": [
    "import os\n",
    "import numpy as np\n",
    "import pandas as pd\n",
    "import ants\n",
    "from matplotlib import pyplot as plt\n",
    "import pickle\n",
    "from tqdm import tqdm"
   ]
  },
  {
   "cell_type": "code",
   "execution_count": 4,
   "id": "43086ba9-8407-4dfd-94e3-05bc81f9a440",
   "metadata": {},
   "outputs": [],
   "source": [
    "def load_pickle(fn):\n",
    "    if os.path.exists(fn):\n",
    "        with open(fn, 'rb') as file:\n",
    "            loaded_dict = pickle.load(file)\n",
    "    return loaded_dict"
   ]
  },
  {
   "cell_type": "code",
   "execution_count": 5,
   "id": "99c40165-e7b3-45bd-9f7d-2cf0318d9d47",
   "metadata": {},
   "outputs": [
    {
     "data": {
      "text/plain": [
       "14"
      ]
     },
     "execution_count": 5,
     "metadata": {},
     "output_type": "execute_result"
    }
   ],
   "source": [
    "indir = '../Data/StudyForrest/fmriprep/'\n",
    "subs = [s for s in os.listdir(indir) if all((s.startswith('sub'),not s.endswith('.html')))]\n",
    "n = len(subs)\n",
    "n"
   ]
  },
  {
   "cell_type": "code",
   "execution_count": 6,
   "id": "63635acd-31ce-432a-a84d-e4f39e5e2e57",
   "metadata": {},
   "outputs": [],
   "source": [
    "analysis_name = 'DeepCor-Forrest-face-v1'\n",
    "#analysis_name = 'DeepCor-ABCD-v1'\n",
    "analysis_dir = os.path.join('../Data/StudyForrest/ensembles_last_CVAE/',analysis_name)"
   ]
  },
  {
   "cell_type": "code",
   "execution_count": 7,
   "id": "7cd951c6-0611-44ad-8a31-b4be9beabe8b",
   "metadata": {},
   "outputs": [],
   "source": [
    "def average_signal_maps(s,r):\n",
    "    ofn_med = os.path.join(analysis_dir,f'signal_S{s}_R{r}_med.nii.gz')\n",
    "    ofn_avg = os.path.join(analysis_dir,f'signal_S{s}_R{r}_avg.nii.gz')\n",
    "\n",
    "    if not all([os.path.exists(ofn_med),os.path.exists(ofn_avg)]):\n",
    "        signal_maps_fns = [os.path.join(analysis_dir,f) for f in os.listdir(analysis_dir) if f.startswith(f'signal_S{s}_R{r}_rep_')]\n",
    "        signal_maps_fns.sort()\n",
    "        signal_maps = [ants.image_read(signal_maps_fn) for signal_maps_fn in signal_maps_fns]\n",
    "        arr = np.array([signal_map.numpy() for signal_map in signal_maps])\n",
    "        signal_maps[0].new_image_like(np.median(arr,axis=0)).to_filename(ofn_med)\n",
    "        signal_maps[0].new_image_like(np.average(arr,axis=0)).to_filename(ofn_avg)"
   ]
  },
  {
   "cell_type": "code",
   "execution_count": 8,
   "id": "4de5fdf3-f163-4b62-a9ff-dbc645824671",
   "metadata": {},
   "outputs": [
    {
     "name": "stderr",
     "output_type": "stream",
     "text": [
      "100%|██████████| 14/14 [00:00<00:00, 1098.77it/s]\n"
     ]
    }
   ],
   "source": [
    "for s in tqdm(range(n)):\n",
    "    for r in [1,2,3,4]:\n",
    "        average_signal_maps(s,r)"
   ]
  },
  {
   "cell_type": "code",
   "execution_count": 26,
   "id": "78a5461b-36c5-489f-9058-83afedd007b5",
   "metadata": {},
   "outputs": [],
   "source": []
  },
  {
   "cell_type": "code",
   "execution_count": 27,
   "id": "20e9e101-025c-4426-9688-4e5ba79292a5",
   "metadata": {},
   "outputs": [],
   "source": []
  },
  {
   "cell_type": "code",
   "execution_count": 29,
   "id": "b9b42011-539f-4fb7-a8c9-e577aaa1d108",
   "metadata": {},
   "outputs": [],
   "source": []
  },
  {
   "cell_type": "code",
   "execution_count": null,
   "id": "fc627cff-55ab-45fa-acb3-aae3e8ae21bf",
   "metadata": {},
   "outputs": [],
   "source": []
  }
 ],
 "metadata": {
  "kernelspec": {
   "display_name": "Python 3",
   "language": "python",
   "name": "python3"
  },
  "language_info": {
   "codemirror_mode": {
    "name": "ipython",
    "version": 3
   },
   "file_extension": ".py",
   "mimetype": "text/x-python",
   "name": "python",
   "nbconvert_exporter": "python",
   "pygments_lexer": "ipython3",
   "version": "3.8.8"
  }
 },
 "nbformat": 4,
 "nbformat_minor": 5
}
