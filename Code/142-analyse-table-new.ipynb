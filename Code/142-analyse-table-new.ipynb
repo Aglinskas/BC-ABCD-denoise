{
 "cells": [
  {
   "cell_type": "code",
   "execution_count": 3,
   "id": "8488fe55-4baa-44d3-85cd-d523770fde1f",
   "metadata": {},
   "outputs": [
    {
     "name": "stdout",
     "output_type": "stream",
     "text": [
      "Sun May 18 10:16:16 PM EDT 2025\n"
     ]
    }
   ],
   "source": [
    "!date"
   ]
  },
  {
   "cell_type": "code",
   "execution_count": 4,
   "id": "e910e242-57cc-4e33-9ff2-07b5eced382c",
   "metadata": {},
   "outputs": [
    {
     "data": {
      "text/plain": [
       "'/projects/sccn/andromeda1/aglinska/BC-ABCD-denoise/Code'"
      ]
     },
     "execution_count": 4,
     "metadata": {},
     "output_type": "execute_result"
    }
   ],
   "source": [
    "pwd"
   ]
  },
  {
   "cell_type": "code",
   "execution_count": 5,
   "id": "fb2ea9cd-21a1-47e3-8011-608e03eeb594",
   "metadata": {},
   "outputs": [],
   "source": [
    "import os\n",
    "import numpy as np\n",
    "import pandas as pd\n",
    "from matplotlib import pyplot as plt\n",
    "import ants\n",
    "import pickle\n",
    "from tqdm import tqdm"
   ]
  },
  {
   "cell_type": "code",
   "execution_count": 6,
   "id": "95742edc-6667-48f6-9eef-008c876ab1c1",
   "metadata": {},
   "outputs": [],
   "source": [
    "def correlate_columns(arr1, arr2):\n",
    "    \"\"\"\n",
    "    Computes the Pearson correlation between corresponding columns of two matrices.\n",
    "    \n",
    "    Parameters:\n",
    "    arr1 (np.ndarray): First matrix of shape (370, 1000)\n",
    "    arr2 (np.ndarray): Second matrix of shape (370, 1000)\n",
    "    \n",
    "    Returns:\n",
    "    np.ndarray: 1D array of correlations for each column (size 1000)\n",
    "    \"\"\"\n",
    "    # Ensure input arrays are numpy arrays\n",
    "    arr1 = np.asarray(arr1)\n",
    "    arr2 = np.asarray(arr2)\n",
    "    \n",
    "    # Subtract the mean of each column (normalize)\n",
    "    arr1_centered = arr1 - np.mean(arr1, axis=0)\n",
    "    arr2_centered = arr2 - np.mean(arr2, axis=0)\n",
    "    \n",
    "    # Compute the numerator (covariance)\n",
    "    numerator = np.sum(arr1_centered * arr2_centered, axis=0)\n",
    "    \n",
    "    # Compute the denominator (product of standard deviations)\n",
    "    denominator = np.sqrt(np.sum(arr1_centered**2, axis=0) * np.sum(arr2_centered**2, axis=0))\n",
    "    \n",
    "    # Compute the Pearson correlation for each column\n",
    "    correlation = numerator / denominator\n",
    "    \n",
    "    return correlation"
   ]
  },
  {
   "cell_type": "code",
   "execution_count": 7,
   "id": "20276c46-f335-4916-81de-835f8d796428",
   "metadata": {},
   "outputs": [],
   "source": [
    "def get_regs(events_fn):\n",
    "    from nilearn.glm.first_level import make_first_level_design_matrix\n",
    "\n",
    "    events = pd.read_csv(events_fn,delimiter='\\t')\n",
    "\n",
    "    t_r = 2.0 \n",
    "    #n_scans = epi.shape[-1]\n",
    "    n_scans = 156\n",
    "    frame_times = (np.arange(n_scans) * t_r)\n",
    "\n",
    "    X1 = make_first_level_design_matrix(frame_times,events,drift_model=\"polynomial\",drift_order=3,hrf_model=\"SPM\") #\n",
    "\n",
    "    face_reg = X1[['face']].values.sum(axis=1)\n",
    "    place_reg = X1[['body', 'house', 'object', 'scene', 'scramble']].values.sum(axis=1)\n",
    "    \n",
    "    return face_reg,place_reg\n",
    "\n",
    "events_fn_temp = '../Data/StudyForrest/events/{sub}_ses-localizer_task-objectcategories_run-{r}_events.tsv'\n",
    "face_reg,place_reg = get_regs(events_fn_temp.format(sub='sub-01',r=1))"
   ]
  },
  {
   "cell_type": "code",
   "execution_count": 33,
   "id": "c6d25584-32a9-4918-aa39-bee3514a7c7e",
   "metadata": {},
   "outputs": [],
   "source": [
    "def get_contrast_val(Y,return_type='contrast'):\n",
    "    from nilearn.glm.first_level import make_first_level_design_matrix\n",
    "\n",
    "    events = pd.read_csv(events_fn_temp.format(sub=subs[s],r=r),delimiter='\\t')\n",
    "\n",
    "    t_r = 2.0 \n",
    "    n_scans = 156  # the acquisition comprises 128 scans\n",
    "    frame_times = (np.arange(n_scans) * t_r)\n",
    "\n",
    "    X1 = make_first_level_design_matrix(frame_times,events,drift_model=\"polynomial\",drift_order=3,hrf_model=\"SPM\") #\n",
    "    \n",
    "    Y = (Y-Y.mean(axis=1)[:,np.newaxis])/Y.std(axis=1)[:,np.newaxis] # Z score values\n",
    "    Y = Y.transpose()\n",
    "    X = X1.values\n",
    "    beta = np.linalg.inv(X.T @ X1) @ X1.T @ Y\n",
    "    beta = beta.T\n",
    "    beta = beta.values\n",
    "\n",
    "    #['body', 'face', 'house', 'object', 'scene', 'scramble', 'drift_1','drift_2', 'drift_3', 'constant']\n",
    "    contrast_vector = np.array([-1,5,-1,-1,-1,-1,0,0,0,0]) # Faces > Rest\n",
    "    contrast_values = beta @ contrast_vector\n",
    "    if return_type=='contrast':\n",
    "        return contrast_values.mean()\n",
    "    elif return_type=='betas':\n",
    "        return beta.mean(axis=0)"
   ]
  },
  {
   "cell_type": "code",
   "execution_count": 11,
   "id": "1123a706-7fa9-4632-991a-4f244be87cc3",
   "metadata": {},
   "outputs": [],
   "source": [
    "ffa_mask_temp = '../Data/StudyForrest/ROIs/rFFA_final_mask_{sub}_bin.nii.gz'"
   ]
  },
  {
   "cell_type": "code",
   "execution_count": 12,
   "id": "f162fd34-6a87-485d-9f6c-310f0d61c577",
   "metadata": {},
   "outputs": [],
   "source": [
    "subs = ['sub-01','sub-02','sub-03','sub-04','sub-05','sub-09','sub-10','sub-14','sub-15','sub-16','sub-17','sub-18','sub-19','sub-20',]"
   ]
  },
  {
   "cell_type": "code",
   "execution_count": 16,
   "id": "6105a985-3e9d-4205-8b51-6e6d7914ecca",
   "metadata": {},
   "outputs": [
    {
     "data": {
      "text/plain": [
       "953"
      ]
     },
     "execution_count": 16,
     "metadata": {},
     "output_type": "execute_result"
    }
   ],
   "source": [
    "faceMap = ants.image_read('../Misc/ffa_map_resampled_forrest.nii.gz')\n",
    "faceMap_mask = faceMap.numpy()>5\n",
    "faceMap_mask.sum()"
   ]
  },
  {
   "cell_type": "code",
   "execution_count": 21,
   "id": "9339f2cc-1f59-471d-9266-e604ee0c26ce",
   "metadata": {},
   "outputs": [],
   "source": [
    "roi = ants.image_read('../Data/StudyForrest/fmriprep/mask_roi.nii')\n",
    "roni = ants.image_read('../Data/StudyForrest/fmriprep/mask_roni.nii')"
   ]
  },
  {
   "cell_type": "code",
   "execution_count": 9,
   "id": "0da270dc-a633-48ed-953a-08ba6fe53cd5",
   "metadata": {},
   "outputs": [],
   "source": []
  },
  {
   "cell_type": "code",
   "execution_count": 40,
   "id": "815317f9-85ba-42fc-94a3-d56dbb20dbff",
   "metadata": {},
   "outputs": [],
   "source": [
    "def get_result(fn_temp,subFormat='name'):\n",
    "    result = np.zeros((14,4,3))\n",
    "    for s in tqdm(range(14)):\n",
    "        for r in [1,2,3,4]:\n",
    "            \n",
    "            if subFormat=='number':\n",
    "                subim = ants.image_read(os.path.join(fn_temp.format(s=s,r=r)))\n",
    "            elif subFormat=='name':\n",
    "                subim = ants.image_read(os.path.join(fn_temp.format(sub=subs[s],r=r)))\n",
    "            \n",
    "            subFFA = ants.image_read(os.path.join(ffa_mask_temp.format(sub=subs[s])))\n",
    "            valsFFA = subim.numpy()[subFFA.numpy()==1]\n",
    "            valsFFA = valsFFA[valsFFA.std(axis=1)>1e-3,:]\n",
    "\n",
    "            corr2reg = np.nanmean(correlate_columns(valsFFA.transpose(),np.array([face_reg for _ in range(valsFFA.shape[0])]).transpose()))\n",
    "            contrastVal = get_contrast_val(valsFFA,return_type='contrast')\n",
    "\n",
    "            arr1=subim.numpy()[(roi.numpy()==1) * (faceMap_mask==True)]\n",
    "            arr2=subim.numpy()[(roi.numpy()==1) * (faceMap_mask==False)]\n",
    "\n",
    "            arr1=arr1[arr1.std(axis=1)>1e-3]\n",
    "            arr2=arr2[arr2.std(axis=1)>1e-3]\n",
    "            r1=correlate_columns(arr1.transpose(),np.array([face_reg for _ in range(arr1.shape[0])]).transpose())\n",
    "            r2=correlate_columns(arr2.transpose(),np.array([face_reg for _ in range(arr2.shape[0])]).transpose())\n",
    "            specificity = r1.mean()-r2.mean()\n",
    "\n",
    "            result[s,r-1,0] = corr2reg\n",
    "            result[s,r-1,1] = contrastVal\n",
    "            result[s,r-1,2] = specificity\n",
    "            \n",
    "    return result"
   ]
  },
  {
   "cell_type": "code",
   "execution_count": 38,
   "id": "3ce6b4cf-a3e3-4de8-804f-507a64be0e59",
   "metadata": {},
   "outputs": [
    {
     "name": "stderr",
     "output_type": "stream",
     "text": [
      "100%|██████████| 14/14 [00:43<00:00,  3.14s/it]\n"
     ]
    }
   ],
   "source": [
    "fn_temp = '../Data/StudyForrest/ensembles_last_CVAE/fixed-seed-00-YuOrig-00-DataloaderFix/signal_S{s}_R{r}_avg.nii.gz'\n",
    "result_CVAE_Yu = get_result(fn_temp,subFormat='number')"
   ]
  },
  {
   "cell_type": "code",
   "execution_count": 41,
   "id": "bda4c441-10a3-44a6-9d18-a9bb99a3e7c1",
   "metadata": {},
   "outputs": [
    {
     "name": "stderr",
     "output_type": "stream",
     "text": [
      "100%|██████████| 14/14 [00:48<00:00,  3.46s/it]\n"
     ]
    }
   ],
   "source": [
    "fn_temp = '../Data/StudyForrest/fmriprep/{sub}/ses-localizer/func/{sub}_ses-localizer_task-objectcategories_run-{r}_bold_space-MNI152NLin2009cAsym_preproc.nii.gz'\n",
    "result_preproc = get_result(fn_temp,subFormat='name')"
   ]
  },
  {
   "cell_type": "code",
   "execution_count": 42,
   "id": "e0b36349-fde5-4737-9b1a-8f1f4d2c4cb4",
   "metadata": {},
   "outputs": [
    {
     "name": "stderr",
     "output_type": "stream",
     "text": [
      "100%|██████████| 14/14 [00:38<00:00,  2.75s/it]\n"
     ]
    }
   ],
   "source": [
    "fn_temp = '../Data/StudyForrest/fmriprep/{sub}/ses-localizer/func/{sub}_ses-localizer_task-objectcategories_run-{r}_bold_space-MNI152NLin2009cAsym_COMPCOR-RONI.nii'\n",
    "result_compcor = get_result(fn_temp,subFormat='name')"
   ]
  },
  {
   "cell_type": "code",
   "execution_count": 47,
   "id": "28f033af-8fe4-4c81-a72b-f4f29d2ad660",
   "metadata": {},
   "outputs": [
    {
     "name": "stderr",
     "output_type": "stream",
     "text": [
      " 14%|█▍        | 2/14 [00:06<00:38,  3.22s/it]/home/aglinska/anaconda3/lib/python3.8/site-packages/numpy/core/_methods.py:232: RuntimeWarning: overflow encountered in multiply\n",
      "  x = um.multiply(x, x, out=x)\n",
      "/home/aglinska/anaconda3/lib/python3.8/site-packages/numpy/core/_methods.py:243: RuntimeWarning: overflow encountered in reduce\n",
      "  ret = umr_sum(x, axis, dtype, out, keepdims=keepdims, where=where)\n",
      "<ipython-input-6-9f9a06f806b9>:24: RuntimeWarning: overflow encountered in square\n",
      "  denominator = np.sqrt(np.sum(arr1_centered**2, axis=0) * np.sum(arr2_centered**2, axis=0))\n",
      "/home/aglinska/anaconda3/lib/python3.8/site-packages/numpy/core/fromnumeric.py:87: RuntimeWarning: overflow encountered in reduce\n",
      "  return ufunc.reduce(obj, axis, dtype, out, **passkwargs)\n",
      "100%|██████████| 14/14 [00:45<00:00,  3.24s/it]\n"
     ]
    }
   ],
   "source": [
    "fn_temp = '../Data/StudyForrest/ensembles_last_CVAE/DeepCor-Forrest-face-v5/signal_S{s}_R{r}_avg.nii.gz'\n",
    "result_CVAE_AA = get_result(fn_temp,subFormat='number')"
   ]
  },
  {
   "cell_type": "code",
   "execution_count": 52,
   "id": "fa66e938-06d7-429f-a0bb-ba106d300e4e",
   "metadata": {},
   "outputs": [],
   "source": [
    "model_names=['conv_denoise',\n",
    " 'conv_denoise500',\n",
    " 'conv_denoise_bn',\n",
    " 'conv_denoise_large',\n",
    " 'conv_denoise_large500',\n",
    " 'conv_smooth',\n",
    " 'conv_smooth-small',\n",
    " 'conv_weights_unet_denoise',\n",
    " 'conv_weights_unet_denoise500']"
   ]
  },
  {
   "cell_type": "code",
   "execution_count": 54,
   "id": "ec9eb802-0954-44fb-848d-09abde50639f",
   "metadata": {},
   "outputs": [
    {
     "name": "stderr",
     "output_type": "stream",
     "text": [
      "100%|██████████| 14/14 [00:49<00:00,  3.54s/it]\n"
     ]
    }
   ],
   "source": [
    "fn_temp = '../Data/StudyForrest/Stefano_adv_outputs/01-signals_averaged/S{s}-R{r}-conv_denoise500-avg.nii.gz'\n",
    "result_conv_denoise500 = get_result(fn_temp,subFormat='number')"
   ]
  },
  {
   "cell_type": "code",
   "execution_count": 56,
   "id": "d8756511-56df-4658-9741-6854ace2f93c",
   "metadata": {},
   "outputs": [
    {
     "name": "stderr",
     "output_type": "stream",
     "text": [
      "100%|██████████| 14/14 [00:47<00:00,  3.42s/it]\n"
     ]
    }
   ],
   "source": [
    "fn_temp = '../Data/StudyForrest/Stefano_adv_outputs/01-signals_averaged/S{s}-R{r}-conv_denoise-avg.nii.gz'\n",
    "result_conv_denoise = get_result(fn_temp,subFormat='number')"
   ]
  },
  {
   "cell_type": "code",
   "execution_count": 61,
   "id": "4bf067a7-c47e-4b23-98bd-64a6a2b854ce",
   "metadata": {},
   "outputs": [
    {
     "name": "stdout",
     "output_type": "stream",
     "text": [
      "[2.25618443 1.94781238 2.4126718 ]\n",
      "[2.57257221 2.15056556 2.70172882]\n",
      "[3.05785635 2.83259817 4.91430045]\n",
      "[3.21945079 2.06995668 3.76108619]\n",
      "[3.75894091 2.71520524 4.11080847]\n"
     ]
    }
   ],
   "source": [
    "print(result_preproc.mean(axis=0).mean(axis=0)/result_preproc.mean(axis=1).std(axis=0))\n",
    "print(result_compcor.mean(axis=0).mean(axis=0)/result_preproc.mean(axis=1).std(axis=0))\n",
    "print(result_conv_denoise.mean(axis=0).mean(axis=0)/result_preproc.mean(axis=1).std(axis=0))\n",
    "print(result_CVAE_Yu.mean(axis=0).mean(axis=0)/result_preproc.mean(axis=1).std(axis=0))\n",
    "print(result_CVAE_AA.mean(axis=0).mean(axis=0)/result_preproc.mean(axis=1).std(axis=0))"
   ]
  },
  {
   "cell_type": "code",
   "execution_count": 57,
   "id": "2c50da41-60b4-4596-a30a-227fd00ca1e5",
   "metadata": {},
   "outputs": [
    {
     "name": "stdout",
     "output_type": "stream",
     "text": [
      "[0.1472324  1.86772992 0.07108703]\n",
      "[0.16787899 2.06214709 0.07960381]\n",
      "[0.1995473  2.71613857 0.14479508]\n",
      "[0.21009251 1.98485236 0.11081675]\n",
      "[0.24529815 2.60357214 0.12112097]\n"
     ]
    }
   ],
   "source": [
    "print(result_preproc.mean(axis=0).mean(axis=0))\n",
    "print(result_compcor.mean(axis=0).mean(axis=0))\n",
    "print(result_conv_denoise.mean(axis=0).mean(axis=0))\n",
    "print(result_CVAE_Yu.mean(axis=0).mean(axis=0))\n",
    "print(result_CVAE_AA.mean(axis=0).mean(axis=0))"
   ]
  },
  {
   "cell_type": "code",
   "execution_count": null,
   "id": "84c6768a-56eb-4505-90e4-d42145cacdbf",
   "metadata": {},
   "outputs": [],
   "source": []
  },
  {
   "cell_type": "code",
   "execution_count": null,
   "id": "54942de5-b320-4e9e-863d-ef37f391df64",
   "metadata": {},
   "outputs": [],
   "source": []
  },
  {
   "cell_type": "code",
   "execution_count": null,
   "id": "5c59664e-98db-4ff1-894f-cc91f5bd77db",
   "metadata": {},
   "outputs": [],
   "source": []
  }
 ],
 "metadata": {
  "kernelspec": {
   "display_name": "Python 3",
   "language": "python",
   "name": "python3"
  },
  "language_info": {
   "codemirror_mode": {
    "name": "ipython",
    "version": 3
   },
   "file_extension": ".py",
   "mimetype": "text/x-python",
   "name": "python",
   "nbconvert_exporter": "python",
   "pygments_lexer": "ipython3",
   "version": "3.8.8"
  }
 },
 "nbformat": 4,
 "nbformat_minor": 5
}
