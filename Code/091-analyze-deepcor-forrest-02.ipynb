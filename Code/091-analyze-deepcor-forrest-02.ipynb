{
 "cells": [
  {
   "cell_type": "code",
   "execution_count": 1,
   "id": "f6ab9dff-d773-49cb-912a-6ae6504e3126",
   "metadata": {},
   "outputs": [
    {
     "name": "stdout",
     "output_type": "stream",
     "text": [
      "Tue May 13 08:09:54 PM EDT 2025\n"
     ]
    }
   ],
   "source": [
    "!date"
   ]
  },
  {
   "cell_type": "code",
   "execution_count": 2,
   "id": "75d54a12-4725-4338-b580-2301a89dcd0f",
   "metadata": {},
   "outputs": [
    {
     "data": {
      "text/plain": [
       "'/projects/sccn/andromeda1/aglinska/BC-ABCD-denoise/Code'"
      ]
     },
     "execution_count": 2,
     "metadata": {},
     "output_type": "execute_result"
    }
   ],
   "source": [
    "pwd"
   ]
  },
  {
   "cell_type": "code",
   "execution_count": 3,
   "id": "14796ecd-3ebc-4123-a466-40c785910f21",
   "metadata": {},
   "outputs": [],
   "source": [
    "import os\n",
    "import numpy as np\n",
    "import pandas as pd\n",
    "import ants\n",
    "from matplotlib import pyplot as plt\n",
    "import pickle\n",
    "from tqdm import tqdm"
   ]
  },
  {
   "cell_type": "code",
   "execution_count": 4,
   "id": "43086ba9-8407-4dfd-94e3-05bc81f9a440",
   "metadata": {},
   "outputs": [],
   "source": [
    "def load_pickle(fn):\n",
    "    if os.path.exists(fn):\n",
    "        with open(fn, 'rb') as file:\n",
    "            loaded_dict = pickle.load(file)\n",
    "    return loaded_dict"
   ]
  },
  {
   "cell_type": "code",
   "execution_count": 5,
   "id": "99c40165-e7b3-45bd-9f7d-2cf0318d9d47",
   "metadata": {},
   "outputs": [
    {
     "data": {
      "text/plain": [
       "14"
      ]
     },
     "execution_count": 5,
     "metadata": {},
     "output_type": "execute_result"
    }
   ],
   "source": [
    "indir = '../Data/StudyForrest/fmriprep/'\n",
    "subs = [s for s in os.listdir(indir) if all((s.startswith('sub'),not s.endswith('.html')))]\n",
    "n = len(subs)\n",
    "n = 14\n",
    "n"
   ]
  },
  {
   "cell_type": "code",
   "execution_count": 6,
   "id": "bdb8cb06-58ec-4d7e-b99e-e505a970320d",
   "metadata": {},
   "outputs": [
    {
     "data": {
      "text/plain": [
       "['.ipynb_checkpoints',\n",
       " 'BrainIAK-CVAE-0',\n",
       " 'BrainIAK-CVAE-1',\n",
       " 'DeNN-forrest-v1',\n",
       " 'DeepCor-ABCD-v1',\n",
       " 'DeepCor-ABCD-v2',\n",
       " 'DeepCor-ABCD-v3',\n",
       " 'DeepCor-Forrest-ablations-00-baseline',\n",
       " 'DeepCor-Forrest-ablations-01-nosummation',\n",
       " 'DeepCor-Forrest-ablations-02-noAdvRemoval',\n",
       " 'DeepCor-Forrest-ablations-03-noNCC',\n",
       " 'DeepCor-Forrest-ablations-03-noTC',\n",
       " 'DeepCor-Forrest-ablations-04-noCoords',\n",
       " 'DeepCor-Forrest-ablations-06-noAll',\n",
       " 'DeepCor-Forrest-ablations-06-noAll-v2',\n",
       " 'DeepCor-Forrest-face-big-16',\n",
       " 'DeepCor-Forrest-face-long',\n",
       " 'DeepCor-Forrest-face-v1',\n",
       " 'YuOrig-00-DataloaderFix',\n",
       " 'YuOrig-00-orig',\n",
       " 'fixed-seed-00-YuOrig-00-DataloaderFix',\n",
       " 'fixed-seed-00-baseline-00',\n",
       " 'slurm_files',\n",
       " 'test',\n",
       " 'test-lin']"
      ]
     },
     "execution_count": 6,
     "metadata": {},
     "output_type": "execute_result"
    }
   ],
   "source": [
    "a = os.listdir('../Data/StudyForrest/ensembles_last_CVAE/')\n",
    "a.sort()\n",
    "a"
   ]
  },
  {
   "cell_type": "code",
   "execution_count": 51,
   "id": "63635acd-31ce-432a-a84d-e4f39e5e2e57",
   "metadata": {},
   "outputs": [],
   "source": [
    "#analysis_name =  'DeepCor-Forrest-ablations-00-baseline'\n",
    "#analysis_name =  'DeepCor-Forrest-ablations-01-nosummation'\n",
    "#analysis_name =  'DeepCor-Forrest-ablations-02-noAdvRemoval'\n",
    "#analysis_name =  'DeepCor-Forrest-ablations-03-noNCC'\n",
    "#analysis_name =  'DeepCor-Forrest-ablations-03-noTC'\n",
    "#analysis_name =  'DeepCor-Forrest-ablations-04-noCoords'\n",
    "#analysis_name =  'DeepCor-Forrest-ablations-06-noAll'\n",
    "#analysis_name =  'DeepCor-Forrest-ablations-06-noAll-v2'\n",
    "#analysis_name =  'DeepCor-Forrest-face-v1'\n",
    "#analysis_name =  'DeepCor-Forrest-face-big-16'\n",
    "#analysis_name = 'DeepCor-Forrest-face-long'\n",
    "#analysis_name =  'YuOrig-00-orig'\n",
    "#analysis_name = 'fixed-seed-00-baseline-00'\n",
    "analysis_name = 'fixed-seed-00-YuOrig-00-DataloaderFix'\n",
    "analysis_dir = os.path.join('../Data/StudyForrest/ensembles_last_CVAE/',analysis_name)"
   ]
  },
  {
   "cell_type": "code",
   "execution_count": 52,
   "id": "81731922-fdf5-4ab1-aa13-e2733c1eb26c",
   "metadata": {},
   "outputs": [],
   "source": [
    "#dict_keys(['recon', 'recon_coords', 'signal', 'signal_coords', 'noise', 'noise_coords', 'ffa', 'ffa_coords', 'ffa_compcorr', 'face_reg', 'place_reg', 'confounds'])"
   ]
  },
  {
   "cell_type": "code",
   "execution_count": 53,
   "id": "700c2e79-93ba-43f6-af78-e793b5a5f0b8",
   "metadata": {},
   "outputs": [],
   "source": [
    "indir = '../Data/StudyForrest/fmriprep/'\n",
    "subs = [s for s in os.listdir(indir) if all((s.startswith('sub'),not s.endswith('.html')))]\n",
    "subs.sort()\n",
    "n = len(subs)\n",
    "events_fn_temp = '../Data/StudyForrest/events/{sub}_ses-localizer_task-objectcategories_run-{r}_events.tsv'"
   ]
  },
  {
   "cell_type": "code",
   "execution_count": 54,
   "id": "bae9496f-f084-46cb-9ba7-7c2c9a49d276",
   "metadata": {},
   "outputs": [],
   "source": [
    "def get_regs(events_fn):\n",
    "    from nilearn.glm.first_level import make_first_level_design_matrix\n",
    "\n",
    "    events = pd.read_csv(events_fn,delimiter='\\t')\n",
    "\n",
    "    t_r = 2.0 \n",
    "    #n_scans = epi.shape[-1]\n",
    "    n_scans = 156\n",
    "    frame_times = (np.arange(n_scans) * t_r)\n",
    "\n",
    "    X1 = make_first_level_design_matrix(frame_times,events,drift_model=\"polynomial\",drift_order=3,hrf_model=\"SPM\") #\n",
    "\n",
    "    #face_reg = X1['face'].values\n",
    "    #place_reg = X1[['body', 'house', 'object', 'scene', 'scramble']].values.sum(axis=1)\n",
    "\n",
    "    #face_reg = X1[['face','body']].values.sum(axis=1)\n",
    "    face_reg = X1[['face']].values.sum(axis=1)\n",
    "    place_reg = X1[['house','scene']].values.sum(axis=1)\n",
    "    \n",
    "    return face_reg,place_reg"
   ]
  },
  {
   "cell_type": "code",
   "execution_count": null,
   "id": "ca9f057e-06af-437d-90ad-3150d8f55a46",
   "metadata": {},
   "outputs": [],
   "source": []
  },
  {
   "cell_type": "code",
   "execution_count": 55,
   "id": "f22f4bf8-63b8-4474-a7a2-300e5931ce82",
   "metadata": {},
   "outputs": [],
   "source": [
    "def get_sub_data(s,r,return_type='corr'):\n",
    "    output_files = [os.path.join(analysis_dir,val) for val in os.listdir(analysis_dir) if val.startswith(f'outputs_S{s}_R{r}_')]\n",
    "    vals_ffa = load_pickle(output_files[0])['ffa']\n",
    "    vals_compcor = load_pickle(output_files[0])['ffa_compcorr']\n",
    "    #face_reg = load_pickle(output_files[0])['face_reg']\n",
    "    face_reg, place_reg = get_regs(events_fn_temp.format(sub=subs[s],r=r))    \n",
    "    vals_signals = np.array([load_pickle(output_file)['signal'] for output_file in output_files])\n",
    "    vals_signals_med = np.nanmedian(vals_signals,0)\n",
    "    #vals_signals_med = np.average(vals_signals,0)\n",
    "\n",
    "    r_ffa = np.array([np.corrcoef(vals_ffa[v,:],face_reg)[0,1] for v in range(vals_ffa.shape[0])]).mean()\n",
    "    r_compcor = np.array([np.corrcoef(vals_compcor[v,:],face_reg)[0,1] for v in range(vals_ffa.shape[0])]).mean()\n",
    "    r_fg = np.array([np.corrcoef(vals_signals_med[v,:],face_reg)[0,1] for v in range(vals_ffa.shape[0])]).mean()\n",
    "    \n",
    "    if return_type=='corr':\n",
    "        return (r_ffa,r_compcor,r_fg)\n",
    "    elif return_type=='vals':\n",
    "        return vals_ffa,vals_compcor,vals_signals_med,vals_signals,face_reg"
   ]
  },
  {
   "cell_type": "code",
   "execution_count": 56,
   "id": "65e0133d-a23a-4546-b6e0-10d3d467d6f0",
   "metadata": {
    "tags": []
   },
   "outputs": [],
   "source": [
    "do_plot_indiv = False\n",
    "if do_plot_indiv==True:\n",
    "    for s in range(14):\n",
    "        for r in [1,2,3,4]:\n",
    "            vals_ffa,vals_compcor,vals_signals_med,vals_signals,face_reg = get_sub_data(s,r,return_type='vals')\n",
    "\n",
    "            plt.figure(figsize=(25,5))\n",
    "            plt.subplot(1,4,1)\n",
    "            plt.plot(vals_ffa.mean(axis=0))\n",
    "            plt.plot(face_reg)\n",
    "            c = np.corrcoef(vals_ffa.mean(axis=0),face_reg)[0,1]\n",
    "            plt.title(f'NoDenoise, r={c:.2f}')\n",
    "            plt.ylim(-1.5,1.5)\n",
    "\n",
    "            plt.subplot(1,4,2)\n",
    "            plt.plot(vals_compcor.mean(axis=0))\n",
    "            plt.plot(face_reg)\n",
    "            c = np.corrcoef(vals_compcor.mean(axis=0),face_reg)[0,1]\n",
    "            plt.title(f'CompCor, r={c:.2f}')\n",
    "            plt.ylim(-1.5,1.5)\n",
    "\n",
    "            plt.subplot(1,4,3)\n",
    "            plt.plot(vals_signals_med.mean(axis=0))\n",
    "            plt.plot(face_reg)\n",
    "            c = np.corrcoef(vals_signals_med.mean(axis=0),face_reg)[0,1]\n",
    "            plt.title(f'DeepCor, r={c:.2f}')\n",
    "            plt.ylim(-1.5,1.5)\n",
    "\n",
    "            plt.subplot(1,4,4)\n",
    "            for i in range(vals_signals.shape[0]):\n",
    "                plt.plot(vals_signals[i,:,:].mean(axis=0),alpha=.5)\n",
    "            plt.plot(face_reg)\n",
    "\n",
    "            plt.suptitle(f'S{s}/R{r}')"
   ]
  },
  {
   "cell_type": "code",
   "execution_count": 57,
   "id": "5ff0e99b-e83c-4fef-b8ed-0cdd6064632c",
   "metadata": {},
   "outputs": [
    {
     "data": {
      "text/plain": [
       "(14, 4, 3)"
      ]
     },
     "execution_count": 57,
     "metadata": {},
     "output_type": "execute_result"
    }
   ],
   "source": [
    "nsubs = n\n",
    "#corr_res = np.array([[get_sub_data(s,r) for r in [1,2,3,4]] for s in range(nsubs)])\n",
    "corr_res = np.array([[get_sub_data(s,r) for r in [1,2,3,4]] for s in range(nsubs)])\n",
    "corr_res.shape"
   ]
  },
  {
   "cell_type": "code",
   "execution_count": 58,
   "id": "ff69a23f-a2a6-4314-9e05-a1458c1056ab",
   "metadata": {},
   "outputs": [
    {
     "name": "stdout",
     "output_type": "stream",
     "text": [
      "[0.14717861 0.16478997 0.20271774]\n"
     ]
    },
    {
     "data": {
      "text/plain": [
       "([<matplotlib.axis.XTick at 0x154a0db500a0>,\n",
       "  <matplotlib.axis.XTick at 0x154a0db50160>,\n",
       "  <matplotlib.axis.XTick at 0x154a0d93eaf0>],\n",
       " [Text(0, 0, 'NoDenoise'), Text(1, 0, 'CompCor'), Text(2, 0, 'DeepCor')])"
      ]
     },
     "execution_count": 58,
     "metadata": {},
     "output_type": "execute_result"
    },
    {
     "data": {
      "image/png": "[encoded data removed]",
      "text/plain": [
       "<Figure size 432x288 with 1 Axes>"
      ]
     },
     "metadata": {
      "needs_background": "light"
     },
     "output_type": "display_data"
    }
   ],
   "source": [
    "ys = corr_res.mean(axis=0).mean(axis=0)\n",
    "print(ys)\n",
    "xs = [0,1,2]\n",
    "plt.bar(xs,ys)\n",
    "plt.xticks(xs,labels=['NoDenoise','CompCor','DeepCor'])"
   ]
  },
  {
   "cell_type": "code",
   "execution_count": 59,
   "id": "48a50274-091c-42d6-b05b-188ab3878c6d",
   "metadata": {},
   "outputs": [
    {
     "data": {
      "text/plain": [
       "(14, 4, 3)"
      ]
     },
     "execution_count": 59,
     "metadata": {},
     "output_type": "execute_result"
    }
   ],
   "source": [
    "corr_res.shape"
   ]
  },
  {
   "cell_type": "code",
   "execution_count": 60,
   "id": "63d3523c-7696-4cab-9677-46026b4af5be",
   "metadata": {},
   "outputs": [],
   "source": [
    "def pretty_t_test(vec1,vec2,ttl,alternative='two-sided'):\n",
    "    from scipy.stats import ttest_rel\n",
    "    #vec1 = vec_compcor\n",
    "    #vec2 = vec_ffa\n",
    "    #ttl = 'compcor > nodenoise: '\n",
    "    t,p = ttest_rel(np.arctanh(vec1),np.arctanh(vec2),alternative=alternative)\n",
    "    #t,p = ttest_rel(vec1,vec2,alternative=alternative)\n",
    "    degf = len(vec1)-1\n",
    "    diff = vec1.mean()-vec2.mean()\n",
    "\n",
    "    if p < .001:\n",
    "        print(f'{ttl} ΔM={diff:.3f}, t({int(degf)}) = {t:.2f}, p < .001')\n",
    "    else:\n",
    "        print(f'{ttl} ΔM={diff:.3f}, t({int(degf)}) = {t:.2f}, p = {p:.3f}')"
   ]
  },
  {
   "cell_type": "code",
   "execution_count": 61,
   "id": "2f3e6f41-e9a8-485d-95c3-b7c34e08ddc8",
   "metadata": {},
   "outputs": [],
   "source": [
    "np.save(file=f'../Data/{analysis_name}',arr=corr_res)"
   ]
  },
  {
   "cell_type": "code",
   "execution_count": 62,
   "id": "7e8a76c3-2d7b-4cbb-afc7-624c8f099a16",
   "metadata": {},
   "outputs": [],
   "source": [
    "vec_ffa = corr_res.mean(axis=1)[:,0]\n",
    "vec_compcor = corr_res.mean(axis=1)[:,1]\n",
    "vec_deepcor = corr_res.mean(axis=1)[:,2]"
   ]
  },
  {
   "cell_type": "code",
   "execution_count": 63,
   "id": "6c0540e7-9e2d-4f91-b3e5-b16ca8da8f72",
   "metadata": {},
   "outputs": [
    {
     "name": "stdout",
     "output_type": "stream",
     "text": [
      "0.14717861326352108\n",
      "0.1647899671856951\n",
      "0.20271773632444168\n"
     ]
    }
   ],
   "source": [
    "print(vec_ffa.mean())\n",
    "print(vec_compcor.mean())\n",
    "print(vec_deepcor.mean())"
   ]
  },
  {
   "cell_type": "code",
   "execution_count": 82,
   "id": "6a5f8960-77a2-42e1-a4ad-4771d516673a",
   "metadata": {},
   "outputs": [
    {
     "name": "stdout",
     "output_type": "stream",
     "text": [
      "CompCor > NoDenoise:  ΔM=0.018, t(13) = 4.61, p < .001\n",
      "DeepCor > NoDenoise:  ΔM=0.056, t(13) = 4.41, p < .001\n",
      "DeepCor > CompCor:  ΔM=0.038, t(13) = 2.84, p = 0.014\n"
     ]
    }
   ],
   "source": [
    "pretty_t_test(vec_compcor,vec_ffa,'CompCor > NoDenoise: ')\n",
    "pretty_t_test(vec_deepcor,vec_ffa,'DeepCor > NoDenoise: ')\n",
    "pretty_t_test(vec_deepcor,vec_compcor,'DeepCor > CompCor: ')"
   ]
  },
  {
   "cell_type": "code",
   "execution_count": 83,
   "id": "f7157a37-827f-4318-9f79-4546187e61cc",
   "metadata": {},
   "outputs": [
    {
     "name": "stdout",
     "output_type": "stream",
     "text": [
      "0.017611353922174028\n",
      "0.03792776913874657\n",
      "Correlation improvement: 2.15x\n",
      "Correlation improvement: 215%\n"
     ]
    }
   ],
   "source": [
    "d1=vec_compcor.mean()-vec_ffa.mean()\n",
    "d2=vec_deepcor.mean()-vec_compcor.mean()\n",
    "print(d1)\n",
    "print(d2)\n",
    "print(f'Correlation improvement: {d2/d1:.2f}x')\n",
    "print(f'Correlation improvement: {d2/d1*100:.0f}%')"
   ]
  },
  {
   "cell_type": "code",
   "execution_count": 84,
   "id": "2b25cc52-7fcb-4cde-9c78-eba04b173958",
   "metadata": {},
   "outputs": [
    {
     "name": "stdout",
     "output_type": "stream",
     "text": [
      "0.017611353922174028\n",
      "0.0555391230609206\n",
      "Correlation improvement: 2.15x\n",
      "Correlation improvement: 215%\n"
     ]
    }
   ],
   "source": [
    "d1=vec_compcor.mean()-vec_ffa.mean()\n",
    "d2=vec_deepcor.mean()-vec_ffa.mean()\n",
    "print(d1)\n",
    "print(d2)\n",
    "print(f'Correlation improvement: {d2/d1-1:.2f}x')\n",
    "print(f'Correlation improvement: {d2/d1*100-100:.0f}%')"
   ]
  },
  {
   "cell_type": "code",
   "execution_count": null,
   "id": "e3407fa6-548c-4ec1-b627-291109ff98eb",
   "metadata": {},
   "outputs": [],
   "source": []
  },
  {
   "cell_type": "code",
   "execution_count": 85,
   "id": "7c423a53-a21a-4f8d-90e8-203be0958a2b",
   "metadata": {},
   "outputs": [],
   "source": [
    "def plot_scatter(vec1,vec2,xlabel='',ylabel='',title=''):\n",
    "#    plt.figure(figsize=(8, 6))\n",
    "    plt.scatter(vec1, vec2, color='blue', label='Data points',s=150)\n",
    "    f = 20\n",
    "    plt.xticks(fontsize=f)\n",
    "    plt.yticks(fontsize=f)\n",
    "    #plt.xlim(0.0,.35)\n",
    "    #plt.ylim(0.0,.35)\n",
    "\n",
    "    # Adding the parity line (where y = x)\n",
    "    # Determine the limits for the line based on the data range:\n",
    "    min_val = min(np.min(vec1), np.min(vec2))\n",
    "    max_val = max(np.max(vec1), np.max(vec2))\n",
    "    plt.plot([min_val, max_val], [min_val, max_val], color='red', linestyle='--', label='Parity line (y=x)')\n",
    "\n",
    "    # Add labels and title\n",
    "    plt.xlabel(xlabel,fontsize=16,fontweight='bold')\n",
    "    plt.ylabel(ylabel,fontsize=16,fontweight='bold')\n",
    "    #plt.legend()\n",
    "    plt.grid(True)\n",
    "    #plt.show()\n"
   ]
  },
  {
   "cell_type": "code",
   "execution_count": 86,
   "id": "2c8d21ca-efc0-4183-a240-9d725050d0b3",
   "metadata": {},
   "outputs": [
    {
     "data": {
      "image/png": "[encoded data removed]",
      "text/plain": [
       "<Figure size 360x360 with 1 Axes>"
      ]
     },
     "metadata": {
      "needs_background": "light"
     },
     "output_type": "display_data"
    },
    {
     "data": {
      "image/png": "[encoded data removed]",
      "text/plain": [
       "<Figure size 360x360 with 1 Axes>"
      ]
     },
     "metadata": {
      "needs_background": "light"
     },
     "output_type": "display_data"
    },
    {
     "data": {
      "image/png": "[encoded data removed]",
      "text/plain": [
       "<Figure size 360x360 with 1 Axes>"
      ]
     },
     "metadata": {
      "needs_background": "light"
     },
     "output_type": "display_data"
    }
   ],
   "source": [
    "plt.figure(figsize=(5,5))\n",
    "#plt.subplot(1,3,1);\n",
    "plot_scatter(vec_ffa,vec_compcor,xlabel='NoDenoise',ylabel='CompCor',title='')\n",
    "#plt.subplot(1,3,2);\n",
    "plt.figure(figsize=(5,5))\n",
    "plot_scatter(vec_ffa,vec_deepcor,xlabel='NoDenoise',ylabel='DeepCor',title='')\n",
    "#plt.subplot(1,3,3);\n",
    "plt.figure(figsize=(5,5))\n",
    "plot_scatter(vec_compcor,vec_deepcor,xlabel='CompCor',ylabel='DeepCor',title='')"
   ]
  },
  {
   "cell_type": "code",
   "execution_count": 87,
   "id": "a72c728a-2092-4faf-8f14-d32ecce366e1",
   "metadata": {
    "tags": []
   },
   "outputs": [],
   "source": [
    "def pretty_bar_plot(arrs,group_labels,bar_color,title=''):\n",
    "    # Organize data into a list for easy looping\n",
    "    #arrs = [face_preproc_vals, face_compcor_vals, face_signal_vals]\n",
    "    #group_labels = ['Face Preproc', 'Face CompCor', 'Face Signal']\n",
    "\n",
    "    # Calculate means and standard deviations\n",
    "    means = np.array([arr.mean() for arr in arrs])\n",
    "    stds = np.array([arr.std() for arr in arrs])\n",
    "    stds = stds / np.sqrt(len(arrs[0]))\n",
    "    xs = np.arange(len(arrs))  # positions for each bar\n",
    "\n",
    "    # Set the desired color for the bars (change this variable as needed)\n",
    "    #bar_color = 'red'  # e.g., 'red', 'blue', 'green', etc.\n",
    "\n",
    "    # Create the figure with appropriate dimensions for publication\n",
    "    #plt.figure(figsize=(8, 6))\n",
    "\n",
    "    # Plot bars with error bars\n",
    "    bar_container = plt.bar(xs, means, yerr=stds, capsize=5,\n",
    "                            color=bar_color, edgecolor='black', alpha=0.5)\n",
    "\n",
    "    # Increase font sizes and set text bold for clarity in print.\n",
    "    plt.xticks(xs, group_labels, fontsize=16, fontweight='bold')\n",
    "    #plt.xlabel('Processing Type', fontsize=18, fontweight='bold')\n",
    "    plt.ylabel('Corr. with Regressor', fontsize=18, fontweight='bold')\n",
    "    #plt.title('Comparison of Face Processing Methods', fontsize=20, fontweight='bold')\n",
    "    plt.grid(axis='y', linestyle='--', alpha=0.6)\n",
    "\n",
    "    # Optionally, remove top and right borders for a clean aesthetic.\n",
    "    ax = plt.gca()\n",
    "    ax.spines['top'].set_visible(False)\n",
    "    ax.spines['right'].set_visible(False)\n",
    "\n",
    "    # Bold tick labels on the y-axis as well.\n",
    "    for label in ax.get_yticklabels():\n",
    "        label.set_fontsize(16)\n",
    "        label.set_fontweight('bold')\n",
    "\n",
    "    plt.title(title,fontsize=20, fontweight='bold')\n",
    "    plt.tight_layout()\n",
    "    plt.show()"
   ]
  },
  {
   "cell_type": "code",
   "execution_count": 88,
   "id": "7593c39b-db67-4a5d-9729-23b34ab4e419",
   "metadata": {},
   "outputs": [],
   "source": [
    "face_preproc_vals = corr_res.mean(axis=1)[:,0]\n",
    "face_compcor_vals = corr_res.mean(axis=1)[:,1]\n",
    "face_signal_vals = corr_res.mean(axis=1)[:,2]"
   ]
  },
  {
   "cell_type": "code",
   "execution_count": 89,
   "id": "b3a5bcf8-e76b-478d-ba00-88654e82fa5a",
   "metadata": {},
   "outputs": [
    {
     "data": {
      "image/png": "[encoded data removed]",
      "text/plain": [
       "<Figure size 432x576 with 1 Axes>"
      ]
     },
     "metadata": {
      "needs_background": "light"
     },
     "output_type": "display_data"
    }
   ],
   "source": [
    "arrs = [face_preproc_vals,face_compcor_vals,face_signal_vals]\n",
    "group_labels = ['Preproc','CompCor','DeepCor']\n",
    "bar_color = 'teal'\n",
    "plt.figure(figsize=(6,8))\n",
    "pretty_bar_plot(arrs,group_labels,bar_color,title='Correlation w/ Face Reg')"
   ]
  },
  {
   "cell_type": "code",
   "execution_count": 90,
   "id": "67989b19-c7e6-4cb4-beff-029e166a52fb",
   "metadata": {},
   "outputs": [],
   "source": [
    "def get_contrast_val(Y,return_type='contrast'):\n",
    "    from nilearn.glm.first_level import make_first_level_design_matrix\n",
    "\n",
    "    events = pd.read_csv(events_fn_temp.format(sub=subs[s],r=r),delimiter='\\t')\n",
    "\n",
    "    t_r = 2.0 \n",
    "    n_scans = 156  # the acquisition comprises 128 scans\n",
    "    frame_times = (np.arange(n_scans) * t_r)\n",
    "\n",
    "    X1 = make_first_level_design_matrix(frame_times,events,drift_model=\"polynomial\",drift_order=3,hrf_model=\"SPM\") #\n",
    "    \n",
    "    Y = (Y-Y.mean(axis=1)[:,np.newaxis])/Y.std(axis=1)[:,np.newaxis] # Z score values\n",
    "    Y = Y.transpose()\n",
    "    X = X1.values\n",
    "    beta = np.linalg.inv(X.T @ X1) @ X1.T @ Y\n",
    "    beta = beta.T\n",
    "    beta = beta.values\n",
    "\n",
    "    #['body', 'face', 'house', 'object', 'scene', 'scramble', 'drift_1','drift_2', 'drift_3', 'constant']\n",
    "    \n",
    "    #contrast_vector = np.array([2,2,-1,-1,-1,-1,0,0,0,0]) # Faces + Bodies > Rest\n",
    "    contrast_vector = np.array([-1,5,-1,-1,-1,-1,0,0,0,0]) # Faces > Rest\n",
    "    #contrast_vector = np.array([0,4,-1,-1,-1,-1,0,0,0,0]) # Faces > Rest\n",
    "    contrast_values = beta @ contrast_vector\n",
    "    if return_type=='contrast':\n",
    "        return contrast_values.mean()\n",
    "    elif return_type=='betas':\n",
    "        return beta.mean(axis=0)"
   ]
  },
  {
   "cell_type": "code",
   "execution_count": 91,
   "id": "519e561d-ecbc-4c27-9d02-a8b5451f09b0",
   "metadata": {},
   "outputs": [],
   "source": [
    "contrast_res = []\n",
    "for s in range(nsubs):\n",
    "    temp = []\n",
    "    for r in [1,2,3,4]:\n",
    "        vals_ffa,vals_compcor,vals_signals_med,vals_signals,face_reg = get_sub_data(s,r,return_type\n",
    "                                                                                    ='vals')\n",
    "        temp.append([get_contrast_val(val) for val in [vals_ffa,vals_compcor,vals_signals_med]])\n",
    "    contrast_res.append(temp)\n",
    "contrast_res = np.array(contrast_res)"
   ]
  },
  {
   "cell_type": "code",
   "execution_count": 92,
   "id": "5be9744b-561e-4630-81c1-98eaa795d825",
   "metadata": {},
   "outputs": [
    {
     "data": {
      "text/plain": [
       "(14, 4, 3, 10)"
      ]
     },
     "execution_count": 92,
     "metadata": {},
     "output_type": "execute_result"
    }
   ],
   "source": [
    "beta_res = []\n",
    "for s in range(nsubs):\n",
    "    temp = []\n",
    "    for r in [1,2,3,4]:\n",
    "        vals_ffa,vals_compcor,vals_signals_med,vals_signals,face_reg = get_sub_data(s,r,return_type='vals')\n",
    "        temp.append([get_contrast_val(val,return_type='betas') for val in [vals_ffa,vals_compcor,vals_signals_med]])\n",
    "    beta_res.append(temp)\n",
    "beta_res = np.array(beta_res)\n",
    "beta_res.shape"
   ]
  },
  {
   "cell_type": "code",
   "execution_count": 93,
   "id": "cb06df9a-aa60-4164-9fbb-ee4a48fbb922",
   "metadata": {},
   "outputs": [
    {
     "data": {
      "text/plain": [
       "(14, 3, 10)"
      ]
     },
     "execution_count": 93,
     "metadata": {},
     "output_type": "execute_result"
    }
   ],
   "source": [
    "beta_res_avg = beta_res.mean(axis=1)\n",
    "beta_res_avg.shape"
   ]
  },
  {
   "cell_type": "code",
   "execution_count": null,
   "id": "9d601619-ff7a-475e-bfab-0506f7087550",
   "metadata": {},
   "outputs": [],
   "source": []
  },
  {
   "cell_type": "code",
   "execution_count": null,
   "id": "45b8b08a-0917-4230-a919-2ba6e67027ae",
   "metadata": {},
   "outputs": [],
   "source": []
  },
  {
   "cell_type": "code",
   "execution_count": null,
   "id": "24f97170-8710-407a-9c0e-8a9f70610c8b",
   "metadata": {},
   "outputs": [],
   "source": []
  },
  {
   "cell_type": "code",
   "execution_count": 76,
   "id": "db1a6667-389b-4b86-a00b-92ac67846ba6",
   "metadata": {},
   "outputs": [],
   "source": [
    "contrast_res_avg = contrast_res.mean(axis=1)"
   ]
  },
  {
   "cell_type": "code",
   "execution_count": 77,
   "id": "72613028-af84-48df-a377-2eb8821fbaf8",
   "metadata": {},
   "outputs": [
    {
     "data": {
      "image/png": "[encoded data removed]",
      "text/plain": [
       "<Figure size 432x576 with 1 Axes>"
      ]
     },
     "metadata": {
      "needs_background": "light"
     },
     "output_type": "display_data"
    }
   ],
   "source": [
    "arrs = [contrast_res_avg[:,0],contrast_res_avg[:,1],contrast_res_avg[:,2]]\n",
    "group_labels = ['Preproc','CompCor','DeepCor']\n",
    "bar_color = 'orange'\n",
    "plt.figure(figsize=(6,8))\n",
    "pretty_bar_plot(arrs,group_labels,bar_color,title='Contrast Face > Rest')"
   ]
  },
  {
   "cell_type": "code",
   "execution_count": 78,
   "id": "e546d2c7-ce3b-417f-9756-bd206bc5c1a7",
   "metadata": {},
   "outputs": [
    {
     "name": "stdout",
     "output_type": "stream",
     "text": [
      "Contrast: CompCor > NoDenoise:  ΔM=0.142, t(13) = nan, p = nan\n",
      "Contrast: DeepCor > NoDenoise:  ΔM=0.044, t(13) = nan, p = nan\n",
      "Contrast: DeepCor > CompCor:  ΔM=-0.098, t(13) = nan, p = nan\n"
     ]
    },
    {
     "name": "stderr",
     "output_type": "stream",
     "text": [
      "<ipython-input-60-80ae432dc4b9>:6: RuntimeWarning: invalid value encountered in arctanh\n",
      "  t,p = ttest_rel(np.arctanh(vec1),np.arctanh(vec2),alternative=alternative)\n"
     ]
    }
   ],
   "source": [
    "pretty_t_test(contrast_res_avg[:,1],contrast_res_avg[:,0],'Contrast: CompCor > NoDenoise: ')\n",
    "pretty_t_test(contrast_res_avg[:,2],contrast_res_avg[:,0],'Contrast: DeepCor > NoDenoise: ')\n",
    "pretty_t_test(contrast_res_avg[:,2],contrast_res_avg[:,1],'Contrast: DeepCor > CompCor: ')"
   ]
  },
  {
   "cell_type": "code",
   "execution_count": 79,
   "id": "79d31f17-d6cb-4cbf-bb58-82103c3c112f",
   "metadata": {},
   "outputs": [
    {
     "name": "stdout",
     "output_type": "stream",
     "text": [
      "0.14241075561048655\n",
      "-0.09795909650194612\n"
     ]
    }
   ],
   "source": [
    "d1=contrast_res_avg[:,1].mean()-contrast_res_avg[:,0].mean()\n",
    "d2=contrast_res_avg[:,2].mean()-contrast_res_avg[:,1].mean()\n",
    "print(d1)\n",
    "print(d2)"
   ]
  },
  {
   "cell_type": "code",
   "execution_count": 80,
   "id": "3dfafad2-7d8f-46d2-92e3-a57f3dba0fe4",
   "metadata": {},
   "outputs": [
    {
     "name": "stdout",
     "output_type": "stream",
     "text": [
      "Face selectivity improvement: -0.69x\n"
     ]
    }
   ],
   "source": [
    "print(f'Face selectivity improvement: {d2/d1:.2f}x')"
   ]
  },
  {
   "cell_type": "code",
   "execution_count": null,
   "id": "6b4cf1f7-5775-48ab-8531-09d2fc7d9f64",
   "metadata": {},
   "outputs": [],
   "source": []
  },
  {
   "cell_type": "code",
   "execution_count": null,
   "id": "c166c389-ed70-4333-b59d-b30a3a3cc03e",
   "metadata": {},
   "outputs": [],
   "source": []
  },
  {
   "cell_type": "code",
   "execution_count": null,
   "id": "5e42fd45-bc41-4a0e-93e5-bc1c2223153b",
   "metadata": {},
   "outputs": [],
   "source": []
  },
  {
   "cell_type": "code",
   "execution_count": null,
   "id": "65ab3aca-5540-4a65-946c-53da1dbe32e6",
   "metadata": {},
   "outputs": [],
   "source": []
  },
  {
   "cell_type": "code",
   "execution_count": 81,
   "id": "4df87e15-6cf1-451d-b03f-5e5e3f759499",
   "metadata": {},
   "outputs": [
    {
     "data": {
      "image/png": "[encoded data removed]",
      "text/plain": [
       "<Figure size 720x432 with 1 Axes>"
      ]
     },
     "metadata": {
      "needs_background": "light"
     },
     "output_type": "display_data"
    }
   ],
   "source": [
    "import numpy as np\n",
    "import matplotlib.pyplot as plt\n",
    "\n",
    "# replace with your actual (14, 3, 10) array\n",
    "input_arr = beta_res_avg\n",
    "\n",
    "# mean over the first axis → shape (3, 10)\n",
    "mean_vals = input_arr.mean(axis=0)\n",
    "\n",
    "# labels\n",
    "categories = ['Preproc', 'CompCor', 'DeepCor']\n",
    "groups     = ['body', 'face', 'house', 'object', 'scene',\n",
    "              'scramble', 'drift_1', 'drift_2', 'drift_3', 'constant']\n",
    "\n",
    "mean_vals = mean_vals[:,0:6]\n",
    "groups = groups[0:6]\n",
    "\n",
    "n_groups, n_methods = len(groups), len(categories)\n",
    "x = np.arange(n_groups)           # the label locations\n",
    "width = 0.8 / n_methods           # total width of each group divided by # methods\n",
    "\n",
    "fig, ax = plt.subplots(figsize=(10, 6))\n",
    "\n",
    "# plot each method shifted by its index\n",
    "for i, (cat, vals) in enumerate(zip(categories, mean_vals)):\n",
    "    ax.bar(x + (i - (n_methods-1)/2) * width, vals, width, label=cat)\n",
    "\n",
    "# formatting\n",
    "ax.set_xticks(x)\n",
    "ax.set_xticklabels(groups, rotation=45, ha='right')\n",
    "ax.set_ylabel('Beta values (FFA)')\n",
    "ax.set_title('Beta estimates')\n",
    "ax.legend(title='Method')\n",
    "\n",
    "plt.tight_layout()\n",
    "plt.show()"
   ]
  },
  {
   "cell_type": "code",
   "execution_count": null,
   "id": "69c3fcd3-9bc3-40cf-ac2a-0df56b0650fe",
   "metadata": {},
   "outputs": [],
   "source": []
  },
  {
   "cell_type": "code",
   "execution_count": null,
   "id": "38f25905-401c-41f7-9e10-a147f4889382",
   "metadata": {},
   "outputs": [],
   "source": []
  },
  {
   "cell_type": "code",
   "execution_count": null,
   "id": "31f2521f-6b31-46fc-a99c-0f8a8bd45520",
   "metadata": {},
   "outputs": [],
   "source": []
  },
  {
   "cell_type": "code",
   "execution_count": null,
   "id": "dc800a83-2eb0-4579-98a5-5c7f4c84c549",
   "metadata": {},
   "outputs": [],
   "source": []
  },
  {
   "cell_type": "code",
   "execution_count": null,
   "id": "a4f02e0b-c284-4e83-85f4-93d4884521a4",
   "metadata": {},
   "outputs": [],
   "source": []
  },
  {
   "cell_type": "code",
   "execution_count": null,
   "id": "3d0bf492-24ab-4a91-af2d-3dbf267e640d",
   "metadata": {},
   "outputs": [],
   "source": []
  },
  {
   "cell_type": "code",
   "execution_count": null,
   "id": "3dfa3040-84f0-43ec-9bef-7793c4a11b65",
   "metadata": {},
   "outputs": [],
   "source": []
  },
  {
   "cell_type": "code",
   "execution_count": 38,
   "id": "5c2b3398-7d2b-432d-a6d6-d3825833fce0",
   "metadata": {},
   "outputs": [],
   "source": [
    "import numpy as np\n",
    "import matplotlib.pyplot as plt\n",
    "\n",
    "def pretty_bar_plot(\n",
    "    means=[4.2, 5.0, 8.9],\n",
    "    sems=[0.9, 1.0, 1.3],\n",
    "    bar_colors=['#003f5c', '#003f5c', '#00bcd4'],\n",
    "    bar_edge_thickness=2.5,\n",
    "    errorbar_thickness=3.5,\n",
    "    tick_fontsize=20,\n",
    "    tick_fontweight='bold',\n",
    "    label_fontsize=22,\n",
    "    y_max=None,\n",
    "    significance_bars=[((0, 1), '*'), ((0, 2), '*'), ((1, 2), '*')],\n",
    "    x_labels=['None', 'CompCor', 'DeepCor'],\n",
    "    bar_spacing=1.2\n",
    "):\n",
    "    \"\"\"\n",
    "    Generate a high-quality bar plot with large fonts, thick lines, and spaced bars.\n",
    "\n",
    "    Parameters:\n",
    "        means, sems: List of means and standard errors.\n",
    "        bar_colors: List of bar fill colors.\n",
    "        bar_edge_thickness: Thickness of bar outline.\n",
    "        errorbar_thickness: Thickness of error bars.\n",
    "        tick_fontsize, tick_fontweight: Tick label styling.\n",
    "        label_fontsize: Font size for axis labels.\n",
    "        y_max: Optional y-axis limit.\n",
    "        significance_bars: List of tuples ((bar1, bar2), marker).\n",
    "        x_labels: Labels for each bar.\n",
    "        bar_spacing: Distance between bars (default = 1.2).\n",
    "    \"\"\"\n",
    "    n_bars = len(means)\n",
    "    xs = np.arange(n_bars) * bar_spacing\n",
    "\n",
    "    fig, ax = plt.subplots(figsize=(7, 9))\n",
    "\n",
    "    # Bar plot with error bars\n",
    "    ax.bar(xs, means, yerr=sems, capsize=10,\n",
    "           color=bar_colors,\n",
    "           edgecolor='black',\n",
    "           linewidth=bar_edge_thickness,\n",
    "           ecolor='black',\n",
    "           error_kw=dict(linewidth=errorbar_thickness),\n",
    "           zorder=2)\n",
    "\n",
    "    # Axes and tick formatting\n",
    "    ax.set_xticks(xs)\n",
    "    ax.set_xticklabels(x_labels, fontsize=tick_fontsize, fontweight=tick_fontweight)\n",
    "    ax.set_ylabel('Value', fontsize=label_fontsize, fontweight='bold')\n",
    "    ax.tick_params(axis='y', labelsize=tick_fontsize)\n",
    "    for label in ax.get_yticklabels():\n",
    "        label.set_fontweight(tick_fontweight)\n",
    "\n",
    "    # Axis limit\n",
    "    if y_max is None:\n",
    "        y_max = max([m + s for m, s in zip(means, sems)]) + 3\n",
    "    #ax.set_ylim(0, y_max)\n",
    "\n",
    "    # Grid and frame aesthetics\n",
    "    ax.yaxis.grid(True, linestyle='--', linewidth=1.5, alpha=0.4, zorder=1)\n",
    "    for side in ['top', 'right']:\n",
    "        ax.spines[side].set_visible(False)\n",
    "    ax.spines['left'].set_linewidth(2)\n",
    "    ax.spines['bottom'].set_linewidth(2)\n",
    "\n",
    "    # Significance markers\n",
    "#     line_height = max([m + s for m, s in zip(means, sems)]) + 1\n",
    "#     offset = 0.6  # vertical gap between significance bars\n",
    "#     for i, ((x1_idx, x2_idx), marker) in enumerate(significance_bars):\n",
    "#         x1, x2 = xs[x1_idx], xs[x2_idx]\n",
    "#         y = line_height + i * offset\n",
    "#         h = 0.3\n",
    "#         ax.plot([x1, x1, x2, x2], [y, y + h, y + h, y], color='black', lw=2.5)\n",
    "#         ax.text((x1 + x2) / 2, y + h + 0.1, marker,\n",
    "#                 ha='center', va='bottom',\n",
    "#                 fontsize=24, fontweight='bold', color='black')\n",
    "\n",
    "    plt.tight_layout()\n",
    "    plt.show()"
   ]
  },
  {
   "cell_type": "code",
   "execution_count": 39,
   "id": "e4d43d06-3040-4b06-aef7-7cda251ed256",
   "metadata": {},
   "outputs": [],
   "source": [
    "arrs = [vec_ffa,vec_compcor,vec_deepcor]"
   ]
  },
  {
   "cell_type": "code",
   "execution_count": 40,
   "id": "ae268689-8332-4f13-975a-c36e253dc9e7",
   "metadata": {},
   "outputs": [],
   "source": [
    "means = [arrs[0].mean(),arrs[1].mean(),arrs[2].mean()]\n",
    "sems =[arrs[0].std(),arrs[1].std(),arrs[2].std()]\n",
    "sems = np.array(sems) / np.sqrt(nsubs)"
   ]
  },
  {
   "cell_type": "code",
   "execution_count": 41,
   "id": "0d7ef41d-9687-47cf-a17c-e3eb91f59192",
   "metadata": {},
   "outputs": [
    {
     "data": {
      "image/png": "[encoded data removed]",
      "text/plain": [
       "<Figure size 504x648 with 1 Axes>"
      ]
     },
     "metadata": {
      "needs_background": "light"
     },
     "output_type": "display_data"
    }
   ],
   "source": [
    "pretty_bar_plot(means,sems,\n",
    "    significance_bars=[\n",
    "        ((0, 1), '*'),  # B > A\n",
    "        ((0, 2), '*'),  # C > A\n",
    "        ((1, 2), '*')   # C > B\n",
    "    ]\n",
    ")"
   ]
  },
  {
   "cell_type": "code",
   "execution_count": null,
   "id": "06e971c7-bc8d-452c-9b21-930c07c38007",
   "metadata": {},
   "outputs": [],
   "source": []
  },
  {
   "cell_type": "code",
   "execution_count": null,
   "id": "7f7a41cf-5c32-4a00-8b81-768864f7ea7c",
   "metadata": {},
   "outputs": [],
   "source": []
  },
  {
   "cell_type": "code",
   "execution_count": null,
   "id": "c89f48c3-1cd0-475b-8a12-ff18773bd27d",
   "metadata": {},
   "outputs": [],
   "source": []
  },
  {
   "cell_type": "code",
   "execution_count": 42,
   "id": "e66f2354-db3a-4081-a5dd-3dd18afe2968",
   "metadata": {},
   "outputs": [],
   "source": [
    "def correlate_columns(arr1, arr2):\n",
    "    \"\"\"\n",
    "    Computes the Pearson correlation between corresponding columns of two matrices.\n",
    "    \n",
    "    Parameters:\n",
    "    arr1 (np.ndarray): First matrix of shape (370, 1000)\n",
    "    arr2 (np.ndarray): Second matrix of shape (370, 1000)\n",
    "    \n",
    "    Returns:\n",
    "    np.ndarray: 1D array of correlations for each column (size 1000)\n",
    "    \"\"\"\n",
    "    # Ensure input arrays are numpy arrays\n",
    "    arr1 = np.asarray(arr1)\n",
    "    arr2 = np.asarray(arr2)\n",
    "    \n",
    "    # Subtract the mean of each column (normalize)\n",
    "    arr1_centered = arr1 - np.mean(arr1, axis=0)\n",
    "    arr2_centered = arr2 - np.mean(arr2, axis=0)\n",
    "    \n",
    "    # Compute the numerator (covariance)\n",
    "    numerator = np.sum(arr1_centered * arr2_centered, axis=0)\n",
    "    \n",
    "    # Compute the denominator (product of standard deviations)\n",
    "    denominator = np.sqrt(np.sum(arr1_centered**2, axis=0) * np.sum(arr2_centered**2, axis=0))\n",
    "    \n",
    "    # Compute the Pearson correlation for each column\n",
    "    correlation = numerator / denominator\n",
    "    \n",
    "    return correlation"
   ]
  },
  {
   "cell_type": "code",
   "execution_count": 43,
   "id": "9f5f6c30-72e3-41a4-bdf0-651708b885cd",
   "metadata": {},
   "outputs": [
    {
     "name": "stderr",
     "output_type": "stream",
     "text": [
      "100%|██████████| 14/14 [00:04<00:00,  3.48it/s]\n"
     ]
    }
   ],
   "source": [
    "col_c_ffa = []\n",
    "col_c_compcor = []\n",
    "col_c_deepcor = []\n",
    "col_vals_ffa = []\n",
    "col_vals_compcor = []\n",
    "col_vals_deepcor = []\n",
    "for s in tqdm(range(nsubs)):\n",
    "    for r in [1,2,3,4]:\n",
    "        vals_ffa,vals_compcor,vals_signals_med,vals_signals,face_reg = get_sub_data(s,r,return_type='vals')\n",
    "        c_ffa = correlate_columns(vals_ffa.transpose(),np.array([face_reg for _ in range(vals_ffa.shape[0])]).transpose())\n",
    "        c_compcor = correlate_columns(vals_compcor.transpose(),np.array([face_reg for _ in range(vals_ffa.shape[0])]).transpose())\n",
    "        c_deepcor = correlate_columns(vals_signals_med.transpose(),np.array([face_reg for _ in range(vals_ffa.shape[0])]).transpose())\n",
    "\n",
    "        col_c_ffa.append(c_ffa)\n",
    "        col_c_compcor.append(c_compcor)\n",
    "        col_c_deepcor.append(c_deepcor)\n",
    "        col_vals_ffa.append(vals_ffa)\n",
    "        col_vals_compcor.append(vals_compcor)\n",
    "        col_vals_deepcor.append(vals_signals_med)\n",
    "        \n",
    "col_c_ffa = np.hstack(col_c_ffa)\n",
    "col_c_compcor = np.hstack(col_c_compcor)\n",
    "col_c_deepcor = np.hstack(col_c_deepcor)\n",
    "col_vals_ffa = np.concatenate(col_vals_ffa,axis=0)\n",
    "col_vals_compcor = np.concatenate(col_vals_compcor,axis=0)\n",
    "col_vals_deepcor = np.concatenate(col_vals_deepcor,axis=0)"
   ]
  },
  {
   "cell_type": "code",
   "execution_count": 44,
   "id": "0b2073b4-2616-41cf-a3d5-508f429028c6",
   "metadata": {},
   "outputs": [],
   "source": [
    "diff=col_c_deepcor"
   ]
  },
  {
   "cell_type": "code",
   "execution_count": 45,
   "id": "9f596531-7789-4a7d-9410-2626e485ff98",
   "metadata": {},
   "outputs": [
    {
     "data": {
      "text/plain": [
       "(4416,)"
      ]
     },
     "execution_count": 45,
     "metadata": {},
     "output_type": "execute_result"
    }
   ],
   "source": [
    "diff.shape"
   ]
  },
  {
   "cell_type": "code",
   "execution_count": 46,
   "id": "e4379b0f-c1f6-45c7-bd43-480b7d9aa441",
   "metadata": {},
   "outputs": [],
   "source": [
    "I = np.argsort(diff)[::-1]"
   ]
  },
  {
   "cell_type": "code",
   "execution_count": null,
   "id": "2f458022-f126-41be-9a02-a69e0904a491",
   "metadata": {},
   "outputs": [],
   "source": []
  },
  {
   "cell_type": "code",
   "execution_count": 47,
   "id": "e8120629-8578-4669-8fd8-3e8885de9f21",
   "metadata": {},
   "outputs": [],
   "source": [
    "# for i. in\n",
    "# for arr in [col_vals_ffa[i,:],col_vals_compcor[i,:],col_vals_deepcor[i,:]]:\n",
    "#     plt.figure(figsize=(10,5))\n",
    "#     plt.plot(arr,linewidth=3)\n",
    "#     plt.plot(face_reg,linewidth=3)\n",
    "#     plt.xticks(fontsize=20);\n",
    "#     plt.yticks(fontsize=20);\n",
    "#     plt.ylim(-3,4)"
   ]
  },
  {
   "cell_type": "code",
   "execution_count": null,
   "id": "eda560e1-93c0-42db-95bc-92f8569f5ff2",
   "metadata": {},
   "outputs": [],
   "source": []
  },
  {
   "cell_type": "code",
   "execution_count": 48,
   "id": "193bba84-2f3e-429f-ad7a-a668932269a9",
   "metadata": {},
   "outputs": [
    {
     "data": {
      "image/png": "[encoded data removed]",
      "text/plain": [
       "<Figure size 720x360 with 1 Axes>"
      ]
     },
     "metadata": {
      "needs_background": "light"
     },
     "output_type": "display_data"
    },
    {
     "data": {
      "image/png": "[encoded data removed]",
      "text/plain": [
       "<Figure size 720x360 with 1 Axes>"
      ]
     },
     "metadata": {
      "needs_background": "light"
     },
     "output_type": "display_data"
    },
    {
     "data": {
      "image/png": "[encoded data removed]",
      "text/plain": [
       "<Figure size 720x360 with 1 Axes>"
      ]
     },
     "metadata": {
      "needs_background": "light"
     },
     "output_type": "display_data"
    }
   ],
   "source": [
    "i = I[10]\n",
    "for arr in [col_vals_ffa[i,:],col_vals_compcor[i,:],col_vals_deepcor[i,:]]:\n",
    "    plt.figure(figsize=(10,5))\n",
    "    plt.plot(arr,linewidth=3)\n",
    "    plt.plot(face_reg,linewidth=3)\n",
    "    plt.xticks(fontsize=20);\n",
    "    plt.yticks(fontsize=20);\n",
    "    plt.ylim(-3,4)"
   ]
  },
  {
   "cell_type": "code",
   "execution_count": null,
   "id": "95b94eaa-06b1-40c5-8d7c-769d574ddf57",
   "metadata": {},
   "outputs": [],
   "source": []
  },
  {
   "cell_type": "code",
   "execution_count": null,
   "id": "90d9b4b5-8211-406e-b474-6df078099b56",
   "metadata": {},
   "outputs": [],
   "source": []
  },
  {
   "cell_type": "code",
   "execution_count": 49,
   "id": "4c675cca-6f86-4c46-9f10-18e6466a05cc",
   "metadata": {},
   "outputs": [],
   "source": [
    "#np.argwhere(np.array(body_reg)>.001)"
   ]
  },
  {
   "cell_type": "code",
   "execution_count": null,
   "id": "2bec6c5c-d094-4786-850c-adfd1d127389",
   "metadata": {},
   "outputs": [],
   "source": []
  },
  {
   "cell_type": "code",
   "execution_count": null,
   "id": "d9eb9fc1-cbaf-439c-b414-97b7163d93ce",
   "metadata": {},
   "outputs": [],
   "source": []
  },
  {
   "cell_type": "code",
   "execution_count": null,
   "id": "c8bebcf7-72b0-431c-93a1-16e1c219f075",
   "metadata": {},
   "outputs": [],
   "source": []
  },
  {
   "cell_type": "code",
   "execution_count": 50,
   "id": "5edaed43-41ab-4b93-8051-cfc68d296517",
   "metadata": {
    "jupyter": {
     "source_hidden": true
    },
    "tags": []
   },
   "outputs": [],
   "source": [
    "face_reg = [0.0,\n",
    " 0.0,\n",
    " 0.0,\n",
    " 0.0,\n",
    " 0.0,\n",
    " 0.0,\n",
    " 2.2376563570021928e-38,\n",
    " 0.01913035198215261,\n",
    " 0.2551052154855983,\n",
    " 0.6628580671786313,\n",
    " 0.9680486516695602,\n",
    " 1.1097390459193301,\n",
    " 1.1447132947352492,\n",
    " 1.1274394230021638,\n",
    " 1.0917648905972168,\n",
    " 1.0377679087359346,\n",
    " 0.7759961551030653,\n",
    " 0.3523588261787805,\n",
    " 0.03868007611840972,\n",
    " -0.1070496808264999,\n",
    " -0.143767707381592,\n",
    " -0.12718642827190266,\n",
    " -0.09176489059721683,\n",
    " -0.05689826071808708,\n",
    " -0.031101370588663503,\n",
    " -0.015216893357411802,\n",
    " -0.006728727787969841,\n",
    " -0.002689365092830116,\n",
    " -0.000945587353657215,\n",
    " -0.0002529947302610424,\n",
    " 0.0,\n",
    " 0.0,\n",
    " 0.0,\n",
    " 0.0,\n",
    " 0.0,\n",
    " 0.0,\n",
    " 0.0,\n",
    " 0.0,\n",
    " 0.0,\n",
    " 0.0,\n",
    " 0.0,\n",
    " 0.0,\n",
    " 0.0,\n",
    " 0.0,\n",
    " 0.0,\n",
    " 0.0,\n",
    " 0.0,\n",
    " 0.0,\n",
    " 0.0,\n",
    " 0.0,\n",
    " 0.0,\n",
    " 0.0,\n",
    " 0.0,\n",
    " 0.0,\n",
    " 0.0,\n",
    " 0.0,\n",
    " 0.0,\n",
    " 0.0,\n",
    " 0.0,\n",
    " 0.0,\n",
    " 0.0,\n",
    " 0.0,\n",
    " 0.0,\n",
    " 0.0,\n",
    " 0.0,\n",
    " 0.0,\n",
    " 0.0,\n",
    " 0.0,\n",
    " 0.0,\n",
    " 0.0,\n",
    " 0.0,\n",
    " 0.0,\n",
    " 0.0,\n",
    " 0.0,\n",
    " 0.0,\n",
    " 0.0,\n",
    " 0.0,\n",
    " 0.0,\n",
    " 0.0,\n",
    " 0.0,\n",
    " 0.0,\n",
    " 0.0,\n",
    " 0.0,\n",
    " 0.0,\n",
    " 0.0,\n",
    " 0.0,\n",
    " 0.0,\n",
    " 0.0,\n",
    " 0.0,\n",
    " 0.0,\n",
    " 0.0,\n",
    " 0.0,\n",
    " 0.0,\n",
    " 0.0,\n",
    " 0.0,\n",
    " 0.0,\n",
    " 0.0,\n",
    " 0.0,\n",
    " 0.0,\n",
    " 0.0,\n",
    " 0.0,\n",
    " 0.0,\n",
    " 0.0,\n",
    " 0.0,\n",
    " 0.0,\n",
    " 0.0,\n",
    " 0.0,\n",
    " 0.0,\n",
    " 0.0,\n",
    " 0.0,\n",
    " 0.0,\n",
    " 0.0,\n",
    " 0.0,\n",
    " 0.0,\n",
    " 8.950625428010361e-38,\n",
    " 0.01913035198215354,\n",
    " 0.2551052154856023,\n",
    " 0.6628580671786409,\n",
    " 0.9680486516695656,\n",
    " 1.1097390459193321,\n",
    " 1.1447132947352492,\n",
    " 1.127439423002163,\n",
    " 1.091764890597216,\n",
    " 1.0377679087359317,\n",
    " 0.7759961551030554,\n",
    " 0.3523588261787706,\n",
    " 0.03868007611840421,\n",
    " -0.10704968082650188,\n",
    " -0.14376770738159206,\n",
    " -0.12718642827190202,\n",
    " -0.09176489059721603,\n",
    " -0.05689826071808643,\n",
    " -0.031101370588663066,\n",
    " -0.015216893357411554,\n",
    " -0.006728727787969718,\n",
    " -0.0026893650928300605,\n",
    " -0.0009455873536571923,\n",
    " -0.00025299473026103376,\n",
    " 0.0,\n",
    " 0.0,\n",
    " 0.0,\n",
    " 0.0,\n",
    " 0.0,\n",
    " 0.0,\n",
    " 0.0,\n",
    " 0.0,\n",
    " 0.0,\n",
    " 0.0,\n",
    " 0.0,\n",
    " 0.0,\n",
    " 0.0,\n",
    " 0.0,\n",
    " 0.0,\n",
    " 0.0,\n",
    " 0.0,\n",
    " 0.0]\n",
    "\n",
    "body_reg = [0.0,\n",
    " 0.0,\n",
    " 0.0,\n",
    " 0.0,\n",
    " 0.0,\n",
    " 0.0,\n",
    " 0.0,\n",
    " 0.0,\n",
    " 0.0,\n",
    " 0.0,\n",
    " 0.0,\n",
    " 0.0,\n",
    " 0.0,\n",
    " 0.0,\n",
    " 0.0,\n",
    " 0.0,\n",
    " 0.0,\n",
    " 0.0,\n",
    " 0.0,\n",
    " 0.0,\n",
    " 0.0,\n",
    " 0.0,\n",
    " 0.0,\n",
    " 0.0,\n",
    " 0.0,\n",
    " 0.0,\n",
    " 0.0,\n",
    " 0.0,\n",
    " 0.0,\n",
    " 0.0,\n",
    " 4.4753127140035906e-38,\n",
    " 0.01913035198215292,\n",
    " 0.2551052154855996,\n",
    " 0.6628580671786327,\n",
    " 0.968048651669561,\n",
    " 1.1097390459193304,\n",
    " 1.1447132947352492,\n",
    " 1.1274394230021636,\n",
    " 1.0917648905972168,\n",
    " 1.0377679087359342,\n",
    " 0.775996155103064,\n",
    " 0.35235882617877906,\n",
    " 0.03868007611840893,\n",
    " -0.10704968082650018,\n",
    " -0.14376770738159203,\n",
    " -0.12718642827190266,\n",
    " -0.09176489059721683,\n",
    " -0.05689826071808708,\n",
    " -0.031101370588663503,\n",
    " -0.015216893357411802,\n",
    " -0.006728727787969841,\n",
    " -0.002689365092830116,\n",
    " -0.000945587353657215,\n",
    " -0.0002529947302610395,\n",
    " 0.0,\n",
    " 0.0,\n",
    " 0.0,\n",
    " 0.0,\n",
    " 0.0,\n",
    " 0.0,\n",
    " 0.0,\n",
    " 0.0,\n",
    " 0.0,\n",
    " 0.0,\n",
    " 0.0,\n",
    " 0.0,\n",
    " 0.0,\n",
    " 0.0,\n",
    " 0.0,\n",
    " 0.0,\n",
    " 0.0,\n",
    " 0.0,\n",
    " 0.0,\n",
    " 0.0,\n",
    " 0.0,\n",
    " 0.0,\n",
    " 0.0,\n",
    " 0.0,\n",
    " 0.0,\n",
    " 0.0,\n",
    " 0.0,\n",
    " 0.0,\n",
    " 0.0,\n",
    " 0.0,\n",
    " 0.0,\n",
    " 0.0,\n",
    " 0.0,\n",
    " 0.0,\n",
    " 0.0,\n",
    " 0.0,\n",
    " 8.950625428010361e-38,\n",
    " 0.01913035198215354,\n",
    " 0.2551052154856023,\n",
    " 0.6628580671786354,\n",
    " 0.9680486516695626,\n",
    " 1.109739045919331,\n",
    " 1.1447132947352492,\n",
    " 1.1274394230021634,\n",
    " 1.0917648905972166,\n",
    " 1.0377679087359333,\n",
    " 0.7759961551030611,\n",
    " 0.35235882617877623,\n",
    " 0.038680076118407354,\n",
    " -0.10704968082650075,\n",
    " -0.14376770738159203,\n",
    " -0.12718642827190244,\n",
    " -0.09176489059721657,\n",
    " -0.05689826071808687,\n",
    " -0.031101370588663357,\n",
    " -0.015216893357411719,\n",
    " -0.006728727787969799,\n",
    " -0.0026893650928300973,\n",
    " -0.0009455873536572075,\n",
    " -0.0002529947302610395,\n",
    " 0.0,\n",
    " 0.0,\n",
    " 0.0,\n",
    " 0.0,\n",
    " 0.0,\n",
    " 0.0,\n",
    " 0.0,\n",
    " 0.0,\n",
    " 0.0,\n",
    " 0.0,\n",
    " 0.0,\n",
    " 0.0,\n",
    " 0.0,\n",
    " 0.0,\n",
    " 0.0,\n",
    " 0.0,\n",
    " 0.0,\n",
    " 0.0,\n",
    " 0.0,\n",
    " 0.0,\n",
    " 0.0,\n",
    " 0.0,\n",
    " 0.0,\n",
    " 0.0,\n",
    " 0.0,\n",
    " 0.0,\n",
    " 0.0,\n",
    " 0.0,\n",
    " 0.0,\n",
    " 0.0,\n",
    " 0.0,\n",
    " 0.0,\n",
    " 0.0,\n",
    " 0.0,\n",
    " 0.0,\n",
    " 0.0,\n",
    " 0.0,\n",
    " 0.0,\n",
    " 0.0,\n",
    " 0.0,\n",
    " 0.0,\n",
    " 0.0]"
   ]
  },
  {
   "cell_type": "code",
   "execution_count": null,
   "id": "59af2038-b8fe-4ce0-b75b-12a305d4702e",
   "metadata": {},
   "outputs": [],
   "source": []
  }
 ],
 "metadata": {
  "kernelspec": {
   "display_name": "Python 3",
   "language": "python",
   "name": "python3"
  },
  "language_info": {
   "codemirror_mode": {
    "name": "ipython",
    "version": 3
   },
   "file_extension": ".py",
   "mimetype": "text/x-python",
   "name": "python",
   "nbconvert_exporter": "python",
   "pygments_lexer": "ipython3",
   "version": "3.8.8"
  }
 },
 "nbformat": 4,
 "nbformat_minor": 5
}
