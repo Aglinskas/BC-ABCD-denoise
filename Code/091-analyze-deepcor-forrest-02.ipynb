{
 "cells": [
  {
   "cell_type": "code",
   "execution_count": 130,
   "id": "f6ab9dff-d773-49cb-912a-6ae6504e3126",
   "metadata": {},
   "outputs": [
    {
     "name": "stdout",
     "output_type": "stream",
     "text": [
      "Wed Apr 16 05:03:56 PM EDT 2025\n"
     ]
    }
   ],
   "source": [
    "!date"
   ]
  },
  {
   "cell_type": "code",
   "execution_count": 131,
   "id": "75d54a12-4725-4338-b580-2301a89dcd0f",
   "metadata": {},
   "outputs": [
    {
     "data": {
      "text/plain": [
       "'/projects/sccn/andromeda1/aglinska/BC-ABCD-denoise/Code'"
      ]
     },
     "execution_count": 131,
     "metadata": {},
     "output_type": "execute_result"
    }
   ],
   "source": [
    "pwd"
   ]
  },
  {
   "cell_type": "code",
   "execution_count": 132,
   "id": "14796ecd-3ebc-4123-a466-40c785910f21",
   "metadata": {},
   "outputs": [],
   "source": [
    "import os\n",
    "import numpy as np\n",
    "import pandas as pd\n",
    "import ants\n",
    "from matplotlib import pyplot as plt\n",
    "import pickle\n",
    "from tqdm import tqdm"
   ]
  },
  {
   "cell_type": "code",
   "execution_count": 133,
   "id": "43086ba9-8407-4dfd-94e3-05bc81f9a440",
   "metadata": {},
   "outputs": [],
   "source": [
    "def load_pickle(fn):\n",
    "    if os.path.exists(fn):\n",
    "        with open(fn, 'rb') as file:\n",
    "            loaded_dict = pickle.load(file)\n",
    "    return loaded_dict"
   ]
  },
  {
   "cell_type": "code",
   "execution_count": 134,
   "id": "99c40165-e7b3-45bd-9f7d-2cf0318d9d47",
   "metadata": {},
   "outputs": [
    {
     "data": {
      "text/plain": [
       "14"
      ]
     },
     "execution_count": 134,
     "metadata": {},
     "output_type": "execute_result"
    }
   ],
   "source": [
    "indir = '../Data/StudyForrest/fmriprep/'\n",
    "subs = [s for s in os.listdir(indir) if all((s.startswith('sub'),not s.endswith('.html')))]\n",
    "n = len(subs)\n",
    "n = 14\n",
    "n"
   ]
  },
  {
   "cell_type": "code",
   "execution_count": 135,
   "id": "bdb8cb06-58ec-4d7e-b99e-e505a970320d",
   "metadata": {},
   "outputs": [
    {
     "data": {
      "text/plain": [
       "['.ipynb_checkpoints',\n",
       " 'DeepCor-ABCD-v1',\n",
       " 'DeepCor-ABCD-v2',\n",
       " 'DeepCor-ABCD-v3',\n",
       " 'DeepCor-Forrest-ablations-00-baseline',\n",
       " 'DeepCor-Forrest-ablations-01-nosummation',\n",
       " 'DeepCor-Forrest-ablations-02-noAdvRemoval',\n",
       " 'DeepCor-Forrest-ablations-03-noNCC',\n",
       " 'DeepCor-Forrest-ablations-03-noTC',\n",
       " 'DeepCor-Forrest-ablations-04-noCoords',\n",
       " 'DeepCor-Forrest-ablations-06-noAll',\n",
       " 'DeepCor-Forrest-ablations-06-noAll-v2',\n",
       " 'DeepCor-Forrest-face-v1',\n",
       " 'YuOrig-00-DataloaderFix',\n",
       " 'YuOrig-00-orig',\n",
       " 'slurm_files',\n",
       " 'test',\n",
       " 'test-lin']"
      ]
     },
     "execution_count": 135,
     "metadata": {},
     "output_type": "execute_result"
    }
   ],
   "source": [
    "a = os.listdir('../Data/StudyForrest/ensembles_last_CVAE/')\n",
    "a.sort()\n",
    "a"
   ]
  },
  {
   "cell_type": "code",
   "execution_count": 413,
   "id": "63635acd-31ce-432a-a84d-e4f39e5e2e57",
   "metadata": {},
   "outputs": [],
   "source": [
    "analysis_name = 'DeepCor-Forrest-face-v1'\n",
    "#analysis_name = 'DeepCor-ABCD-v1'\n",
    "#analysis_name = 'DeepCor-Forrest-ablations-06-noAll'\n",
    "#analysis_name = 'DeepCor-Forrest-ablations-06-noAll-v2'\n",
    "#analysis_name = 'YuOrig-00-orig'\n",
    "#analysis_name = 'DeepCor-Forrest-ablations-00-baseline'\n",
    "analysis_name = 'DeepCor-Forrest-ablations-06-noAll-v2'\n",
    "analysis_dir = os.path.join('../Data/StudyForrest/ensembles_last_CVAE/',analysis_name)"
   ]
  },
  {
   "cell_type": "code",
   "execution_count": 414,
   "id": "81731922-fdf5-4ab1-aa13-e2733c1eb26c",
   "metadata": {},
   "outputs": [],
   "source": [
    "#dict_keys(['recon', 'recon_coords', 'signal', 'signal_coords', 'noise', 'noise_coords', 'ffa', 'ffa_coords', 'ffa_compcorr', 'face_reg', 'place_reg', 'confounds'])"
   ]
  },
  {
   "cell_type": "code",
   "execution_count": 415,
   "id": "700c2e79-93ba-43f6-af78-e793b5a5f0b8",
   "metadata": {},
   "outputs": [],
   "source": [
    "indir = '../Data/StudyForrest/fmriprep/'\n",
    "subs = [s for s in os.listdir(indir) if all((s.startswith('sub'),not s.endswith('.html')))]\n",
    "subs.sort()\n",
    "n = len(subs)\n",
    "events_fn_temp = '../Data/StudyForrest/events/{sub}_ses-localizer_task-objectcategories_run-{r}_events.tsv'"
   ]
  },
  {
   "cell_type": "code",
   "execution_count": 416,
   "id": "bae9496f-f084-46cb-9ba7-7c2c9a49d276",
   "metadata": {},
   "outputs": [],
   "source": [
    "def get_regs(events_fn):\n",
    "    from nilearn.glm.first_level import make_first_level_design_matrix\n",
    "\n",
    "    events = pd.read_csv(events_fn,delimiter='\\t')\n",
    "\n",
    "    t_r = 2.0 \n",
    "    #n_scans = epi.shape[-1]\n",
    "    n_scans = 156\n",
    "    frame_times = (np.arange(n_scans) * t_r)\n",
    "\n",
    "    X1 = make_first_level_design_matrix(frame_times,events,drift_model=\"polynomial\",drift_order=3,hrf_model=\"SPM\") #\n",
    "\n",
    "    #face_reg = X1['face'].values\n",
    "    #place_reg = X1[['body', 'house', 'object', 'scene', 'scramble']].values.sum(axis=1)\n",
    "\n",
    "    #face_reg = X1[['face','body']].values.sum(axis=1)\n",
    "    face_reg = X1[['face']].values.sum(axis=1)\n",
    "    place_reg = X1[['house','scene']].values.sum(axis=1)\n",
    "    \n",
    "    return face_reg,place_reg"
   ]
  },
  {
   "cell_type": "code",
   "execution_count": 417,
   "id": "f22f4bf8-63b8-4474-a7a2-300e5931ce82",
   "metadata": {},
   "outputs": [],
   "source": [
    "def get_sub_data(s,r,return_type='corr'):\n",
    "    output_files = [os.path.join(analysis_dir,val) for val in os.listdir(analysis_dir) if val.startswith(f'outputs_S{s}_R{r}_')]\n",
    "    vals_ffa = load_pickle(output_files[0])['ffa']\n",
    "    vals_compcor = load_pickle(output_files[0])['ffa_compcorr']\n",
    "    #face_reg = load_pickle(output_files[0])['face_reg']\n",
    "    face_reg, place_reg = get_regs(events_fn_temp.format(sub=subs[s],r=r))    \n",
    "    vals_signals = np.array([load_pickle(output_file)['signal'] for output_file in output_files])\n",
    "    vals_signals_med = np.median(vals_signals,0)\n",
    "    #vals_signals_med = np.average(vals_signals,0)\n",
    "\n",
    "    r_ffa = np.array([np.corrcoef(vals_ffa[v,:],face_reg)[0,1] for v in range(vals_ffa.shape[0])]).mean()\n",
    "    r_compcor = np.array([np.corrcoef(vals_compcor[v,:],face_reg)[0,1] for v in range(vals_ffa.shape[0])]).mean()\n",
    "    r_fg = np.array([np.corrcoef(vals_signals_med[v,:],face_reg)[0,1] for v in range(vals_ffa.shape[0])]).mean()\n",
    "    \n",
    "    if return_type=='corr':\n",
    "        return (r_ffa,r_compcor,r_fg)\n",
    "    elif return_type=='vals':\n",
    "        return vals_ffa,vals_compcor,vals_signals_med,vals_signals,face_reg"
   ]
  },
  {
   "cell_type": "code",
   "execution_count": 418,
   "id": "65e0133d-a23a-4546-b6e0-10d3d467d6f0",
   "metadata": {
    "tags": []
   },
   "outputs": [],
   "source": [
    "do_plot_indiv = False\n",
    "if do_plot_indiv==True:\n",
    "    for s in range(14):\n",
    "        for r in [1,2,3,4]:\n",
    "            vals_ffa,vals_compcor,vals_signals_med,vals_signals,face_reg = get_sub_data(s,r,return_type='vals')\n",
    "\n",
    "            plt.figure(figsize=(25,5))\n",
    "            plt.subplot(1,4,1)\n",
    "            plt.plot(vals_ffa.mean(axis=0))\n",
    "            plt.plot(face_reg)\n",
    "            c = np.corrcoef(vals_ffa.mean(axis=0),face_reg)[0,1]\n",
    "            plt.title(f'NoDenoise, r={c:.2f}')\n",
    "            plt.ylim(-1.5,1.5)\n",
    "\n",
    "            plt.subplot(1,4,2)\n",
    "            plt.plot(vals_compcor.mean(axis=0))\n",
    "            plt.plot(face_reg)\n",
    "            c = np.corrcoef(vals_compcor.mean(axis=0),face_reg)[0,1]\n",
    "            plt.title(f'CompCor, r={c:.2f}')\n",
    "            plt.ylim(-1.5,1.5)\n",
    "\n",
    "            plt.subplot(1,4,3)\n",
    "            plt.plot(vals_signals_med.mean(axis=0))\n",
    "            plt.plot(face_reg)\n",
    "            c = np.corrcoef(vals_signals_med.mean(axis=0),face_reg)[0,1]\n",
    "            plt.title(f'DeepCor, r={c:.2f}')\n",
    "            plt.ylim(-1.5,1.5)\n",
    "\n",
    "            plt.subplot(1,4,4)\n",
    "            for i in range(vals_signals.shape[0]):\n",
    "                plt.plot(vals_signals[i,:,:].mean(axis=0),alpha=.5)\n",
    "            plt.plot(face_reg)\n",
    "\n",
    "            plt.suptitle(f'S{s}/R{r}')"
   ]
  },
  {
   "cell_type": "code",
   "execution_count": 419,
   "id": "5ff0e99b-e83c-4fef-b8ed-0cdd6064632c",
   "metadata": {},
   "outputs": [
    {
     "data": {
      "text/plain": [
       "(14, 4, 3)"
      ]
     },
     "execution_count": 419,
     "metadata": {},
     "output_type": "execute_result"
    }
   ],
   "source": [
    "nsubs = n\n",
    "#corr_res = np.array([[get_sub_data(s,r) for r in [1,2,3,4]] for s in range(nsubs)])\n",
    "corr_res = np.array([[get_sub_data(s,r) for r in [1,2,3,4]] for s in range(nsubs)])\n",
    "corr_res.shape"
   ]
  },
  {
   "cell_type": "code",
   "execution_count": 420,
   "id": "ff69a23f-a2a6-4314-9e05-a1458c1056ab",
   "metadata": {},
   "outputs": [
    {
     "name": "stdout",
     "output_type": "stream",
     "text": [
      "[0.15110738 0.16889445 0.21273229]\n"
     ]
    },
    {
     "data": {
      "text/plain": [
       "([<matplotlib.axis.XTick at 0x7fdb582785b0>,\n",
       "  <matplotlib.axis.XTick at 0x7fdb58278100>,\n",
       "  <matplotlib.axis.XTick at 0x7fdb582391c0>],\n",
       " [Text(0, 0, 'NoDenoise'), Text(1, 0, 'CompCor'), Text(2, 0, 'DeepCor')])"
      ]
     },
     "execution_count": 420,
     "metadata": {},
     "output_type": "execute_result"
    },
    {
     "data": {
      "image/png": "[encoded data removed]",
      "text/plain": [
       "<Figure size 432x288 with 1 Axes>"
      ]
     },
     "metadata": {
      "needs_background": "light"
     },
     "output_type": "display_data"
    }
   ],
   "source": [
    "ys = corr_res.mean(axis=0).mean(axis=0)\n",
    "print(ys)\n",
    "xs = [0,1,2]\n",
    "plt.bar(xs,ys)\n",
    "plt.xticks(xs,labels=['NoDenoise','CompCor','DeepCor'])"
   ]
  },
  {
   "cell_type": "code",
   "execution_count": 421,
   "id": "48a50274-091c-42d6-b05b-188ab3878c6d",
   "metadata": {},
   "outputs": [
    {
     "data": {
      "text/plain": [
       "(14, 4, 3)"
      ]
     },
     "execution_count": 421,
     "metadata": {},
     "output_type": "execute_result"
    }
   ],
   "source": [
    "corr_res.shape"
   ]
  },
  {
   "cell_type": "code",
   "execution_count": 422,
   "id": "63d3523c-7696-4cab-9677-46026b4af5be",
   "metadata": {},
   "outputs": [],
   "source": [
    "def pretty_t_test(vec1,vec2,ttl):\n",
    "    from scipy.stats import ttest_rel\n",
    "    #vec1 = vec_compcor\n",
    "    #vec2 = vec_ffa\n",
    "    #ttl = 'compcor > nodenoise: '\n",
    "    t,p = ttest_rel(vec1,vec2)\n",
    "    degf = len(vec1)-1\n",
    "    diff = vec1.mean()-vec2.mean()\n",
    "    \n",
    "\n",
    "    print(f'{ttl} ΔM={diff:.2f}, t({int(degf)}) = {t:.2f}, p = {p:.3f}')"
   ]
  },
  {
   "cell_type": "code",
   "execution_count": 423,
   "id": "2f3e6f41-e9a8-485d-95c3-b7c34e08ddc8",
   "metadata": {},
   "outputs": [],
   "source": [
    "np.save(file=f'../Data/{analysis_name}',arr=corr_res)"
   ]
  },
  {
   "cell_type": "code",
   "execution_count": 424,
   "id": "7e8a76c3-2d7b-4cbb-afc7-624c8f099a16",
   "metadata": {},
   "outputs": [],
   "source": [
    "vec_ffa = corr_res.mean(axis=1)[:,0]\n",
    "vec_compcor = corr_res.mean(axis=1)[:,1]\n",
    "vec_deepcor = corr_res.mean(axis=1)[:,2]"
   ]
  },
  {
   "cell_type": "code",
   "execution_count": 425,
   "id": "6c0540e7-9e2d-4f91-b3e5-b16ca8da8f72",
   "metadata": {},
   "outputs": [
    {
     "name": "stdout",
     "output_type": "stream",
     "text": [
      "0.15110737862001075\n",
      "0.1688944511838288\n",
      "0.21273228795613042\n"
     ]
    }
   ],
   "source": [
    "print(vec_ffa.mean())\n",
    "print(vec_compcor.mean())\n",
    "print(vec_deepcor.mean())"
   ]
  },
  {
   "cell_type": "code",
   "execution_count": 426,
   "id": "6a5f8960-77a2-42e1-a4ad-4771d516673a",
   "metadata": {},
   "outputs": [
    {
     "name": "stdout",
     "output_type": "stream",
     "text": [
      "CompCor > NoDenoise:  ΔM=0.02, t(13) = 4.66, p = 0.000\n",
      "DeepCor > NoDenoise:  ΔM=0.06, t(13) = 4.05, p = 0.001\n",
      "DeepCor > CompCor:  ΔM=0.04, t(13) = 2.73, p = 0.017\n"
     ]
    }
   ],
   "source": [
    "pretty_t_test(vec_compcor,vec_ffa,'CompCor > NoDenoise: ')\n",
    "pretty_t_test(vec_deepcor,vec_ffa,'DeepCor > NoDenoise: ')\n",
    "pretty_t_test(vec_deepcor,vec_compcor,'DeepCor > CompCor: ')"
   ]
  },
  {
   "cell_type": "code",
   "execution_count": 427,
   "id": "f7157a37-827f-4318-9f79-4546187e61cc",
   "metadata": {},
   "outputs": [
    {
     "name": "stdout",
     "output_type": "stream",
     "text": [
      "0.017787072563818035\n",
      "0.04383783677230163\n",
      "Correlation improvement: 2.46x\n"
     ]
    }
   ],
   "source": [
    "d1=vec_compcor.mean()-vec_ffa.mean()\n",
    "d2=vec_deepcor.mean()-vec_compcor.mean()\n",
    "print(d1)\n",
    "print(d2)\n",
    "print(f'Correlation improvement: {d2/d1:.2f}x')"
   ]
  },
  {
   "cell_type": "code",
   "execution_count": 428,
   "id": "7c423a53-a21a-4f8d-90e8-203be0958a2b",
   "metadata": {},
   "outputs": [],
   "source": [
    "def plot_scatter(vec1,vec2,xlabel='',ylabel='',title=''):\n",
    "#    plt.figure(figsize=(8, 6))\n",
    "    plt.scatter(vec1, vec2, color='blue', label='Data points',s=150)\n",
    "    #plt.xlim(0,.6)\n",
    "    #plt.ylim(0,.6)\n",
    "\n",
    "    # Adding the parity line (where y = x)\n",
    "    # Determine the limits for the line based on the data range:\n",
    "    min_val = min(np.min(vec1), np.min(vec2))\n",
    "    max_val = max(np.max(vec1), np.max(vec2))\n",
    "    plt.plot([min_val, max_val], [min_val, max_val], color='red', linestyle='--', label='Parity line (y=x)')\n",
    "\n",
    "    # Add labels and title\n",
    "    plt.xlabel(xlabel,fontsize=16,fontweight='bold')\n",
    "    plt.ylabel(ylabel,fontsize=16,fontweight='bold')\n",
    "    plt.legend()\n",
    "    plt.grid(True)\n",
    "    #plt.show()\n"
   ]
  },
  {
   "cell_type": "code",
   "execution_count": 429,
   "id": "2c8d21ca-efc0-4183-a240-9d725050d0b3",
   "metadata": {},
   "outputs": [
    {
     "data": {
      "image/png": "[encoded data removed]",
      "text/plain": [
       "<Figure size 1800x360 with 3 Axes>"
      ]
     },
     "metadata": {
      "needs_background": "light"
     },
     "output_type": "display_data"
    }
   ],
   "source": [
    "plt.figure(figsize=(25,5))\n",
    "plt.subplot(1,3,1);plot_scatter(vec_ffa,vec_compcor,xlabel='NoDenoise',ylabel='CompCor',title='')\n",
    "plt.subplot(1,3,2);plot_scatter(vec_ffa,vec_deepcor,xlabel='NoDenoise',ylabel='DeepCor',title='')\n",
    "plt.subplot(1,3,3);plot_scatter(vec_compcor,vec_deepcor,xlabel='CompCor',ylabel='DeepCor',title='')"
   ]
  },
  {
   "cell_type": "code",
   "execution_count": 430,
   "id": "a72c728a-2092-4faf-8f14-d32ecce366e1",
   "metadata": {
    "tags": []
   },
   "outputs": [],
   "source": [
    "def pretty_bar_plot(arrs,group_labels,bar_color,title=''):\n",
    "    # Organize data into a list for easy looping\n",
    "    #arrs = [face_preproc_vals, face_compcor_vals, face_signal_vals]\n",
    "    #group_labels = ['Face Preproc', 'Face CompCor', 'Face Signal']\n",
    "\n",
    "    # Calculate means and standard deviations\n",
    "    means = np.array([arr.mean() for arr in arrs])\n",
    "    stds = np.array([arr.std() for arr in arrs])\n",
    "    stds = stds / np.sqrt(len(arrs[0]))\n",
    "    xs = np.arange(len(arrs))  # positions for each bar\n",
    "\n",
    "    # Set the desired color for the bars (change this variable as needed)\n",
    "    #bar_color = 'red'  # e.g., 'red', 'blue', 'green', etc.\n",
    "\n",
    "    # Create the figure with appropriate dimensions for publication\n",
    "    #plt.figure(figsize=(8, 6))\n",
    "\n",
    "    # Plot bars with error bars\n",
    "    bar_container = plt.bar(xs, means, yerr=stds, capsize=5,\n",
    "                            color=bar_color, edgecolor='black', alpha=0.5)\n",
    "\n",
    "    # Overlay individual data points with jitter to avoid overlap.\n",
    "    for i, arr in enumerate(arrs):\n",
    "        # Add a little random jitter to the x-positions so points don't overlay exactly.\n",
    "        jitter = np.random.normal(0, 0.1, size=len(arr))\n",
    "        plt.scatter(np.full(len(arr), xs[i]) + jitter, arr,\n",
    "                    color='black', zorder=5, s=200, alpha=0.3)\n",
    "\n",
    "    # Increase font sizes and set text bold for clarity in print.\n",
    "    plt.xticks(xs, group_labels, fontsize=16, fontweight='bold')\n",
    "    #plt.xlabel('Processing Type', fontsize=18, fontweight='bold')\n",
    "    plt.ylabel('Corr. with Regressor', fontsize=18, fontweight='bold')\n",
    "    #plt.title('Comparison of Face Processing Methods', fontsize=20, fontweight='bold')\n",
    "    plt.grid(axis='y', linestyle='--', alpha=0.6)\n",
    "\n",
    "    # Optionally, remove top and right borders for a clean aesthetic.\n",
    "    ax = plt.gca()\n",
    "    ax.spines['top'].set_visible(False)\n",
    "    ax.spines['right'].set_visible(False)\n",
    "\n",
    "    # Bold tick labels on the y-axis as well.\n",
    "    for label in ax.get_yticklabels():\n",
    "        label.set_fontsize(16)\n",
    "        label.set_fontweight('bold')\n",
    "\n",
    "    plt.title(title,fontsize=20, fontweight='bold')\n",
    "    plt.tight_layout()\n",
    "    plt.show()"
   ]
  },
  {
   "cell_type": "code",
   "execution_count": 431,
   "id": "7593c39b-db67-4a5d-9729-23b34ab4e419",
   "metadata": {},
   "outputs": [],
   "source": [
    "face_preproc_vals = corr_res.mean(axis=1)[:,0]\n",
    "face_compcor_vals = corr_res.mean(axis=1)[:,1]\n",
    "face_signal_vals = corr_res.mean(axis=1)[:,2]"
   ]
  },
  {
   "cell_type": "code",
   "execution_count": null,
   "id": "3648b968-10ce-4b11-a8a6-9a0c32f7c500",
   "metadata": {},
   "outputs": [],
   "source": []
  },
  {
   "cell_type": "code",
   "execution_count": 432,
   "id": "b3a5bcf8-e76b-478d-ba00-88654e82fa5a",
   "metadata": {},
   "outputs": [
    {
     "data": {
      "image/png": "[encoded data removed]",
      "text/plain": [
       "<Figure size 432x576 with 1 Axes>"
      ]
     },
     "metadata": {
      "needs_background": "light"
     },
     "output_type": "display_data"
    }
   ],
   "source": [
    "arrs = [face_preproc_vals,face_compcor_vals,face_signal_vals]\n",
    "group_labels = ['Preproc','CompCor','DeepCor']\n",
    "bar_color = 'red'\n",
    "plt.figure(figsize=(6,8))\n",
    "pretty_bar_plot(arrs,group_labels,bar_color,title='Correlation w/ Face Reg')"
   ]
  },
  {
   "cell_type": "code",
   "execution_count": 433,
   "id": "67989b19-c7e6-4cb4-beff-029e166a52fb",
   "metadata": {},
   "outputs": [],
   "source": [
    "def get_contrast_val(Y):\n",
    "    from nilearn.glm.first_level import make_first_level_design_matrix\n",
    "\n",
    "    events = pd.read_csv(events_fn_temp.format(sub=subs[s],r=r),delimiter='\\t')\n",
    "\n",
    "    t_r = 2.0 \n",
    "    n_scans = 156  # the acquisition comprises 128 scans\n",
    "    frame_times = (np.arange(n_scans) * t_r)\n",
    "\n",
    "    X1 = make_first_level_design_matrix(frame_times,events,drift_model=\"polynomial\",drift_order=3,hrf_model=\"SPM\") #\n",
    "    \n",
    "    Y = (Y-Y.mean(axis=1)[:,np.newaxis])/Y.std(axis=1)[:,np.newaxis] # Z score values\n",
    "    Y = Y.transpose()\n",
    "    X = X1.values\n",
    "    beta = np.linalg.inv(X.T @ X1) @ X1.T @ Y\n",
    "    beta = beta.T\n",
    "    beta = beta.values\n",
    "\n",
    "    #contrast_vector = np.array([2,2,-1,-1,-1,-1,0,0,0,0]) # Faces + Bodies > Rest\n",
    "    contrast_vector = np.array([-1,5,-1,-1,-1,-1,0,0,0,0]) # Faces > Rest\n",
    "    contrast_values = beta @ contrast_vector\n",
    "    return contrast_values.mean()"
   ]
  },
  {
   "cell_type": "code",
   "execution_count": 434,
   "id": "519e561d-ecbc-4c27-9d02-a8b5451f09b0",
   "metadata": {},
   "outputs": [],
   "source": [
    "contrast_res = []\n",
    "for s in range(nsubs):\n",
    "    temp = []\n",
    "    for r in [1,2,3,4]:\n",
    "        vals_ffa,vals_compcor,vals_signals_med,vals_signals,face_reg = get_sub_data(s,r,return_type='vals')\n",
    "        temp.append([get_contrast_val(val) for val in [vals_ffa,vals_compcor,vals_signals_med]])\n",
    "    contrast_res.append(temp)\n",
    "contrast_res = np.array(contrast_res)"
   ]
  },
  {
   "cell_type": "code",
   "execution_count": 435,
   "id": "e9abb688-6c78-4a36-ae3a-f6f763cbf65a",
   "metadata": {},
   "outputs": [
    {
     "data": {
      "text/plain": [
       "(14, 4, 3)"
      ]
     },
     "execution_count": 435,
     "metadata": {},
     "output_type": "execute_result"
    }
   ],
   "source": [
    "contrast_res.shape"
   ]
  },
  {
   "cell_type": "code",
   "execution_count": 436,
   "id": "db1a6667-389b-4b86-a00b-92ac67846ba6",
   "metadata": {},
   "outputs": [],
   "source": [
    "contrast_res_avg = contrast_res.mean(axis=1)"
   ]
  },
  {
   "cell_type": "code",
   "execution_count": 437,
   "id": "72613028-af84-48df-a377-2eb8821fbaf8",
   "metadata": {},
   "outputs": [
    {
     "data": {
      "image/png": "[encoded data removed]",
      "text/plain": [
       "<Figure size 432x576 with 1 Axes>"
      ]
     },
     "metadata": {
      "needs_background": "light"
     },
     "output_type": "display_data"
    }
   ],
   "source": [
    "arrs = [contrast_res_avg[:,0],contrast_res_avg[:,1],contrast_res_avg[:,2]]\n",
    "group_labels = ['Preproc','CompCor','DeepCor']\n",
    "bar_color = 'orange'\n",
    "plt.figure(figsize=(6,8))\n",
    "pretty_bar_plot(arrs,group_labels,bar_color,title='Contrast Face > Rest')"
   ]
  },
  {
   "cell_type": "code",
   "execution_count": null,
   "id": "65bda087-a904-4694-baff-a278f7dc9293",
   "metadata": {},
   "outputs": [],
   "source": []
  },
  {
   "cell_type": "code",
   "execution_count": 438,
   "id": "e546d2c7-ce3b-417f-9756-bd206bc5c1a7",
   "metadata": {},
   "outputs": [
    {
     "name": "stdout",
     "output_type": "stream",
     "text": [
      "Contrast: CompCor > NoDenoise:  ΔM=0.15, t(13) = 2.12, p = 0.053\n",
      "Contrast: DeepCor > NoDenoise:  ΔM=0.12, t(13) = 0.52, p = 0.611\n",
      "Contrast: DeepCor > CompCor:  ΔM=-0.03, t(13) = -0.11, p = 0.916\n"
     ]
    }
   ],
   "source": [
    "pretty_t_test(contrast_res_avg[:,1],contrast_res_avg[:,0],'Contrast: CompCor > NoDenoise: ')\n",
    "pretty_t_test(contrast_res_avg[:,2],contrast_res_avg[:,0],'Contrast: DeepCor > NoDenoise: ')\n",
    "pretty_t_test(contrast_res_avg[:,2],contrast_res_avg[:,1],'Contrast: DeepCor > CompCor: ')"
   ]
  },
  {
   "cell_type": "code",
   "execution_count": 439,
   "id": "79d31f17-d6cb-4cbf-bb58-82103c3c112f",
   "metadata": {},
   "outputs": [
    {
     "name": "stdout",
     "output_type": "stream",
     "text": [
      "0.14625523402316465\n",
      "-0.02881948926365574\n"
     ]
    }
   ],
   "source": [
    "d1=contrast_res_avg[:,1].mean()-contrast_res_avg[:,0].mean()\n",
    "d2=contrast_res_avg[:,2].mean()-contrast_res_avg[:,1].mean()\n",
    "print(d1)\n",
    "print(d2)"
   ]
  },
  {
   "cell_type": "code",
   "execution_count": 440,
   "id": "3dfafad2-7d8f-46d2-92e3-a57f3dba0fe4",
   "metadata": {},
   "outputs": [
    {
     "name": "stdout",
     "output_type": "stream",
     "text": [
      "Face selectivity improvement: -0.20x\n"
     ]
    }
   ],
   "source": [
    "print(f'Face selectivity improvement: {d2/d1:.2f}x')"
   ]
  },
  {
   "cell_type": "code",
   "execution_count": null,
   "id": "69c3fcd3-9bc3-40cf-ac2a-0df56b0650fe",
   "metadata": {},
   "outputs": [],
   "source": []
  },
  {
   "cell_type": "code",
   "execution_count": null,
   "id": "38f25905-401c-41f7-9e10-a147f4889382",
   "metadata": {},
   "outputs": [],
   "source": []
  },
  {
   "cell_type": "code",
   "execution_count": 380,
   "id": "8fbba4f8-4052-413a-8d3a-e0e87f8503cb",
   "metadata": {},
   "outputs": [
    {
     "data": {
      "text/plain": [
       "<BarContainer object of 14 artists>"
      ]
     },
     "execution_count": 380,
     "metadata": {},
     "output_type": "execute_result"
    },
    {
     "data": {
      "image/png": "[encoded data removed]",
      "text/plain": [
       "<Figure size 1080x360 with 1 Axes>"
      ]
     },
     "metadata": {
      "needs_background": "light"
     },
     "output_type": "display_data"
    },
    {
     "data": {
      "image/png": "[encoded data removed]",
      "text/plain": [
       "<Figure size 1080x360 with 1 Axes>"
      ]
     },
     "metadata": {
      "needs_background": "light"
     },
     "output_type": "display_data"
    },
    {
     "data": {
      "image/png": "[encoded data removed]",
      "text/plain": [
       "<Figure size 1080x360 with 1 Axes>"
      ]
     },
     "metadata": {
      "needs_background": "light"
     },
     "output_type": "display_data"
    },
    {
     "data": {
      "image/png": "[encoded data removed]",
      "text/plain": [
       "<Figure size 1080x360 with 1 Axes>"
      ]
     },
     "metadata": {
      "needs_background": "light"
     },
     "output_type": "display_data"
    }
   ],
   "source": [
    "plt.figure(figsize=(15,5))\n",
    "plt.bar(np.arange(nsubs),corr_res[:,0,2]-corr_res[:,0,1])\n",
    "\n",
    "plt.figure(figsize=(15,5))\n",
    "plt.bar(np.arange(nsubs),corr_res[:,1,2]-corr_res[:,1,1])\n",
    "\n",
    "plt.figure(figsize=(15,5))\n",
    "plt.bar(np.arange(nsubs),corr_res[:,2,2]-corr_res[:,2,1])\n",
    "\n",
    "plt.figure(figsize=(15,5))\n",
    "plt.bar(np.arange(nsubs),corr_res[:,3,2]-corr_res[:,3,1])"
   ]
  },
  {
   "cell_type": "code",
   "execution_count": null,
   "id": "0c21c744-0eea-4fb7-9edb-7aeb56eb711c",
   "metadata": {},
   "outputs": [],
   "source": []
  },
  {
   "cell_type": "code",
   "execution_count": null,
   "id": "e523ac04-f016-4f2b-9a44-488095fcdf1c",
   "metadata": {},
   "outputs": [],
   "source": []
  },
  {
   "cell_type": "code",
   "execution_count": null,
   "id": "17ca1425-123a-4c1d-ac99-3cf1f5f8a098",
   "metadata": {},
   "outputs": [],
   "source": []
  },
  {
   "cell_type": "code",
   "execution_count": 381,
   "id": "129c5764-06b3-4692-a27d-b4cb2b4f320a",
   "metadata": {},
   "outputs": [],
   "source": [
    "arr1=np.load('../Data/YuOrig-00-orig.npy')\n",
    "arr2=np.load('../Data/DeepCor-Forrest-face-v1.npy')"
   ]
  },
  {
   "cell_type": "code",
   "execution_count": 382,
   "id": "10f20840-217e-4510-9ad2-5498503c9281",
   "metadata": {},
   "outputs": [],
   "source": [
    "vec1=arr1.mean(axis=1)[:,2]-arr1.mean(axis=1)[:,1]\n",
    "vec2=arr2.mean(axis=1)[:,2]-arr2.mean(axis=1)[:,1]"
   ]
  },
  {
   "cell_type": "code",
   "execution_count": 383,
   "id": "9500c324-e534-451e-bdab-9564e35290bb",
   "metadata": {},
   "outputs": [
    {
     "data": {
      "text/plain": [
       "0.028052698900676187"
      ]
     },
     "execution_count": 383,
     "metadata": {},
     "output_type": "execute_result"
    }
   ],
   "source": [
    "vec1.mean()"
   ]
  },
  {
   "cell_type": "code",
   "execution_count": 384,
   "id": "af0845c8-3d9b-4ae9-bca6-a09b9b54665b",
   "metadata": {},
   "outputs": [
    {
     "data": {
      "text/plain": [
       "0.07132918188813377"
      ]
     },
     "execution_count": 384,
     "metadata": {},
     "output_type": "execute_result"
    }
   ],
   "source": [
    "vec2.mean()"
   ]
  },
  {
   "cell_type": "code",
   "execution_count": 385,
   "id": "4ab82937-a6e0-4bc8-aad3-c1968d4a7a56",
   "metadata": {},
   "outputs": [
    {
     "data": {
      "image/png": "[encoded data removed]",
      "text/plain": [
       "<Figure size 432x288 with 1 Axes>"
      ]
     },
     "metadata": {
      "needs_background": "light"
     },
     "output_type": "display_data"
    }
   ],
   "source": [
    "plot_scatter(vec1,vec2,xlabel='noAll',ylabel='Final',title='')"
   ]
  },
  {
   "cell_type": "code",
   "execution_count": null,
   "id": "0d7ef41d-9687-47cf-a17c-e3eb91f59192",
   "metadata": {},
   "outputs": [],
   "source": []
  },
  {
   "cell_type": "code",
   "execution_count": null,
   "id": "9fbecf9a-0fe4-4f53-a300-9f867cf457bc",
   "metadata": {},
   "outputs": [],
   "source": []
  }
 ],
 "metadata": {
  "kernelspec": {
   "display_name": "Python 3",
   "language": "python",
   "name": "python3"
  },
  "language_info": {
   "codemirror_mode": {
    "name": "ipython",
    "version": 3
   },
   "file_extension": ".py",
   "mimetype": "text/x-python",
   "name": "python",
   "nbconvert_exporter": "python",
   "pygments_lexer": "ipython3",
   "version": "3.8.8"
  }
 },
 "nbformat": 4,
 "nbformat_minor": 5
}
