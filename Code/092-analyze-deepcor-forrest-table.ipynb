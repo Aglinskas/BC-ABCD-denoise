{
 "cells": [
  {
   "cell_type": "code",
   "execution_count": 1,
   "id": "f6ab9dff-d773-49cb-912a-6ae6504e3126",
   "metadata": {},
   "outputs": [
    {
     "name": "stdout",
     "output_type": "stream",
     "text": [
      "Sun May 18 07:47:37 PM EDT 2025\n"
     ]
    }
   ],
   "source": [
    "!date"
   ]
  },
  {
   "cell_type": "code",
   "execution_count": 2,
   "id": "75d54a12-4725-4338-b580-2301a89dcd0f",
   "metadata": {},
   "outputs": [
    {
     "data": {
      "text/plain": [
       "'/projects/sccn/andromeda1/aglinska/BC-ABCD-denoise/Code'"
      ]
     },
     "execution_count": 2,
     "metadata": {},
     "output_type": "execute_result"
    }
   ],
   "source": [
    "pwd"
   ]
  },
  {
   "cell_type": "code",
   "execution_count": 3,
   "id": "14796ecd-3ebc-4123-a466-40c785910f21",
   "metadata": {},
   "outputs": [],
   "source": [
    "import os\n",
    "import numpy as np\n",
    "import pandas as pd\n",
    "import ants\n",
    "from matplotlib import pyplot as plt\n",
    "import pickle\n",
    "from tqdm import tqdm"
   ]
  },
  {
   "cell_type": "code",
   "execution_count": 4,
   "id": "651d683e-32a6-43fd-9ac0-76e22b09f224",
   "metadata": {},
   "outputs": [
    {
     "data": {
      "text/plain": [
       "['.ipynb_checkpoints',\n",
       " 'BrainIAK-CVAE-0',\n",
       " 'BrainIAK-CVAE-1',\n",
       " 'DeNN-forrest-v1',\n",
       " 'DeepCor-ABCD-v1',\n",
       " 'DeepCor-ABCD-v2',\n",
       " 'DeepCor-ABCD-v3',\n",
       " 'DeepCor-ABCD-v4',\n",
       " 'DeepCor-ABCD-v5',\n",
       " 'DeepCor-Forrest-ablations-00-baseline',\n",
       " 'DeepCor-Forrest-ablations-01-nosummation',\n",
       " 'DeepCor-Forrest-ablations-02-noAdvRemoval',\n",
       " 'DeepCor-Forrest-ablations-03-noNCC',\n",
       " 'DeepCor-Forrest-ablations-03-noTC',\n",
       " 'DeepCor-Forrest-ablations-04-noCoords',\n",
       " 'DeepCor-Forrest-ablations-06-noAll',\n",
       " 'DeepCor-Forrest-ablations-06-noAll-v2',\n",
       " 'DeepCor-Forrest-face-big-16',\n",
       " 'DeepCor-Forrest-face-long',\n",
       " 'DeepCor-Forrest-face-v1',\n",
       " 'DeepCor-Forrest-face-v2',\n",
       " 'DeepCor-Forrest-face-v3-pshort',\n",
       " 'DeepCor-Forrest-face-v4',\n",
       " 'DeepCor-Forrest-face-v5',\n",
       " 'YuOrig-00-DataloaderFix',\n",
       " 'YuOrig-00-orig',\n",
       " 'fixed-seed-00-YuOrig-00-DataloaderFix',\n",
       " 'fixed-seed-00-baseline-00',\n",
       " 'slurm_files',\n",
       " 'test',\n",
       " 'test-lin']"
      ]
     },
     "execution_count": 4,
     "metadata": {},
     "output_type": "execute_result"
    }
   ],
   "source": [
    "indir = '../Data/StudyForrest/ensembles_last_CVAE/'\n",
    "folders = [f for f in os.listdir(indir)]\n",
    "folders.sort()\n",
    "folders"
   ]
  },
  {
   "cell_type": "code",
   "execution_count": 7,
   "id": "296d672d-273a-429b-86d6-2663bdedfada",
   "metadata": {},
   "outputs": [],
   "source": [
    "analysis_name = 'fixed-seed-00-YuOrig-00-DataloaderFix'\n",
    "#analysis_name = 'DeepCor-Forrest-ablations-00-baseline'"
   ]
  },
  {
   "cell_type": "code",
   "execution_count": 8,
   "id": "24594071-0181-454b-afe9-e5e0543d500d",
   "metadata": {},
   "outputs": [],
   "source": [
    "fn_temp = 'signal_S{s}_R{r}_avg.nii.gz'"
   ]
  },
  {
   "cell_type": "code",
   "execution_count": 9,
   "id": "4f54903b-c7c3-46af-9cb6-473a425961c0",
   "metadata": {},
   "outputs": [
    {
     "name": "stdout",
     "output_type": "stream",
     "text": [
      "Done:100.00%\n"
     ]
    },
    {
     "data": {
      "text/plain": [
       "Text(0.5, 0, 'Subject')"
      ]
     },
     "execution_count": 9,
     "metadata": {},
     "output_type": "execute_result"
    },
    {
     "data": {
      "image/png": "[encoded data removed]",
      "text/plain": [
       "<Figure size 1080x360 with 1 Axes>"
      ]
     },
     "metadata": {
      "needs_background": "light"
     },
     "output_type": "display_data"
    }
   ],
   "source": [
    "done_check = np.array([[os.path.exists(os.path.join(indir,analysis_name,fn_temp.format(s=s,r=r))) for r in [1,2,3,4]] for s in range(14)])\n",
    "print(f'Done:{done_check.mean()*100:.2f}%')\n",
    "plt.figure(figsize=(15,5))\n",
    "plt.imshow(done_check.transpose(),vmin=0,vmax=1)\n",
    "plt.yticks(np.arange(4),labels=[1,2,3,4])\n",
    "plt.ylabel('Run')\n",
    "plt.xlabel('Subject')"
   ]
  },
  {
   "cell_type": "code",
   "execution_count": 10,
   "id": "fd392ffd-fe3e-43e1-8d09-ef72914745de",
   "metadata": {},
   "outputs": [],
   "source": [
    "events_fn_temp = '../Data/StudyForrest/events/{sub}_ses-localizer_task-objectcategories_run-{r}_events.tsv'\n",
    "def get_regs(events_fn):\n",
    "    from nilearn.glm.first_level import make_first_level_design_matrix\n",
    "\n",
    "    events = pd.read_csv(events_fn,delimiter='\\t')\n",
    "\n",
    "    t_r = 2.0 \n",
    "    #n_scans = epi.shape[-1]\n",
    "    n_scans = 156\n",
    "    frame_times = (np.arange(n_scans) * t_r)\n",
    "\n",
    "    X1 = make_first_level_design_matrix(frame_times,events,drift_model=\"polynomial\",drift_order=3,hrf_model=\"SPM\") #\n",
    "\n",
    "    face_reg = X1[['face']].values.sum(axis=1)\n",
    "    place_reg = X1[['body', 'house', 'object', 'scene', 'scramble']].values.sum(axis=1)\n",
    "    \n",
    "    return face_reg,place_reg"
   ]
  },
  {
   "cell_type": "code",
   "execution_count": 11,
   "id": "b86ebed7-3361-4b94-bd41-4768736e3b43",
   "metadata": {},
   "outputs": [],
   "source": [
    "def get_contrast_val(Y,return_type='contrast'):\n",
    "    from nilearn.glm.first_level import make_first_level_design_matrix\n",
    "\n",
    "    events = pd.read_csv(events_fn_temp.format(sub=subs[s],r=r),delimiter='\\t')\n",
    "\n",
    "    t_r = 2.0 \n",
    "    n_scans = 156  # the acquisition comprises 128 scans\n",
    "    frame_times = (np.arange(n_scans) * t_r)\n",
    "\n",
    "    X1 = make_first_level_design_matrix(frame_times,events,drift_model=\"polynomial\",drift_order=3,hrf_model=\"SPM\") #\n",
    "    \n",
    "    Y = (Y-Y.mean(axis=1)[:,np.newaxis])/Y.std(axis=1)[:,np.newaxis] # Z score values\n",
    "    Y = Y.transpose()\n",
    "    X = X1.values\n",
    "    beta = np.linalg.inv(X.T @ X1) @ X1.T @ Y\n",
    "    beta = beta.T\n",
    "    beta = beta.values\n",
    "\n",
    "    #['body', 'face', 'house', 'object', 'scene', 'scramble', 'drift_1','drift_2', 'drift_3', 'constant']\n",
    "    contrast_vector = np.array([-1,5,-1,-1,-1,-1,0,0,0,0]) # Faces > Rest\n",
    "    contrast_values = beta @ contrast_vector\n",
    "    if return_type=='contrast':\n",
    "        return contrast_values.mean()\n",
    "    elif return_type=='betas':\n",
    "        return beta.mean(axis=0)"
   ]
  },
  {
   "cell_type": "code",
   "execution_count": 12,
   "id": "327c946c-496f-470c-a2c7-fa3d5d3d9768",
   "metadata": {},
   "outputs": [],
   "source": [
    "def correlate_columns(arr1, arr2):\n",
    "    \"\"\"\n",
    "    Computes the Pearson correlation between corresponding columns of two matrices.\n",
    "    \n",
    "    Parameters:\n",
    "    arr1 (np.ndarray): First matrix of shape (370, 1000)\n",
    "    arr2 (np.ndarray): Second matrix of shape (370, 1000)\n",
    "    \n",
    "    Returns:\n",
    "    np.ndarray: 1D array of correlations for each column (size 1000)\n",
    "    \"\"\"\n",
    "    # Ensure input arrays are numpy arrays\n",
    "    arr1 = np.asarray(arr1)\n",
    "    arr2 = np.asarray(arr2)\n",
    "    \n",
    "    # Subtract the mean of each column (normalize)\n",
    "    arr1_centered = arr1 - np.mean(arr1, axis=0)\n",
    "    arr2_centered = arr2 - np.mean(arr2, axis=0)\n",
    "    \n",
    "    # Compute the numerator (covariance)\n",
    "    numerator = np.sum(arr1_centered * arr2_centered, axis=0)\n",
    "    \n",
    "    # Compute the denominator (product of standard deviations)\n",
    "    denominator = np.sqrt(np.sum(arr1_centered**2, axis=0) * np.sum(arr2_centered**2, axis=0))\n",
    "    \n",
    "    # Compute the Pearson correlation for each column\n",
    "    correlation = numerator / denominator\n",
    "    \n",
    "    return correlation"
   ]
  },
  {
   "cell_type": "code",
   "execution_count": 13,
   "id": "c6a5d8d5-1df3-460d-bc55-d72261e6181c",
   "metadata": {},
   "outputs": [],
   "source": [
    "roi = ants.image_read('../Data/StudyForrest/fmriprep/mask_roi.nii')\n",
    "roni = ants.image_read('../Data/StudyForrest/fmriprep/mask_roni.nii')"
   ]
  },
  {
   "cell_type": "code",
   "execution_count": 14,
   "id": "a534e410-374d-462a-88f4-88e3885c90ef",
   "metadata": {},
   "outputs": [],
   "source": [
    "roi_dir = '../Data/StudyForrest/ROIs'\n",
    "roi_fn_temp = 'rFFA_final_mask_{sub}_bin.nii.gz'"
   ]
  },
  {
   "cell_type": "code",
   "execution_count": 15,
   "id": "ff2f9d64-2052-4c90-b574-bb69d3d91892",
   "metadata": {},
   "outputs": [],
   "source": [
    "subs = ['sub-01','sub-02','sub-03','sub-04','sub-05','sub-09','sub-10','sub-14','sub-15','sub-16','sub-17','sub-18','sub-19','sub-20',]"
   ]
  },
  {
   "cell_type": "code",
   "execution_count": 16,
   "id": "4cddbcd3-6b11-4c0e-ace3-446bb55d69da",
   "metadata": {},
   "outputs": [],
   "source": [
    "face_reg,place_reg = get_regs(events_fn_temp.format(sub=subs[0],r=1))"
   ]
  },
  {
   "cell_type": "code",
   "execution_count": 17,
   "id": "d9a31939-b0d7-4ea3-addb-43f924993761",
   "metadata": {},
   "outputs": [
    {
     "data": {
      "text/plain": [
       "953"
      ]
     },
     "execution_count": 17,
     "metadata": {},
     "output_type": "execute_result"
    }
   ],
   "source": [
    "faceMap = ants.image_read('../Misc/ffa_map_resampled_forrest.nii.gz')\n",
    "faceMap_mask = faceMap.numpy()>5\n",
    "faceMap_mask.sum()"
   ]
  },
  {
   "cell_type": "code",
   "execution_count": 18,
   "id": "86ee2fa2-131b-4b20-96f5-b32221dc25b6",
   "metadata": {},
   "outputs": [],
   "source": [
    "res_corr2reg = np.zeros((14,4))\n",
    "res_contrast = np.zeros((14,4))\n",
    "res_specificity = np.zeros((14,4))"
   ]
  },
  {
   "cell_type": "code",
   "execution_count": 19,
   "id": "5e42fd45-bc41-4a0e-93e5-bc1c2223153b",
   "metadata": {},
   "outputs": [
    {
     "name": "stderr",
     "output_type": "stream",
     "text": [
      "100%|██████████| 14/14 [00:39<00:00,  2.79s/it]\n"
     ]
    }
   ],
   "source": [
    "## DeepCor\n",
    "for s in tqdm(range(14)):\n",
    "    for r in [1,2,3,4]:\n",
    "        subim = ants.image_read(os.path.join(indir,analysis_name,fn_temp.format(s=s,r=r)))\n",
    "        subFFA = ants.image_read(os.path.join(roi_dir,roi_fn_temp.format(sub=subs[s])))\n",
    "        valsFFA = subim.numpy()[subFFA.numpy()==1]\n",
    "        valsFFA=valsFFA[valsFFA.std(axis=1)>1e-3,:]\n",
    "\n",
    "        corr2reg = np.nanmean(correlate_columns(valsFFA.transpose(),np.array([face_reg for _ in range(valsFFA.shape[0])]).transpose()))\n",
    "        contrastVal = get_contrast_val(valsFFA,return_type='contrast')\n",
    "\n",
    "        arr1=subim.numpy()[(roi.numpy()==1) * (faceMap_mask==True)]\n",
    "        arr2=subim.numpy()[(roi.numpy()==1) * (faceMap_mask==False)]\n",
    "\n",
    "        arr1=arr1[arr1.std(axis=1)>1e-3]\n",
    "        arr2=arr2[arr2.std(axis=1)>1e-3]\n",
    "        r1=correlate_columns(arr1.transpose(),np.array([face_reg for _ in range(arr1.shape[0])]).transpose())\n",
    "        r2=correlate_columns(arr2.transpose(),np.array([face_reg for _ in range(arr2.shape[0])]).transpose())\n",
    "        specificity = r1.mean()-r2.mean()\n",
    "\n",
    "        res_corr2reg[s,r-1] = corr2reg\n",
    "        res_contrast[s,r-1] = contrastVal\n",
    "        res_specificity[s,r-1] = specificity"
   ]
  },
  {
   "cell_type": "code",
   "execution_count": 21,
   "id": "65ab3aca-5540-4a65-946c-53da1dbe32e6",
   "metadata": {},
   "outputs": [
    {
     "name": "stdout",
     "output_type": "stream",
     "text": [
      "res_corr2reg = 0.18\n",
      "res_contrast = 1.98\n",
      "Specificity = 0.11\n"
     ]
    }
   ],
   "source": [
    "print(f'res_corr2reg = {corr2reg.mean():.2f}')\n",
    "print(f'res_contrast = {res_contrast.mean():.2f}')\n",
    "print(f'Specificity = {res_specificity.mean():.2f}')"
   ]
  },
  {
   "cell_type": "code",
   "execution_count": null,
   "id": "3dfa3040-84f0-43ec-9bef-7793c4a11b65",
   "metadata": {},
   "outputs": [],
   "source": []
  },
  {
   "cell_type": "code",
   "execution_count": null,
   "id": "162f510d-3324-4ce6-b6cd-65714f3b84dd",
   "metadata": {},
   "outputs": [],
   "source": []
  },
  {
   "cell_type": "code",
   "execution_count": null,
   "id": "b55290e4-5c45-4601-93b0-98d3cc534d6a",
   "metadata": {},
   "outputs": [],
   "source": []
  },
  {
   "cell_type": "code",
   "execution_count": 231,
   "id": "06d3007d-49ee-4ffb-a75f-2473008fb3b1",
   "metadata": {},
   "outputs": [
    {
     "name": "stderr",
     "output_type": "stream",
     "text": [
      "100%|██████████| 14/14 [00:42<00:00,  3.07s/it]"
     ]
    },
    {
     "name": "stdout",
     "output_type": "stream",
     "text": [
      "res_corr2reg = 0.21\n",
      "res_contrast = 1.87\n",
      "Specificity = 0.07\n"
     ]
    },
    {
     "name": "stderr",
     "output_type": "stream",
     "text": [
      "\n"
     ]
    }
   ],
   "source": [
    "## RAW\n",
    "res_corr2reg = np.zeros((14,4))\n",
    "res_contrast = np.zeros((14,4))\n",
    "res_specificity = np.zeros((14,4))\n",
    "\n",
    "for s in tqdm(range(14)):\n",
    "    for r in [1,2,3,4]:\n",
    "        fn = '../Data/StudyForrest/fmriprep/{sub}/ses-localizer/func/{sub}_ses-localizer_task-objectcategories_run-{r}_bold_space-MNI152NLin2009cAsym_preproc.nii.gz'\n",
    "        subim = ants.image_read(fn.format(sub=subs[s],r=r))\n",
    "        subFFA = ants.image_read(os.path.join(roi_dir,roi_fn_temp.format(sub=subs[s])))\n",
    "        valsFFA = subim.numpy()[subFFA.numpy()==1]\n",
    "        valsFFA=valsFFA[valsFFA.std(axis=1)>1e-3,:]\n",
    "\n",
    "        corr2reg = np.nanmean(correlate_columns(valsFFA.transpose(),np.array([face_reg for _ in range(valsFFA.shape[0])]).transpose()))\n",
    "        contrastVal = get_contrast_val(valsFFA,return_type='contrast')\n",
    "\n",
    "        arr1=subim.numpy()[(roi.numpy()==1) * (faceMap_mask==True)]\n",
    "        arr2=subim.numpy()[(roi.numpy()==1) * (faceMap_mask==False)]\n",
    "\n",
    "        arr1=arr1[arr1.std(axis=1)>1e-3]\n",
    "        arr2=arr2[arr2.std(axis=1)>1e-3]\n",
    "        r1=correlate_columns(arr1.transpose(),np.array([face_reg for _ in range(arr1.shape[0])]).transpose())\n",
    "        r2=correlate_columns(arr2.transpose(),np.array([face_reg for _ in range(arr2.shape[0])]).transpose())\n",
    "        specificity = r1.mean()-r2.mean()\n",
    "\n",
    "        res_corr2reg[s,r-1] = corr2reg\n",
    "        res_contrast[s,r-1] = contrastVal\n",
    "        res_specificity[s,r-1] = specificity\n",
    "        \n",
    "print(f'res_corr2reg = {corr2reg.mean():.2f}')\n",
    "print(f'res_contrast = {res_contrast.mean():.2f}')\n",
    "print(f'Specificity = {res_specificity.mean():.2f}')"
   ]
  },
  {
   "cell_type": "code",
   "execution_count": null,
   "id": "f95f2766-a35f-4f52-af63-2427402d0e75",
   "metadata": {},
   "outputs": [],
   "source": []
  },
  {
   "cell_type": "code",
   "execution_count": 233,
   "id": "4f4cd9eb-a566-4a74-907d-1fa5f5e46705",
   "metadata": {},
   "outputs": [
    {
     "name": "stderr",
     "output_type": "stream",
     "text": [
      "100%|██████████| 14/14 [02:45<00:00, 11.84s/it]"
     ]
    },
    {
     "name": "stdout",
     "output_type": "stream",
     "text": [
      "res_corr2reg = 0.29\n",
      "res_contrast = 2.06\n",
      "Specificity = 0.08\n"
     ]
    },
    {
     "name": "stderr",
     "output_type": "stream",
     "text": [
      "\n"
     ]
    }
   ],
   "source": [
    "## COMPCOR\n",
    "res_corr2reg = np.zeros((14,4))\n",
    "res_contrast = np.zeros((14,4))\n",
    "res_specificity = np.zeros((14,4))\n",
    "\n",
    "for s in tqdm(range(14)):\n",
    "    for r in [1,2,3,4]:\n",
    "        fn = '../Data/StudyForrest/fmriprep/{sub}/ses-localizer/func/{sub}_ses-localizer_task-objectcategories_run-{r}_bold_space-MNI152NLin2009cAsym_COMPCOR-RONI.nii'\n",
    "        subim = ants.image_read(fn.format(sub=subs[s],r=r))\n",
    "        subFFA = ants.image_read(os.path.join(roi_dir,roi_fn_temp.format(sub=subs[s])))\n",
    "        valsFFA = subim.numpy()[subFFA.numpy()==1]\n",
    "        valsFFA=valsFFA[valsFFA.std(axis=1)>1e-3,:]\n",
    "\n",
    "        corr2reg = np.nanmean(correlate_columns(valsFFA.transpose(),np.array([face_reg for _ in range(valsFFA.shape[0])]).transpose()))\n",
    "        contrastVal = get_contrast_val(valsFFA,return_type='contrast')\n",
    "\n",
    "        arr1=subim.numpy()[(roi.numpy()==1) * (faceMap_mask==True)]\n",
    "        arr2=subim.numpy()[(roi.numpy()==1) * (faceMap_mask==False)]\n",
    "\n",
    "        arr1=arr1[arr1.std(axis=1)>1e-3]\n",
    "        arr2=arr2[arr2.std(axis=1)>1e-3]\n",
    "        r1=correlate_columns(arr1.transpose(),np.array([face_reg for _ in range(arr1.shape[0])]).transpose())\n",
    "        r2=correlate_columns(arr2.transpose(),np.array([face_reg for _ in range(arr2.shape[0])]).transpose())\n",
    "        specificity = r1.mean()-r2.mean()\n",
    "\n",
    "        res_corr2reg[s,r-1] = corr2reg\n",
    "        res_contrast[s,r-1] = contrastVal\n",
    "        res_specificity[s,r-1] = specificity\n",
    "        \n",
    "print(f'res_corr2reg = {corr2reg.mean():.2f}')\n",
    "print(f'res_contrast = {res_contrast.mean():.2f}')\n",
    "print(f'Specificity = {res_specificity.mean():.2f}')"
   ]
  },
  {
   "cell_type": "code",
   "execution_count": null,
   "id": "7bfd2655-5272-45fc-909a-03be18c97c24",
   "metadata": {},
   "outputs": [],
   "source": []
  },
  {
   "cell_type": "code",
   "execution_count": 249,
   "id": "a1c87acc-5a4a-4c7d-abb6-b497aeaec476",
   "metadata": {},
   "outputs": [],
   "source": [
    "model_names=['conv_denoise',\n",
    " 'conv_denoise500',\n",
    " 'conv_denoise_bn',\n",
    " 'conv_denoise_large',\n",
    " 'conv_denoise_large500',\n",
    " 'conv_smooth',\n",
    " 'conv_smooth-small',\n",
    " 'conv_weights_unet_denoise',\n",
    " 'conv_weights_unet_denoise500']"
   ]
  },
  {
   "cell_type": "code",
   "execution_count": 202,
   "id": "c9554210-7b34-4675-aa80-d4be901c4174",
   "metadata": {},
   "outputs": [],
   "source": []
  },
  {
   "cell_type": "code",
   "execution_count": 252,
   "id": "9200e5d4-92ed-44d0-9577-4930bf3bdc79",
   "metadata": {},
   "outputs": [
    {
     "name": "stderr",
     "output_type": "stream",
     "text": [
      "100%|██████████| 14/14 [00:47<00:00,  3.36s/it]\n",
      "  0%|          | 0/14 [00:00<?, ?it/s]"
     ]
    },
    {
     "name": "stdout",
     "output_type": "stream",
     "text": [
      "conv_denoise\n",
      "res_corr2reg = 0.21\n",
      "res_contrast = 2.72\n",
      "Specificity = 0.14\n"
     ]
    },
    {
     "name": "stderr",
     "output_type": "stream",
     "text": [
      "100%|██████████| 14/14 [00:47<00:00,  3.37s/it]\n",
      "  0%|          | 0/14 [00:00<?, ?it/s]"
     ]
    },
    {
     "name": "stdout",
     "output_type": "stream",
     "text": [
      "conv_denoise500\n",
      "res_corr2reg = 0.22\n",
      "res_contrast = 2.52\n",
      "Specificity = 0.14\n"
     ]
    },
    {
     "name": "stderr",
     "output_type": "stream",
     "text": [
      "100%|██████████| 14/14 [00:47<00:00,  3.37s/it]\n",
      "  0%|          | 0/14 [00:00<?, ?it/s]"
     ]
    },
    {
     "name": "stdout",
     "output_type": "stream",
     "text": [
      "conv_denoise_bn\n",
      "res_corr2reg = 0.21\n",
      "res_contrast = 2.40\n",
      "Specificity = 0.12\n"
     ]
    },
    {
     "name": "stderr",
     "output_type": "stream",
     "text": [
      "100%|██████████| 14/14 [00:45<00:00,  3.26s/it]\n",
      "  0%|          | 0/14 [00:00<?, ?it/s]"
     ]
    },
    {
     "name": "stdout",
     "output_type": "stream",
     "text": [
      "conv_denoise_large\n",
      "res_corr2reg = 0.21\n",
      "res_contrast = 2.58\n",
      "Specificity = 0.13\n"
     ]
    },
    {
     "name": "stderr",
     "output_type": "stream",
     "text": [
      "100%|██████████| 14/14 [00:45<00:00,  3.25s/it]\n",
      "  0%|          | 0/14 [00:00<?, ?it/s]"
     ]
    },
    {
     "name": "stdout",
     "output_type": "stream",
     "text": [
      "conv_denoise_large500\n",
      "res_corr2reg = 0.21\n",
      "res_contrast = 2.55\n",
      "Specificity = 0.12\n"
     ]
    },
    {
     "name": "stderr",
     "output_type": "stream",
     "text": [
      "100%|██████████| 14/14 [00:47<00:00,  3.37s/it]\n",
      "  0%|          | 0/14 [00:00<?, ?it/s]"
     ]
    },
    {
     "name": "stdout",
     "output_type": "stream",
     "text": [
      "conv_smooth\n",
      "res_corr2reg = 0.19\n",
      "res_contrast = 2.30\n",
      "Specificity = 0.12\n"
     ]
    },
    {
     "name": "stderr",
     "output_type": "stream",
     "text": [
      "100%|██████████| 14/14 [00:47<00:00,  3.36s/it]\n",
      "  0%|          | 0/14 [00:00<?, ?it/s]"
     ]
    },
    {
     "name": "stdout",
     "output_type": "stream",
     "text": [
      "conv_smooth-small\n",
      "res_corr2reg = 0.21\n",
      "res_contrast = 2.48\n",
      "Specificity = 0.12\n"
     ]
    },
    {
     "name": "stderr",
     "output_type": "stream",
     "text": [
      "100%|██████████| 14/14 [00:47<00:00,  3.37s/it]\n",
      "  0%|          | 0/14 [00:00<?, ?it/s]"
     ]
    },
    {
     "name": "stdout",
     "output_type": "stream",
     "text": [
      "conv_weights_unet_denoise\n",
      "res_corr2reg = 0.21\n",
      "res_contrast = 2.40\n",
      "Specificity = 0.12\n"
     ]
    },
    {
     "name": "stderr",
     "output_type": "stream",
     "text": [
      "100%|██████████| 14/14 [00:47<00:00,  3.37s/it]"
     ]
    },
    {
     "name": "stdout",
     "output_type": "stream",
     "text": [
      "conv_weights_unet_denoise500\n",
      "res_corr2reg = 0.21\n",
      "res_contrast = 2.32\n",
      "Specificity = 0.12\n"
     ]
    },
    {
     "name": "stderr",
     "output_type": "stream",
     "text": [
      "\n"
     ]
    }
   ],
   "source": [
    "## Adversarial Models\n",
    "for m in range(len(model_names)):\n",
    "    res_corr2reg = np.zeros((14,4))\n",
    "    res_contrast = np.zeros((14,4))\n",
    "    res_specificity = np.zeros((14,4))\n",
    "    for s in tqdm(range(14)):\n",
    "        for r in [1,2,3,4]:\n",
    "            fn = '../Data/StudyForrest/Stefano_adv_outputs/01-signals_averaged/S{s}-R{r}-{model_name}-avg.nii.gz'\n",
    "            subim = ants.image_read(fn.format(s=s,r=r,model_name=model_names[m]))\n",
    "            subFFA = ants.image_read(os.path.join(roi_dir,roi_fn_temp.format(sub=subs[s])))\n",
    "            valsFFA = subim.numpy()[subFFA.numpy()==1]\n",
    "            valsFFA=valsFFA[valsFFA.std(axis=1)>1e-3,:]\n",
    "\n",
    "            corr2reg = np.nanmean(correlate_columns(valsFFA.transpose(),np.array([face_reg for _ in range(valsFFA.shape[0])]).transpose()))\n",
    "            contrastVal = get_contrast_val(valsFFA,return_type='contrast')\n",
    "\n",
    "            arr1=subim.numpy()[(roi.numpy()==1) * (faceMap_mask==True)]\n",
    "            arr2=subim.numpy()[(roi.numpy()==1) * (faceMap_mask==False)]\n",
    "\n",
    "            arr1=arr1[arr1.std(axis=1)>1e-3]\n",
    "            arr2=arr2[arr2.std(axis=1)>1e-3]\n",
    "            r1=correlate_columns(arr1.transpose(),np.array([face_reg for _ in range(arr1.shape[0])]).transpose())\n",
    "            r2=correlate_columns(arr2.transpose(),np.array([face_reg for _ in range(arr2.shape[0])]).transpose())\n",
    "            specificity = r1.mean()-r2.mean()\n",
    "\n",
    "            res_corr2reg[s,r-1] = corr2reg\n",
    "            res_contrast[s,r-1] = contrastVal\n",
    "            res_specificity[s,r-1] = specificity\n",
    "\n",
    "    print(model_names[m])\n",
    "    print(f'res_corr2reg = {corr2reg.mean():.2f}')\n",
    "    print(f'res_contrast = {res_contrast.mean():.2f}')\n",
    "    print(f'Specificity = {res_specificity.mean():.2f}')"
   ]
  },
  {
   "cell_type": "code",
   "execution_count": null,
   "id": "161d5268-5cfb-46de-a3ba-c5e6312ba101",
   "metadata": {},
   "outputs": [],
   "source": []
  },
  {
   "cell_type": "code",
   "execution_count": null,
   "id": "010f3ea4-d7e7-4367-ac0e-4a3927fdb56b",
   "metadata": {},
   "outputs": [],
   "source": []
  },
  {
   "cell_type": "code",
   "execution_count": null,
   "id": "1c82e1d2-a958-48c9-ac14-858ad6b1398f",
   "metadata": {},
   "outputs": [],
   "source": []
  },
  {
   "cell_type": "code",
   "execution_count": null,
   "id": "ae5b3ad3-e65d-4056-a632-5b86e624029f",
   "metadata": {},
   "outputs": [],
   "source": []
  },
  {
   "cell_type": "code",
   "execution_count": null,
   "id": "93b4f2ac-bed7-4ace-a147-35e4690eb54e",
   "metadata": {},
   "outputs": [],
   "source": []
  }
 ],
 "metadata": {
  "kernelspec": {
   "display_name": "Python 3",
   "language": "python",
   "name": "python3"
  },
  "language_info": {
   "codemirror_mode": {
    "name": "ipython",
    "version": 3
   },
   "file_extension": ".py",
   "mimetype": "text/x-python",
   "name": "python",
   "nbconvert_exporter": "python",
   "pygments_lexer": "ipython3",
   "version": "3.8.8"
  }
 },
 "nbformat": 4,
 "nbformat_minor": 5
}
