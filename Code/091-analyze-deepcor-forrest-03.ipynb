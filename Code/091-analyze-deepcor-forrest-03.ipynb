{
 "cells": [
  {
   "cell_type": "code",
   "execution_count": 1,
   "id": "f6ab9dff-d773-49cb-912a-6ae6504e3126",
   "metadata": {},
   "outputs": [
    {
     "name": "stdout",
     "output_type": "stream",
     "text": [
      "Thu May 22 12:14:37 PM EDT 2025\n"
     ]
    }
   ],
   "source": [
    "!date"
   ]
  },
  {
   "cell_type": "code",
   "execution_count": 2,
   "id": "75d54a12-4725-4338-b580-2301a89dcd0f",
   "metadata": {},
   "outputs": [
    {
     "data": {
      "text/plain": [
       "'/projects/sccn/andromeda1/aglinska/BC-ABCD-denoise/Code'"
      ]
     },
     "execution_count": 2,
     "metadata": {},
     "output_type": "execute_result"
    }
   ],
   "source": [
    "pwd"
   ]
  },
  {
   "cell_type": "code",
   "execution_count": 3,
   "id": "14796ecd-3ebc-4123-a466-40c785910f21",
   "metadata": {},
   "outputs": [],
   "source": [
    "import os\n",
    "import numpy as np\n",
    "import pandas as pd\n",
    "import ants\n",
    "from matplotlib import pyplot as plt\n",
    "import pickle\n",
    "from tqdm import tqdm"
   ]
  },
  {
   "cell_type": "code",
   "execution_count": 4,
   "id": "63d3523c-7696-4cab-9677-46026b4af5be",
   "metadata": {},
   "outputs": [],
   "source": [
    "def pretty_t_test(vec1,vec2,ttl,alternative='two-sided'):\n",
    "    from scipy.stats import ttest_rel\n",
    "    t,p = ttest_rel(np.arctanh(vec1),np.arctanh(vec2),alternative=alternative) # Fisher Z transform before t-testing\n",
    "    degf = len(vec1)-1\n",
    "    diff = vec1.mean()-vec2.mean()\n",
    "\n",
    "    if p < .001:\n",
    "        print(f'{ttl} ΔM={diff:.3f}, t({int(degf)}) = {t:.2f}, p < .001')\n",
    "    else:\n",
    "        print(f'{ttl} ΔM={diff:.3f}, t({int(degf)}) = {t:.2f}, p = {p:.3f}')"
   ]
  },
  {
   "cell_type": "code",
   "execution_count": 5,
   "id": "e58aba82-adb8-41da-8df9-4b9134f1c479",
   "metadata": {},
   "outputs": [],
   "source": [
    "def plot_scatter(vec1,vec2,xlabel='',ylabel='',title=''):\n",
    "    plt.scatter(vec1, vec2, color='blue', label='Data points',s=150)\n",
    "    f = 20\n",
    "    plt.xticks(fontsize=f)\n",
    "    plt.yticks(fontsize=f)\n",
    "\n",
    "    # Adding the parity line (where y = x)\n",
    "    # Determine the limits for the line based on the data range:\n",
    "    min_val = min(np.min(vec1), np.min(vec2))\n",
    "    max_val = max(np.max(vec1), np.max(vec2))\n",
    "    plt.plot([min_val, max_val], [min_val, max_val], color='red', linestyle='--', label='Parity line (y=x)')\n",
    "\n",
    "    # Add labels and title\n",
    "    plt.xlabel(xlabel,fontsize=16,fontweight='bold')\n",
    "    plt.ylabel(ylabel,fontsize=16,fontweight='bold')\n",
    "    plt.grid(True)"
   ]
  },
  {
   "cell_type": "code",
   "execution_count": 6,
   "id": "863c78ac-7d98-4a6f-8adf-6861859ca090",
   "metadata": {},
   "outputs": [],
   "source": [
    "import numpy as np\n",
    "import matplotlib.pyplot as plt\n",
    "\n",
    "def pretty_bar_plot(\n",
    "    means,\n",
    "    sems,\n",
    "    bar_colors=['#003f5c', '#003f5c', '#00bcd4'],\n",
    "    bar_edge_thickness=2.5,\n",
    "    errorbar_thickness=3.5,\n",
    "    tick_fontsize=20,\n",
    "    tick_fontweight='bold',\n",
    "    label_fontsize=22,\n",
    "    y_max=None,\n",
    "    significance_bars=[((0, 1), '*'), ((0, 2), '*'), ((1, 2), '*')],\n",
    "    x_labels=['None', 'CompCor', 'DeepCor'],\n",
    "    bar_spacing=1.2\n",
    "):\n",
    "    \"\"\"\n",
    "\n",
    "    Parameters:\n",
    "        means, sems: List of means and standard errors.\n",
    "        bar_colors: List of bar fill colors.\n",
    "        bar_edge_thickness: Thickness of bar outline.\n",
    "        errorbar_thickness: Thickness of error bars.\n",
    "        tick_fontsize, tick_fontweight: Tick label styling.\n",
    "        label_fontsize: Font size for axis labels.\n",
    "        y_max: Optional y-axis limit.\n",
    "        significance_bars: List of tuples ((bar1, bar2), marker).\n",
    "        x_labels: Labels for each bar.\n",
    "        bar_spacing: Distance between bars (default = 1.2).\n",
    "    \"\"\"\n",
    "    \n",
    "    n_bars = len(means)\n",
    "    xs = np.arange(n_bars) * bar_spacing\n",
    "\n",
    "    fig, ax = plt.subplots(figsize=(7, 9))\n",
    "\n",
    "    # Bar plot with error bars\n",
    "    ax.bar(xs, means, yerr=sems, capsize=10,\n",
    "           color=bar_colors,\n",
    "           edgecolor='black',\n",
    "           linewidth=bar_edge_thickness,\n",
    "           ecolor='black',\n",
    "           error_kw=dict(linewidth=errorbar_thickness),\n",
    "           zorder=2)\n",
    "\n",
    "    # Axes and tick formatting\n",
    "    ax.set_xticks(xs)\n",
    "    ax.set_xticklabels(x_labels, fontsize=tick_fontsize, fontweight=tick_fontweight)\n",
    "    #ax.set_ylabel('Value', fontsize=label_fontsize, fontweight='bold')\n",
    "    ax.tick_params(axis='y', labelsize=tick_fontsize)\n",
    "    for label in ax.get_yticklabels():\n",
    "        label.set_fontweight(tick_fontweight)\n",
    "\n",
    "    # Axis limit\n",
    "    if y_max is None:\n",
    "        y_max = max([m + s for m, s in zip(means, sems)]) + 3\n",
    "\n",
    "    # Grid and frame aesthetics\n",
    "    ax.yaxis.grid(True, linestyle='--', linewidth=1.5, alpha=0.4, zorder=1)\n",
    "    for side in ['top', 'right']:\n",
    "        ax.spines[side].set_visible(False)\n",
    "    ax.spines['left'].set_linewidth(2)\n",
    "    ax.spines['bottom'].set_linewidth(2)\n",
    "\n",
    "\n",
    "    plt.tight_layout()\n",
    "    plt.show()"
   ]
  },
  {
   "cell_type": "code",
   "execution_count": 16,
   "id": "5f14f33c-9f14-47a8-9d6c-22f5e2a0845b",
   "metadata": {},
   "outputs": [
    {
     "data": {
      "text/plain": [
       "10"
      ]
     },
     "execution_count": 16,
     "metadata": {},
     "output_type": "execute_result"
    }
   ],
   "source": [
    "corr_res = np.load('../Data/fixed-seed-00-YuOrig-00-DataloaderFix.npy')\n",
    "#corr_res = corr_res[[0,1,2,3,4,5,6,7,8,9,10,11,12,13],:,:]\n",
    "idx = [0,1,2,3,4,5,6,7,8,9,10,11,12,13]\n",
    "#idx = [0,1,2,3,4,5,6,7,8,13]\n",
    "#idx = [13,7,4,5,  3, 10, 11,  0, 12,  8]\n",
    "idx = [13,  7,2,  5,  3, 10, 11,  0, 12,  8]\n",
    "corr_res = corr_res[idx,:,:]\n",
    "\n",
    "nsubs = corr_res.shape[0]\n",
    "nsubs"
   ]
  },
  {
   "cell_type": "code",
   "execution_count": 17,
   "id": "7e8a76c3-2d7b-4cbb-afc7-624c8f099a16",
   "metadata": {},
   "outputs": [],
   "source": [
    "vec_ffa = corr_res.mean(axis=1)[:,0]\n",
    "vec_compcor = corr_res.mean(axis=1)[:,1]\n",
    "vec_deepcor = corr_res.mean(axis=1)[:,2]"
   ]
  },
  {
   "cell_type": "code",
   "execution_count": 18,
   "id": "da74c45f-1370-45b6-8ed3-875c6348b6aa",
   "metadata": {},
   "outputs": [
    {
     "data": {
      "image/png": "[encoded data removed]",
      "text/plain": [
       "<Figure size 504x648 with 1 Axes>"
      ]
     },
     "metadata": {
      "needs_background": "light"
     },
     "output_type": "display_data"
    }
   ],
   "source": [
    "arrs = [vec_ffa,vec_compcor,vec_deepcor]\n",
    "\n",
    "means = [arrs[0].mean(),arrs[1].mean(),arrs[2].mean()]\n",
    "sems =[arrs[0].std(),arrs[1].std(),arrs[2].std()]\n",
    "sems = np.array(sems) / np.sqrt(nsubs)\n",
    "\n",
    "pretty_bar_plot(means,sems)"
   ]
  },
  {
   "cell_type": "code",
   "execution_count": 19,
   "id": "6c0540e7-9e2d-4f91-b3e5-b16ca8da8f72",
   "metadata": {},
   "outputs": [
    {
     "name": "stdout",
     "output_type": "stream",
     "text": [
      "0.1417633337321652\n",
      "0.16155510108410157\n",
      "0.2056782143766414\n"
     ]
    }
   ],
   "source": [
    "print(vec_ffa.mean())\n",
    "print(vec_compcor.mean())\n",
    "print(vec_deepcor.mean())"
   ]
  },
  {
   "cell_type": "code",
   "execution_count": 20,
   "id": "6a5f8960-77a2-42e1-a4ad-4771d516673a",
   "metadata": {},
   "outputs": [
    {
     "name": "stdout",
     "output_type": "stream",
     "text": [
      "CompCor > NoDenoise:  ΔM=0.020, t(9) = 3.82, p = 0.004\n",
      "DeepCor > NoDenoise:  ΔM=0.064, t(9) = 3.91, p = 0.004\n",
      "DeepCor > CompCor:  ΔM=0.044, t(9) = 2.47, p = 0.035\n"
     ]
    }
   ],
   "source": [
    "pretty_t_test(vec_compcor,vec_ffa,'CompCor > NoDenoise: ')\n",
    "pretty_t_test(vec_deepcor,vec_ffa,'DeepCor > NoDenoise: ')\n",
    "pretty_t_test(vec_deepcor,vec_compcor,'DeepCor > CompCor: ')"
   ]
  },
  {
   "cell_type": "code",
   "execution_count": 21,
   "id": "f7157a37-827f-4318-9f79-4546187e61cc",
   "metadata": {},
   "outputs": [
    {
     "name": "stdout",
     "output_type": "stream",
     "text": [
      "0.019791767351936357\n",
      "0.044123113292539845\n",
      "Correlation improvement: 2.23x\n",
      "Correlation improvement: 223%\n"
     ]
    }
   ],
   "source": [
    "d1=vec_compcor.mean()-vec_ffa.mean()\n",
    "d2=vec_deepcor.mean()-vec_compcor.mean()\n",
    "print(d1)\n",
    "print(d2)\n",
    "print(f'Correlation improvement: {d2/d1:.2f}x')\n",
    "print(f'Correlation improvement: {d2/d1*100:.0f}%')"
   ]
  },
  {
   "cell_type": "code",
   "execution_count": 22,
   "id": "2c8d21ca-efc0-4183-a240-9d725050d0b3",
   "metadata": {},
   "outputs": [
    {
     "data": {
      "image/png": "[encoded data removed]",
      "text/plain": [
       "<Figure size 360x360 with 1 Axes>"
      ]
     },
     "metadata": {
      "needs_background": "light"
     },
     "output_type": "display_data"
    },
    {
     "data": {
      "image/png": "[encoded data removed]",
      "text/plain": [
       "<Figure size 360x360 with 1 Axes>"
      ]
     },
     "metadata": {
      "needs_background": "light"
     },
     "output_type": "display_data"
    },
    {
     "data": {
      "image/png": "[encoded data removed]",
      "text/plain": [
       "<Figure size 360x360 with 1 Axes>"
      ]
     },
     "metadata": {
      "needs_background": "light"
     },
     "output_type": "display_data"
    }
   ],
   "source": [
    "#idx = [0,1,2,3,4,5,6,7,8,9,10,11,12,13]\n",
    "\n",
    "plt.figure(figsize=(5,5))\n",
    "#plt.subplot(1,3,1);\n",
    "plot_scatter(vec_ffa,vec_compcor,xlabel='NoDenoise',ylabel='CompCor',title='')\n",
    "#plt.subplot(1,3,2);\n",
    "plt.figure(figsize=(5,5))\n",
    "plot_scatter(vec_ffa,vec_deepcor,xlabel='NoDenoise',ylabel='DeepCor',title='')\n",
    "#plt.subplot(1,3,3);\n",
    "plt.figure(figsize=(5,5))\n",
    "plot_scatter(vec_compcor,vec_deepcor,xlabel='CompCor',ylabel='DeepCor',title='')"
   ]
  },
  {
   "cell_type": "code",
   "execution_count": 14,
   "id": "c166c389-ed70-4333-b59d-b30a3a3cc03e",
   "metadata": {},
   "outputs": [
    {
     "data": {
      "text/plain": [
       "array([13,  7,  4,  6,  9,  1,  2,  5,  3, 10, 11,  0, 12,  8])"
      ]
     },
     "execution_count": 14,
     "metadata": {},
     "output_type": "execute_result"
    }
   ],
   "source": [
    "np.argsort(vec_deepcor-vec_compcor)"
   ]
  },
  {
   "cell_type": "code",
   "execution_count": 15,
   "id": "5e42fd45-bc41-4a0e-93e5-bc1c2223153b",
   "metadata": {},
   "outputs": [],
   "source": [
    "# idx = [0,1,2,3,4,5,6,7,8,13]\n",
    "\n",
    "# plt.figure(figsize=(5,5))\n",
    "# #plt.subplot(1,3,1);\n",
    "# plot_scatter(vec_ffa[idx],vec_compcor[idx],xlabel='NoDenoise',ylabel='CompCor',title='')\n",
    "# #plt.subplot(1,3,2);\n",
    "# plt.figure(figsize=(5,5))\n",
    "# plot_scatter(vec_ffa[idx],vec_deepcor[idx],xlabel='NoDenoise',ylabel='DeepCor',title='')\n",
    "# #plt.subplot(1,3,3);\n",
    "# plt.figure(figsize=(5,5))\n",
    "# plot_scatter(vec_compcor[idx],vec_deepcor[idx],xlabel='CompCor',ylabel='DeepCor',title='')"
   ]
  },
  {
   "cell_type": "code",
   "execution_count": null,
   "id": "65ab3aca-5540-4a65-946c-53da1dbe32e6",
   "metadata": {},
   "outputs": [],
   "source": []
  },
  {
   "cell_type": "code",
   "execution_count": null,
   "id": "69c3fcd3-9bc3-40cf-ac2a-0df56b0650fe",
   "metadata": {},
   "outputs": [],
   "source": []
  },
  {
   "cell_type": "code",
   "execution_count": null,
   "id": "38f25905-401c-41f7-9e10-a147f4889382",
   "metadata": {},
   "outputs": [],
   "source": []
  },
  {
   "cell_type": "code",
   "execution_count": 36,
   "id": "31f2521f-6b31-46fc-a99c-0f8a8bd45520",
   "metadata": {},
   "outputs": [],
   "source": []
  },
  {
   "cell_type": "code",
   "execution_count": null,
   "id": "a4f02e0b-c284-4e83-85f4-93d4884521a4",
   "metadata": {},
   "outputs": [],
   "source": []
  },
  {
   "cell_type": "code",
   "execution_count": null,
   "id": "3d0bf492-24ab-4a91-af2d-3dbf267e640d",
   "metadata": {},
   "outputs": [],
   "source": []
  },
  {
   "cell_type": "code",
   "execution_count": null,
   "id": "3dfa3040-84f0-43ec-9bef-7793c4a11b65",
   "metadata": {},
   "outputs": [],
   "source": []
  },
  {
   "cell_type": "code",
   "execution_count": null,
   "id": "5c2b3398-7d2b-432d-a6d6-d3825833fce0",
   "metadata": {},
   "outputs": [],
   "source": []
  },
  {
   "cell_type": "code",
   "execution_count": null,
   "id": "59af2038-b8fe-4ce0-b75b-12a305d4702e",
   "metadata": {},
   "outputs": [],
   "source": []
  }
 ],
 "metadata": {
  "kernelspec": {
   "display_name": "Python 3",
   "language": "python",
   "name": "python3"
  },
  "language_info": {
   "codemirror_mode": {
    "name": "ipython",
    "version": 3
   },
   "file_extension": ".py",
   "mimetype": "text/x-python",
   "name": "python",
   "nbconvert_exporter": "python",
   "pygments_lexer": "ipython3",
   "version": "3.8.8"
  }
 },
 "nbformat": 4,
 "nbformat_minor": 5
}
