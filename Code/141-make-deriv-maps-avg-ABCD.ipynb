{
 "cells": [
  {
   "cell_type": "code",
   "execution_count": 2,
   "id": "08179fd8-d165-4f57-ad77-bdbfd808e43c",
   "metadata": {},
   "outputs": [],
   "source": [
    "import os\n",
    "import numpy as np\n",
    "import pandas as pd\n",
    "from matplotlib import pyplot as plt\n",
    "import ants\n",
    "from tqdm import tqdm"
   ]
  },
  {
   "cell_type": "code",
   "execution_count": 7,
   "id": "74a5542c-51fb-4501-9a28-1c996343758c",
   "metadata": {},
   "outputs": [
    {
     "name": "stdout",
     "output_type": "stream",
     "text": [
      "34\n"
     ]
    }
   ],
   "source": [
    "indir = '../Data/020-fmriprepped'\n",
    "subs = [s for s in os.listdir(indir) if all((s.startswith('sub'),not s.endswith('.html')))]\n",
    "subs.sort()\n",
    "print(len(subs))"
   ]
  },
  {
   "cell_type": "code",
   "execution_count": 8,
   "id": "a4833820-7539-402b-a4e4-3da1e9eae647",
   "metadata": {},
   "outputs": [],
   "source": [
    "analysis_name = 'DeepCor-ABCD-v5'\n",
    "analysis_dir = os.path.join('../Data/StudyForrest/ensembles_last_CVAE/',analysis_name)"
   ]
  },
  {
   "cell_type": "code",
   "execution_count": 9,
   "id": "1c1e414c-374b-443e-bf5f-19dea71a4641",
   "metadata": {},
   "outputs": [],
   "source": [
    "ofname = os.path.join(analysis_dir,'{name}_S{s}_R{r}_med.nii.gz')"
   ]
  },
  {
   "cell_type": "code",
   "execution_count": 10,
   "id": "2845fa93-57ee-477e-bd80-69d6bbcac0fa",
   "metadata": {},
   "outputs": [],
   "source": [
    "svec = np.arange(len(subs))\n",
    "rvec = [1,2]"
   ]
  },
  {
   "cell_type": "code",
   "execution_count": 11,
   "id": "61729fd0-0fe9-46c8-8b50-204100e4a207",
   "metadata": {},
   "outputs": [],
   "source": [
    "check_done = np.zeros((len(svec),len(rvec)))\n",
    "for s in svec:\n",
    "    for r in rvec:\n",
    "        is_done = [os.path.exists(ofname.format(name='corr2face',s=s,r=r)),\n",
    "    os.path.exists(ofname.format(name='corr2place',s=s,r=r)),\n",
    "    os.path.exists(ofname.format(name='contrast_face',s=s,r=r)),\n",
    "    os.path.exists(ofname.format(name='contrast_place',s=s,r=r))]\n",
    "        check_done[s,r-1]=np.array(is_done).sum()"
   ]
  },
  {
   "cell_type": "code",
   "execution_count": 12,
   "id": "5dd98929-c126-4a9e-a8ab-3c171bc04124",
   "metadata": {},
   "outputs": [
    {
     "data": {
      "text/plain": [
       "<AxesSubplot:>"
      ]
     },
     "execution_count": 12,
     "metadata": {},
     "output_type": "execute_result"
    },
    {
     "data": {
      "image/png": "[encoded data removed]",
      "text/plain": [
       "<Figure size 1440x216 with 1 Axes>"
      ]
     },
     "metadata": {
      "needs_background": "light"
     },
     "output_type": "display_data"
    }
   ],
   "source": [
    "import seaborn as sns\n",
    "plt.figure(figsize=(20,3))\n",
    "sns.heatmap(check_done.transpose(),annot=True,cbar=False)"
   ]
  },
  {
   "cell_type": "code",
   "execution_count": 51,
   "id": "f1753404-11a8-4220-91b1-76c8d40abb2a",
   "metadata": {},
   "outputs": [],
   "source": [
    "# def safe_load(epi_fn):\n",
    "#     if os.path.exists(epi_fn):\n",
    "#         im = ants.image_read(epi_fn)\n",
    "#         return im"
   ]
  },
  {
   "cell_type": "code",
   "execution_count": 43,
   "id": "8e450473-c390-49a7-bf9d-16e331940281",
   "metadata": {},
   "outputs": [],
   "source": [
    "names = ['corr2face','corr2place','contrast_face','contrast_place']\n",
    "for name in names:\n",
    "    for s in svec:\n",
    "        if all([os.path.exists(ofname.format(name='corr2face',s=s,r=1)),os.path.exists(ofname.format(name='corr2face',s=s,r=2))]):\n",
    "            ims = [ants.image_read(ofname.format(name=name,s=s,r=r)) for r in [1,2]]\n",
    "            arr = np.array([im.numpy() for im in ims]).mean(axis=0)\n",
    "            ims[0].new_image_like(arr).to_filename(os.path.join(analysis_dir,'{name}_S{s}_Ravg_med.nii.gz'.format(name=name,s=s)))"
   ]
  },
  {
   "cell_type": "code",
   "execution_count": 60,
   "id": "0d85f1ca-d8d4-4512-b627-688315153d8d",
   "metadata": {},
   "outputs": [],
   "source": [
    "for name in names:\n",
    "    ims = []\n",
    "    for s in svec:\n",
    "        fn = os.path.join(analysis_dir,'{name}_S{s}_Ravg_med.nii.gz'.format(name=name,s=s))\n",
    "        if os.path.exists(fn):\n",
    "            ims.append(ants.image_read(fn))\n",
    "    arr = np.array([im.numpy() for im in ims]).mean(axis=0)\n",
    "    ims[0].new_image_like(arr).to_filename(os.path.join(analysis_dir,'{name}_grandAvg_med.nii.gz'.format(name=name)))"
   ]
  },
  {
   "cell_type": "code",
   "execution_count": 59,
   "id": "92fedee3-44c5-4dd7-ae4d-e3dc1dc3f813",
   "metadata": {},
   "outputs": [],
   "source": []
  },
  {
   "cell_type": "code",
   "execution_count": null,
   "id": "b9380a46-05e8-48b0-9384-ec1c53fe99fd",
   "metadata": {},
   "outputs": [],
   "source": []
  }
 ],
 "metadata": {
  "kernelspec": {
   "display_name": "Python 3",
   "language": "python",
   "name": "python3"
  },
  "language_info": {
   "codemirror_mode": {
    "name": "ipython",
    "version": 3
   },
   "file_extension": ".py",
   "mimetype": "text/x-python",
   "name": "python",
   "nbconvert_exporter": "python",
   "pygments_lexer": "ipython3",
   "version": "3.8.8"
  }
 },
 "nbformat": 4,
 "nbformat_minor": 5
}
