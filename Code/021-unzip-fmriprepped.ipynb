{
 "cells": [
  {
   "cell_type": "code",
   "execution_count": null,
   "id": "e0ed43d6-07c8-47a9-99ed-e7064cb68bc4",
   "metadata": {},
   "outputs": [],
   "source": []
  },
  {
   "cell_type": "code",
   "execution_count": 1,
   "id": "d1119d68-edcc-432e-bfe5-ea41a107001a",
   "metadata": {},
   "outputs": [],
   "source": [
    "## UNZIP .nii.gz scans"
   ]
  },
  {
   "cell_type": "code",
   "execution_count": 2,
   "id": "e42ef1bc-c8dd-4589-87ca-d77eae6cb14c",
   "metadata": {},
   "outputs": [],
   "source": [
    "import os\n",
    "import gzip\n",
    "import shutil\n",
    "from tqdm import tqdm"
   ]
  },
  {
   "cell_type": "code",
   "execution_count": 10,
   "id": "62f8d00d-a55a-4c9f-bcbb-1b5f3f05d56f",
   "metadata": {},
   "outputs": [
    {
     "name": "stdout",
     "output_type": "stream",
     "text": [
      "30\n",
      "30\n"
     ]
    }
   ],
   "source": [
    "# indir = '../Data/010-Data_bids2/'\n",
    "# subs = [f for f in os.listdir(indir) if f.startswith('sub-')]\n",
    "# print(len(subs))\n",
    "# fn_temp = '../Data/010-Data_bids2/{sub}/ses-baselineYear1Arm1/func/{sub}_ses-baselineYear1Arm1_task-nback_run-0{run}_events.tsv'\n",
    "# nii_temp = '../Data/020-fmriprepped/{sub}/ses-baselineYear1Arm1/func/{sub}_ses-baselineYear1Arm1_task-nback_run-0{run}_space-MNI152NLin2009cAsym_res-2_desc-preproc_bold.nii.gz'\n",
    "\n",
    "# subs = [sub for sub in subs if all((os.path.exists(fn_temp.format(sub=sub,run=1)),\n",
    "# os.path.exists(fn_temp.format(sub=sub,run=2)),\n",
    "# os.path.exists(nii_temp.format(sub=sub,run=1)),\n",
    "# os.path.exists(nii_temp.format(sub=sub,run=2))))]\n",
    "# print(len(subs))"
   ]
  },
  {
   "cell_type": "code",
   "execution_count": 14,
   "id": "bb2065ca-3dbe-4a10-b034-ec502d1a523c",
   "metadata": {},
   "outputs": [
    {
     "name": "stdout",
     "output_type": "stream",
     "text": [
      "34\n",
      "34\n"
     ]
    }
   ],
   "source": [
    "indir = '../Data/020-fmriprepped/'\n",
    "subs = [f for f in os.listdir(indir) if all( (f.startswith('sub-'),not f.endswith('.html')) )]\n",
    "nii_temp = '../Data/020-fmriprepped/{sub}/ses-baselineYear1Arm1/func/{sub}_ses-baselineYear1Arm1_task-nback_run-0{run}_space-MNI152NLin2009cAsym_res-2_desc-preproc_bold.nii.gz'\n",
    "print(len(subs))\n",
    "\n",
    "# subs = [sub for sub in subs if all((os.path.exists(fn_temp.format(sub=sub,run=1)),\n",
    "# os.path.exists(fn_temp.format(sub=sub,run=2)),\n",
    "# os.path.exists(nii_temp.format(sub=sub,run=1)),\n",
    "# os.path.exists(nii_temp.format(sub=sub,run=2))))]\n",
    "\n",
    "subs = [sub for sub in subs if all((\n",
    "os.path.exists(nii_temp.format(sub=sub,run=1)),\n",
    "os.path.exists(nii_temp.format(sub=sub,run=2))\n",
    "                                   ))]\n",
    "\n",
    "                                   \n",
    "print(len(subs))"
   ]
  },
  {
   "cell_type": "code",
   "execution_count": 15,
   "id": "c490597e-5620-46bc-a000-ff52fea667b8",
   "metadata": {},
   "outputs": [
    {
     "name": "stderr",
     "output_type": "stream",
     "text": [
      "100%|███████████████████████████████████████████| 34/34 [00:21<00:00,  1.61it/s]\n"
     ]
    }
   ],
   "source": [
    "for sub in tqdm(subs):\n",
    "    for run in [1,2]: # 1\n",
    "        fn = nii_temp.format(sub=sub,run=run)\n",
    "        if os.path.exists(fn) and not os.path.exists(fn.replace('.nii.gz','.nii')):\n",
    "            with gzip.open(fn, 'rb') as f_in:\n",
    "                with open(fn.replace('.nii.gz','.nii'), 'wb') as f_out:\n",
    "                    shutil.copyfileobj(f_in, f_out)"
   ]
  },
  {
   "cell_type": "code",
   "execution_count": null,
   "id": "9c8d78da-b899-4c82-8ac5-27958e056f36",
   "metadata": {},
   "outputs": [],
   "source": []
  },
  {
   "cell_type": "code",
   "execution_count": null,
   "id": "dd1e24af-7490-44b8-aa71-960309b073d3",
   "metadata": {},
   "outputs": [],
   "source": []
  },
  {
   "cell_type": "code",
   "execution_count": null,
   "id": "b76c1f57-a366-4f39-9fce-9e992d022402",
   "metadata": {},
   "outputs": [],
   "source": []
  }
 ],
 "metadata": {
  "kernelspec": {
   "display_name": "Python 3 (ipykernel)",
   "language": "python",
   "name": "python3"
  },
  "language_info": {
   "codemirror_mode": {
    "name": "ipython",
    "version": 3
   },
   "file_extension": ".py",
   "mimetype": "text/x-python",
   "name": "python",
   "nbconvert_exporter": "python",
   "pygments_lexer": "ipython3",
   "version": "3.8.17"
  }
 },
 "nbformat": 4,
 "nbformat_minor": 5
}
