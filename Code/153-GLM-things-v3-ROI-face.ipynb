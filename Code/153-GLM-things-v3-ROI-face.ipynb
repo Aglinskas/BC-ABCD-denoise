{
 "cells": [
  {
   "cell_type": "code",
   "execution_count": 1,
   "id": "9db101cf-1751-40cd-902b-c3c55d370120",
   "metadata": {},
   "outputs": [
    {
     "name": "stdout",
     "output_type": "stream",
     "text": [
      "Mon Jun 23 12:03:10 PM EDT 2025\n"
     ]
    }
   ],
   "source": [
    "!date"
   ]
  },
  {
   "cell_type": "code",
   "execution_count": 2,
   "id": "6280f06d-fd2c-4e02-bce7-e3ac8b87673a",
   "metadata": {},
   "outputs": [
    {
     "data": {
      "text/plain": [
       "'/projects/sccn/andromeda1/aglinska/BC-ABCD-denoise/Code'"
      ]
     },
     "execution_count": 2,
     "metadata": {},
     "output_type": "execute_result"
    }
   ],
   "source": [
    "pwd"
   ]
  },
  {
   "cell_type": "code",
   "execution_count": 3,
   "id": "b1dd1264-3e78-4980-a858-2dd4bdd36c0a",
   "metadata": {},
   "outputs": [],
   "source": [
    "import os\n",
    "import numpy as np\n",
    "import pandas as pd\n",
    "from matplotlib import pyplot as plt\n",
    "import seaborn as sns\n",
    "import ants\n",
    "from tqdm import tqdm\n",
    "import warnings"
   ]
  },
  {
   "cell_type": "code",
   "execution_count": 4,
   "id": "0b7ea144-6bd4-46c5-ae10-83e94c4dd92f",
   "metadata": {},
   "outputs": [],
   "source": [
    "import ants"
   ]
  },
  {
   "cell_type": "code",
   "execution_count": 5,
   "id": "1fe89ab6-06da-4978-9bd4-b93a934f68fa",
   "metadata": {},
   "outputs": [],
   "source": [
    "from nilearn import plotting\n",
    "from nilearn.glm.first_level import FirstLevelModel"
   ]
  },
  {
   "cell_type": "code",
   "execution_count": 6,
   "id": "61d38042-9b83-44ef-b300-56a0fa08af90",
   "metadata": {},
   "outputs": [],
   "source": [
    "def run_contrast(func_imgs,\n",
    "                 events_tsv,\n",
    "                 confounds_tsv,\n",
    "                 contrast_vec,\n",
    "                 ofn):\n",
    "    \n",
    "    first_level_model = FirstLevelModel(\n",
    "    t_r=1.5,                   # replace with your TR\n",
    "    slice_time_ref=0.5,        # reference slice (0–1)\n",
    "    hrf_model='spm',           # canonical SPM HRF\n",
    "    drift_model='cosine',\n",
    "    high_pass=0.01,            # cutoff (Hz)\n",
    "    noise_model='ar1',\n",
    "    smoothing_fwhm=6.0,        # in mm\n",
    "    signal_scaling=False,\n",
    "    standardize=True,\n",
    "    verbose=1)\n",
    "    \n",
    "    first_level_model = first_level_model.fit(\n",
    "    run_imgs=func_imgs,\n",
    "    events=events_tsv,\n",
    "    confounds=None)\n",
    "    \n",
    "    dm = first_level_model.design_matrices_[0]\n",
    "    print(dm.columns) \n",
    "    \n",
    "    z_map = first_level_model.compute_contrast(contrast_vec,stat_type='t',output_type='stat')\n",
    "    \n",
    "    \n",
    "    display = plotting.plot_stat_map(\n",
    "    z_map,\n",
    "    threshold=3.1,\n",
    "    display_mode='ortho',\n",
    "    cut_coords=None, #(0, -52, 8),\n",
    "    title=ofn.split('/')[-1])\n",
    "    plotting.show()\n",
    "    \n",
    "    z_map.to_filename(ofn)"
   ]
  },
  {
   "cell_type": "code",
   "execution_count": 7,
   "id": "041d394d-9e88-48c5-bb37-2a5cf34ef8ec",
   "metadata": {},
   "outputs": [],
   "source": [
    "indir = '../Data/things/fmriprep2'"
   ]
  },
  {
   "cell_type": "code",
   "execution_count": 8,
   "id": "0ee94fb3-d10a-430d-bceb-8a96020109f2",
   "metadata": {},
   "outputs": [
    {
     "data": {
      "text/plain": [
       "'../Data/things/deepcor_outputs/DeepCor-things-v2'"
      ]
     },
     "execution_count": 8,
     "metadata": {},
     "output_type": "execute_result"
    }
   ],
   "source": [
    "deepcor_dir = '../Data/things/deepcor_outputs/'\n",
    "analysis_name = 'DeepCor-things-v2'\n",
    "analysis_dir = os.path.join(deepcor_dir,analysis_name)\n",
    "analysis_dir"
   ]
  },
  {
   "cell_type": "code",
   "execution_count": 9,
   "id": "0de58c76-659b-43c3-a8a3-de7389759a31",
   "metadata": {},
   "outputs": [],
   "source": [
    "kinds = ['preproc','compcor','signal']\n",
    "k = 2\n",
    "kind = kinds[k]"
   ]
  },
  {
   "cell_type": "code",
   "execution_count": 10,
   "id": "f2e5cf10-fd41-4010-93d4-3e15bf818b9a",
   "metadata": {},
   "outputs": [],
   "source": [
    "subs = ['sub-01','sub-02','sub-03']\n",
    "s = 2\n",
    "sub = subs[s]\n",
    "sess_name = 'ses-localizer2' if sub=='sub-01' else 'ses-localizer1'"
   ]
  },
  {
   "cell_type": "code",
   "execution_count": 11,
   "id": "edd465bf-e159-495f-af3e-a7498991610d",
   "metadata": {},
   "outputs": [],
   "source": [
    "contrast_vec = np.array([-1,5,-1,-1,-1,-1,0,0,0,0])"
   ]
  },
  {
   "cell_type": "code",
   "execution_count": null,
   "id": "4ea4a356-a7af-4263-8009-c2c17397d99d",
   "metadata": {},
   "outputs": [],
   "source": []
  },
  {
   "cell_type": "code",
   "execution_count": 12,
   "id": "fd031a24-a5b0-4951-b6f8-162808213197",
   "metadata": {},
   "outputs": [],
   "source": [
    "# import ants\n",
    "# import numpy as np\n",
    "# for s in [0,1,2]:\n",
    "#     for method in ['preproc','compcor','signal']:\n",
    "#         kind = 'contrast_face'\n",
    "#         fn = '../Data/things/deepcor_outputs/DeepCor-things-v2/{method}_{kind}_S{s}_R{r}.nii.gz'\n",
    "#         ofn = '../Data/things/deepcor_outputs/DeepCor-things-v2/{method}_{kind}_S{s}_Ravg.nii.gz'\n",
    "#         ims = [ants.image_read(fn.format(s=s,r=r,method=method,kind=kind)) for r in [1,2,3,4,5,6]]\n",
    "#         avg = np.array([im.numpy() for im in ims]).mean(axis=0)\n",
    "#         ims[0].new_image_like(avg).to_filename(ofn.format(s=s,method=method,kind=kind))"
   ]
  },
  {
   "cell_type": "code",
   "execution_count": null,
   "id": "a96117c1-5f21-4739-9443-bea132197717",
   "metadata": {},
   "outputs": [],
   "source": []
  },
  {
   "cell_type": "code",
   "execution_count": null,
   "id": "096bf374-8bb4-400f-bb4b-68e97ad065d3",
   "metadata": {},
   "outputs": [],
   "source": []
  },
  {
   "cell_type": "code",
   "execution_count": null,
   "id": "bc4ff4a4-c6b8-4dc0-98d4-ee3fbb67b75c",
   "metadata": {},
   "outputs": [],
   "source": []
  },
  {
   "cell_type": "code",
   "execution_count": null,
   "id": "5cd9a5a5-df83-429f-b3da-6753c6686955",
   "metadata": {},
   "outputs": [],
   "source": []
  },
  {
   "cell_type": "code",
   "execution_count": 13,
   "id": "be88bfdd-b9c2-4ef9-a1a6-65994ce4be96",
   "metadata": {},
   "outputs": [],
   "source": [
    "from matplotlib import pyplot as plt"
   ]
  },
  {
   "cell_type": "code",
   "execution_count": 14,
   "id": "a13330e6-5a93-4ccd-85bb-98526fef30cf",
   "metadata": {},
   "outputs": [],
   "source": [
    "ffa = ants.image_read('../Misc/ffa_map_resampled.nii')"
   ]
  },
  {
   "cell_type": "code",
   "execution_count": 15,
   "id": "07baf960-ca80-4c9f-a1c0-a55234cea32e",
   "metadata": {},
   "outputs": [
    {
     "data": {
      "text/plain": [
       "[<matplotlib.lines.Line2D at 0x1554ffd84340>]"
      ]
     },
     "execution_count": 15,
     "metadata": {},
     "output_type": "execute_result"
    },
    {
     "data": {
      "image/png": "[encoded data removed]",
      "text/plain": [
       "<Figure size 432x288 with 1 Axes>"
      ]
     },
     "metadata": {
      "needs_background": "light"
     },
     "output_type": "display_data"
    },
    {
     "data": {
      "image/png": "[encoded data removed]",
      "text/plain": [
       "<Figure size 432x288 with 1 Axes>"
      ]
     },
     "metadata": {
      "needs_background": "light"
     },
     "output_type": "display_data"
    }
   ],
   "source": [
    "avgs = []\n",
    "for sub in ['sub-01','sub-02','sub-03']:\n",
    "    im1=ants.image_read(f'../Data/things/GLM/{sub}-preproc-face.nii')\n",
    "    im2=ants.image_read(f'../Data/things/GLM/{sub}-compcor-face.nii')\n",
    "    im3=ants.image_read(f'../Data/things/GLM/{sub}-signal-face.nii')\n",
    "\n",
    "    ffa_mask = ffa.numpy()>=6\n",
    "    avg = [im1.numpy()[ffa_mask].mean(),im2.numpy()[ffa_mask].mean(),im3.numpy()[ffa_mask].mean()]\n",
    "    avgs.append(avg)\n",
    "    \n",
    "plt.bar([0,1,2],np.array(avgs).mean(axis=0))\n",
    "\n",
    "plt.figure()\n",
    "plt.plot(np.array(avgs)[0,:])\n",
    "plt.plot(np.array(avgs)[1,:])\n",
    "plt.plot(np.array(avgs)[2,:])"
   ]
  },
  {
   "cell_type": "code",
   "execution_count": 16,
   "id": "41147e81-7a7c-4ecc-ab66-794c0d5ab7df",
   "metadata": {},
   "outputs": [
    {
     "data": {
      "text/plain": [
       "[[0.6007132, 0.4119786, 0.5865089],\n",
       " [0.32467952, 0.51551706, 1.4110432],\n",
       " [0.24430221, 0.22510152, 0.2608855]]"
      ]
     },
     "execution_count": 16,
     "metadata": {},
     "output_type": "execute_result"
    },
    {
     "data": {
      "image/png": "[encoded data removed]",
      "text/plain": [
       "<Figure size 432x288 with 1 Axes>"
      ]
     },
     "metadata": {
      "needs_background": "light"
     },
     "output_type": "display_data"
    },
    {
     "data": {
      "image/png": "[encoded data removed]",
      "text/plain": [
       "<Figure size 432x288 with 1 Axes>"
      ]
     },
     "metadata": {
      "needs_background": "light"
     },
     "output_type": "display_data"
    }
   ],
   "source": [
    "avgs = []\n",
    "for s in [0,1,2]:\n",
    "    im1=ants.image_read(f'../Data/things/deepcor_outputs/DeepCor-things-v2/preproc_contrast_face_S{s}_Ravg.nii.gz')\n",
    "    im2=ants.image_read(f'../Data/things/deepcor_outputs/DeepCor-things-v2/compcor_contrast_face_S{s}_Ravg.nii.gz')\n",
    "    im3=ants.image_read(f'../Data/things/deepcor_outputs/DeepCor-things-v2/signal_contrast_face_S{s}_Ravg.nii.gz')\n",
    "    \n",
    "    ffa_mask = ffa.numpy()>=6\n",
    "    avg = [im1.numpy()[ffa_mask].mean(),im2.numpy()[ffa_mask].mean(),im3.numpy()[ffa_mask].mean()]\n",
    "    avgs.append(avg)\n",
    "    \n",
    "plt.bar([0,1,2],np.array(avgs).mean(axis=0))\n",
    "\n",
    "plt.figure()\n",
    "plt.plot(np.array(avgs)[0,:])\n",
    "plt.plot(np.array(avgs)[1,:])\n",
    "plt.plot(np.array(avgs)[2,:])\n",
    "\n",
    "avgs"
   ]
  },
  {
   "cell_type": "code",
   "execution_count": 25,
   "id": "03b94cc1-1164-48f4-820d-3b6129efaa41",
   "metadata": {},
   "outputs": [
    {
     "data": {
      "text/plain": [
       "array([0.3898983 , 0.38419905, 0.75281256], dtype=float32)"
      ]
     },
     "execution_count": 25,
     "metadata": {},
     "output_type": "execute_result"
    }
   ],
   "source": [
    "m = np.array(avgs).mean(axis=0)"
   ]
  },
  {
   "cell_type": "code",
   "execution_count": 29,
   "id": "3bcfd11a-a55b-4950-8ce7-c4819a8b3b9e",
   "metadata": {},
   "outputs": [],
   "source": [
    "#m[2]/m[0]*100"
   ]
  },
  {
   "cell_type": "code",
   "execution_count": 17,
   "id": "78c48059-2227-4823-93d2-64238285bc5e",
   "metadata": {},
   "outputs": [],
   "source": [
    "ffa = ants.image_read('../Misc/ffa_map_resampled.nii')\n",
    "ffa_mask = ffa.numpy()>=6"
   ]
  },
  {
   "cell_type": "code",
   "execution_count": 18,
   "id": "7aa51026-b79a-470b-8b56-64f22246531f",
   "metadata": {},
   "outputs": [],
   "source": [
    "kind = 'contrast_face'"
   ]
  },
  {
   "cell_type": "code",
   "execution_count": 19,
   "id": "16319f54-c2e4-4627-9559-5a40accb8d95",
   "metadata": {},
   "outputs": [],
   "source": [
    "fn = '../Data/things/deepcor_outputs/DeepCor-things-v2/{method}_{kind}_S{s}_R{r}.nii.gz'"
   ]
  },
  {
   "cell_type": "code",
   "execution_count": 20,
   "id": "e10a8a90-b3e4-42b7-896a-c6875681deab",
   "metadata": {},
   "outputs": [],
   "source": [
    "import ants\n",
    "import numpy as np\n",
    "rel_arr=[]\n",
    "for s in [0,1,2]:\n",
    "    temp=[]\n",
    "    for method in ['preproc','compcor','signal']:\n",
    "        kind = 'contrast_face'\n",
    "        #kind = 'corr2face'\n",
    "        fn = '../Data/things/deepcor_outputs/DeepCor-things-v2/{method}_{kind}_S{s}_R{r}.nii.gz'\n",
    "        #ims = [ants.image_read(fn.format(s=s,r=r,method=method,kind=kind)) for r in [1,2,3]]\n",
    "        \n",
    "        ims = [ants.image_read(fn.format(s=s,r=r,method=method,kind=kind)) for r in [1,2,3]]\n",
    "        arr1 = np.array([im.numpy() for im in ims])\n",
    "        arr1 = arr1.mean(axis=0)\n",
    "        arr1[ffa_mask==False]=0\n",
    "        critval=np.sort(arr1.flatten())[-100]\n",
    "        arr1[arr1<critval]=0\n",
    "\n",
    "        ims = [ants.image_read(fn.format(s=s,r=r,method=method,kind=kind)) for r in [4,5,6]]\n",
    "        arr2 = np.array([im.numpy() for im in ims])\n",
    "        arr2 = arr2.mean(axis=0)\n",
    "\n",
    "        rel = np.corrcoef(arr1[arr1>0],arr2[arr1>0])[0,1]\n",
    "        \n",
    "        temp.append(rel)\n",
    "    rel_arr.append(temp)"
   ]
  },
  {
   "cell_type": "code",
   "execution_count": 21,
   "id": "154e244b-2519-46a8-8aaa-65ba94653440",
   "metadata": {},
   "outputs": [
    {
     "data": {
      "text/plain": [
       "[[0.5661370864668829, 0.5572794806514049, 0.4929648833407064],\n",
       " [0.6878759805724379, 0.7113209353793941, 0.4828872251431101],\n",
       " [0.5980665903380936, 0.6893249582448547, 0.6283712861942576]]"
      ]
     },
     "execution_count": 21,
     "metadata": {},
     "output_type": "execute_result"
    }
   ],
   "source": [
    "rel_arr"
   ]
  },
  {
   "cell_type": "code",
   "execution_count": 22,
   "id": "b0216050-8df4-445d-9a13-982e96317392",
   "metadata": {},
   "outputs": [
    {
     "data": {
      "text/plain": [
       "[<matplotlib.lines.Line2D at 0x1554ffc6b2e0>]"
      ]
     },
     "execution_count": 22,
     "metadata": {},
     "output_type": "execute_result"
    },
    {
     "data": {
      "image/png": "[encoded data removed]",
      "text/plain": [
       "<Figure size 432x288 with 1 Axes>"
      ]
     },
     "metadata": {
      "needs_background": "light"
     },
     "output_type": "display_data"
    }
   ],
   "source": [
    "plt.plot(np.array(rel_arr).mean(axis=0))"
   ]
  },
  {
   "cell_type": "code",
   "execution_count": null,
   "id": "0f89851b-65ab-4376-9b14-004506de8056",
   "metadata": {},
   "outputs": [],
   "source": []
  },
  {
   "cell_type": "code",
   "execution_count": null,
   "id": "83830d2b-2f15-4130-af99-70df763b14ee",
   "metadata": {},
   "outputs": [],
   "source": []
  },
  {
   "cell_type": "code",
   "execution_count": null,
   "id": "974a51a2-80cc-4d78-a003-18fc05ace65b",
   "metadata": {},
   "outputs": [],
   "source": []
  },
  {
   "cell_type": "code",
   "execution_count": null,
   "id": "dcfafb38-b0ce-490f-9c8b-ffcc67c4d197",
   "metadata": {},
   "outputs": [],
   "source": []
  },
  {
   "cell_type": "code",
   "execution_count": null,
   "id": "c4b64d69-c326-4ee2-8341-5b61693de448",
   "metadata": {},
   "outputs": [],
   "source": []
  },
  {
   "cell_type": "code",
   "execution_count": null,
   "id": "71c68892-4789-42ca-8731-f816316e62b7",
   "metadata": {},
   "outputs": [],
   "source": []
  },
  {
   "cell_type": "code",
   "execution_count": null,
   "id": "dd0216c4-1010-458e-99d0-e9717c726531",
   "metadata": {},
   "outputs": [],
   "source": []
  },
  {
   "cell_type": "code",
   "execution_count": null,
   "id": "d24e49ca-a017-47ed-8cd3-19382f282679",
   "metadata": {},
   "outputs": [],
   "source": []
  },
  {
   "cell_type": "code",
   "execution_count": null,
   "id": "d96f7d92-95c0-40ea-8a09-86389d360d71",
   "metadata": {},
   "outputs": [],
   "source": []
  },
  {
   "cell_type": "code",
   "execution_count": null,
   "id": "23fe5acb-2f66-4440-b8d6-0cdaae177b1d",
   "metadata": {},
   "outputs": [],
   "source": []
  },
  {
   "cell_type": "code",
   "execution_count": null,
   "id": "e6403a93-7258-46ce-994b-89726f2de00d",
   "metadata": {},
   "outputs": [],
   "source": []
  },
  {
   "cell_type": "code",
   "execution_count": null,
   "id": "cfe38843-de15-4157-8cfb-db54b81dfc7b",
   "metadata": {},
   "outputs": [],
   "source": []
  },
  {
   "cell_type": "code",
   "execution_count": null,
   "id": "c8735980-5d1f-4da8-92a2-7b33c22e41e7",
   "metadata": {},
   "outputs": [],
   "source": []
  },
  {
   "cell_type": "code",
   "execution_count": null,
   "id": "eafc3adb-51e0-480a-bcb9-ec403a88b46f",
   "metadata": {},
   "outputs": [],
   "source": []
  },
  {
   "cell_type": "code",
   "execution_count": null,
   "id": "2970ff27-0a7c-4cee-a531-bd5d606e14c1",
   "metadata": {},
   "outputs": [],
   "source": []
  },
  {
   "cell_type": "code",
   "execution_count": null,
   "id": "ee85b5c0-afee-461c-a13a-d5da1b397125",
   "metadata": {},
   "outputs": [],
   "source": []
  },
  {
   "cell_type": "code",
   "execution_count": null,
   "id": "00d06c7d-7da2-437b-9479-373a99f12245",
   "metadata": {},
   "outputs": [],
   "source": []
  },
  {
   "cell_type": "code",
   "execution_count": null,
   "id": "2893ddf4-7508-4c67-baad-2fd829a6f885",
   "metadata": {},
   "outputs": [],
   "source": []
  }
 ],
 "metadata": {
  "kernelspec": {
   "display_name": "Python 3",
   "language": "python",
   "name": "python3"
  },
  "language_info": {
   "codemirror_mode": {
    "name": "ipython",
    "version": 3
   },
   "file_extension": ".py",
   "mimetype": "text/x-python",
   "name": "python",
   "nbconvert_exporter": "python",
   "pygments_lexer": "ipython3",
   "version": "3.8.8"
  }
 },
 "nbformat": 4,
 "nbformat_minor": 5
}
