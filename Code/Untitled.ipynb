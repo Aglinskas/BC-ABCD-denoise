{
 "cells": [
  {
   "cell_type": "code",
   "execution_count": 1,
   "id": "8f2d6cab-a67f-4f4d-808f-40f74c47587b",
   "metadata": {},
   "outputs": [
    {
     "name": "stdout",
     "output_type": "stream",
     "text": [
      "/projects/sccn/andromeda1/aglinska/BC-ABCD-denoise/Code\n"
     ]
    }
   ],
   "source": [
    "!pwd"
   ]
  },
  {
   "cell_type": "code",
   "execution_count": 2,
   "id": "fa883363-6986-436c-9ed5-acc957a7977a",
   "metadata": {},
   "outputs": [
    {
     "name": "stdout",
     "output_type": "stream",
     "text": [
      "Sun Apr 20 09:34:09 PM EDT 2025\n"
     ]
    }
   ],
   "source": [
    "!date"
   ]
  },
  {
   "cell_type": "code",
   "execution_count": 17,
   "id": "eec9a503-52a1-4d4e-8dc2-1826a78046c9",
   "metadata": {},
   "outputs": [],
   "source": [
    "import os\n",
    "import ants\n",
    "import numpy as np"
   ]
  },
  {
   "cell_type": "code",
   "execution_count": 6,
   "id": "6513708a-cf09-4b58-b6b4-066e89cf9a5d",
   "metadata": {},
   "outputs": [],
   "source": [
    "indir = '../Data/StudyForrest/ROIs/'\n",
    "files = os.listdir(indir)"
   ]
  },
  {
   "cell_type": "code",
   "execution_count": 10,
   "id": "8f1879a6-aa50-4343-88a2-a3fc2c389cb2",
   "metadata": {},
   "outputs": [],
   "source": [
    "f = 0\n",
    "rois = [ants.image_read(os.path.join(indir,file)) for file in files]"
   ]
  },
  {
   "cell_type": "code",
   "execution_count": 29,
   "id": "d640dcd2-d68d-443e-bdd0-f885488610e3",
   "metadata": {},
   "outputs": [
    {
     "data": {
      "text/plain": [
       "['rFFA_final_mask_sub-20_bin.nii.gz',\n",
       " 'rFFA_final_mask_sub-18_bin.nii.gz',\n",
       " 'rFFA_final_mask_sub-01_bin.nii.gz',\n",
       " 'rFFA_final_mask_sub-15_bin.nii.gz',\n",
       " 'rFFA_final_mask_sub-14_bin.nii.gz',\n",
       " 'rFFA_final_mask_sub-04_bin.nii.gz',\n",
       " 'rFFA_final_mask_sub-09_bin.nii.gz',\n",
       " 'rFFA_final_mask_sub-10_bin.nii.gz',\n",
       " 'rFFA_final_mask_sub-05_bin.nii.gz',\n",
       " 'rFFA_final_mask_sub-16_bin.nii.gz',\n",
       " 'rFFA_final_mask_sub-17_bin.nii.gz',\n",
       " 'rFFA_final_mask_sub-02_bin.nii.gz',\n",
       " 'rFFA_final_mask_sub-19_bin.nii.gz',\n",
       " 'rFFA_final_mask_sub-03_bin.nii.gz']"
      ]
     },
     "execution_count": 29,
     "metadata": {},
     "output_type": "execute_result"
    }
   ],
   "source": [
    "files"
   ]
  },
  {
   "cell_type": "code",
   "execution_count": 25,
   "id": "8a22ccc9-bdb4-48f5-affb-45c30fa7b8cc",
   "metadata": {},
   "outputs": [],
   "source": [
    "avg = np.array([roi.numpy() for roi in rois]).sum(axis=0)"
   ]
  },
  {
   "cell_type": "code",
   "execution_count": 26,
   "id": "15ee43c2-3a70-4200-89ea-a8d74f792239",
   "metadata": {},
   "outputs": [],
   "source": [
    "rois[0].new_image_like(avg).to_filename(os.path.join(indir,'rFFA_avg.nii'))"
   ]
  },
  {
   "cell_type": "code",
   "execution_count": null,
   "id": "b7f2daad-ccb9-4e1a-b058-d0cb581b5fe7",
   "metadata": {},
   "outputs": [],
   "source": []
  },
  {
   "cell_type": "code",
   "execution_count": null,
   "id": "b50e5d38-00eb-4918-8580-e095b8e15864",
   "metadata": {},
   "outputs": [],
   "source": []
  }
 ],
 "metadata": {
  "kernelspec": {
   "display_name": "Python 3",
   "language": "python",
   "name": "python3"
  },
  "language_info": {
   "codemirror_mode": {
    "name": "ipython",
    "version": 3
   },
   "file_extension": ".py",
   "mimetype": "text/x-python",
   "name": "python",
   "nbconvert_exporter": "python",
   "pygments_lexer": "ipython3",
   "version": "3.8.8"
  }
 },
 "nbformat": 4,
 "nbformat_minor": 5
}
