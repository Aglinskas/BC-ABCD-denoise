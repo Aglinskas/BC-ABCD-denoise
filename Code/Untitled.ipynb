{
 "cells": [
  {
   "cell_type": "code",
   "execution_count": 1,
   "id": "8f2d6cab-a67f-4f4d-808f-40f74c47587b",
   "metadata": {},
   "outputs": [
    {
     "name": "stdout",
     "output_type": "stream",
     "text": [
      "/projects/sccn/andromeda1/aglinska/BC-ABCD-denoise/Code\n"
     ]
    }
   ],
   "source": [
    "!pwd"
   ]
  },
  {
   "cell_type": "code",
   "execution_count": 2,
   "id": "fa883363-6986-436c-9ed5-acc957a7977a",
   "metadata": {},
   "outputs": [
    {
     "name": "stdout",
     "output_type": "stream",
     "text": [
      "Tue May 20 04:41:44 PM EDT 2025\n"
     ]
    }
   ],
   "source": [
    "!date"
   ]
  },
  {
   "cell_type": "code",
   "execution_count": 3,
   "id": "eec9a503-52a1-4d4e-8dc2-1826a78046c9",
   "metadata": {},
   "outputs": [],
   "source": [
    "import os\n",
    "import ants\n",
    "import numpy as np"
   ]
  },
  {
   "cell_type": "code",
   "execution_count": 18,
   "id": "6513708a-cf09-4b58-b6b4-066e89cf9a5d",
   "metadata": {},
   "outputs": [],
   "source": [
    "indir = '../Data/StudyForrest/ROIs/'\n",
    "files = [f for f in os.listdir(indir) if f.startswith('rFFA_final')]\n",
    "idx = [13,  7,2,  5,  3, 10, 11,  0, 12,  8]\n",
    "files.sort()\n",
    "files = list(np.array(files)[idx])"
   ]
  },
  {
   "cell_type": "code",
   "execution_count": 19,
   "id": "8f1879a6-aa50-4343-88a2-a3fc2c389cb2",
   "metadata": {},
   "outputs": [],
   "source": [
    "rois = [ants.image_read(os.path.join(indir,file)) for file in files]"
   ]
  },
  {
   "cell_type": "code",
   "execution_count": 20,
   "id": "8a22ccc9-bdb4-48f5-affb-45c30fa7b8cc",
   "metadata": {},
   "outputs": [],
   "source": [
    "avg = np.array([roi.numpy() for roi in rois]).sum(axis=0)"
   ]
  },
  {
   "cell_type": "code",
   "execution_count": 21,
   "id": "15ee43c2-3a70-4200-89ea-a8d74f792239",
   "metadata": {},
   "outputs": [],
   "source": [
    "rois[0].new_image_like(avg).to_filename(os.path.join(indir,'rFFA_avg_10.nii'))"
   ]
  },
  {
   "cell_type": "code",
   "execution_count": null,
   "id": "b7f2daad-ccb9-4e1a-b058-d0cb581b5fe7",
   "metadata": {},
   "outputs": [],
   "source": []
  },
  {
   "cell_type": "code",
   "execution_count": null,
   "id": "b50e5d38-00eb-4918-8580-e095b8e15864",
   "metadata": {},
   "outputs": [],
   "source": []
  }
 ],
 "metadata": {
  "kernelspec": {
   "display_name": "Python 3",
   "language": "python",
   "name": "python3"
  },
  "language_info": {
   "codemirror_mode": {
    "name": "ipython",
    "version": 3
   },
   "file_extension": ".py",
   "mimetype": "text/x-python",
   "name": "python",
   "nbconvert_exporter": "python",
   "pygments_lexer": "ipython3",
   "version": "3.8.8"
  }
 },
 "nbformat": 4,
 "nbformat_minor": 5
}
