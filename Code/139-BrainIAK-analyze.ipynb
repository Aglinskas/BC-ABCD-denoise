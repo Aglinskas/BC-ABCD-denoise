{
 "cells": [
  {
   "cell_type": "code",
   "execution_count": 1,
   "id": "0b072bcb-c648-4efd-a166-dbfa219d40c9",
   "metadata": {},
   "outputs": [
    {
     "name": "stdout",
     "output_type": "stream",
     "text": [
      "Fri May  2 11:14:18 AM EDT 2025\n"
     ]
    }
   ],
   "source": [
    "!date"
   ]
  },
  {
   "cell_type": "code",
   "execution_count": 2,
   "id": "fe07e518-8221-4cc8-8e41-734fc8ce109e",
   "metadata": {},
   "outputs": [
    {
     "data": {
      "text/plain": [
       "'/projects/sccn/andromeda1/aglinska/BC-ABCD-denoise/Code'"
      ]
     },
     "execution_count": 2,
     "metadata": {},
     "output_type": "execute_result"
    }
   ],
   "source": [
    "pwd"
   ]
  },
  {
   "cell_type": "code",
   "execution_count": 3,
   "id": "1323d1af-b485-40b6-9459-731d76882099",
   "metadata": {},
   "outputs": [],
   "source": [
    "import os\n",
    "import numpy as np\n",
    "import pandas as pd\n",
    "from matplotlib import pyplot as plt\n",
    "import ants"
   ]
  },
  {
   "cell_type": "code",
   "execution_count": 4,
   "id": "d9cf6203-38a1-4a0d-a78b-fa3be01c8444",
   "metadata": {},
   "outputs": [],
   "source": [
    "from sklearn.decomposition import PCA\n",
    "from sklearn import linear_model"
   ]
  },
  {
   "cell_type": "code",
   "execution_count": 5,
   "id": "5d94c45e-92bf-4ae9-a5c7-57ce8627fee9",
   "metadata": {},
   "outputs": [],
   "source": [
    "def correlate_columns(arr1, arr2):\n",
    "    \"\"\"\n",
    "    Computes the Pearson correlation between corresponding columns of two matrices.\n",
    "    \n",
    "    Parameters:\n",
    "    arr1 (np.ndarray): First matrix of shape (370, 1000)\n",
    "    arr2 (np.ndarray): Second matrix of shape (370, 1000)\n",
    "    \n",
    "    Returns:\n",
    "    np.ndarray: 1D array of correlations for each column (size 1000)\n",
    "    \"\"\"\n",
    "    # Ensure input arrays are numpy arrays\n",
    "    arr1 = np.asarray(arr1)\n",
    "    arr2 = np.asarray(arr2)\n",
    "    \n",
    "    # Subtract the mean of each column (normalize)\n",
    "    arr1_centered = arr1 - np.mean(arr1, axis=0)\n",
    "    arr2_centered = arr2 - np.mean(arr2, axis=0)\n",
    "    \n",
    "    # Compute the numerator (covariance)\n",
    "    numerator = np.sum(arr1_centered * arr2_centered, axis=0)\n",
    "    \n",
    "    # Compute the denominator (product of standard deviations)\n",
    "    denominator = np.sqrt(np.sum(arr1_centered**2, axis=0) * np.sum(arr2_centered**2, axis=0))\n",
    "    \n",
    "    # Compute the Pearson correlation for each column\n",
    "    correlation = numerator / denominator\n",
    "    \n",
    "    return correlation"
   ]
  },
  {
   "cell_type": "code",
   "execution_count": 6,
   "id": "8093c9ef-2f0c-4fd7-a48c-faa6c61172ab",
   "metadata": {},
   "outputs": [
    {
     "name": "stdout",
     "output_type": "stream",
     "text": [
      "\u001b[0m\u001b[01;31mbrainIAK_cf.nii.gz\u001b[0m                   \u001b[01;31mbrainIAK_observation.nii.gz\u001b[0m\n",
      "brainIAK_compcor-v2.nii              \u001b[01;31mbrainIAK_observation-v2.nii.gz\u001b[0m\n",
      "\u001b[01;31mbrainIAK_gm.nii.gz\u001b[0m                   \u001b[01;31mbrainIAK_signal.nii.gz\u001b[0m\n",
      "\u001b[01;31mbrainIAK_noise.nii.gz\u001b[0m                \u001b[01;31mbrainIAK_signal-v2.nii.gz\u001b[0m\n",
      "\u001b[01;31mbrainIAK_noise-v2.nii.gz\u001b[0m             YZ-Realistic_data_simulation.ipynb\n",
      "\u001b[01;31mbrainIAK_observation_compcor.nii.gz\u001b[0m\n"
     ]
    }
   ],
   "source": [
    "ls ../Data/BrainIAK/"
   ]
  },
  {
   "cell_type": "code",
   "execution_count": 18,
   "id": "8451c4b1-5597-4705-a109-a213176c15ae",
   "metadata": {},
   "outputs": [],
   "source": [
    "indir = '../Data/StudyForrest/ensembles_last_CVAE/'\n",
    "analysis_name = 'BrainIAK-CVAE-1'"
   ]
  },
  {
   "cell_type": "code",
   "execution_count": 22,
   "id": "69264bff-02fc-4061-81c3-232894acc401",
   "metadata": {},
   "outputs": [],
   "source": [
    "sig_files = [f for f in os.listdir(os.path.join(indir,analysis_name)) if f.startswith('signal_')]\n",
    "sig_files.sort()\n",
    "sig_ims = [ants.image_read(os.path.join(indir,analysis_name,sig_file)) for sig_file in sig_files]"
   ]
  },
  {
   "cell_type": "code",
   "execution_count": 55,
   "id": "db432e1f-2768-496c-8dcb-1a5cbef78592",
   "metadata": {},
   "outputs": [],
   "source": [
    "arr_deepcor = np.median(np.array([sig_im.numpy() for sig_im in sig_ims]),axis=0)"
   ]
  },
  {
   "cell_type": "code",
   "execution_count": 56,
   "id": "0a28c2a5-397c-481d-88cf-e4a1e56a79cc",
   "metadata": {},
   "outputs": [],
   "source": [
    "obs_deepcor = sig_ims[0].new_image_like(arr_deepcor)"
   ]
  },
  {
   "cell_type": "code",
   "execution_count": 57,
   "id": "d3d165bf-3980-4354-9a1c-9f1e823d0a6a",
   "metadata": {},
   "outputs": [],
   "source": [
    "gm = ants.image_read('../Data/BrainIAK/brainIAK_gm.nii.gz')\n",
    "cf = ants.image_read('../Data/BrainIAK/brainIAK_cf.nii.gz')"
   ]
  },
  {
   "cell_type": "code",
   "execution_count": 58,
   "id": "de3f056a-3893-4de9-8a82-e6559dfde2fd",
   "metadata": {},
   "outputs": [],
   "source": [
    "noise = ants.image_read('../Data/BrainIAK/brainIAK_noise-v2.nii.gz')\n",
    "signal = ants.image_read('../Data/BrainIAK/brainIAK_signal-v2.nii.gz')\n",
    "observation = ants.image_read('../Data/BrainIAK/brainIAK_observation-v2.nii.gz')\n",
    "obs_compcor = ants.image_read('../Data/BrainIAK/brainIAK_compcor-v2.nii')"
   ]
  },
  {
   "cell_type": "code",
   "execution_count": 59,
   "id": "a9bba7a5-350b-45be-b5bd-a5a0c847356b",
   "metadata": {},
   "outputs": [],
   "source": [
    "noi_list = observation.numpy()[cf.numpy()==1]\n",
    "obs_list = observation.numpy()[gm.numpy()==1]"
   ]
  },
  {
   "cell_type": "code",
   "execution_count": 60,
   "id": "84663a7f-14ff-4995-83bc-6c81193d3eb0",
   "metadata": {},
   "outputs": [],
   "source": [
    "deepcor_list = obs_deepcor.numpy()[gm.numpy()==1]\n",
    "compcor_list = obs_compcor.numpy()[gm.numpy()==1]\n",
    "GT_list = signal.numpy()[gm.numpy()==1]"
   ]
  },
  {
   "cell_type": "code",
   "execution_count": 61,
   "id": "b01d118d-8b0c-40ca-82b7-f571f7eb55a9",
   "metadata": {},
   "outputs": [
    {
     "name": "stderr",
     "output_type": "stream",
     "text": [
      "<ipython-input-5-9f9a06f806b9>:27: RuntimeWarning: invalid value encountered in true_divide\n",
      "  correlation = numerator / denominator\n"
     ]
    }
   ],
   "source": [
    "r_raw = correlate_columns(obs_list.transpose(), GT_list.transpose())\n",
    "r_compcor = correlate_columns(compcor_list.transpose(), GT_list.transpose())\n",
    "r_deepcor = correlate_columns(deepcor_list.transpose(), GT_list.transpose())"
   ]
  },
  {
   "cell_type": "code",
   "execution_count": 62,
   "id": "45239506-0f71-4c08-9517-c077db56bfc3",
   "metadata": {},
   "outputs": [
    {
     "data": {
      "text/plain": [
       "[0.28818873, 0.33572462, 0.2596558]"
      ]
     },
     "execution_count": 62,
     "metadata": {},
     "output_type": "execute_result"
    }
   ],
   "source": [
    "[np.nanmean(r_raw),\n",
    "np.nanmean(r_compcor),\n",
    "np.nanmean(r_deepcor),]"
   ]
  },
  {
   "cell_type": "code",
   "execution_count": null,
   "id": "48a57307-9fd4-4699-a9a2-668033816e34",
   "metadata": {},
   "outputs": [],
   "source": []
  },
  {
   "cell_type": "code",
   "execution_count": null,
   "id": "64454859-abf9-4cb0-a38a-d662131f8639",
   "metadata": {},
   "outputs": [],
   "source": []
  },
  {
   "cell_type": "code",
   "execution_count": null,
   "id": "2ccffe80-67d2-4ecf-85b1-1c53d504dfa3",
   "metadata": {},
   "outputs": [],
   "source": []
  },
  {
   "cell_type": "code",
   "execution_count": null,
   "id": "0fbbef2b-4d0f-4a8a-81f4-e5b5ea2dce76",
   "metadata": {},
   "outputs": [],
   "source": []
  },
  {
   "cell_type": "code",
   "execution_count": null,
   "id": "86ad3cf7-2935-4da2-9e2d-9964ad3af36f",
   "metadata": {},
   "outputs": [],
   "source": []
  },
  {
   "cell_type": "code",
   "execution_count": null,
   "id": "1aa13b98-7912-40b7-b0d4-a38a21f5d11c",
   "metadata": {},
   "outputs": [],
   "source": []
  },
  {
   "cell_type": "code",
   "execution_count": null,
   "id": "c8665758-5788-4013-8e6e-5dcd1638c52c",
   "metadata": {},
   "outputs": [],
   "source": []
  }
 ],
 "metadata": {
  "kernelspec": {
   "display_name": "Python 3",
   "language": "python",
   "name": "python3"
  },
  "language_info": {
   "codemirror_mode": {
    "name": "ipython",
    "version": 3
   },
   "file_extension": ".py",
   "mimetype": "text/x-python",
   "name": "python",
   "nbconvert_exporter": "python",
   "pygments_lexer": "ipython3",
   "version": "3.8.8"
  }
 },
 "nbformat": 4,
 "nbformat_minor": 5
}
