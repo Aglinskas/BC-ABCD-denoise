{
 "cells": [
  {
   "cell_type": "code",
   "execution_count": 1,
   "id": "bcdd98ed-a4fa-4aa6-a078-a8a80be4657a",
   "metadata": {},
   "outputs": [
    {
     "name": "stdout",
     "output_type": "stream",
     "text": [
      "Sun May 18 09:07:42 PM EDT 2025\n"
     ]
    }
   ],
   "source": [
    "!date"
   ]
  },
  {
   "cell_type": "code",
   "execution_count": 2,
   "id": "bc2f7f33-b0cb-4645-b364-66edd936614d",
   "metadata": {},
   "outputs": [
    {
     "data": {
      "text/plain": [
       "'/projects/sccn/andromeda1/aglinska/BC-ABCD-denoise/Code'"
      ]
     },
     "execution_count": 2,
     "metadata": {},
     "output_type": "execute_result"
    }
   ],
   "source": [
    "pwd"
   ]
  },
  {
   "cell_type": "code",
   "execution_count": 3,
   "id": "ea4f9c58-10ec-443d-a15a-4fd6d1e9ef4f",
   "metadata": {},
   "outputs": [],
   "source": [
    "import os\n",
    "import numpy as np\n",
    "import pandas as pd\n",
    "from matplotlib import pyplot as plt\n",
    "import ants\n",
    "import pickle\n",
    "from tqdm import tqdm"
   ]
  },
  {
   "cell_type": "code",
   "execution_count": 4,
   "id": "84816a1b-f6d4-46ec-8324-88b21f44b5c9",
   "metadata": {},
   "outputs": [],
   "source": [
    "def load_pickle(fn):\n",
    "    if os.path.exists(fn):\n",
    "        with open(fn, 'rb') as file:\n",
    "            loaded_dict = pickle.load(file)\n",
    "    return loaded_dict"
   ]
  },
  {
   "cell_type": "code",
   "execution_count": 5,
   "id": "3180c315-67be-4a41-b19d-ca0e50bf530a",
   "metadata": {},
   "outputs": [],
   "source": [
    "def correlate_columns(arr1, arr2):\n",
    "    \"\"\"\n",
    "    Computes the Pearson correlation between corresponding columns of two matrices.\n",
    "    \n",
    "    Parameters:\n",
    "    arr1 (np.ndarray): First matrix of shape (370, 1000)\n",
    "    arr2 (np.ndarray): Second matrix of shape (370, 1000)\n",
    "    \n",
    "    Returns:\n",
    "    np.ndarray: 1D array of correlations for each column (size 1000)\n",
    "    \"\"\"\n",
    "    # Ensure input arrays are numpy arrays\n",
    "    arr1 = np.asarray(arr1)\n",
    "    arr2 = np.asarray(arr2)\n",
    "    \n",
    "    # Subtract the mean of each column (normalize)\n",
    "    arr1_centered = arr1 - np.mean(arr1, axis=0)\n",
    "    arr2_centered = arr2 - np.mean(arr2, axis=0)\n",
    "    \n",
    "    # Compute the numerator (covariance)\n",
    "    numerator = np.sum(arr1_centered * arr2_centered, axis=0)\n",
    "    \n",
    "    # Compute the denominator (product of standard deviations)\n",
    "    denominator = np.sqrt(np.sum(arr1_centered**2, axis=0) * np.sum(arr2_centered**2, axis=0))\n",
    "    \n",
    "    # Compute the Pearson correlation for each column\n",
    "    correlation = numerator / denominator\n",
    "    \n",
    "    return correlation"
   ]
  },
  {
   "cell_type": "code",
   "execution_count": 7,
   "id": "ee4daee7-55e7-46ce-8839-967bd66c196a",
   "metadata": {},
   "outputs": [],
   "source": [
    "def get_regs(events_fn):\n",
    "    from nilearn.glm.first_level import make_first_level_design_matrix\n",
    "\n",
    "    events = pd.read_csv(events_fn,delimiter='\\t')\n",
    "\n",
    "    t_r = 2.0 \n",
    "    #n_scans = epi.shape[-1]\n",
    "    n_scans = 156\n",
    "    frame_times = (np.arange(n_scans) * t_r)\n",
    "\n",
    "    X1 = make_first_level_design_matrix(frame_times,events,drift_model=\"polynomial\",drift_order=3,hrf_model=\"SPM\") #\n",
    "\n",
    "    face_reg = X1[['face']].values.sum(axis=1)\n",
    "    place_reg = X1[['body', 'house', 'object', 'scene', 'scramble']].values.sum(axis=1)\n",
    "    \n",
    "    return face_reg,place_reg\n",
    "\n",
    "events_fn_temp = '../Data/StudyForrest/events/{sub}_ses-localizer_task-objectcategories_run-{r}_events.tsv'\n",
    "face_reg,place_reg = get_regs(events_fn_temp.format(sub='sub-01',r=1))"
   ]
  },
  {
   "cell_type": "code",
   "execution_count": 8,
   "id": "808c9a9b-06e8-48cd-a189-df3ee6ecdbf5",
   "metadata": {},
   "outputs": [
    {
     "name": "stdout",
     "output_type": "stream",
     "text": [
      "14\n"
     ]
    }
   ],
   "source": [
    "subs = [sub for sub in os.listdir('../Data/StudyForrest/fmriprep/') if sub.startswith('sub-')]\n",
    "subs.sort()\n",
    "print(len(subs))"
   ]
  },
  {
   "cell_type": "code",
   "execution_count": 9,
   "id": "9a63e763-9c67-424e-b700-2953795dc5d6",
   "metadata": {},
   "outputs": [],
   "source": [
    "analysis_dir = '../Data/StudyForrest/ensembles_last_CVAE/'\n",
    "analysis_name = 'fixed-seed-00-YuOrig-00-DataloaderFix'\n",
    "#analysis_name = 'DeepCor-Forrest-face-v5'"
   ]
  },
  {
   "cell_type": "code",
   "execution_count": 22,
   "id": "3b47fa31-d78e-43c2-b036-26985c6004ed",
   "metadata": {},
   "outputs": [],
   "source": [
    "def get_data(s,sub,r):\n",
    "    allOutputs = []\n",
    "    for rep in range(20):\n",
    "        fn_pickle = os.path.join(analysis_dir,analysis_name,f'outputs_S{s}_R{r}_rep_{rep}.pickle')\n",
    "        if os.path.exists(fn_pickle):\n",
    "            outputs = load_pickle(fn_pickle)\n",
    "            allOutputs.append(outputs)\n",
    "\n",
    "    allOutputs_signal = np.array([val['signal'] for val in allOutputs])\n",
    "    allOutputs_ffa = allOutputs[0]['ffa']\n",
    "    allOutputs_ffa_compcorr = allOutputs[0]['ffa_compcorr']\n",
    "\n",
    "    allOutputs_signal_avg = np.average(allOutputs_signal,axis=0)\n",
    "\n",
    "    im_signal = ants.image_read(os.path.join(analysis_dir,analysis_name,f'signal_S{s}_R{r}_avg.nii.gz'))\n",
    "    im_subFFA = ants.image_read(f'../Data/StudyForrest/ROIs/rFFA_final_mask_{sub}_bin.nii.gz')\n",
    "\n",
    "    fn_preproc = '../Data/StudyForrest/fmriprep/{sub}/ses-localizer/func/{sub}_ses-localizer_task-objectcategories_run-{r}_bold_space-MNI152NLin2009cAsym_preproc.nii.gz'\n",
    "    im_preproc = ants.image_read(fn_preproc.format(sub=sub,r=r))\n",
    "\n",
    "    fn_compcor = '../Data/StudyForrest/fmriprep/{sub}/ses-localizer/func/{sub}_ses-localizer_task-objectcategories_run-{r}_bold_space-MNI152NLin2009cAsym_COMPCOR-RONI.nii'\n",
    "    im_compcor = ants.image_read(fn_compcor.format(sub=sub,r=r))\n",
    "\n",
    "    vals_subFFA_signal = im_signal.numpy()[im_subFFA.numpy()==1]\n",
    "    vals_subFFA_preproc = im_preproc.numpy()[im_subFFA.numpy()==1]\n",
    "    vals_subFFA_compcor = im_compcor.numpy()[im_subFFA.numpy()==1]\n",
    "\n",
    "    v_idx = vals_subFFA_signal.std(axis=1)>1e-3\n",
    "\n",
    "    vals_subFFA_signal = vals_subFFA_signal[v_idx]\n",
    "    vals_subFFA_preproc = vals_subFFA_preproc[v_idx]\n",
    "    vals_subFFA_compcor = vals_subFFA_compcor[v_idx]\n",
    "\n",
    "    #face_reg = outputs['face_reg']\n",
    "\n",
    "    #nv = vals_subFFA_signal.shape[0]\n",
    "    nv = vals_subFFA_preproc.shape[0]\n",
    "\n",
    "    r_im_signal = correlate_columns(vals_subFFA_signal.transpose(),np.array([face_reg for _ in range(nv)]).transpose())\n",
    "    r_im_preproc = correlate_columns(vals_subFFA_preproc.transpose(),np.array([face_reg for _ in range(nv)]).transpose())\n",
    "    r_im_compcor = correlate_columns(vals_subFFA_compcor.transpose(),np.array([face_reg for _ in range(nv)]).transpose())\n",
    "    (r_im_signal.mean().round(4),r_im_preproc.mean().round(4),r_im_compcor.mean().round(4))\n",
    "\n",
    "    r_outputs_signal = correlate_columns(allOutputs_signal_avg[v_idx,:].transpose(),np.array([face_reg for _ in range(nv)]).transpose())\n",
    "    r_outputs_preproc = correlate_columns(allOutputs_ffa[v_idx,:].transpose(),np.array([face_reg for _ in range(nv)]).transpose())\n",
    "    r_outputs_compcor = correlate_columns(allOutputs_ffa_compcorr[v_idx,:].transpose(),np.array([face_reg for _ in range(nv)]).transpose())\n",
    "\n",
    "    (r_outputs_signal.mean().round(4),r_outputs_preproc.mean().round(4),r_outputs_compcor.mean().round(4))\n",
    "    \n",
    "    #res = [r_im_signal,r_im_preproc,r_im_compcor,r_outputs_signal,r_outputs_preproc,r_outputs_compcor]\n",
    "    res = [r_im_signal.mean(),r_im_preproc.mean(),r_im_compcor.mean(),r_outputs_signal.mean(),r_outputs_preproc.mean(),r_outputs_compcor.mean()]\n",
    "    \n",
    "    return res"
   ]
  },
  {
   "cell_type": "code",
   "execution_count": 23,
   "id": "a13821d3-60ad-4666-9a3e-880f30a43129",
   "metadata": {},
   "outputs": [],
   "source": [
    "result = np.zeros((14,4,6))"
   ]
  },
  {
   "cell_type": "code",
   "execution_count": 24,
   "id": "32c59070-d4bc-4b88-851c-307b8e652785",
   "metadata": {},
   "outputs": [
    {
     "name": "stderr",
     "output_type": "stream",
     "text": [
      "100%|██████████| 14/14 [01:31<00:00,  6.54s/it]\n"
     ]
    }
   ],
   "source": [
    "for s in tqdm(range(14)):\n",
    "    sub = subs[s]\n",
    "    for r in [1,2,3,4]:\n",
    "        result[s,r-1,:] = get_data(s,sub,r)"
   ]
  },
  {
   "cell_type": "code",
   "execution_count": 25,
   "id": "4149f53c-fe56-4371-96e3-4cc61e619752",
   "metadata": {},
   "outputs": [],
   "source": [
    "result_avg = result.mean(axis=0).mean(axis=0)"
   ]
  },
  {
   "cell_type": "code",
   "execution_count": 26,
   "id": "07707f0b-f34a-4be4-8559-9eab3ee77ccf",
   "metadata": {},
   "outputs": [
    {
     "data": {
      "text/plain": [
       "array([0.21009251, 0.15116312, 0.16787899, 0.21007557, 0.15116311,\n",
       "       0.16897971])"
      ]
     },
     "execution_count": 26,
     "metadata": {},
     "output_type": "execute_result"
    }
   ],
   "source": [
    "result_avg"
   ]
  },
  {
   "cell_type": "code",
   "execution_count": 31,
   "id": "a97ab3fb-23c8-44c2-9d63-1b405ad95db6",
   "metadata": {},
   "outputs": [
    {
     "name": "stdout",
     "output_type": "stream",
     "text": [
      "[0.21009251 0.15116312 0.16787899]\n",
      "[0.21007557 0.15116311 0.16897971]\n"
     ]
    }
   ],
   "source": [
    "print(result_avg[0:3])\n",
    "print(result_avg[3::])"
   ]
  },
  {
   "cell_type": "code",
   "execution_count": 32,
   "id": "c483f4e7-47d0-4760-900d-a1fd51d65093",
   "metadata": {},
   "outputs": [
    {
     "data": {
      "text/plain": [
       "0.999999706915353"
      ]
     },
     "execution_count": 32,
     "metadata": {},
     "output_type": "execute_result"
    }
   ],
   "source": [
    "np.corrcoef(result[:,:,0].flatten(),result[:,:,3].flatten())[0,1]"
   ]
  },
  {
   "cell_type": "code",
   "execution_count": 33,
   "id": "bf3c2729-58bd-405d-82b0-e045008861db",
   "metadata": {},
   "outputs": [
    {
     "data": {
      "text/plain": [
       "0.9999999999999792"
      ]
     },
     "execution_count": 33,
     "metadata": {},
     "output_type": "execute_result"
    }
   ],
   "source": [
    "np.corrcoef(result[:,:,1].flatten(),result[:,:,4].flatten())[0,1]"
   ]
  },
  {
   "cell_type": "code",
   "execution_count": 34,
   "id": "40ffae4e-3496-4e17-9a91-0173b6aa5f55",
   "metadata": {},
   "outputs": [
    {
     "data": {
      "text/plain": [
       "0.9829791338106583"
      ]
     },
     "execution_count": 34,
     "metadata": {},
     "output_type": "execute_result"
    }
   ],
   "source": [
    "np.corrcoef(result[:,:,2].flatten(),result[:,:,5].flatten())[0,1]"
   ]
  },
  {
   "cell_type": "code",
   "execution_count": null,
   "id": "160e2084-9768-4bb6-94d6-8e29836fdbd7",
   "metadata": {},
   "outputs": [],
   "source": []
  },
  {
   "cell_type": "code",
   "execution_count": null,
   "id": "a2a11a63-c55e-4e46-84f9-184f094e3e03",
   "metadata": {},
   "outputs": [],
   "source": []
  },
  {
   "cell_type": "code",
   "execution_count": 20,
   "id": "f8d54170-a57a-4faa-91f5-148bd66cc053",
   "metadata": {},
   "outputs": [],
   "source": [
    "#outputs.keys()"
   ]
  },
  {
   "cell_type": "code",
   "execution_count": null,
   "id": "32d48461-0e79-489a-b144-92e6b5486810",
   "metadata": {},
   "outputs": [],
   "source": []
  },
  {
   "cell_type": "code",
   "execution_count": null,
   "id": "706c4013-bf02-4ef1-b34b-68c07255c490",
   "metadata": {},
   "outputs": [],
   "source": []
  },
  {
   "cell_type": "code",
   "execution_count": null,
   "id": "4824bc38-f54d-404c-ae79-8062bd874344",
   "metadata": {},
   "outputs": [],
   "source": []
  }
 ],
 "metadata": {
  "kernelspec": {
   "display_name": "Python 3",
   "language": "python",
   "name": "python3"
  },
  "language_info": {
   "codemirror_mode": {
    "name": "ipython",
    "version": 3
   },
   "file_extension": ".py",
   "mimetype": "text/x-python",
   "name": "python",
   "nbconvert_exporter": "python",
   "pygments_lexer": "ipython3",
   "version": "3.8.8"
  }
 },
 "nbformat": 4,
 "nbformat_minor": 5
}
