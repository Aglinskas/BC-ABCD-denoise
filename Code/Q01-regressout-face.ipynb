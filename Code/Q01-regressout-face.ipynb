{
 "cells": [
  {
   "cell_type": "code",
   "execution_count": null,
   "id": "171171be-9b15-4557-8197-d2fb2a8296d2",
   "metadata": {},
   "outputs": [],
   "source": [
    "!date"
   ]
  },
  {
   "cell_type": "code",
   "execution_count": null,
   "id": "a72bbc69-3391-4825-92ce-0627254ff0b2",
   "metadata": {},
   "outputs": [],
   "source": [
    "pwd"
   ]
  },
  {
   "cell_type": "code",
   "execution_count": 71,
   "id": "2eec8c32-8873-4e26-b03a-8c42ee607959",
   "metadata": {},
   "outputs": [],
   "source": [
    "import os\n",
    "import numpy as np\n",
    "import pandas as pd\n",
    "from matplotlib import pyplot as plt\n",
    "import ants\n",
    "from tqdm import tqdm"
   ]
  },
  {
   "cell_type": "code",
   "execution_count": 49,
   "id": "726fe4fe-048c-465f-a636-200bff0c4252",
   "metadata": {
    "jupyter": {
     "source_hidden": true
    }
   },
   "outputs": [],
   "source": [
    "def correlate_columns(arr1, arr2):\n",
    "    \"\"\"\n",
    "    Computes the Pearson correlation between corresponding columns of two matrices.\n",
    "    \n",
    "    Parameters:\n",
    "    arr1 (np.ndarray): First matrix of shape (370, 1000)\n",
    "    arr2 (np.ndarray): Second matrix of shape (370, 1000)\n",
    "    \n",
    "    Returns:\n",
    "    np.ndarray: 1D array of correlations for each column (size 1000)\n",
    "    \"\"\"\n",
    "    # Ensure input arrays are numpy arrays\n",
    "    arr1 = np.asarray(arr1)\n",
    "    arr2 = np.asarray(arr2)\n",
    "    \n",
    "    # Subtract the mean of each column (normalize)\n",
    "    arr1_centered = arr1 - np.mean(arr1, axis=0)\n",
    "    arr2_centered = arr2 - np.mean(arr2, axis=0)\n",
    "    \n",
    "    # Compute the numerator (covariance)\n",
    "    numerator = np.sum(arr1_centered * arr2_centered, axis=0)\n",
    "    \n",
    "    # Compute the denominator (product of standard deviations)\n",
    "    denominator = np.sqrt(np.sum(arr1_centered**2, axis=0) * np.sum(arr2_centered**2, axis=0))\n",
    "    \n",
    "    # Compute the Pearson correlation for each column\n",
    "    correlation = numerator / denominator\n",
    "    \n",
    "    return correlation\n",
    "\n",
    "def make_RDM(inVec,data_scale='ratio',metric='euclidean'):\n",
    "    from scipy.spatial.distance import pdist\n",
    "    from scipy.spatial.distance import squareform\n",
    "    vec = inVec\n",
    "    vec = (vec - min(vec.flatten())) / (max(vec.flatten())-min(vec.flatten()))\n",
    "    \n",
    "    if np.ndim(inVec)==1: # must be at least 2D\n",
    "        vec = np.vstack((vec,np.zeros(vec.shape))).transpose()\n",
    "                   \n",
    "    mat = squareform(pdist(vec,metric=metric).transpose())\n",
    "    if data_scale=='ordinal':\n",
    "        mat[mat!=0]=1 # Make into zeros and ones\n",
    "        \n",
    "    return mat\n",
    "\n",
    "def get_triu(inMat):\n",
    "    assert np.ndim(inMat)==2, 'not 2 dim, wtf'\n",
    "    assert inMat.shape[0]==inMat.shape[1], 'not a square'\n",
    "\n",
    "    n = inMat.shape[0]\n",
    "    triu_vec = inMat[np.triu_indices(n=n,k=1)]\n",
    "    return triu_vec\n"
   ]
  },
  {
   "cell_type": "code",
   "execution_count": 4,
   "id": "7f0e9304-7109-45e8-9492-f3f71f9c4fbe",
   "metadata": {},
   "outputs": [
    {
     "name": "stdout",
     "output_type": "stream",
     "text": [
      "34/34\n"
     ]
    }
   ],
   "source": [
    "indir = '../Data/020-fmriprepped/'\n",
    "subs_orig = [s for s in os.listdir(indir) if all((s.startswith('sub'),not s.endswith('.html')))]\n",
    "n_orig = len(subs_orig)\n",
    "epi_fn = os.path.join(indir,'{sub}/ses-baselineYear1Arm1/func/{sub}_ses-baselineYear1Arm1_task-nback_run-0{r}_space-MNI152NLin2009cAsym_res-2_desc-preproc_bold.nii')\n",
    "#cf_fn = os.path.join(indir,'{sub}/ses-baselineYear1Arm1/anat/analysis_mask_CF.nii')\n",
    "#gm_fn = os.path.join(indir,'{sub}/ses-baselineYear1Arm1/anat/analysis_mask_GM.nii')\n",
    "cf_fn = os.path.join(indir,'{sub}/ses-baselineYear1Arm1/anat/analysis_mask_CF-strict.nii')\n",
    "gm_fn = os.path.join(indir,'{sub}/ses-baselineYear1Arm1/anat/analysis_mask_GM-strict.nii')\n",
    "brain_mask = os.path.join(indir,'{sub}/ses-baselineYear1Arm1/anat/{sub}_ses-baselineYear1Arm1_run-01_space-MNI152NLin2009cAsym_res-2_label-GM_probseg.nii.gz')\n",
    "\n",
    "subs = [sub for sub in subs_orig if all(( \n",
    "    os.path.exists(epi_fn.format(sub=sub,r=1)),\n",
    "    os.path.exists(epi_fn.format(sub=sub,r=2)),\n",
    "    os.path.exists(cf_fn.format(sub=sub)),\n",
    "    os.path.exists(gm_fn.format(sub=sub)),\n",
    "    os.path.exists(brain_mask.format(sub=sub)),\n",
    "    ))]\n",
    "\n",
    "subs.sort()\n",
    "print(f'{len(subs)}/{len(subs_orig)}')"
   ]
  },
  {
   "cell_type": "code",
   "execution_count": 86,
   "id": "25565cc1-8b70-4e2e-9607-ca97fb2a472b",
   "metadata": {},
   "outputs": [
    {
     "name": "stderr",
     "output_type": "stream",
     "text": [
      "  0%|                                                    | 0/34 [00:00<?, ?it/s]"
     ]
    },
    {
     "name": "stdout",
     "output_type": "stream",
     "text": [
      "sub-NDARINV1H7JEJW1\n"
     ]
    },
    {
     "name": "stderr",
     "output_type": "stream",
     "text": [
      "  3%|█▎                                          | 1/34 [00:17<09:44, 17.72s/it]"
     ]
    },
    {
     "name": "stdout",
     "output_type": "stream",
     "text": [
      "sub-NDARINV29P0F670\n"
     ]
    },
    {
     "name": "stderr",
     "output_type": "stream",
     "text": [
      "  6%|██▌                                         | 2/34 [00:36<09:49, 18.43s/it]"
     ]
    },
    {
     "name": "stdout",
     "output_type": "stream",
     "text": [
      "sub-NDARINV3385AZ13\n"
     ]
    },
    {
     "name": "stderr",
     "output_type": "stream",
     "text": [
      "  9%|███▉                                        | 3/34 [00:55<09:37, 18.64s/it]"
     ]
    },
    {
     "name": "stdout",
     "output_type": "stream",
     "text": [
      "sub-NDARINV5YHWBYRD\n"
     ]
    },
    {
     "name": "stderr",
     "output_type": "stream",
     "text": [
      " 12%|█████▏                                      | 4/34 [01:12<08:54, 17.82s/it]"
     ]
    },
    {
     "name": "stdout",
     "output_type": "stream",
     "text": [
      "sub-NDARINV6WXU5DEY\n"
     ]
    },
    {
     "name": "stderr",
     "output_type": "stream",
     "text": [
      " 15%|██████▍                                     | 5/34 [01:31<08:54, 18.44s/it]"
     ]
    },
    {
     "name": "stdout",
     "output_type": "stream",
     "text": [
      "sub-NDARINV8RN0AJRP\n"
     ]
    },
    {
     "name": "stderr",
     "output_type": "stream",
     "text": [
      " 18%|███████▊                                    | 6/34 [01:49<08:34, 18.39s/it]"
     ]
    },
    {
     "name": "stdout",
     "output_type": "stream",
     "text": [
      "sub-NDARINVE1XNAPC7\n"
     ]
    },
    {
     "name": "stderr",
     "output_type": "stream",
     "text": [
      " 21%|█████████                                   | 7/34 [02:08<08:15, 18.34s/it]"
     ]
    },
    {
     "name": "stdout",
     "output_type": "stream",
     "text": [
      "sub-NDARINVET4W53Z8\n"
     ]
    },
    {
     "name": "stderr",
     "output_type": "stream",
     "text": [
      " 24%|██████████▎                                 | 8/34 [02:25<07:47, 17.99s/it]"
     ]
    },
    {
     "name": "stdout",
     "output_type": "stream",
     "text": [
      "sub-NDARINVG0K2DRXF\n"
     ]
    },
    {
     "name": "stderr",
     "output_type": "stream",
     "text": [
      " 26%|███████████▋                                | 9/34 [02:42<07:22, 17.71s/it]"
     ]
    },
    {
     "name": "stdout",
     "output_type": "stream",
     "text": [
      "sub-NDARINVHPU5TKNF\n"
     ]
    },
    {
     "name": "stderr",
     "output_type": "stream",
     "text": [
      " 29%|████████████▋                              | 10/34 [02:59<06:58, 17.43s/it]"
     ]
    },
    {
     "name": "stdout",
     "output_type": "stream",
     "text": [
      "sub-NDARINVHRTU9HVX\n"
     ]
    },
    {
     "name": "stderr",
     "output_type": "stream",
     "text": [
      " 32%|█████████████▉                             | 11/34 [03:16<06:38, 17.32s/it]"
     ]
    },
    {
     "name": "stdout",
     "output_type": "stream",
     "text": [
      "sub-NDARINVJNDY0DWK\n"
     ]
    },
    {
     "name": "stderr",
     "output_type": "stream",
     "text": [
      " 35%|███████████████▏                           | 12/34 [03:32<06:16, 17.10s/it]"
     ]
    },
    {
     "name": "stdout",
     "output_type": "stream",
     "text": [
      "sub-NDARINVJPMRY00B\n"
     ]
    },
    {
     "name": "stderr",
     "output_type": "stream",
     "text": [
      " 38%|████████████████▍                          | 13/34 [03:49<05:56, 16.98s/it]"
     ]
    },
    {
     "name": "stdout",
     "output_type": "stream",
     "text": [
      "sub-NDARINVKK5BJGB6\n"
     ]
    },
    {
     "name": "stderr",
     "output_type": "stream",
     "text": [
      " 41%|█████████████████▋                         | 14/34 [04:07<05:44, 17.22s/it]"
     ]
    },
    {
     "name": "stdout",
     "output_type": "stream",
     "text": [
      "sub-NDARINVMMN463FT\n"
     ]
    },
    {
     "name": "stderr",
     "output_type": "stream",
     "text": [
      " 44%|██████████████████▉                        | 15/34 [04:25<05:32, 17.50s/it]"
     ]
    },
    {
     "name": "stdout",
     "output_type": "stream",
     "text": [
      "sub-NDARINVN9D4XZKE\n"
     ]
    },
    {
     "name": "stderr",
     "output_type": "stream",
     "text": [
      " 47%|████████████████████▏                      | 16/34 [04:43<05:19, 17.76s/it]"
     ]
    },
    {
     "name": "stdout",
     "output_type": "stream",
     "text": [
      "sub-NDARINVNNNX0496\n"
     ]
    },
    {
     "name": "stderr",
     "output_type": "stream",
     "text": [
      " 50%|█████████████████████▌                     | 17/34 [05:04<05:14, 18.51s/it]"
     ]
    },
    {
     "name": "stdout",
     "output_type": "stream",
     "text": [
      "sub-NDARINVPAJ26DUR\n"
     ]
    },
    {
     "name": "stderr",
     "output_type": "stream",
     "text": [
      " 53%|██████████████████████▊                    | 18/34 [05:23<05:00, 18.81s/it]"
     ]
    },
    {
     "name": "stdout",
     "output_type": "stream",
     "text": [
      "sub-NDARINVPURW8L0G\n"
     ]
    },
    {
     "name": "stderr",
     "output_type": "stream",
     "text": [
      " 56%|████████████████████████                   | 19/34 [05:47<05:06, 20.40s/it]"
     ]
    },
    {
     "name": "stdout",
     "output_type": "stream",
     "text": [
      "sub-NDARINVR6R9DHFF\n"
     ]
    },
    {
     "name": "stderr",
     "output_type": "stream",
     "text": [
      " 59%|█████████████████████████▎                 | 20/34 [06:06<04:38, 19.88s/it]"
     ]
    },
    {
     "name": "stdout",
     "output_type": "stream",
     "text": [
      "sub-NDARINVRF70B79M\n"
     ]
    },
    {
     "name": "stderr",
     "output_type": "stream",
     "text": [
      " 62%|██████████████████████████▌                | 21/34 [06:21<04:01, 18.55s/it]"
     ]
    },
    {
     "name": "stdout",
     "output_type": "stream",
     "text": [
      "sub-NDARINVTDXHD95M\n"
     ]
    },
    {
     "name": "stderr",
     "output_type": "stream",
     "text": [
      " 65%|███████████████████████████▊               | 22/34 [06:38<03:34, 17.84s/it]"
     ]
    },
    {
     "name": "stdout",
     "output_type": "stream",
     "text": [
      "sub-NDARINVTHHL55VX\n"
     ]
    },
    {
     "name": "stderr",
     "output_type": "stream",
     "text": [
      " 68%|█████████████████████████████              | 23/34 [06:56<03:16, 17.86s/it]"
     ]
    },
    {
     "name": "stdout",
     "output_type": "stream",
     "text": [
      "sub-NDARINVTKENUL3C\n"
     ]
    },
    {
     "name": "stderr",
     "output_type": "stream",
     "text": [
      " 71%|██████████████████████████████▎            | 24/34 [07:13<02:58, 17.83s/it]"
     ]
    },
    {
     "name": "stdout",
     "output_type": "stream",
     "text": [
      "sub-NDARINVTMVWP642\n"
     ]
    },
    {
     "name": "stderr",
     "output_type": "stream",
     "text": [
      " 74%|███████████████████████████████▌           | 25/34 [07:30<02:36, 17.34s/it]"
     ]
    },
    {
     "name": "stdout",
     "output_type": "stream",
     "text": [
      "sub-NDARINVTPXZDTAT\n"
     ]
    },
    {
     "name": "stderr",
     "output_type": "stream",
     "text": [
      " 76%|████████████████████████████████▉          | 26/34 [07:55<02:38, 19.82s/it]"
     ]
    },
    {
     "name": "stdout",
     "output_type": "stream",
     "text": [
      "sub-NDARINVURJ3XK7W\n"
     ]
    },
    {
     "name": "stderr",
     "output_type": "stream",
     "text": [
      " 79%|██████████████████████████████████▏        | 27/34 [09:13<04:20, 37.18s/it]"
     ]
    },
    {
     "name": "stdout",
     "output_type": "stream",
     "text": [
      "sub-NDARINVVR8GJJYB\n"
     ]
    },
    {
     "name": "stderr",
     "output_type": "stream",
     "text": [
      " 82%|███████████████████████████████████▍       | 28/34 [09:28<03:03, 30.65s/it]"
     ]
    },
    {
     "name": "stdout",
     "output_type": "stream",
     "text": [
      "sub-NDARINVVWH7ZJJR\n"
     ]
    },
    {
     "name": "stderr",
     "output_type": "stream",
     "text": [
      " 85%|████████████████████████████████████▋      | 29/34 [09:44<02:11, 26.31s/it]"
     ]
    },
    {
     "name": "stdout",
     "output_type": "stream",
     "text": [
      "sub-NDARINVWNUXY3KF\n"
     ]
    },
    {
     "name": "stderr",
     "output_type": "stream",
     "text": [
      " 88%|█████████████████████████████████████▉     | 30/34 [10:03<01:36, 24.14s/it]"
     ]
    },
    {
     "name": "stdout",
     "output_type": "stream",
     "text": [
      "sub-NDARINVX6MC634B\n"
     ]
    },
    {
     "name": "stderr",
     "output_type": "stream",
     "text": [
      " 91%|███████████████████████████████████████▏   | 31/34 [10:21<01:06, 22.26s/it]"
     ]
    },
    {
     "name": "stdout",
     "output_type": "stream",
     "text": [
      "sub-NDARINVXZ44NE7H\n"
     ]
    },
    {
     "name": "stderr",
     "output_type": "stream",
     "text": [
      " 94%|████████████████████████████████████████▍  | 32/34 [10:44<00:44, 22.38s/it]"
     ]
    },
    {
     "name": "stdout",
     "output_type": "stream",
     "text": [
      "sub-NDARINVXZRDA6CJ\n"
     ]
    },
    {
     "name": "stderr",
     "output_type": "stream",
     "text": [
      " 97%|█████████████████████████████████████████▋ | 33/34 [11:05<00:22, 22.05s/it]"
     ]
    },
    {
     "name": "stdout",
     "output_type": "stream",
     "text": [
      "sub-NDARINVZ4YHXYLW\n"
     ]
    },
    {
     "name": "stderr",
     "output_type": "stream",
     "text": [
      "100%|███████████████████████████████████████████| 34/34 [11:24<00:00, 20.14s/it]\n"
     ]
    }
   ],
   "source": [
    "corr_resid_cf = []\n",
    "corr_data_cf = []\n",
    "for s in tqdm(range(34)):\n",
    "    r = 1\n",
    "    sub = subs[s]\n",
    "    print(sub)\n",
    "    \n",
    "    epi = ants.image_read(epi_fn.format(sub=sub,r=r))\n",
    "    #epi = ants.image_read(epi_fn.format(sub=sub,r=r).replace('preproc_bold.nii','COMPCORR_bold.nii'))\n",
    "    gm = ants.image_read(gm_fn.format(sub=sub))\n",
    "    brain = ants.image_read(brain_mask.format(sub=sub))\n",
    "    cf = ants.image_read(cf_fn.format(sub=sub))\n",
    "    \n",
    "    nt = epi.shape[-1] # Number of timepoints\n",
    "    ndummy = 8 # how many dummies to discard\n",
    "    \n",
    "    epi_flat = epi.numpy().reshape(-1,nt).transpose() # (370, 1082035)\n",
    "    epi_flat[0:ndummy,:] = epi_flat[ndummy+1::,:].mean(axis=0) # What to do with dummy scans, set to mean\n",
    "    epi_flat = epi_flat.transpose()\n",
    "    gm_flat = gm.numpy().flatten().astype(int) # (1082035,)\n",
    "    cf_flat = cf.numpy().flatten().astype(int) # (1082035,)\n",
    "    assert max(np.unique(cf_flat+gm_flat))!=2, 'overlap' # Check for overlap again\n",
    "    \n",
    "    \n",
    "    ### Motion Censoring\n",
    "    do_censor_frames=True\n",
    "    if do_censor_frames:\n",
    "        import pandas as pd\n",
    "        mot_fn = f'../Data/020-fmriprepped/{sub}/ses-baselineYear1Arm1/func/{sub}_ses-baselineYear1Arm1_task-nback_run-0{r}_desc-confounds_timeseries.tsv'\n",
    "        mot = pd.read_csv(mot_fn,delimiter='\\t')\n",
    "        mot_outliers = mot['framewise_displacement'].values>.2\n",
    "        mot_outliers = np.vstack((mot_outliers,np.hstack((False,mot_outliers[0:-1])),np.hstack((mot_outliers[1::],False)))).sum(axis=0)>0\n",
    "        outlier_idx = np.nonzero(mot_outliers)[0]\n",
    "        \n",
    "        #plt.figure(figsize=(15,5))\n",
    "        #plt.subplot(1,2,1)\n",
    "        #plt.plot(mot['framewise_displacement'].values)\n",
    "        #plt.plot(mot_outliers,'r.')\n",
    "        \n",
    "        #plt.subplot(1,2,2)\n",
    "        #plot_vec = epi_flat[gm_flat==1,:][5000,:]\n",
    "        #outlier_idx = np.nonzero(mot_outliers)[0]\n",
    "        #plt.plot(plot_vec)\n",
    "        #plt.plot(outlier_idx,plot_vec[outlier_idx],'r.')\n",
    "        \n",
    "        #plot_vec[mot_outliers] = plot_vec[~mot_outliers].mean()\n",
    "        #plt.plot(plot_vec)\n",
    "        \n",
    "        epi_flat[:,mot_outliers] = epi_flat[:,~mot_outliers].mean(axis=1)[:,np.newaxis]\n",
    "    \n",
    "    func_gm = epi_flat[gm_flat==1,:]\n",
    "    func_cf = epi_flat[cf_flat==1,:]\n",
    "    \n",
    "    \n",
    "    from nilearn.glm.first_level import make_first_level_design_matrix\n",
    "    import pandas as pd\n",
    "    events_fn = f'../Data/010-Data_bids2/{sub}/ses-baselineYear1Arm1/func/{sub}_ses-baselineYear1Arm1_task-nback_run-0{r}_events.tsv'\n",
    "    events = pd.read_csv(events_fn,delimiter='\\t')\n",
    "    \n",
    "    t_r = 0.8  # repetition time is 1 second\n",
    "    n_scans = epi_flat.shape[1]  # the acquisition comprises 128 scans\n",
    "    frame_times = (np.arange(n_scans) * t_r)\n",
    "    \n",
    "    X1 = make_first_level_design_matrix(frame_times,events,drift_model=\"polynomial\",drift_order=3,hrf_model=\"SPM\") #\n",
    "    \n",
    "    face_reg = X1[['0_back_neutface','2_back_neutface','0_back_negface','2_back_negface','0_back_posface','2_back_posface',]].values.sum(axis=1)\n",
    "    place_reg = X1[['0_back_place','2_back_place']].values.sum(axis=1)\n",
    "    \n",
    "    ffa_im = ants.image_read('../Misc/ffa_mask_resampled.nii')\n",
    "    func_ffa = func_gm[ffa_im.numpy().flatten()[gm_flat==1]==1,:]\n",
    "    \n",
    "    \n",
    "    from sklearn.decomposition import PCA\n",
    "    from sklearn import linear_model\n",
    "    \n",
    "    X = face_reg[:,np.newaxis]\n",
    "    Y = func_ffa.transpose()\n",
    "    lin_reg = linear_model.LinearRegression()\n",
    "    lin_reg.fit(X,Y);\n",
    "    \n",
    "    predicted = lin_reg.predict(X)\n",
    "    residuals = Y-predicted\n",
    "    \n",
    "    corr_resid_cf.append( np.corrcoef(residuals.mean(axis=-1),func_cf.mean(axis=0))[0,1] )\n",
    "    corr_data_cf.append( np.corrcoef(X.mean(axis=-1),func_cf.mean(axis=0))[0,1] )"
   ]
  },
  {
   "cell_type": "code",
   "execution_count": 102,
   "id": "9fe057e5-d385-4cfe-8e24-601f033d78c9",
   "metadata": {},
   "outputs": [],
   "source": [
    "corr_resid_cf = np.array(corr_resid_cf)\n",
    "corr_data_cf = np.array(corr_data_cf)"
   ]
  },
  {
   "cell_type": "code",
   "execution_count": 103,
   "id": "3ff6dcdc-24cf-490a-a799-724ebc891612",
   "metadata": {},
   "outputs": [
    {
     "data": {
      "text/plain": [
       "(array([2., 4., 3., 4., 8., 2., 4., 4., 1., 2.]),\n",
       " array([-0.38425557, -0.27474011, -0.16522466, -0.0557092 ,  0.05380625,\n",
       "         0.16332171,  0.27283717,  0.38235262,  0.49186808,  0.60138353,\n",
       "         0.71089899]),\n",
       " <BarContainer object of 10 artists>)"
      ]
     },
     "execution_count": 103,
     "metadata": {},
     "output_type": "execute_result"
    },
    {
     "data": {
      "image/png": "[encoded data removed]",
      "text/plain": [
       "<Figure size 1500x500 with 3 Axes>"
      ]
     },
     "metadata": {},
     "output_type": "display_data"
    }
   ],
   "source": [
    "plt.figure(figsize=(15,5))\n",
    "plt.subplot(1,3,1);plt.hist(corr_data_cf)\n",
    "plt.subplot(1,3,2);plt.hist(corr_resid_cf)\n",
    "plt.subplot(1,3,3);plt.hist(np.array(corr_resid_cf)-np.array(corr_data_cf))"
   ]
  },
  {
   "cell_type": "code",
   "execution_count": 116,
   "id": "e048979d-6136-4bcc-9f55-717f472b1018",
   "metadata": {},
   "outputs": [
    {
     "data": {
      "text/plain": [
       "<matplotlib.legend.Legend at 0x1554d7dd15b0>"
      ]
     },
     "execution_count": 116,
     "metadata": {},
     "output_type": "execute_result"
    },
    {
     "data": {
      "image/png": "[encoded data removed]",
      "text/plain": [
       "<Figure size 1500x500 with 1 Axes>"
      ]
     },
     "metadata": {},
     "output_type": "display_data"
    }
   ],
   "source": [
    "plt.figure(figsize=(15,5))\n",
    "plt.plot(corr_data_cf,'b.',markersize=20)\n",
    "plt.plot(corr_resid_cf,'g.',markersize=20)\n",
    "plt.xticks(np.arange(len(subs)));\n",
    "plt.legend(['FFA bold','Resid'])"
   ]
  },
  {
   "cell_type": "code",
   "execution_count": 113,
   "id": "ea02cfe9-d4e8-420c-b39a-ce1095116ef8",
   "metadata": {},
   "outputs": [
    {
     "data": {
      "image/png": "[encoded data removed]",
      "text/plain": [
       "<Figure size 1500x500 with 1 Axes>"
      ]
     },
     "metadata": {},
     "output_type": "display_data"
    }
   ],
   "source": [
    "plt.figure(figsize=(15,5))\n",
    "plt.plot(corr_resid_cf-corr_data_cf,'k.',markersize=20)\n",
    "plt.plot([0,34],[0,0])\n",
    "plt.xticks(np.arange(len(subs)));"
   ]
  },
  {
   "cell_type": "code",
   "execution_count": 125,
   "id": "0ea01711-aefc-4700-8ff6-bea76c402408",
   "metadata": {},
   "outputs": [
    {
     "data": {
      "text/plain": [
       "[0.10923301417766987, -0.023780271566549573]"
      ]
     },
     "execution_count": 125,
     "metadata": {},
     "output_type": "execute_result"
    }
   ],
   "source": [
    "[corr_resid_cf.mean(),corr_data_cf.mean()]"
   ]
  },
  {
   "cell_type": "code",
   "execution_count": 124,
   "id": "5c311210-b9f8-44ac-83a6-146a7cf2a074",
   "metadata": {},
   "outputs": [
    {
     "data": {
      "text/plain": [
       "([<matplotlib.axis.XTick at 0x1554d7f82160>,\n",
       "  <matplotlib.axis.XTick at 0x1554d7f821f0>],\n",
       " [Text(0, 0, 'Resid'), Text(1, 0, 'FFA bold')])"
      ]
     },
     "execution_count": 124,
     "metadata": {},
     "output_type": "execute_result"
    },
    {
     "data": {
      "image/png": "[encoded data removed]",
      "text/plain": [
       "<Figure size 640x480 with 1 Axes>"
      ]
     },
     "metadata": {},
     "output_type": "display_data"
    }
   ],
   "source": [
    "plt.bar([0,1],[corr_resid_cf.mean(),corr_data_cf.mean()])\n",
    "plt.errorbar([0,1],[corr_resid_cf.mean(),corr_data_cf.mean()],[corr_resid_cf.std()/np.sqrt(len(corr_resid_cf)),corr_data_cf.std()/np.sqrt(len(corr_resid_cf))],fmt='r.');\n",
    "plt.legend(['r','se'])\n",
    "plt.title('Correlation of FFA bold and CF bold')\n",
    "plt.xticks([0,1],['Resid','FFA bold'])"
   ]
  },
  {
   "cell_type": "code",
   "execution_count": 94,
   "id": "5a13b0dc-d160-4edc-9eca-661c8935c85e",
   "metadata": {},
   "outputs": [
    {
     "name": "stderr",
     "output_type": "stream",
     "text": [
      "100%|███████████████████████████████████████████| 34/34 [00:00<00:00, 71.62it/s]\n"
     ]
    }
   ],
   "source": [
    "mot_vec = []\n",
    "for s in tqdm(range(34)):\n",
    "    sub = subs[s]\n",
    "    mot_fn = f'../Data/020-fmriprepped/{sub}/ses-baselineYear1Arm1/func/{sub}_ses-baselineYear1Arm1_task-nback_run-0{r}_desc-confounds_timeseries.tsv'\n",
    "    mot = pd.read_csv(mot_fn,delimiter='\\t')\n",
    "    mot_outliers = mot['framewise_displacement'].values>.2\n",
    "    mot_outliers = np.vstack((mot_outliers,np.hstack((False,mot_outliers[0:-1])),np.hstack((mot_outliers[1::],False)))).sum(axis=0)>0\n",
    "    mot_vec.append( mot_outliers.sum() )\n",
    "#outlier_idx = np.nonzero(mot_outliers)[0]"
   ]
  },
  {
   "cell_type": "code",
   "execution_count": 107,
   "id": "c47c0c37-1f0b-4fe6-ba44-9e32eb63afe4",
   "metadata": {},
   "outputs": [],
   "source": [
    "mot_vec = np.array(mot_vec)"
   ]
  },
  {
   "cell_type": "code",
   "execution_count": 100,
   "id": "b23b9b2d-d135-45d3-b6c4-0255692151c1",
   "metadata": {},
   "outputs": [
    {
     "data": {
      "image/png": "[encoded data removed]",
      "text/plain": [
       "<Figure size 1500x500 with 1 Axes>"
      ]
     },
     "metadata": {},
     "output_type": "display_data"
    }
   ],
   "source": [
    "plt.figure(figsize=(15,5))\n",
    "plt.plot(corr_resid_cf,'r.',markersize=20)\n",
    "plt.xticks(np.arange(len(subs)));"
   ]
  },
  {
   "cell_type": "code",
   "execution_count": 129,
   "id": "a1a7d7e6-12c6-4553-b1d4-09b6b222106d",
   "metadata": {},
   "outputs": [
    {
     "data": {
      "text/plain": [
       "0.027863245416263383"
      ]
     },
     "execution_count": 129,
     "metadata": {},
     "output_type": "execute_result"
    }
   ],
   "source": [
    "np.corrcoef(corr_data_cf,mot_vec)[0,1]"
   ]
  },
  {
   "cell_type": "code",
   "execution_count": 130,
   "id": "2f4e1a77-78ec-4e06-82a8-58d1990ac128",
   "metadata": {},
   "outputs": [
    {
     "data": {
      "text/plain": [
       "0.3535181138302018"
      ]
     },
     "execution_count": 130,
     "metadata": {},
     "output_type": "execute_result"
    }
   ],
   "source": [
    "np.corrcoef(corr_resid_cf,mot_vec)[0,1]"
   ]
  },
  {
   "cell_type": "code",
   "execution_count": null,
   "id": "4241efc9-ef14-4f1d-bfa1-a5f43b6e1dfd",
   "metadata": {},
   "outputs": [],
   "source": []
  },
  {
   "cell_type": "code",
   "execution_count": null,
   "id": "0ed3350b-8159-4ba0-ba17-ac0004f74145",
   "metadata": {},
   "outputs": [],
   "source": []
  },
  {
   "cell_type": "code",
   "execution_count": null,
   "id": "741b3429-924d-4cb6-b398-c02286f16e07",
   "metadata": {},
   "outputs": [],
   "source": []
  },
  {
   "cell_type": "code",
   "execution_count": null,
   "id": "80d619ce-dc3a-4668-b10f-58e379247276",
   "metadata": {},
   "outputs": [],
   "source": [
    "# from sklearn.decomposition import PCA\n",
    "# from sklearn import linear_model\n",
    "\n",
    "# cf_for_compcorr = ants.image_read(os.path.join(indir,'{sub}/ses-baselineYear1Arm1/anat/analysis_mask_CF.nii').format(sub=sub,r=r))\n",
    "\n",
    "# cf_pcs = PCA(n_components=5).fit_transform(epi_flat[cf_for_compcorr.numpy().flatten()==1,:].transpose())\n",
    "\n",
    "# lin_reg = linear_model.LinearRegression()\n",
    "# lin_reg.fit(cf_pcs,epi_flat[gm_flat==1,:].transpose());\n",
    "\n",
    "# predicted = lin_reg.predict(cf_pcs)\n",
    "# residuals = epi_flat[gm_flat==1,:].transpose()-predicted\n",
    "# plt.plot(epi_flat[gm_flat==1,:].mean(axis=0)-epi_flat[gm_flat==1,:].mean(axis=0).mean())\n",
    "# epi_flat[gm_flat==1,:]=residuals.transpose()\n",
    "# plt.plot(epi_flat[gm_flat==1,:].mean(axis=0)-epi_flat[gm_flat==1,:].mean(axis=0).mean())"
   ]
  },
  {
   "cell_type": "code",
   "execution_count": null,
   "id": "90acbd57-0af8-42df-81f5-1cf07318c8a3",
   "metadata": {},
   "outputs": [],
   "source": []
  },
  {
   "cell_type": "code",
   "execution_count": null,
   "id": "b6ea134e-bfcd-4b26-b918-d519c2e8b96c",
   "metadata": {},
   "outputs": [],
   "source": []
  }
 ],
 "metadata": {
  "kernelspec": {
   "display_name": "Python 3 (ipykernel)",
   "language": "python",
   "name": "python3"
  },
  "language_info": {
   "codemirror_mode": {
    "name": "ipython",
    "version": 3
   },
   "file_extension": ".py",
   "mimetype": "text/x-python",
   "name": "python",
   "nbconvert_exporter": "python",
   "pygments_lexer": "ipython3",
   "version": "3.8.17"
  }
 },
 "nbformat": 4,
 "nbformat_minor": 5
}
