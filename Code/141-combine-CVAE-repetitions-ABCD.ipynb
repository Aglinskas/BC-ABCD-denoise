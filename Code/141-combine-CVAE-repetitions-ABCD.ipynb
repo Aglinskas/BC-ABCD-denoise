{
 "cells": [
  {
   "cell_type": "code",
   "execution_count": 1,
   "id": "dfbc2899-5b76-4995-abb8-301318ccd022",
   "metadata": {},
   "outputs": [
    {
     "name": "stdout",
     "output_type": "stream",
     "text": [
      "Sun May 25 05:04:06 PM EDT 2025\n"
     ]
    }
   ],
   "source": [
    "!date"
   ]
  },
  {
   "cell_type": "code",
   "execution_count": 2,
   "id": "80a2ad43-8eba-4c5b-9d28-bddbde94e86b",
   "metadata": {},
   "outputs": [
    {
     "data": {
      "text/plain": [
       "'/projects/sccn/andromeda1/aglinska/BC-ABCD-denoise/Code'"
      ]
     },
     "execution_count": 2,
     "metadata": {},
     "output_type": "execute_result"
    }
   ],
   "source": [
    "pwd"
   ]
  },
  {
   "cell_type": "code",
   "execution_count": 3,
   "id": "ce413a11-8421-41cb-97f0-06bc3c395fda",
   "metadata": {},
   "outputs": [],
   "source": [
    "import os\n",
    "import numpy as np\n",
    "import ants\n",
    "from tqdm import tqdm"
   ]
  },
  {
   "cell_type": "code",
   "execution_count": 4,
   "id": "4d03026e-ff02-4f25-960e-784f6b105151",
   "metadata": {},
   "outputs": [],
   "source": [
    "nreps = 20"
   ]
  },
  {
   "cell_type": "code",
   "execution_count": 19,
   "id": "c3872f4e-ed98-4ac3-8afd-ea020829fe92",
   "metadata": {},
   "outputs": [],
   "source": [
    "analysis_dir = '../Data/StudyForrest/ensembles_last_CVAE/'\n",
    "#analysis_name = 'fixed-seed-00-YuOrig-00-DataloaderFix'\n",
    "analysis_name = 'DeepCor-ABCD-v5'"
   ]
  },
  {
   "cell_type": "code",
   "execution_count": 20,
   "id": "05c5e57b-3cd5-4109-a8bf-992791b7a77c",
   "metadata": {},
   "outputs": [],
   "source": [
    "fn_temp = os.path.join(analysis_dir,analysis_name,'signal_S{s}_R{r}_rep_{rep}.nii.gz')"
   ]
  },
  {
   "cell_type": "code",
   "execution_count": 7,
   "id": "1a2f4be3-948f-4404-9cb4-11f86609fcd9",
   "metadata": {},
   "outputs": [],
   "source": [
    "# for s in np.arange(34):\n",
    "#     for r in [1,2]:\n",
    "#         ofn_avg = os.path.join(analysis_dir,analysis_name,f'signal_S{s}_R{r}_avg.nii.gz')\n",
    "#         os.remove(ofn_avg) if os.path.exists(ofn_avg) else None\n",
    "#         ofn_med = os.path.join(analysis_dir,analysis_name,f'signal_S{s}_R{r}_med.nii.gz')\n",
    "#         os.remove(ofn_med) if os.path.exists(ofn_med) else None"
   ]
  },
  {
   "cell_type": "code",
   "execution_count": 10,
   "id": "e90bcc5b-73df-4b01-9e3a-651aa9b89077",
   "metadata": {},
   "outputs": [],
   "source": [
    "svec = np.arange(34)\n",
    "rvec = [1,2]"
   ]
  },
  {
   "cell_type": "code",
   "execution_count": 31,
   "id": "a0418c55-97e6-41a2-a7dd-46a8a9b25674",
   "metadata": {},
   "outputs": [
    {
     "data": {
      "text/plain": [
       "<AxesSubplot:>"
      ]
     },
     "execution_count": 31,
     "metadata": {},
     "output_type": "execute_result"
    },
    {
     "data": {
      "image/png": "[encoded data removed]",
      "text/plain": [
       "<Figure size 1440x216 with 1 Axes>"
      ]
     },
     "metadata": {
      "needs_background": "light"
     },
     "output_type": "display_data"
    }
   ],
   "source": [
    "check_done = np.zeros((len(svec),len(rvec)))\n",
    "for s in svec:\n",
    "    for r in rvec:\n",
    "        check_done[s,r-1] = sum([os.path.exists(fn_temp.format(s=s,r=r,rep=rep))  for rep in range(20)])\n",
    "\n",
    "import seaborn as sns\n",
    "from matplotlib import pyplot as plt\n",
    "plt.figure(figsize=(20,3))\n",
    "sns.heatmap(check_done.transpose(),annot=True,cbar=False)"
   ]
  },
  {
   "cell_type": "code",
   "execution_count": null,
   "id": "e9b7aecf-adba-4ac2-a1c2-b8e8e6c44224",
   "metadata": {},
   "outputs": [],
   "source": []
  },
  {
   "cell_type": "code",
   "execution_count": 14,
   "id": "7d21b497-fb65-498c-9f71-bcefcc52d318",
   "metadata": {},
   "outputs": [
    {
     "data": {
      "text/plain": [
       "<AxesSubplot:>"
      ]
     },
     "execution_count": 14,
     "metadata": {},
     "output_type": "execute_result"
    },
    {
     "data": {
      "image/png": "[encoded data removed]",
      "text/plain": [
       "<Figure size 1440x216 with 1 Axes>"
      ]
     },
     "metadata": {
      "needs_background": "light"
     },
     "output_type": "display_data"
    }
   ],
   "source": [
    "check_done = np.zeros((len(svec),len(rvec)))\n",
    "for s in svec:\n",
    "    for r in rvec:\n",
    "        is_done = [os.path.exists(os.path.join(analysis_dir,analysis_name,f'signal_S{s}_R{r}_avg.nii.gz')),\n",
    "                  os.path.exists(os.path.join(analysis_dir,analysis_name,f'signal_S{s}_R{r}_med.nii.gz'))]\n",
    "        check_done[s,r-1]=np.array(is_done).sum()\n",
    "\n",
    "import seaborn as sns\n",
    "from matplotlib import pyplot as plt\n",
    "plt.figure(figsize=(20,3))\n",
    "sns.heatmap(check_done.transpose(),annot=True,cbar=False)"
   ]
  },
  {
   "cell_type": "code",
   "execution_count": 11,
   "id": "e443c52b-f1ea-4930-8844-02b4b67270bf",
   "metadata": {},
   "outputs": [],
   "source": [
    "for s in tqdm( np.random.permutation(np.arange(34)) ):\n",
    "    for r in tqdm( np.random.permutation([1,2]), leave = False ):\n",
    "        ofn_avg = os.path.join(analysis_dir,analysis_name,f'signal_S{s}_R{r}_avg.nii.gz')\n",
    "        ofn_med = os.path.join(analysis_dir,analysis_name,f'signal_S{s}_R{r}_med.nii.gz')\n",
    "        if not all((os.path.exists(ofn_avg),os.path.exists(ofn_med))):\n",
    "            ims = [ants.image_read(fn_temp.format(s=s,r=r,rep=rep)) for rep in np.arange(20) if os.path.exists(fn_temp.format(s=s,r=r,rep=rep))]\n",
    "            arrs = np.array([im.numpy() for im in ims])\n",
    "            good_sub_vec = (np.isnan(arrs)*1.0).sum(axis=(1, 2, 3, 4))==0\n",
    "            good_sub_vec*=arrs.max(axis=(1, 2, 3, 4))<1e3\n",
    "            good_sub_vec*=arrs.max(axis=(1, 2, 3, 4))>1e-3\n",
    "            arrs = arrs[good_sub_vec]\n",
    "            if len(ims)>10:\n",
    "                arr_avg = np.average(arrs,axis=0)\n",
    "                arr_med = np.median(arrs,axis=0)\n",
    "                im_avg = ims[0].new_image_like(arr_avg)\n",
    "                im_avg.to_filename(ofn_avg)\n",
    "                im_med = ims[0].new_image_like(arr_med)\n",
    "                im_med.to_filename(ofn_med)"
   ]
  },
  {
   "cell_type": "code",
   "execution_count": null,
   "id": "e69d8d47-a703-4a88-b718-89ae1a1a959d",
   "metadata": {},
   "outputs": [],
   "source": []
  },
  {
   "cell_type": "code",
   "execution_count": null,
   "id": "cd538ea7-17ca-4754-a7c9-1bb35692bd65",
   "metadata": {},
   "outputs": [],
   "source": []
  },
  {
   "cell_type": "code",
   "execution_count": null,
   "id": "ce0f704d-a803-4df8-bde7-d116b9a5d31b",
   "metadata": {},
   "outputs": [],
   "source": [
    "# # RANDOM\n",
    "# for s in tqdm( np.random.permutation(np.arange(14)) ):\n",
    "#     for r in tqdm( np.random.permutation([1,2,3,4]), leave = False ):\n",
    "#         print(f'{s}/{r}')\n",
    "#         ofn_avg = os.path.join(analysis_dir,analysis_name,f'signal_S{s}_R{r}_avg.nii.gz')\n",
    "#         ofn_med = os.path.join(analysis_dir,analysis_name,f'signal_S{s}_R{r}_med.nii.gz')\n",
    "#         #if not all((os.path.exists(ofn_avg),os.path.exists(ofn_med))):\n",
    "            \n",
    "#         ims = [ants.image_read(fn_temp.format(s=s,r=r,rep=rep)) for rep in np.arange(20) if os.path.exists(fn_temp.format(s=s,r=r,rep=rep))]            \n",
    "#         arrs = np.array([im.numpy() for im in ims])\n",
    "#         good_sub_vec = (np.isnan(arrs)*1.0).sum(axis=(1, 2, 3, 4))==0\n",
    "#         good_sub_vec*=arrs.max(axis=(1, 2, 3, 4))<1e3\n",
    "#         good_sub_vec*=arrs.max(axis=(1, 2, 3, 4))>1e-3\n",
    "#         arrs = arrs[good_sub_vec]\n",
    "\n",
    "#         arr_avg = np.average(arrs,axis=0)\n",
    "#         arr_med = np.median(arrs,axis=0)\n",
    "#         im_avg = ims[0].new_image_like(arr_avg)\n",
    "#         im_avg.to_filename(ofn_avg)\n",
    "#         im_med = ims[0].new_image_like(arr_med)\n",
    "#         im_med.to_filename(ofn_med)"
   ]
  },
  {
   "cell_type": "code",
   "execution_count": null,
   "id": "acf432c7-b9b2-477e-b584-f5362509fc66",
   "metadata": {},
   "outputs": [
    {
     "name": "stderr",
     "output_type": "stream",
     "text": [
      "  0%|          | 0/34 [00:00<?, ?it/s]\n",
      "  0%|          | 0/2 [00:00<?, ?it/s]\u001b[A\n",
      " 50%|█████     | 1/2 [16:06<16:06, 966.83s/it]\u001b[A\n",
      "100%|██████████| 2/2 [29:36<00:00, 874.45s/it]\u001b[A\n",
      "  3%|▎         | 1/34 [29:36<16:17:11, 1776.71s/it]\n",
      "  0%|          | 0/2 [00:00<?, ?it/s]\u001b[A\n",
      " 50%|█████     | 1/2 [18:53<18:53, 1133.11s/it]\u001b[A\n",
      "100%|██████████| 2/2 [33:18<00:00, 975.34s/it] \u001b[A\n",
      "  6%|▌         | 2/34 [1:02:54<16:57:02, 1906.95s/it]\n",
      "  0%|          | 0/2 [00:00<?, ?it/s]\u001b[A\n",
      " 50%|█████     | 1/2 [00:02<00:02,  2.18s/it]\u001b[A\n",
      "100%|██████████| 2/2 [11:12<00:00, 394.98s/it]\u001b[A\n",
      "  9%|▉         | 3/34 [1:14:07<11:33:57, 1343.15s/it]\n",
      "  0%|          | 0/2 [00:00<?, ?it/s]\u001b[A\n",
      " 50%|█████     | 1/2 [11:14<11:14, 674.63s/it]\u001b[A\n",
      "100%|██████████| 2/2 [23:05<00:00, 695.75s/it]\u001b[A\n",
      " 12%|█▏        | 4/34 [1:37:12<11:19:53, 1359.78s/it]\n",
      "  0%|          | 0/2 [00:00<?, ?it/s]\u001b[A\n",
      " 50%|█████     | 1/2 [10:04<10:04, 604.60s/it]\u001b[A\n",
      "100%|██████████| 2/2 [20:22<00:00, 612.46s/it]\u001b[A\n",
      " 15%|█▍        | 5/34 [1:57:35<10:33:19, 1310.34s/it]\n",
      "  0%|          | 0/2 [00:00<?, ?it/s]\u001b[A\n",
      " 50%|█████     | 1/2 [00:02<00:02,  2.14s/it]\u001b[A\n",
      "100%|██████████| 2/2 [09:36<00:00, 338.93s/it]\u001b[A\n",
      " 18%|█▊        | 6/34 [2:07:11<8:15:07, 1060.98s/it] \n",
      "  0%|          | 0/2 [00:00<?, ?it/s]\u001b[A\n",
      " 50%|█████     | 1/2 [00:02<00:02,  2.22s/it]\u001b[A\n",
      " 21%|██        | 7/34 [2:07:14<5:21:40, 714.85s/it] \n",
      "  0%|          | 0/2 [00:00<?, ?it/s]\u001b[A\n",
      " 50%|█████     | 1/2 [15:11<15:11, 911.63s/it]\u001b[A\n",
      "100%|██████████| 2/2 [24:54<00:00, 718.31s/it]\u001b[A\n",
      " 24%|██▎       | 8/34 [2:32:08<6:57:21, 963.12s/it]\n",
      "  0%|          | 0/2 [00:00<?, ?it/s]\u001b[A\n",
      " 50%|█████     | 1/2 [12:07<12:07, 727.45s/it]\u001b[A\n",
      "100%|██████████| 2/2 [12:09<00:00, 300.91s/it]\u001b[A\n",
      " 26%|██▋       | 9/34 [2:44:18<6:10:54, 890.18s/it]\n",
      "  0%|          | 0/2 [00:00<?, ?it/s]\u001b[A\n",
      " 50%|█████     | 1/2 [12:12<12:12, 732.62s/it]\u001b[A\n",
      "100%|██████████| 2/2 [22:51<00:00, 677.35s/it]\u001b[A\n",
      " 29%|██▉       | 10/34 [3:07:10<6:55:29, 1038.74s/it]\n",
      "  0%|          | 0/2 [00:00<?, ?it/s]\u001b[A\n",
      " 50%|█████     | 1/2 [12:15<12:15, 735.34s/it]\u001b[A\n",
      "100%|██████████| 2/2 [23:07<00:00, 686.14s/it]\u001b[A\n",
      " 32%|███▏      | 11/34 [3:30:17<7:19:03, 1145.37s/it]\n",
      "  0%|          | 0/2 [00:00<?, ?it/s]\u001b[A\n",
      " 50%|█████     | 1/2 [12:35<12:35, 755.10s/it]\u001b[A"
     ]
    }
   ],
   "source": [
    "for s in tqdm( np.random.permutation(np.arange(34)) ):\n",
    "    for r in tqdm( np.random.permutation([1,2]), leave = False ):\n",
    "        ofn_avg = os.path.join(analysis_dir,analysis_name,f'signal_S{s}_R{r}_avg.nii.gz')\n",
    "        ofn_med = os.path.join(analysis_dir,analysis_name,f'signal_S{s}_R{r}_med.nii.gz')\n",
    "        if not all((os.path.exists(ofn_avg),os.path.exists(ofn_med))):\n",
    "            ims = [ants.image_read(fn_temp.format(s=s,r=r,rep=rep)) for rep in np.arange(20) if os.path.exists(fn_temp.format(s=s,r=r,rep=rep))]\n",
    "            if len(ims)>10:\n",
    "                arr_avg = np.average(np.array([im.numpy() for im in ims]),axis=0)\n",
    "                arr_med = np.median(np.array([im.numpy() for im in ims]),axis=0)\n",
    "                im_avg = ims[0].new_image_like(arr_avg)\n",
    "                im_avg.to_filename(ofn_avg)\n",
    "                im_med = ims[0].new_image_like(arr_med)\n",
    "                im_med.to_filename(ofn_med)"
   ]
  },
  {
   "cell_type": "code",
   "execution_count": null,
   "id": "c300bb14-9da2-401c-b0c1-0c49f079d38f",
   "metadata": {},
   "outputs": [],
   "source": [
    "# # RANDOM\n",
    "# for s in tqdm( np.random.permutation(np.arange(14)) ):\n",
    "#     for r in tqdm( np.random.permutation([1,2,3,4]), leave = False ):\n",
    "#         print(f'{s}/{r}')\n",
    "#         ofn_avg = os.path.join(analysis_dir,analysis_name,f'signal_S{s}_R{r}_avg.nii.gz')\n",
    "#         ofn_med = os.path.join(analysis_dir,analysis_name,f'signal_S{s}_R{r}_med.nii.gz')\n",
    "#         #if not all((os.path.exists(ofn_avg),os.path.exists(ofn_med))):\n",
    "            \n",
    "#         ims = [ants.image_read(fn_temp.format(s=s,r=r,rep=rep)) for rep in np.arange(20) if os.path.exists(fn_temp.format(s=s,r=r,rep=rep))]            \n",
    "#         arrs = np.array([im.numpy() for im in ims])\n",
    "#         good_sub_vec = (np.isnan(arrs)*1.0).sum(axis=(1, 2, 3, 4))==0\n",
    "#         good_sub_vec*=arrs.max(axis=(1, 2, 3, 4))<1e3\n",
    "#         good_sub_vec*=arrs.max(axis=(1, 2, 3, 4))>1e-3\n",
    "#         arrs = arrs[good_sub_vec]\n",
    "\n",
    "#         arr_avg = np.average(arrs,axis=0)\n",
    "#         arr_med = np.median(arrs,axis=0)\n",
    "#         im_avg = ims[0].new_image_like(arr_avg)\n",
    "#         im_avg.to_filename(ofn_avg)\n",
    "#         im_med = ims[0].new_image_like(arr_med)\n",
    "#         im_med.to_filename(ofn_med)"
   ]
  },
  {
   "cell_type": "code",
   "execution_count": null,
   "id": "c62202d7-e7ad-4d64-a798-6060f939bea9",
   "metadata": {},
   "outputs": [],
   "source": []
  },
  {
   "cell_type": "code",
   "execution_count": null,
   "id": "82403f07-af61-4642-b2b9-6923c6c687b5",
   "metadata": {},
   "outputs": [],
   "source": []
  },
  {
   "cell_type": "code",
   "execution_count": null,
   "id": "07edf883-aece-4d6f-95f9-7717d0b67057",
   "metadata": {},
   "outputs": [],
   "source": []
  },
  {
   "cell_type": "code",
   "execution_count": null,
   "id": "dc0c227f-c417-40d8-9264-a7c2779e86c0",
   "metadata": {},
   "outputs": [],
   "source": []
  },
  {
   "cell_type": "code",
   "execution_count": null,
   "id": "7dcd83ab-4836-4124-b83c-85858bbe3b20",
   "metadata": {},
   "outputs": [],
   "source": []
  },
  {
   "cell_type": "code",
   "execution_count": null,
   "id": "67280360-8699-4a35-8404-00011145ba56",
   "metadata": {},
   "outputs": [],
   "source": []
  }
 ],
 "metadata": {
  "kernelspec": {
   "display_name": "Python 3",
   "language": "python",
   "name": "python3"
  },
  "language_info": {
   "codemirror_mode": {
    "name": "ipython",
    "version": 3
   },
   "file_extension": ".py",
   "mimetype": "text/x-python",
   "name": "python",
   "nbconvert_exporter": "python",
   "pygments_lexer": "ipython3",
   "version": "3.8.8"
  }
 },
 "nbformat": 4,
 "nbformat_minor": 5
}
