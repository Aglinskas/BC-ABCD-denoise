{
 "cells": [
  {
   "cell_type": "code",
   "execution_count": 1,
   "id": "dfbc2899-5b76-4995-abb8-301318ccd022",
   "metadata": {},
   "outputs": [
    {
     "name": "stdout",
     "output_type": "stream",
     "text": [
      "Sun May 18 09:58:58 PM EDT 2025\n"
     ]
    }
   ],
   "source": [
    "!date"
   ]
  },
  {
   "cell_type": "code",
   "execution_count": 3,
   "id": "80a2ad43-8eba-4c5b-9d28-bddbde94e86b",
   "metadata": {},
   "outputs": [
    {
     "data": {
      "text/plain": [
       "'/projects/sccn/andromeda1/aglinska/BC-ABCD-denoise/Code'"
      ]
     },
     "execution_count": 3,
     "metadata": {},
     "output_type": "execute_result"
    }
   ],
   "source": [
    "pwd"
   ]
  },
  {
   "cell_type": "code",
   "execution_count": 19,
   "id": "ce413a11-8421-41cb-97f0-06bc3c395fda",
   "metadata": {},
   "outputs": [],
   "source": [
    "import os\n",
    "import numpy as np\n",
    "import ants\n",
    "from tqdm import tqdm"
   ]
  },
  {
   "cell_type": "code",
   "execution_count": 6,
   "id": "4d03026e-ff02-4f25-960e-784f6b105151",
   "metadata": {},
   "outputs": [],
   "source": [
    "nreps = 20"
   ]
  },
  {
   "cell_type": "code",
   "execution_count": 7,
   "id": "c3872f4e-ed98-4ac3-8afd-ea020829fe92",
   "metadata": {},
   "outputs": [],
   "source": [
    "analysis_dir = '../Data/StudyForrest/ensembles_last_CVAE/'\n",
    "#analysis_name = 'fixed-seed-00-YuOrig-00-DataloaderFix'\n",
    "analysis_name = 'DeepCor-Forrest-face-v5'"
   ]
  },
  {
   "cell_type": "code",
   "execution_count": 8,
   "id": "05c5e57b-3cd5-4109-a8bf-992791b7a77c",
   "metadata": {},
   "outputs": [],
   "source": [
    "fn_temp = os.path.join(analysis_dir,analysis_name,'signal_S{s}_R{r}_rep_{rep}.nii.gz')"
   ]
  },
  {
   "cell_type": "code",
   "execution_count": 29,
   "id": "acf432c7-b9b2-477e-b584-f5362509fc66",
   "metadata": {},
   "outputs": [
    {
     "name": "stderr",
     "output_type": "stream",
     "text": [
      "\n",
      "  0%|          | 0/14 [00:00<?, ?it/s]\u001b[A\n",
      "\n",
      "  0%|          | 0/4 [00:00<?, ?it/s]\u001b[A\u001b[A\n",
      "\n",
      " 25%|██▌       | 1/4 [00:33<01:39, 33.22s/it]\u001b[A\u001b[A\n",
      "\n",
      " 50%|█████     | 2/4 [01:06<01:06, 33.07s/it]\u001b[A\u001b[A\n",
      "\n",
      " 75%|███████▌  | 3/4 [01:39<00:32, 32.96s/it]\u001b[A\u001b[A\n",
      "\n",
      "100%|██████████| 4/4 [02:11<00:00, 32.95s/it]\u001b[A\u001b[A\n",
      "\n",
      "                                             \u001b[A\u001b[A\n",
      "  7%|▋         | 1/14 [02:11<28:35, 131.94s/it]\u001b[A\n",
      "\n",
      "  0%|          | 0/4 [00:00<?, ?it/s]\u001b[A\u001b[A\n",
      "\n",
      " 25%|██▌       | 1/4 [00:32<01:38, 32.81s/it]\u001b[A\u001b[A\n",
      "\n",
      " 50%|█████     | 2/4 [01:05<01:05, 32.97s/it]\u001b[A\u001b[A\n",
      "\n",
      " 75%|███████▌  | 3/4 [01:38<00:32, 32.78s/it]\u001b[A\u001b[A\n",
      "\n",
      "100%|██████████| 4/4 [02:11<00:00, 32.73s/it]\u001b[A\u001b[A\n",
      "\n",
      "                                             \u001b[A\u001b[A\n",
      " 14%|█▍        | 2/14 [04:23<26:17, 131.44s/it]\u001b[A\n",
      "\n",
      "  0%|          | 0/4 [00:00<?, ?it/s]\u001b[A\u001b[A\n",
      "\n",
      " 25%|██▌       | 1/4 [00:32<01:38, 32.96s/it]\u001b[A\u001b[A\n",
      "\n",
      " 50%|█████     | 2/4 [01:06<01:06, 33.32s/it]\u001b[A\u001b[A\n",
      "\n",
      " 75%|███████▌  | 3/4 [01:39<00:33, 33.20s/it]\u001b[A\u001b[A\n",
      "\n",
      "100%|██████████| 4/4 [02:12<00:00, 32.97s/it]\u001b[A\u001b[A\n",
      "\n",
      "                                             \u001b[A\u001b[A\n",
      " 21%|██▏       | 3/14 [06:35<24:09, 131.79s/it]\u001b[A\n",
      "\n",
      "  0%|          | 0/4 [00:00<?, ?it/s]\u001b[A\u001b[A\n",
      "\n",
      " 25%|██▌       | 1/4 [00:30<01:31, 30.59s/it]\u001b[A\u001b[A\n",
      "\n",
      " 50%|█████     | 2/4 [01:03<01:04, 32.00s/it]\u001b[A\u001b[A\n",
      "\n",
      " 75%|███████▌  | 3/4 [01:36<00:32, 32.42s/it]\u001b[A\u001b[A\n",
      "\n",
      "100%|██████████| 4/4 [02:09<00:00, 32.76s/it]\u001b[A\u001b[A\n",
      "\n",
      "                                             \u001b[A\u001b[A\n",
      " 29%|██▊       | 4/14 [08:45<21:49, 131.00s/it]\u001b[A\n",
      "\n",
      "  0%|          | 0/4 [00:00<?, ?it/s]\u001b[A\u001b[A\n",
      "\n",
      " 25%|██▌       | 1/4 [00:33<01:40, 33.38s/it]\u001b[A\u001b[A\n",
      "\n",
      " 50%|█████     | 2/4 [01:06<01:06, 33.17s/it]\u001b[A\u001b[A\n",
      "\n",
      " 75%|███████▌  | 3/4 [01:39<00:32, 32.95s/it]\u001b[A\u001b[A\n",
      "\n",
      "100%|██████████| 4/4 [02:12<00:00, 32.98s/it]\u001b[A\u001b[A\n",
      "\n",
      "                                             \u001b[A\u001b[A\n",
      " 36%|███▌      | 5/14 [10:57<19:42, 131.41s/it]\u001b[A\n",
      "\n",
      "  0%|          | 0/4 [00:00<?, ?it/s]\u001b[A\u001b[A\n",
      "\n",
      " 25%|██▌       | 1/4 [00:32<01:37, 32.46s/it]\u001b[A\u001b[A\n",
      "\n",
      " 50%|█████     | 2/4 [01:05<01:06, 33.00s/it]\u001b[A\u001b[A\n",
      "\n",
      " 75%|███████▌  | 3/4 [01:38<00:32, 32.76s/it]\u001b[A\u001b[A\n",
      "\n",
      "100%|██████████| 4/4 [02:11<00:00, 32.77s/it]\u001b[A\u001b[A\n",
      "\n",
      "                                             \u001b[A\u001b[A\n",
      " 43%|████▎     | 6/14 [13:08<17:30, 131.30s/it]\u001b[A\n",
      "\n",
      "  0%|          | 0/4 [00:00<?, ?it/s]\u001b[A\u001b[A\n",
      "\n",
      " 25%|██▌       | 1/4 [00:33<01:39, 33.23s/it]\u001b[A\u001b[A\n",
      "\n",
      " 50%|█████     | 2/4 [01:06<01:06, 33.03s/it]\u001b[A\u001b[A\n",
      "\n",
      " 75%|███████▌  | 3/4 [01:36<00:32, 32.02s/it]\u001b[A\u001b[A\n",
      "\n",
      "100%|██████████| 4/4 [02:07<00:00, 31.44s/it]\u001b[A\u001b[A\n",
      "\n",
      "                                             \u001b[A\u001b[A\n",
      " 50%|█████     | 7/14 [15:15<15:10, 130.05s/it]\u001b[A\n",
      "\n",
      "  0%|          | 0/4 [00:00<?, ?it/s]\u001b[A\u001b[A\n",
      "\n",
      " 25%|██▌       | 1/4 [00:32<01:37, 32.45s/it]\u001b[A\u001b[A\n",
      "\n",
      " 50%|█████     | 2/4 [01:05<01:05, 32.93s/it]\u001b[A\u001b[A\n",
      "\n",
      " 75%|███████▌  | 3/4 [01:39<00:33, 33.24s/it]\u001b[A\u001b[A\n",
      "\n",
      "100%|██████████| 4/4 [02:12<00:00, 33.37s/it]\u001b[A\u001b[A\n",
      "\n",
      "                                             \u001b[A\u001b[A\n",
      " 57%|█████▋    | 8/14 [17:28<13:05, 130.96s/it]\u001b[A\n",
      "\n",
      "  0%|          | 0/4 [00:00<?, ?it/s]\u001b[A\u001b[A\n",
      "\n",
      " 25%|██▌       | 1/4 [00:33<01:39, 33.26s/it]\u001b[A\u001b[A\n",
      "\n",
      " 50%|█████     | 2/4 [01:06<01:06, 33.12s/it]\u001b[A\u001b[A\n",
      "\n",
      " 75%|███████▌  | 3/4 [01:39<00:33, 33.24s/it]\u001b[A\u001b[A\n",
      "\n",
      "100%|██████████| 4/4 [02:12<00:00, 32.92s/it]\u001b[A\u001b[A\n",
      "\n",
      "                                             \u001b[A\u001b[A\n",
      " 64%|██████▍   | 9/14 [19:40<10:56, 131.32s/it]\u001b[A\n",
      "\n",
      "  0%|          | 0/4 [00:00<?, ?it/s]\u001b[A\u001b[A\n",
      "\n",
      " 25%|██▌       | 1/4 [00:32<01:38, 32.87s/it]\u001b[A\u001b[A\n",
      "\n",
      " 50%|█████     | 2/4 [01:06<01:06, 33.15s/it]\u001b[A\u001b[A\n",
      "\n",
      " 75%|███████▌  | 3/4 [01:38<00:32, 32.93s/it]\u001b[A\u001b[A\n",
      "\n",
      "100%|██████████| 4/4 [02:11<00:00, 32.90s/it]\u001b[A\u001b[A\n",
      "\n",
      "                                             \u001b[A\u001b[A\n",
      " 71%|███████▏  | 10/14 [21:52<08:45, 131.45s/it]\u001b[A\n",
      "\n",
      "  0%|          | 0/4 [00:00<?, ?it/s]\u001b[A\u001b[A\n",
      "\n",
      " 25%|██▌       | 1/4 [00:33<01:39, 33.20s/it]\u001b[A\u001b[A\n",
      "\n",
      " 50%|█████     | 2/4 [01:06<01:06, 33.25s/it]\u001b[A\u001b[A\n",
      "\n",
      " 75%|███████▌  | 3/4 [01:39<00:33, 33.27s/it]\u001b[A\u001b[A\n",
      "\n",
      "100%|██████████| 4/4 [02:12<00:00, 33.23s/it]\u001b[A\u001b[A\n",
      "\n",
      "                                             \u001b[A\u001b[A\n",
      " 79%|███████▊  | 11/14 [24:05<06:35, 131.91s/it]\u001b[A\n",
      "\n",
      "  0%|          | 0/4 [00:00<?, ?it/s]\u001b[A\u001b[A\n",
      "\n",
      " 25%|██▌       | 1/4 [00:32<01:38, 32.83s/it]\u001b[A\u001b[A\n",
      "\n",
      " 75%|███████▌  | 3/4 [01:06<00:20, 20.82s/it]\u001b[A\u001b[A\n",
      "\n",
      "100%|██████████| 4/4 [01:38<00:00, 24.90s/it]\u001b[A\u001b[A\n",
      "\n",
      "                                             \u001b[A\u001b[A\n",
      " 86%|████████▌ | 12/14 [25:44<04:03, 121.80s/it]\u001b[A\n",
      "\n",
      "  0%|          | 0/4 [00:00<?, ?it/s]\u001b[A\u001b[A\n",
      "\n",
      " 25%|██▌       | 1/4 [00:32<01:38, 32.89s/it]\u001b[A\u001b[A\n",
      "\n",
      " 50%|█████     | 2/4 [01:05<01:06, 33.01s/it]\u001b[A\u001b[A\n",
      "\n",
      " 75%|███████▌  | 3/4 [01:39<00:33, 33.09s/it]\u001b[A\u001b[A\n",
      "\n",
      "100%|██████████| 4/4 [02:11<00:00, 32.98s/it]\u001b[A\u001b[A\n",
      "\n",
      "                                             \u001b[A\u001b[A\n",
      " 93%|█████████▎| 13/14 [27:56<02:04, 124.88s/it]\u001b[A\n",
      "\n",
      "  0%|          | 0/4 [00:00<?, ?it/s]\u001b[A\u001b[A\n",
      "\n",
      " 25%|██▌       | 1/4 [00:33<01:40, 33.59s/it]\u001b[A\u001b[A\n",
      "\n",
      " 50%|█████     | 2/4 [01:04<01:03, 31.90s/it]\u001b[A\u001b[A\n",
      "\n",
      " 75%|███████▌  | 3/4 [01:37<00:32, 32.59s/it]\u001b[A\u001b[A\n",
      "\n",
      "100%|██████████| 4/4 [02:10<00:00, 32.80s/it]\u001b[A\u001b[A\n",
      "\n",
      "                                             \u001b[A\u001b[A\n",
      "100%|██████████| 14/14 [30:06<00:00, 129.07s/it]\u001b[A\n"
     ]
    }
   ],
   "source": [
    "for s in tqdm( np.random.permutation(np.arange(14)) ):\n",
    "    for r in tqdm( np.random.permutation([1,2,3,4]), leave = False ):\n",
    "        ofn_avg = os.path.join(analysis_dir,analysis_name,f'signal_S{s}_R{r}_avg.nii.gz')\n",
    "        ofn_med = os.path.join(analysis_dir,analysis_name,f'signal_S{s}_R{r}_med.nii.gz')\n",
    "        if not all((os.path.exists(ofn_avg),os.path.exists(ofn_med))):\n",
    "            ims = [ants.image_read(fn_temp.format(s=s,r=r,rep=rep)) for rep in np.arange(20) if os.path.exists(fn_temp.format(s=s,r=r,rep=rep))]\n",
    "            arr_avg = np.average(np.array([im.numpy() for im in ims]),axis=0)\n",
    "            arr_med = np.median(np.array([im.numpy() for im in ims]),axis=0)\n",
    "            im_avg = ims[0].new_image_like(arr_avg)\n",
    "            im_avg.to_filename(ofn_avg)\n",
    "            im_med = ims[0].new_image_like(arr_med)\n",
    "            im_med.to_filename(ofn_med)"
   ]
  },
  {
   "cell_type": "code",
   "execution_count": null,
   "id": "c300bb14-9da2-401c-b0c1-0c49f079d38f",
   "metadata": {},
   "outputs": [],
   "source": []
  },
  {
   "cell_type": "code",
   "execution_count": null,
   "id": "c62202d7-e7ad-4d64-a798-6060f939bea9",
   "metadata": {},
   "outputs": [],
   "source": []
  },
  {
   "cell_type": "code",
   "execution_count": null,
   "id": "82403f07-af61-4642-b2b9-6923c6c687b5",
   "metadata": {},
   "outputs": [],
   "source": []
  },
  {
   "cell_type": "code",
   "execution_count": null,
   "id": "07edf883-aece-4d6f-95f9-7717d0b67057",
   "metadata": {},
   "outputs": [],
   "source": []
  },
  {
   "cell_type": "code",
   "execution_count": null,
   "id": "dc0c227f-c417-40d8-9264-a7c2779e86c0",
   "metadata": {},
   "outputs": [],
   "source": []
  },
  {
   "cell_type": "code",
   "execution_count": null,
   "id": "7dcd83ab-4836-4124-b83c-85858bbe3b20",
   "metadata": {},
   "outputs": [],
   "source": []
  },
  {
   "cell_type": "code",
   "execution_count": null,
   "id": "67280360-8699-4a35-8404-00011145ba56",
   "metadata": {},
   "outputs": [],
   "source": []
  }
 ],
 "metadata": {
  "kernelspec": {
   "display_name": "Python 3",
   "language": "python",
   "name": "python3"
  },
  "language_info": {
   "codemirror_mode": {
    "name": "ipython",
    "version": 3
   },
   "file_extension": ".py",
   "mimetype": "text/x-python",
   "name": "python",
   "nbconvert_exporter": "python",
   "pygments_lexer": "ipython3",
   "version": "3.8.8"
  }
 },
 "nbformat": 4,
 "nbformat_minor": 5
}
