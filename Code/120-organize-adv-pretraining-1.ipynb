{
 "cells": [
  {
   "cell_type": "code",
   "execution_count": 1,
   "id": "20f63c09-5e7d-438e-9196-8d6d517a525e",
   "metadata": {},
   "outputs": [
    {
     "name": "stdout",
     "output_type": "stream",
     "text": [
      "Mon Apr 28 14:26:23 EDT 2025\n"
     ]
    }
   ],
   "source": [
    "!date"
   ]
  },
  {
   "cell_type": "code",
   "execution_count": 2,
   "id": "77e47089-5eec-4e53-bb35-2476481634e3",
   "metadata": {},
   "outputs": [
    {
     "data": {
      "text/plain": [
       "'/mmfs1/data/aglinska/BC-ABCD-denoise/Code'"
      ]
     },
     "execution_count": 2,
     "metadata": {},
     "output_type": "execute_result"
    }
   ],
   "source": [
    "pwd"
   ]
  },
  {
   "cell_type": "code",
   "execution_count": 3,
   "id": "fa76cdc4-4dec-4920-91fa-9d6449337baa",
   "metadata": {},
   "outputs": [
    {
     "name": "stderr",
     "output_type": "stream",
     "text": [
      "/data/aglinska/anaconda3/lib/python3.8/site-packages/scipy/__init__.py:146: UserWarning: A NumPy version >=1.16.5 and <1.23.0 is required for this version of SciPy (detected version 1.23.5\n",
      "  warnings.warn(f\"A NumPy version >={np_minversion} and <{np_maxversion}\"\n"
     ]
    }
   ],
   "source": [
    "import nbformat\n",
    "import os\n",
    "from tqdm import tqdm\n",
    "import shutil\n",
    "import pickle\n",
    "import numpy as np\n",
    "from sklearn.decomposition import PCA\n",
    "from sklearn import linear_model\n",
    "from matplotlib import pyplot as plt"
   ]
  },
  {
   "cell_type": "code",
   "execution_count": 4,
   "id": "9b6b4265-45a1-471c-b18f-e337dc907ce8",
   "metadata": {},
   "outputs": [],
   "source": [
    "import pickle\n",
    "def load_pickle(filename):\n",
    "    with open(filename,\"rb\") as filehandler:\n",
    "        dump = pickle.load(filehandler)\n",
    "    return dump"
   ]
  },
  {
   "cell_type": "code",
   "execution_count": 5,
   "id": "be163b7b-cba4-4275-8446-80b5d89351ef",
   "metadata": {},
   "outputs": [],
   "source": [
    "model_names = ['conv_denoise',\n",
    "'conv_denoise500',\n",
    "'conv_denoise_bn',\n",
    "'conv_denoise_large',\n",
    "'conv_denoise_large500',\n",
    "'conv_smooth',\n",
    "'conv_smooth-small',\n",
    "'conv_weights_unet_denoise',\n",
    "'conv_weights_unet_denoise500',]\n",
    "model_names.sort()"
   ]
  },
  {
   "cell_type": "code",
   "execution_count": 6,
   "id": "59eadabe-259b-4fa2-bc31-b6f3731fd967",
   "metadata": {},
   "outputs": [],
   "source": [
    "errors = []"
   ]
  },
  {
   "cell_type": "code",
   "execution_count": 7,
   "id": "d9ac4e5b-970c-475a-a98b-76141d1ac14e",
   "metadata": {},
   "outputs": [
    {
     "data": {
      "text/plain": [
       "'../Data/StudyForrest/Stefano_adv_papermill/'"
      ]
     },
     "execution_count": 7,
     "metadata": {},
     "output_type": "execute_result"
    }
   ],
   "source": []
  },
  {
   "cell_type": "code",
   "execution_count": 10,
   "id": "41a0f6aa-87ec-489b-90fb-8dd0f6aade31",
   "metadata": {},
   "outputs": [
    {
     "name": "stdout",
     "output_type": "stream",
     "text": [
      "56\n"
     ]
    }
   ],
   "source": [
    "rep = 0\n",
    "analysis_name = f'new-stefano-conv-allSubs-rep-{rep}'\n",
    "indir = '../Data/StudyForrest/Stefano_adv_papermill/'\n",
    "notebooks_dir = os.path.join(indir,analysis_name)\n",
    "notebooks = [f for f in os.listdir(notebooks_dir) if f.endswith('.ipynb')]\n",
    "notebooks.sort()\n",
    "n = len(notebooks)\n",
    "print(n)"
   ]
  },
  {
   "cell_type": "code",
   "execution_count": 28,
   "id": "731a1c20-3b45-4a4f-b7d8-9dee4d57f599",
   "metadata": {},
   "outputs": [],
   "source": [
    "outputs_dir = os.path.join('../Data/StudyForrest/Stefano_adv_outputs/',analysis_name)\n",
    "if not os.path.exists(outputs_dir):\n",
    "    os.mkdir(outputs_dir)"
   ]
  },
  {
   "cell_type": "code",
   "execution_count": 37,
   "id": "d8bf17be-c46e-4f12-b023-d11e8109203e",
   "metadata": {},
   "outputs": [
    {
     "name": "stderr",
     "output_type": "stream",
     "text": [
      "100%|██████████████████████████████████████████████████████████████████████████| 1/1 [00:15<00:00, 15.97s/it]\n"
     ]
    }
   ],
   "source": [
    "for rep in tqdm([0]):\n",
    "    analysis_name = f'new-stefano-conv-allSubs-rep-{rep}'\n",
    "    indir = '../Data/StudyForrest/Stefano_adv_papermill/'\n",
    "    notebooks_dir = os.path.join(indir,analysis_name)\n",
    "    notebooks = [f for f in os.listdir(notebooks_dir) if f.endswith('.ipynb')]\n",
    "    notebooks.sort()\n",
    "    n = len(notebooks)\n",
    "    for s in range(14):\n",
    "        for r in [1,2,3,4]:\n",
    "            notebook_path = os.path.join(notebooks_dir,f'ensembling-method-S{s}-R{r}.ipynb')\n",
    "            if os.path.exists(notebook_path):\n",
    "                assert os.path.exists(notebook_path),'bad path'\n",
    "                with open(notebook_path, 'r', encoding='utf-8') as f:\n",
    "                    notebook = nbformat.read(f, as_version=4)                    \n",
    "                target_outputs = []\n",
    "                for cell in notebook['cells']:\n",
    "                    if cell['cell_type'] == 'code' and 'save_derivs(weights_ofn)' in cell['source']:\n",
    "                        # Check if the cell has outputs\n",
    "                        if 'outputs' in cell:\n",
    "                            for output in cell['outputs']:\n",
    "                                # Extract the text output if available\n",
    "                                if output['output_type'] == 'stream' and 'text' in output and 'saved as' in output['text']:\n",
    "                                    target_outputs.append(output['text'].replace(\"\\n\",'').replace('saved as: ',''))\n",
    "                                    target_outputs.sort()\n",
    "                if len(target_outputs)==9:\n",
    "                    for i in range(len(target_outputs)):\n",
    "                        \n",
    "                        target_name = target_outputs[i]\n",
    "                        if os.path.exists(target_name):\n",
    "                            src = target_name\n",
    "                            dst = os.path.join(outputs_dir,f'{model_names[i]}-S_{s}-R_{r}-rep_{rep}.pickle')\n",
    "                            shutil.copyfile(src,dst)\n",
    "\n",
    "                        target_name = target_outputs[i].replace('.pickle','.nii.gz')\n",
    "                        if os.path.exists(target_name):\n",
    "                            src = target_name\n",
    "                            dst = os.path.join(outputs_dir,f'{model_names[i]}-S_{s}-R_{r}-rep_{rep}.nii.gz')\n",
    "                            shutil.copyfile(src,dst)\n",
    "\n",
    "                        target_name = target_outputs[i].replace('.pickle','.weights')\n",
    "                        if os.path.exists(target_name):\n",
    "                            src = target_name\n",
    "                            dst = os.path.join(outputs_dir,f'{model_names[i]}-S_{s}-R_{r}-rep_{rep}.weights')\n",
    "                            shutil.copyfile(src,dst)"
   ]
  },
  {
   "cell_type": "code",
   "execution_count": 43,
   "id": "e326e3ff-f640-457a-bdc2-ce0ee30abcbf",
   "metadata": {},
   "outputs": [],
   "source": [
    "\n",
    "done_check = np.array([[all([os.path.exists(os.path.join(os.path.join(outputs_dir,f'{model_names[0]}-S_{s}-R_{r}-rep_{rep}.pickle'))) for r in [1,2,3,4]]) for s in range(14)] for rep in range(11)])\n"
   ]
  },
  {
   "cell_type": "code",
   "execution_count": 53,
   "id": "ba176162-ae0a-4420-a85f-400220515704",
   "metadata": {},
   "outputs": [
    {
     "data": {
      "text/plain": [
       "Text(0.5, 0, 'repetition')"
      ]
     },
     "execution_count": 53,
     "metadata": {},
     "output_type": "execute_result"
    },
    {
     "data": {
      "image/png": "[encoded data removed]",
      "text/plain": [
       "<Figure size 500x1500 with 1 Axes>"
      ]
     },
     "metadata": {},
     "output_type": "display_data"
    }
   ],
   "source": [
    "plt.figure(figsize=(5,15))\n",
    "plt.imshow(done_check,vmin=0,vmax=1);\n",
    "plt.xlabel('subject')\n",
    "plt.xlabel('repetition')"
   ]
  },
  {
   "cell_type": "code",
   "execution_count": null,
   "id": "72dc6684-4fe6-48d0-9581-1baab7c70af7",
   "metadata": {},
   "outputs": [],
   "source": []
  },
  {
   "cell_type": "code",
   "execution_count": null,
   "id": "5bf15042-b867-473a-afe0-730aa496b12f",
   "metadata": {},
   "outputs": [],
   "source": []
  },
  {
   "cell_type": "code",
   "execution_count": null,
   "id": "814ddb55-b172-42ee-a5c6-92ba7fffd4a5",
   "metadata": {},
   "outputs": [],
   "source": []
  },
  {
   "cell_type": "code",
   "execution_count": null,
   "id": "698a0260-682c-49d1-b05b-1d05e494a92c",
   "metadata": {},
   "outputs": [],
   "source": []
  }
 ],
 "metadata": {
  "kernelspec": {
   "display_name": "Python 3 (ipykernel)",
   "language": "python",
   "name": "python3"
  },
  "language_info": {
   "codemirror_mode": {
    "name": "ipython",
    "version": 3
   },
   "file_extension": ".py",
   "mimetype": "text/x-python",
   "name": "python",
   "nbconvert_exporter": "python",
   "pygments_lexer": "ipython3",
   "version": "3.8.17"
  }
 },
 "nbformat": 4,
 "nbformat_minor": 5
}
