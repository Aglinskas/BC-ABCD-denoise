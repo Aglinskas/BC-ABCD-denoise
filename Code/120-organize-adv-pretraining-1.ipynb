{
 "cells": [
  {
   "cell_type": "code",
   "execution_count": 1,
   "id": "20f63c09-5e7d-438e-9196-8d6d517a525e",
   "metadata": {},
   "outputs": [
    {
     "name": "stdout",
     "output_type": "stream",
     "text": [
      "Mon May  5 17:00:54 EDT 2025\n"
     ]
    }
   ],
   "source": [
    "!date"
   ]
  },
  {
   "cell_type": "code",
   "execution_count": 2,
   "id": "77e47089-5eec-4e53-bb35-2476481634e3",
   "metadata": {},
   "outputs": [
    {
     "data": {
      "text/plain": [
       "'/mmfs1/data/aglinska/BC-ABCD-denoise/Code'"
      ]
     },
     "execution_count": 2,
     "metadata": {},
     "output_type": "execute_result"
    }
   ],
   "source": [
    "pwd"
   ]
  },
  {
   "cell_type": "code",
   "execution_count": 3,
   "id": "fa76cdc4-4dec-4920-91fa-9d6449337baa",
   "metadata": {},
   "outputs": [
    {
     "name": "stderr",
     "output_type": "stream",
     "text": [
      "/data/aglinska/anaconda3/lib/python3.8/site-packages/scipy/__init__.py:146: UserWarning: A NumPy version >=1.16.5 and <1.23.0 is required for this version of SciPy (detected version 1.23.5\n",
      "  warnings.warn(f\"A NumPy version >={np_minversion} and <{np_maxversion}\"\n"
     ]
    }
   ],
   "source": [
    "import nbformat\n",
    "import os\n",
    "from tqdm import tqdm\n",
    "import shutil\n",
    "import pickle\n",
    "import numpy as np\n",
    "from sklearn.decomposition import PCA\n",
    "from sklearn import linear_model\n",
    "from matplotlib import pyplot as plt"
   ]
  },
  {
   "cell_type": "code",
   "execution_count": 4,
   "id": "9b6b4265-45a1-471c-b18f-e337dc907ce8",
   "metadata": {},
   "outputs": [],
   "source": [
    "import pickle\n",
    "def load_pickle(filename):\n",
    "    with open(filename,\"rb\") as filehandler:\n",
    "        dump = pickle.load(filehandler)\n",
    "    return dump"
   ]
  },
  {
   "cell_type": "code",
   "execution_count": 5,
   "id": "be163b7b-cba4-4275-8446-80b5d89351ef",
   "metadata": {},
   "outputs": [],
   "source": [
    "model_names = ['conv_denoise',\n",
    "'conv_denoise500',\n",
    "'conv_denoise_bn',\n",
    "'conv_denoise_large',\n",
    "'conv_denoise_large500',\n",
    "'conv_smooth',\n",
    "'conv_smooth-small',\n",
    "'conv_weights_unet_denoise',\n",
    "'conv_weights_unet_denoise500',]\n",
    "model_names.sort()"
   ]
  },
  {
   "cell_type": "code",
   "execution_count": 6,
   "id": "59eadabe-259b-4fa2-bc31-b6f3731fd967",
   "metadata": {},
   "outputs": [],
   "source": [
    "errors = []"
   ]
  },
  {
   "cell_type": "code",
   "execution_count": 7,
   "id": "6b98513e-d44b-45ea-8b02-deb40a752542",
   "metadata": {},
   "outputs": [],
   "source": [
    "indir = '../Data/StudyForrest/Stefano_adv_papermill/'"
   ]
  },
  {
   "cell_type": "code",
   "execution_count": 19,
   "id": "01d67130-69cc-4eb7-87c4-c146f3e72eaf",
   "metadata": {},
   "outputs": [],
   "source": [
    "folders = [f for f in os.listdir(indir) if not f.startswith('.')]\n",
    "folders.sort()\n",
    "nfiles = [len( os.listdir(os.path.join(indir,folder)) ) for folder in folders]"
   ]
  },
  {
   "cell_type": "code",
   "execution_count": 25,
   "id": "bdd90447-f156-49b2-93a5-f238cad1d245",
   "metadata": {},
   "outputs": [
    {
     "data": {
      "text/plain": [
       "18"
      ]
     },
     "execution_count": 25,
     "metadata": {},
     "output_type": "execute_result"
    }
   ],
   "source": [
    "sum(np.array(nfiles)>55)"
   ]
  },
  {
   "cell_type": "code",
   "execution_count": 26,
   "id": "a361e4c0-9951-4012-a847-1d56b0a14921",
   "metadata": {},
   "outputs": [
    {
     "name": "stdout",
     "output_type": "stream",
     "text": [
      "new-stefano-conv-allSubs-rep-0 | 57\n",
      "new-stefano-conv-allSubs-rep-1 | 57\n",
      "new-stefano-conv-allSubs-rep-10 | 56\n",
      "new-stefano-conv-allSubs-rep-11 | 57\n",
      "new-stefano-conv-allSubs-rep-12 | 56\n",
      "new-stefano-conv-allSubs-rep-13 | 56\n",
      "new-stefano-conv-allSubs-rep-14 | 56\n",
      "new-stefano-conv-allSubs-rep-15 | 56\n",
      "new-stefano-conv-allSubs-rep-16 | 56\n",
      "new-stefano-conv-allSubs-rep-17 | 56\n",
      "new-stefano-conv-allSubs-rep-18 | 44\n",
      "new-stefano-conv-allSubs-rep-2 | 56\n",
      "new-stefano-conv-allSubs-rep-3 | 56\n",
      "new-stefano-conv-allSubs-rep-4 | 57\n",
      "new-stefano-conv-allSubs-rep-5 | 56\n",
      "new-stefano-conv-allSubs-rep-6 | 56\n",
      "new-stefano-conv-allSubs-rep-7 | 56\n",
      "new-stefano-conv-allSubs-rep-8 | 56\n",
      "new-stefano-conv-allSubs-rep-9 | 56\n"
     ]
    }
   ],
   "source": [
    "for i in range(len(folders)):\n",
    "    print(f'{folders[i]} | {nfiles[i]}')"
   ]
  },
  {
   "cell_type": "code",
   "execution_count": 34,
   "id": "41a0f6aa-87ec-489b-90fb-8dd0f6aade31",
   "metadata": {},
   "outputs": [
    {
     "name": "stdout",
     "output_type": "stream",
     "text": [
      "56\n"
     ]
    },
    {
     "name": "stderr",
     "output_type": "stream",
     "text": [
      "100%|██████████████████████████████████████████████████████████████████████████| 1/1 [00:14<00:00, 14.70s/it]\n"
     ]
    },
    {
     "name": "stdout",
     "output_type": "stream",
     "text": [
      "56\n"
     ]
    },
    {
     "name": "stderr",
     "output_type": "stream",
     "text": [
      "100%|██████████████████████████████████████████████████████████████████████████| 1/1 [00:12<00:00, 12.72s/it]\n"
     ]
    },
    {
     "name": "stdout",
     "output_type": "stream",
     "text": [
      "56\n"
     ]
    },
    {
     "name": "stderr",
     "output_type": "stream",
     "text": [
      "100%|██████████████████████████████████████████████████████████████████████████| 1/1 [00:12<00:00, 12.14s/it]\n"
     ]
    },
    {
     "name": "stdout",
     "output_type": "stream",
     "text": [
      "56\n"
     ]
    },
    {
     "name": "stderr",
     "output_type": "stream",
     "text": [
      "100%|██████████████████████████████████████████████████████████████████████████| 1/1 [00:12<00:00, 12.01s/it]\n"
     ]
    },
    {
     "name": "stdout",
     "output_type": "stream",
     "text": [
      "56\n"
     ]
    },
    {
     "name": "stderr",
     "output_type": "stream",
     "text": [
      "100%|██████████████████████████████████████████████████████████████████████████| 1/1 [00:12<00:00, 12.04s/it]\n"
     ]
    },
    {
     "name": "stdout",
     "output_type": "stream",
     "text": [
      "56\n"
     ]
    },
    {
     "name": "stderr",
     "output_type": "stream",
     "text": [
      "100%|██████████████████████████████████████████████████████████████████████████| 1/1 [00:12<00:00, 12.01s/it]\n"
     ]
    },
    {
     "name": "stdout",
     "output_type": "stream",
     "text": [
      "56\n"
     ]
    },
    {
     "name": "stderr",
     "output_type": "stream",
     "text": [
      "100%|██████████████████████████████████████████████████████████████████████████| 1/1 [00:12<00:00, 12.18s/it]\n"
     ]
    },
    {
     "name": "stdout",
     "output_type": "stream",
     "text": [
      "56\n"
     ]
    },
    {
     "name": "stderr",
     "output_type": "stream",
     "text": [
      "100%|██████████████████████████████████████████████████████████████████████████| 1/1 [00:12<00:00, 12.06s/it]\n"
     ]
    },
    {
     "name": "stdout",
     "output_type": "stream",
     "text": [
      "56\n"
     ]
    },
    {
     "name": "stderr",
     "output_type": "stream",
     "text": [
      "100%|██████████████████████████████████████████████████████████████████████████| 1/1 [00:12<00:00, 12.04s/it]\n"
     ]
    },
    {
     "name": "stdout",
     "output_type": "stream",
     "text": [
      "56\n"
     ]
    },
    {
     "name": "stderr",
     "output_type": "stream",
     "text": [
      "100%|██████████████████████████████████████████████████████████████████████████| 1/1 [00:11<00:00, 11.99s/it]\n"
     ]
    },
    {
     "name": "stdout",
     "output_type": "stream",
     "text": [
      "56\n"
     ]
    },
    {
     "name": "stderr",
     "output_type": "stream",
     "text": [
      "100%|██████████████████████████████████████████████████████████████████████████| 1/1 [00:12<00:00, 12.08s/it]\n"
     ]
    },
    {
     "name": "stdout",
     "output_type": "stream",
     "text": [
      "56\n"
     ]
    },
    {
     "name": "stderr",
     "output_type": "stream",
     "text": [
      "100%|██████████████████████████████████████████████████████████████████████████| 1/1 [00:12<00:00, 12.09s/it]\n"
     ]
    },
    {
     "name": "stdout",
     "output_type": "stream",
     "text": [
      "56\n"
     ]
    },
    {
     "name": "stderr",
     "output_type": "stream",
     "text": [
      "100%|██████████████████████████████████████████████████████████████████████████| 1/1 [00:12<00:00, 12.07s/it]\n"
     ]
    },
    {
     "name": "stdout",
     "output_type": "stream",
     "text": [
      "56\n"
     ]
    },
    {
     "name": "stderr",
     "output_type": "stream",
     "text": [
      "100%|██████████████████████████████████████████████████████████████████████████| 1/1 [00:12<00:00, 12.11s/it]\n"
     ]
    },
    {
     "name": "stdout",
     "output_type": "stream",
     "text": [
      "56\n"
     ]
    },
    {
     "name": "stderr",
     "output_type": "stream",
     "text": [
      "100%|██████████████████████████████████████████████████████████████████████████| 1/1 [00:12<00:00, 12.58s/it]\n"
     ]
    },
    {
     "name": "stdout",
     "output_type": "stream",
     "text": [
      "56\n"
     ]
    },
    {
     "name": "stderr",
     "output_type": "stream",
     "text": [
      "100%|██████████████████████████████████████████████████████████████████████████| 1/1 [00:12<00:00, 12.56s/it]\n"
     ]
    },
    {
     "name": "stdout",
     "output_type": "stream",
     "text": [
      "56\n"
     ]
    },
    {
     "name": "stderr",
     "output_type": "stream",
     "text": [
      "100%|██████████████████████████████████████████████████████████████████████████| 1/1 [00:12<00:00, 12.69s/it]\n"
     ]
    },
    {
     "name": "stdout",
     "output_type": "stream",
     "text": [
      "56\n"
     ]
    },
    {
     "name": "stderr",
     "output_type": "stream",
     "text": [
      "100%|██████████████████████████████████████████████████████████████████████████| 1/1 [00:12<00:00, 12.62s/it]\n"
     ]
    },
    {
     "name": "stdout",
     "output_type": "stream",
     "text": [
      "45\n"
     ]
    },
    {
     "name": "stderr",
     "output_type": "stream",
     "text": [
      "100%|██████████████████████████████████████████████████████████████████████████| 1/1 [00:12<00:00, 12.45s/it]\n"
     ]
    },
    {
     "ename": "FileNotFoundError",
     "evalue": "[Errno 2] No such file or directory: '../Data/StudyForrest/Stefano_adv_papermill/new-stefano-conv-allSubs-rep-19'",
     "output_type": "error",
     "traceback": [
      "\u001b[0;31m---------------------------------------------------------------------------\u001b[0m",
      "\u001b[0;31mFileNotFoundError\u001b[0m                         Traceback (most recent call last)",
      "\u001b[0;32m/tmp/ipykernel_3960962/2274418605.py\u001b[0m in \u001b[0;36m<cell line: 1>\u001b[0;34m()\u001b[0m\n\u001b[1;32m      3\u001b[0m     \u001b[0mindir\u001b[0m \u001b[0;34m=\u001b[0m \u001b[0;34m'../Data/StudyForrest/Stefano_adv_papermill/'\u001b[0m\u001b[0;34m\u001b[0m\u001b[0;34m\u001b[0m\u001b[0m\n\u001b[1;32m      4\u001b[0m     \u001b[0mnotebooks_dir\u001b[0m \u001b[0;34m=\u001b[0m \u001b[0mos\u001b[0m\u001b[0;34m.\u001b[0m\u001b[0mpath\u001b[0m\u001b[0;34m.\u001b[0m\u001b[0mjoin\u001b[0m\u001b[0;34m(\u001b[0m\u001b[0mindir\u001b[0m\u001b[0;34m,\u001b[0m\u001b[0manalysis_name\u001b[0m\u001b[0;34m)\u001b[0m\u001b[0;34m\u001b[0m\u001b[0;34m\u001b[0m\u001b[0m\n\u001b[0;32m----> 5\u001b[0;31m     \u001b[0mnotebooks\u001b[0m \u001b[0;34m=\u001b[0m \u001b[0;34m[\u001b[0m\u001b[0mf\u001b[0m \u001b[0;32mfor\u001b[0m \u001b[0mf\u001b[0m \u001b[0;32min\u001b[0m \u001b[0mos\u001b[0m\u001b[0;34m.\u001b[0m\u001b[0mlistdir\u001b[0m\u001b[0;34m(\u001b[0m\u001b[0mnotebooks_dir\u001b[0m\u001b[0;34m)\u001b[0m \u001b[0;32mif\u001b[0m \u001b[0mf\u001b[0m\u001b[0;34m.\u001b[0m\u001b[0mendswith\u001b[0m\u001b[0;34m(\u001b[0m\u001b[0;34m'.ipynb'\u001b[0m\u001b[0;34m)\u001b[0m\u001b[0;34m]\u001b[0m\u001b[0;34m\u001b[0m\u001b[0;34m\u001b[0m\u001b[0m\n\u001b[0m\u001b[1;32m      6\u001b[0m     \u001b[0mnotebooks\u001b[0m\u001b[0;34m.\u001b[0m\u001b[0msort\u001b[0m\u001b[0;34m(\u001b[0m\u001b[0;34m)\u001b[0m\u001b[0;34m\u001b[0m\u001b[0;34m\u001b[0m\u001b[0m\n\u001b[1;32m      7\u001b[0m     \u001b[0mn\u001b[0m \u001b[0;34m=\u001b[0m \u001b[0mlen\u001b[0m\u001b[0;34m(\u001b[0m\u001b[0mnotebooks\u001b[0m\u001b[0;34m)\u001b[0m\u001b[0;34m\u001b[0m\u001b[0;34m\u001b[0m\u001b[0m\n",
      "\u001b[0;31mFileNotFoundError\u001b[0m: [Errno 2] No such file or directory: '../Data/StudyForrest/Stefano_adv_papermill/new-stefano-conv-allSubs-rep-19'"
     ]
    }
   ],
   "source": [
    "for rep in range(20):\n",
    "    analysis_name = f'new-stefano-conv-allSubs-rep-{rep}'\n",
    "    indir = '../Data/StudyForrest/Stefano_adv_papermill/'\n",
    "    notebooks_dir = os.path.join(indir,analysis_name)\n",
    "    notebooks = [f for f in os.listdir(notebooks_dir) if f.endswith('.ipynb')]\n",
    "    notebooks.sort()\n",
    "    n = len(notebooks)\n",
    "    print(n)\n",
    "    \n",
    "    outputs_dir = os.path.join('../Data/StudyForrest/Stefano_adv_outputs/',analysis_name)\n",
    "    if not os.path.exists(outputs_dir):\n",
    "        os.mkdir(outputs_dir)\n",
    "        \n",
    "    for rep in tqdm([0]):\n",
    "        analysis_name = f'new-stefano-conv-allSubs-rep-{rep}'\n",
    "        indir = '../Data/StudyForrest/Stefano_adv_papermill/'\n",
    "        notebooks_dir = os.path.join(indir,analysis_name)\n",
    "        notebooks = [f for f in os.listdir(notebooks_dir) if f.endswith('.ipynb')]\n",
    "        notebooks.sort()\n",
    "        n = len(notebooks)\n",
    "        for s in range(14):\n",
    "            for r in [1,2,3,4]:\n",
    "                notebook_path = os.path.join(notebooks_dir,f'ensembling-method-S{s}-R{r}.ipynb')\n",
    "                if os.path.exists(notebook_path):\n",
    "                    assert os.path.exists(notebook_path),'bad path'\n",
    "                    with open(notebook_path, 'r', encoding='utf-8') as f:\n",
    "                        notebook = nbformat.read(f, as_version=4)                    \n",
    "                    target_outputs = []\n",
    "                    for cell in notebook['cells']:\n",
    "                        if cell['cell_type'] == 'code' and 'save_derivs(weights_ofn)' in cell['source']:\n",
    "                            # Check if the cell has outputs\n",
    "                            if 'outputs' in cell:\n",
    "                                for output in cell['outputs']:\n",
    "                                    # Extract the text output if available\n",
    "                                    if output['output_type'] == 'stream' and 'text' in output and 'saved as' in output['text']:\n",
    "                                        target_outputs.append(output['text'].replace(\"\\n\",'').replace('saved as: ',''))\n",
    "                                        target_outputs.sort()\n",
    "                    if len(target_outputs)==9:\n",
    "                        for i in range(len(target_outputs)):\n",
    "                            \n",
    "                            target_name = target_outputs[i]\n",
    "                            if os.path.exists(target_name):\n",
    "                                src = target_name\n",
    "                                dst = os.path.join(outputs_dir,f'{model_names[i]}-S_{s}-R_{r}-rep_{rep}.pickle')\n",
    "                                shutil.copyfile(src,dst)\n",
    "    \n",
    "                            target_name = target_outputs[i].replace('.pickle','.nii.gz')\n",
    "                            if os.path.exists(target_name):\n",
    "                                src = target_name\n",
    "                                dst = os.path.join(outputs_dir,f'{model_names[i]}-S_{s}-R_{r}-rep_{rep}.nii.gz')\n",
    "                                shutil.copyfile(src,dst)\n",
    "    \n",
    "                            target_name = target_outputs[i].replace('.pickle','.weights')\n",
    "                            if os.path.exists(target_name):\n",
    "                                src = target_name\n",
    "                                dst = os.path.join(outputs_dir,f'{model_names[i]}-S_{s}-R_{r}-rep_{rep}.weights')\n",
    "                                shutil.copyfile(src,dst)"
   ]
  },
  {
   "cell_type": "code",
   "execution_count": 41,
   "id": "8f951c88-66f1-4a47-b309-7545705d46ad",
   "metadata": {},
   "outputs": [
    {
     "data": {
      "text/plain": [
       "'../Data/StudyForrest/Stefano_adv_outputs/new-stefano-conv-allSubs-rep-18'"
      ]
     },
     "execution_count": 41,
     "metadata": {},
     "output_type": "execute_result"
    }
   ],
   "source": [
    "outputs_dir"
   ]
  },
  {
   "cell_type": "code",
   "execution_count": 48,
   "id": "7b22d9cb-29e4-4a3f-93ff-14d9a4adf944",
   "metadata": {},
   "outputs": [
    {
     "data": {
      "text/plain": [
       "'/mmfs1/data/aglinska/BC-ABCD-denoise/Code'"
      ]
     },
     "execution_count": 48,
     "metadata": {},
     "output_type": "execute_result"
    }
   ],
   "source": [
    "pwd"
   ]
  },
  {
   "cell_type": "code",
   "execution_count": 57,
   "id": "02522001-3b85-4cdd-a0d9-312af3579a4d",
   "metadata": {},
   "outputs": [],
   "source": [
    "fn_temp = '../Data/StudyForrest/Stefano_adv_outputs/new-stefano-conv-allSubs-rep-{rep}/conv_weights_unet_denoise-S_{s}-R_{r}-rep_0.pickle'"
   ]
  },
  {
   "cell_type": "code",
   "execution_count": 65,
   "id": "e326e3ff-f640-457a-bdc2-ce0ee30abcbf",
   "metadata": {},
   "outputs": [],
   "source": [
    "\n",
    "#done_check = np.array([[all([os.path.exists(os.path.join(f'../Data/StudyForrest/Stefano_adv_outputs/new-stefano-conv-allSubs-rep-{rep}',f'{model_names[0]}-S_{s}-R_{r}-rep_{rep}.pickle')) for r in [1,2,3,4]]) for s in range(14)] for rep in range(11)])\n",
    "done_check = np.array([[os.path.exists(fn_temp.format(s=s,r=4,rep=rep)) for s in range(14)] for rep in range(20)])\n"
   ]
  },
  {
   "cell_type": "code",
   "execution_count": 70,
   "id": "715df874-d504-4c41-8418-af82cdcff2fb",
   "metadata": {},
   "outputs": [
    {
     "data": {
      "text/plain": [
       "array([1., 1., 1., 1., 1., 1., 1., 1., 1., 1., 1., 1., 1., 1., 1., 1., 1.,\n",
       "       1., 1., 0.])"
      ]
     },
     "execution_count": 70,
     "metadata": {},
     "output_type": "execute_result"
    }
   ],
   "source": [
    "done_check.mean(axis=1)"
   ]
  },
  {
   "cell_type": "code",
   "execution_count": 66,
   "id": "ba176162-ae0a-4420-a85f-400220515704",
   "metadata": {},
   "outputs": [
    {
     "data": {
      "text/plain": [
       "Text(0.5, 0, 'repetition')"
      ]
     },
     "execution_count": 66,
     "metadata": {},
     "output_type": "execute_result"
    },
    {
     "data": {
      "image/png": "[encoded data removed]",
      "text/plain": [
       "<Figure size 500x1500 with 1 Axes>"
      ]
     },
     "metadata": {},
     "output_type": "display_data"
    }
   ],
   "source": [
    "plt.figure(figsize=(5,15))\n",
    "plt.imshow(done_check,vmin=0,vmax=1);\n",
    "plt.xlabel('subject')\n",
    "plt.xlabel('repetition')"
   ]
  },
  {
   "cell_type": "code",
   "execution_count": 71,
   "id": "858de296-f95d-4c52-b9e4-e28666827e85",
   "metadata": {},
   "outputs": [],
   "source": [
    "import ants"
   ]
  },
  {
   "cell_type": "code",
   "execution_count": 72,
   "id": "19a695d7-5346-4ad2-867c-d9a963e5d6d7",
   "metadata": {},
   "outputs": [],
   "source": [
    "nreps = 19"
   ]
  },
  {
   "cell_type": "code",
   "execution_count": 101,
   "id": "85cf21d8-13a0-42bc-be6b-5ce3da521142",
   "metadata": {},
   "outputs": [
    {
     "data": {
      "text/plain": [
       "['conv_denoise',\n",
       " 'conv_denoise500',\n",
       " 'conv_denoise_bn',\n",
       " 'conv_denoise_large',\n",
       " 'conv_denoise_large500',\n",
       " 'conv_smooth',\n",
       " 'conv_smooth-small',\n",
       " 'conv_weights_unet_denoise',\n",
       " 'conv_weights_unet_denoise500']"
      ]
     },
     "execution_count": 101,
     "metadata": {},
     "output_type": "execute_result"
    }
   ],
   "source": [
    "model_names"
   ]
  },
  {
   "cell_type": "code",
   "execution_count": 78,
   "id": "698a0260-682c-49d1-b05b-1d05e494a92c",
   "metadata": {},
   "outputs": [],
   "source": [
    "fn_temp = '../Data/StudyForrest/Stefano_adv_outputs/new-stefano-conv-allSubs-rep-{rep}/{model}-S_{s}-R_{r}-rep_0.nii.gz'"
   ]
  },
  {
   "cell_type": "code",
   "execution_count": 102,
   "id": "03ea5d6d-421e-482b-8160-0c364d1e21d6",
   "metadata": {},
   "outputs": [
    {
     "name": "stdout",
     "output_type": "stream",
     "text": [
      "S0/R1/M0\n",
      "S0/R1/M1\n",
      "S0/R1/M2\n",
      "S0/R1/M3\n",
      "S0/R1/M4\n",
      "S0/R1/M5\n",
      "S0/R1/M6\n",
      "S0/R1/M7\n",
      "S0/R1/M8\n",
      "S0/R2/M0\n",
      "S0/R2/M1\n",
      "S0/R2/M2\n",
      "S0/R2/M3\n",
      "S0/R2/M4\n",
      "S0/R2/M5\n",
      "S0/R2/M6\n",
      "S0/R2/M7\n",
      "S0/R2/M8\n",
      "S0/R3/M0\n",
      "S0/R3/M1\n",
      "S0/R3/M2\n",
      "S0/R3/M3\n",
      "S0/R3/M4\n",
      "S0/R3/M5\n",
      "S0/R3/M6\n",
      "S0/R3/M7\n",
      "S0/R3/M8\n",
      "S0/R4/M0\n",
      "S0/R4/M1\n",
      "S0/R4/M2\n",
      "S0/R4/M3\n",
      "S0/R4/M4\n",
      "S0/R4/M5\n",
      "S0/R4/M6\n",
      "S0/R4/M7\n",
      "S0/R4/M8\n",
      "S1/R1/M0\n",
      "S1/R1/M1\n",
      "S1/R1/M2\n",
      "S1/R1/M3\n"
     ]
    },
    {
     "ename": "KeyboardInterrupt",
     "evalue": "",
     "output_type": "error",
     "traceback": [
      "\u001b[0;31m---------------------------------------------------------------------------\u001b[0m",
      "\u001b[0;31mKeyboardInterrupt\u001b[0m                         Traceback (most recent call last)",
      "\u001b[0;32m/tmp/ipykernel_3960962/3021485639.py\u001b[0m in \u001b[0;36m<cell line: 1>\u001b[0;34m()\u001b[0m\n\u001b[1;32m      3\u001b[0m         \u001b[0;32mfor\u001b[0m \u001b[0mm\u001b[0m \u001b[0;32min\u001b[0m \u001b[0mrange\u001b[0m\u001b[0;34m(\u001b[0m\u001b[0mlen\u001b[0m\u001b[0;34m(\u001b[0m\u001b[0mmodel_names\u001b[0m\u001b[0;34m)\u001b[0m\u001b[0;34m)\u001b[0m\u001b[0;34m:\u001b[0m\u001b[0;34m\u001b[0m\u001b[0;34m\u001b[0m\u001b[0m\n\u001b[1;32m      4\u001b[0m             \u001b[0mims\u001b[0m \u001b[0;34m=\u001b[0m \u001b[0;34m[\u001b[0m\u001b[0mants\u001b[0m\u001b[0;34m.\u001b[0m\u001b[0mimage_read\u001b[0m\u001b[0;34m(\u001b[0m\u001b[0mfn_temp\u001b[0m\u001b[0;34m.\u001b[0m\u001b[0mformat\u001b[0m\u001b[0;34m(\u001b[0m\u001b[0ms\u001b[0m\u001b[0;34m=\u001b[0m\u001b[0;36m0\u001b[0m\u001b[0;34m,\u001b[0m\u001b[0mr\u001b[0m\u001b[0;34m=\u001b[0m\u001b[0;36m1\u001b[0m\u001b[0;34m,\u001b[0m\u001b[0mrep\u001b[0m\u001b[0;34m=\u001b[0m\u001b[0;36m0\u001b[0m\u001b[0;34m,\u001b[0m\u001b[0mmodel\u001b[0m\u001b[0;34m=\u001b[0m\u001b[0mmodel_names\u001b[0m\u001b[0;34m[\u001b[0m\u001b[0mm\u001b[0m\u001b[0;34m]\u001b[0m\u001b[0;34m)\u001b[0m\u001b[0;34m)\u001b[0m \u001b[0;32mfor\u001b[0m \u001b[0mrep\u001b[0m \u001b[0;32min\u001b[0m \u001b[0mrange\u001b[0m\u001b[0;34m(\u001b[0m\u001b[0mnreps\u001b[0m\u001b[0;34m)\u001b[0m\u001b[0;34m]\u001b[0m\u001b[0;34m\u001b[0m\u001b[0;34m\u001b[0m\u001b[0m\n\u001b[0;32m----> 5\u001b[0;31m             \u001b[0marr_avg\u001b[0m \u001b[0;34m=\u001b[0m \u001b[0mnp\u001b[0m\u001b[0;34m.\u001b[0m\u001b[0maverage\u001b[0m\u001b[0;34m(\u001b[0m\u001b[0mnp\u001b[0m\u001b[0;34m.\u001b[0m\u001b[0marray\u001b[0m\u001b[0;34m(\u001b[0m\u001b[0;34m[\u001b[0m\u001b[0mim\u001b[0m\u001b[0;34m.\u001b[0m\u001b[0mnumpy\u001b[0m\u001b[0;34m(\u001b[0m\u001b[0;34m)\u001b[0m \u001b[0;32mfor\u001b[0m \u001b[0mim\u001b[0m \u001b[0;32min\u001b[0m \u001b[0mims\u001b[0m\u001b[0;34m]\u001b[0m\u001b[0;34m)\u001b[0m\u001b[0;34m,\u001b[0m\u001b[0maxis\u001b[0m\u001b[0;34m=\u001b[0m\u001b[0;36m0\u001b[0m\u001b[0;34m)\u001b[0m\u001b[0;34m\u001b[0m\u001b[0;34m\u001b[0m\u001b[0m\n\u001b[0m\u001b[1;32m      6\u001b[0m             \u001b[0marr_med\u001b[0m \u001b[0;34m=\u001b[0m \u001b[0mnp\u001b[0m\u001b[0;34m.\u001b[0m\u001b[0mmedian\u001b[0m\u001b[0;34m(\u001b[0m\u001b[0mnp\u001b[0m\u001b[0;34m.\u001b[0m\u001b[0marray\u001b[0m\u001b[0;34m(\u001b[0m\u001b[0;34m[\u001b[0m\u001b[0mim\u001b[0m\u001b[0;34m.\u001b[0m\u001b[0mnumpy\u001b[0m\u001b[0;34m(\u001b[0m\u001b[0;34m)\u001b[0m \u001b[0;32mfor\u001b[0m \u001b[0mim\u001b[0m \u001b[0;32min\u001b[0m \u001b[0mims\u001b[0m\u001b[0;34m]\u001b[0m\u001b[0;34m)\u001b[0m\u001b[0;34m,\u001b[0m\u001b[0maxis\u001b[0m\u001b[0;34m=\u001b[0m\u001b[0;36m0\u001b[0m\u001b[0;34m)\u001b[0m\u001b[0;34m\u001b[0m\u001b[0;34m\u001b[0m\u001b[0m\n\u001b[1;32m      7\u001b[0m             \u001b[0mim_avg\u001b[0m \u001b[0;34m=\u001b[0m \u001b[0mims\u001b[0m\u001b[0;34m[\u001b[0m\u001b[0;36m0\u001b[0m\u001b[0;34m]\u001b[0m\u001b[0;34m.\u001b[0m\u001b[0mnew_image_like\u001b[0m\u001b[0;34m(\u001b[0m\u001b[0marr_avg\u001b[0m\u001b[0;34m)\u001b[0m\u001b[0;34m\u001b[0m\u001b[0;34m\u001b[0m\u001b[0m\n",
      "\u001b[0;31mKeyboardInterrupt\u001b[0m: "
     ]
    }
   ],
   "source": [
    "for s in range(14):\n",
    "    for r in [1,2,3,4]:\n",
    "        for m in range(len(model_names)):\n",
    "            ims = [ants.image_read(fn_temp.format(s=0,r=1,rep=0,model=model_names[m])) for rep in range(nreps)]\n",
    "            arr_avg = np.average(np.array([im.numpy() for im in ims]),axis=0)\n",
    "            arr_med = np.median(np.array([im.numpy() for im in ims]),axis=0)\n",
    "            im_avg = ims[0].new_image_like(arr_avg)\n",
    "            im_avg.to_filename(f'../Data/StudyForrest/Stefano_adv_outputs/01-signals_averaged/S{s}-R{r}-{model_names[m]}-avg.nii.gz')\n",
    "            im_med = ims[0].new_image_like(arr_med)\n",
    "            im_med.to_filename(f'../Data/StudyForrest/Stefano_adv_outputs/01-signals_averaged/S{s}-R{r}-{model_names[m]}-med.nii.gz')\n",
    "            print(f'S{s}/R{r}/M{m}')"
   ]
  },
  {
   "cell_type": "code",
   "execution_count": 86,
   "id": "d19d00b8-44b0-4dcb-a25c-bc94546f822e",
   "metadata": {},
   "outputs": [],
   "source": []
  },
  {
   "cell_type": "code",
   "execution_count": 87,
   "id": "2cd4edd3-01bc-4a3a-81ff-4e12a39f8516",
   "metadata": {},
   "outputs": [],
   "source": []
  },
  {
   "cell_type": "code",
   "execution_count": 88,
   "id": "3b8acc55-a98a-4ef7-9efc-77717fb1637e",
   "metadata": {},
   "outputs": [],
   "source": []
  },
  {
   "cell_type": "code",
   "execution_count": 97,
   "id": "ebd5048c-7f5b-4eac-97ee-731e46ce132d",
   "metadata": {},
   "outputs": [],
   "source": []
  },
  {
   "cell_type": "code",
   "execution_count": 99,
   "id": "eead1989-e2bc-4049-bbdc-e0b88b138e01",
   "metadata": {},
   "outputs": [],
   "source": []
  },
  {
   "cell_type": "code",
   "execution_count": null,
   "id": "5ac1f624-8a63-474b-b5d5-fee03b6f4fed",
   "metadata": {},
   "outputs": [],
   "source": []
  }
 ],
 "metadata": {
  "kernelspec": {
   "display_name": "Python 3 (ipykernel)",
   "language": "python",
   "name": "python3"
  },
  "language_info": {
   "codemirror_mode": {
    "name": "ipython",
    "version": 3
   },
   "file_extension": ".py",
   "mimetype": "text/x-python",
   "name": "python",
   "nbconvert_exporter": "python",
   "pygments_lexer": "ipython3",
   "version": "3.8.17"
  }
 },
 "nbformat": 4,
 "nbformat_minor": 5
}
