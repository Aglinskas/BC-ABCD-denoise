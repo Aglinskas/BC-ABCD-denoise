{
 "cells": [
  {
   "cell_type": "code",
   "execution_count": 1,
   "id": "f401cba9-4ce5-4bb3-9e5d-2beb67f5abc4",
   "metadata": {
    "editable": true,
    "papermill": {
     "duration": 0.155237,
     "end_time": "2025-03-19T00:09:04.113829",
     "exception": false,
     "start_time": "2025-03-19T00:09:03.958592",
     "status": "completed"
    },
    "slideshow": {
     "slide_type": ""
    },
    "tags": []
   },
   "outputs": [
    {
     "name": "stdout",
     "output_type": "stream",
     "text": [
      "Tue Apr 15 02:52:51 PM EDT 2025\n"
     ]
    }
   ],
   "source": [
    "!date"
   ]
  },
  {
   "cell_type": "code",
   "execution_count": 2,
   "id": "171edcbd-41f7-485c-9329-642a52c3bdba",
   "metadata": {
    "editable": true,
    "papermill": {
     "duration": 0.014517,
     "end_time": "2025-03-19T00:09:04.136283",
     "exception": false,
     "start_time": "2025-03-19T00:09:04.121766",
     "status": "completed"
    },
    "slideshow": {
     "slide_type": ""
    },
    "tags": []
   },
   "outputs": [
    {
     "data": {
      "text/plain": [
       "'/projects/sccn/andromeda1/aglinska/BC-ABCD-denoise/Code'"
      ]
     },
     "execution_count": 2,
     "metadata": {},
     "output_type": "execute_result"
    }
   ],
   "source": [
    "pwd"
   ]
  },
  {
   "cell_type": "code",
   "execution_count": 3,
   "id": "f5c27599-5e49-40cb-8abb-0d0646fcc954",
   "metadata": {
    "editable": true,
    "papermill": {
     "duration": 2.25756,
     "end_time": "2025-03-19T00:09:06.400902",
     "exception": false,
     "start_time": "2025-03-19T00:09:04.143342",
     "status": "completed"
    },
    "slideshow": {
     "slide_type": ""
    },
    "tags": []
   },
   "outputs": [
    {
     "name": "stdout",
     "output_type": "stream",
     "text": [
      "CPU times: user 1.54 s, sys: 571 ms, total: 2.11 s\n",
      "Wall time: 2.96 s\n"
     ]
    }
   ],
   "source": [
    "%%time\n",
    "#import nibabel as nib\n",
    "import os\n",
    "import numpy as np\n",
    "import pandas as pd\n",
    "import matplotlib.pyplot as plt\n",
    "from datetime import datetime\n",
    "#import nibabel.processing as nibp\n",
    "from scipy import signal\n",
    "from itertools import combinations_with_replacement\n",
    "from numpy import savetxt\n",
    "#import nibabel as nib\n",
    "import math\n",
    "from numpy import random\n",
    "import sklearn.preprocessing  \n",
    "import matplotlib.pyplot as plt \n",
    "from sklearn.metrics import mean_squared_error\n",
    "import torch\n",
    "from torch import nn\n",
    "from torch.nn import functional as F\n",
    "from torch import Tensor\n",
    "from typing import List, Callable, Union, Any, TypeVar, Tuple\n",
    "import torch.optim as optim\n",
    "from sklearn.decomposition import PCA\n",
    "from sklearn import linear_model\n",
    "\n",
    "from torch.autograd import Function\n"
   ]
  },
  {
   "cell_type": "code",
   "execution_count": 4,
   "id": "a71565e9-01ee-4251-b418-4be1cbf3a665",
   "metadata": {
    "editable": true,
    "papermill": {
     "duration": 2.408729,
     "end_time": "2025-03-19T00:09:08.817806",
     "exception": false,
     "start_time": "2025-03-19T00:09:06.409077",
     "status": "completed"
    },
    "slideshow": {
     "slide_type": ""
    },
    "tags": []
   },
   "outputs": [],
   "source": [
    "import ants # ANTSpy in the toolbox for manipulating MRI files \n",
    "from tqdm import tqdm # Easy progress bars\n",
    "import seaborn as sns"
   ]
  },
  {
   "cell_type": "code",
   "execution_count": 5,
   "id": "598eaa16-94fc-4abe-8783-cae77c620475",
   "metadata": {
    "editable": true,
    "papermill": {
     "duration": 0.0128,
     "end_time": "2025-03-19T00:09:08.841563",
     "exception": false,
     "start_time": "2025-03-19T00:09:08.828763",
     "status": "completed"
    },
    "slideshow": {
     "slide_type": ""
    },
    "tags": []
   },
   "outputs": [],
   "source": [
    "import sys\n",
    "from IPython import display\n",
    "import pickle"
   ]
  },
  {
   "cell_type": "code",
   "execution_count": 6,
   "id": "6389aecf-9548-473d-9171-6432480c1326",
   "metadata": {},
   "outputs": [],
   "source": [
    "from nilearn.glm.first_level import make_first_level_design_matrix"
   ]
  },
  {
   "cell_type": "code",
   "execution_count": 7,
   "id": "88e6a95b-0cce-4cf5-abd4-a507598bbb0d",
   "metadata": {},
   "outputs": [
    {
     "name": "stdout",
     "output_type": "stream",
     "text": [
      "1.20.1\n",
      "1.3.2\n",
      "2.4.1+cu121\n",
      "0.5.4\n"
     ]
    }
   ],
   "source": [
    "print(np.__version__)\n",
    "print(sklearn.__version__)\n",
    "print(torch.__version__)\n",
    "print(ants.__version__)"
   ]
  },
  {
   "cell_type": "markdown",
   "id": "f97cad2d-4797-4675-bdeb-083c6b239e1f",
   "metadata": {
    "editable": true,
    "papermill": {
     "duration": 0.00714,
     "end_time": "2025-03-19T00:09:08.855919",
     "exception": false,
     "start_time": "2025-03-19T00:09:08.848779",
     "status": "completed"
    },
    "slideshow": {
     "slide_type": ""
    },
    "tags": []
   },
   "source": [
    "## Defining CVAE model and helper functions "
   ]
  },
  {
   "cell_type": "code",
   "execution_count": 8,
   "id": "4d075fa1-0173-4cb9-9b56-6506183c275a",
   "metadata": {
    "editable": true,
    "papermill": {
     "duration": 0.015223,
     "end_time": "2025-03-19T00:09:08.878276",
     "exception": false,
     "start_time": "2025-03-19T00:09:08.863053",
     "status": "completed"
    },
    "slideshow": {
     "slide_type": ""
    },
    "tags": []
   },
   "outputs": [],
   "source": [
    "def correlation(x,y):\n",
    "  x_mean = np.repeat(x.mean(),x.shape,axis=0)\n",
    "  y_mean = np.repeat(y.mean(),y.shape,axis=0)\n",
    "  cov = (x-x_mean)*(y-y_mean)\n",
    "  r = cov.sum()/(x.std()*y.std()*x.shape[0])\n",
    "  return r\n",
    "\n",
    "def remove_std0(arr):\n",
    "    std0 = np.argwhere(np.std(arr, axis=1) == 0.0)\n",
    "    arr_o = np.delete(arr,std0 ,axis=0) \n",
    "    return arr_o\n",
    "\n",
    "def compute_in(x):\n",
    "  return (x-3)/2+1\n",
    "\n",
    "def compute_in_size(x):\n",
    "  for i in range(4):\n",
    "    x = compute_in(x)\n",
    "  return x\n",
    "\n",
    "def compute_out_size(x):\n",
    "  return ((((x*2+1)*2+1)*2+1)*2+1)\n",
    "\n",
    "def compute_padding(x):\n",
    "  rounding = np.ceil(compute_in_size(x))-compute_in_size(x)\n",
    "  y = ((((rounding*2)*2)*2)*2)\n",
    "  pad = bin(int(y)).replace('0b', '')\n",
    "  if len(pad) < 4:\n",
    "      for i in range(4-len(pad)):\n",
    "          pad = '0' + pad\n",
    "  final_size = compute_in_size(x+y)\n",
    "  pad_out = bin(int(compute_out_size(final_size)-x)).replace('0b','')\n",
    "  if len(pad_out) < 4:\n",
    "      for i in range(4-len(pad_out)):\n",
    "          pad_out = '0' + pad_out\n",
    "  return pad,final_size, pad_out"
   ]
  },
  {
   "cell_type": "code",
   "execution_count": 9,
   "id": "cceed706-cf6a-43b2-b10d-ff4fdd3785fc",
   "metadata": {
    "editable": true,
    "papermill": {
     "duration": 0.012497,
     "end_time": "2025-03-19T00:09:08.897907",
     "exception": false,
     "start_time": "2025-03-19T00:09:08.885410",
     "status": "completed"
    },
    "slideshow": {
     "slide_type": ""
    },
    "tags": []
   },
   "outputs": [],
   "source": [
    "class TrainDataset(torch.utils.data.Dataset):\n",
    "  'Characterizes a dataset for PyTorch'\n",
    "  def __init__(self, X, Y):\n",
    "    self.obs = X\n",
    "    self.noi = Y\n",
    "\n",
    "  def __len__(self):\n",
    "    return min(self.obs.shape[0],self.noi.shape[0])\n",
    "\n",
    "  def __getitem__(self, index):\n",
    "    observation = self.obs[index]\n",
    "    noise = self.noi[index]\n",
    "    s = 2*random.beta(4,4,1)\n",
    "    noise_aug = s*noise\n",
    "    return observation, noise_aug"
   ]
  },
  {
   "cell_type": "code",
   "execution_count": 10,
   "id": "e0bde785-88d7-4bf5-9a2a-02bfad85a08f",
   "metadata": {
    "editable": true,
    "papermill": {
     "duration": 0.041601,
     "end_time": "2025-03-19T00:09:08.946576",
     "exception": false,
     "start_time": "2025-03-19T00:09:08.904975",
     "status": "completed"
    },
    "slideshow": {
     "slide_type": ""
    },
    "tags": []
   },
   "outputs": [],
   "source": [
    "class cVAE(nn.Module):\n",
    "\n",
    "    def __init__(self,in_channels: int,in_dim: int, latent_dim: int,hidden_dims: List = None) -> None:\n",
    "        super(cVAE, self).__init__()\n",
    "\n",
    "        self.latent_dim = latent_dim\n",
    "        self.in_channels = in_channels\n",
    "        self.in_dim = in_dim\n",
    "\n",
    "        modules_z = []\n",
    "        if hidden_dims is None:\n",
    "            hidden_dims = [64, 128, 256, 256]\n",
    "        \n",
    "        self.pad, self.final_size, self.pad_out = compute_padding(self.in_dim)\n",
    "\n",
    "        # Build Encoder\n",
    "        for i in range(len(hidden_dims)):\n",
    "            h_dim = hidden_dims[i]\n",
    "            modules_z.append(\n",
    "                nn.Sequential(\n",
    "                    nn.Conv1d(in_channels, out_channels=h_dim,\n",
    "                              kernel_size= 3, stride= 2, padding  = int(self.pad[-i-1])),\n",
    "                    nn.BatchNorm1d(h_dim),\n",
    "                    nn.LeakyReLU())\n",
    "            )\n",
    "            in_channels = h_dim\n",
    "\n",
    "        self.encoder_z = nn.Sequential(*modules_z)\n",
    "        self.fc_mu_z = nn.Linear(hidden_dims[-1]*int(self.final_size), latent_dim)\n",
    "        self.fc_var_z = nn.Linear(hidden_dims[-1]*int(self.final_size), latent_dim)\n",
    "\n",
    "        modules_s = []\n",
    "        in_channels = self.in_channels\n",
    "        for i in range(len(hidden_dims)):\n",
    "            h_dim = hidden_dims[i]\n",
    "            modules_s.append(\n",
    "                nn.Sequential(\n",
    "                    nn.Conv1d(in_channels, out_channels=h_dim,\n",
    "                              kernel_size= 3, stride= 2, padding  = int(self.pad[-i-1])),\n",
    "                    nn.BatchNorm1d(h_dim),\n",
    "                    nn.LeakyReLU())\n",
    "            )\n",
    "            in_channels = h_dim\n",
    "\n",
    "        self.encoder_s = nn.Sequential(*modules_s)\n",
    "        self.fc_mu_s = nn.Linear(hidden_dims[-1]*int(self.final_size), latent_dim)\n",
    "        self.fc_var_s = nn.Linear(hidden_dims[-1]*int(self.final_size), latent_dim)\n",
    "\n",
    "\n",
    "        # Build Decoder\n",
    "        modules = []\n",
    "\n",
    "        self.decoder_input = nn.Linear(2*latent_dim, hidden_dims[-1] * int(self.final_size))\n",
    "\n",
    "        hidden_dims.reverse()\n",
    "\n",
    "        for i in range(len(hidden_dims) - 1):\n",
    "            modules.append(\n",
    "                nn.Sequential(\n",
    "                    nn.ConvTranspose1d(hidden_dims[i],\n",
    "                                    hidden_dims[i + 1],\n",
    "                                    kernel_size=3,\n",
    "                                    stride = 2,\n",
    "                                    padding=int(self.pad_out[-4+i]),\n",
    "                                    output_padding=int(self.pad_out[-4+i])),\n",
    "                    nn.BatchNorm1d(hidden_dims[i + 1]),\n",
    "                    nn.LeakyReLU())\n",
    "            )\n",
    "\n",
    "\n",
    "        self.decoder = nn.Sequential(*modules)\n",
    "\n",
    "        self.final_layer = nn.Sequential(\n",
    "                            nn.ConvTranspose1d(hidden_dims[-1],\n",
    "                                               hidden_dims[-1],\n",
    "                                               kernel_size=3,\n",
    "                                               stride=2,\n",
    "                                               padding=int(self.pad_out[-1]),\n",
    "                                               output_padding=int(self.pad_out[-1])),\n",
    "                            nn.BatchNorm1d(hidden_dims[-1]),\n",
    "                            nn.LeakyReLU(),\n",
    "                            nn.Conv1d(hidden_dims[-1], out_channels= 1,\n",
    "                                      kernel_size= 3, padding= 1))\n",
    "           #out_channels\n",
    "\n",
    "    def encode_z(self, input: Tensor) -> List[Tensor]:\n",
    "        \"\"\"\n",
    "        Encodes the input by passing through the encoder network\n",
    "        and returns the latent codes.\n",
    "        :param input: (Tensor) Input tensor to encoder [N x C x H x W]\n",
    "        :return: (Tensor) List of latent codes\n",
    "        \"\"\"\n",
    "        result = self.encoder_z(input)\n",
    "  \n",
    "        result = torch.flatten(result, start_dim=1)\n",
    "\n",
    "\n",
    "        # Split the result into mu and var components\n",
    "        # of the latent Gaussian distribution\n",
    "        mu = self.fc_mu_z(result)\n",
    "        log_var = self.fc_var_z(result)\n",
    "\n",
    "        return [mu, log_var]\n",
    "\n",
    "    def encode_s(self, input: Tensor) -> List[Tensor]:\n",
    "        \"\"\"\n",
    "        Encodes the input by passing through the encoder network\n",
    "        and returns the latent codes.\n",
    "        :param input: (Tensor) Input tensor to encoder [N x C x H x W]\n",
    "        :return: (Tensor) List of latent codes\n",
    "        \"\"\"\n",
    "        result = self.encoder_s(input)\n",
    "        result = torch.flatten(result, start_dim=1)\n",
    "\n",
    "        # Split the result into mu and var components\n",
    "        # of the latent Gaussian distribution\n",
    "        mu = self.fc_mu_s(result)\n",
    "        log_var = self.fc_var_s(result)\n",
    "\n",
    "        return [mu, log_var]\n",
    "\n",
    "    def decode(self, z: Tensor) -> Tensor:\n",
    "        \"\"\"\n",
    "        Maps the given latent codes\n",
    "        onto the image space.\n",
    "        :param z: (Tensor) [B x D]\n",
    "        :return: (Tensor) [B x C x H x W]\n",
    "        \"\"\"\n",
    "        result = self.decoder_input(z)\n",
    "        result = result.view(-1,256,int(self.final_size))\n",
    "        result = self.decoder(result)\n",
    "        result = self.final_layer(result)\n",
    "\n",
    "        return result\n",
    "\n",
    "    def reparameterize(self, mu: Tensor, logvar: Tensor) -> Tensor:\n",
    "        \"\"\"\n",
    "        Reparameterization trick to sample from N(mu, var) from\n",
    "        N(0,1).\n",
    "        :param mu: (Tensor) Mean of the latent Gaussian [B x D]\n",
    "        :param logvar: (Tensor) Standard deviation of the latent Gaussian [B x D]\n",
    "        :return: (Tensor) [B x D]\n",
    "        \"\"\"\n",
    "        std = torch.exp(0.5 * logvar)\n",
    "        eps = torch.randn_like(std)\n",
    "        return eps * std + mu\n",
    "\n",
    "    def forward_tg(self, input: Tensor) -> List[Tensor]:\n",
    "        tg_mu_z, tg_log_var_z = self.encode_z(input)\n",
    "        tg_mu_s, tg_log_var_s = self.encode_s(input)\n",
    "        tg_z = self.reparameterize(tg_mu_z, tg_log_var_z)\n",
    "        tg_s = self.reparameterize(tg_mu_s, tg_log_var_s)\n",
    "        output = self.decode(torch.cat((tg_z, tg_s),1))\n",
    "        return  [output, input, tg_mu_z, tg_log_var_z, tg_mu_s, tg_log_var_s,tg_z,tg_s]\n",
    "\n",
    "    def forward_bg(self, input: Tensor) -> List[Tensor]:\n",
    "        bg_mu_s, bg_log_var_s = self.encode_s(input)\n",
    "        bg_s = self.reparameterize(bg_mu_s, bg_log_var_s)\n",
    "        zeros = torch.zeros_like(bg_s)\n",
    "        output = self.decode(torch.cat((zeros, bg_s),1))\n",
    "        return  [output, input, bg_mu_s, bg_log_var_s]\n",
    "\n",
    "    def forward_fg(self, input: Tensor) -> List[Tensor]:\n",
    "        fg_mu_z, fg_log_var_z = self.encode_z(input)\n",
    "        tg_z = self.reparameterize(fg_mu_z, fg_log_var_z)\n",
    "        zeros = torch.zeros_like(tg_z)\n",
    "        output = self.decode(torch.cat((tg_z, zeros),1))\n",
    "        return  [output, input, fg_mu_z, fg_log_var_z]\n",
    "\n",
    "    def loss_function(self,\n",
    "                      *args,\n",
    "                      ) -> dict:\n",
    "        \"\"\"\n",
    "        Computes the VAE loss function.\n",
    "        KL(N(\\mu, \\sigma), N(0, 1)) = \\log \\frac{1}{\\sigma} + \\frac{\\sigma^2 + \\mu^2}{2} - \\frac{1}{2}\n",
    "        :param args:\n",
    "        :param kwargs:\n",
    "        :return:\n",
    "        \"\"\"\n",
    "        beta = 0.00001\n",
    "        gamma = 1\n",
    "\n",
    "        recons_tg = args[0]\n",
    "        input_tg = args[1]\n",
    "        tg_mu_z = args[2]\n",
    "        tg_log_var_z = args[3]\n",
    "        tg_mu_s = args[4]\n",
    "        tg_log_var_s = args[5]\n",
    "        tg_z = args[6]\n",
    "        tg_s = args[7]\n",
    "        recons_bg = args[8]\n",
    "        input_bg = args[9]\n",
    "        bg_mu_s = args[10]\n",
    "        bg_log_var_s = args[11]\n",
    "\n",
    "        #kld_weight = kwargs['M_N'] # Account for the minibatch samples from the dataset\n",
    "        recons_loss = F.mse_loss(recons_tg, input_tg)\n",
    "        recons_loss += F.mse_loss(recons_bg, input_bg)\n",
    "        # recons_loss *= input_shape[0]*input_shape[1]\n",
    "\n",
    "        # z1 = tg_z[:int(batch_size/2),:]\n",
    "        # z2 = tg_z[int(batch_size/2):,:]\n",
    "        # s1 = tg_s[:int(batch_size/2),:]\n",
    "        # s2 = tg_s[int(batch_size/2):,:]\n",
    "        # q_bar = torch.cat(torch.cat((s1,z2),1),torch.cat((s2,z1),1),0)\n",
    "        # q = torch.cat(torch.cat((s1,z1),1),torch.cat((s2,z1),1),0)\n",
    "        # q_bar_score = nn.Sigmoid(q_bar)\n",
    "        # q_score = nn.Sigmoid(q)\n",
    "        # tc_loss = torch.log(q_score/(1-q_score))\n",
    "        # discriminator_loss = - torch.log(q_score) - torch.log(1-q_bar_score)\n",
    "\n",
    "        kld_loss = 1 + tg_log_var_z - tg_mu_z ** 2 - tg_log_var_z.exp()\n",
    "        kld_loss += 1 + tg_log_var_s - tg_mu_s ** 2 - tg_log_var_s.exp()\n",
    "        kld_loss += 1 + bg_log_var_s - bg_mu_s ** 2 - bg_log_var_s.exp()\n",
    "        kld_loss = torch.mean(-0.5 * torch.sum(kld_loss, dim = 1), dim = 0)\n",
    "\n",
    "        loss = torch.mean(recons_loss + beta*kld_loss)\n",
    "        return {'loss': loss, 'Reconstruction_Loss':recons_loss.detach(), 'KLD': kld_loss.detach()}\n",
    "\n",
    "    def sample(self,\n",
    "               num_samples:int,\n",
    "               current_device: int) -> Tensor:\n",
    "        \"\"\"\n",
    "        Samples from the latent space and return the corresponding\n",
    "        image space map.\n",
    "        :param num_samples: (Int) Number of samples\n",
    "        :param current_device: (Int) Device to run the model\n",
    "        :return: (Tensor)\n",
    "        \"\"\"\n",
    "        z = torch.randn(num_samples,\n",
    "                        self.latent_dim)\n",
    "\n",
    "        z = z.to(current_device)\n",
    "\n",
    "        samples = self.decode(z)\n",
    "        return samples\n",
    "\n",
    "    def generate(self, x: Tensor) -> Tensor:\n",
    "        \"\"\"\n",
    "        Given an input image x, returns the reconstructed image\n",
    "        :param x: (Tensor) [B x C x H x W]\n",
    "        :return: (Tensor) [B x C x H x W]\n",
    "        \"\"\"\n",
    "\n",
    "        return self.forward_fg(x)[0]"
   ]
  },
  {
   "cell_type": "code",
   "execution_count": 11,
   "id": "30eee4c7-1de3-4e8d-8619-4c0b5e13a8cc",
   "metadata": {
    "papermill": {
     "duration": 0.011661,
     "end_time": "2025-03-19T00:09:08.965581",
     "exception": false,
     "start_time": "2025-03-19T00:09:08.953920",
     "status": "completed"
    },
    "tags": []
   },
   "outputs": [],
   "source": [
    "def safe_mkdir(path):\n",
    "    if not os.path.exists(path):\n",
    "        os.mkdir(path)"
   ]
  },
  {
   "cell_type": "markdown",
   "id": "68f99fd9-88b7-4709-9e3f-0d26a0427690",
   "metadata": {
    "editable": true,
    "papermill": {
     "duration": 0.007186,
     "end_time": "2025-03-19T00:09:08.979977",
     "exception": false,
     "start_time": "2025-03-19T00:09:08.972791",
     "status": "completed"
    },
    "slideshow": {
     "slide_type": ""
    },
    "tags": []
   },
   "source": [
    "## Loading the subject specific data"
   ]
  },
  {
   "cell_type": "code",
   "execution_count": 12,
   "id": "340701ec-9779-4f4f-ba05-697e11a81419",
   "metadata": {
    "editable": true,
    "papermill": {
     "duration": 0.02575,
     "end_time": "2025-03-19T00:09:09.012878",
     "exception": false,
     "start_time": "2025-03-19T00:09:08.987128",
     "status": "completed"
    },
    "slideshow": {
     "slide_type": ""
    },
    "tags": []
   },
   "outputs": [
    {
     "name": "stdout",
     "output_type": "stream",
     "text": [
      "14/14\n"
     ]
    }
   ],
   "source": [
    "# Specify Data Paths \n",
    "indir = '../Data/StudyForrest/fmriprep/'\n",
    "subs_orig = [s for s in os.listdir(indir) if all((s.startswith('sub'),not s.endswith('.html')))]\n",
    "n_orig = len(subs_orig)\n",
    "epi_fn = os.path.join(indir,'{sub}/ses-localizer/func/{sub}_ses-localizer_task-objectcategories_run-{r}_bold_space-MNI152NLin2009cAsym_preproc.nii.gz')\n",
    "\n",
    "#gm_fn = os.path.join(indir,'mask_ffa-big.nii')\n",
    "#cf_fn = os.path.join(indir,'mask_roni-2.nii')\n",
    "\n",
    "cf_fn = os.path.join(indir,'mask_roni.nii')\n",
    "gm_fn = os.path.join(indir,'mask_roi.nii')\n",
    "\n",
    "# cf_fn = os.path.join(indir,'mask_roni.nii')\n",
    "# gm_fn = os.path.join(indir,'mask_roi.nii')\n",
    "\n",
    "brain_mask = os.path.join(indir,'{sub}/ses-localizer/func/{sub}_ses-localizer_task-objectcategories_run-{r}_bold_space-MNI152NLin2009cAsym_brainmask.nii.gz')\n",
    "\n",
    "subs = [sub for sub in subs_orig if all(( \n",
    "    os.path.exists(epi_fn.format(sub=sub,r=1)),\n",
    "    os.path.exists(epi_fn.format(sub=sub,r=2)),\n",
    "    os.path.exists(cf_fn.format(sub=sub)),\n",
    "    os.path.exists(gm_fn.format(sub=sub)),\n",
    "    os.path.exists(brain_mask.format(sub=sub,r=1)),\n",
    "    ))]\n",
    "\n",
    "subs.sort()\n",
    "print(f'{len(subs)}/{len(subs_orig)}')"
   ]
  },
  {
   "cell_type": "markdown",
   "id": "8aeb2cde-ac5b-49f5-a278-d8813f3c5e72",
   "metadata": {
    "editable": true,
    "papermill": {
     "duration": 0.007206,
     "end_time": "2025-03-19T00:09:09.027316",
     "exception": false,
     "start_time": "2025-03-19T00:09:09.020110",
     "status": "completed"
    },
    "slideshow": {
     "slide_type": ""
    },
    "tags": []
   },
   "source": [
    "#### Specify the subject and the run to use"
   ]
  },
  {
   "cell_type": "code",
   "execution_count": 13,
   "id": "21f1eb10-472f-4ff3-9baa-b45ef3302551",
   "metadata": {
    "editable": true,
    "papermill": {
     "duration": 0.01176,
     "end_time": "2025-03-19T00:09:09.046341",
     "exception": false,
     "start_time": "2025-03-19T00:09:09.034581",
     "status": "completed"
    },
    "slideshow": {
     "slide_type": ""
    },
    "tags": [
     "parameters"
    ]
   },
   "outputs": [],
   "source": [
    "# Parameters for looping. \n",
    "s = 0 # index for subject (out of 14)\n",
    "r = 1 # index for run (out of 4)\n",
    "rep = 0 # Optional if doing multiple repetitions\n",
    "analysis_name = 'test-lin' # This is be appended to the saved output files "
   ]
  },
  {
   "cell_type": "code",
   "execution_count": 14,
   "id": "def6a412-1a6d-470b-9db8-280ff3c8db19",
   "metadata": {
    "editable": true,
    "papermill": {
     "duration": 1.189532,
     "end_time": "2025-03-19T00:09:10.261690",
     "exception": false,
     "start_time": "2025-03-19T00:09:09.072158",
     "status": "completed"
    },
    "slideshow": {
     "slide_type": ""
    },
    "tags": []
   },
   "outputs": [
    {
     "name": "stdout",
     "output_type": "stream",
     "text": [
      "sub-01\n"
     ]
    }
   ],
   "source": [
    "s = int(s) # If subID is passed from a terminal call (via papermill), make sure it's converted to int\n",
    "r = int(r) # If runID is passed from a terminal call (via papermill), make sure it's converted to int\n",
    "\n",
    "sub = subs[s] # Subjects BIDS ID\n",
    "print(sub)\n",
    "\n",
    "## Gather their niftis\n",
    "epi = ants.image_read(epi_fn.format(sub=sub,r=r)) # BOLD data\n",
    "gm = ants.image_read(gm_fn) # ROI mask\n",
    "cf = ants.image_read(cf_fn) # RONI mask\n",
    "brain = ants.image_read(brain_mask.format(sub=sub,r=r)) # Loose brain mask for after training\n",
    "\n",
    "nt = epi.shape[-1] # Number of timepoints\n",
    "ndummy = 0 # how many dummy scans to discard\n",
    "\n",
    "epi_flat = epi.numpy().reshape(-1,nt).transpose() \n",
    "epi_flat[0:ndummy,:] = epi_flat[ndummy+1::,:].mean(axis=0) # What to do with dummy scans, set to mean\n",
    "epi_flat = epi_flat.transpose()\n",
    "gm_flat = gm.numpy().flatten().astype(int) # (1082035,)\n",
    "cf_flat = cf.numpy().flatten().astype(int) # (1082035,)\n",
    "\n",
    "assert max(np.unique(cf_flat+gm_flat))!=2, 'overlap' # Assert that voxels in the ROI are NOT in the RONI and vice versa"
   ]
  },
  {
   "cell_type": "code",
   "execution_count": 15,
   "id": "140ad8fc-ec92-4aa3-bff2-54ae71ec6133",
   "metadata": {
    "editable": true,
    "papermill": {
     "duration": 0.019882,
     "end_time": "2025-03-19T00:09:10.289292",
     "exception": false,
     "start_time": "2025-03-19T00:09:10.269410",
     "status": "completed"
    },
    "slideshow": {
     "slide_type": ""
    },
    "tags": []
   },
   "outputs": [
    {
     "data": {
      "text/plain": [
       "array([1.], dtype=float32)"
      ]
     },
     "execution_count": 15,
     "metadata": {},
     "output_type": "execute_result"
    }
   ],
   "source": [
    "np.unique(gm.numpy().flatten()[gm.numpy().flatten()!=0])\n",
    "np.unique(cf.numpy().flatten()[cf.numpy().flatten()!=0])"
   ]
  },
  {
   "cell_type": "code",
   "execution_count": 16,
   "id": "e3279c5e-5d2d-4f60-9a89-6869972ff58b",
   "metadata": {
    "editable": true,
    "papermill": {
     "duration": 0.033318,
     "end_time": "2025-03-19T00:09:10.330350",
     "exception": false,
     "start_time": "2025-03-19T00:09:10.297032",
     "status": "completed"
    },
    "slideshow": {
     "slide_type": ""
    },
    "tags": []
   },
   "outputs": [
    {
     "name": "stdout",
     "output_type": "stream",
     "text": [
      "(156, 28)\n"
     ]
    },
    {
     "data": {
      "text/html": [
       "<div>\n",
       "<style scoped>\n",
       "    .dataframe tbody tr th:only-of-type {\n",
       "        vertical-align: middle;\n",
       "    }\n",
       "\n",
       "    .dataframe tbody tr th {\n",
       "        vertical-align: top;\n",
       "    }\n",
       "\n",
       "    .dataframe thead th {\n",
       "        text-align: right;\n",
       "    }\n",
       "</style>\n",
       "<table border=\"1\" class=\"dataframe\">\n",
       "  <thead>\n",
       "    <tr style=\"text-align: right;\">\n",
       "      <th></th>\n",
       "      <th>CSF</th>\n",
       "      <th>WhiteMatter</th>\n",
       "      <th>GlobalSignal</th>\n",
       "      <th>stdDVARS</th>\n",
       "      <th>non-stdDVARS</th>\n",
       "      <th>vx-wisestdDVARS</th>\n",
       "      <th>FramewiseDisplacement</th>\n",
       "      <th>tCompCor00</th>\n",
       "      <th>tCompCor01</th>\n",
       "      <th>tCompCor02</th>\n",
       "      <th>...</th>\n",
       "      <th>aCompCor05</th>\n",
       "      <th>Cosine00</th>\n",
       "      <th>Cosine01</th>\n",
       "      <th>Cosine02</th>\n",
       "      <th>X</th>\n",
       "      <th>Y</th>\n",
       "      <th>Z</th>\n",
       "      <th>RotX</th>\n",
       "      <th>RotY</th>\n",
       "      <th>RotZ</th>\n",
       "    </tr>\n",
       "  </thead>\n",
       "  <tbody>\n",
       "    <tr>\n",
       "      <th>0</th>\n",
       "      <td>400.839614</td>\n",
       "      <td>318.636830</td>\n",
       "      <td>301.658923</td>\n",
       "      <td>NaN</td>\n",
       "      <td>NaN</td>\n",
       "      <td>NaN</td>\n",
       "      <td>NaN</td>\n",
       "      <td>-0.114180</td>\n",
       "      <td>0.060004</td>\n",
       "      <td>0.078100</td>\n",
       "      <td>...</td>\n",
       "      <td>-0.061136</td>\n",
       "      <td>0.113222</td>\n",
       "      <td>0.113205</td>\n",
       "      <td>0.113176</td>\n",
       "      <td>-0.004298</td>\n",
       "      <td>0.092861</td>\n",
       "      <td>-0.079594</td>\n",
       "      <td>0.001931</td>\n",
       "      <td>-0.000000</td>\n",
       "      <td>0.000000</td>\n",
       "    </tr>\n",
       "    <tr>\n",
       "      <th>1</th>\n",
       "      <td>400.921235</td>\n",
       "      <td>319.315018</td>\n",
       "      <td>301.961437</td>\n",
       "      <td>1.076607</td>\n",
       "      <td>16.922176</td>\n",
       "      <td>1.098864</td>\n",
       "      <td>0.057589</td>\n",
       "      <td>-0.078244</td>\n",
       "      <td>-0.057219</td>\n",
       "      <td>-0.053342</td>\n",
       "      <td>...</td>\n",
       "      <td>0.083976</td>\n",
       "      <td>0.113176</td>\n",
       "      <td>0.113021</td>\n",
       "      <td>0.112763</td>\n",
       "      <td>0.000000</td>\n",
       "      <td>0.059668</td>\n",
       "      <td>-0.070054</td>\n",
       "      <td>0.001720</td>\n",
       "      <td>-0.000000</td>\n",
       "      <td>0.000000</td>\n",
       "    </tr>\n",
       "    <tr>\n",
       "      <th>2</th>\n",
       "      <td>401.802523</td>\n",
       "      <td>319.604897</td>\n",
       "      <td>301.820800</td>\n",
       "      <td>1.101432</td>\n",
       "      <td>17.312384</td>\n",
       "      <td>1.026852</td>\n",
       "      <td>0.047126</td>\n",
       "      <td>-0.027331</td>\n",
       "      <td>-0.127769</td>\n",
       "      <td>0.134977</td>\n",
       "      <td>...</td>\n",
       "      <td>0.032267</td>\n",
       "      <td>0.113084</td>\n",
       "      <td>0.112654</td>\n",
       "      <td>0.111939</td>\n",
       "      <td>0.000024</td>\n",
       "      <td>0.059613</td>\n",
       "      <td>-0.075252</td>\n",
       "      <td>0.002110</td>\n",
       "      <td>0.000168</td>\n",
       "      <td>0.000279</td>\n",
       "    </tr>\n",
       "    <tr>\n",
       "      <th>3</th>\n",
       "      <td>400.327339</td>\n",
       "      <td>318.243918</td>\n",
       "      <td>301.665534</td>\n",
       "      <td>1.215010</td>\n",
       "      <td>19.097616</td>\n",
       "      <td>1.090247</td>\n",
       "      <td>0.105153</td>\n",
       "      <td>0.117361</td>\n",
       "      <td>-0.008332</td>\n",
       "      <td>0.014918</td>\n",
       "      <td>...</td>\n",
       "      <td>0.059260</td>\n",
       "      <td>0.112947</td>\n",
       "      <td>0.112105</td>\n",
       "      <td>0.110706</td>\n",
       "      <td>-0.000003</td>\n",
       "      <td>0.072699</td>\n",
       "      <td>-0.035038</td>\n",
       "      <td>0.001625</td>\n",
       "      <td>-0.000047</td>\n",
       "      <td>-0.000057</td>\n",
       "    </tr>\n",
       "    <tr>\n",
       "      <th>4</th>\n",
       "      <td>400.447552</td>\n",
       "      <td>318.126304</td>\n",
       "      <td>301.093015</td>\n",
       "      <td>1.108819</td>\n",
       "      <td>17.428497</td>\n",
       "      <td>1.044095</td>\n",
       "      <td>0.048414</td>\n",
       "      <td>0.074952</td>\n",
       "      <td>0.103966</td>\n",
       "      <td>-0.016375</td>\n",
       "      <td>...</td>\n",
       "      <td>-0.034357</td>\n",
       "      <td>0.112763</td>\n",
       "      <td>0.111373</td>\n",
       "      <td>0.109069</td>\n",
       "      <td>0.000031</td>\n",
       "      <td>0.059631</td>\n",
       "      <td>-0.049582</td>\n",
       "      <td>0.001676</td>\n",
       "      <td>0.000260</td>\n",
       "      <td>0.000000</td>\n",
       "    </tr>\n",
       "  </tbody>\n",
       "</table>\n",
       "<p>5 rows × 28 columns</p>\n",
       "</div>"
      ],
      "text/plain": [
       "          CSF  WhiteMatter  GlobalSignal  stdDVARS  non-stdDVARS  \\\n",
       "0  400.839614   318.636830    301.658923       NaN           NaN   \n",
       "1  400.921235   319.315018    301.961437  1.076607     16.922176   \n",
       "2  401.802523   319.604897    301.820800  1.101432     17.312384   \n",
       "3  400.327339   318.243918    301.665534  1.215010     19.097616   \n",
       "4  400.447552   318.126304    301.093015  1.108819     17.428497   \n",
       "\n",
       "   vx-wisestdDVARS  FramewiseDisplacement  tCompCor00  tCompCor01  tCompCor02  \\\n",
       "0              NaN                    NaN   -0.114180    0.060004    0.078100   \n",
       "1         1.098864               0.057589   -0.078244   -0.057219   -0.053342   \n",
       "2         1.026852               0.047126   -0.027331   -0.127769    0.134977   \n",
       "3         1.090247               0.105153    0.117361   -0.008332    0.014918   \n",
       "4         1.044095               0.048414    0.074952    0.103966   -0.016375   \n",
       "\n",
       "   ...  aCompCor05  Cosine00  Cosine01  Cosine02         X         Y  \\\n",
       "0  ...   -0.061136  0.113222  0.113205  0.113176 -0.004298  0.092861   \n",
       "1  ...    0.083976  0.113176  0.113021  0.112763  0.000000  0.059668   \n",
       "2  ...    0.032267  0.113084  0.112654  0.111939  0.000024  0.059613   \n",
       "3  ...    0.059260  0.112947  0.112105  0.110706 -0.000003  0.072699   \n",
       "4  ...   -0.034357  0.112763  0.111373  0.109069  0.000031  0.059631   \n",
       "\n",
       "          Z      RotX      RotY      RotZ  \n",
       "0 -0.079594  0.001931 -0.000000  0.000000  \n",
       "1 -0.070054  0.001720 -0.000000  0.000000  \n",
       "2 -0.075252  0.002110  0.000168  0.000279  \n",
       "3 -0.035038  0.001625 -0.000047 -0.000057  \n",
       "4 -0.049582  0.001676  0.000260  0.000000  \n",
       "\n",
       "[5 rows x 28 columns]"
      ]
     },
     "execution_count": 16,
     "metadata": {},
     "output_type": "execute_result"
    }
   ],
   "source": [
    "#import pandas as pd\n",
    "conf_fn = os.path.join(indir,f'{sub}/ses-localizer/func/{sub}_ses-localizer_task-objectcategories_run-{r}_bold_confounds.tsv')\n",
    "df_conf = pd.read_csv(conf_fn,delimiter='\\t')\n",
    "assert np.isnan(df_conf.loc[:,['X','Y','Z','RotX','RotY','RotZ']].values).sum()==0,'NaNs in motion'\n",
    "#conf = torch.permute(torch.tensor(df_conf.loc[:,['X','Y','Z','RotX','RotY','RotZ']].values), (1,0))\n",
    "conf = df_conf.loc[:,['X','Y','Z','RotX','RotY','RotZ']].values.transpose()\n",
    "print(df_conf.shape)\n",
    "df_conf.head()"
   ]
  },
  {
   "cell_type": "code",
   "execution_count": 17,
   "id": "c337307a-a331-490a-b441-ccb5ba6e23a3",
   "metadata": {
    "editable": true,
    "papermill": {
     "duration": 0.023563,
     "end_time": "2025-03-19T00:09:10.361894",
     "exception": false,
     "start_time": "2025-03-19T00:09:10.338331",
     "status": "completed"
    },
    "slideshow": {
     "slide_type": ""
    },
    "tags": []
   },
   "outputs": [],
   "source": [
    "# Create 3D coordinate grids\n",
    "x_coords, y_coords, z_coords = np.meshgrid(\n",
    "np.arange(gm.shape[0]),  # x-coordinates\n",
    "np.arange(gm.shape[1]),  # y-coordinates\n",
    "np.arange(gm.shape[2]),  # z-coordinates\n",
    "indexing=\"ij\"  # \"ij\" for matrix-style indexing\n",
    ")\n",
    "x_coords_flat = x_coords.flatten()\n",
    "y_coords_flat = y_coords.flatten()\n",
    "z_coords_flat = z_coords.flatten()\n",
    "\n",
    "gm_x_coords = x_coords_flat[gm_flat.astype(bool)]\n",
    "gm_y_coords = y_coords_flat[gm_flat.astype(bool)]\n",
    "gm_z_coords = z_coords_flat[gm_flat.astype(bool)]\n",
    "gm_coords = np.stack((gm_x_coords, gm_y_coords, gm_z_coords), axis=-1)\n",
    "\n",
    "cf_x_coords = x_coords_flat[cf_flat.astype(bool)]\n",
    "cf_y_coords = y_coords_flat[cf_flat.astype(bool)]\n",
    "cf_z_coords = z_coords_flat[cf_flat.astype(bool)]\n",
    "cf_coords = np.stack((cf_x_coords, cf_y_coords, cf_z_coords), axis=-1)"
   ]
  },
  {
   "cell_type": "code",
   "execution_count": 18,
   "id": "db0ab565-56ac-4ce4-a580-5b35252bf684",
   "metadata": {
    "editable": true,
    "papermill": {
     "duration": 0.170049,
     "end_time": "2025-03-19T00:09:10.540027",
     "exception": false,
     "start_time": "2025-03-19T00:09:10.369978",
     "status": "completed"
    },
    "slideshow": {
     "slide_type": ""
    },
    "tags": []
   },
   "outputs": [
    {
     "data": {
      "image/png": "[encoded data removed]",
      "text/plain": [
       "<Figure size 1080x360 with 3 Axes>"
      ]
     },
     "metadata": {},
     "output_type": "display_data"
    }
   ],
   "source": [
    "x,y,z = 30,39,20\n",
    "#plt.figure(figsize=(15,5))\n",
    "fig, ax = plt.subplots(figsize=(15,5))\n",
    "plt.subplot(1,3,1)\n",
    "roi_slice = gm.numpy()[:,:,z]\n",
    "roni_slice = cf.numpy()[:,:,z]\n",
    "roi_slice[roi_slice<.01] = np.nan\n",
    "roni_slice[roni_slice<.01] = np.nan\n",
    "plt.imshow(roi_slice,cmap='spring')\n",
    "plt.imshow(roni_slice,cmap='summer')\n",
    "plt.xticks([]);\n",
    "plt.yticks([]);\n",
    "\n",
    "plt.subplot(1,3,2)\n",
    "roi_slice = np.rot90(gm.numpy()[:,y,:])\n",
    "roni_slice = np.rot90(cf.numpy()[:,y,:])\n",
    "roi_slice[roi_slice<.01] = np.nan\n",
    "roni_slice[roni_slice<.01] = np.nan\n",
    "plt.imshow(roi_slice,cmap='spring')\n",
    "plt.imshow(roni_slice,cmap='summer')\n",
    "plt.xticks([]);\n",
    "plt.yticks([]);\n",
    "\n",
    "plt.subplot(1,3,3)\n",
    "roi_slice = np.rot90(gm.numpy()[x,:,:])\n",
    "roni_slice = np.rot90(cf.numpy()[x,:,:])\n",
    "roi_slice[roi_slice<.001] = np.nan\n",
    "roni_slice[roni_slice<.001] = np.nan\n",
    "plt.imshow(roi_slice,cmap='spring')\n",
    "plt.imshow(roni_slice,cmap='summer')\n",
    "plt.xticks([]);\n",
    "plt.yticks([]);\n",
    "plt.show()"
   ]
  },
  {
   "cell_type": "code",
   "execution_count": 19,
   "id": "19e51379-614a-4b3d-bfa1-6f5565bed868",
   "metadata": {
    "editable": true,
    "papermill": {
     "duration": 0.015357,
     "end_time": "2025-03-19T00:09:10.563785",
     "exception": false,
     "start_time": "2025-03-19T00:09:10.548428",
     "status": "completed"
    },
    "slideshow": {
     "slide_type": ""
    },
    "tags": []
   },
   "outputs": [
    {
     "data": {
      "text/plain": [
       "(9519, 44212)"
      ]
     },
     "execution_count": 19,
     "metadata": {},
     "output_type": "execute_result"
    }
   ],
   "source": [
    "# How many voxels in RONI and ROI\n",
    "(cf.numpy()==1).sum(),(gm.numpy()==1).sum()"
   ]
  },
  {
   "cell_type": "code",
   "execution_count": 20,
   "id": "c8ac7ae8-1c4e-49df-9422-de5552f8b828",
   "metadata": {
    "editable": true,
    "papermill": {
     "duration": 0.980286,
     "end_time": "2025-03-19T00:09:11.552162",
     "exception": false,
     "start_time": "2025-03-19T00:09:10.571876",
     "status": "completed"
    },
    "slideshow": {
     "slide_type": ""
    },
    "tags": []
   },
   "outputs": [
    {
     "name": "stdout",
     "output_type": "stream",
     "text": [
      "(300300, 156)\n",
      "44212\n",
      "9519\n"
     ]
    }
   ],
   "source": [
    "print(epi_flat.shape)\n",
    "print(sum(gm_flat==1))\n",
    "print(sum(cf_flat==1))"
   ]
  },
  {
   "cell_type": "code",
   "execution_count": 21,
   "id": "a330b0b7-cfbd-4361-9bc7-5b6b3c2203cb",
   "metadata": {
    "editable": true,
    "papermill": {
     "duration": 0.026195,
     "end_time": "2025-03-19T00:09:11.586861",
     "exception": false,
     "start_time": "2025-03-19T00:09:11.560666",
     "status": "completed"
    },
    "slideshow": {
     "slide_type": ""
    },
    "tags": []
   },
   "outputs": [],
   "source": [
    "func_gm = epi_flat[gm_flat==1,:] # Data that will be used as the ROI data\n",
    "func_cf = epi_flat[cf_flat==1,:] # Data that will be used as the RONI data"
   ]
  },
  {
   "cell_type": "code",
   "execution_count": 22,
   "id": "506267da-fa1d-459e-bc48-2d3ad3b71fcb",
   "metadata": {
    "editable": true,
    "papermill": {
     "duration": 0.012139,
     "end_time": "2025-03-19T00:09:11.607387",
     "exception": false,
     "start_time": "2025-03-19T00:09:11.595248",
     "status": "completed"
    },
    "slideshow": {
     "slide_type": ""
    },
    "tags": []
   },
   "outputs": [],
   "source": [
    "# func_gm = func_gm-func_gm.mean(axis=0)\n",
    "# func_cf = func_cf-func_cf.mean(axis=0)"
   ]
  },
  {
   "cell_type": "code",
   "execution_count": 23,
   "id": "31add5b3-4915-4290-9f4e-756343187ec7",
   "metadata": {
    "editable": true,
    "papermill": {
     "duration": 0.012987,
     "end_time": "2025-03-19T00:09:11.628383",
     "exception": false,
     "start_time": "2025-03-19T00:09:11.615396",
     "status": "completed"
    },
    "slideshow": {
     "slide_type": ""
    },
    "tags": []
   },
   "outputs": [
    {
     "name": "stdout",
     "output_type": "stream",
     "text": [
      "(44212, 156)\n",
      "(9519, 156)\n"
     ]
    }
   ],
   "source": [
    "print(func_gm.shape)\n",
    "print(func_cf.shape)"
   ]
  },
  {
   "cell_type": "code",
   "execution_count": 24,
   "id": "f747475f-c1c0-44af-8784-dc7106d43ed2",
   "metadata": {
    "editable": true,
    "papermill": {
     "duration": 0.203315,
     "end_time": "2025-03-19T00:09:11.839928",
     "exception": false,
     "start_time": "2025-03-19T00:09:11.636613",
     "status": "completed"
    },
    "slideshow": {
     "slide_type": ""
    },
    "tags": []
   },
   "outputs": [],
   "source": [
    "# Task regressors\n",
    "events_fn = f'../Data/StudyForrest/events/{sub}_ses-localizer_task-objectcategories_run-{r}_events.tsv'\n",
    "events = pd.read_csv(events_fn,delimiter='\\t')\n",
    "\n",
    "t_r = 2.0 \n",
    "n_scans = epi_flat.shape[1]  # the acquisition comprises 128 scans\n",
    "frame_times = (np.arange(n_scans) * t_r)\n",
    "\n",
    "X1 = make_first_level_design_matrix(frame_times,events,drift_model=\"polynomial\",drift_order=3,hrf_model=\"SPM\") #\n",
    "\n",
    "#face_reg = X1['face'].values\n",
    "#place_reg = X1[['body', 'house', 'object', 'scene', 'scramble']].values.sum(axis=1)\n",
    "\n",
    "face_reg = X1[['face','body']].values.sum(axis=1)\n",
    "place_reg = X1[['house', 'object', 'scene', 'scramble']].values.sum(axis=1)\n",
    "\n",
    "# ffa_im = ants.image_read(f'../Data/StudyForrest/ROIs/rFFA_final_mask_{sub}_bin.nii.gz')\n",
    "# func_ffa = func_gm[ffa_im.numpy().flatten()[gm_flat==1]==1,:]\n",
    "# ffa_coords = gm_coords[ffa_im.numpy().flatten()[gm_flat==1]==1,:]\n",
    "# ffa_scaler = Scaler(func_ffa)\n",
    "# ffa_list = ffa_scaler.transform(func_ffa)\n",
    "\n",
    "# plt.figure(figsize=(15,5))\n",
    "# plt.plot(ffa_list[:,:].mean(axis=0))\n",
    "# plt.plot(func_cf.mean(axis=0)-func_cf.mean(axis=0).mean())\n",
    "# plt.plot(face_reg,alpha=.5)\n",
    "# plt.plot(place_reg,alpha=.5)\n",
    "# plt.title('ffa activity + regs\\n'+'ffa corr w/ face: {:.2f}\\nffa corr w/ place: {:.2f}'.format(np.corrcoef(ffa_list[:,:].mean(axis=0),face_reg)[0,1],np.corrcoef(ffa_list[:,:].mean(axis=0),place_reg)[0,1]))"
   ]
  },
  {
   "cell_type": "code",
   "execution_count": 25,
   "id": "81695f75-2fa0-4fa9-b0e9-4ec41a73741c",
   "metadata": {
    "editable": true,
    "papermill": {
     "duration": 0.320822,
     "end_time": "2025-03-19T00:09:12.169472",
     "exception": false,
     "start_time": "2025-03-19T00:09:11.848650",
     "status": "completed"
    },
    "slideshow": {
     "slide_type": ""
    },
    "tags": []
   },
   "outputs": [
    {
     "data": {
      "text/plain": [
       "<matplotlib.legend.Legend at 0x7fc3f6ee5df0>"
      ]
     },
     "execution_count": 25,
     "metadata": {},
     "output_type": "execute_result"
    },
    {
     "data": {
      "image/png": "[encoded data removed]",
      "text/plain": [
       "<Figure size 1440x360 with 3 Axes>"
      ]
     },
     "metadata": {
      "needs_background": "light"
     },
     "output_type": "display_data"
    }
   ],
   "source": [
    "# Plot first voxel in ROI, RONI and both\n",
    "plt.figure(figsize=(20,5))\n",
    "plt.subplot(1,3,1);plt.plot(func_gm[0,:])\n",
    "plt.subplot(1,3,2);plt.plot(func_cf[0,:])\n",
    "plt.subplot(1,3,3);plt.plot(func_gm[0,:]);plt.plot(func_cf[0,:]);plt.legend(['ROI','RONI'])"
   ]
  },
  {
   "cell_type": "code",
   "execution_count": 26,
   "id": "e0828b8a-321d-4351-b661-b8071836de3f",
   "metadata": {
    "editable": true,
    "papermill": {
     "duration": 0.015066,
     "end_time": "2025-03-19T00:09:12.194867",
     "exception": false,
     "start_time": "2025-03-19T00:09:12.179801",
     "status": "completed"
    },
    "slideshow": {
     "slide_type": ""
    },
    "tags": []
   },
   "outputs": [
    {
     "name": "stdout",
     "output_type": "stream",
     "text": [
      "(44212, 156)\n",
      "(9519, 156)\n"
     ]
    }
   ],
   "source": [
    "print(func_gm.shape)\n",
    "print(func_cf.shape)"
   ]
  },
  {
   "cell_type": "code",
   "execution_count": 27,
   "id": "4be8507d-7994-47ce-935a-43fda238877f",
   "metadata": {
    "editable": true,
    "papermill": {
     "duration": 0.01426,
     "end_time": "2025-03-19T00:09:12.219233",
     "exception": false,
     "start_time": "2025-03-19T00:09:12.204973",
     "status": "completed"
    },
    "slideshow": {
     "slide_type": ""
    },
    "tags": []
   },
   "outputs": [],
   "source": [
    "# #Normalization of Data, remove voxels with std of 0 so it doesnt crash CVAE (from Yu Zhu's code)\n",
    "# func_gm = remove_std0(func_gm)\n",
    "# func_cf = remove_std0(func_cf)\n",
    "# print(func_gm.shape)\n",
    "# print(func_cf.shape)"
   ]
  },
  {
   "cell_type": "code",
   "execution_count": 28,
   "id": "ca6fc97e-cad2-4668-b7ed-16e0a53abd12",
   "metadata": {
    "editable": true,
    "papermill": {
     "duration": 0.013776,
     "end_time": "2025-03-19T00:09:12.242848",
     "exception": false,
     "start_time": "2025-03-19T00:09:12.229072",
     "status": "completed"
    },
    "slideshow": {
     "slide_type": ""
    },
    "tags": []
   },
   "outputs": [],
   "source": [
    "# # Apply scaler to ROI and RONI\n",
    "# obs_scale = Scaler(func_gm)\n",
    "# obs_list = obs_scale.transform(func_gm)\n",
    "# print(obs_list.shape)\n",
    "# noi_scale = Scaler(func_cf)\n",
    "# noi_list = noi_scale.transform(func_cf)\n",
    "# print(noi_list.shape)"
   ]
  },
  {
   "cell_type": "code",
   "execution_count": 29,
   "id": "08a0f145-3b06-4028-ab0d-cf9377e4040d",
   "metadata": {
    "editable": true,
    "papermill": {
     "duration": 0.013589,
     "end_time": "2025-03-19T00:09:12.266307",
     "exception": false,
     "start_time": "2025-03-19T00:09:12.252718",
     "status": "completed"
    },
    "slideshow": {
     "slide_type": ""
    },
    "tags": []
   },
   "outputs": [],
   "source": [
    "obs_list = func_gm\n",
    "noi_list = func_cf"
   ]
  },
  {
   "cell_type": "code",
   "execution_count": 30,
   "id": "6e043c7e-1969-469c-9341-0c6e3205557f",
   "metadata": {
    "editable": true,
    "papermill": {
     "duration": 0.275144,
     "end_time": "2025-03-19T00:09:12.551298",
     "exception": false,
     "start_time": "2025-03-19T00:09:12.276154",
     "status": "completed"
    },
    "slideshow": {
     "slide_type": ""
    },
    "tags": []
   },
   "outputs": [
    {
     "data": {
      "text/plain": [
       "(array([1.30272e+05, 3.69860e+04, 2.85210e+04, 8.86030e+04, 9.76012e+05,\n",
       "        1.86882e+05, 2.32930e+04, 1.34950e+04, 7.43000e+02, 1.57000e+02]),\n",
       " array([-24.542044,  47.631973, 119.80599 , 191.98001 , 264.15402 ,\n",
       "        336.32803 , 408.50204 , 480.67606 , 552.8501  , 625.0241  ,\n",
       "        697.1981  ], dtype=float32),\n",
       " <BarContainer object of 10 artists>)"
      ]
     },
     "execution_count": 30,
     "metadata": {},
     "output_type": "execute_result"
    },
    {
     "data": {
      "image/png": "[encoded data removed]",
      "text/plain": [
       "<Figure size 1080x360 with 2 Axes>"
      ]
     },
     "metadata": {
      "needs_background": "light"
     },
     "output_type": "display_data"
    }
   ],
   "source": [
    "# Plot histograms for ROI and RONI\n",
    "plt.figure(figsize=(15,5))\n",
    "plt.subplot(1,2,1)\n",
    "plt.hist(obs_list.flatten())\n",
    "plt.subplot(1,2,2)\n",
    "plt.hist(noi_list.flatten())"
   ]
  },
  {
   "cell_type": "code",
   "execution_count": 31,
   "id": "4c52f56c-6803-49af-8cd2-3e20c4e3d26b",
   "metadata": {
    "editable": true,
    "papermill": {
     "duration": 0.016526,
     "end_time": "2025-03-19T00:09:12.578622",
     "exception": false,
     "start_time": "2025-03-19T00:09:12.562096",
     "status": "completed"
    },
    "slideshow": {
     "slide_type": ""
    },
    "tags": []
   },
   "outputs": [],
   "source": [
    "\n",
    "class GradientReversalFunction(Function):\n",
    "    @staticmethod\n",
    "    def forward(ctx, x, lambda_):\n",
    "        ctx.lambda_ = lambda_\n",
    "        return x.view_as(x)  # Pass the input as is\n",
    "\n",
    "    @staticmethod\n",
    "    def backward(ctx, grad_output):\n",
    "        lambda_ = ctx.lambda_\n",
    "        grad_input = grad_output.neg() * lambda_  # Reverse and scale gradients\n",
    "        return grad_input, None  # Second element corresponds to lambda_, which has no gradient\n",
    "\n",
    "class GradientReversalLayer(torch.nn.Module):\n",
    "    def __init__(self, lambda_=1.0):\n",
    "        super(GradientReversalLayer, self).__init__()\n",
    "        self.lambda_ = lambda_\n",
    "\n",
    "    def forward(self, x):\n",
    "        return GradientReversalFunction.apply(x, self.lambda_)\n"
   ]
  },
  {
   "cell_type": "code",
   "execution_count": 32,
   "id": "5ec2484e-cd3c-4d5e-89b9-3dc93e0215d7",
   "metadata": {
    "editable": true,
    "papermill": {
     "duration": 0.014177,
     "end_time": "2025-03-19T00:09:12.602989",
     "exception": false,
     "start_time": "2025-03-19T00:09:12.588812",
     "status": "completed"
    },
    "slideshow": {
     "slide_type": ""
    },
    "tags": []
   },
   "outputs": [],
   "source": [
    "\n",
    "now = datetime.now\n",
    "t0 = now()"
   ]
  },
  {
   "cell_type": "code",
   "execution_count": 33,
   "id": "625d1d47-c3c4-4b62-a1ae-9ee3ade7e8fa",
   "metadata": {
    "editable": true,
    "papermill": {
     "duration": 0.014661,
     "end_time": "2025-03-19T00:09:12.627775",
     "exception": false,
     "start_time": "2025-03-19T00:09:12.613114",
     "status": "completed"
    },
    "slideshow": {
     "slide_type": ""
    },
    "tags": []
   },
   "outputs": [],
   "source": [
    "# batch_size = 1024\n",
    "# latent_dim = (128,128) # Shared,Specific\n",
    "# beta = 0.001       \n",
    "# gamma = 0 # TC scaling\n",
    "# delta = 1000 # \"Denoised RONI should be zero\" scaling\n",
    "# scale_MSE_GM = 1e3 # Scale ROI loss \n",
    "# scale_MSE_CF = 1e4 # Scale RONI loss\n",
    "\n",
    "# # gamma = 100 # TC scaling\n",
    "# #scale_MSE_GM = 1e2 # Scale ROI loss \n",
    "# #scale_MSE_CF = 1e2 # Scale RONI loss\n",
    "# scale_MSE_FG = 0 # \"Denoised should be similar to input\" scaling\n",
    "# #beta = 0.0001  \n",
    "\n",
    "# #train_inputs = TrainDataset(obs_list,noi_list)\n",
    "# #train_inputs = TrainDataset(obs_list_coords,noi_list_coords)\n",
    "# #train_in = torch.utils.data.DataLoader(train_inputs, batch_size=batch_size,shuffle=True, num_workers=1,drop_last=True)\n",
    "\n",
    "# obs_list_coords = np.concatenate([obs_list[:,:,np.newaxis],np.stack([gm_coords for _ in range(nt)],axis=1)],axis=-1)\n",
    "# noi_list_coords = np.concatenate([noi_list[:,:,np.newaxis],np.stack([cf_coords for _ in range(nt)],axis=1)],axis=-1)\n",
    "# obs_list_coords = np.swapaxes(obs_list_coords,1,2)\n",
    "# noi_list_coords = np.swapaxes(noi_list_coords,1,2)\n",
    "# train_inputs_coords = TrainDataset(obs_list_coords,noi_list_coords)\n",
    "# train_in_coords = torch.utils.data.DataLoader(train_inputs_coords, batch_size=batch_size,shuffle=True, num_workers=1,drop_last=True)\n",
    "\n",
    "# device = torch.device('cuda:0' if torch.cuda.is_available() else 'cpu')\n",
    "# Tensor = TypeVar('torch.tensor')\n",
    "# conf_batch = torch.tensor(np.array([conf for _ in range(batch_size)])).to(device)\n",
    "# model = cVAE(conf_batch,4,func_cf.shape[1],latent_dim, beta=beta, gamma=gamma,delta=delta,scale_MSE_GM=scale_MSE_GM,scale_MSE_CF=scale_MSE_CF,scale_MSE_FG=scale_MSE_FG,freq_exp=0,freq_scale=0,do_disentangle=True)\n",
    "# model.to(device)\n",
    "# optimizer = optim.AdamW(model.parameters(), lr=0.001, betas=(0.9, 0.999), eps=1e-08)\n",
    "# dataloader_iter_in = iter(train_in_coords)\n",
    "# inputs_gm,inputs_cf = next(dataloader_iter_in)\n",
    "# inputs_gm = inputs_gm.float().to(device)\n",
    "# inputs_cf = inputs_cf.float().to(device)\n",
    "\n",
    "# [outputs_gm, inputs_gm, tg_mu_z, tg_log_var_z, tg_mu_s, tg_log_var_s,tg_z,tg_s] = model.forward_tg(inputs_gm)\n",
    "# [outputs_cf, inputs_cf, bg_mu_z, bg_log_var_z] = model.forward_bg(inputs_cf)\n",
    "\n",
    "# loss = model.loss_function(outputs_gm, inputs_gm, tg_mu_z, tg_log_var_z, tg_mu_s, tg_log_var_s,tg_z,tg_s, outputs_cf, inputs_cf, bg_mu_z, bg_log_var_z)"
   ]
  },
  {
   "cell_type": "code",
   "execution_count": 34,
   "id": "4c2d3782-e990-42b9-af8e-5b1500aca32e",
   "metadata": {
    "editable": true,
    "papermill": {
     "duration": 0.340838,
     "end_time": "2025-03-19T00:09:12.978815",
     "exception": false,
     "start_time": "2025-03-19T00:09:12.637977",
     "status": "completed"
    },
    "slideshow": {
     "slide_type": ""
    },
    "tags": []
   },
   "outputs": [],
   "source": [
    "obs_list_coords = np.concatenate([obs_list[:,:,np.newaxis],np.stack([gm_coords for _ in range(nt)],axis=1)],axis=-1)\n",
    "noi_list_coords = np.concatenate([noi_list[:,:,np.newaxis],np.stack([cf_coords for _ in range(nt)],axis=1)],axis=-1)\n",
    "obs_list_coords = np.swapaxes(obs_list_coords,1,2)\n",
    "noi_list_coords = np.swapaxes(noi_list_coords,1,2)"
   ]
  },
  {
   "cell_type": "code",
   "execution_count": 35,
   "id": "92dc2161-5aed-4277-a78b-fcca8d3981f4",
   "metadata": {
    "editable": true,
    "papermill": {
     "duration": 0.152048,
     "end_time": "2025-03-19T00:09:13.141472",
     "exception": false,
     "start_time": "2025-03-19T00:09:12.989424",
     "status": "completed"
    },
    "slideshow": {
     "slide_type": ""
    },
    "tags": []
   },
   "outputs": [
    {
     "name": "stdout",
     "output_type": "stream",
     "text": [
      "3096\n",
      "427\n",
      "44212/9519\n",
      "41116/9092\n"
     ]
    }
   ],
   "source": [
    "std0_gm = obs_list_coords[:,0,:].std(axis=-1)<1e-3\n",
    "std0_cf = noi_list_coords[:,0,:].std(axis=-1)<1e-3\n",
    "print(std0_gm.sum())\n",
    "print(std0_cf.sum())\n",
    "\n",
    "print('{}/{}'.format(obs_list_coords.shape[0],noi_list_coords.shape[0]))\n",
    "obs_list_coords = obs_list_coords[~std0_gm,:,:]\n",
    "noi_list_coords = noi_list_coords[~std0_cf,:,:]\n",
    "print('{}/{}'.format(obs_list_coords.shape[0],noi_list_coords.shape[0]))"
   ]
  },
  {
   "cell_type": "code",
   "execution_count": 36,
   "id": "540271bd-11ed-4a78-bb43-c5f0f76bbde8",
   "metadata": {
    "editable": true,
    "papermill": {
     "duration": 0.015083,
     "end_time": "2025-03-19T00:09:13.167144",
     "exception": false,
     "start_time": "2025-03-19T00:09:13.152061",
     "status": "completed"
    },
    "slideshow": {
     "slide_type": ""
    },
    "tags": []
   },
   "outputs": [],
   "source": [
    "# ### NORMALIZE WAY 1\n",
    "# obs_list_coords_max_vals = obs_list_coords[:,0,:].max()\n",
    "# obs_list_coords_min_vals = obs_list_coords[:,0,:].min()\n",
    "# obs_list_coords_max_coords = obs_list_coords[:,:,0].max(axis=0)\n",
    "# obs_list_coords_min_coords = obs_list_coords[:,:,0].min(axis=0)\n",
    "\n",
    "# obs_list_coords[:,0,:] = (obs_list_coords[:,0,:]-obs_list_coords_min_vals) / (obs_list_coords_max_vals-obs_list_coords_min_vals)\n",
    "# obs_list_coords[:,1,:] = (obs_list_coords[:,1,:]-obs_list_coords_min_coords[1]) / (obs_list_coords_max_coords[1]-obs_list_coords_min_coords[1])\n",
    "# obs_list_coords[:,2,:] = (obs_list_coords[:,2,:]-obs_list_coords_min_coords[2]) / (obs_list_coords_max_coords[2]-obs_list_coords_min_coords[2])\n",
    "# obs_list_coords[:,3,:] = (obs_list_coords[:,3,:]-obs_list_coords_min_coords[3]) / (obs_list_coords_max_coords[3]-obs_list_coords_min_coords[3])\n",
    "\n",
    "# noi_list_coords_max_vals = noi_list_coords[:,0,:].max()\n",
    "# noi_list_coords_min_vals = noi_list_coords[:,0,:].min()\n",
    "# noi_list_coords_max_coords = noi_list_coords[:,:,0].max(axis=0)\n",
    "# noi_list_coords_min_coords = noi_list_coords[:,:,0].min(axis=0)\n",
    "\n",
    "# noi_list_coords[:,0,:] = (noi_list_coords[:,0,:]-noi_list_coords_min_vals) / (noi_list_coords_max_vals-noi_list_coords_min_vals)\n",
    "# noi_list_coords[:,1,:] = (noi_list_coords[:,1,:]-noi_list_coords_min_coords[1]) / (noi_list_coords_max_coords[1]-noi_list_coords_min_coords[1])\n",
    "# noi_list_coords[:,2,:] = (noi_list_coords[:,2,:]-noi_list_coords_min_coords[2]) / (noi_list_coords_max_coords[2]-noi_list_coords_min_coords[2])\n",
    "# noi_list_coords[:,3,:] = (noi_list_coords[:,3,:]-noi_list_coords_min_coords[3]) / (noi_list_coords_max_coords[3]-noi_list_coords_min_coords[3])"
   ]
  },
  {
   "cell_type": "code",
   "execution_count": 37,
   "id": "3b276b6e-cf49-4572-8785-6abe656a3a54",
   "metadata": {
    "editable": true,
    "papermill": {
     "duration": 0.176887,
     "end_time": "2025-03-19T00:09:13.354327",
     "exception": false,
     "start_time": "2025-03-19T00:09:13.177440",
     "status": "completed"
    },
    "slideshow": {
     "slide_type": ""
    },
    "tags": []
   },
   "outputs": [],
   "source": [
    "# Z score \n",
    "obs_list_coords[:,0,:] = (obs_list_coords[:,0,:]-obs_list_coords[:,0,:].mean(axis=1)[:,np.newaxis])/obs_list_coords[:,0,:].std(axis=1)[:,np.newaxis]\n",
    "noi_list_coords[:,0,:] = (noi_list_coords[:,0,:]-noi_list_coords[:,0,:].mean(axis=1)[:,np.newaxis])/noi_list_coords[:,0,:].std(axis=1)[:,np.newaxis]"
   ]
  },
  {
   "cell_type": "code",
   "execution_count": 38,
   "id": "9ee779d5-ed7d-4eb3-8d2d-1f6c5f56e527",
   "metadata": {
    "editable": true,
    "papermill": {
     "duration": 0.014769,
     "end_time": "2025-03-19T00:09:13.379776",
     "exception": false,
     "start_time": "2025-03-19T00:09:13.365007",
     "status": "completed"
    },
    "slideshow": {
     "slide_type": ""
    },
    "tags": []
   },
   "outputs": [],
   "source": [
    "# # Normalize 0-1\n",
    "# obs_list_coords_min_vals = obs_list_coords[:,0,:].min(axis=-1)\n",
    "# obs_list_coords_max_vals = obs_list_coords[:,0,:].max(axis=-1)\n",
    "# obs_list_coords[:,0,:] = (obs_list_coords[:,0,:]-obs_list_coords_min_vals[:,np.newaxis]) / (obs_list_coords_max_vals[:,np.newaxis]-obs_list_coords_min_vals[:,np.newaxis])\n",
    "\n",
    "# noi_list_coords_min_vals = noi_list_coords[:,0,:].min(axis=-1)\n",
    "# noi_list_coords_max_vals = noi_list_coords[:,0,:].max(axis=-1)\n",
    "# noi_list_coords[:,0,:] = (noi_list_coords[:,0,:]-noi_list_coords_min_vals[:,np.newaxis]) / (noi_list_coords_max_vals[:,np.newaxis]-noi_list_coords_min_vals[:,np.newaxis])"
   ]
  },
  {
   "cell_type": "code",
   "execution_count": 39,
   "id": "2c7fb17f-78ec-4a73-9ac4-9f3a2f7d3bcb",
   "metadata": {
    "editable": true,
    "papermill": {
     "duration": 0.031647,
     "end_time": "2025-03-19T00:09:13.421751",
     "exception": false,
     "start_time": "2025-03-19T00:09:13.390104",
     "status": "completed"
    },
    "slideshow": {
     "slide_type": ""
    },
    "tags": []
   },
   "outputs": [],
   "source": [
    "ffa_im = ants.image_read(f'../Data/StudyForrest/ROIs/rFFA_final_mask_{sub}_bin.nii.gz')\n",
    "#ffa_list_coords = obs_list_coords[ffa_im.numpy().flatten()[gm_flat==1]==1,:,:]\n",
    "ffa_list_coords = obs_list_coords[(ffa_im.numpy().flatten()[gm_flat==1]==1)[~std0_gm],:,:]"
   ]
  },
  {
   "cell_type": "code",
   "execution_count": 40,
   "id": "ee5d966b-357a-41bc-a9a0-3c2bfd46d47d",
   "metadata": {
    "editable": true,
    "papermill": {
     "duration": 0.081887,
     "end_time": "2025-03-19T00:09:13.514235",
     "exception": false,
     "start_time": "2025-03-19T00:09:13.432348",
     "status": "completed"
    },
    "slideshow": {
     "slide_type": ""
    },
    "tags": []
   },
   "outputs": [],
   "source": [
    "conf_pcs = PCA(n_components=5).fit_transform(noi_list_coords[:,0,:].transpose())\n",
    "lin_reg = linear_model.LinearRegression()\n",
    "lin_reg.fit(conf_pcs,ffa_list_coords[:,0,:].transpose());\n",
    "ffa_compcorr = ffa_list_coords[:,0,:].transpose()-lin_reg.predict(conf_pcs)\n",
    "ffa_compcorr = ffa_compcorr.transpose()"
   ]
  },
  {
   "cell_type": "code",
   "execution_count": 41,
   "id": "dafea0b8-41bc-49bb-9495-c18a4d9be92e",
   "metadata": {
    "editable": true,
    "papermill": {
     "duration": 0.019935,
     "end_time": "2025-03-19T00:09:13.545201",
     "exception": false,
     "start_time": "2025-03-19T00:09:13.525266",
     "status": "completed"
    },
    "slideshow": {
     "slide_type": ""
    },
    "tags": []
   },
   "outputs": [
    {
     "data": {
      "text/plain": [
       "0.6893"
      ]
     },
     "execution_count": 41,
     "metadata": {},
     "output_type": "execute_result"
    }
   ],
   "source": [
    "np.corrcoef(ffa_list_coords[:,0,:].mean(axis=0),face_reg)[0,1].round(4)"
   ]
  },
  {
   "cell_type": "code",
   "execution_count": 42,
   "id": "1389bd9f-5338-417b-9063-db37692cb250",
   "metadata": {
    "editable": true,
    "papermill": {
     "duration": 0.01634,
     "end_time": "2025-03-19T00:09:13.572235",
     "exception": false,
     "start_time": "2025-03-19T00:09:13.555895",
     "status": "completed"
    },
    "slideshow": {
     "slide_type": ""
    },
    "tags": []
   },
   "outputs": [
    {
     "data": {
      "text/plain": [
       "0.7113"
      ]
     },
     "execution_count": 42,
     "metadata": {},
     "output_type": "execute_result"
    }
   ],
   "source": [
    "np.corrcoef(ffa_compcorr.mean(axis=0),face_reg)[0,1].round(4)"
   ]
  },
  {
   "cell_type": "code",
   "execution_count": 43,
   "id": "098dd1a5-1f5b-43c3-adcc-f7270098b461",
   "metadata": {
    "editable": true,
    "papermill": {
     "duration": 0.154197,
     "end_time": "2025-03-19T00:09:13.736867",
     "exception": false,
     "start_time": "2025-03-19T00:09:13.582670",
     "status": "completed"
    },
    "slideshow": {
     "slide_type": ""
    },
    "tags": []
   },
   "outputs": [
    {
     "name": "stdout",
     "output_type": "stream",
     "text": [
      "(41116, 4, 156)\n",
      "(41116, 4, 156)\n"
     ]
    }
   ],
   "source": [
    "if obs_list_coords.shape[0]>noi_list_coords.shape[0]:\n",
    "    n_pad = obs_list_coords.shape[0]-noi_list_coords.shape[0]\n",
    "    pad_idx = np.random.randint(low=0,high=noi_list_coords.shape[0],size=n_pad)\n",
    "    noi_list_coords = np.concatenate([noi_list_coords,np.array([noi_list_coords[i,:,:] for i in pad_idx])])\n",
    "    print(obs_list_coords.shape)\n",
    "    print(noi_list_coords.shape)"
   ]
  },
  {
   "cell_type": "code",
   "execution_count": 44,
   "id": "64a90f07-741f-4f51-90d4-23b13090e679",
   "metadata": {
    "editable": true,
    "papermill": {
     "duration": 0.016095,
     "end_time": "2025-03-19T00:09:13.764203",
     "exception": false,
     "start_time": "2025-03-19T00:09:13.748108",
     "status": "completed"
    },
    "slideshow": {
     "slide_type": ""
    },
    "tags": []
   },
   "outputs": [],
   "source": [
    "conf[0:3,:] = (conf[0:3,:]-conf[0:3,:].min()) / (conf[0:3,:].max()-conf[0:3,:].min())\n",
    "conf[3:,:] = (conf[3:,:]-conf[3:,:].min()) / (conf[3:,:].max()-conf[3:,:].min())"
   ]
  },
  {
   "cell_type": "code",
   "execution_count": 60,
   "id": "cfce4e3c-28a0-4ad9-bfb2-db4e1d2063bd",
   "metadata": {
    "editable": true,
    "papermill": {
     "duration": 0.033806,
     "end_time": "2025-03-19T00:09:13.808549",
     "exception": false,
     "start_time": "2025-03-19T00:09:13.774743",
     "status": "completed"
    },
    "slideshow": {
     "slide_type": ""
    },
    "tags": []
   },
   "outputs": [],
   "source": [
    "def show_bashboard(single_fig=True):\n",
    "\n",
    "    nrows=5\n",
    "    ncols=9\n",
    "    sp=0\n",
    "    \n",
    "    if single_fig==True:\n",
    "        plt.close()\n",
    "        sys.stdout.flush()\n",
    "        display.clear_output(wait=True);\n",
    "        display.display(plt.gcf());\n",
    "        plt.figure(figsize=(5*ncols,5*nrows))\n",
    "    \n",
    "    sp+=1;plt.subplot(nrows,ncols,sp);plt.plot(track['l']);plt.title('total loss: {:.2f}'.format(track['l'][-1]))\n",
    "    sp+=1;plt.subplot(nrows,ncols,sp);plt.plot(track['batch_varexp']);plt.title('batch_varexp: {:.2f}'.format(track['batch_varexp'][-1]))\n",
    "    sp+=1;plt.subplot(nrows,ncols,sp);plt.plot(track['varexp']);plt.title('FFA varexp: {:.2f}'.format(track['varexp'][-1]))\n",
    "    sp+=1;plt.subplot(nrows,ncols,sp);plt.plot(track['ffa_io']);plt.title('ffa_io: {:.2f}'.format(track['ffa_io'][-1]))\n",
    "    \n",
    "#     sp+=1;plt.subplot(nrows,ncols,sp);plt.plot(track['recons_loss_roi']);plt.title('recons_loss_roi: {:.2f}'.format(track['recons_loss_roi'][-1]))\n",
    "#     sp+=1;plt.subplot(nrows,ncols,sp);plt.plot(track['recons_loss_roni']);plt.title('recons_loss_roni: {:.2f}'.format(track['recons_loss_roni'][-1]))\n",
    "#     sp+=1;plt.subplot(nrows,ncols,sp);plt.plot(track['loss_recon_conf_s']);plt.title('loss_recon_conf_s: {:.2f}'.format(track['loss_recon_conf_s'][-1]))\n",
    "#     sp+=1;plt.subplot(nrows,ncols,sp);plt.plot(track['kld_loss']);plt.title('kld_loss: {:.2f}'.format(track['kld_loss'][-1]))\n",
    "#     sp+=1;plt.subplot(nrows,ncols,sp);plt.plot(track['loss_recon_conf_z']);plt.title('loss_recon_conf_z: {:.2f}'.format(track['loss_recon_conf_z'][-1]))\n",
    "#     sp+=1;plt.subplot(nrows,ncols,sp);plt.plot(track['ncc_loss_tg']);plt.title('ncc_loss_tg: {:.2f}'.format(track['ncc_loss_tg'][-1]))\n",
    "#     sp+=1;plt.subplot(nrows,ncols,sp);plt.plot(track['ncc_loss_bg']);plt.title('ncc_loss_bg: {:.2f}'.format(track['ncc_loss_bg'][-1]))\n",
    "#     sp+=1;plt.subplot(nrows,ncols,sp);plt.plot(track['recons_loss_fg']);plt.title('recons_loss_fg: {:.2f}'.format(track['recons_loss_fg'][-1]))\n",
    "#     sp+=1;plt.subplot(nrows,ncols,sp);plt.plot(track['ncc_loss_conf_s']);plt.title('ncc_loss_conf_s: {:.2f}'.format(track['ncc_loss_conf_s'][-1]))\n",
    "#     sp+=1;plt.subplot(nrows,ncols,sp);plt.plot(track['ncc_loss_conf_z']);plt.title('ncc_loss_conf_z: {:.2f}'.format(track['ncc_loss_conf_z'][-1]))\n",
    "#     sp+=1;plt.subplot(nrows,ncols,sp);plt.plot(track['smoothness_loss']);plt.title('smoothness_loss: {:.2f}'.format(track['smoothness_loss'][-1]))\n",
    "    \n",
    "    \n",
    "    sp+=1;plt.subplot(nrows,ncols,sp);\n",
    "    plt.plot(batch_in[0,0,:])\n",
    "    plt.plot(batch_out[0,0,:])\n",
    "    plt.plot(model.forward_bg(inputs_gm)[0].detach().cpu().numpy()[0,0,:],'r-')\n",
    "    plt.plot(model.forward_fg(inputs_gm)[0].detach().cpu().numpy()[0,0,:],'g-')\n",
    "    plt.title('batch timecourse (single voxel)')\n",
    "    \n",
    "    sp+=1;plt.subplot(nrows,ncols,sp);\n",
    "    plt.plot(ffa_list_coords.mean(axis=0)[0,:])\n",
    "    plt.plot(recon.mean(axis=0))\n",
    "    plt.title('FFA AVG')\n",
    "    \n",
    "    sp+=1;plt.subplot(nrows,ncols,sp);\n",
    "    plt.plot(ffa_list_coords.mean(axis=0)[0,:])\n",
    "    plt.plot(signal.mean(axis=0),'g-')\n",
    "    plt.plot(face_reg)\n",
    "    plt.title('FFA SIGNAL')\n",
    "\n",
    "    sp+=1;plt.subplot(nrows,ncols,sp);\n",
    "    plt.plot(ffa_list_coords.mean(axis=0)[0,:])\n",
    "    plt.plot(noise.mean(axis=0),'r-')\n",
    "    plt.plot(face_reg)\n",
    "    plt.title('FFA NOISE')\n",
    "\n",
    "    sp+=1;plt.subplot(nrows,ncols,sp);\n",
    "    plt.plot(inputs_cf.detach().cpu().numpy()[0,0,:])\n",
    "    plt.plot(model.forward_bg(inputs_cf)[0].detach().cpu().numpy()[0,0,:])\n",
    "    plt.plot(model.forward_fg(inputs_cf)[0].detach().cpu().numpy()[0,0,:])\n",
    "    plt.title('CF batch voxel')\n",
    "    \n",
    "#     idx = 3\n",
    "#     sp+=1;plt.subplot(nrows,ncols,sp);\n",
    "#     plt.plot(confounds_pred_z[0,idx,:])\n",
    "#     plt.plot(conf[idx,:])\n",
    "#     plt.title('conf from z')\n",
    "    \n",
    "#     sp+=1;plt.subplot(nrows,ncols,sp);\n",
    "#     plt.plot(confounds_pred_s[0,idx,:])\n",
    "#     plt.plot(conf[idx,:])\n",
    "#     plt.title('conf from s')\n",
    "    \n",
    "#     sp+=1;plt.subplot(nrows,ncols,sp);\n",
    "#     idx = 2\n",
    "#     plt.plot(batch_in[0:25,idx,0])\n",
    "#     plt.plot(batch_out[0:25,idx,0])\n",
    "#     plt.title('batch coords')\n",
    "    \n",
    "#     sp+=1;plt.subplot(nrows,ncols,sp);\n",
    "#     plt.plot(ffa_list_coords[:,idx,0])\n",
    "#     plt.plot(recon_coords[:,idx,0])\n",
    "#     plt.title('FFA coords')\n",
    "    \n",
    "    sp+=1;plt.subplot(nrows,ncols,sp);\n",
    "    plt.plot(track['r_ffa_reg'],'k-')\n",
    "    plt.plot(track['r_TG_reg'])\n",
    "    plt.title('R TG-REG {}'.format(track['r_TG_reg'][-1]))\n",
    "    \n",
    "    sp+=1;plt.subplot(nrows,ncols,sp);\n",
    "    plt.plot(track['r_ffa_reg'],'k-')\n",
    "    if single_fig==True:\n",
    "        plt.plot(track['r_FG_reg'],'g-')\n",
    "    else:\n",
    "        plt.plot(track['r_FG_reg'])\n",
    "        \n",
    "    plt.title('R FG-REG {}'.format(track['r_FG_reg'][-1]))\n",
    "    \n",
    "    \n",
    "    sp+=1;plt.subplot(nrows,ncols,sp);\n",
    "    plt.plot(track['r_ffa_reg'],'k-')\n",
    "    plt.plot(track['r_BG_reg'],'r-')\n",
    "    plt.title('R BG-REG {}'.format(track['r_BG_reg'][-1]))\n",
    "\n",
    "\n",
    "#     sp+=1;plt.subplot(nrows,ncols,sp);\n",
    "#     plt.hist(bg_mu_z[0,:].detach().cpu().numpy(), bins=10, histtype='step', label='Data 1', linewidth=2)\n",
    "#     plt.hist(tg_mu_z[0,:].detach().cpu().numpy(), bins=10, histtype='step', label='Data 1', linewidth=2)\n",
    "#     plt.hist(tg_mu_s[0,:].detach().cpu().numpy(), bins=10, histtype='step', label='Data 1', linewidth=2)\n",
    "#     plt.legend(['bg_mu_z','tg_mu_z','tg_mu_s'])\n",
    "\n",
    "#     sp+=1;plt.subplot(nrows,ncols,sp);\n",
    "#     plt.hist(np.exp(0.5 * bg_log_var_z[0,:].detach().cpu().numpy()), bins=10, histtype='step', label='Data 1', linewidth=2)\n",
    "#     plt.hist(np.exp(0.5 * tg_log_var_z[0,:].detach().cpu().numpy()), bins=10, histtype='step', label='Data 1', linewidth=2)\n",
    "#     plt.hist(np.exp(0.5 * tg_log_var_s[0,:].detach().cpu().numpy()), bins=10, histtype='step', label='Data 1', linewidth=2)\n",
    "#     plt.legend(['bg_log_var_z','tg_log_var_z','tg_log_var_s'])\n",
    "\n",
    "#     sp+=1;plt.subplot(nrows,ncols,sp);\n",
    "#     plt.plot(track['tg_mu_z'])\n",
    "#     plt.title('tg_mu_z over time')\n",
    "\n",
    "#     sp+=1;plt.subplot(nrows,ncols,sp);\n",
    "#     plt.plot(track['tg_log_var_z'])\n",
    "#     plt.title('tg_log_var_z over time')\n",
    "\n",
    "    #plt.suptitle(f'E:{epoch} T:{elapsed}',y=.91,fontsize=20)\n",
    "    if single_fig==True:\n",
    "        plt.suptitle(f'{sub}-R{r}-rep-{rep} E:{epoch} T:{elapsed}',y=.91,fontsize=20)\n",
    "        plt.show()"
   ]
  },
  {
   "cell_type": "code",
   "execution_count": 46,
   "id": "a480bfe0-0798-471b-97eb-fe105e4e74ef",
   "metadata": {
    "papermill": {
     "duration": 0.016974,
     "end_time": "2025-03-19T00:09:13.836342",
     "exception": false,
     "start_time": "2025-03-19T00:09:13.819368",
     "status": "completed"
    },
    "tags": []
   },
   "outputs": [],
   "source": [
    "def init_track():\n",
    "    track = {}\n",
    "    track['l'] = []\n",
    "    track['kld_loss'] = []\n",
    "    track['recons_loss_roi'] = []\n",
    "    track['recons_loss_roni'] = []\n",
    "    track['loss_recon_conf_s'] = []\n",
    "    track['loss_recon_conf_z'] = []\n",
    "    track['ncc_loss_tg'] = []\n",
    "    track['ncc_loss_bg'] = []\n",
    "    track['ncc_loss_conf_s'] = []\n",
    "    track['ncc_loss_conf_z'] = []\n",
    "    track['smoothness_loss'] = []\n",
    "    track['recons_loss_fg'] = []\n",
    "    track['r_ffa_reg'] = []\n",
    "    track['r_TG_reg'] = []\n",
    "    track['r_FG_reg'] = []\n",
    "    track['r_BG_reg'] = []\n",
    "    track['varexp'] = []\n",
    "    track['batch_varexp'] = []\n",
    "    track['ffa_io'] = []\n",
    "    track['tg_mu_z'] = []\n",
    "    track['tg_log_var_z'] = []\n",
    "    track['tg_mu_s'] = []\n",
    "    track['tg_log_var_s'] = []\n",
    "    track['tg_z'] = []\n",
    "    track['tg_s'] = []\n",
    "    track['bg_log_var_z'] = []\n",
    "    track['bg_mu_z'] = []\n",
    "    return track"
   ]
  },
  {
   "cell_type": "code",
   "execution_count": 47,
   "id": "77fc40ae-79b2-4832-922e-60db30c1fca0",
   "metadata": {
    "papermill": {
     "duration": 0.015667,
     "end_time": "2025-03-19T00:09:13.862469",
     "exception": false,
     "start_time": "2025-03-19T00:09:13.846802",
     "status": "completed"
    },
    "tags": []
   },
   "outputs": [
    {
     "name": "stdout",
     "output_type": "stream",
     "text": [
      "../Data/StudyForrest/ensembles_last_CVAE/test-lin\n"
     ]
    }
   ],
   "source": [
    "ofdir_root = '../Data/StudyForrest/ensembles_last_CVAE'\n",
    "ofdir = os.path.join(ofdir_root,analysis_name)\n",
    "safe_mkdir(ofdir)\n",
    "print(ofdir)"
   ]
  },
  {
   "cell_type": "code",
   "execution_count": 48,
   "id": "3fcf1be6-049a-49c1-8e93-a5d1b6eb85a7",
   "metadata": {
    "papermill": {
     "duration": 0.053818,
     "end_time": "2025-03-19T00:09:13.926977",
     "exception": false,
     "start_time": "2025-03-19T00:09:13.873159",
     "status": "completed"
    },
    "tags": []
   },
   "outputs": [],
   "source": [
    "device = torch.device('cuda:0' if torch.cuda.is_available() else 'cpu')"
   ]
  },
  {
   "cell_type": "code",
   "execution_count": 49,
   "id": "6c65d388-1347-4bd1-9ae8-ff0b0856053e",
   "metadata": {},
   "outputs": [],
   "source": [
    "# obs_list_coords = obs_list_coords[:,np.newaxis,:]\n",
    "# noi_list_coords = noi_list_coords[:,np.newaxis,:]"
   ]
  },
  {
   "cell_type": "code",
   "execution_count": 50,
   "id": "878dac5c-85a8-4ea4-8de0-e8b511afdaa4",
   "metadata": {},
   "outputs": [],
   "source": [
    "obs_list_coords = obs_list_coords[:,0,:]\n",
    "obs_list_coords = obs_list_coords[:,np.newaxis,:]\n",
    "\n",
    "noi_list_coords = noi_list_coords[:,0,:]\n",
    "noi_list_coords = noi_list_coords[:,np.newaxis,:]"
   ]
  },
  {
   "cell_type": "code",
   "execution_count": 51,
   "id": "fc8cb4fa-60df-4f57-97fc-9a7e655c7013",
   "metadata": {},
   "outputs": [],
   "source": [
    "ffa_list_coords = ffa_list_coords[:,0,:]\n",
    "ffa_list_coords = ffa_list_coords[:,np.newaxis,:]"
   ]
  },
  {
   "cell_type": "code",
   "execution_count": 52,
   "id": "2a40302e-25cb-484d-854d-be5639a693ef",
   "metadata": {},
   "outputs": [
    {
     "name": "stdout",
     "output_type": "stream",
     "text": [
      "(41116, 1, 156)\n",
      "(41116, 1, 156)\n"
     ]
    }
   ],
   "source": [
    "print(obs_list_coords.shape)\n",
    "print(noi_list_coords.shape)"
   ]
  },
  {
   "cell_type": "code",
   "execution_count": 61,
   "id": "76b62c67-1244-444f-b770-b6ed317fa96e",
   "metadata": {
    "editable": true,
    "papermill": {
     "duration": 6697.531804,
     "end_time": "2025-03-19T02:00:51.470088",
     "exception": false,
     "start_time": "2025-03-19T00:09:13.938284",
     "status": "completed"
    },
    "slideshow": {
     "slide_type": ""
    },
    "tags": []
   },
   "outputs": [
    {
     "data": {
      "text/plain": [
       "<Figure size 432x288 with 0 Axes>"
      ]
     },
     "metadata": {},
     "output_type": "display_data"
    },
    {
     "data": {
      "text/plain": [
       "<Figure size 432x288 with 0 Axes>"
      ]
     },
     "metadata": {},
     "output_type": "display_data"
    },
    {
     "data": {
      "image/png": "[encoded data removed]",
      "text/plain": [
       "<Figure size 3240x1800 with 12 Axes>"
      ]
     },
     "metadata": {
      "needs_background": "light"
     },
     "output_type": "display_data"
    },
    {
     "name": "stderr",
     "output_type": "stream",
     "text": [
      "100%|██████████| 81/81 [00:00<00:00, 117.52it/s]\n"
     ]
    }
   ],
   "source": [
    "nrep = 20\n",
    "epoch_num = 100\n",
    "\n",
    "for rep in range(nrep):\n",
    "#    try:\n",
    "    ##### Hyperparameters\n",
    "    batch_size = 512\n",
    "    latent_dim = (8,8) # Shared,Specific\n",
    "    #latent_dim = (16,16) # Shared,Specific\n",
    "    #latent_dim = (12,4) # Shared,Specific\n",
    "    beta = 0.01       \n",
    "    gamma = 0 # TC scaling\n",
    "    delta = 0 # \"Denoised RONI should be zero\" scaling\n",
    "    scale_MSE_GM = 1e3 # Scale ROI loss \n",
    "    scale_MSE_CF = 1e3 # Scale RONI loss\n",
    "    scale_MSE_FG = 0 # \"Denoised should be similar to input\" scaling\n",
    "\n",
    "\n",
    "    # obs_list_coords = np.concatenate([obs_list[:,:,np.newaxis],np.stack([gm_coords for _ in range(nt)],axis=1)],axis=-1)\n",
    "    # noi_list_coords = np.concatenate([noi_list[:,:,np.newaxis],np.stack([cf_coords for _ in range(nt)],axis=1)],axis=-1)\n",
    "    # obs_list_coords = np.swapaxes(obs_list_coords,1,2)\n",
    "    # noi_list_coords = np.swapaxes(noi_list_coords,1,2)\n",
    "    train_inputs_coords = TrainDataset(obs_list_coords,noi_list_coords)\n",
    "    train_in_coords = torch.utils.data.DataLoader(train_inputs_coords, batch_size=batch_size,shuffle=True, num_workers=1,drop_last=True)\n",
    "\n",
    "    device = torch.device('cuda:0' if torch.cuda.is_available() else 'cpu')\n",
    "    Tensor = TypeVar('torch.tensor')\n",
    "    conf_batch = torch.tensor(np.array([conf for _ in range(batch_size)])).to(device)\n",
    "    ffa_list_coords_torch = torch.from_numpy(ffa_list_coords).float().to(device)\n",
    "    #model = cVAE(conf_batch,1,func_cf.shape[1],latent_dim, beta=beta, gamma=gamma,delta=delta,scale_MSE_GM=scale_MSE_GM,scale_MSE_CF=scale_MSE_CF,scale_MSE_FG=scale_MSE_FG,freq_exp=0,freq_scale=0,do_disentangle=True)\n",
    "    model = cVAE(1,func_cf.shape[1],8)\n",
    "\n",
    "    model.to(device)\n",
    "    optimizer = optim.AdamW(model.parameters(), lr=0.001, betas=(0.9, 0.999), eps=1e-08)\n",
    "\n",
    "    track = init_track()\n",
    "    for epoch in range(epoch_num):  # loop over the dataset multiple times    \n",
    "        model.train()\n",
    "        dataloader_iter_in = iter(train_in_coords)\n",
    "        for i in range(len(train_in_coords)):\n",
    "            optimizer.zero_grad()\n",
    "            inputs_gm,inputs_cf = next(dataloader_iter_in)\n",
    "\n",
    "            inputs_gm = inputs_gm.float().to(device)\n",
    "            inputs_cf = inputs_cf.float().to(device)\n",
    "\n",
    "            [outputs_gm, inputs_gm, tg_mu_z, tg_log_var_z, tg_mu_s, tg_log_var_s,tg_z,tg_x] = model.forward_tg(inputs_gm)\n",
    "            [outputs_cf, inputs_cf, bg_mu_s, bg_log_var_s] = model.forward_bg(inputs_cf)\n",
    "\n",
    "            #loss = model.loss_function(outputs_gm, inputs_gm, tg_mu_z, tg_log_var_z, tg_mu_s, tg_log_var_s,tg_z,tg_s, outputs_cf, inputs_cf, bg_mu_z, bg_log_var_z)\n",
    "            loss = model.loss_function(outputs_gm, inputs_gm, tg_mu_z, tg_log_var_z, tg_mu_s, tg_log_var_s,tg_z,tg_x, outputs_cf, inputs_cf, bg_mu_s, bg_log_var_s)\n",
    "\n",
    "\n",
    "            if np.isnan(loss['loss'].detach().cpu().numpy()):\n",
    "                print('loss is NaN')\n",
    "                break\n",
    "\n",
    "            loss['loss'].backward()\n",
    "            #torch.nn.utils.clip_grad_norm_(model.parameters(), max_norm=5.0)  # Prevent gradient explosion\n",
    "            optimizer.step()\n",
    "\n",
    "\n",
    "        if np.mod(epoch,10)==0:\n",
    "            model.eval()\n",
    "\n",
    "            recon = model.forward_tg(ffa_list_coords_torch)[0]\n",
    "            #recon_coords = recon.detach().cpu().numpy()[:,1::,:]\n",
    "            recon = recon.detach().cpu().numpy()[:,0,:]\n",
    "\n",
    "            signal = model.forward_fg(ffa_list_coords_torch)[0]\n",
    "            #signal_coords = signal.detach().cpu().numpy()[:,1::,:]\n",
    "            signal = signal.detach().cpu().numpy()[:,0,:]\n",
    "\n",
    "            noise = model.forward_bg(ffa_list_coords_torch)[0]\n",
    "            #noise_coords = noise.detach().cpu().numpy()[:,1::,:]\n",
    "            noise = noise.detach().cpu().numpy()[:,0,:]\n",
    "\n",
    "            #confounds_pred_z = model.decoder_confounds_z(torch.unsqueeze(tg_z,2)).detach().cpu().numpy()\n",
    "            #confounds_pred_s = model.decoder_confounds_s(torch.unsqueeze(tg_s,2)).detach().cpu().numpy()\n",
    "\n",
    "\n",
    "            SST = ((ffa_list_coords[:,0,:]-ffa_list_coords[:,0,:].mean())**2).sum()\n",
    "            SSM = ((ffa_list_coords[:,0,:]-recon)**2).sum()\n",
    "            varexp = 1-SSM/SST\n",
    "            varexp = varexp.round(2)\n",
    "\n",
    "            batch_signal = model.forward_fg(inputs_gm)[0].detach().cpu().numpy()\n",
    "            batch_noise = model.forward_bg(inputs_gm)[0].detach().cpu().numpy()\n",
    "\n",
    "            batch_in = inputs_gm.detach().cpu().numpy()\n",
    "            batch_out = outputs_gm.detach().cpu().numpy()\n",
    "\n",
    "            batch_SST = ((batch_in[:,0,:]-batch_in[:,0,:].mean(axis=0))**2).sum()\n",
    "            batch_SSM = ((batch_in[:,0,:]-batch_out[:,0,:])**2).sum()\n",
    "            batch_varexp = (1-batch_SSM/batch_SST).round(2)\n",
    "\n",
    "            c_t = np.array([np.corrcoef(ffa_list_coords[:,0,:].mean(axis=0),face_reg)[0,1],\n",
    "            np.corrcoef(recon.mean(axis=0),face_reg)[0,1],\n",
    "            np.corrcoef(signal.mean(axis=0),face_reg)[0,1],\n",
    "            np.corrcoef(noise.mean(axis=0),face_reg)[0,1],]).round(2)\n",
    "\n",
    "            c_io = np.corrcoef(ffa_list_coords[:,0,:].mean(axis=0),recon.mean(axis=0))[0,1]\n",
    "\n",
    "            l = loss['loss'].detach().cpu().numpy()\n",
    "            kld_loss = loss['KLD'].detach().cpu().numpy()\n",
    "            recons_loss_roi = loss['Reconstruction_Loss'].detach().cpu().numpy()\n",
    "            recons_loss_roni = 0 # loss['recons_loss_roni'].detach().cpu().numpy()\n",
    "            loss_recon_conf_s = 0 # loss['loss_recon_conf_s'].detach().cpu().numpy()\n",
    "            loss_recon_conf_z = 0 # loss['loss_recon_conf_z'].detach().cpu().numpy()\n",
    "            ncc_loss_tg = 0 # loss['ncc_loss_tg'].detach().cpu().numpy()\n",
    "            ncc_loss_bg = 0 # loss['ncc_loss_bg'].detach().cpu().numpy()\n",
    "            ncc_loss_conf_s = 0 # loss['ncc_loss_conf_s'].detach().cpu().numpy()\n",
    "            ncc_loss_conf_z = 0 #loss['ncc_loss_conf_z'].detach().cpu().numpy()\n",
    "            smoothness_loss = 0 # loss['smoothness_loss'].detach().cpu().numpy()\n",
    "            recons_loss_fg = 0 # loss['recons_loss_fg'].detach().cpu().numpy()\n",
    "\n",
    "\n",
    "            elapsed = str(now()-t0).split('.')[0]\n",
    "            #print(f'T:{elapsed} E:{epoch:03d} Vb:{batch_varexp:.2f} Vf:{varexp:.2f} c_io:{c_io:.2f} FFA-reg:{c_t[0]:.2f} TG-reg:{c_t[1]:.2f} FG-reg:{c_t[2]:.2f} BG-reg:{c_t[3]:.2f} Loss:{l:.2f} ROI:{recons_loss_roi:.2f} RONI:{recons_loss_roni:.2f} KL:{kld_loss:.2f} mse_conf_z:{loss_recon_conf_z:.2f} mse_conf_s:{loss_recon_conf_s:.2f} ncc_tg:{ncc_loss_tg:.2f} ncc_bg:{ncc_loss_bg:.2f} ncc_conf_s:{ncc_loss_conf_s:.2f} ncc_conf_z:{ncc_loss_conf_z:.2f} smooth:{smoothness_loss:.2f} delta:{recons_loss_fg:.2f}')\n",
    "\n",
    "\n",
    "            track['r_ffa_reg'].append(c_t[0])\n",
    "            track['r_TG_reg'].append(c_t[1])\n",
    "            track['r_FG_reg'].append(c_t[2])\n",
    "            track['r_BG_reg'].append(c_t[3])\n",
    "            track['varexp'].append(varexp)\n",
    "            track['batch_varexp'].append(varexp)\n",
    "            track['ffa_io'].append(float(c_io))\n",
    "            track['l'].append(float(l))\n",
    "            track['kld_loss'].append(float(kld_loss))\n",
    "            track['recons_loss_roi'].append(float(recons_loss_roi))\n",
    "            track['recons_loss_roni'].append(float(recons_loss_roni))\n",
    "            track['loss_recon_conf_s'].append(float(loss_recon_conf_s))\n",
    "            track['loss_recon_conf_z'].append(float(loss_recon_conf_z))\n",
    "            track['ncc_loss_tg'].append(float(ncc_loss_tg))\n",
    "            track['ncc_loss_bg'].append(float(ncc_loss_bg))\n",
    "            track['ncc_loss_conf_s'].append(float(ncc_loss_conf_s))\n",
    "            track['ncc_loss_conf_z'].append(float(ncc_loss_conf_z))\n",
    "            track['smoothness_loss'].append(float(smoothness_loss))\n",
    "            track['recons_loss_fg'].append(float(recons_loss_fg))\n",
    "\n",
    "#             track['tg_mu_z'].append( tg_mu_z.detach().cpu().numpy()[0,0] )\n",
    "#             track['tg_log_var_z'].append( tg_log_var_z.detach().cpu().numpy()[0,0] )\n",
    "#             track['tg_mu_s'].append( tg_mu_s.detach().cpu().numpy()[0,0] )\n",
    "#             track['tg_log_var_s'].append( tg_log_var_s.detach().cpu().numpy()[0,0] )\n",
    "#             track['tg_z'].append( tg_z.detach().cpu().numpy()[0,0] )\n",
    "#             track['tg_s'].append( tg_s.detach().cpu().numpy()[0,0] )\n",
    "#             track['bg_log_var_z'].append( bg_log_var_z.detach().cpu().numpy()[0,0] )\n",
    "#             track['bg_mu_z'].append( bg_mu_z.detach().cpu().numpy()[0,0] )\n",
    "\n",
    "            if len(track['r_ffa_reg'])>5:\n",
    "                track['r_ffa_reg'] = track['r_ffa_reg'][1::]\n",
    "                track['r_TG_reg'] = track['r_TG_reg'][1::]\n",
    "                track['r_FG_reg'] = track['r_FG_reg'][1::]\n",
    "                track['r_BG_reg'] = track['r_BG_reg'][1::]\n",
    "                track['varexp'] = track['varexp'][1::]\n",
    "                track['batch_varexp'] = track['batch_varexp'][1::]\n",
    "                track['ffa_io'] = track['ffa_io'][1::]\n",
    "                track['l'] = track['l'][1::]\n",
    "                track['kld_loss'] = track['kld_loss'][1::]\n",
    "                track['recons_loss_roi'] = track['recons_loss_roi'][1::]\n",
    "                track['recons_loss_roni'] = track['recons_loss_roni'][1::]\n",
    "                track['loss_recon_conf_s'] = track['loss_recon_conf_s'][1::]\n",
    "                track['loss_recon_conf_z'] = track['loss_recon_conf_z'][1::]\n",
    "                track['ncc_loss_tg'] = track['ncc_loss_tg'][1::]\n",
    "                track['ncc_loss_bg'] = track['ncc_loss_bg'][1::]\n",
    "                track['ncc_loss_conf_s'] = track['ncc_loss_conf_s'][1::]\n",
    "                track['ncc_loss_conf_z'] = track['ncc_loss_conf_z'][1::]\n",
    "                track['smoothness_loss'] = track['smoothness_loss'][1::]\n",
    "                track['recons_loss_fg'] = track['recons_loss_fg'][1::]\n",
    "#                 track['tg_mu_z'] = track['tg_mu_z'][1::]\n",
    "#                 track['tg_log_var_z'] = track['tg_log_var_z'][1::]\n",
    "#                 track['tg_mu_s'] = track['tg_mu_s'][1::]\n",
    "#                 track['tg_log_var_s'] = track['tg_log_var_s'][1::]\n",
    "#                 track['tg_z'] = track['tg_z'][1::]\n",
    "#                 track['tg_s'] = track['tg_s'][1::]\n",
    "#                 track['bg_log_var_z'] = track['bg_log_var_z'][1::]\n",
    "#                 track['bg_mu_z'] = track['bg_mu_z'][1::]\n",
    "\n",
    "            show_bashboard()\n",
    "\n",
    "    outputs = {\n",
    "        'recon' : recon,\n",
    "        #'recon_coords' : recon_coords,\n",
    "        'signal' : signal,\n",
    "        'noise' : noise,\n",
    "        'ffa' : ffa_list_coords[:,0,:],\n",
    "        #'ffa_coords' : ffa_list_coords[:,1::,:],\n",
    "        'ffa_compcorr' : ffa_compcorr,\n",
    "    'face_reg' : face_reg,\n",
    "    'place_reg' : place_reg,\n",
    "    'confounds' : conf}\n",
    "\n",
    "\n",
    "    outputs_ofn = os.path.join(ofdir,f'outputs_S{s}_R{r}_rep_{rep}.pickle')\n",
    "    track_ofn = os.path.join(ofdir,f'track_S{s}_R{r}_rep_{rep}.pickle')\n",
    "    model_ofn = os.path.join(ofdir,f'model_S{s}_R{r}_rep_{rep}.pickle')\n",
    "\n",
    "    with open(track_ofn, 'wb') as handle:\n",
    "        pickle.dump(track, handle, protocol=pickle.HIGHEST_PROTOCOL)\n",
    "\n",
    "    with open(outputs_ofn, 'wb') as handle:\n",
    "        pickle.dump(outputs, handle, protocol=pickle.HIGHEST_PROTOCOL)\n",
    "\n",
    "    torch.save({\n",
    "        'model_state_dict': model.state_dict(),\n",
    "        'optimizer_state_dict': optimizer.state_dict(),\n",
    "        'epoch': epoch,\n",
    "        'loss': loss, \n",
    "    }, model_ofn)\n",
    "\n",
    "    model.eval()\n",
    "    train_in_coords = torch.utils.data.DataLoader(train_inputs_coords, batch_size=batch_size,shuffle=False, num_workers=1,drop_last=False)\n",
    "    dataloader_iter_in = iter(train_in_coords)\n",
    "    brain_signals=[]\n",
    "    for i in tqdm(range(len(dataloader_iter_in))):\n",
    "        inputs_gm,inputs_cf = next(dataloader_iter_in)\n",
    "        inputs_gm = inputs_gm.float().to(device)\n",
    "        inputs_cf = inputs_cf.float().to(device)\n",
    "        brain_signals.append(model.forward_fg(inputs_gm)[0].detach().cpu().numpy()[:,0,:])\n",
    "\n",
    "    brain_signals_arr = np.zeros(epi_flat.shape)\n",
    "    #brain_signals_arr[gm_flat==1,:][std0_gm==False,:] = np.vstack(brain_signals)\n",
    "    #brain_signals_arr[gm_flat==1,:] = np.vstack(brain_signals)\n",
    "    brain_signals_arr[(gm_flat==1) * (epi_flat.std(axis=1)>1e-3),:] = np.vstack(brain_signals)\n",
    "    brain_signals_arr = brain_signals_arr.reshape(epi.shape)\n",
    "    brain_signals_arr = epi.new_image_like(brain_signals_arr)\n",
    "\n",
    "    signal_ofn = os.path.join(ofdir,f'signal_S{s}_R{r}_rep_{rep}.nii.gz')\n",
    "    brain_signals_arr.to_filename(signal_ofn)        \n",
    "#     except:\n",
    "#         pass"
   ]
  },
  {
   "cell_type": "code",
   "execution_count": 56,
   "id": "2656ca1c-0a32-479c-b526-04bba5ccd28e",
   "metadata": {},
   "outputs": [
    {
     "data": {
      "text/plain": [
       "{'loss': tensor(1.2925, device='cuda:0', grad_fn=<MeanBackward0>),\n",
       " 'Reconstruction_Loss': tensor(1.2906, device='cuda:0'),\n",
       " 'KLD': tensor(188.7211, device='cuda:0')}"
      ]
     },
     "execution_count": 56,
     "metadata": {},
     "output_type": "execute_result"
    }
   ],
   "source": [
    "loss"
   ]
  },
  {
   "cell_type": "code",
   "execution_count": null,
   "id": "6478e184-755f-464b-829e-367c7a17669a",
   "metadata": {
    "papermill": {
     "duration": 0.028553,
     "end_time": "2025-03-19T02:00:51.521155",
     "exception": false,
     "start_time": "2025-03-19T02:00:51.492602",
     "status": "completed"
    },
    "tags": []
   },
   "outputs": [],
   "source": [
    "output_files = [os.path.join(ofdir,val) for val in os.listdir(ofdir) if val.startswith(f'outputs_S{s}_R{r}_') ]\n",
    "track_files = [os.path.join(ofdir,val) for val in os.listdir(ofdir) if val.startswith(f'track_S{s}_R{r}_') ]\n",
    "\n",
    "output_files.sort()\n",
    "track_files.sort()\n",
    "print(f'{len(output_files)}/{len(track_files)}')"
   ]
  },
  {
   "cell_type": "code",
   "execution_count": null,
   "id": "66db93e6-ea08-46c4-8f09-9ede91aa1099",
   "metadata": {
    "papermill": {
     "duration": 0.025057,
     "end_time": "2025-03-19T02:00:51.566039",
     "exception": false,
     "start_time": "2025-03-19T02:00:51.540982",
     "status": "completed"
    },
    "tags": []
   },
   "outputs": [],
   "source": [
    "def load_pickle(fn):\n",
    "    if os.path.exists(fn):\n",
    "        with open(fn, 'rb') as file:\n",
    "            loaded_dict = pickle.load(file)\n",
    "    return loaded_dict"
   ]
  },
  {
   "cell_type": "code",
   "execution_count": null,
   "id": "44682eb4-9df5-4502-a507-075932d9e6ac",
   "metadata": {
    "papermill": {
     "duration": 0.038727,
     "end_time": "2025-03-19T02:00:51.624550",
     "exception": false,
     "start_time": "2025-03-19T02:00:51.585823",
     "status": "completed"
    },
    "tags": []
   },
   "outputs": [],
   "source": [
    "outputs = [load_pickle(output_file) for output_file in output_files]\n",
    "tracks = [load_pickle(track_file) for track_file in track_files]"
   ]
  },
  {
   "cell_type": "code",
   "execution_count": null,
   "id": "004d4146-abda-44a7-923d-897c1ccc95e1",
   "metadata": {
    "papermill": {
     "duration": 0.025323,
     "end_time": "2025-03-19T02:00:51.670159",
     "exception": false,
     "start_time": "2025-03-19T02:00:51.644836",
     "status": "completed"
    },
    "tags": []
   },
   "outputs": [],
   "source": [
    "signals = np.array([output['signal'].mean(axis=0) for output in outputs])"
   ]
  },
  {
   "cell_type": "code",
   "execution_count": null,
   "id": "ad5dc296-fbd4-4afb-b76b-895bbfb4a135",
   "metadata": {
    "papermill": {
     "duration": 0.026762,
     "end_time": "2025-03-19T02:00:51.717096",
     "exception": false,
     "start_time": "2025-03-19T02:00:51.690334",
     "status": "completed"
    },
    "tags": []
   },
   "outputs": [],
   "source": [
    "signals = np.array([output['signal'] for output in outputs])\n",
    "#signals = signals.mean(axis=1)\n",
    "signals = np.median(signals,axis=1)"
   ]
  },
  {
   "cell_type": "code",
   "execution_count": null,
   "id": "130ef6fc-fd0d-4eda-aa82-8e062b399c33",
   "metadata": {
    "papermill": {
     "duration": 0.025001,
     "end_time": "2025-03-19T02:00:51.761825",
     "exception": false,
     "start_time": "2025-03-19T02:00:51.736824",
     "status": "completed"
    },
    "tags": []
   },
   "outputs": [],
   "source": [
    "signal_avg = np.average(signals,axis=0)\n",
    "signal_med = np.median(signals,axis=0)\n",
    "#signal_gmm = get_stable_estimate(signals,n=10)"
   ]
  },
  {
   "cell_type": "code",
   "execution_count": null,
   "id": "862e35ca-6a95-49c2-95d7-e7ad032e8670",
   "metadata": {
    "papermill": {
     "duration": 0.026089,
     "end_time": "2025-03-19T02:00:51.807924",
     "exception": false,
     "start_time": "2025-03-19T02:00:51.781835",
     "status": "completed"
    },
    "tags": []
   },
   "outputs": [],
   "source": [
    "r_ffa = np.corrcoef(ffa_list_coords[:,0,:].mean(axis=0),face_reg)[0,1]\n",
    "r_compcor = np.corrcoef(ffa_compcorr.mean(axis=0),face_reg)[0,1]\n",
    "r_fg_med = np.corrcoef(signal_med,face_reg)[0,1]"
   ]
  },
  {
   "cell_type": "code",
   "execution_count": null,
   "id": "e07c90e1-88ef-4a0f-b941-b36c775cb068",
   "metadata": {
    "papermill": {
     "duration": 0.026232,
     "end_time": "2025-03-19T02:00:51.854049",
     "exception": false,
     "start_time": "2025-03-19T02:00:51.827817",
     "status": "completed"
    },
    "tags": []
   },
   "outputs": [],
   "source": [
    "print(r_ffa.round(2))\n",
    "print(r_compcor.round(2))\n",
    "print(r_fg_med.round(2))"
   ]
  },
  {
   "cell_type": "code",
   "execution_count": null,
   "id": "9e66c9b7-7f58-4a55-a60f-4ba360cabdfb",
   "metadata": {
    "papermill": {
     "duration": 0.107401,
     "end_time": "2025-03-19T02:00:51.981394",
     "exception": false,
     "start_time": "2025-03-19T02:00:51.873993",
     "status": "completed"
    },
    "tags": []
   },
   "outputs": [],
   "source": [
    "xs = [0,1,2]\n",
    "ys = np.array([r_ffa,r_compcor,r_fg_med])\n",
    "ys = ys-ys[0]\n",
    "plt.bar(xs,ys)\n",
    "plt.xticks(xs,labels=['preproc','compcor','fg med']);\n",
    "plt.title('Improvement')"
   ]
  },
  {
   "cell_type": "code",
   "execution_count": null,
   "id": "22fd898d-42b0-4cde-bc6c-8e0400bdf908",
   "metadata": {
    "papermill": {
     "duration": 0.474841,
     "end_time": "2025-03-19T02:00:52.477040",
     "exception": false,
     "start_time": "2025-03-19T02:00:52.002199",
     "status": "completed"
    },
    "tags": []
   },
   "outputs": [],
   "source": [
    "plt.figure(figsize=(15,5))\n",
    "\n",
    "plt.subplot(1,3,1)\n",
    "plt.plot(ffa_list_coords[:,0,:].mean(axis=0),'k-')\n",
    "plt.plot(signal_med,'g-')\n",
    "plt.plot(face_reg,'y-')\n",
    "\n",
    "plt.subplot(1,3,2)\n",
    "#plt.plot(ffa_list_coords[:,0,:].mean(axis=0),'k-')\n",
    "plt.plot(signals.transpose(),alpha=.3)\n",
    "plt.plot(face_reg)"
   ]
  },
  {
   "cell_type": "code",
   "execution_count": null,
   "id": "3f43fb59-4f77-4170-a894-68dbdf178e65",
   "metadata": {
    "papermill": {
     "duration": 3.883416,
     "end_time": "2025-03-19T02:00:58.311460",
     "exception": false,
     "start_time": "2025-03-19T02:00:54.428044",
     "status": "completed"
    },
    "tags": []
   },
   "outputs": [],
   "source": [
    "import warnings\n",
    "warnings.filterwarnings(\"ignore\")\n",
    "plt.figure(figsize=(5*9,5*5))\n",
    "for track in tracks:\n",
    "    show_bashboard(single_fig=False)"
   ]
  },
  {
   "cell_type": "code",
   "execution_count": null,
   "id": "72df8136-134d-42ca-be37-cc7c0b3968c1",
   "metadata": {
    "papermill": {
     "duration": 0.039153,
     "end_time": "2025-03-19T02:01:00.285373",
     "exception": false,
     "start_time": "2025-03-19T02:01:00.246220",
     "status": "completed"
    },
    "tags": []
   },
   "outputs": [],
   "source": []
  },
  {
   "cell_type": "code",
   "execution_count": null,
   "id": "c03b3740-25e7-48dd-a93d-f03787c9d8d4",
   "metadata": {
    "papermill": {
     "duration": 0.038555,
     "end_time": "2025-03-19T02:01:00.362720",
     "exception": false,
     "start_time": "2025-03-19T02:01:00.324165",
     "status": "completed"
    },
    "tags": []
   },
   "outputs": [],
   "source": []
  },
  {
   "cell_type": "code",
   "execution_count": null,
   "id": "bba7fc89-0214-4562-b945-9d48b6ddca47",
   "metadata": {
    "papermill": {
     "duration": 0.038355,
     "end_time": "2025-03-19T02:01:00.439762",
     "exception": false,
     "start_time": "2025-03-19T02:01:00.401407",
     "status": "completed"
    },
    "tags": []
   },
   "outputs": [],
   "source": []
  },
  {
   "cell_type": "code",
   "execution_count": null,
   "id": "d376028c-c774-439a-bfed-9b60b8faff34",
   "metadata": {
    "papermill": {
     "duration": 0.038567,
     "end_time": "2025-03-19T02:01:00.516795",
     "exception": false,
     "start_time": "2025-03-19T02:01:00.478228",
     "status": "completed"
    },
    "tags": []
   },
   "outputs": [],
   "source": []
  },
  {
   "cell_type": "code",
   "execution_count": null,
   "id": "e85ba757-7c8f-4d93-8a04-7d4ddb45b203",
   "metadata": {
    "papermill": {
     "duration": 0.038678,
     "end_time": "2025-03-19T02:01:00.594187",
     "exception": false,
     "start_time": "2025-03-19T02:01:00.555509",
     "status": "completed"
    },
    "tags": []
   },
   "outputs": [],
   "source": []
  },
  {
   "cell_type": "code",
   "execution_count": null,
   "id": "8f84dcef-0d06-46c0-b419-4af3e8e15c91",
   "metadata": {
    "papermill": {
     "duration": 0.038743,
     "end_time": "2025-03-19T02:01:00.671329",
     "exception": false,
     "start_time": "2025-03-19T02:01:00.632586",
     "status": "completed"
    },
    "tags": []
   },
   "outputs": [],
   "source": []
  }
 ],
 "metadata": {
  "kernelspec": {
   "display_name": "Python 3",
   "language": "python",
   "name": "python3"
  },
  "language_info": {
   "codemirror_mode": {
    "name": "ipython",
    "version": 3
   },
   "file_extension": ".py",
   "mimetype": "text/x-python",
   "name": "python",
   "nbconvert_exporter": "python",
   "pygments_lexer": "ipython3",
   "version": "3.8.8"
  },
  "papermill": {
   "default_parameters": {},
   "duration": 6720.122024,
   "end_time": "2025-03-19T02:01:02.153230",
   "environment_variables": {},
   "exception": null,
   "input_path": "078-DeepCorr-Forrest-ForStefano-10-2.ipynb",
   "output_path": "../Data/StudyForrest/ensembles_last_CVAE/linear-v3-gpuv100/CVAE-S1-R2.ipynb",
   "parameters": {
    "analysis_name": "linear-v3-gpuv100",
    "r": 2,
    "s": 1
   },
   "start_time": "2025-03-19T00:09:02.031206",
   "version": "2.3.3"
  }
 },
 "nbformat": 4,
 "nbformat_minor": 5
}
