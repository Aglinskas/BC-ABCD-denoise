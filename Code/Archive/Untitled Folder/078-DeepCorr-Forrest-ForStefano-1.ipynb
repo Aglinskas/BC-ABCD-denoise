{
 "cells": [
  {
   "cell_type": "code",
   "execution_count": 1,
   "id": "f401cba9-4ce5-4bb3-9e5d-2beb67f5abc4",
   "metadata": {
    "editable": true,
    "slideshow": {
     "slide_type": ""
    },
    "tags": []
   },
   "outputs": [
    {
     "name": "stdout",
     "output_type": "stream",
     "text": [
      "Thu Jan  2 22:20:13 EST 2025\n"
     ]
    }
   ],
   "source": [
    "!date"
   ]
  },
  {
   "cell_type": "code",
   "execution_count": 2,
   "id": "171edcbd-41f7-485c-9329-642a52c3bdba",
   "metadata": {
    "editable": true,
    "slideshow": {
     "slide_type": ""
    },
    "tags": []
   },
   "outputs": [
    {
     "data": {
      "text/plain": [
       "'/mmfs1/data/aglinska/BC-ABCD-denoise/Code'"
      ]
     },
     "execution_count": 2,
     "metadata": {},
     "output_type": "execute_result"
    }
   ],
   "source": [
    "pwd"
   ]
  },
  {
   "cell_type": "code",
   "execution_count": 3,
   "id": "f5c27599-5e49-40cb-8abb-0d0646fcc954",
   "metadata": {
    "editable": true,
    "slideshow": {
     "slide_type": ""
    },
    "tags": []
   },
   "outputs": [
    {
     "name": "stdout",
     "output_type": "stream",
     "text": [
      "CPU times: user 963 ms, sys: 312 ms, total: 1.28 s\n",
      "Wall time: 24.7 s\n"
     ]
    }
   ],
   "source": [
    "%%time\n",
    "import nibabel as nib\n",
    "import os\n",
    "import numpy as np\n",
    "import matplotlib.pyplot as plt\n",
    "import nibabel.processing as nibp\n",
    "from scipy import signal\n",
    "from itertools import combinations_with_replacement\n",
    "from numpy import savetxt\n",
    "import nibabel as nib\n",
    "import math\n",
    "from numpy import random\n",
    "import sklearn.preprocessing  \n",
    "import matplotlib.pyplot as plt \n",
    "from sklearn.metrics import mean_squared_error\n",
    "import torch\n",
    "from torch import nn\n",
    "from torch.nn import functional as F\n",
    "from torch import Tensor\n",
    "from typing import List, Callable, Union, Any, TypeVar, Tuple\n",
    "import torch.optim as optim\n",
    "from sklearn.decomposition import PCA\n",
    "from sklearn import linear_model"
   ]
  },
  {
   "cell_type": "code",
   "execution_count": 4,
   "id": "a71565e9-01ee-4251-b418-4be1cbf3a665",
   "metadata": {
    "editable": true,
    "slideshow": {
     "slide_type": ""
    },
    "tags": []
   },
   "outputs": [
    {
     "name": "stderr",
     "output_type": "stream",
     "text": [
      "/data/aglinska/anaconda3/lib/python3.8/site-packages/statsmodels/tsa/base/tsa_model.py:7: FutureWarning: pandas.Int64Index is deprecated and will be removed from pandas in a future version. Use pandas.Index with the appropriate dtype instead.\n",
      "  from pandas import (to_datetime, Int64Index, DatetimeIndex, Period,\n",
      "/data/aglinska/anaconda3/lib/python3.8/site-packages/statsmodels/tsa/base/tsa_model.py:7: FutureWarning: pandas.Float64Index is deprecated and will be removed from pandas in a future version. Use pandas.Index with the appropriate dtype instead.\n",
      "  from pandas import (to_datetime, Int64Index, DatetimeIndex, Period,\n",
      "/data/aglinska/anaconda3/lib/python3.8/site-packages/paramiko/transport.py:219: CryptographyDeprecationWarning: Blowfish has been deprecated\n",
      "  \"class\": algorithms.Blowfish,\n"
     ]
    },
    {
     "name": "stdout",
     "output_type": "stream",
     "text": [
      "CPU times: user 1.01 s, sys: 535 ms, total: 1.55 s\n",
      "Wall time: 25.5 s\n"
     ]
    }
   ],
   "source": [
    "%%time\n",
    "import ants\n",
    "from tqdm import tqdm\n",
    "import seaborn as sns"
   ]
  },
  {
   "cell_type": "code",
   "execution_count": 5,
   "id": "4d075fa1-0173-4cb9-9b56-6506183c275a",
   "metadata": {
    "editable": true,
    "slideshow": {
     "slide_type": ""
    },
    "tags": []
   },
   "outputs": [],
   "source": [
    "def correlation(x,y):\n",
    "  x_mean = np.repeat(x.mean(),x.shape,axis=0)\n",
    "  y_mean = np.repeat(y.mean(),y.shape,axis=0)\n",
    "  cov = (x-x_mean)*(y-y_mean)\n",
    "  r = cov.sum()/(x.std()*y.std()*x.shape[0])\n",
    "  return r\n",
    "\n",
    "def remove_std0(arr):\n",
    "    std0 = np.argwhere(np.std(arr, axis=1) == 0.0)\n",
    "    arr_o = np.delete(arr,std0 ,axis=0) \n",
    "    return arr_o\n",
    "\n",
    "def compute_in(x):\n",
    "  return (x-3)/2+1\n",
    "\n",
    "def compute_in_size(x):\n",
    "  for i in range(4):\n",
    "    x = compute_in(x)\n",
    "  return x\n",
    "\n",
    "def compute_out_size(x):\n",
    "  return ((((x*2+1)*2+1)*2+1)*2+1)\n",
    "\n",
    "def compute_padding(x):\n",
    "  rounding = np.ceil(compute_in_size(x))-compute_in_size(x)\n",
    "  y = ((((rounding*2)*2)*2)*2)\n",
    "  pad = bin(int(y)).replace('0b', '')\n",
    "  if len(pad) < 4:\n",
    "      for i in range(4-len(pad)):\n",
    "          pad = '0' + pad\n",
    "  final_size = compute_in_size(x+y)\n",
    "  pad_out = bin(int(compute_out_size(final_size)-x)).replace('0b','')\n",
    "  if len(pad_out) < 4:\n",
    "      for i in range(4-len(pad_out)):\n",
    "          pad_out = '0' + pad_out\n",
    "  return pad,final_size, pad_out"
   ]
  },
  {
   "cell_type": "code",
   "execution_count": 6,
   "id": "4cccba97-24ea-48cd-a494-b618855d2325",
   "metadata": {
    "jupyter": {
     "source_hidden": true
    }
   },
   "outputs": [],
   "source": [
    "def correlate_columns(arr1, arr2):\n",
    "    \"\"\"\n",
    "    Computes the Pearson correlation between corresponding columns of two matrices.\n",
    "    \n",
    "    Parameters:\n",
    "    arr1 (np.ndarray): First matrix of shape (370, 1000)\n",
    "    arr2 (np.ndarray): Second matrix of shape (370, 1000)\n",
    "    \n",
    "    Returns:\n",
    "    np.ndarray: 1D array of correlations for each column (size 1000)\n",
    "    \"\"\"\n",
    "    # Ensure input arrays are numpy arrays\n",
    "    arr1 = np.asarray(arr1)\n",
    "    arr2 = np.asarray(arr2)\n",
    "    \n",
    "    # Subtract the mean of each column (normalize)\n",
    "    arr1_centered = arr1 - np.mean(arr1, axis=0)\n",
    "    arr2_centered = arr2 - np.mean(arr2, axis=0)\n",
    "    \n",
    "    # Compute the numerator (covariance)\n",
    "    numerator = np.sum(arr1_centered * arr2_centered, axis=0)\n",
    "    \n",
    "    # Compute the denominator (product of standard deviations)\n",
    "    denominator = np.sqrt(np.sum(arr1_centered**2, axis=0) * np.sum(arr2_centered**2, axis=0))\n",
    "    \n",
    "    # Compute the Pearson correlation for each column\n",
    "    correlation = numerator / denominator\n",
    "    \n",
    "    return correlation\n",
    "\n",
    "def make_RDM(inVec,data_scale='ratio',metric='euclidean'):\n",
    "    from scipy.spatial.distance import pdist\n",
    "    from scipy.spatial.distance import squareform\n",
    "    vec = inVec\n",
    "    vec = (vec - min(vec.flatten())) / (max(vec.flatten())-min(vec.flatten()))\n",
    "    \n",
    "    if np.ndim(inVec)==1: # must be at least 2D\n",
    "        vec = np.vstack((vec,np.zeros(vec.shape))).transpose()\n",
    "                   \n",
    "    mat = squareform(pdist(vec,metric=metric).transpose())\n",
    "    if data_scale=='ordinal':\n",
    "        mat[mat!=0]=1 # Make into zeros and ones\n",
    "        \n",
    "    return mat\n",
    "\n",
    "def get_triu(inMat):\n",
    "    assert np.ndim(inMat)==2, 'not 2 dim, wtf'\n",
    "    assert inMat.shape[0]==inMat.shape[1], 'not a square'\n",
    "\n",
    "    n = inMat.shape[0]\n",
    "    triu_vec = inMat[np.triu_indices(n=n,k=1)]\n",
    "    return triu_vec"
   ]
  },
  {
   "cell_type": "code",
   "execution_count": 7,
   "id": "20541543-a7cf-4d45-b5d5-84472eabeaab",
   "metadata": {},
   "outputs": [],
   "source": [
    "def safe_mkdir(path):\n",
    "    import os\n",
    "    if not os.path.exists(path):\n",
    "        os.mkdir(path)"
   ]
  },
  {
   "cell_type": "code",
   "execution_count": 8,
   "id": "edcbb311-765b-4782-859c-f6835e41e588",
   "metadata": {
    "editable": true,
    "slideshow": {
     "slide_type": ""
    },
    "tags": []
   },
   "outputs": [],
   "source": [
    "class Scaler():\n",
    "    def __init__(self,inputs):\n",
    "        self.data = inputs\n",
    "        self.mean = np.mean(inputs,axis=1)\n",
    "        self.std = np.std(inputs, axis=1)\n",
    "        self.vox, self.time = inputs.shape\n",
    "    def transform(self,inputs):\n",
    "        self.mean = np.reshape(self.mean,(self.vox,1))\n",
    "        self.m_large = np.repeat(self.mean,self.time,axis=1)\n",
    "        self.std = np.reshape(self.std,(self.vox,1))\n",
    "        self.s_large = np.repeat(self.std,self.time,axis=1)\n",
    "        return np.divide(inputs-self.m_large,self.s_large)\n",
    "    def inverse_transform(self,outputs):\n",
    "        return np.multiply(outputs,self.s_large)+self.m_large"
   ]
  },
  {
   "cell_type": "code",
   "execution_count": 9,
   "id": "0378982c-487e-44af-b7cb-649f9c8c5002",
   "metadata": {},
   "outputs": [],
   "source": [
    "# Alternative Scaler that Normalized between zero and 1\n",
    "# class Scaler():\n",
    "#     def __init__(self,inputs):\n",
    "#         self.data = inputs\n",
    "#         self.data_min = self.data.min(axis=1)[:,np.newaxis]\n",
    "#         self.data_max = self.data.max(axis=1)[:,np.newaxis]\n",
    "#         self.vox, self.time = inputs.shape\n",
    "#         #assert self.time==370, f'wrong shape data.shape={self.data.shape}'\n",
    "    \n",
    "#     def transform(self,inputs):\n",
    "#         data_normed = (inputs-self.data_min) / (self.data_max - self.data_min)\n",
    "#         return data_normed\n",
    "    \n",
    "#     def inverse_transform(self,outputs):\n",
    "#         data_inv = outputs * (self.data_max-self.data_min) + self.data_min\n",
    "#         return data_inv"
   ]
  },
  {
   "cell_type": "code",
   "execution_count": 10,
   "id": "cceed706-cf6a-43b2-b10d-ff4fdd3785fc",
   "metadata": {
    "editable": true,
    "slideshow": {
     "slide_type": ""
    },
    "tags": []
   },
   "outputs": [],
   "source": [
    "class TrainDataset(torch.utils.data.Dataset):\n",
    "  'Characterizes a dataset for PyTorch'\n",
    "  def __init__(self, X, Y):\n",
    "    self.obs = X\n",
    "    self.noi = Y\n",
    "\n",
    "  def __len__(self):\n",
    "    return min(self.obs.shape[0],self.noi.shape[0])\n",
    "\n",
    "  def __getitem__(self, index):\n",
    "    observation = self.obs[index]\n",
    "    noise = self.noi[index]\n",
    "    s = 2*random.beta(4,4,1)\n",
    "    noise_aug = s*noise\n",
    "    return observation, noise_aug\n",
    "    #return observation, noise\n",
    "\n",
    "class DenoiseDataset(torch.utils.data.Dataset):\n",
    "  'Characterizes a dataset for PyTorch'\n",
    "  def __init__(self, X):\n",
    "    self.obs = X\n",
    "    \n",
    "  def __len__(self):\n",
    "    return self.obs.shape[0]\n",
    "\n",
    "  def __getitem__(self, index):\n",
    "    observation = self.obs[index]\n",
    "    return observation"
   ]
  },
  {
   "cell_type": "code",
   "execution_count": 11,
   "id": "5134891e-03af-409c-a9f4-6170b879297a",
   "metadata": {},
   "outputs": [],
   "source": [
    "class Discriminator(nn.Module):\n",
    "    def __init__(self, input_dim, hidden_dims=[16,8]):\n",
    "        super(Discriminator, self).__init__()\n",
    "        layers = []\n",
    "        prev_dim = input_dim\n",
    "        for h_dim in hidden_dims:\n",
    "            layers.append(nn.Linear(prev_dim, h_dim))\n",
    "            layers.append(nn.LeakyReLU(0.2))\n",
    "            layers.append(nn.Dropout(.2))\n",
    "            prev_dim = h_dim\n",
    "        layers.append(nn.Linear(prev_dim, 1))\n",
    "        self.model = nn.Sequential(*layers)\n",
    "\n",
    "    def forward(self, x):\n",
    "        return self.model(x)"
   ]
  },
  {
   "cell_type": "code",
   "execution_count": 12,
   "id": "e0bde785-88d7-4bf5-9a2a-02bfad85a08f",
   "metadata": {
    "editable": true,
    "slideshow": {
     "slide_type": ""
    },
    "tags": []
   },
   "outputs": [],
   "source": [
    "class cVAE(nn.Module):\n",
    "\n",
    "    def __init__(self,in_channels: int,in_dim: int, latent_dim: tuple,hidden_dims: List = None, beta : float = 1, gamma : float = 1, delta : float = 1, scale_MSE_GM : float = 1, scale_MSE_CF : float = 1, scale_MSE_FG : float = 1,do_disentangle = True, disentangle_type : int = 0) -> None:\n",
    "        super(cVAE, self).__init__()\n",
    "\n",
    "        self.latent_dim = latent_dim\n",
    "        self.latent_dim_z = self.latent_dim[0]\n",
    "        self.latent_dim_s = self.latent_dim[1]\n",
    "        self.in_channels = in_channels\n",
    "        self.in_dim = in_dim\n",
    "        self.beta = beta\n",
    "        self.gamma = gamma\n",
    "        self.delta = delta\n",
    "        self.scale_MSE_GM = scale_MSE_GM\n",
    "        self.scale_MSE_CF = scale_MSE_CF\n",
    "        self.do_disentangle = do_disentangle\n",
    "        self.scale_MSE_FG = scale_MSE_FG\n",
    "        self.disentangle_type = disentangle_type\n",
    "\n",
    "        modules_z = []\n",
    "        if hidden_dims is None:\n",
    "            hidden_dims = [64, 128, 256, 256]\n",
    "        \n",
    "        self.pad, self.final_size, self.pad_out = compute_padding(self.in_dim)\n",
    "\n",
    "        # Build Encoder\n",
    "        for i in range(len(hidden_dims)):\n",
    "            h_dim = hidden_dims[i]\n",
    "            modules_z.append(\n",
    "                nn.Sequential(\n",
    "                    nn.Conv1d(in_channels, out_channels=h_dim,\n",
    "                              kernel_size= 3, stride= 2, padding  = int(self.pad[-i-1])),\n",
    "                    nn.BatchNorm1d(h_dim),\n",
    "                    nn.LeakyReLU()\n",
    "                    )\n",
    "            )\n",
    "            in_channels = h_dim\n",
    "\n",
    "        self.encoder_z = nn.Sequential(*modules_z)\n",
    "        self.fc_mu_z = nn.Linear(hidden_dims[-1]*int(self.final_size), self.latent_dim_z)\n",
    "        self.fc_var_z = nn.Linear(hidden_dims[-1]*int(self.final_size), self.latent_dim_z)\n",
    "\n",
    "        modules_s = []\n",
    "        in_channels = self.in_channels\n",
    "        for i in range(len(hidden_dims)):\n",
    "            h_dim = hidden_dims[i]\n",
    "            modules_s.append(\n",
    "                nn.Sequential(\n",
    "                    nn.Conv1d(in_channels, out_channels=h_dim,\n",
    "                              kernel_size= 3, stride= 2, padding  = int(self.pad[-i-1])),\n",
    "                    nn.BatchNorm1d(h_dim),\n",
    "                    nn.LeakyReLU()\n",
    "                    )\n",
    "            )\n",
    "            in_channels = h_dim\n",
    "\n",
    "        self.encoder_s = nn.Sequential(*modules_s)\n",
    "        self.fc_mu_s = nn.Linear(hidden_dims[-1]*int(self.final_size), self.latent_dim_s)\n",
    "        self.fc_var_s = nn.Linear(hidden_dims[-1]*int(self.final_size), self.latent_dim_s)\n",
    "\n",
    "\n",
    "        # Build Decoder\n",
    "        modules = []\n",
    "\n",
    "        #self.decoder_input = nn.Linear(2*latent_dim, hidden_dims[-1] * int(self.final_size))\n",
    "        self.decoder_input = nn.Linear(self.latent_dim_s+self.latent_dim_z, hidden_dims[-1] * int(self.final_size))\n",
    "\n",
    "        hidden_dims.reverse()\n",
    "\n",
    "        for i in range(len(hidden_dims) - 1):\n",
    "            modules.append(\n",
    "                nn.Sequential(\n",
    "                    nn.ConvTranspose1d(hidden_dims[i],\n",
    "                                    hidden_dims[i + 1],\n",
    "                                    kernel_size=3,\n",
    "                                    stride = 2,\n",
    "                                    padding=int(self.pad_out[-4+i]),\n",
    "                                    output_padding=int(self.pad_out[-4+i])),\n",
    "                    nn.BatchNorm1d(hidden_dims[i + 1]),\n",
    "                    nn.LeakyReLU()\n",
    "                    )\n",
    "            )\n",
    "\n",
    "\n",
    "        self.decoder = nn.Sequential(*modules)\n",
    "\n",
    "        self.final_layer = nn.Sequential(\n",
    "                            nn.ConvTranspose1d(hidden_dims[-1],\n",
    "                                               hidden_dims[-1],\n",
    "                                               kernel_size=3,\n",
    "                                               stride=2,\n",
    "                                               padding=int(self.pad_out[-1]),\n",
    "                                               output_padding=int(self.pad_out[-1])),\n",
    "                            nn.BatchNorm1d(hidden_dims[-1]),\n",
    "                            nn.LeakyReLU(),\n",
    "                            nn.Conv1d(hidden_dims[-1], out_channels= 1,\n",
    "                                      kernel_size= 3, padding= 1))\n",
    "           #out_channels\n",
    "\n",
    "    def encode_z(self, input: Tensor) -> List[Tensor]:\n",
    "        \"\"\"\n",
    "        Encodes the input by passing through the encoder network\n",
    "        and returns the latent codes.\n",
    "        :param input: (Tensor) Input tensor to encoder [N x C x H x W]\n",
    "        :return: (Tensor) List of latent codes\n",
    "        \"\"\"\n",
    "        result = self.encoder_z(input)\n",
    "  \n",
    "        result = torch.flatten(result, start_dim=1)\n",
    "\n",
    "\n",
    "        # Split the result into mu and var components\n",
    "        # of the latent Gaussian distribution\n",
    "        mu = self.fc_mu_z(result)\n",
    "        log_var = self.fc_var_z(result)\n",
    "\n",
    "        return [mu, log_var]\n",
    "\n",
    "    def encode_s(self, input: Tensor) -> List[Tensor]:\n",
    "        \"\"\"\n",
    "        Encodes the input by passing through the encoder network\n",
    "        and returns the latent codes.\n",
    "        :param input: (Tensor) Input tensor to encoder [N x C x H x W]\n",
    "        :return: (Tensor) List of latent codes\n",
    "        \"\"\"\n",
    "        result = self.encoder_s(input)\n",
    "        result = torch.flatten(result, start_dim=1)\n",
    "\n",
    "        # Split the result into mu and var components\n",
    "        # of the latent Gaussian distribution\n",
    "        mu = self.fc_mu_s(result)\n",
    "        log_var = self.fc_var_s(result)\n",
    "\n",
    "        return [mu, log_var]\n",
    "\n",
    "    def decode(self, z: Tensor) -> Tensor:\n",
    "        \"\"\"\n",
    "        Maps the given latent codes\n",
    "        onto the image space.\n",
    "        :param z: (Tensor) [B x D]\n",
    "        :return: (Tensor) [B x C x H x W]\n",
    "        \"\"\"\n",
    "        result = self.decoder_input(z)\n",
    "        result = result.view(-1,256,int(self.final_size))\n",
    "        result = self.decoder(result)\n",
    "        result = self.final_layer(result)\n",
    "\n",
    "        return result\n",
    "\n",
    "    def reparameterize(self, mu: Tensor, logvar: Tensor) -> Tensor:\n",
    "        \"\"\"\n",
    "        Reparameterization trick to sample from N(mu, var) from\n",
    "        N(0,1).\n",
    "        :param mu: (Tensor) Mean of the latent Gaussian [B x D]\n",
    "        :param logvar: (Tensor) Standard deviation of the latent Gaussian [B x D]\n",
    "        :return: (Tensor) [B x D]\n",
    "        \"\"\"\n",
    "        std = torch.exp(0.5 * logvar)\n",
    "        eps = torch.randn_like(std)\n",
    "        return eps * std + mu\n",
    "\n",
    "    def forward_tg(self, input: Tensor) -> List[Tensor]: # ORIGINAL\n",
    "        tg_mu_z, tg_log_var_z = self.encode_z(input)\n",
    "        tg_mu_s, tg_log_var_s = self.encode_s(input)\n",
    "        tg_z = self.reparameterize(tg_mu_z, tg_log_var_z)\n",
    "        tg_s = self.reparameterize(tg_mu_s, tg_log_var_s)\n",
    "        output = self.decode(torch.cat((tg_z, tg_s),1))\n",
    "        return  [output, input, tg_mu_z, tg_log_var_z, tg_mu_s, tg_log_var_s,tg_z,tg_s]\n",
    "\n",
    "    def forward_fg(self, input: Tensor) -> List[Tensor]:\n",
    "        tg_mu_s, tg_log_var_s = self.encode_s(input)\n",
    "        tg_s = self.reparameterize(tg_mu_s, tg_log_var_s)\n",
    "        zeros = torch.zeros(tg_s.shape[0],self.latent_dim_z)\n",
    "        zeros = zeros.to(device)\n",
    "        output = self.decode(torch.cat((zeros, tg_s),1))\n",
    "        return  [output, input, tg_mu_s, tg_log_var_s]\n",
    "\n",
    "    def forward_bg(self, input: Tensor) -> List[Tensor]:\n",
    "        bg_mu_z, bg_log_var_z = self.encode_z(input)\n",
    "        bg_z = self.reparameterize(bg_mu_z, bg_log_var_z)\n",
    "        #zeros = torch.zeros_like(bg_z)\n",
    "        zeros = torch.zeros(bg_z.shape[0],self.latent_dim_s)\n",
    "        zeros = zeros.to(device)\n",
    "        output = self.decode(torch.cat((bg_z, zeros),1))\n",
    "        return  [output, input, bg_mu_z, bg_log_var_z]\n",
    "        \n",
    "\n",
    "    def loss_function(self,\n",
    "                      *args,\n",
    "                      ) -> dict:\n",
    "        \"\"\"\n",
    "        Computes the VAE loss function.\n",
    "        KL(N(\\mu, \\sigma), N(0, 1)) = \\log \\frac{1}{\\sigma} + \\frac{\\sigma^2 + \\mu^2}{2} - \\frac{1}{2}\n",
    "        :param args:\n",
    "        :param kwargs:\n",
    "        :return:\n",
    "        \"\"\"\n",
    "        beta = self.beta\n",
    "        gamma = self.gamma\n",
    "        delta = self.delta\n",
    "                          \n",
    "        recons_tg = args[0]\n",
    "        input_tg = args[1]\n",
    "        tg_mu_z = args[2]\n",
    "        tg_log_var_z = args[3]\n",
    "        tg_mu_s = args[4]\n",
    "        tg_log_var_s = args[5]\n",
    "        tg_z = args[6]\n",
    "        tg_s = args[7]\n",
    "        recons_bg = args[8]\n",
    "        input_bg = args[9]\n",
    "        bg_mu_z = args[10]\n",
    "        bg_log_var_z = args[11]\n",
    "\n",
    "        recons_loss_roi = F.mse_loss(recons_tg, input_tg) * self.scale_MSE_GM / batch_size # TG reconstrction loss\n",
    "        recons_loss_roni = F.mse_loss(recons_bg, input_bg) * self.scale_MSE_CF / batch_size # BG reconstrction loss\n",
    "        recons_loss_roni += F.mse_loss(self.forward_bg(recons_tg)[0], recons_bg)*self.scale_MSE_CF/batch_size # Reconstructed BG features of TG input should look like CF\n",
    "        recons_loss = recons_loss_roi+recons_loss_roni\n",
    "\n",
    "\n",
    "        recon_fg = self.forward_fg(input_tg)[0] # Denoised signal\n",
    "        recons_loss_fg = F.mse_loss(recon_fg, input_tg)*self.scale_MSE_FG/batch_size # Regularization, denoised signal should look somewhat like the original signal\n",
    "        recons_loss_fg = F.mse_loss(torch.zeros_like(input_bg), self.forward_fg(input_bg)[0])/batch_size # Denoised version of RONI, should be all zeros\n",
    "        recons_loss_discourage = recons_loss_fg*delta\n",
    "\n",
    "        fg_volatility_loss = torch.from_numpy(np.array(0)).to(device)\n",
    "\n",
    "\n",
    "        \n",
    "        do_disentangle=self.do_disentangle\n",
    "        disentangle_type = self.disentangle_type\n",
    "                          \n",
    "        if do_disentangle==True and disentangle_type==1: # TC based on Discriminator \n",
    "\n",
    "            qz_s = torch.cat([tg_z, tg_s], dim=1)\n",
    "            # Shuffle to get factorized samples\n",
    "            z_perm = tg_z[torch.randperm(tg_z.size(0))]\n",
    "            s_perm = tg_s[torch.randperm(tg_s.size(0))]\n",
    "            qz_s_perm = torch.cat([z_perm, s_perm], dim=1)\n",
    "\n",
    "            # We only use D's outputs to compute TC term for the VAE\n",
    "            joint_logits = discriminator(qz_s)           # Joint\n",
    "            factorized_logits = discriminator(qz_s_perm) # Factorized\n",
    "            # TC estimate: (E_j[joint] - E_f[factorized])\n",
    "            # Minimizing w.r.t. VAE: encourage joint ~ factorized\n",
    "            TC_loss = (joint_logits.mean() - factorized_logits.mean())\n",
    "            total_contrastive_loss = gamma * TC_loss\n",
    "            \n",
    "            qz_s = torch.cat([tg_z, tg_s], dim=1)\n",
    "            mu = torch.cat([tg_mu_z, tg_mu_s], dim=1)\n",
    "            log_var = torch.cat([tg_log_var_z, tg_log_var_s], dim=1)\n",
    "\n",
    "        elif do_disentangle==True and disentangle_type==2: # TC based on computing the joint and marginal log-likelihoods\n",
    "            # Compute log q(z, s)\n",
    "            qz_s = torch.cat([tg_z, tg_s], dim=1)\n",
    "            log_qz_s = self._compute_log_density_gaussian(qz_s, mu, log_var)\n",
    "\n",
    "            # Compute log q(z) + log q(s)\n",
    "            # Shuffle z and s to break dependencies\n",
    "            z_perm = tg_z[torch.randperm(tg_z.size(0))]\n",
    "            s_perm = tg_s[torch.randperm(tg_s.size(0))]\n",
    "            qz_s_perm = torch.cat([z_perm, s_perm], dim=1)\n",
    "            log_qz_s_perm = self._compute_log_density_gaussian(qz_s_perm, mu, log_var)\n",
    "\n",
    "            # Total Correlation Loss\n",
    "            total_contrastive_loss = (log_qz_s - log_qz_s_perm).mean()\n",
    "            \n",
    "        elif do_disentangle==True and disentangle_type==3: # TC based on correlation between FG and BG\n",
    "            arr1 = model.forward_fg(inputs_gm)[0][:,0,:]\n",
    "            arr2 = model.forward_bg(inputs_gm)[0][:,0,:]\n",
    "            \n",
    "            arr1_centered = arr1 - arr1.mean(dim=1, keepdim=True)\n",
    "            arr2_centered = arr2 - arr2.mean(dim=1, keepdim=True)\n",
    "            \n",
    "            # Compute the numerator: covariance\n",
    "            numerator = (arr1_centered * arr2_centered).sum(dim=1)\n",
    "            \n",
    "            # Compute the denominator: product of standard deviations\n",
    "            arr1_std = arr1_centered.pow(2).sum(dim=1).sqrt()\n",
    "            arr2_std = arr2_centered.pow(2).sum(dim=1).sqrt()\n",
    "            denominator = arr1_std * arr2_std\n",
    "            \n",
    "            # Compute Pearson correlation for each row\n",
    "            row_correlations = numerator / denominator\n",
    "            \n",
    "            # Average the correlations\n",
    "            average_correlation = row_correlations.mean()\n",
    "            total_contrastive_loss = torch.abs(average_correlation)\n",
    "        else:\n",
    "            total_contrastive_loss = torch.from_numpy(np.array(0)).to(device)\n",
    "\n",
    "\n",
    "        kld_loss = torch.mean(-0.5 * torch.sum(1 + tg_log_var_z - tg_mu_z ** 2 - tg_log_var_z.exp(), dim = 1), dim = 0)\n",
    "        kld_loss += torch.mean(-0.5 * torch.sum(1 + tg_log_var_s - tg_mu_s ** 2 - tg_log_var_s.exp(), dim = 1), dim = 0)\n",
    "        kld_loss += torch.mean(-0.5 * torch.sum(1 + bg_log_var_z - bg_mu_z ** 2 - bg_log_var_z.exp(), dim = 1), dim = 0)\n",
    "        kld_loss = kld_loss/3\n",
    "        \n",
    "\n",
    "        if do_disentangle==True:\n",
    "            loss = torch.sum(recons_loss + beta*kld_loss + gamma*total_contrastive_loss + recons_loss_roi + recons_loss_roni + recons_loss_discourage + fg_volatility_loss + recons_loss_fg)\n",
    "            return {\n",
    "                'loss': loss, \n",
    "                'Reconstruction_Loss':recons_loss.detach(), \n",
    "                'KLD': kld_loss.detach()*beta, \n",
    "                'total_contrastive_loss' : total_contrastive_loss*gamma, \n",
    "                'recons_loss_roni' : recons_loss_roni.detach(), \n",
    "                'recons_loss_roi' : recons_loss_roi.detach(), \n",
    "                'recons_loss_discourage' : recons_loss_discourage.detach(), \n",
    "                'fg_volatility_loss': fg_volatility_loss.detach(), \n",
    "                'recons_loss_fg' : recons_loss_fg.detach()\n",
    "                }\n",
    "            \n",
    "        else:\n",
    "            loss = torch.sum(recons_loss + beta*kld_loss + gamma*total_contrastive_loss)\n",
    "            return {'loss': loss, 'Reconstruction_Loss':recons_loss.detach(), 'KLD': kld_loss.detach()*beta, 'total_contrastive_loss' : total_contrastive_loss.detach()*gamma, 'recons_loss_roni' : recons_loss_roni.detach(), 'recons_loss_roi' : recons_loss_roi.detach(), 'recons_loss_discourage' : recons_loss_discourage}\n",
    "\n",
    "    def generate(self, x: Tensor) -> Tensor:\n",
    "        \"\"\"\n",
    "        Given an input image x, returns the reconstructed image\n",
    "        :param x: (Tensor) [B x C x H x W]\n",
    "        :return: (Tensor) [B x C x H x W]\n",
    "        \"\"\"\n",
    "\n",
    "        return self.forward_fg(x)[0]\n",
    "\n",
    "    def _compute_log_density_gaussian(self, z, mu, log_var):\n",
    "            \"\"\"\n",
    "            Computes the log density of a Gaussian for each sample in the batch.\n",
    "            \"\"\"\n",
    "            normalization = -0.5 * (math.log(2 * math.pi) + log_var)\n",
    "            log_prob = normalization - 0.5 * ((z - mu) ** 2 / log_var.exp())\n",
    "            return log_prob.sum(dim=1)"
   ]
  },
  {
   "cell_type": "code",
   "execution_count": 13,
   "id": "dc299435-a0cb-4975-b42d-6e16f37ba4af",
   "metadata": {},
   "outputs": [],
   "source": [
    "def get_corr_w_reg():\n",
    "    # Function that tracks correlations with task regressors during training\n",
    "    ffa_batch = ffa_list[0:batch_size,:] # FFA BOLD (not denoised)\n",
    "    ffa_batch = torch.tensor(ffa_batch[:,np.newaxis,:]).to(device)\n",
    "    \n",
    "    ffa_tg = model.forward_tg(ffa_batch) # Reconstruction\n",
    "    ffa_tg = ffa_tg[0].detach().cpu().numpy()[:,0,:]\n",
    "    \n",
    "    ffa_fg = model.forward_fg(ffa_batch) # Denoised\n",
    "    ffa_fg = ffa_fg[0].detach().cpu().numpy()[:,0,:]\n",
    "    \n",
    "    ffa_bg = model.forward_bg(ffa_batch) # Noise features\n",
    "    ffa_bg = ffa_bg[0].detach().cpu().numpy()[:,0,:]\n",
    "\n",
    "    # Calculate correlations with regressors\n",
    "    c_ffa_bold_facereg = np.corrcoef(ffa_list[:,:].mean(axis=0),face_reg)[0,1]\n",
    "    c_ffa_bold_placereg = np.corrcoef(ffa_list[:,:].mean(axis=0),place_reg)[0,1]\n",
    "    c_ffa_bold_diff = c_ffa_bold_facereg-c_ffa_bold_placereg\n",
    "    \n",
    "    c_tg_bold_facereg = np.corrcoef(ffa_tg[:,:].mean(axis=0),face_reg)[0,1]\n",
    "    c_tg_bold_placereg = np.corrcoef(ffa_tg[:,:].mean(axis=0),place_reg)[0,1]\n",
    "    c_tg_bold_diff = c_tg_bold_facereg-c_tg_bold_placereg\n",
    "    \n",
    "    c_fg_bold_facereg = np.corrcoef(ffa_fg[:,:].mean(axis=0),face_reg)[0,1]\n",
    "    c_fg_bold_placereg = np.corrcoef(ffa_fg[:,:].mean(axis=0),place_reg)[0,1]\n",
    "    c_fg_bold_diff = c_fg_bold_facereg-c_fg_bold_placereg\n",
    "    \n",
    "    c_bg_bold_facereg = np.corrcoef(ffa_bg[:,:].mean(axis=0),face_reg)[0,1]\n",
    "    c_bg_bold_placereg = np.corrcoef(ffa_bg[:,:].mean(axis=0),place_reg)[0,1]\n",
    "    c_bg_bold_diff = c_bg_bold_facereg-c_bg_bold_placereg\n",
    "    \n",
    "    return [c_ffa_bold_facereg,\n",
    "    c_ffa_bold_placereg,\n",
    "    c_ffa_bold_diff,\n",
    "    c_tg_bold_facereg,\n",
    "    c_tg_bold_placereg,\n",
    "    c_tg_bold_diff,\n",
    "    c_fg_bold_facereg,\n",
    "    c_fg_bold_placereg,\n",
    "    c_fg_bold_diff,\n",
    "    c_bg_bold_facereg,\n",
    "    c_bg_bold_placereg,\n",
    "    c_bg_bold_diff]"
   ]
  },
  {
   "cell_type": "code",
   "execution_count": null,
   "id": "a48e487b-3cb9-493c-ac54-c5cc1b6de9f7",
   "metadata": {},
   "outputs": [],
   "source": []
  },
  {
   "cell_type": "code",
   "execution_count": 14,
   "id": "340701ec-9779-4f4f-ba05-697e11a81419",
   "metadata": {
    "editable": true,
    "slideshow": {
     "slide_type": ""
    },
    "tags": []
   },
   "outputs": [
    {
     "name": "stdout",
     "output_type": "stream",
     "text": [
      "14/14\n"
     ]
    }
   ],
   "source": [
    "# Specify Data Paths \n",
    "indir = '../Data/StudyForrest/fmriprep/'\n",
    "subs_orig = [s for s in os.listdir(indir) if all((s.startswith('sub'),not s.endswith('.html')))]\n",
    "n_orig = len(subs_orig)\n",
    "epi_fn = os.path.join(indir,'{sub}/ses-localizer/func/{sub}_ses-localizer_task-objectcategories_run-{r}_bold_space-MNI152NLin2009cAsym_preproc.nii.gz')\n",
    "cf_fn = os.path.join(indir,'mask_roni.nii')\n",
    "gm_fn = os.path.join(indir,'mask_roi.nii')\n",
    "brain_mask = os.path.join(indir,'{sub}/ses-localizer/func/{sub}_ses-localizer_task-objectcategories_run-{r}_bold_space-MNI152NLin2009cAsym_brainmask.nii.gz')\n",
    "\n",
    "subs = [sub for sub in subs_orig if all(( \n",
    "    os.path.exists(epi_fn.format(sub=sub,r=1)),\n",
    "    os.path.exists(epi_fn.format(sub=sub,r=2)),\n",
    "    os.path.exists(cf_fn.format(sub=sub)),\n",
    "    os.path.exists(gm_fn.format(sub=sub)),\n",
    "    os.path.exists(brain_mask.format(sub=sub,r=1)),\n",
    "    ))]\n",
    "\n",
    "subs.sort()\n",
    "print(f'{len(subs)}/{len(subs_orig)}')"
   ]
  },
  {
   "cell_type": "code",
   "execution_count": 15,
   "id": "21f1eb10-472f-4ff3-9baa-b45ef3302551",
   "metadata": {
    "editable": true,
    "slideshow": {
     "slide_type": ""
    },
    "tags": [
     "parameters"
    ]
   },
   "outputs": [],
   "source": [
    "# Parameters for looping. \n",
    "s = 1 # index for subject (out of 14)\n",
    "r = 1 # index for run (out of 4)\n",
    "rep = 0 # Optional if doing multiple repetitions\n",
    "analysis_name = 'test'"
   ]
  },
  {
   "cell_type": "code",
   "execution_count": null,
   "id": "73c0392a-99f4-49dc-a39e-7097cbd9f124",
   "metadata": {},
   "outputs": [],
   "source": []
  },
  {
   "cell_type": "code",
   "execution_count": 16,
   "id": "def6a412-1a6d-470b-9db8-280ff3c8db19",
   "metadata": {
    "editable": true,
    "slideshow": {
     "slide_type": ""
    },
    "tags": []
   },
   "outputs": [
    {
     "name": "stdout",
     "output_type": "stream",
     "text": [
      "sub-02\n"
     ]
    }
   ],
   "source": [
    "s = int(s)\n",
    "r = int(r)\n",
    "\n",
    "sub = subs[s]\n",
    "print(sub)\n",
    "\n",
    "epi = ants.image_read(epi_fn.format(sub=sub,r=r)) # BOLD data\n",
    "gm = ants.image_read(gm_fn) # ROI mask\n",
    "cf = ants.image_read(cf_fn) # RONI mask\n",
    "brain = ants.image_read(brain_mask.format(sub=sub,r=r)) # Loose brain mask for after training\n",
    "\n",
    "nt = epi.shape[-1] # Number of timepoints\n",
    "ndummy = 0 # how many dummy scans to discard\n",
    "\n",
    "epi_flat = epi.numpy().reshape(-1,nt).transpose() \n",
    "epi_flat[0:ndummy,:] = epi_flat[ndummy+1::,:].mean(axis=0) # What to do with dummy scans, set to mean\n",
    "epi_flat = epi_flat.transpose()\n",
    "gm_flat = gm.numpy().flatten().astype(int) # (1082035,)\n",
    "cf_flat = cf.numpy().flatten().astype(int) # (1082035,)\n",
    "assert max(np.unique(cf_flat+gm_flat))!=2, 'overlap' # Check for overlap again"
   ]
  },
  {
   "cell_type": "code",
   "execution_count": 17,
   "id": "19e51379-614a-4b3d-bfa1-6f5565bed868",
   "metadata": {},
   "outputs": [
    {
     "data": {
      "text/plain": [
       "(9519, 44212)"
      ]
     },
     "execution_count": 17,
     "metadata": {},
     "output_type": "execute_result"
    }
   ],
   "source": [
    "(cf.numpy()==1).sum(),(gm.numpy()==1).sum()"
   ]
  },
  {
   "cell_type": "code",
   "execution_count": null,
   "id": "d8a6addd-30b7-4eac-8967-262530eed4b9",
   "metadata": {},
   "outputs": [],
   "source": []
  },
  {
   "cell_type": "code",
   "execution_count": 18,
   "id": "d3bfc0b5-2277-43af-b2a9-6a9c8c24d1f6",
   "metadata": {},
   "outputs": [],
   "source": [
    "do_censor_frames=False\n",
    "if do_censor_frames:\n",
    "    # Whether or not to censor high motion frames before running deepcor\n",
    "    # if set to true, sets high motion frames to be the mean of the other frames. \n",
    "    import pandas as pd\n",
    "    mot_fn = os.path.join(indir,f'{sub}/ses-localizer/func/{sub}_ses-localizer_task-objectcategories_run-{r}_bold_confounds.tsv')\n",
    "    mot = pd.read_csv(mot_fn,delimiter='\\t')\n",
    "    mot_outliers = mot['FramewiseDisplacement'].values>.2\n",
    "    mot_outliers = np.vstack((mot_outliers,np.hstack((False,mot_outliers[0:-1])),np.hstack((mot_outliers[1::],False)))).sum(axis=0)>0\n",
    "    outlier_idx = np.nonzero(mot_outliers)[0]\n",
    "    \n",
    "    plt.figure(figsize=(15,5))\n",
    "    plt.subplot(1,2,1)\n",
    "    plt.plot(mot['FramewiseDisplacement'].values)\n",
    "    plt.plot(mot_outliers,'r.')\n",
    "    \n",
    "    plt.subplot(1,2,2)\n",
    "    plot_vec = epi_flat[gm_flat==1,:][gm_flat.sum()//2,:]\n",
    "    outlier_idx = np.nonzero(mot_outliers)[0]\n",
    "    plt.plot(plot_vec)\n",
    "    plt.plot(outlier_idx,plot_vec[outlier_idx],'r.')\n",
    "    \n",
    "    plot_vec[mot_outliers] = plot_vec[~mot_outliers].mean()\n",
    "    plt.plot(plot_vec)\n",
    "    \n",
    "    epi_flat[:,mot_outliers] = epi_flat[:,~mot_outliers].mean(axis=1)[:,np.newaxis]\n",
    "    plt.suptitle('Frame Censoring')"
   ]
  },
  {
   "cell_type": "code",
   "execution_count": 19,
   "id": "e9085b8f-ed50-4ccb-8708-d9f576f5db26",
   "metadata": {},
   "outputs": [],
   "source": [
    "do_compcorr=False\n",
    "# Whether or not to run COMPCOR on the data, before running deepcor\n",
    "if do_compcorr==True:\n",
    "    from sklearn.decomposition import PCA\n",
    "    from sklearn import linear_model\n",
    "    \n",
    "    cf_for_compcorr = ants.image_read(os.path.join(indir,'{sub}/ses-baselineYear1Arm1/anat/analysis_mask_CF.nii').format(sub=sub,r=r))\n",
    "    cf_pcs = PCA(n_components=5).fit_transform(epi_flat[cf_for_compcorr.numpy().flatten()==1,:].transpose())\n",
    "    \n",
    "    lin_reg = linear_model.LinearRegression()\n",
    "    lin_reg.fit(cf_pcs,epi_flat[gm_flat==1,:].transpose());\n",
    "    \n",
    "    predicted = lin_reg.predict(cf_pcs)\n",
    "    residuals = epi_flat[gm_flat==1,:].transpose()-predicted\n",
    "    plt.plot(epi_flat[gm_flat==1,:].mean(axis=0)-epi_flat[gm_flat==1,:].mean(axis=0).mean())\n",
    "    epi_flat[gm_flat==1,:]=residuals.transpose()\n",
    "    plt.plot(epi_flat[gm_flat==1,:].mean(axis=0)-epi_flat[gm_flat==1,:].mean(axis=0).mean())"
   ]
  },
  {
   "cell_type": "code",
   "execution_count": 20,
   "id": "c8ac7ae8-1c4e-49df-9422-de5552f8b828",
   "metadata": {
    "editable": true,
    "slideshow": {
     "slide_type": ""
    },
    "tags": []
   },
   "outputs": [
    {
     "name": "stdout",
     "output_type": "stream",
     "text": [
      "(300300, 156)\n",
      "44212\n",
      "9519\n"
     ]
    }
   ],
   "source": [
    "print(epi_flat.shape)\n",
    "print(sum(gm_flat==1))\n",
    "print(sum(cf_flat==1))"
   ]
  },
  {
   "cell_type": "code",
   "execution_count": 21,
   "id": "a330b0b7-cfbd-4361-9bc7-5b6b3c2203cb",
   "metadata": {
    "editable": true,
    "slideshow": {
     "slide_type": ""
    },
    "tags": []
   },
   "outputs": [],
   "source": [
    "func_gm = epi_flat[gm_flat==1,:] # Data that will be used as the ROI data\n",
    "func_cf = epi_flat[cf_flat==1,:] # Data that will be used as the RONI data"
   ]
  },
  {
   "cell_type": "code",
   "execution_count": 22,
   "id": "506267da-fa1d-459e-bc48-2d3ad3b71fcb",
   "metadata": {},
   "outputs": [],
   "source": [
    "func_gm = func_gm-func_gm.mean(axis=0)\n",
    "func_cf = func_cf-func_cf.mean(axis=0)"
   ]
  },
  {
   "cell_type": "code",
   "execution_count": 23,
   "id": "f04da7e8-27e0-4cc6-8322-4e63e2589fd4",
   "metadata": {},
   "outputs": [
    {
     "data": {
      "text/plain": [
       "(63564, 156)"
      ]
     },
     "execution_count": 23,
     "metadata": {},
     "output_type": "execute_result"
    }
   ],
   "source": [
    "# Train deepcorr with strict ROI and RONI masks. But after that, apply it to the whole brain \n",
    "brain_flat = brain.numpy().flatten()>.5 \n",
    "brain_gm = epi_flat[brain_flat,:]\n",
    "brain_gm = remove_std0(brain_gm)\n",
    "brain_gm.shape"
   ]
  },
  {
   "cell_type": "code",
   "execution_count": 24,
   "id": "f747475f-c1c0-44af-8784-dc7106d43ed2",
   "metadata": {
    "editable": true,
    "slideshow": {
     "slide_type": ""
    },
    "tags": []
   },
   "outputs": [
    {
     "name": "stderr",
     "output_type": "stream",
     "text": [
      "/data/aglinska/.local/lib/python3.8/site-packages/nilearn/glm/__init__.py:55: FutureWarning:\n",
      "\n",
      "The nilearn.glm module is experimental. It may change in any future release of Nilearn.\n",
      "\n"
     ]
    },
    {
     "data": {
      "text/plain": [
       "Text(0.5, 1.0, 'ffa activity + regs\\nffa corr w/ face: 0.65\\nffa corr w/ place: -0.28')"
      ]
     },
     "execution_count": 24,
     "metadata": {},
     "output_type": "execute_result"
    },
    {
     "data": {
      "image/png": "[encoded data removed]",
      "text/plain": [
       "<Figure size 1500x500 with 1 Axes>"
      ]
     },
     "metadata": {},
     "output_type": "display_data"
    }
   ],
   "source": [
    "# Task regressors\n",
    "\n",
    "from nilearn.glm.first_level import make_first_level_design_matrix\n",
    "import pandas as pd\n",
    "\n",
    "events_fn = f'../Data/StudyForrest/events/{sub}_ses-localizer_task-objectcategories_run-{r}_events.tsv'\n",
    "events = pd.read_csv(events_fn,delimiter='\\t')\n",
    "\n",
    "t_r = 2.0 \n",
    "n_scans = epi_flat.shape[1]  # the acquisition comprises 128 scans\n",
    "frame_times = (np.arange(n_scans) * t_r)\n",
    "\n",
    "X1 = make_first_level_design_matrix(frame_times,events,drift_model=\"polynomial\",drift_order=3,hrf_model=\"SPM\") #\n",
    "\n",
    "#face_reg = X1['face'].values\n",
    "#place_reg = X1[['body', 'house', 'object', 'scene', 'scramble']].values.sum(axis=1)\n",
    "\n",
    "face_reg = X1[['face','body']].values.sum(axis=1)\n",
    "place_reg = X1[['house', 'object', 'scene', 'scramble']].values.sum(axis=1)\n",
    "\n",
    "ffa_im = ants.image_read(f'../Data/StudyForrest/ROIs/rFFA_final_mask_{sub}_bin.nii.gz')\n",
    "func_ffa = func_gm[ffa_im.numpy().flatten()[gm_flat==1]==1,:]\n",
    "ffa_scaler = Scaler(func_ffa)\n",
    "ffa_list = ffa_scaler.transform(func_ffa)\n",
    "\n",
    "plt.figure(figsize=(15,5))\n",
    "plt.plot(ffa_list[:,:].mean(axis=0))\n",
    "plt.plot(func_cf.mean(axis=0)-func_cf.mean(axis=0).mean())\n",
    "plt.plot(face_reg,alpha=.5)\n",
    "plt.plot(place_reg,alpha=.5)\n",
    "plt.title('ffa activity + regs\\n'+'ffa corr w/ face: {:.2f}\\nffa corr w/ place: {:.2f}'.format(np.corrcoef(ffa_list[:,:].mean(axis=0),face_reg)[0,1],np.corrcoef(ffa_list[:,:].mean(axis=0),place_reg)[0,1]))"
   ]
  },
  {
   "cell_type": "code",
   "execution_count": 25,
   "id": "c88f2e60-a884-48ab-8144-424ea6659948",
   "metadata": {
    "editable": true,
    "slideshow": {
     "slide_type": ""
    },
    "tags": []
   },
   "outputs": [
    {
     "data": {
      "text/plain": [
       "(0.6811797051203488, -0.28804092063973524)"
      ]
     },
     "execution_count": 25,
     "metadata": {},
     "output_type": "execute_result"
    }
   ],
   "source": [
    "# Correlation between FFA AVG and regressors before denoising\n",
    "(np.corrcoef(func_ffa.mean(axis=0),face_reg)[0,1],\n",
    "np.corrcoef(func_ffa.mean(axis=0),place_reg)[0,1],)"
   ]
  },
  {
   "cell_type": "code",
   "execution_count": 26,
   "id": "9dc801b3-cbe7-46a6-bbea-798f59744c72",
   "metadata": {},
   "outputs": [
    {
     "data": {
      "text/plain": [
       "(0.22289404028398707, -0.09696170076272337)"
      ]
     },
     "execution_count": 26,
     "metadata": {},
     "output_type": "execute_result"
    }
   ],
   "source": [
    "# Same thing, but correlate with every voxel first and then average the correlations. \n",
    "(np.array([np.corrcoef(func_ffa[v,:],face_reg)[0,1] for v in range(func_ffa.shape[0])]).mean(),\n",
    "np.array([np.corrcoef(func_ffa[v,:],place_reg)[0,1] for v in range(func_ffa.shape[0])]).mean(),)"
   ]
  },
  {
   "cell_type": "code",
   "execution_count": 27,
   "id": "4b14a512-12b1-4b43-a6b9-3d8a8eb66e6e",
   "metadata": {},
   "outputs": [],
   "source": [
    "def generate_correlated_fmri_noise(length, num_voxels, \n",
    "                                   phys_noise_level=0.1, \n",
    "                                   motion_noise_level=0.1, \n",
    "                                   drift_noise_level=0.05, \n",
    "                                   low_freq_noise_level=0.02, \n",
    "                                   correlation=0.5, \n",
    "                                   seed=None):\n",
    "    \"\"\"\n",
    "    Generates correlated fMRI noise for multiple voxels.\n",
    "    \n",
    "    Parameters:\n",
    "    length (int): Length of the time series (e.g., number of time points in the fMRI scan).\n",
    "    num_voxels (int): Number of voxels (i.e., how many correlated noise vectors you want).\n",
    "    phys_noise_level (float): Magnitude of physiological noise (e.g., respiratory and cardiac noise).\n",
    "    motion_noise_level (float): Magnitude of motion-related noise.\n",
    "    drift_noise_level (float): Magnitude of scanner drift noise (low-frequency drift).\n",
    "    low_freq_noise_level (float): Magnitude of general low-frequency noise.\n",
    "    correlation (float): Desired correlation between noise vectors (between 0 and 1).\n",
    "    seed (int, optional): Random seed for reproducibility.\n",
    "\n",
    "    Returns:\n",
    "    np.ndarray: A matrix of shape (num_voxels, length) with correlated noise for each voxel.\n",
    "    \"\"\"\n",
    "    \n",
    "    if seed is not None:\n",
    "        np.random.seed(seed)\n",
    "    \n",
    "    # Generate uncorrelated noise for each voxel\n",
    "    noise_matrix = np.zeros((num_voxels, length))\n",
    "\n",
    "    for i in tqdm(range(num_voxels)):\n",
    "        # Generate physiological noise\n",
    "        phys_noise = phys_noise_level * np.sin(np.linspace(0, 10 * np.pi, length)) * np.random.randn(length)\n",
    "        \n",
    "        # Generate motion-related noise (random spikes in signal)\n",
    "        motion_noise = np.zeros(length)\n",
    "        for _ in range(int(motion_noise_level * 10)):  # Random number of motion artifacts\n",
    "            idx = np.random.randint(0, length-5)\n",
    "            motion_noise[idx:idx+5] = np.random.randn(5) * motion_noise_level  # Add small burst of motion artifact\n",
    "        \n",
    "        # Generate low-frequency drift (scanner drift or baseline shift)\n",
    "        drift_noise = drift_noise_level * np.polyval(np.random.randn(2), np.linspace(-1, 1, length))\n",
    "        \n",
    "        # General low-frequency noise (slow oscillations)\n",
    "        low_freq_noise = low_freq_noise_level * np.sin(np.linspace(0, 2 * np.pi, length)) * np.random.randn(length)\n",
    "        \n",
    "        # Combine noise components for each voxel\n",
    "        noise_matrix[i, :] = phys_noise + motion_noise + drift_noise + low_freq_noise\n",
    "    \n",
    "    # Create a correlation matrix\n",
    "    corr_matrix = np.full((num_voxels, num_voxels), correlation) + np.eye(num_voxels) * (1 - correlation)\n",
    "    \n",
    "    # Cholesky decomposition to apply the correlation\n",
    "    cholesky_decomp = np.linalg.cholesky(corr_matrix)\n",
    "    \n",
    "    # Apply the correlation structure to the noise matrix\n",
    "    correlated_noise = np.dot(cholesky_decomp, noise_matrix)\n",
    "    \n",
    "    return correlated_noise\n",
    "\n",
    "\n",
    "\n",
    "\n",
    "\n",
    "from scipy import signal\n",
    "from scipy.stats import gamma\n",
    "\n",
    "def spm_hrf(tr, length=32, peak_delay=6, undershoot_delay=16, peak_disp=1, undershoot_disp=1, ratio=6, scale=1.0):\n",
    "    \"\"\"\n",
    "    Generates a hemodynamic response function (HRF) similar to the SPM canonical HRF.\n",
    "\n",
    "    Parameters:\n",
    "    tr (float): Repetition time (TR) of the fMRI scan (in seconds).\n",
    "    length (float): Length of the HRF (in seconds).\n",
    "    peak_delay (float): Time to the peak of the HRF (in seconds).\n",
    "    undershoot_delay (float): Time to the undershoot of the HRF (in seconds).\n",
    "    peak_disp (float): Dispersion of the peak.\n",
    "    undershoot_disp (float): Dispersion of the undershoot.\n",
    "    ratio (float): Ratio of the peak to the undershoot.\n",
    "    scale (float): Scaling factor for the HRF.\n",
    "\n",
    "    Returns:\n",
    "    np.ndarray: The HRF vector sampled at intervals of the TR.\n",
    "    \"\"\"\n",
    "    # Time points at which to evaluate the HRF\n",
    "    t = np.arange(0, length, tr)\n",
    "    \n",
    "    # Gamma function for the peak and undershoot\n",
    "    peak = gamma.pdf(t, peak_delay / peak_disp, scale=peak_disp)\n",
    "    undershoot = gamma.pdf(t, undershoot_delay / undershoot_disp, scale=undershoot_disp)\n",
    "    \n",
    "    # HRF is the sum of the peak and undershoot components\n",
    "    hrf = peak - undershoot / ratio\n",
    "    \n",
    "    # Normalize and scale the HRF\n",
    "    hrf /= np.max(hrf)\n",
    "    hrf *= scale\n",
    "    \n",
    "    return hrf\n",
    "\n",
    "def simulate_voxel_response(boxcar, tr, hrf=None):\n",
    "    \"\"\"\n",
    "    Simulates a voxel response to a task by convolving a boxcar task design with an HRF.\n",
    "    \n",
    "    Parameters:\n",
    "    boxcar (np.ndarray): A binary vector (1=task on, 0=task off) representing the task design.\n",
    "    tr (float): Repetition time (TR) of the fMRI scan (in seconds).\n",
    "    hrf (np.ndarray, optional): A custom HRF. If None, a default SPM-like HRF will be used.\n",
    "    \n",
    "    Returns:\n",
    "    np.ndarray: The simulated voxel response (BOLD signal).\n",
    "    \"\"\"\n",
    "    # If no HRF is provided, use a default SPM-like HRF\n",
    "    if hrf is None:\n",
    "        hrf = spm_hrf(tr)\n",
    "    \n",
    "    # Convolve the boxcar with the HRF to generate the voxel response\n",
    "    response = signal.convolve(boxcar, hrf)[:len(boxcar)]\n",
    "    \n",
    "    return response\n",
    "\n",
    "\n",
    "\n",
    "def get_gt():\n",
    "    # Example usage:\n",
    "    tr = .8  # Repetition time of 2 seconds\n",
    "    duration = 370  # Number of time points\n",
    "    boxcar = np.zeros(duration)\n",
    "    #ons = np.random.randint(low=0,high=300)\n",
    "    ons = np.random.choice([50,150,250])\n",
    "    boxcar[ons:ons+100] = 1  # Task \"on\" from time points 10 to 30\n",
    "    #boxcar[200:250] = 1  # Task \"on\" again from time points 50 to 70\n",
    "    \n",
    "    # Simulate voxel response\n",
    "    voxel_response = simulate_voxel_response(boxcar, tr)\n",
    "    return voxel_response\n"
   ]
  },
  {
   "cell_type": "code",
   "execution_count": 28,
   "id": "bfc48362-e6a0-4a64-b5ed-9787f8c1a87e",
   "metadata": {},
   "outputs": [],
   "source": [
    "do_synth_data = False\n",
    "# Set to True to use simulated data. \n",
    "if do_synth_data==True:\n",
    "    num_voxels = 12_500\n",
    "    noise_matrix = generate_correlated_fmri_noise(length=370, num_voxels=num_voxels, \n",
    "                                                  phys_noise_level=0.2, motion_noise_level=0.1, \n",
    "                                                  drift_noise_level=0.05, correlation=0.5, seed=42)\n",
    "    \n",
    "    \n",
    "    #gound_truth = np.array([get_gt()*.01 for _ in range(num_voxels)]) # Small effect size \n",
    "    gound_truth = np.array([get_gt()*.1 for _ in range(num_voxels)]) # Big effect size \n",
    "    \n",
    "    func_cf = noise_matrix \n",
    "    func_gm = noise_matrix+gound_truth\n",
    "    \n",
    "    func_cf = func_cf*240 # Scale it to what BOLD signal is usually at\n",
    "    func_gm = func_gm*240\n",
    "    brain_gm = func_gm\n",
    "\n",
    "    ## Induce overlap\n",
    "    func_cf[0:2_500] = func_gm[10_000:12_500,:] # Make some CF voxels contain signal\n",
    "    func_gm = func_gm[0:10_000,:] \n",
    "    func_cf = func_cf[0:10_000,:]\n",
    "    gound_truth = gound_truth[0:10_000]\n",
    "    brain_gm = func_gm "
   ]
  },
  {
   "cell_type": "code",
   "execution_count": null,
   "id": "8756cd70-1d4b-40b0-8b6f-05fc139845f9",
   "metadata": {},
   "outputs": [],
   "source": []
  },
  {
   "cell_type": "code",
   "execution_count": 29,
   "id": "81695f75-2fa0-4fa9-b0e9-4ec41a73741c",
   "metadata": {},
   "outputs": [
    {
     "data": {
      "text/plain": [
       "<matplotlib.legend.Legend at 0x15545d6955b0>"
      ]
     },
     "execution_count": 29,
     "metadata": {},
     "output_type": "execute_result"
    },
    {
     "data": {
      "image/png": "[encoded data removed]",
      "text/plain": [
       "<Figure size 2000x500 with 3 Axes>"
      ]
     },
     "metadata": {},
     "output_type": "display_data"
    }
   ],
   "source": [
    "# Plot first voxel in ROI, RONI and both\n",
    "plt.figure(figsize=(20,5))\n",
    "plt.subplot(1,3,1);plt.plot(func_gm[0,:])\n",
    "plt.subplot(1,3,2);plt.plot(func_cf[0,:])\n",
    "plt.subplot(1,3,3);plt.plot(func_gm[0,:]);plt.plot(func_cf[0,:]);plt.legend(['ROI','RONI'])"
   ]
  },
  {
   "cell_type": "code",
   "execution_count": 30,
   "id": "e0828b8a-321d-4351-b661-b8071836de3f",
   "metadata": {
    "editable": true,
    "slideshow": {
     "slide_type": ""
    },
    "tags": []
   },
   "outputs": [
    {
     "name": "stdout",
     "output_type": "stream",
     "text": [
      "(44212, 156)\n",
      "(9519, 156)\n"
     ]
    }
   ],
   "source": [
    "print(func_gm.shape)\n",
    "print(func_cf.shape)"
   ]
  },
  {
   "cell_type": "code",
   "execution_count": 31,
   "id": "4be8507d-7994-47ce-935a-43fda238877f",
   "metadata": {
    "editable": true,
    "slideshow": {
     "slide_type": ""
    },
    "tags": []
   },
   "outputs": [
    {
     "name": "stdout",
     "output_type": "stream",
     "text": [
      "(44212, 156)\n",
      "(9519, 156)\n"
     ]
    }
   ],
   "source": [
    "#Normalization of Data, remove voxels with std of 0 so it doesnt crash CVAE (from Yu Zhu's code)\n",
    "func_gm = remove_std0(func_gm)\n",
    "func_cf = remove_std0(func_cf)\n",
    "print(func_gm.shape)\n",
    "print(func_cf.shape)"
   ]
  },
  {
   "cell_type": "code",
   "execution_count": 32,
   "id": "ca6fc97e-cad2-4668-b7ed-16e0a53abd12",
   "metadata": {
    "editable": true,
    "slideshow": {
     "slide_type": ""
    },
    "tags": []
   },
   "outputs": [
    {
     "name": "stdout",
     "output_type": "stream",
     "text": [
      "(44212, 156)\n",
      "(9519, 156)\n"
     ]
    }
   ],
   "source": [
    "# Apply scaler to ROI and RONI\n",
    "obs_scale = Scaler(func_gm)\n",
    "obs_list = obs_scale.transform(func_gm)\n",
    "print(obs_list.shape)\n",
    "noi_scale = Scaler(func_cf)\n",
    "noi_list = noi_scale.transform(func_cf)\n",
    "print(noi_list.shape)"
   ]
  },
  {
   "cell_type": "code",
   "execution_count": 33,
   "id": "6e043c7e-1969-469c-9341-0c6e3205557f",
   "metadata": {},
   "outputs": [
    {
     "data": {
      "text/plain": [
       "(array([4.00000e+00, 1.90000e+01, 4.57000e+02, 6.78550e+04, 7.43081e+05,\n",
       "        6.26451e+05, 4.66660e+04, 4.05000e+02, 2.30000e+01, 3.00000e+00]),\n",
       " array([-8.702579  , -6.9408684 , -5.179158  , -3.4174483 , -1.6557382 ,\n",
       "         0.10597181,  1.8676819 ,  3.629392  ,  5.391102  ,  7.152812  ,\n",
       "         8.914522  ], dtype=float32),\n",
       " <BarContainer object of 10 artists>)"
      ]
     },
     "execution_count": 33,
     "metadata": {},
     "output_type": "execute_result"
    },
    {
     "data": {
      "image/png": "[encoded data removed]",
      "text/plain": [
       "<Figure size 1500x500 with 2 Axes>"
      ]
     },
     "metadata": {},
     "output_type": "display_data"
    }
   ],
   "source": [
    "plt.figure(figsize=(15,5))\n",
    "plt.subplot(1,2,1)\n",
    "plt.hist(obs_list.flatten())\n",
    "plt.subplot(1,2,2)\n",
    "plt.hist(noi_list.flatten())"
   ]
  },
  {
   "cell_type": "code",
   "execution_count": 34,
   "id": "0171d714-dd7e-4b62-95a8-89dee14a7f42",
   "metadata": {},
   "outputs": [],
   "source": [
    "def norm(mat):\n",
    "    return (mat - mat.min()) / ( mat.max()-mat.min() )"
   ]
  },
  {
   "cell_type": "code",
   "execution_count": 35,
   "id": "1ef798db-2218-419c-8e32-6a421619b5e6",
   "metadata": {},
   "outputs": [],
   "source": [
    "min_obs_list = obs_list.min()\n",
    "max_obs_list = obs_list.max()\n",
    "\n",
    "min_noi_list = noi_list.min()\n",
    "max_noi_list = noi_list.max()"
   ]
  },
  {
   "cell_type": "code",
   "execution_count": 36,
   "id": "92911816-37ff-4052-95de-7fe578187652",
   "metadata": {},
   "outputs": [],
   "source": [
    "do_norm = False\n",
    "# Optiomal, additionaly norm the inputs to be 0-1\n",
    "if do_norm==True:\n",
    "    obs_list = norm(obs_list)\n",
    "    noi_list = norm(noi_list)"
   ]
  },
  {
   "cell_type": "markdown",
   "id": "f3529525-b541-4afe-bd2a-4c659cb7f426",
   "metadata": {},
   "source": [
    "### DASHBOARD FUNCS"
   ]
  },
  {
   "cell_type": "code",
   "execution_count": 37,
   "id": "b4006088-905e-443f-bf02-a4013d12e84d",
   "metadata": {},
   "outputs": [],
   "source": [
    "import sys\n",
    "from IPython import display"
   ]
  },
  {
   "cell_type": "code",
   "execution_count": 38,
   "id": "27343445-a1a6-4fd7-a60e-eb4457b69c5d",
   "metadata": {},
   "outputs": [],
   "source": [
    "def plot_r_w_reg():\n",
    "    # plots correlation with regressors over time\n",
    "    corr_w_reg = np.array(track['corr_w_reg'])\n",
    "    c_ffa_bold_facereg = corr_w_reg[:,0]\n",
    "    c_ffa_bold_placereg = corr_w_reg[:,1]\n",
    "    c_ffa_bold_diff = corr_w_reg[:,2]\n",
    "    c_tg_bold_facereg = corr_w_reg[:,3]\n",
    "    c_tg_bold_placereg = corr_w_reg[:,4]\n",
    "    c_tg_bold_diff = corr_w_reg[:,5]\n",
    "    c_fg_bold_facereg = corr_w_reg[:,6]\n",
    "    c_fg_bold_placereg = corr_w_reg[:,7]\n",
    "    c_fg_bold_diff = corr_w_reg[:,8]\n",
    "    c_bg_bold_facereg = corr_w_reg[:,9]\n",
    "    c_bg_bold_placereg = corr_w_reg[:,10]\n",
    "    c_bg_bold_diff = corr_w_reg[:,11]\n",
    "    \n",
    "    plt.figure(figsize=(20,5))\n",
    "    plt.subplot(1,3,1)\n",
    "    plt.plot(c_ffa_bold_diff)\n",
    "    plt.plot(c_tg_bold_diff)\n",
    "    plt.plot(c_fg_bold_diff)\n",
    "    plt.plot(c_bg_bold_diff)\n",
    "    plt.legend(['ffa','tg','fg','bg'])\n",
    "    plt.title(f'Diff {c_fg_bold_diff[-1]:.2f}')\n",
    "    \n",
    "    plt.subplot(1,3,2)\n",
    "    plt.plot(c_ffa_bold_facereg)\n",
    "    plt.plot(c_tg_bold_facereg)\n",
    "    plt.plot(c_fg_bold_facereg)\n",
    "    plt.plot(c_bg_bold_facereg)\n",
    "    plt.legend(['ffa','tg','fg','bg'])\n",
    "    plt.title('Face Reg')\n",
    "    \n",
    "    plt.subplot(1,3,3)\n",
    "    plt.plot(c_ffa_bold_placereg)\n",
    "    plt.plot(c_tg_bold_placereg)\n",
    "    plt.plot(c_fg_bold_placereg)\n",
    "    plt.plot(c_bg_bold_placereg)\n",
    "    plt.legend(['ffa','tg','fg','bg'])\n",
    "    plt.title('Place Reg')"
   ]
  },
  {
   "cell_type": "code",
   "execution_count": 39,
   "id": "e93118fd-ca2c-4c7d-8971-1f8ee85a7519",
   "metadata": {},
   "outputs": [],
   "source": [
    "def show_voxel_recon():\n",
    "    # Shows voxel reconstructions\n",
    "    plt.figure(figsize=(15,5))\n",
    "    plt.plot( inputs_gm.detach().cpu().numpy()[:,0,:][0,:] )\n",
    "    plt.plot( outputs_gm_tg.detach().cpu().numpy()[:,0,:][0,:] )\n",
    "    plt.plot( outputs_gm_fg.detach().cpu().numpy()[:,0,:][0,:] )\n",
    "    plt.plot( outputs_gm_bg.detach().cpu().numpy()[:,0,:][0,:] )\n",
    "    plt.legend(['inputs_gm','outputs_gm_tg','outputs_gm_fg','outputs_gm_bg'])\n",
    "    plt.title('GM')\n",
    "    \n",
    "    \n",
    "    plt.figure(figsize=(15,5))\n",
    "    plt.plot( inputs_cf.detach().cpu().numpy()[:,0,:][0,:] )\n",
    "    plt.plot( outputs_cf_tg.detach().cpu().numpy()[:,0,:][0,:] )\n",
    "    plt.plot( outputs_cf_fg.detach().cpu().numpy()[:,0,:][0,:] )\n",
    "    plt.plot( outputs_cf_bg.detach().cpu().numpy()[:,0,:][0,:] )\n",
    "    plt.legend(['inputs_cf','outputs_cf_tg','outputs_cf_fg','outputs_cf_bg'])\n",
    "    plt.title('CF')\n"
   ]
  },
  {
   "cell_type": "code",
   "execution_count": 40,
   "id": "57ca2c2c-f1ad-45a3-9e19-e8bb2219ce49",
   "metadata": {},
   "outputs": [],
   "source": [
    "def show_dashboard():\n",
    "    # Dashboard plotting losses \n",
    "    \n",
    "    plt.figure(figsize=(20,10))\n",
    "    plt.subplot(3,4,1)\n",
    "    plt.plot(running_loss_L);plt.title(f'running_loss_L: {running_loss_L[-1]:.4f}')\n",
    "    \n",
    "    plt.subplot(3,4,2)\n",
    "    plt.plot(running_recons_L);plt.title(f'running_recons_L: {running_recons_L[-1]:.4f}')\n",
    "    \n",
    "    plt.subplot(3,4,3)\n",
    "    plt.plot(running_recons_roi_L);plt.title(f'running_recons_roi_L: {running_recons_roi_L[-1]:.4f}')\n",
    "    \n",
    "    plt.subplot(3,4,4)\n",
    "    plt.plot(running_recons_roni_L);plt.title(f'running_recons_roni_L: {running_recons_roni_L[-1]:.4f}')\n",
    "    \n",
    "    \n",
    "    plt.subplot(3,4,5)\n",
    "    plt.plot(running_KLD_L);plt.title(f'running_KLD_L: {running_KLD_L[-1]:.4f}')\n",
    "    \n",
    "    plt.subplot(3,4,6)\n",
    "    plt.plot(running_TC_L);plt.title(f'running_TC_L: {running_TC_L[-1]:.4f}')\n",
    "    \n",
    "    plt.subplot(3,4,7)\n",
    "    plt.plot(running_recons_discourage_L);plt.title(f'running_recons_discourage_L: {running_recons_discourage_L[-1]:.4f}')\n",
    "    \n",
    "    plt.subplot(3,4,8)\n",
    "    plt.plot(track['TG-BG-SL-RSA']);plt.title('RSA: {:.4f}'.format(track['TG-BG-SL-RSA'][-1]))\n",
    "    \n",
    "    plt.subplot(3,4,9)\n",
    "    plt.plot(running_VOL_L);plt.title(f'running_VOL_L: {running_VOL_L[-1]:.4f}')\n",
    "    \n",
    "    plt.subplot(3,4,10)\n",
    "    plt.plot(running_recons_FG_L);plt.title(f'running_recons_FG_L: {running_recons_FG_L[-1]:.4f}')\n",
    "    \n",
    "    plt.subplot(3,4,11)\n",
    "    plt.plot(running_recons_roi_L[-10::]);plt.title(f'running_recons_roi_L (last 10): {running_recons_roi_L[-1]:.4f}')\n",
    "    \n",
    "    plt.subplot(3,4,12)\n",
    "    plt.plot(track['varexp-gm'])\n",
    "    plt.plot(track['varexp-cf'])\n",
    "    plt.plot(track['varexp-fg'])\n",
    "    plt.legend(['varexp-gm','varexp-cf','varexp-fg'])\n",
    "    plt.title('var exp')\n"
   ]
  },
  {
   "cell_type": "code",
   "execution_count": 41,
   "id": "16d14c18-7f1f-4ade-82de-48ae733587b2",
   "metadata": {},
   "outputs": [],
   "source": [
    "def show_ffa_dashboard():\n",
    "    # Plots FFA, reconstructions and correlations with regressors\n",
    "    ffa_batch = ffa_list[0:batch_size,:]\n",
    "    ffa_batch = torch.tensor(ffa_batch[:,np.newaxis,:]).to(device)\n",
    "    \n",
    "    ffa_tg = model.forward_tg(ffa_batch)\n",
    "    ffa_tg = ffa_tg[0].detach().cpu().numpy()[:,0,:]\n",
    "    \n",
    "    ffa_fg = model.forward_fg(ffa_batch)\n",
    "    ffa_fg = ffa_fg[0].detach().cpu().numpy()[:,0,:]\n",
    "    \n",
    "    ffa_bg = model.forward_bg(ffa_batch)\n",
    "    ffa_bg = ffa_bg[0].detach().cpu().numpy()[:,0,:]\n",
    "    \n",
    "    plt.figure(figsize=(15,3))\n",
    "    plt.subplot(1,4,1)\n",
    "    plt.plot(ffa_list[:,:].mean(axis=0))\n",
    "    plt.plot(noi_list.mean(axis=0))\n",
    "    plt.plot(face_reg)\n",
    "    plt.plot(place_reg)\n",
    "    \n",
    "    c = np.corrcoef(ffa_list[:,:].mean(axis=0),face_reg)[0,1]\n",
    "    plt.title(f'ffa activity + regs: {c:.2f}')\n",
    "    \n",
    "    plt.subplot(1,4,2)\n",
    "    plt.plot(ffa_tg[:,:].mean(axis=0))\n",
    "    plt.plot(face_reg*ffa_tg[:,:].mean(axis=0).max(),alpha=.5)\n",
    "    #plt.plot(place_reg*ffa_tg[:,:].mean(axis=0).max())\n",
    "    c = np.corrcoef(ffa_tg[:,:].mean(axis=0),face_reg)[0,1]\n",
    "    plt.title(f'ffa TG + regs {c:.2f}')\n",
    "    \n",
    "    plt.subplot(1,4,3)\n",
    "    plt.plot(ffa_fg[:,:].mean(axis=0))\n",
    "    plt.plot(face_reg*ffa_fg[:,:].mean(axis=0).max(),alpha=.5)\n",
    "    #plt.plot(place_reg*ffa_fg[:,:].mean(axis=0).max())\n",
    "    c = np.corrcoef(ffa_fg[:,:].mean(axis=0),face_reg)[0,1]\n",
    "    plt.title(f'ffa FG + regs {c:.2f}')\n",
    "    \n",
    "    plt.subplot(1,4,4)\n",
    "    plt.plot(ffa_bg[:,:].mean(axis=0))\n",
    "    plt.plot(face_reg*ffa_bg[:,:].mean(axis=0).max(),alpha=.5)\n",
    "    #plt.plot(place_reg*ffa_bg[:,:].mean(axis=0).max())\n",
    "    c = np.corrcoef(ffa_bg[:,:].mean(axis=0),face_reg)[0,1]\n",
    "    plt.title(f'ffa BG + regs {c:.2f}')\n",
    "    plt.tight_layout()"
   ]
  },
  {
   "cell_type": "code",
   "execution_count": 42,
   "id": "548c0456-7348-463c-9aa1-610cd6f504e5",
   "metadata": {},
   "outputs": [],
   "source": [
    "contrast_vals = []\n",
    "\n",
    "def get_betas(ffa_batch):\n",
    "    # Calculates betas for different regressors\n",
    "    Y = ffa_batch\n",
    "    do_norm=True # This is important, incase DeepCor scales the signal, we dont want the betas to be artificailly inflated\n",
    "    if do_norm==True:\n",
    "        Y = Y-Y.mean(axis=1)[:,np.newaxis]\n",
    "        Y = Y/Y.std(axis=1)[:,np.newaxis]\n",
    "    Y = Y.T\n",
    "    X = X1.values # Regressor information \n",
    "    beta = np.linalg.inv(X.T @ X1) @ X1.T @ Y\n",
    "    beta = beta.T\n",
    "    return beta\n",
    "    \n",
    "def get_contrast(ffa_fg):\n",
    "    # Calculates face+body > house+scene+object+scramble\n",
    "    beta = get_betas(ffa_fg).values\n",
    "    contrast_vector = np.array([2,2,-1,-1,-1,-1,0,0,0,0])\n",
    "    contrast_values = beta @ contrast_vector\n",
    "    return contrast_values.mean()\n",
    "    \n",
    "def show_contrast_dash():\n",
    "    # Plots contrast values over time\n",
    "    ffa_batch = ffa_list[0:batch_size,:]\n",
    "    ffa_batch = torch.tensor(ffa_batch[:,np.newaxis,:]).to(device)\n",
    "    \n",
    "    ffa_tg = model.forward_tg(ffa_batch)\n",
    "    ffa_tg = ffa_tg[0].detach().cpu().numpy()[:,0,:]\n",
    "    \n",
    "    ffa_fg = model.forward_fg(ffa_batch)\n",
    "    ffa_fg = ffa_fg[0].detach().cpu().numpy()[:,0,:]\n",
    "    \n",
    "    ffa_bg = model.forward_bg(ffa_batch)\n",
    "    ffa_bg = ffa_bg[0].detach().cpu().numpy()[:,0,:]\n",
    "    \n",
    "    ffa_batch = ffa_list[0:batch_size,:]\n",
    "\n",
    "    conf_pcs = PCA(n_components=5).fit_transform(epi_flat[cf_flat==1,:].transpose())\n",
    "    conf_pcs.shape\n",
    "    \n",
    "    lin_reg = linear_model.LinearRegression()\n",
    "    lin_reg.fit(conf_pcs,ffa_batch.transpose());\n",
    "    ffa_compcorr = ffa_batch.transpose()-lin_reg.predict(conf_pcs)\n",
    "    ffa_compcorr = ffa_compcorr.transpose()\n",
    "    \n",
    "    contrast_vals.append([get_contrast(ffa_batch),\n",
    "    get_contrast(ffa_compcorr),\n",
    "    get_contrast(ffa_tg),\n",
    "    get_contrast(ffa_fg),\n",
    "    get_contrast(ffa_bg),])\n",
    "    \n",
    "    plt.figure(figsize=(15,5))\n",
    "    plt.subplot(1,2,1)\n",
    "    plt.plot(get_betas(ffa_batch).mean(axis=0),'b.',markersize=20,alpha=.5);\n",
    "    plt.plot(get_betas(ffa_compcorr).mean(axis=0),'k.',markersize=20,alpha=.5);\n",
    "    plt.plot(get_betas(ffa_tg).mean(axis=0),'y.',markersize=20,alpha=.5);\n",
    "    plt.plot(get_betas(ffa_fg).mean(axis=0),'g.',markersize=20,alpha=.5);\n",
    "    plt.plot(get_betas(ffa_bg).mean(axis=0),'r.',markersize=20,alpha=.5);\n",
    "    plt.legend(['BOLD','COMPCOR','TG','FG','BG']);\n",
    "    plt.xticks(np.arange(X1.shape[-1]),labels=list(X1.columns),rotation=45);\n",
    "    plt.title('betas')\n",
    "    \n",
    "    plt.subplot(1,2,2)\n",
    "    plt.plot(np.array(contrast_vals)[:,0],'b-')\n",
    "    plt.plot(np.array(contrast_vals)[:,1],'k-')\n",
    "    plt.plot(np.array(contrast_vals)[:,2],'y-')\n",
    "    plt.plot(np.array(contrast_vals)[:,3],'g-')\n",
    "    plt.plot(np.array(contrast_vals)[:,4],'r-')\n",
    "    plt.legend(['BOLD','COMPCOR','TG','FG','BG'],loc='lower left');\n",
    "    plt.title('Contrast')"
   ]
  },
  {
   "cell_type": "code",
   "execution_count": 43,
   "id": "298373c9-d654-4342-9021-79072408b556",
   "metadata": {},
   "outputs": [
    {
     "name": "stdout",
     "output_type": "stream",
     "text": [
      "pretraining-sub-02-R1-T-2025_01_02_22_21_09\n"
     ]
    },
    {
     "name": "stderr",
     "output_type": "stream",
     "text": [
      "  0%|                                                     | 0/5 [00:11<?, ?it/s]\n"
     ]
    },
    {
     "ename": "UnboundLocalError",
     "evalue": "local variable 'mu' referenced before assignment",
     "output_type": "error",
     "traceback": [
      "\u001b[0;31m---------------------------------------------------------------------------\u001b[0m",
      "\u001b[0;31mUnboundLocalError\u001b[0m                         Traceback (most recent call last)",
      "\u001b[0;32m/tmp/ipykernel_2949331/4250636618.py\u001b[0m in \u001b[0;36m<cell line: 12>\u001b[0;34m()\u001b[0m\n\u001b[1;32m    103\u001b[0m \u001b[0;34m\u001b[0m\u001b[0m\n\u001b[1;32m    104\u001b[0m             \u001b[0moutputs\u001b[0m \u001b[0;34m=\u001b[0m \u001b[0mtorch\u001b[0m\u001b[0;34m.\u001b[0m\u001b[0mconcat\u001b[0m\u001b[0;34m(\u001b[0m\u001b[0;34m(\u001b[0m\u001b[0moutputs_gm\u001b[0m\u001b[0;34m,\u001b[0m\u001b[0moutputs_cf\u001b[0m\u001b[0;34m)\u001b[0m\u001b[0;34m,\u001b[0m\u001b[0;36m1\u001b[0m\u001b[0;34m)\u001b[0m\u001b[0;34m\u001b[0m\u001b[0;34m\u001b[0m\u001b[0m\n\u001b[0;32m--> 105\u001b[0;31m             \u001b[0mloss\u001b[0m \u001b[0;34m=\u001b[0m \u001b[0mmodel\u001b[0m\u001b[0;34m.\u001b[0m\u001b[0mloss_function\u001b[0m\u001b[0;34m(\u001b[0m\u001b[0moutputs_gm\u001b[0m\u001b[0;34m,\u001b[0m \u001b[0minputs_gm\u001b[0m\u001b[0;34m,\u001b[0m \u001b[0mtg_mu_z\u001b[0m\u001b[0;34m,\u001b[0m \u001b[0mtg_log_var_z\u001b[0m\u001b[0;34m,\u001b[0m \u001b[0mtg_mu_s\u001b[0m\u001b[0;34m,\u001b[0m \u001b[0mtg_log_var_s\u001b[0m\u001b[0;34m,\u001b[0m\u001b[0mtg_z\u001b[0m\u001b[0;34m,\u001b[0m\u001b[0mtg_s\u001b[0m\u001b[0;34m,\u001b[0m \u001b[0moutputs_cf\u001b[0m\u001b[0;34m,\u001b[0m \u001b[0minputs_cf\u001b[0m\u001b[0;34m,\u001b[0m \u001b[0mbg_mu_z\u001b[0m\u001b[0;34m,\u001b[0m \u001b[0mbg_log_var_z\u001b[0m\u001b[0;34m)\u001b[0m\u001b[0;34m\u001b[0m\u001b[0;34m\u001b[0m\u001b[0m\n\u001b[0m\u001b[1;32m    106\u001b[0m \u001b[0;34m\u001b[0m\u001b[0m\n\u001b[1;32m    107\u001b[0m             \u001b[0;32mif\u001b[0m \u001b[0mnp\u001b[0m\u001b[0;34m.\u001b[0m\u001b[0misnan\u001b[0m\u001b[0;34m(\u001b[0m\u001b[0mloss\u001b[0m\u001b[0;34m[\u001b[0m\u001b[0;34m'loss'\u001b[0m\u001b[0;34m]\u001b[0m\u001b[0;34m.\u001b[0m\u001b[0mdetach\u001b[0m\u001b[0;34m(\u001b[0m\u001b[0;34m)\u001b[0m\u001b[0;34m.\u001b[0m\u001b[0mcpu\u001b[0m\u001b[0;34m(\u001b[0m\u001b[0;34m)\u001b[0m\u001b[0;34m.\u001b[0m\u001b[0mnumpy\u001b[0m\u001b[0;34m(\u001b[0m\u001b[0;34m)\u001b[0m\u001b[0;34m)\u001b[0m\u001b[0;34m:\u001b[0m\u001b[0;34m\u001b[0m\u001b[0;34m\u001b[0m\u001b[0m\n",
      "\u001b[0;32m/tmp/ipykernel_2949331/2000036272.py\u001b[0m in \u001b[0;36mloss_function\u001b[0;34m(self, *args)\u001b[0m\n\u001b[1;32m    254\u001b[0m             \u001b[0;31m# Compute log q(z, s)\u001b[0m\u001b[0;34m\u001b[0m\u001b[0;34m\u001b[0m\u001b[0;34m\u001b[0m\u001b[0m\n\u001b[1;32m    255\u001b[0m             \u001b[0mqz_s\u001b[0m \u001b[0;34m=\u001b[0m \u001b[0mtorch\u001b[0m\u001b[0;34m.\u001b[0m\u001b[0mcat\u001b[0m\u001b[0;34m(\u001b[0m\u001b[0;34m[\u001b[0m\u001b[0mtg_z\u001b[0m\u001b[0;34m,\u001b[0m \u001b[0mtg_s\u001b[0m\u001b[0;34m]\u001b[0m\u001b[0;34m,\u001b[0m \u001b[0mdim\u001b[0m\u001b[0;34m=\u001b[0m\u001b[0;36m1\u001b[0m\u001b[0;34m)\u001b[0m\u001b[0;34m\u001b[0m\u001b[0;34m\u001b[0m\u001b[0m\n\u001b[0;32m--> 256\u001b[0;31m             \u001b[0mlog_qz_s\u001b[0m \u001b[0;34m=\u001b[0m \u001b[0mself\u001b[0m\u001b[0;34m.\u001b[0m\u001b[0m_compute_log_density_gaussian\u001b[0m\u001b[0;34m(\u001b[0m\u001b[0mqz_s\u001b[0m\u001b[0;34m,\u001b[0m \u001b[0mmu\u001b[0m\u001b[0;34m,\u001b[0m \u001b[0mlog_var\u001b[0m\u001b[0;34m)\u001b[0m\u001b[0;34m\u001b[0m\u001b[0;34m\u001b[0m\u001b[0m\n\u001b[0m\u001b[1;32m    257\u001b[0m \u001b[0;34m\u001b[0m\u001b[0m\n\u001b[1;32m    258\u001b[0m             \u001b[0;31m# Compute log q(z) + log q(s)\u001b[0m\u001b[0;34m\u001b[0m\u001b[0;34m\u001b[0m\u001b[0;34m\u001b[0m\u001b[0m\n",
      "\u001b[0;31mUnboundLocalError\u001b[0m: local variable 'mu' referenced before assignment"
     ]
    }
   ],
   "source": [
    "# Pretraining Loop\n",
    "from datetime import datetime\n",
    "timestamp = \"{:%Y_%m_%d_%H_%M_%S}\".format(datetime.now())\n",
    "pretrain_dir = f'pretraining-{sub}-R{r}-T-{timestamp}' # pretraining dir is {sub}-{run}-{timestamp}\n",
    "print(pretrain_dir)\n",
    "safe_mkdir(os.path.join('../Data/StudyForrest/pretraining',pretrain_dir)) # Makes the directory\n",
    "\n",
    "device = torch.device('cuda:0' if torch.cuda.is_available() else 'cpu')\n",
    "\n",
    "n_repetitions = 5\n",
    "n_epochs_per_rep = 20\n",
    "for j in tqdm(np.arange(0,n_repetitions)):\n",
    "\n",
    "    # Hyperparameters\n",
    "    batch_size = 1024\n",
    "    latent_dim = (256,256) # Shared,Specific\n",
    "    beta = 0.0001       \n",
    "    gamma = 0 # TC scaling\n",
    "    delta = 100 # \"Denoised RONI should be zero\" scaling\n",
    "    scale_MSE_GM = 1e3 # Scale ROI loss \n",
    "    scale_MSE_CF = 1e4 # Scale RONI loss\n",
    "    scale_MSE_FG = 1 # \"Denoised should be similar to input\" scaling\n",
    "    disentangle_type = 2\n",
    "\n",
    "    ## Use this code to randomly sample hyperparameters during pretraining\n",
    "    # latent_dim = (256,256)\n",
    "    # gamma = 100\n",
    "    # scale_MSE_FG = 1\n",
    "    # batch_size = int(random.choice([256,512,1024]))\n",
    "    # latent_dim = random.choice([(16,16),(8,24),(24,8)])\n",
    "    # beta = random.choice([0.0001,0.00001,0.000001,0.000001])\n",
    "    # gamma = random.choice([0,0.01,0.1,0.2,0.5,1,2,5])\n",
    "    # delta = random.choice([0,1e2,2e2,5e2,1e3,2e3])\n",
    "    # scale_MSE_GM = random.choice([1e1,1e1,2e1,1e3,2e3])\n",
    "    # scale_MSE_CF = random.choice([1e1,1e1,2e1,1e3,2e3])\n",
    "    # scale_MSE_FG = random.choice([-100,-10,0,10,100])\n",
    "\n",
    "    train_inputs,train_in,model,discriminator,optimizer = [],[],[],[],[]\n",
    "    del train_inputs,train_in,model,discriminator,optimizer\n",
    "    \n",
    "    torch.cuda.empty_cache()\n",
    "    torch.cuda.init()\n",
    "    \n",
    "    # Pre-training\n",
    "    # DataLoader\n",
    "    train_inputs = TrainDataset(obs_list,noi_list)\n",
    "    \n",
    "    # dataloading \n",
    "    train_in = torch.utils.data.DataLoader(train_inputs, batch_size=batch_size,\n",
    "                                                 shuffle=True, num_workers=1,drop_last=True)\n",
    "    \n",
    "    # cVAE model\n",
    "    Tensor = TypeVar('torch.tensor')\n",
    "    \n",
    "    model = cVAE(1,func_cf.shape[1],latent_dim, beta=beta, gamma=gamma,delta=delta,scale_MSE_GM=scale_MSE_GM,scale_MSE_CF=scale_MSE_CF,scale_MSE_FG=scale_MSE_FG,do_disentangle=True,disentangle_type=2)\n",
    "    \n",
    "    #model.apply(custom_weight_init)\n",
    "    discriminator = Discriminator(sum(latent_dim))\n",
    "    model.to(device)\n",
    "    discriminator.to(device)\n",
    "    optimizer = optim.AdamW(model.parameters(), lr=0.001, betas=(0.9, 0.999), eps=1e-08)\n",
    "    optimizer_discrim = optim.AdamW(discriminator.parameters(), lr=0.001, betas=(0.9, 0.999), eps=1e-08)\n",
    "    \n",
    "    epoch_num = n_epochs_per_rep\n",
    "    for epoch in range(epoch_num):  # loop over the dataset multiple times    \n",
    "        dataloader_iter_in = iter(train_in)\n",
    "        \n",
    "        \n",
    "        for i in range(len(train_in)):\n",
    "            \n",
    "            optimizer_discrim.zero_grad()\n",
    "            optimizer.zero_grad()\n",
    "\n",
    "\n",
    "            inputs_gm,inputs_cf = next(dataloader_iter_in)\n",
    "            inputs_gm = inputs_gm.unsqueeze(1).float().to(device)\n",
    "            inputs_cf = inputs_cf.unsqueeze(1).float().to(device)\n",
    "\n",
    "            if disentangle_type==1: # Update Discriminator\n",
    "                with torch.no_grad():\n",
    "                    outputs_tg = model.forward_tg(inputs_gm)\n",
    "                    _, _, tg_mu_z, tg_log_var_z, tg_mu_s, tg_log_var_s, tg_z, tg_s = outputs_tg\n",
    "    \n",
    "                    \n",
    "                qz_s = torch.cat([tg_z.detach(), tg_s.detach()], dim=1)\n",
    "                z_perm = tg_z.detach()[torch.randperm(tg_z.size(0))]\n",
    "                s_perm = tg_s.detach()[torch.randperm(tg_s.size(0))]\n",
    "                qz_s_perm = torch.cat([z_perm, s_perm], dim=1)\n",
    "                \n",
    "                optimizer_discrim.zero_grad()\n",
    "                joint_logits = discriminator(qz_s)\n",
    "                factorized_logits = discriminator(qz_s_perm)\n",
    "                labels_joint = torch.ones_like(joint_logits)\n",
    "                labels_factorized = torch.zeros_like(factorized_logits)\n",
    "                d_loss = F.binary_cross_entropy_with_logits(joint_logits, labels_joint) + F.binary_cross_entropy_with_logits(factorized_logits, labels_factorized)\n",
    "                d_loss.backward()\n",
    "                optimizer_discrim.step()\n",
    "\n",
    "\n",
    "            ## Update CVAE\n",
    "            [outputs_gm, inputs_gm, tg_mu_z, tg_log_var_z, tg_mu_s, tg_log_var_s,tg_z,tg_s] = model.forward_tg(inputs_gm)\n",
    "            [outputs_cf, inputs_cf, bg_mu_z, bg_log_var_z] = model.forward_bg(inputs_cf)\n",
    "            \n",
    "            outputs = torch.concat((outputs_gm,outputs_cf),1)\n",
    "            loss = model.loss_function(outputs_gm, inputs_gm, tg_mu_z, tg_log_var_z, tg_mu_s, tg_log_var_s,tg_z,tg_s, outputs_cf, inputs_cf, bg_mu_z, bg_log_var_z)\n",
    " \n",
    "            if np.isnan(loss['loss'].detach().cpu().numpy()):\n",
    "                print('loss is NaN')\n",
    "                break\n",
    "\n",
    "            loss['loss'].backward()\n",
    "            optimizer.step()\n",
    "            \n",
    "    \n",
    "        if np.isnan(loss['loss'].detach().cpu().numpy()):\n",
    "                print('loss is NaN')\n",
    "                break\n",
    "    track = {}\n",
    "    track['iter'] = j\n",
    "    \n",
    "    track['batch_size'] = batch_size\n",
    "    track['latent_dim1'] = latent_dim[0]\n",
    "    track['latent_dim2'] = latent_dim[1]\n",
    "    track['beta'] = beta\n",
    "    track['gamma'] = gamma\n",
    "    track['delta'] = delta\n",
    "    track['scale_MSE_GM'] = scale_MSE_GM\n",
    "    track['scale_MSE_CF'] = scale_MSE_CF\n",
    "    track['scale_MSE_FG'] = scale_MSE_FG\n",
    "    \n",
    "    track['loss'] = loss['loss'].detach().cpu().numpy()\n",
    "    track['KLD'] = loss['KLD'].detach().cpu().numpy()\n",
    "    track['total_contrastive_loss'] = loss['total_contrastive_loss'].detach().cpu().numpy()\n",
    "    track['recons_loss_roni'] = loss['recons_loss_roni'].detach().cpu().numpy()\n",
    "    track['recons_loss_roi'] = loss['recons_loss_roi'].detach().cpu().numpy()\n",
    "    track['recons_loss_discourage'] = loss['recons_loss_discourage'].detach().cpu().numpy()\n",
    "    track['recons_loss_fg'] = loss['recons_loss_fg'].detach().cpu().numpy()\n",
    "    \n",
    "    ffa_batch = ffa_list[0:batch_size,:]\n",
    "    ffa_batch = torch.tensor(ffa_batch[:,np.newaxis,:]).to(device)\n",
    "    \n",
    "    ffa_tg = model.forward_tg(ffa_batch)\n",
    "    ffa_tg = ffa_tg[0].detach().cpu().numpy()[:,0,:]\n",
    "    \n",
    "    ffa_fg = model.forward_fg(ffa_batch)\n",
    "    ffa_fg = ffa_fg[0].detach().cpu().numpy()[:,0,:]\n",
    "    \n",
    "    ffa_bg = model.forward_bg(ffa_batch)\n",
    "    ffa_bg = ffa_bg[0].detach().cpu().numpy()[:,0,:]\n",
    "    \n",
    "    ffa_batch = ffa_batch.detach().cpu().numpy()[:,0,:]\n",
    "    \n",
    "    ffa_vec = ffa_batch.mean(axis=0)\n",
    "    ffa_bg_vec = ffa_bg.mean(axis=0)\n",
    "    ffa_tg_vec = ffa_tg.mean(axis=0)\n",
    "    ffa_fg_vec = ffa_fg.mean(axis=0)\n",
    "    \n",
    "    track['r_tg_fg'] = np.corrcoef(ffa_tg_vec,ffa_fg_vec)[0,1]\n",
    "    track['r_tg_bg'] = np.corrcoef(ffa_tg_vec,ffa_bg_vec)[0,1]\n",
    "    track['r_fg_bg'] = np.corrcoef(ffa_fg_vec,ffa_bg_vec)[0,1]\n",
    "\n",
    "    track['r_ffa_fg'] = np.corrcoef(ffa_vec,ffa_fg_vec)[0,1]\n",
    "    track['r_ffa_bg'] = np.corrcoef(ffa_vec,ffa_bg_vec)[0,1]\n",
    "    track['r_ffa_bg'] = np.corrcoef(ffa_vec,ffa_bg_vec)[0,1]\n",
    "    \n",
    "    track['corr2face_ffa'] = np.corrcoef(face_reg,ffa_vec)[0,1]\n",
    "    track['corr2face_tg'] = np.corrcoef(face_reg,ffa_tg_vec)[0,1]\n",
    "    track['corr2face_fg'] = np.corrcoef(face_reg,ffa_fg_vec)[0,1]\n",
    "    track['corr2face_bg'] = np.corrcoef(face_reg,ffa_bg_vec)[0,1]\n",
    "    \n",
    "    track['corr2place_ffa'] = np.corrcoef(place_reg,ffa_vec)[0,1]\n",
    "    track['corr2place_tg'] = np.corrcoef(place_reg,ffa_tg_vec)[0,1]\n",
    "    track['corr2place_fg'] = np.corrcoef(place_reg,ffa_fg_vec)[0,1]\n",
    "    track['corr2place_bg'] = np.corrcoef(place_reg,ffa_bg_vec)[0,1]\n",
    "    \n",
    "    track['con_face_ffa'] = get_contrast(ffa_batch)\n",
    "    track['con_face_tg'] = get_contrast(ffa_tg)\n",
    "    track['con_face_fg'] = get_contrast(ffa_fg)\n",
    "    track['con_face_bg'] = get_contrast(ffa_bg)\n",
    "    \n",
    "    SS_total = ((ffa_batch-ffa_batch.mean(axis=0))**2).sum()\n",
    "    SS_model = ((ffa_batch-ffa_tg)**2).sum()\n",
    "    track['varexp_tg'] = 1-(SS_model/SS_total)\n",
    "    \n",
    "    SS_model = ((ffa_batch-ffa_fg)**2).sum()\n",
    "    track['varexp_fg'] = 1-(SS_model/SS_total)\n",
    "    \n",
    "    SS_model = ((ffa_batch-ffa_bg)**2).sum()\n",
    "    track['varexp_bg'] = 1-(SS_model/SS_total)\n",
    "    \n",
    "    # track['input-gm-tg-corr'] = correlate_columns(inputs_gm.cpu().detach().numpy()[:,0,:].transpose(),model.forward_tg(inputs_gm)[0].cpu().detach().numpy()[:,0,:].transpose()).mean()\n",
    "    # track['input-gm-bg-corr'] = correlate_columns(inputs_gm.cpu().detach().numpy()[:,0,:].transpose(),model.forward_bg(inputs_gm)[0].cpu().detach().numpy()[:,0,:].transpose()).mean()\n",
    "    # track['input-gm-fg-corr'] = correlate_columns(inputs_gm.cpu().detach().numpy()[:,0,:].transpose(),model.forward_fg(inputs_gm)[0].cpu().detach().numpy()[:,0,:].transpose()).mean()\n",
    "    # track['input-cf-tg-corr'] = correlate_columns(inputs_cf.cpu().detach().numpy()[:,0,:].transpose(),model.forward_tg(inputs_cf)[0].cpu().detach().numpy()[:,0,:].transpose()).mean()\n",
    "    # track['input-cf-bg-corr'] = correlate_columns(inputs_cf.cpu().detach().numpy()[:,0,:].transpose(),model.forward_bg(inputs_cf)[0].cpu().detach().numpy()[:,0,:].transpose()).mean()\n",
    "    # track['input-cf-fg-corr'] = correlate_columns(inputs_cf.cpu().detach().numpy()[:,0,:].transpose(),model.forward_fg(inputs_cf)[0].cpu().detach().numpy()[:,0,:].transpose()).mean()\n",
    "    \n",
    "    # track['input-gm-tg-rsa'] = np.corrcoef(get_triu(make_RDM(inputs_gm.cpu().detach().numpy()[:,0,:],metric='correlation')),get_triu(make_RDM(model.forward_tg(inputs_gm)[0].cpu().detach().numpy()[:,0,:],metric='correlation')))[0,1]\n",
    "    # track['input-gm-bg-rsa'] = np.corrcoef(get_triu(make_RDM(inputs_gm.cpu().detach().numpy()[:,0,:],metric='correlation')),get_triu(make_RDM(model.forward_bg(inputs_gm)[0].cpu().detach().numpy()[:,0,:],metric='correlation')))[0,1]\n",
    "    # track['input-gm-fg-rsa'] = np.corrcoef(get_triu(make_RDM(inputs_gm.cpu().detach().numpy()[:,0,:],metric='correlation')),get_triu(make_RDM(model.forward_fg(inputs_gm)[0].cpu().detach().numpy()[:,0,:],metric='correlation')))[0,1]\n",
    "    # track['input-cf-tg-rsa'] = np.corrcoef(get_triu(make_RDM(inputs_cf.cpu().detach().numpy()[:,0,:],metric='correlation')),get_triu(make_RDM(model.forward_tg(inputs_cf)[0].cpu().detach().numpy()[:,0,:],metric='correlation')))[0,1]\n",
    "    # track['input-cf-bg-rsa'] = np.corrcoef(get_triu(make_RDM(inputs_cf.cpu().detach().numpy()[:,0,:],metric='correlation')),get_triu(make_RDM(model.forward_bg(inputs_cf)[0].cpu().detach().numpy()[:,0,:],metric='correlation')))[0,1]\n",
    "    # track['input-cf-fg-rsa'] = np.corrcoef(get_triu(make_RDM(inputs_cf.cpu().detach().numpy()[:,0,:],metric='correlation')),get_triu(make_RDM(model.forward_fg(inputs_cf)[0].cpu().detach().numpy()[:,0,:],metric='correlation')))[0,1]\n",
    "\n",
    "    track['corrDiff_tg_ffa'] = track['corr2face_tg']-track['corr2face_ffa']\n",
    "    track['corrDiff_fg_tg'] = track['corr2face_fg']-track['corr2face_tg']\n",
    "    \n",
    "    track['conDiff_tg_ffa'] = track['con_face_tg']-track['con_face_ffa']\n",
    "    track['conDiff_fg_tg'] = track['con_face_fg']-track['con_face_tg']\n",
    "    \n",
    "    keys = list(track.keys())\n",
    "    df = pd.DataFrame(np.array([float(track[key]) for key in keys])[np.newaxis,:],columns=keys)\n",
    "    df.to_csv(f'../Data/StudyForrest/pretraining/{pretrain_dir}/pretrain-{sub}-iter-{j}.csv')\n",
    "\n",
    "    torch.save(model.state_dict(),f'../Data/StudyForrest/pretraining/{pretrain_dir}/cvae_weights-{sub}-iter-{j}.weights')\n",
    "    torch.save(discriminator.state_dict(),f'../Data/StudyForrest/pretraining/{pretrain_dir}/discriminator_weights-{sub}-iter-{j}.weights')"
   ]
  },
  {
   "cell_type": "code",
   "execution_count": null,
   "id": "c2650b69-6a16-471e-a11f-710bf88e0ede",
   "metadata": {},
   "outputs": [],
   "source": [
    "# Gets all the pretraining files\n",
    "indir = f'../Data/StudyForrest/pretraining/{pretrain_dir}'\n",
    "files = [f for f in os.listdir(indir) if f.startswith('pretrain')]\n",
    "files.sort()"
   ]
  },
  {
   "cell_type": "code",
   "execution_count": null,
   "id": "acf984f0-893b-4f16-a01f-4894498242cd",
   "metadata": {},
   "outputs": [],
   "source": [
    "# Combine the pretraining information\n",
    "dfs = [pd.read_csv(os.path.join(indir,file)) for file in files]\n",
    "df = pd.concat(dfs)\n",
    "df.to_csv(os.path.join(indir,'group.csv'))"
   ]
  },
  {
   "cell_type": "code",
   "execution_count": null,
   "id": "171f0a09-2b8e-4daf-a008-b4e0b743c71a",
   "metadata": {},
   "outputs": [],
   "source": [
    "# Score the pretraining according to variance explained and correlation between the spaces\n",
    "pd.options.display.max_columns = None\n",
    "v1=df['varexp_tg'].values\n",
    "v2=1-abs(df['r_fg_bg'].values)\n",
    "score = np.vstack([v1,v2]).mean(axis=0)\n",
    "df['score'] = score\n",
    "df.sort_values(by='score',ascending=False)"
   ]
  },
  {
   "cell_type": "code",
   "execution_count": null,
   "id": "4d77c1e8-64ba-46f9-82f8-ad141010a1bd",
   "metadata": {},
   "outputs": [],
   "source": [
    "# pd.options.display.max_columns = None\n",
    "# v1=df['varexp_tg'].values\n",
    "# v2=1-abs(df['con_face_ffa'].values)\n",
    "# v3=df['corr2place_fg'].values\n",
    "# score = np.vstack([v1,v2]).mean(axis=0)\n",
    "# df['score'] = score\n",
    "# df.sort_values(by='score',ascending=False)"
   ]
  },
  {
   "cell_type": "code",
   "execution_count": null,
   "id": "86b65891-76c1-4cd9-8f57-ea964b013944",
   "metadata": {},
   "outputs": [],
   "source": [
    "# Sort pretraining by score and select the top one for further training\n",
    "\n",
    "pretrain_number = df.sort_values(by='score',ascending=False)['iter'].values[0]\n",
    "weights_fn_cvae = f'../Data/StudyForrest/pretraining/{pretrain_dir}/cvae_weights-{sub}-iter-{int(pretrain_number)}.weights'\n",
    "weights_fn_discrim = f'../Data/StudyForrest/pretraining/{pretrain_dir}/discriminator_weights-{sub}-iter-{int(pretrain_number)}.weights'\n",
    "\n",
    "assert os.path.exists(weights_fn_cvae)\n",
    "assert os.path.exists(weights_fn_discrim)"
   ]
  },
  {
   "cell_type": "code",
   "execution_count": null,
   "id": "1dcb87e0-2dca-4b11-8ff0-2e3cc5eda792",
   "metadata": {},
   "outputs": [],
   "source": [
    "df_sorted = df.sort_values(by='score',ascending=False)\n",
    "n = df_sorted.shape[0]"
   ]
  },
  {
   "cell_type": "code",
   "execution_count": null,
   "id": "66715d84-6126-4e89-b296-67b7d4584c24",
   "metadata": {},
   "outputs": [],
   "source": [
    "# Show pretraining values, selected one is in green\n",
    "plt.figure(figsize=(10,15))\n",
    "\n",
    "keys = ['varexp_tg',\n",
    "        'varexp_bg',\n",
    "        'varexp_fg',\n",
    "        'r_tg_fg',\n",
    "        'r_tg_bg',\n",
    "        'r_fg_bg',\n",
    "        'total_contrastive_loss',\n",
    "     'recons_loss_roni',\n",
    "     'recons_loss_roi',\n",
    "     'recons_loss_discourage',\n",
    "        'recons_loss_fg',\n",
    "        'corrDiff_tg_ffa',\n",
    " 'corrDiff_fg_tg',\n",
    " 'conDiff_tg_ffa',\n",
    " 'conDiff_fg_tg',]\n",
    "for i in range(len(keys)):\n",
    "    plt.subplot(3,5,i+1)\n",
    "    xs = np.repeat(1,n)\n",
    "    plt.plot(xs[1::],df_sorted[keys[i]].values[1::],'k.')\n",
    "    plt.plot(xs[0],df_sorted[keys[i]].values[0],'g.',markersize=20,alpha=.5)\n",
    "    plt.title(keys[i])\n",
    "\n",
    "plt.tight_layout()"
   ]
  },
  {
   "cell_type": "markdown",
   "id": "75b6f19c-a39a-4fd7-8756-a809d1c5192d",
   "metadata": {},
   "source": [
    "## INIT and RUN model"
   ]
  },
  {
   "cell_type": "code",
   "execution_count": null,
   "id": "a4791d3d-6542-43b6-afe4-9c05a61afe62",
   "metadata": {
    "editable": true,
    "slideshow": {
     "slide_type": ""
    },
    "tags": []
   },
   "outputs": [],
   "source": [
    "# batch_size = 1024\n",
    "# latent_dim = (64,64)\n",
    "# beta = 0.00001\n",
    "# gamma = 0\n",
    "# delta = 100\n",
    "# scale_MSE_GM = 1e3\n",
    "# scale_MSE_CF = 1e4\n",
    "# scale_MSE_FG = 0"
   ]
  },
  {
   "cell_type": "code",
   "execution_count": null,
   "id": "5c65903e-bfec-4cda-85f2-b1ae3948faba",
   "metadata": {
    "editable": true,
    "slideshow": {
     "slide_type": ""
    },
    "tags": []
   },
   "outputs": [],
   "source": [
    "# DataLoader\n",
    "train_inputs = TrainDataset(obs_list,noi_list)\n",
    "\n",
    "# dataloading \n",
    "train_in = torch.utils.data.DataLoader(train_inputs, batch_size=batch_size,\n",
    "                                             shuffle=True, num_workers=1,drop_last=True)\n",
    "Tensor = TypeVar('torch.tensor')\n",
    "# Init models\n",
    "model = cVAE(1,func_cf.shape[1],latent_dim, beta=beta, gamma=gamma,delta=delta,scale_MSE_GM=scale_MSE_GM,scale_MSE_CF=scale_MSE_CF,scale_MSE_FG=scale_MSE_FG,do_disentangle=True,disentangle_type=1)\n",
    "discriminator = Discriminator(sum(latent_dim))"
   ]
  },
  {
   "cell_type": "code",
   "execution_count": null,
   "id": "87477128-99eb-47f4-b467-37d396294964",
   "metadata": {
    "editable": true,
    "slideshow": {
     "slide_type": ""
    },
    "tags": []
   },
   "outputs": [],
   "source": [
    "optimizer = optim.AdamW(model.parameters(), lr=0.001, betas=(0.9, 0.999), eps=1e-08)\n",
    "optimizer_discrim = optim.AdamW(discriminator.parameters(), lr=0.001, betas=(0.9, 0.999), eps=1e-08)\n",
    "device = torch.device('cuda:0' if torch.cuda.is_available() else 'cpu')\n",
    "model.to(device)\n",
    "discriminator.to(device)\n",
    "\n",
    "epoch_num = 1_000"
   ]
  },
  {
   "cell_type": "code",
   "execution_count": null,
   "id": "ebc394f1-ffb1-4674-940e-3992b11b4558",
   "metadata": {},
   "outputs": [],
   "source": [
    "# Load the pretraining weights\n",
    "model.load_state_dict(torch.load(weights_fn_cvae, weights_only=True))\n",
    "discriminator.load_state_dict(torch.load(weights_fn_discrim, weights_only=True))"
   ]
  },
  {
   "cell_type": "code",
   "execution_count": null,
   "id": "0874f479-f0c7-4c1e-99e3-b79aa5d3456c",
   "metadata": {
    "editable": true,
    "slideshow": {
     "slide_type": ""
    },
    "tags": []
   },
   "outputs": [],
   "source": [
    "# Initialize tracking variables\n",
    "running_loss_L = []\n",
    "running_recons_L = []\n",
    "running_recons_roi_L = []\n",
    "running_recons_roni_L = []\n",
    "running_recons_FG_L = []\n",
    "running_recons_discourage_L = []\n",
    "running_KLD_L = []\n",
    "running_TC_L = []\n",
    "running_VOL_L = []\n",
    "\n",
    "track = {}\n",
    "\n",
    "track['cmat_bg'] = []\n",
    "track['cmat_cf'] = []\n",
    "\n",
    "track['synth-GM-GT-TG'] = []\n",
    "track['synth-GM-GT-FG'] = []\n",
    "track['synth-GM-GT-BG'] = []\n",
    "\n",
    "track['synth-CF-GT-TG'] = []\n",
    "track['synth-CF-GT-FG'] = []\n",
    "track['synth-CF-GT-BG'] = []\n",
    "\n",
    "track['TG-BG-SL-RSA'] = []\n",
    "track['corr_w_reg'] = []\n",
    "\n",
    "track['input-gm-tg-corr'] = []\n",
    "track['input-gm-bg-corr'] = []\n",
    "track['input-gm-fg-corr'] = []\n",
    "track['input-cf-tg-corr'] = []\n",
    "track['input-cf-bg-corr'] = []\n",
    "track['input-cf-fg-corr'] = []\n",
    "\n",
    "track['input-gm-tg-rsa'] = []\n",
    "track['input-gm-bg-rsa'] = []\n",
    "track['input-gm-fg-rsa'] = []\n",
    "track['input-cf-tg-rsa'] = []\n",
    "track['input-cf-bg-rsa'] = []\n",
    "track['input-cf-fg-rsa'] = []\n",
    "\n",
    "track['varexp-gm'] = []\n",
    "track['varexp-cf'] = []\n",
    "track['varexp-fg'] = []"
   ]
  },
  {
   "cell_type": "code",
   "execution_count": null,
   "id": "ecf19ea6-ee24-47db-b7c6-32d0692cf380",
   "metadata": {
    "editable": true,
    "slideshow": {
     "slide_type": ""
    },
    "tags": []
   },
   "outputs": [],
   "source": [
    "# MAIN TRAINING LOOP\n",
    "for epoch in tqdm(range(epoch_num)):\n",
    "    running_loss = 0.0\n",
    "    running_reconstruction_loss = 0.0\n",
    "    running_reconstruction_loss_roi = 0.0\n",
    "    running_reconstruction_loss_roni = 0.0\n",
    "    running_reconstruction_loss_FG = 0.0\n",
    "    running_reconstruction_loss_discourage = 0.0\n",
    "    running_KLD = 0.0\n",
    "    running_TC = 0.0\n",
    "    running_VOL = 0.0\n",
    "\n",
    "    track['epoch-input-gm-tg-corr'] = []\n",
    "    track['epoch-input-gm-bg-corr'] = []\n",
    "    track['epoch-input-gm-fg-corr'] = []\n",
    "    track['epoch-input-cf-tg-corr'] = []\n",
    "    track['epoch-input-cf-bg-corr'] = []\n",
    "    track['epoch-input-cf-fg-corr'] = []\n",
    "\n",
    "    track['epoch-input-gm-tg-rsa'] = []\n",
    "    track['epoch-input-gm-bg-rsa'] = []\n",
    "    track['epoch-input-gm-fg-rsa'] = []\n",
    "    track['epoch-input-cf-tg-rsa'] = []\n",
    "    track['epoch-input-cf-bg-rsa'] = []\n",
    "    track['epoch-input-cf-fg-rsa'] = []\n",
    "\n",
    "    # Iterate over data.\n",
    "    dataloader_iter_in = iter(train_in)\n",
    "    for i in range(len(train_in)):\n",
    "        inputs_gm,inputs_cf = next(dataloader_iter_in)\n",
    "\n",
    "        inputs_gm = inputs_gm.unsqueeze(1).float().to(device)\n",
    "        inputs_cf = inputs_cf.unsqueeze(1).float().to(device)\n",
    "        # zero the parameter gradients\n",
    "        optimizer.zero_grad()\n",
    "        \n",
    "        \n",
    "    # Update Discriminator\n",
    "        with torch.no_grad():\n",
    "            outputs_tg = model.forward_tg(inputs_gm)\n",
    "            _, _, tg_mu_z, tg_log_var_z, tg_mu_s, tg_log_var_s, tg_z, tg_s = outputs_tg\n",
    "\n",
    "            \n",
    "        qz_s = torch.cat([tg_z.detach(), tg_s.detach()], dim=1)\n",
    "        z_perm = tg_z.detach()[torch.randperm(tg_z.size(0))]\n",
    "        s_perm = tg_s.detach()[torch.randperm(tg_s.size(0))]\n",
    "        qz_s_perm = torch.cat([z_perm, s_perm], dim=1)\n",
    "        \n",
    "        optimizer_discrim.zero_grad()\n",
    "        joint_logits = discriminator(qz_s)\n",
    "        factorized_logits = discriminator(qz_s_perm)\n",
    "        labels_joint = torch.ones_like(joint_logits)\n",
    "        labels_factorized = torch.zeros_like(factorized_logits)\n",
    "        d_loss = F.binary_cross_entropy_with_logits(joint_logits, labels_joint) + F.binary_cross_entropy_with_logits(factorized_logits, labels_factorized)\n",
    "        d_loss.backward()\n",
    "        optimizer_discrim.step()\n",
    "\n",
    "        # encoder + decoder\n",
    "        #[outputs_gm, inputs_gm, tg_mu_z, tg_log_var_z, tg_mu_s, tg_log_var_s,tg_z,tg_x] = model.forward_tg(inputs_gm)\n",
    "        [outputs_gm, inputs_gm, tg_mu_z, tg_log_var_z, tg_mu_s, tg_log_var_s,tg_z,tg_s] = model.forward_tg(inputs_gm)\n",
    "        \n",
    "        #[outputs_cf, inputs_cf, bg_mu_s, bg_log_var_s] = model.forward_bg(inputs_cf)\n",
    "        [outputs_cf, inputs_cf, bg_mu_z, bg_log_var_z] = model.forward_bg(inputs_cf)\n",
    "        \n",
    "        outputs = torch.concat((outputs_gm,outputs_cf),1)\n",
    "        loss = model.loss_function(outputs_gm, inputs_gm, tg_mu_z, tg_log_var_z, tg_mu_s, tg_log_var_s,tg_z,tg_s, outputs_cf, inputs_cf, bg_mu_z, bg_log_var_z)\n",
    "        assert ~np.isnan(loss['loss'].detach().cpu().numpy()), print(loss) ; 'loss is NaN'\n",
    "        loss['loss'].backward()\n",
    "        optimizer.step()\n",
    "\n",
    "        \n",
    "        running_loss += loss['loss']\n",
    "        running_reconstruction_loss += loss['Reconstruction_Loss']\n",
    "        running_reconstruction_loss_roi += loss['recons_loss_roi']\n",
    "        running_reconstruction_loss_roni += loss['recons_loss_roni'] \n",
    "        running_reconstruction_loss_FG += loss['recons_loss_fg'] \n",
    "        running_reconstruction_loss_discourage += loss['recons_loss_discourage']\n",
    "        running_KLD += loss['KLD']   \n",
    "        running_TC += loss['total_contrastive_loss'].detach()  \n",
    "        running_VOL += loss['fg_volatility_loss']  \n",
    "        \n",
    "\n",
    "        track['epoch-input-gm-tg-corr'].append( correlate_columns(inputs_gm.cpu().detach().numpy()[:,0,:].transpose(),model.forward_tg(inputs_gm)[0].cpu().detach().numpy()[:,0,:].transpose()).mean() )\n",
    "        track['epoch-input-gm-bg-corr'].append( correlate_columns(inputs_gm.cpu().detach().numpy()[:,0,:].transpose(),model.forward_bg(inputs_gm)[0].cpu().detach().numpy()[:,0,:].transpose()).mean() )\n",
    "        track['epoch-input-gm-fg-corr'].append( correlate_columns(inputs_gm.cpu().detach().numpy()[:,0,:].transpose(),model.forward_fg(inputs_gm)[0].cpu().detach().numpy()[:,0,:].transpose()).mean() )\n",
    "        track['epoch-input-cf-tg-corr'].append( correlate_columns(inputs_cf.cpu().detach().numpy()[:,0,:].transpose(),model.forward_tg(inputs_cf)[0].cpu().detach().numpy()[:,0,:].transpose()).mean() )\n",
    "        track['epoch-input-cf-bg-corr'].append( correlate_columns(inputs_cf.cpu().detach().numpy()[:,0,:].transpose(),model.forward_bg(inputs_cf)[0].cpu().detach().numpy()[:,0,:].transpose()).mean() )\n",
    "        track['epoch-input-cf-fg-corr'].append( correlate_columns(inputs_cf.cpu().detach().numpy()[:,0,:].transpose(),model.forward_fg(inputs_cf)[0].cpu().detach().numpy()[:,0,:].transpose()).mean() )\n",
    "\n",
    "        track['epoch-input-gm-tg-rsa'].append( np.corrcoef(get_triu(make_RDM(inputs_gm.cpu().detach().numpy()[:,0,:],metric='correlation')),get_triu(make_RDM(model.forward_tg(inputs_gm)[0].cpu().detach().numpy()[:,0,:],metric='correlation')))[0,1] )\n",
    "        track['epoch-input-gm-bg-rsa'].append( np.corrcoef(get_triu(make_RDM(inputs_gm.cpu().detach().numpy()[:,0,:],metric='correlation')),get_triu(make_RDM(model.forward_bg(inputs_gm)[0].cpu().detach().numpy()[:,0,:],metric='correlation')))[0,1] )\n",
    "        track['epoch-input-gm-fg-rsa'].append( np.corrcoef(get_triu(make_RDM(inputs_gm.cpu().detach().numpy()[:,0,:],metric='correlation')),get_triu(make_RDM(model.forward_fg(inputs_gm)[0].cpu().detach().numpy()[:,0,:],metric='correlation')))[0,1] )\n",
    "        track['epoch-input-cf-tg-rsa'].append( np.corrcoef(get_triu(make_RDM(inputs_cf.cpu().detach().numpy()[:,0,:],metric='correlation')),get_triu(make_RDM(model.forward_tg(inputs_cf)[0].cpu().detach().numpy()[:,0,:],metric='correlation')))[0,1] )\n",
    "        track['epoch-input-cf-bg-rsa'].append( np.corrcoef(get_triu(make_RDM(inputs_cf.cpu().detach().numpy()[:,0,:],metric='correlation')),get_triu(make_RDM(model.forward_bg(inputs_cf)[0].cpu().detach().numpy()[:,0,:],metric='correlation')))[0,1] )\n",
    "        track['epoch-input-cf-fg-rsa'].append( np.corrcoef(get_triu(make_RDM(inputs_cf.cpu().detach().numpy()[:,0,:],metric='correlation')),get_triu(make_RDM(model.forward_fg(inputs_cf)[0].cpu().detach().numpy()[:,0,:],metric='correlation')))[0,1] )\n",
    "\n",
    "\n",
    "\n",
    "    track['input-gm-tg-corr'].append(np.array(track['epoch-input-gm-tg-corr']).mean())\n",
    "    track['input-gm-bg-corr'].append(np.array(track['epoch-input-gm-bg-corr']).mean())\n",
    "    track['input-gm-fg-corr'].append(np.array(track['epoch-input-gm-fg-corr']).mean())\n",
    "    track['input-cf-tg-corr'].append(np.array(track['epoch-input-cf-tg-corr']).mean())\n",
    "    track['input-cf-bg-corr'].append(np.array(track['epoch-input-cf-bg-corr']).mean())\n",
    "    track['input-cf-fg-corr'].append(np.array(track['epoch-input-cf-fg-corr']).mean())\n",
    "\n",
    "    track['input-gm-tg-rsa'].append(np.array(track['epoch-input-gm-tg-rsa']).mean())\n",
    "    track['input-gm-bg-rsa'].append(np.array(track['epoch-input-gm-bg-rsa']).mean())\n",
    "    track['input-gm-fg-rsa'].append(np.array(track['epoch-input-gm-fg-rsa']).mean())\n",
    "    track['input-cf-tg-rsa'].append(np.array(track['epoch-input-cf-tg-rsa']).mean())\n",
    "    track['input-cf-bg-rsa'].append(np.array(track['epoch-input-cf-bg-rsa']).mean())\n",
    "    track['input-cf-fg-rsa'].append(np.array(track['epoch-input-cf-fg-rsa']).mean())\n",
    "    \n",
    "    track['TG-BG-SL-RSA'].append( np.corrcoef(get_triu(make_RDM(tg_mu_s.detach().cpu().numpy())),get_triu(make_RDM(tg_mu_z.detach().cpu().numpy())))[0,1] )\n",
    "    \n",
    "    outputs_gm_tg = model.forward_tg(inputs_gm)[0]\n",
    "    outputs_gm_fg = model.forward_fg(inputs_gm)[0]\n",
    "    outputs_gm_bg = model.forward_bg(inputs_gm)[0]\n",
    "    \n",
    "    outputs_cf_tg = model.forward_tg(inputs_cf)[0]\n",
    "    outputs_cf_fg = model.forward_fg(inputs_cf)[0]\n",
    "    outputs_cf_bg = model.forward_bg(inputs_cf)[0]\n",
    "\n",
    "    SS_model = ((inputs_gm.detach().cpu().numpy()[:,0,:]-outputs_gm.detach().cpu().numpy()[:,0,:])**2).sum()\n",
    "    SS_total = ((inputs_gm.detach().cpu().numpy()[:,0,:]-inputs_gm.detach().cpu().numpy()[:,0,:].mean(axis=0))**2).sum()\n",
    "    varexp_gm = 1-(SS_model/SS_total)\n",
    "    \n",
    "    SS_model = ((inputs_cf.detach().cpu().numpy()[:,0,:]-outputs_cf.detach().cpu().numpy()[:,0,:])**2).sum()\n",
    "    SS_total = ((inputs_cf.detach().cpu().numpy()[:,0,:]-outputs_cf.detach().cpu().numpy()[:,0,:].mean(axis=0))**2).sum()\n",
    "    varexp_cf = 1-(SS_model/SS_total)\n",
    "    \n",
    "    SS_model = ((inputs_gm.detach().cpu().numpy()[:,0,:]-outputs_gm_fg.detach().cpu().numpy()[:,0,:])**2).sum()\n",
    "    SS_total = ((inputs_gm.detach().cpu().numpy()[:,0,:]-inputs_gm.detach().cpu().numpy()[:,0,:].mean(axis=0))**2).sum()\n",
    "    varexp_fg = 1-(SS_model/SS_total)\n",
    "\n",
    "    track['varexp-gm'].append(varexp_gm)\n",
    "    track['varexp-cf'].append(varexp_cf)\n",
    "    track['varexp-fg'].append(varexp_fg)\n",
    "\n",
    "    cmat_bg = np.array([(np.corrcoef(np.array((inputs_gm.detach().cpu().numpy()[:,0,:][v,:],\n",
    "outputs_gm_tg.detach().cpu().numpy()[:,0,:][v,:],\n",
    "outputs_gm_fg.detach().cpu().numpy()[:,0,:][v,:],\n",
    "outputs_gm_bg.detach().cpu().numpy()[:,0,:][v,:])))) for v in range(inputs_gm.shape[0])]).mean(axis=0)\n",
    "\n",
    "    cmat_cf = np.array([(np.corrcoef(np.array((inputs_cf.detach().cpu().numpy()[:,0,:][v,:],\n",
    "outputs_cf_tg.detach().cpu().numpy()[:,0,:][v,:],\n",
    "outputs_cf_fg.detach().cpu().numpy()[:,0,:][v,:],\n",
    "outputs_cf_bg.detach().cpu().numpy()[:,0,:][v,:])))) for v in range(inputs_gm.shape[0])]).mean(axis=0)\n",
    "\n",
    "    track['cmat_bg'].append(cmat_bg)\n",
    "    track['cmat_cf'].append(cmat_cf)\n",
    "\n",
    "    if do_synth_data==True:\n",
    "        \n",
    "        probe = torch.tensor(obs_list[0:64,np.newaxis,:]).float().to(device)\n",
    "\n",
    "        recon_probe_tg = model.forward_tg(probe)[0]\n",
    "        recon_probe_fg = model.forward_fg(probe)[0]\n",
    "        recon_probe_bg = model.forward_bg(probe)[0]\n",
    "        \n",
    "        track['synth-GM-GT-TG'].append( correlate_columns(recon_probe_tg.detach().cpu().numpy()[:,0,:].transpose(),gound_truth[0:64,:].transpose()).mean() )\n",
    "        track['synth-GM-GT-FG'].append( correlate_columns(recon_probe_fg.detach().cpu().numpy()[:,0,:].transpose(),gound_truth[0:64,:].transpose()).mean() )\n",
    "        track['synth-GM-GT-BG'].append( correlate_columns(recon_probe_bg.detach().cpu().numpy()[:,0,:].transpose(),gound_truth[0:64,:].transpose()).mean() ) \n",
    "        \n",
    "        probe = torch.tensor(noi_list[0:64,np.newaxis,:]).float().to(device)\n",
    "        \n",
    "        recon_probe_tg = model.forward_tg(probe)[0]\n",
    "        recon_probe_fg = model.forward_fg(probe)[0]\n",
    "        recon_probe_bg = model.forward_bg(probe)[0]\n",
    "        \n",
    "        track['synth-CF-GT-TG'].append( correlate_columns(recon_probe_tg.detach().cpu().numpy()[:,0,:].transpose(),gound_truth[0:64,:].transpose()).mean() )\n",
    "        track['synth-CF-GT-FG'].append( correlate_columns(recon_probe_fg.detach().cpu().numpy()[:,0,:].transpose(),gound_truth[0:64,:].transpose()).mean() )\n",
    "        track['synth-CF-GT-BG'].append( correlate_columns(recon_probe_bg.detach().cpu().numpy()[:,0,:].transpose(),gound_truth[0:64,:].transpose()).mean() ) \n",
    "\n",
    "    epoch_running_loss = running_loss / (len(train_in)*2)\n",
    "    epoch_running_reconstruction_loss = running_reconstruction_loss / (len(train_in)*2)\n",
    "    running_reconstruction_loss_roi = running_reconstruction_loss_roi / (len(train_in)*2)\n",
    "    running_reconstruction_loss_roni = running_reconstruction_loss_roni / (len(train_in)*2)\n",
    "    running_reconstruction_loss_FG = running_reconstruction_loss_FG / (len(train_in)*2)\n",
    "    running_reconstruction_loss_discourage = running_reconstruction_loss_discourage / (len(train_in)*2)\n",
    "\n",
    "    epoch_running_KLD = running_KLD / (len(train_in)*2)\n",
    "    epoch_running_TC = running_TC / (len(train_in)*2)\n",
    "    running_VOL = running_VOL / (len(train_in)*2)\n",
    "    \n",
    "    running_loss_L.append(epoch_running_loss.cpu().detach().numpy())\n",
    "    running_recons_L.append(epoch_running_reconstruction_loss.cpu().detach().numpy())\n",
    "    running_KLD_L.append(epoch_running_KLD.cpu().detach().numpy())\n",
    "    running_TC_L.append(epoch_running_TC.cpu().detach().numpy())\n",
    "    running_recons_roi_L.append(running_reconstruction_loss_roi.cpu().detach().numpy())\n",
    "    running_recons_roni_L.append(running_reconstruction_loss_roni.cpu().detach().numpy())\n",
    "    running_recons_FG_L.append(running_reconstruction_loss_FG.cpu().detach().numpy())\n",
    "    running_recons_discourage_L.append( running_reconstruction_loss_discourage.cpu().detach().numpy() )\n",
    "    running_VOL_L.append( running_VOL.cpu().detach().numpy() )\n",
    "    track['corr_w_reg'].append(get_corr_w_reg())\n",
    "\n",
    "    # DASHBOARD\n",
    "    if np.mod(epoch,10)==0:\n",
    "        plt.close()\n",
    "        sys.stdout.flush()\n",
    "        display.clear_output(wait=True);\n",
    "        display.display(plt.gcf());\n",
    "    \n",
    "        plot_r_w_reg();plt.show()\n",
    "        show_dashboard();plt.show()\n",
    "        show_ffa_dashboard();plt.show()\n",
    "        show_contrast_dash();plt.show()\n",
    "        show_voxel_recon();plt.show()\n",
    "        #plt.tight_layout()\n",
    "        plt.show()"
   ]
  },
  {
   "cell_type": "code",
   "execution_count": null,
   "id": "b67ebef4-4d40-45dc-a3fa-938371f5c2ae",
   "metadata": {
    "editable": true,
    "slideshow": {
     "slide_type": ""
    },
    "tags": []
   },
   "outputs": [],
   "source": [
    "if do_synth_data==False:\n",
    "    \n",
    "    ffa_batch = ffa_list[0:batch_size,:]\n",
    "    ffa_batch = torch.tensor(ffa_batch[:,np.newaxis,:]).to(device)\n",
    "    \n",
    "    ffa_tg = model.forward_tg(ffa_batch)\n",
    "    ffa_tg = ffa_tg[0].detach().cpu().numpy()[:,0,:]\n",
    "    \n",
    "    ffa_fg = model.forward_fg(ffa_batch)\n",
    "    ffa_fg = ffa_fg[0].detach().cpu().numpy()[:,0,:]\n",
    "    \n",
    "    ffa_bg = model.forward_bg(ffa_batch)\n",
    "    ffa_bg = ffa_bg[0].detach().cpu().numpy()[:,0,:]\n",
    "    \n",
    "    plt.figure(figsize=(15,10))\n",
    "    plt.subplot(2,2,1)\n",
    "    plt.plot(ffa_list[:,:].mean(axis=0))\n",
    "    plt.plot(noi_list.mean(axis=0))\n",
    "    plt.plot(face_reg)\n",
    "    plt.plot(place_reg)\n",
    "    \n",
    "    c = np.corrcoef(ffa_list[:,:].mean(axis=0),face_reg)[0,1]\n",
    "    plt.title(f'ffa activity + regs: {c:.2f}')\n",
    "    \n",
    "    plt.subplot(2,2,2)\n",
    "    plt.plot(ffa_tg[:,:].mean(axis=0))\n",
    "    plt.plot(face_reg*ffa_tg[:,:].mean(axis=0).max())\n",
    "    plt.plot(place_reg*ffa_tg[:,:].mean(axis=0).max())\n",
    "    c = np.corrcoef(ffa_tg[:,:].mean(axis=0),face_reg)[0,1]\n",
    "    plt.title(f'ffa TG + regs {c:.2f}')\n",
    "    \n",
    "    plt.subplot(2,2,3)\n",
    "    plt.plot(ffa_fg[:,:].mean(axis=0))\n",
    "    plt.plot(face_reg*ffa_fg[:,:].mean(axis=0).max())\n",
    "    plt.plot(place_reg*ffa_fg[:,:].mean(axis=0).max())\n",
    "    c = np.corrcoef(ffa_fg[:,:].mean(axis=0),face_reg)[0,1]\n",
    "    plt.title(f'ffa FG + regs {c:.2f}')\n",
    "    \n",
    "    plt.subplot(2,2,4)\n",
    "    plt.plot(ffa_bg[:,:].mean(axis=0))\n",
    "    plt.plot(face_reg*ffa_bg[:,:].mean(axis=0).max())\n",
    "    plt.plot(place_reg*ffa_bg[:,:].mean(axis=0).max())\n",
    "    c = np.corrcoef(ffa_bg[:,:].mean(axis=0),face_reg)[0,1]\n",
    "    plt.title(f'ffa BG + regs {c:.2f}')"
   ]
  },
  {
   "cell_type": "code",
   "execution_count": null,
   "id": "2098fb4c-9c9f-44d4-9894-23d2ada0838e",
   "metadata": {},
   "outputs": [],
   "source": []
  },
  {
   "cell_type": "code",
   "execution_count": null,
   "id": "e9c895fa-59f0-45a1-b018-3797436904bf",
   "metadata": {},
   "outputs": [],
   "source": [
    "if do_synth_data==False:\n",
    "    \n",
    "    ffa_batch = ffa_list[0:batch_size,:]\n",
    "    ffa_batch = torch.tensor(ffa_batch[:,np.newaxis,:]).to(device)\n",
    "    \n",
    "    ffa_tg = model.forward_tg(ffa_batch)\n",
    "    ffa_tg = ffa_tg[0].detach().cpu().numpy()[:,0,:]\n",
    "    \n",
    "    ffa_fg = model.forward_fg(ffa_batch)\n",
    "    ffa_fg = ffa_fg[0].detach().cpu().numpy()[:,0,:]\n",
    "    \n",
    "    ffa_bg = model.forward_bg(ffa_batch)\n",
    "    ffa_bg = ffa_bg[0].detach().cpu().numpy()[:,0,:]\n",
    "    \n",
    "    plt.figure(figsize=(30,5))\n",
    "    plt.subplot(1,4,1)\n",
    "    plt.plot(ffa_list[:,:].mean(axis=0))\n",
    "    #plt.plot(noi_list.mean(axis=0))\n",
    "    plt.plot(face_reg)\n",
    "    #plt.plot(place_reg)\n",
    "    \n",
    "    c = np.corrcoef(ffa_list[:,:].mean(axis=0),face_reg)[0,1]\n",
    "    plt.title(f'FFA activity and face+body regs: r={c:.2f}')\n",
    "    \n",
    "    plt.subplot(1,4,2)\n",
    "    plt.plot(ffa_tg[:,:].mean(axis=0))\n",
    "    plt.plot(face_reg*ffa_tg[:,:].mean(axis=0).max())\n",
    "    #plt.plot(place_reg*ffa_tg[:,:].mean(axis=0).max())\n",
    "    c = np.corrcoef(ffa_tg[:,:].mean(axis=0),face_reg)[0,1]\n",
    "    plt.title(f'FFA DeepCor reconstruction and face+body regs: r={c:.2f}')\n",
    "    \n",
    "    plt.subplot(1,4,3)\n",
    "    plt.plot(ffa_fg[:,:].mean(axis=0))\n",
    "    plt.plot(face_reg*ffa_fg[:,:].mean(axis=0).max())\n",
    "    #plt.plot(place_reg*ffa_fg[:,:].mean(axis=0).max())\n",
    "    c = np.corrcoef(ffa_fg[:,:].mean(axis=0),face_reg)[0,1]\n",
    "    plt.title(f'FFA DeepCor denoised and face+body regs: r={c:.2f}')\n",
    "    \n",
    "    plt.subplot(1,4,4)\n",
    "    plt.plot(ffa_bg[:,:].mean(axis=0))\n",
    "    plt.plot(face_reg*ffa_bg[:,:].mean(axis=0).max())\n",
    "    #plt.plot(place_reg*ffa_bg[:,:].mean(axis=0).max())\n",
    "    c = np.corrcoef(ffa_bg[:,:].mean(axis=0),face_reg)[0,1]\n",
    "    plt.title(f'FFA DeepCor noise and face+body regs: r={c:.2f}')"
   ]
  },
  {
   "cell_type": "code",
   "execution_count": null,
   "id": "690635ff-5f4b-44a5-af27-2f8e09b7a40b",
   "metadata": {},
   "outputs": [],
   "source": [
    "# plt.plot(X1['face'].values)\n",
    "# plt.plot(X1['body'].values)"
   ]
  },
  {
   "cell_type": "code",
   "execution_count": null,
   "id": "fd6f2301-4b22-4a47-9cb4-36e577ae45a1",
   "metadata": {},
   "outputs": [],
   "source": []
  },
  {
   "cell_type": "code",
   "execution_count": null,
   "id": "d3f042fb-65bd-44b6-b440-38d86d270767",
   "metadata": {},
   "outputs": [],
   "source": []
  },
  {
   "cell_type": "code",
   "execution_count": null,
   "id": "7c2349be-f84e-4399-b06d-72c2a3bfc441",
   "metadata": {},
   "outputs": [],
   "source": [
    "v1 = ffa_tg[:,:].mean(axis=0)\n",
    "v2 = ffa_fg[:,:].mean(axis=0)\n",
    "v3=ffa_batch.detach().cpu().numpy()[:,0,:].mean(axis=0)\n",
    "\n",
    "v1=v1-v1.mean()\n",
    "v2=v2-v2.mean()\n",
    "v3=v3-v3.mean()\n",
    "v1 = v1/v1.std()\n",
    "v2 = v2/v2.std()\n",
    "v3 = v3/v3.std()\n",
    "plt.plot(v1)\n",
    "plt.plot(v2)\n",
    "plt.plot(v3)"
   ]
  },
  {
   "cell_type": "code",
   "execution_count": null,
   "id": "589b1f37-5c33-471f-ad4e-a1d2df55dc43",
   "metadata": {},
   "outputs": [],
   "source": [
    "#plt.plot(ffa_list[:,:].mean(axis=0))\n",
    "#plt.plot(noi_list.mean(axis=0))\n",
    "#plt.plot(noi_list.mean(axis=0))\n",
    "#plt.plot(face_reg*ffa_tg[:,:].mean(axis=0).max())\n",
    "plt.figure(figsize=(15,5))\n",
    "plt.plot(ffa_list[:,:].mean(axis=0))\n",
    "plt.plot(ffa_tg[:,:].mean(axis=0))\n",
    "plt.plot(ffa_fg[:,:].mean(axis=0))\n",
    "plt.plot(ffa_bg[:,:].mean(axis=0))\n",
    "plt.plot(face_reg*ffa_tg[:,:].mean(axis=0).max())"
   ]
  },
  {
   "cell_type": "code",
   "execution_count": null,
   "id": "be9196d4-1bcc-4f11-8dd8-2da7125a5854",
   "metadata": {
    "editable": true,
    "slideshow": {
     "slide_type": ""
    },
    "tags": []
   },
   "outputs": [],
   "source": [
    "if do_synth_data==False:\n",
    "    corr_w_reg = np.array(track['corr_w_reg'])\n",
    "    #corr_w_reg.shape\n",
    "    \n",
    "    c_ffa_bold_facereg = corr_w_reg[:,0]\n",
    "    c_ffa_bold_placereg = corr_w_reg[:,1]\n",
    "    c_ffa_bold_diff = corr_w_reg[:,2]\n",
    "    c_tg_bold_facereg = corr_w_reg[:,3]\n",
    "    c_tg_bold_placereg = corr_w_reg[:,4]\n",
    "    c_tg_bold_diff = corr_w_reg[:,5]\n",
    "    c_fg_bold_facereg = corr_w_reg[:,6]\n",
    "    c_fg_bold_placereg = corr_w_reg[:,7]\n",
    "    c_fg_bold_diff = corr_w_reg[:,8]\n",
    "    c_bg_bold_facereg = corr_w_reg[:,9]\n",
    "    c_bg_bold_placereg = corr_w_reg[:,10]\n",
    "    c_bg_bold_diff = corr_w_reg[:,11]\n",
    "    \n",
    "    plt.figure(figsize=(20,5))\n",
    "    plt.subplot(1,3,1)\n",
    "    plt.plot(c_ffa_bold_diff)\n",
    "    plt.plot(c_tg_bold_diff)\n",
    "    plt.plot(c_fg_bold_diff)\n",
    "    plt.plot(c_bg_bold_diff)\n",
    "    plt.legend(['ffa','tg','fg','bg'])\n",
    "    plt.title(f'Diff {c_fg_bold_diff[-1]:.2f}')\n",
    "    \n",
    "    plt.subplot(1,3,2)\n",
    "    plt.plot(c_ffa_bold_facereg)\n",
    "    plt.plot(c_tg_bold_facereg)\n",
    "    plt.plot(c_fg_bold_facereg)\n",
    "    plt.plot(c_bg_bold_facereg)\n",
    "    plt.legend(['ffa','tg','fg','bg'])\n",
    "    plt.title('Face Reg')\n",
    "    \n",
    "    plt.subplot(1,3,3)\n",
    "    plt.plot(c_ffa_bold_placereg)\n",
    "    plt.plot(c_tg_bold_placereg)\n",
    "    plt.plot(c_fg_bold_placereg)\n",
    "    plt.plot(c_bg_bold_placereg)\n",
    "    plt.legend(['ffa','tg','fg','bg'])\n",
    "    plt.title('Place Reg')"
   ]
  },
  {
   "cell_type": "code",
   "execution_count": null,
   "id": "9cbbfc17-8c11-48de-ada3-e7e81d1fc3e9",
   "metadata": {
    "editable": true,
    "slideshow": {
     "slide_type": ""
    },
    "tags": []
   },
   "outputs": [],
   "source": [
    "if do_synth_data==True:\n",
    "    plt.figure(figsize=(15,5))\n",
    "    v = 0\n",
    "    probe = torch.tensor(obs_list[v:v+batch_size,np.newaxis,:]).float().to(device)\n",
    "    recon_probe_tg = model.forward_tg(probe)[0]\n",
    "    recon_probe_fg = model.forward_fg(probe)[0]\n",
    "    recon_probe_bg = model.forward_bg(probe)[0]\n",
    "    \n",
    "    v1=norm(probe.detach().cpu().numpy()[:,0,:][v,:]); plt.plot(v1,alpha=.5,linewidth=3)\n",
    "    v2=norm(recon_probe_tg.detach().cpu().numpy()[:,0,:][v,:]);plt.plot(v2,alpha=.5,linewidth=3)\n",
    "    v3=norm(recon_probe_fg.detach().cpu().numpy()[:,0,:][v,:]);plt.plot(v3,alpha=.5,linewidth=3)\n",
    "    v4=norm(recon_probe_bg.detach().cpu().numpy()[:,0,:][v,:]);plt.plot(v4,alpha=.5,linewidth=3)\n",
    "    v5=norm(gound_truth[v,:]); plt.plot(v5,alpha=.5,linewidth=3)\n",
    "    \n",
    "    plt.legend([f'input: {np.corrcoef(v1,v5)[0,1]:.2f}',f'recon_probe_tg: {np.corrcoef(v2,v5)[0,1]:.2f}',f'recon_probe_fg {np.corrcoef(v3,v5)[0,1]:.2f}',f'recon_probe_bg: {np.corrcoef(v4,v5)[0,1]:.2f}','ground-truth'])"
   ]
  },
  {
   "cell_type": "code",
   "execution_count": null,
   "id": "b96b7b59-eee0-4ed0-9bfa-5507814d7a26",
   "metadata": {
    "editable": true,
    "slideshow": {
     "slide_type": ""
    },
    "tags": []
   },
   "outputs": [],
   "source": [
    "#plt.imshow(np.corrcoef(inputs_gm.detach().cpu().numpy()[:,0,:],inputs_cf.detach().cpu().numpy()[:,0,:]))"
   ]
  },
  {
   "cell_type": "code",
   "execution_count": null,
   "id": "b514461b-5915-4b34-9dd0-e9d2d5d4a441",
   "metadata": {
    "editable": true,
    "slideshow": {
     "slide_type": ""
    },
    "tags": []
   },
   "outputs": [],
   "source": [
    "outputs_gm_tg = model.forward_tg(inputs_gm)[0]\n",
    "outputs_gm_fg = model.forward_fg(inputs_gm)[0]\n",
    "outputs_gm_bg = model.forward_bg(inputs_gm)[0]\n",
    "\n",
    "outputs_cf_tg = model.forward_tg(inputs_cf)[0]\n",
    "outputs_cf_fg = model.forward_fg(inputs_cf)[0]\n",
    "outputs_cf_bg = model.forward_bg(inputs_cf)[0]"
   ]
  },
  {
   "cell_type": "code",
   "execution_count": null,
   "id": "d675a073-6296-4235-aad6-b7ce48739b87",
   "metadata": {
    "editable": true,
    "slideshow": {
     "slide_type": ""
    },
    "tags": []
   },
   "outputs": [],
   "source": [
    "plt.figure(figsize=(15,5))\n",
    "plt.subplot(1,2,1)\n",
    "sns.heatmap(np.array([(np.corrcoef(np.array((inputs_gm.detach().cpu().numpy()[:,0,:][v,:],\n",
    "outputs_gm_tg.detach().cpu().numpy()[:,0,:][v,:],\n",
    "outputs_gm_fg.detach().cpu().numpy()[:,0,:][v,:],\n",
    "outputs_gm_bg.detach().cpu().numpy()[:,0,:][v,:])))) for v in range(inputs_gm.shape[0])]).mean(axis=0),annot=True,xticklabels=['Input','BG+SL','0+SL','BG+0'],\n",
    "            yticklabels=['Input','BG+SL','0+SL','BG+0'])\n",
    "\n",
    "plt.title('ROI')\n",
    "\n",
    "plt.subplot(1,2,2)\n",
    "sns.heatmap(np.array([(np.corrcoef(np.array((inputs_cf.detach().cpu().numpy()[:,0,:][v,:],\n",
    "outputs_cf_tg.detach().cpu().numpy()[:,0,:][v,:],\n",
    "outputs_cf_fg.detach().cpu().numpy()[:,0,:][v,:],\n",
    "outputs_cf_bg.detach().cpu().numpy()[:,0,:][v,:])))) for v in range(inputs_gm.shape[0])]).mean(axis=0),annot=True,xticklabels=['Input','BG+SL','0+SL','BG+0'],\n",
    "            yticklabels=['Input','BG+SL','0+SL','BG+0'])\n",
    "\n",
    "plt.title('RONI')"
   ]
  },
  {
   "cell_type": "code",
   "execution_count": null,
   "id": "dc5b84fa-a0d0-48d0-b5d3-48f962089b2b",
   "metadata": {
    "editable": true,
    "slideshow": {
     "slide_type": ""
    },
    "tags": []
   },
   "outputs": [],
   "source": [
    "plt.figure(figsize=(15,5))\n",
    "plt.subplot(1,2,1)\n",
    "plt.plot(np.array(np.array(track['cmat_bg'])[:,0,1]))\n",
    "plt.plot(np.array(np.array(track['cmat_bg'])[:,0,2]),linewidth=5)\n",
    "plt.plot(np.array(np.array(track['cmat_bg'])[:,0,3]))\n",
    "plt.plot(np.array(np.array(track['cmat_bg'])[:,1,2]))\n",
    "plt.plot(np.array(np.array(track['cmat_bg'])[:,1,3]))\n",
    "plt.plot(np.array(np.array(track['cmat_bg'])[:,2,3]))\n",
    "plt.legend(['input:BG+SL', 'input:0+SL','input:BG+0','BG+SL:0+SL','BG+SL:0+SL','0+SL:0+BG'])\n",
    "\n",
    "plt.subplot(1,2,2)\n",
    "plt.plot(np.array(np.array(track['cmat_cf'])[:,0,1]))\n",
    "plt.plot(np.array(np.array(track['cmat_cf'])[:,0,2]))\n",
    "plt.plot(np.array(np.array(track['cmat_cf'])[:,0,3]),linewidth=5)\n",
    "plt.plot(np.array(np.array(track['cmat_cf'])[:,1,2]))\n",
    "plt.plot(np.array(np.array(track['cmat_cf'])[:,1,3]))\n",
    "plt.plot(np.array(np.array(track['cmat_cf'])[:,2,3]))\n",
    "plt.legend(['input:BG+SL', 'input:0+SL','input:BG+0','BG+SL:0+SL','BG+SL:0+SL','0+SL:0+BG'])"
   ]
  },
  {
   "cell_type": "code",
   "execution_count": null,
   "id": "ef1351d4-0481-4fce-96b1-a3de2710fb79",
   "metadata": {
    "editable": true,
    "slideshow": {
     "slide_type": ""
    },
    "tags": []
   },
   "outputs": [],
   "source": [
    "plt.plot(track['varexp-gm'])\n",
    "plt.plot(track['varexp-cf'])\n",
    "plt.plot(track['varexp-fg'])\n",
    "plt.legend(['varexp-gm','varexp-cf','varexp-fg'])\n",
    "plt.title('var exp')"
   ]
  },
  {
   "cell_type": "code",
   "execution_count": null,
   "id": "691f4da5-59c5-45bb-bf09-ce1058eb3281",
   "metadata": {
    "editable": true,
    "slideshow": {
     "slide_type": ""
    },
    "tags": []
   },
   "outputs": [],
   "source": [
    "plt.figure(figsize=(15,5))\n",
    "plt.plot( inputs_gm.detach().cpu().numpy()[:,0,:][0,:] )\n",
    "plt.plot( outputs_gm_tg.detach().cpu().numpy()[:,0,:][0,:] )\n",
    "plt.plot( outputs_gm_fg.detach().cpu().numpy()[:,0,:][0,:] )\n",
    "plt.plot( outputs_gm_bg.detach().cpu().numpy()[:,0,:][0,:] )\n",
    "\n",
    "plt.legend(['inputs_gm','outputs_gm_tg','outputs_gm_fg','outputs_gm_bg'])"
   ]
  },
  {
   "cell_type": "code",
   "execution_count": null,
   "id": "a4f1e372-201d-4595-9bae-87b608fdfb89",
   "metadata": {
    "editable": true,
    "slideshow": {
     "slide_type": ""
    },
    "tags": []
   },
   "outputs": [],
   "source": [
    "plt.figure(figsize=(15,5))\n",
    "plt.plot( inputs_cf.detach().cpu().numpy()[:,0,:][0,:] )\n",
    "plt.plot( outputs_cf_tg.detach().cpu().numpy()[:,0,:][0,:] )\n",
    "plt.plot( outputs_cf_fg.detach().cpu().numpy()[:,0,:][0,:] )\n",
    "plt.plot( outputs_cf_bg.detach().cpu().numpy()[:,0,:][0,:] )\n",
    "plt.legend(['inputs_cf','outputs_cf_tg','outputs_cf_fg','outputs_cf_bg'])"
   ]
  },
  {
   "cell_type": "code",
   "execution_count": null,
   "id": "7c35ae0b-fe07-43bf-ad21-5099ff9bd7c5",
   "metadata": {
    "editable": true,
    "slideshow": {
     "slide_type": ""
    },
    "tags": []
   },
   "outputs": [],
   "source": [
    "np.array([np.corrcoef(inputs_gm.cpu().detach().numpy()[:,0,:][v,:],outputs_gm.cpu().detach().numpy()[:,0,:][v,:])[0,1] for v in range(batch_size)]).mean()"
   ]
  },
  {
   "cell_type": "code",
   "execution_count": null,
   "id": "a86d42fc-902d-4575-9a79-054d42b32a4f",
   "metadata": {
    "editable": true,
    "slideshow": {
     "slide_type": ""
    },
    "tags": []
   },
   "outputs": [],
   "source": [
    "np.array([np.corrcoef(inputs_cf.cpu().detach().numpy()[:,0,:][v,:],outputs_cf.cpu().detach().numpy()[:,0,:][v,:])[0,1] for v in range(batch_size)]).mean()"
   ]
  },
  {
   "cell_type": "code",
   "execution_count": null,
   "id": "8e2512b8-326a-4898-9f0d-4d686cb599ab",
   "metadata": {
    "editable": true,
    "slideshow": {
     "slide_type": ""
    },
    "tags": []
   },
   "outputs": [],
   "source": [
    "# plt.figure(figsize=(20,10))\n",
    "# plt.subplot(3,4,1)\n",
    "# plt.plot(running_loss_L);plt.title(f'running_loss_L: {running_loss_L[-1]:.4f}')\n",
    "\n",
    "# plt.subplot(3,4,2)\n",
    "# plt.plot(running_recons_L);plt.title(f'running_recons_L: {running_recons_L[-1]:.4f}')\n",
    "\n",
    "# plt.subplot(3,4,3)\n",
    "# plt.plot(running_recons_roi_L);plt.title(f'running_recons_roi_L: {running_recons_roi_L[-1]:.4f}')\n",
    "\n",
    "# plt.subplot(3,4,4)\n",
    "# plt.plot(running_recons_roni_L);plt.title(f'running_recons_roni_L: {running_recons_roni_L[-1]:.4f}')\n",
    "\n",
    "\n",
    "# plt.subplot(3,4,5)\n",
    "# plt.plot(running_KLD_L);plt.title(f'running_KLD_L: {running_KLD_L[-1]:.4f}')\n",
    "\n",
    "# plt.subplot(3,4,6)\n",
    "# plt.plot(running_TC_L);plt.title(f'running_TC_L: {running_TC_L[-1]:.4f}')\n",
    "\n",
    "# plt.subplot(3,4,7)\n",
    "# plt.plot(running_recons_discourage_L);plt.title(f'running_recons_discourage_L: {running_recons_discourage_L[-1]:.4f}')\n",
    "\n",
    "# plt.subplot(3,4,8)\n",
    "# plt.plot(track['TG-BG-SL-RSA']);plt.title('RSA: {:.4f}'.format(track['TG-BG-SL-RSA'][-1]))\n",
    "\n",
    "# plt.subplot(3,4,9)\n",
    "# plt.plot(running_VOL_L);plt.title(f'running_VOL_L: {running_VOL_L[-1]:.4f}')\n",
    "\n",
    "# plt.subplot(3,4,10)\n",
    "# plt.plot(running_recons_FG_L);plt.title(f'running_recons_FG_L: {running_recons_FG_L[-1]:.4f}')\n",
    "\n",
    "# plt.subplot(3,4,11)\n",
    "# plt.plot(running_recons_roi_L[-10::]);plt.title(f'running_recons_roi_L (last 10): {running_recons_roi_L[-1]:.4f}')"
   ]
  },
  {
   "cell_type": "code",
   "execution_count": null,
   "id": "2ca72626-59eb-45d8-b989-c055fffea9bc",
   "metadata": {
    "editable": true,
    "slideshow": {
     "slide_type": ""
    },
    "tags": []
   },
   "outputs": [],
   "source": [
    "   # track['input-gm-tg-corr'].append(np.array(track['epoch-input-gm-tg-corr']).mean())\n",
    "   #  track['input-gm-bg-corr'].append(np.array(track['epoch-input-gm-bg-corr']).mean())\n",
    "   #  track['input-gm-fg-corr'].append(np.array(track['epoch-input-gm-fg-corr']).mean())\n",
    "   #  track['input-cf-tg-corr'].append(np.array(track['epoch-input-cf-tg-corr']).mean())\n",
    "   #  track['input-cf-bg-corr'].append(np.array(track['epoch-input-cf-bg-corr']).mean())\n",
    "   #  track['input-cf-fg-corr'].append(np.array(track['epoch-input-cf-fg-corr']).mean())\n",
    "\n",
    "   #  track['input-gm-tg-rsa'].append(np.array(track['epoch-input-gm-tg-rsa']).mean())\n",
    "   #  track['input-gm-bg-rsa'].append(np.array(track['epoch-input-gm-bg-rsa']).mean())\n",
    "   #  track['input-gm-fg-rsa'].append(np.array(track['epoch-input-gm-fg-rsa']).mean())\n",
    "   #  track['input-cf-tg-rsa'].append(np.array(track['epoch-input-cf-tg-rsa']).mean())\n",
    "   #  track['input-cf-bg-rsa'].append(np.array(track['epoch-input-cf-bg-rsa']).mean())\n",
    "   #  track['input-cf-fg-rsa'].append(np.array(track['epoch-input-cf-fg-rsa']).mean())"
   ]
  },
  {
   "cell_type": "code",
   "execution_count": null,
   "id": "9de4eafa-ae55-4f2b-a0cf-9ef082249344",
   "metadata": {},
   "outputs": [],
   "source": [
    "keys = ['input-gm-tg-corr',\n",
    "'input-gm-bg-corr',\n",
    "'input-gm-fg-corr',\n",
    "'input-cf-tg-corr',\n",
    "'input-cf-bg-corr',\n",
    "'input-cf-fg-corr',\n",
    "'input-gm-tg-rsa',\n",
    "'input-gm-bg-rsa',\n",
    "'input-gm-fg-rsa',\n",
    "'input-cf-tg-rsa',\n",
    "'input-cf-bg-rsa',\n",
    "'input-cf-fg-rsa',]\n",
    "\n",
    "plt.figure(figsize=(20,15))\n",
    "for i, key in enumerate(keys):\n",
    "    plt.subplot(4,3,i+1)\n",
    "    plt.plot(track[key]);plt.title(key+f': {track[key][-1]:.2f}')\n",
    "\n",
    "plt.subplots_adjust()"
   ]
  },
  {
   "cell_type": "code",
   "execution_count": null,
   "id": "a1dfbc86-83cd-4ba6-9332-2f884b5f9540",
   "metadata": {},
   "outputs": [],
   "source": [
    "if do_synth_data==True:\n",
    "    plt.figure(figsize=(20,10))\n",
    "    plt.subplot(2,3,1);plt.plot(track['synth-GM-GT-TG']);plt.title('synth-GM-GT-TG')\n",
    "    plt.subplot(2,3,2);plt.plot(track['synth-GM-GT-FG']);plt.title('synth-GM-GT-FG')\n",
    "    plt.subplot(2,3,3);plt.plot(track['synth-GM-GT-BG']);plt.title('synth-GM-GT-BG')\n",
    "    \n",
    "    plt.subplot(2,3,4);plt.plot(track['synth-CF-GT-TG']);plt.title('synth-CF-GT-TG')\n",
    "    plt.subplot(2,3,5);plt.plot(track['synth-CF-GT-FG']);plt.title('synth-CF-GT-FG')\n",
    "    plt.subplot(2,3,6);plt.plot(track['synth-CF-GT-BG']);plt.title('synth-CF-GT-BG')"
   ]
  },
  {
   "cell_type": "code",
   "execution_count": null,
   "id": "e4826bf4-89de-4eab-8913-4381735d93da",
   "metadata": {},
   "outputs": [],
   "source": [
    "# plt.figure(figsize=(20,10))\n",
    "# for i,key in enumerate(track.keys()):\n",
    "#     plt.subplot(2,3,i+1)\n",
    "#     plt.plot(track[key])\n",
    "#     plt.title(key)\n",
    "\n",
    "# plt.subplots_adjust()"
   ]
  },
  {
   "cell_type": "code",
   "execution_count": null,
   "id": "eae48e08-c837-48b2-944d-6878d2332beb",
   "metadata": {},
   "outputs": [],
   "source": [
    "# dataloader_iter_in = iter(train_in)\n",
    "# inputs_gm,inputs_cf = next(dataloader_iter_in)\n",
    "# inputs_gm = inputs_gm.unsqueeze(1).float().to(device)\n",
    "# inputs_cf = inputs_cf.unsqueeze(1).float().to(device)\n",
    "# [outputs_gm, inputs_gm, tg_mu_z, tg_log_var_z, tg_mu_s, tg_log_var_s,tg_z,tg_x] = model.forward_tg(inputs_gm)\n",
    "# [outputs_cf, inputs_cf, bg_mu_s, bg_log_var_s] = model.forward_bg(inputs_cf)"
   ]
  },
  {
   "cell_type": "code",
   "execution_count": null,
   "id": "66075afe-ed20-46ec-9214-984ba07c2282",
   "metadata": {
    "editable": true,
    "slideshow": {
     "slide_type": ""
    },
    "tags": []
   },
   "outputs": [],
   "source": [
    "plt.figure(figsize=(15,5))\n",
    "plt.subplot(1,2,1)\n",
    "v1 = inputs_gm.detach().cpu().numpy()[0,0,:]\n",
    "v2 = outputs_gm.detach().cpu().numpy()[0,0,:]\n",
    "\n",
    "plt.plot(v1,alpha=.5)\n",
    "plt.plot(v2,alpha=.5)\n",
    "plt.title(f'GM in/out: corr: {np.corrcoef(v1,v2)[0,1]:.2f}')\n",
    "plt.legend(['Input','Output'])\n",
    "\n",
    "plt.subplot(1,2,2)\n",
    "v1 = inputs_cf.detach().cpu().numpy()[0,0,:]\n",
    "v2 = outputs_cf.detach().cpu().numpy()[0,0,:]\n",
    "\n",
    "plt.plot(v1,alpha=.5)\n",
    "plt.plot(v2,alpha=.5)\n",
    "plt.legend(['Input','Output'])\n",
    "plt.title(f'CF in/out: corr: {np.corrcoef(v1,v2)[0,1]:.2f}')"
   ]
  },
  {
   "cell_type": "code",
   "execution_count": null,
   "id": "032913bc-a72a-4024-b027-f9f181004717",
   "metadata": {},
   "outputs": [],
   "source": []
  },
  {
   "cell_type": "code",
   "execution_count": null,
   "id": "7f2dd66d-d8e7-4e08-a6b6-2e02ba9bb0c5",
   "metadata": {},
   "outputs": [],
   "source": []
  },
  {
   "cell_type": "code",
   "execution_count": null,
   "id": "0e6a2fcb-7d80-4df5-9878-04b920c2ee3d",
   "metadata": {},
   "outputs": [],
   "source": [
    "brain_scaler = Scaler(brain_gm)\n",
    "brain_list = brain_scaler.transform(brain_gm)"
   ]
  },
  {
   "cell_type": "code",
   "execution_count": null,
   "id": "d6de96dc-8619-4127-b70a-01334e904532",
   "metadata": {
    "editable": true,
    "slideshow": {
     "slide_type": ""
    },
    "tags": []
   },
   "outputs": [],
   "source": [
    "#func_data = obs_list\n",
    "def get_reconstructions(func_data,mode='TG'):\n",
    "    \n",
    "    denoise_inputs = DenoiseDataset(func_data)\n",
    "    denoise_in = torch.utils.data.DataLoader(denoise_inputs, batch_size=512,shuffle=False, num_workers=1)\n",
    "    denoise_iter_in = iter(denoise_in)\n",
    "    \n",
    "    for i in tqdm(range(len(denoise_in))):\n",
    "        inputs = next(denoise_iter_in)\n",
    "        inputs = inputs.unsqueeze(1).float().to(device)\n",
    "        \n",
    "        #func_output = model.generate(inputs)\n",
    "        \n",
    "        if mode=='TG':\n",
    "            func_output = model.forward_tg(inputs)[0]\n",
    "        elif mode=='BG':\n",
    "            func_output = model.forward_bg(inputs)[0]\n",
    "        elif mode=='FG':\n",
    "            func_output = model.forward_fg(inputs)[0]\n",
    "            \n",
    "        func_output_np = func_output.squeeze().cpu().detach().numpy()\n",
    "        if i == 0:\n",
    "            outputs_all = func_output_np \n",
    "        else:\n",
    "            outputs_all = np.concatenate((outputs_all,func_output_np), axis = 0)\n",
    "    return outputs_all"
   ]
  },
  {
   "cell_type": "code",
   "execution_count": null,
   "id": "74bf06cb-1585-4598-bc49-285a44a5c323",
   "metadata": {},
   "outputs": [],
   "source": [
    "outputs_all_TG = get_reconstructions(brain_list,mode='TG')"
   ]
  },
  {
   "cell_type": "code",
   "execution_count": null,
   "id": "e443a89c-a569-4723-a538-434bf83ca20a",
   "metadata": {},
   "outputs": [],
   "source": [
    "outputs_all_BG = get_reconstructions(brain_list,mode='BG')"
   ]
  },
  {
   "cell_type": "code",
   "execution_count": null,
   "id": "21bbecf8-9554-4862-bd4e-8538afd47eb2",
   "metadata": {},
   "outputs": [],
   "source": [
    "outputs_all_FG = get_reconstructions(brain_list,mode='FG')"
   ]
  },
  {
   "cell_type": "code",
   "execution_count": null,
   "id": "8dd7a87c-73cd-458c-b572-fefe880d9668",
   "metadata": {},
   "outputs": [],
   "source": [
    "#plt.plot(epi_flat[gm_flat==1,:].mean(axis=0))"
   ]
  },
  {
   "cell_type": "code",
   "execution_count": null,
   "id": "41c36dca-dc11-41f7-95b3-f2eb8db6028e",
   "metadata": {},
   "outputs": [],
   "source": [
    "#plt.plot(obs_scale.inverse_transform(outputs_all_TG)[gm_flat,:].mean(axis=0))"
   ]
  },
  {
   "cell_type": "code",
   "execution_count": null,
   "id": "6f70035f-3295-4dd0-a8ff-adc31a98e743",
   "metadata": {},
   "outputs": [],
   "source": []
  },
  {
   "cell_type": "code",
   "execution_count": null,
   "id": "3cfec049-eefd-4816-b077-e162412fa0b5",
   "metadata": {},
   "outputs": [],
   "source": []
  },
  {
   "cell_type": "code",
   "execution_count": null,
   "id": "ecd901fc-3f4f-4ede-9148-bdc70f929a07",
   "metadata": {},
   "outputs": [],
   "source": []
  },
  {
   "cell_type": "code",
   "execution_count": null,
   "id": "9133db81-daac-406f-a0f9-c38bf51b73da",
   "metadata": {},
   "outputs": [],
   "source": [
    "if do_synth_data==True:\n",
    "    outputs_all_TG = get_reconstructions(obs_list,mode='TG')\n",
    "    outputs_all_BG = get_reconstructions(obs_list,mode='BG')\n",
    "    outputs_all_FG = get_reconstructions(obs_list,mode='FG')"
   ]
  },
  {
   "cell_type": "code",
   "execution_count": null,
   "id": "1f5df962-8332-416b-976d-b44f7c14e840",
   "metadata": {},
   "outputs": [],
   "source": [
    "v = 10000\n",
    "plt.figure(figsize=(15,5))\n",
    "plt.plot(outputs_all_TG[v,:],'b-',alpha=.5)\n",
    "plt.plot(outputs_all_FG[v,:],'g-',alpha=.5)\n",
    "plt.plot(outputs_all_BG[v,:],'r-',alpha=.5)\n",
    "plt.legend(['TG','FG','BG'])"
   ]
  },
  {
   "cell_type": "code",
   "execution_count": null,
   "id": "24ecdc1d-fb63-4b66-a017-146a9289617d",
   "metadata": {
    "editable": true,
    "slideshow": {
     "slide_type": ""
    },
    "tags": []
   },
   "outputs": [],
   "source": [
    "func_data = brain_list\n",
    "obs_scale = brain_scaler\n",
    "\n",
    "v = 5000\n",
    "plt.figure(figsize=(15,5))\n",
    "plt.subplot(1,2,1)\n",
    "plt.plot(func_data[v,:])\n",
    "plt.plot(outputs_all_TG[v,:])\n",
    "plt.legend(['func_data','outputs_all'])\n",
    "plt.title(f'corr: {np.corrcoef(func_data[v,:],outputs_all_TG[v,:])[0,1]:.2f}')\n",
    "\n",
    "plt.subplot(1,2,2)\n",
    "plt.plot(brain_gm[v,:])\n",
    "\n",
    "descaled = obs_scale.inverse_transform(outputs_all_TG)\n",
    "if do_norm==True:\n",
    "    descaled = obs_scale.inverse_transform(outputs_all_TG * (max_obs_list-min_obs_list) + min_obs_list)\n",
    "plt.plot(descaled[v,:])\n",
    "plt.title(f'corr: {np.corrcoef(brain_gm[v,:],descaled[v,:])[0,1]:.2f}')\n",
    "plt.legend(['Raw in','Out inv-scaled'])\n",
    "plt.suptitle('outputs_all_TG')\n",
    "\n",
    "\n",
    "#v = 500\n",
    "plt.figure(figsize=(15,5))\n",
    "plt.subplot(1,2,1)\n",
    "plt.plot(func_data[v,:])\n",
    "plt.plot(outputs_all_BG[v,:])\n",
    "plt.legend(['func_data','outputs_all'])\n",
    "plt.title(f'corr: {np.corrcoef(func_data[v,:],outputs_all_BG[v,:])[0,1]:.2f}')\n",
    "\n",
    "plt.subplot(1,2,2)\n",
    "plt.plot(brain_gm[v,:])\n",
    "\n",
    "descaled = obs_scale.inverse_transform(outputs_all_BG)\n",
    "if do_norm==True:\n",
    "    descaled = obs_scale.inverse_transform(outputs_all_BG * (max_obs_list-min_obs_list) + min_obs_list)\n",
    "plt.plot(descaled[v,:])\n",
    "plt.title(f'corr: {np.corrcoef(brain_gm[v,:],descaled[v,:])[0,1]:.2f}')\n",
    "plt.legend(['Raw in','Out inv-scaled'])\n",
    "plt.suptitle('outputs_all_BG')\n",
    "\n",
    "\n",
    "#v = 500\n",
    "plt.figure(figsize=(15,5))\n",
    "plt.subplot(1,2,1)\n",
    "plt.plot(func_data[v,:])\n",
    "plt.plot(outputs_all_FG[v,:])\n",
    "plt.legend(['func_data','outputs_all'])\n",
    "plt.title(f'corr: {np.corrcoef(func_data[v,:],outputs_all_FG[v,:])[0,1]:.2f}')\n",
    "\n",
    "plt.subplot(1,2,2)\n",
    "plt.plot(brain_gm[v,:])\n",
    "\n",
    "descaled = obs_scale.inverse_transform(outputs_all_FG)\n",
    "if do_norm==True:\n",
    "    descaled = obs_scale.inverse_transform(outputs_all_FG * (max_obs_list-min_obs_list) + min_obs_list)\n",
    "plt.plot(descaled[v,:])\n",
    "plt.title(f'corr: {np.corrcoef(func_data[v,:],descaled[v,:])[0,1]:.2f}')\n",
    "plt.legend(['Raw in','Out inv-scaled'])\n",
    "plt.suptitle('outputs_all_FG')"
   ]
  },
  {
   "cell_type": "code",
   "execution_count": null,
   "id": "018c81c1-1813-4eb7-a785-aac8b37fb0ce",
   "metadata": {},
   "outputs": [],
   "source": [
    "#outdir = os.path.join('../Data/050-Data-DeepCor-ed',analysis_name)\n",
    "outdir = os.path.join('../Data/StudyForrest/DeepCor-outputs/',analysis_name)\n",
    "print(outdir)"
   ]
  },
  {
   "cell_type": "code",
   "execution_count": null,
   "id": "6d099dad-32b2-44f9-ae53-04a4d7bce38e",
   "metadata": {},
   "outputs": [],
   "source": [
    "pwd"
   ]
  },
  {
   "cell_type": "code",
   "execution_count": null,
   "id": "6d969b46-05b5-4290-bf57-3c2b911b14d8",
   "metadata": {},
   "outputs": [],
   "source": [
    "safe_mkdir(outdir)"
   ]
  },
  {
   "cell_type": "code",
   "execution_count": null,
   "id": "558d1e90-4169-44fc-88f2-e46aa167d8a5",
   "metadata": {
    "editable": true,
    "slideshow": {
     "slide_type": ""
    },
    "tags": []
   },
   "outputs": [],
   "source": [
    "if do_synth_data==False:\n",
    "    \n",
    "    denoised_flat = np.zeros(epi_flat.shape)\n",
    "    vec1 = brain_flat==1\n",
    "    vec2 = epi_flat.std(axis=1)!=0.0\n",
    "    vec3 = vec1*vec2\n",
    "    denoised_flat[vec3,:] = obs_scale.inverse_transform(outputs_all_TG) # Takes into account std0 voxels\n",
    "    denoised_mat = denoised_flat.reshape(epi.shape)\n",
    "    denoised = epi.new_image_like(denoised_mat)\n",
    "    #ofn = os.path.join(indir,'{sub}/ses-baselineYear1Arm1/func/{sub}_ses-baselineYear1Arm1_task-nback_run-0{r}_space-MNI152NLin2009cAsym_res-2_desc-DEEPCOR-TG-{rep}_bold.nii'.format(sub=sub,r=r,rep=rep))\n",
    "    ofn = os.path.join(outdir,f'deepcor-TG-{sub}-run-{r}-rep-{rep}.nii.gz')\n",
    "    denoised.to_filename(ofn)\n",
    "\n",
    "\n",
    "    denoised_flat = np.zeros(epi_flat.shape)\n",
    "    vec1 = brain_flat==1\n",
    "    vec2 = epi_flat.std(axis=1)!=0.0\n",
    "    vec3 = vec1*vec2\n",
    "    denoised_flat[vec3,:] = obs_scale.inverse_transform(outputs_all_BG) # Takes into account std0 voxels\n",
    "    denoised_mat = denoised_flat.reshape(epi.shape)\n",
    "    denoised = epi.new_image_like(denoised_mat)\n",
    "    #ofn = os.path.join(indir,'{sub}/ses-baselineYear1Arm1/func/{sub}_ses-baselineYear1Arm1_task-nback_run-0{r}_space-MNI152NLin2009cAsym_res-2_desc-DEEPCOR-BG-{rep}_bold.nii'.format(sub=sub,r=r,rep=rep))\n",
    "    ofn = os.path.join(outdir,f'deepcor-BG-{sub}-run-{r}-rep-{rep}.nii.gz')\n",
    "    denoised.to_filename(ofn)\n",
    "\n",
    "    denoised_flat = np.zeros(epi_flat.shape)\n",
    "    vec1 = brain_flat==1\n",
    "    vec2 = epi_flat.std(axis=1)!=0.0\n",
    "    vec3 = vec1*vec2\n",
    "    denoised_flat[vec3,:] = obs_scale.inverse_transform(outputs_all_FG) # Takes into account std0 voxels\n",
    "    denoised_mat = denoised_flat.reshape(epi.shape)\n",
    "    denoised = epi.new_image_like(denoised_mat)\n",
    "    #ofn = os.path.join(indir,'{sub}/ses-baselineYear1Arm1/func/{sub}_ses-baselineYear1Arm1_task-nback_run-0{r}_space-MNI152NLin2009cAsym_res-2_desc-DEEPCOR-FG-{rep}_bold.nii'.format(sub=sub,r=r,rep=rep))\n",
    "    ofn = os.path.join(outdir,f'deepcor-FG-{sub}-run-{r}-rep-{rep}.nii.gz')\n",
    "    denoised.to_filename(ofn)\n",
    "\n",
    "    denoised_flat = np.zeros(epi_flat.shape)\n",
    "    vec1 = brain_flat==1\n",
    "    vec2 = epi_flat.std(axis=1)!=0.0\n",
    "    vec3 = vec1*vec2\n",
    "    denoised_flat[vec3,:] = obs_scale.inverse_transform(outputs_all_TG)-obs_scale.inverse_transform(outputs_all_BG) # Takes into account std0 voxels\n",
    "    denoised_mat = denoised_flat.reshape(epi.shape)\n",
    "    denoised = epi.new_image_like(denoised_mat)\n",
    "    #ofn = os.path.join(indir,'{sub}/ses-baselineYear1Arm1/func/{sub}_ses-baselineYear1Arm1_task-nback_run-0{r}_space-MNI152NLin2009cAsym_res-2_desc-DEEPCOR-twin-{rep}_bold.nii'.format(sub=sub,r=r,rep=rep))\n",
    "    ofn = os.path.join(outdir,f'deepcor-twin-{sub}-run-{r}-rep-{rep}.nii.gz')\n",
    "    denoised.to_filename(ofn)"
   ]
  },
  {
   "cell_type": "code",
   "execution_count": null,
   "id": "c868e916-31dc-462e-a486-173d63e9bd17",
   "metadata": {},
   "outputs": [],
   "source": [
    "save_derivatives=True\n",
    "if all((save_derivatives==True,do_synth_data==False)):\n",
    "    ## Face Regressors\n",
    "    denoised_flat = np.zeros(gm_flat.shape)\n",
    "    vec1 = brain_flat==1\n",
    "    vec2 = epi_flat.std(axis=1)!=0.0\n",
    "    vec3 = vec1*vec2\n",
    "    denoised_flat[vec3] = correlate_columns(outputs_all_TG.transpose(),np.array([face_reg for _ in range(outputs_all_TG.shape[0])]).transpose())\n",
    "    denoised_mat = denoised_flat.reshape(gm.shape)\n",
    "    denoised = gm.new_image_like(denoised_mat)\n",
    "    ofn = os.path.join(outdir,f'corr2face-TG-{sub}-run-{r}-rep-{rep}.nii')\n",
    "    denoised.to_filename(ofn)\n",
    "\n",
    "    denoised_flat = np.zeros(gm_flat.shape)\n",
    "    vec1 = brain_flat==1\n",
    "    vec2 = epi_flat.std(axis=1)!=0.0\n",
    "    vec3 = vec1*vec2\n",
    "    denoised_flat[vec3] = correlate_columns(outputs_all_BG.transpose(),np.array([face_reg for _ in range(outputs_all_TG.shape[0])]).transpose())\n",
    "    denoised_mat = denoised_flat.reshape(gm.shape)\n",
    "    denoised = gm.new_image_like(denoised_mat)\n",
    "    ofn = os.path.join(outdir,f'corr2face-BG-{sub}-run-{r}-rep-{rep}.nii')\n",
    "    denoised.to_filename(ofn)\n",
    "    \n",
    "    denoised_flat = np.zeros(gm_flat.shape)\n",
    "    vec1 = brain_flat==1\n",
    "    vec2 = epi_flat.std(axis=1)!=0.0\n",
    "    vec3 = vec1*vec2\n",
    "    denoised_flat[vec3] = correlate_columns(outputs_all_FG.transpose(),np.array([face_reg for _ in range(outputs_all_TG.shape[0])]).transpose())\n",
    "    denoised_mat = denoised_flat.reshape(gm.shape)\n",
    "    denoised = gm.new_image_like(denoised_mat)\n",
    "    ofn = os.path.join(outdir,f'corr2face-FG-{sub}-run-{r}-rep-{rep}.nii')\n",
    "    denoised.to_filename(ofn)\n",
    "    \n",
    "    denoised_flat = np.zeros(gm_flat.shape)\n",
    "    vec1 = brain_flat==1\n",
    "    vec2 = epi_flat.std(axis=1)!=0.0\n",
    "    vec3 = vec1*vec2\n",
    "    denoised_flat[vec3] = correlate_columns((outputs_all_TG-outputs_all_BG).transpose(),np.array([face_reg for _ in range(outputs_all_TG.shape[0])]).transpose())\n",
    "    denoised_mat = denoised_flat.reshape(gm.shape)\n",
    "    denoised = gm.new_image_like(denoised_mat)\n",
    "    ofn = os.path.join(outdir,f'corr2face-twin-{sub}-run-{r}-rep-{rep}.nii')\n",
    "    denoised.to_filename(ofn)\n",
    "\n",
    "    ## Place Regressors\n",
    "    denoised_flat = np.zeros(gm_flat.shape)\n",
    "    vec1 = brain_flat==1\n",
    "    vec2 = epi_flat.std(axis=1)!=0.0\n",
    "    vec3 = vec1*vec2\n",
    "    denoised_flat[vec3] = correlate_columns(outputs_all_TG.transpose(),np.array([place_reg for _ in range(outputs_all_TG.shape[0])]).transpose())\n",
    "    denoised_mat = denoised_flat.reshape(gm.shape)\n",
    "    denoised = gm.new_image_like(denoised_mat)\n",
    "    ofn = os.path.join(outdir,f'corr2place-TG-{sub}-run-{r}-rep-{rep}.nii')\n",
    "    denoised.to_filename(ofn)\n",
    "\n",
    "    denoised_flat = np.zeros(gm_flat.shape)\n",
    "    vec1 = brain_flat==1\n",
    "    vec2 = epi_flat.std(axis=1)!=0.0\n",
    "    vec3 = vec1*vec2\n",
    "    denoised_flat[vec3] = correlate_columns(outputs_all_BG.transpose(),np.array([place_reg for _ in range(outputs_all_TG.shape[0])]).transpose())\n",
    "    denoised_mat = denoised_flat.reshape(gm.shape)\n",
    "    denoised = gm.new_image_like(denoised_mat)\n",
    "    ofn = os.path.join(outdir,f'corr2place-BG-{sub}-run-{r}-rep-{rep}.nii')\n",
    "    denoised.to_filename(ofn)\n",
    "    \n",
    "    denoised_flat = np.zeros(gm_flat.shape)\n",
    "    vec1 = brain_flat==1\n",
    "    vec2 = epi_flat.std(axis=1)!=0.0\n",
    "    vec3 = vec1*vec2\n",
    "    denoised_flat[vec3] = correlate_columns(outputs_all_FG.transpose(),np.array([place_reg for _ in range(outputs_all_TG.shape[0])]).transpose())\n",
    "    denoised_mat = denoised_flat.reshape(gm.shape)\n",
    "    denoised = gm.new_image_like(denoised_mat)\n",
    "    ofn = os.path.join(outdir,f'corr2place-FG-{sub}-run-{r}-rep-{rep}.nii')\n",
    "    denoised.to_filename(ofn)\n",
    "    \n",
    "    denoised_flat = np.zeros(gm_flat.shape)\n",
    "    vec1 = brain_flat==1\n",
    "    vec2 = epi_flat.std(axis=1)!=0.0\n",
    "    vec3 = vec1*vec2\n",
    "    denoised_flat[vec3] = correlate_columns((outputs_all_TG-outputs_all_BG).transpose(),np.array([place_reg for _ in range(outputs_all_TG.shape[0])]).transpose())\n",
    "    denoised_mat = denoised_flat.reshape(gm.shape)\n",
    "    denoised = gm.new_image_like(denoised_mat)\n",
    "    ofn = os.path.join(outdir,f'corr2place-twin-{sub}-run-{r}-rep-{rep}.nii')\n",
    "    denoised.to_filename(ofn)\n",
    "\n",
    "\n",
    "    ## Corr-diff\n",
    "    denoised_flat = np.zeros(gm_flat.shape)\n",
    "    vec1 = brain_flat==1\n",
    "    vec2 = epi_flat.std(axis=1)!=0.0\n",
    "    vec3 = vec1*vec2\n",
    "    denoised_flat[vec3] = correlate_columns(outputs_all_TG.transpose(),np.array([face_reg for _ in range(outputs_all_TG.shape[0])]).transpose())-correlate_columns(outputs_all_TG.transpose(),np.array([place_reg for _ in range(outputs_all_TG.shape[0])]).transpose())\n",
    "    denoised_mat = denoised_flat.reshape(gm.shape)\n",
    "    denoised = gm.new_image_like(denoised_mat)\n",
    "    ofn = os.path.join(outdir,f'corrDiff-TG-{sub}-run-{r}-rep-{rep}.nii')\n",
    "    denoised.to_filename(ofn)\n",
    "\n",
    "    denoised_flat = np.zeros(gm_flat.shape)\n",
    "    vec1 = brain_flat==1\n",
    "    vec2 = epi_flat.std(axis=1)!=0.0\n",
    "    vec3 = vec1*vec2\n",
    "    denoised_flat[vec3] = correlate_columns(outputs_all_BG.transpose(),np.array([face_reg for _ in range(outputs_all_TG.shape[0])]).transpose())-correlate_columns(outputs_all_BG.transpose(),np.array([place_reg for _ in range(outputs_all_TG.shape[0])]).transpose())\n",
    "    denoised_mat = denoised_flat.reshape(gm.shape)\n",
    "    denoised = gm.new_image_like(denoised_mat)\n",
    "    ofn = os.path.join(outdir,f'corrDiff-BG-{sub}-run-{r}-rep-{rep}.nii')\n",
    "    denoised.to_filename(ofn)\n",
    "    \n",
    "    denoised_flat = np.zeros(gm_flat.shape)\n",
    "    vec1 = brain_flat==1\n",
    "    vec2 = epi_flat.std(axis=1)!=0.0\n",
    "    vec3 = vec1*vec2\n",
    "    denoised_flat[vec3] = correlate_columns(outputs_all_FG.transpose(),np.array([face_reg for _ in range(outputs_all_TG.shape[0])]).transpose())-correlate_columns(outputs_all_FG.transpose(),np.array([place_reg for _ in range(outputs_all_TG.shape[0])]).transpose())\n",
    "    denoised_mat = denoised_flat.reshape(gm.shape)\n",
    "    denoised = gm.new_image_like(denoised_mat)\n",
    "    ofn = os.path.join(outdir,f'corrDiff-FG-{sub}-run-{r}-rep-{rep}.nii')\n",
    "    denoised.to_filename(ofn)\n",
    "    \n",
    "    denoised_flat = np.zeros(gm_flat.shape)\n",
    "    vec1 = brain_flat==1\n",
    "    vec2 = epi_flat.std(axis=1)!=0.0\n",
    "    vec3 = vec1*vec2\n",
    "    denoised_flat[vec3] = correlate_columns((outputs_all_TG-outputs_all_BG).transpose(),np.array([face_reg for _ in range(outputs_all_TG.shape[0])]).transpose())-correlate_columns((outputs_all_TG-outputs_all_BG).transpose(),np.array([place_reg for _ in range(outputs_all_TG.shape[0])]).transpose())\n",
    "    denoised_mat = denoised_flat.reshape(gm.shape)\n",
    "    denoised = gm.new_image_like(denoised_mat)\n",
    "    ofn = os.path.join(outdir,f'corrDiff-twin-{sub}-run-{r}-rep-{rep}.nii')\n",
    "    denoised.to_filename(ofn)\n",
    "\n",
    "    import pickle\n",
    "    track_ofn = os.path.join(outdir,f'tracked-vars-{sub}-run-{r}-rep-{rep}.pickle')\n",
    "    with open(track_ofn, 'wb') as handle:\n",
    "        pickle.dump(track, handle, protocol=pickle.HIGHEST_PROTOCOL)"
   ]
  },
  {
   "cell_type": "code",
   "execution_count": null,
   "id": "727c7706-fd2e-4bf3-97fd-6d6da60a243d",
   "metadata": {},
   "outputs": [],
   "source": [
    "plt.figure(figsize=(15,5))\n",
    "plt.subplot(1,2,1)\n",
    "plt.hist(correlate_columns(brain_gm,outputs_all_TG))\n",
    "plt.title('Time Point Similarity')\n",
    "plt.subplot(1,2,2)\n",
    "plt.hist(correlate_columns(brain_gm.transpose(),outputs_all_TG.transpose()))\n",
    "plt.title('Voxel Similarity')\n",
    "plt.suptitle('outputs_all_TG')\n",
    "\n",
    "\n",
    "plt.figure(figsize=(15,5))\n",
    "plt.subplot(1,2,1)\n",
    "plt.hist(correlate_columns(brain_gm,outputs_all_BG))\n",
    "plt.title('Time Point Similarity')\n",
    "plt.subplot(1,2,2)\n",
    "plt.hist(correlate_columns(brain_gm.transpose(),outputs_all_BG.transpose()))\n",
    "plt.title('Voxel Similarity')\n",
    "plt.suptitle('outputs_all_BG')\n",
    "\n",
    "\n",
    "plt.figure(figsize=(15,5))\n",
    "plt.subplot(1,2,1)\n",
    "plt.hist(correlate_columns(brain_gm,outputs_all_FG))\n",
    "plt.title('Time Point Similarity')\n",
    "plt.subplot(1,2,2)\n",
    "plt.hist(correlate_columns(brain_gm.transpose(),outputs_all_FG.transpose()))\n",
    "plt.title('Voxel Similarity')\n",
    "plt.suptitle('outputs_all_FG')"
   ]
  },
  {
   "cell_type": "code",
   "execution_count": null,
   "id": "6d438837-07bb-4340-bc0e-c5778f0d1314",
   "metadata": {},
   "outputs": [],
   "source": [
    "if do_synth_data==True:\n",
    "    pca = PCA(n_components=5)\n",
    "    comps = pca.fit_transform(func_cf.transpose())\n",
    "    lin_reg = linear_model.LinearRegression()\n",
    "    lin_reg.fit(comps,func_gm.transpose())\n",
    "    predicted = lin_reg.predict(comps)\n",
    "    residuals = func_gm-predicted.transpose()\n",
    "else:\n",
    "    pca = PCA(n_components=5)\n",
    "    comps = pca.fit_transform(func_cf.transpose())\n",
    "    lin_reg = linear_model.LinearRegression()\n",
    "    lin_reg.fit(comps,brain_gm.transpose())\n",
    "    predicted = lin_reg.predict(comps)\n",
    "    residuals = brain_gm-predicted.transpose()"
   ]
  },
  {
   "cell_type": "code",
   "execution_count": null,
   "id": "4f2e8bb4-4fb7-49c1-9f2b-64924e8f94a5",
   "metadata": {},
   "outputs": [],
   "source": [
    "plt.figure(figsize=(15,5))\n",
    "plt.subplot(1,2,1)\n",
    "plt.hist(correlate_columns(residuals,brain_gm))\n",
    "plt.title('Time Point Similarity')\n",
    "plt.subplot(1,2,2)\n",
    "plt.hist(correlate_columns(brain_gm.transpose(),residuals.transpose()))\n",
    "plt.title('Voxel Similarity')\n",
    "plt.suptitle('COMPCOR')"
   ]
  },
  {
   "cell_type": "code",
   "execution_count": null,
   "id": "7965b063-94a2-4e9b-b727-1740ee035aba",
   "metadata": {},
   "outputs": [],
   "source": [
    "SS_mean = ((brain_gm-brain_gm.mean(axis=1)[:,np.newaxis])**2).mean()\n",
    "SS_deepcorr_TG = ((brain_gm-obs_scale.inverse_transform(outputs_all_TG))**2).mean()\n",
    "SS_deepcorr_BG = ((brain_gm-obs_scale.inverse_transform(outputs_all_BG))**2).mean()\n",
    "SS_deepcorr_FG = ((brain_gm-obs_scale.inverse_transform(outputs_all_FG))**2).mean()\n",
    "SS_compcorr = ((brain_gm-brain_gm.mean(axis=-1)[:,np.newaxis]-residuals)**2).mean()"
   ]
  },
  {
   "cell_type": "code",
   "execution_count": null,
   "id": "0b7049a6-97fd-42c8-8b51-c09f43bff483",
   "metadata": {},
   "outputs": [],
   "source": []
  },
  {
   "cell_type": "code",
   "execution_count": null,
   "id": "755b1f91-94a3-4a2e-a801-9838e28e4ded",
   "metadata": {},
   "outputs": [],
   "source": [
    "# SS_mean = ((gound_truth*240-func_gm.mean(axis=0))**2).mean()\n",
    "# SS_deepcorr = ((gound_truth*240-obs_scale.inverse_transform(outputs_all))**2).mean()\n",
    "# SS_compcorr = ((gound_truth*240-residuals)**2).mean()"
   ]
  },
  {
   "cell_type": "code",
   "execution_count": null,
   "id": "ea2709e4-5402-4a68-9aaf-b5806e7f729a",
   "metadata": {},
   "outputs": [],
   "source": [
    "(SS_mean,SS_compcorr,SS_deepcorr_TG,SS_deepcorr_BG,SS_deepcorr_FG)"
   ]
  },
  {
   "cell_type": "code",
   "execution_count": null,
   "id": "9b47e561-e184-4876-859d-88809608e002",
   "metadata": {
    "editable": true,
    "slideshow": {
     "slide_type": ""
    },
    "tags": []
   },
   "outputs": [],
   "source": [
    "1-(SS_deepcorr_TG/SS_mean)"
   ]
  },
  {
   "cell_type": "code",
   "execution_count": null,
   "id": "92d9d520-83ba-4a07-8c3c-b4b4f736cd1f",
   "metadata": {},
   "outputs": [],
   "source": [
    "1-(SS_deepcorr_BG/SS_mean)"
   ]
  },
  {
   "cell_type": "code",
   "execution_count": null,
   "id": "c5d02dde-74a7-40b2-a03d-c34adff3218f",
   "metadata": {},
   "outputs": [],
   "source": [
    "1-(SS_deepcorr_FG/SS_mean)"
   ]
  },
  {
   "cell_type": "code",
   "execution_count": null,
   "id": "f53a4c56-c8c9-4567-94e4-68402a31cb35",
   "metadata": {
    "editable": true,
    "slideshow": {
     "slide_type": ""
    },
    "tags": []
   },
   "outputs": [],
   "source": [
    "1-(SS_compcorr/SS_mean)"
   ]
  },
  {
   "cell_type": "code",
   "execution_count": null,
   "id": "cd0f4e1e-718c-4320-91b1-d9384d542d0c",
   "metadata": {},
   "outputs": [],
   "source": []
  },
  {
   "cell_type": "code",
   "execution_count": null,
   "id": "2c0c4cf2-2c9e-4ebe-a153-06f2d7abbad0",
   "metadata": {},
   "outputs": [],
   "source": [
    "plt.figure(figsize=(20,5))\n",
    "v = 500\n",
    "plt.plot(brain_gm[v,:],alpha=.5,linewidth=3)\n",
    "plt.plot(residuals[v,:]+brain_gm[v,:].mean(),alpha=.5,linewidth=3)\n",
    "plt.plot(obs_scale.inverse_transform(outputs_all_TG)[v,:],alpha=.5,linewidth=3)\n",
    "plt.plot(obs_scale.inverse_transform(outputs_all_BG)[v,:],alpha=.5,linewidth=3)\n",
    "plt.plot(obs_scale.inverse_transform(outputs_all_FG)[v,:],alpha=.5,linewidth=3)\n",
    "\n",
    "plt.legend(['ORIG','COMPCOR','DEEPCOR-TG','DEEPCOR-BG','DEEPCOR-FG'])"
   ]
  },
  {
   "cell_type": "code",
   "execution_count": null,
   "id": "ef822cc8-674e-4ad3-b331-6ded0ae16a3c",
   "metadata": {},
   "outputs": [],
   "source": [
    "plt.figure(figsize=(20,5))\n",
    "v = 500\n",
    "#plt.plot(brain_gm[v,:],alpha=.5,linewidth=3)\n",
    "#plt.plot(residuals[v,:]+brain_gm[v,:].mean(),alpha=.5,linewidth=3)\n",
    "plt.plot(obs_scale.inverse_transform(outputs_all_TG)[v,:],alpha=.5,linewidth=3)\n",
    "#plt.plot(obs_scale.inverse_transform(outputs_all_BG)[v,:],alpha=.5,linewidth=3)\n",
    "plt.plot(obs_scale.inverse_transform(outputs_all_FG)[v,:],alpha=.5,linewidth=3)\n",
    "#plt.title(['ORIG','COMPCOR','DEEPCOR-TG','DEEPCOR-BG','DEEPCOR-FG'][2])"
   ]
  },
  {
   "cell_type": "code",
   "execution_count": null,
   "id": "b1492050-4276-4eeb-ad08-b743fb17e35f",
   "metadata": {},
   "outputs": [],
   "source": [
    "# plt.figure(figsize=(20,5))\n",
    "# v = 500\n",
    "# #plt.plot(brain_gm[v,:],alpha=.5,linewidth=3)\n",
    "# #plt.plot(residuals[v,:]+brain_gm[v,:].mean(),alpha=.5,linewidth=3)\n",
    "# #plt.plot(obs_scale.inverse_transform(outputs_all_TG)[v,:],alpha=.5,linewidth=3)\n",
    "# #plt.plot(obs_scale.inverse_transform(outputs_all_BG)[v,:],alpha=.5,linewidth=3)\n",
    "# plt.plot(obs_scale.inverse_transform(outputs_all_TG)[v,:]-obs_scale.inverse_transform(outputs_all_BG)[v,:],alpha=.5,linewidth=3)\n",
    "# plt.title(['ORIG','COMPCOR','DEEPCOR-TG','DEEPCOR-BG','DEEPCOR-FG'][2])"
   ]
  },
  {
   "cell_type": "code",
   "execution_count": null,
   "id": "8921f278-c9fc-4f60-af55-50321e32d828",
   "metadata": {},
   "outputs": [],
   "source": []
  },
  {
   "cell_type": "code",
   "execution_count": null,
   "id": "cabf9e99-fc34-4cd8-ac10-151ca4c6c075",
   "metadata": {},
   "outputs": [],
   "source": []
  },
  {
   "cell_type": "code",
   "execution_count": null,
   "id": "23aae96d-eb8d-4155-a5e2-5304235522cc",
   "metadata": {},
   "outputs": [],
   "source": [
    "#plt.plot(obs_scale.inverse_transform(outputs_all).mean(axis=0))"
   ]
  },
  {
   "cell_type": "code",
   "execution_count": null,
   "id": "a0cc452d-f2db-4cde-824b-291f6eec8fa5",
   "metadata": {},
   "outputs": [],
   "source": [
    "print('Data-CompCorr corr: {:.4f}'.format(correlate_columns(brain_gm.transpose(),residuals.transpose()).mean()))\n",
    "print('')\n",
    "print('Data-DeepCor-TG corr: {:.4f}'.format(correlate_columns(brain_gm.transpose(),obs_scale.inverse_transform(outputs_all_TG).transpose()).mean()))\n",
    "print('')\n",
    "print('Data-DeepCor-BG corr: {:.4f}'.format(correlate_columns(brain_gm.transpose(),obs_scale.inverse_transform(outputs_all_BG).transpose()).mean()))\n",
    "print('')\n",
    "print('Data-DeepCor-FG corr: {:.4f}'.format(correlate_columns(brain_gm.transpose(),obs_scale.inverse_transform(outputs_all_FG).transpose()).mean()))\n",
    "\n",
    "print('')\n",
    "print('CompCor-DeepCor-TG corr: {:.4f}'.format(correlate_columns(obs_scale.inverse_transform(outputs_all_TG).transpose(),residuals.transpose()).mean()))\n",
    "print('')\n",
    "print('CompCor-DeepCor-BG corr: {:.4f}'.format(correlate_columns(obs_scale.inverse_transform(outputs_all_BG).transpose(),residuals.transpose()).mean()))\n",
    "print('')\n",
    "print('CompCor-DeepCor-FG corr: {:.4f}'.format(correlate_columns(obs_scale.inverse_transform(outputs_all_FG).transpose(),residuals.transpose()).mean()))"
   ]
  },
  {
   "cell_type": "code",
   "execution_count": null,
   "id": "f4cc59a4-890a-4e6c-89ed-710f95408da5",
   "metadata": {},
   "outputs": [],
   "source": [
    "func_gm.shape"
   ]
  },
  {
   "cell_type": "code",
   "execution_count": null,
   "id": "2c6ff8e2-bc87-4c24-95e2-c359c84a193f",
   "metadata": {},
   "outputs": [],
   "source": [
    "if do_synth_data==True:\n",
    "    print('Data-Grounth-Truth corr: {:.4f}'.format(correlate_columns(func_gm.transpose(),gound_truth.transpose()).mean()))\n",
    "    print('CompCor-Grounth-Truth corr: {:.4f}'.format(correlate_columns(residuals.transpose(),gound_truth.transpose()).mean()))\n",
    "    print('DeepCor-TG-Grounth-Truth corr: {:.4f}'.format(correlate_columns(obs_scale.inverse_transform(outputs_all_TG).transpose(),gound_truth.transpose()).mean()))\n",
    "    print('DeepCor-BG-Grounth-Truth corr: {:.4f}'.format(correlate_columns(obs_scale.inverse_transform(outputs_all_BG).transpose(),gound_truth.transpose()).mean()))\n",
    "    print('DeepCor-FG-Grounth-Truth corr: {:.4f}'.format(correlate_columns(obs_scale.inverse_transform(outputs_all_FG).transpose(),gound_truth.transpose()).mean()))\n",
    "    print('DeepCor-TG-minus-BG-Grounth-Truth corr: {:.4f}'.format(correlate_columns(obs_scale.inverse_transform(outputs_all_TG).transpose()-obs_scale.inverse_transform(outputs_all_BG).transpose(),gound_truth.transpose()).mean()))"
   ]
  },
  {
   "cell_type": "code",
   "execution_count": null,
   "id": "185fd7b2-d581-45d0-a5a3-a365b499a4ca",
   "metadata": {},
   "outputs": [],
   "source": [
    "#fmri_img = nib.load(epi_fn.format(sub=sub,r=r))\n",
    "#fmri_img = nib.load(epi_fn.format(sub=sub,r=r).replace('preproc_bold.nii','COMPCORR_bold.nii'))\n",
    "#fmri_img = nib.load(epi_fn.format(sub=sub,r=r).replace('preproc_bold.nii','DEEPCOR_bold.nii'))"
   ]
  },
  {
   "cell_type": "code",
   "execution_count": null,
   "id": "0091f728-9fe6-40c1-a9db-022f5b5b3447",
   "metadata": {},
   "outputs": [],
   "source": [
    "def plot_GLM(fmri_img,suptitle=None):\n",
    "    import nibabel as nib\n",
    "    from nilearn.glm.first_level import FirstLevelModel\n",
    "    import pandas as pd\n",
    "    from nilearn.input_data import NiftiMasker\n",
    "    \n",
    "    \n",
    "    events_fn = '../Data/010-Data_bids2/{sub}/ses-baselineYear1Arm1/func/{sub}_ses-baselineYear1Arm1_task-nback_run-0{r}_events.tsv'\n",
    "    assert os.path.exists(events_fn.format(sub=sub,r=r)), 'no events file'\n",
    "    events = pd.read_csv(events_fn.format(sub=sub,r=r),delimiter='\\t')\n",
    "    \n",
    "    \n",
    "    mask_img_fn = '../Misc/ffa_mask_resampled.nii'\n",
    "    mask_im = ants.image_read(mask_img_fn)\n",
    "    \n",
    "    from nilearn.glm.first_level import FirstLevelModel\n",
    "    from nilearn import plotting, image\n",
    "    \n",
    "    # Load your mask image\n",
    "    mask_img = image.load_img(mask_img_fn)\n",
    "    \n",
    "    # Initialize the FirstLevelModel\n",
    "    first_level_model = FirstLevelModel(mask_img=mask_img, t_r=0.8, noise_model='ar1',minimize_memory=False,standardize=True)\n",
    "    \n",
    "    # Fit the model to your fMRI data\n",
    "    first_level_model = first_level_model.fit(fmri_img, events=events)\n",
    "    \n",
    "    # Specify the contrasts you want to analyze\n",
    "    # Assuming you have the names of your conditions in the events file (e.g., 'condition1', 'condition2')\n",
    "    contrast_matrix = first_level_model.design_matrices_[0].columns\n",
    "    \n",
    "    # Estimate contrasts (example: testing all conditions)\n",
    "    do_glm_plot = False\n",
    "    if do_glm_plot==True:\n",
    "        for condition in contrast_matrix:\n",
    "            z_map = first_level_model.compute_contrast(condition, output_type='z_score')\n",
    "            \n",
    "            # Visualize the Z map for the condition\n",
    "            plotting.plot_stat_map(z_map, title=condition, threshold=3.0)\n",
    "            plotting.show()\n",
    "    \n",
    "    \n",
    "    arr = [first_level_model.compute_contrast(con, output_type='z_score').get_fdata()[mask_im.numpy()==1].mean() for con in contrast_matrix]\n",
    "    \n",
    "    plt.figure(figsize=(30,5))\n",
    "    plt.subplot(1,8,1)\n",
    "    face_z = np.array(arr)[np.array([0,1,3,4,5,7])].mean()\n",
    "    pace_z = np.array(arr)[np.array([2,6])].mean()\n",
    "    other_z = np.array(arr)[np.array([8,9,10,11,12,13,14,15])].mean() \n",
    "    \n",
    "    plt.bar([0,1,2],(face_z,pace_z,other_z));\n",
    "    plt.xticks([0,1,2],labels=['face','place','other']);\n",
    "    plt.title('AVG Z by cat')\n",
    "    \n",
    "    plt.subplot(1,8,2)\n",
    "    xs = np.array([0,1,3,4,5,7])\n",
    "    ys = np.array(arr)[xs]\n",
    "    plt.plot(xs,ys,'r.',markersize=20)\n",
    "    plt.title('z values')\n",
    "    \n",
    "    xs = np.array([2,6])\n",
    "    ys = np.array(arr)[xs]\n",
    "    plt.plot(xs,ys,'b.',markersize=20)\n",
    "    \n",
    "    xs = np.array([8,9,10,11,12,13,14,15])\n",
    "    ys = np.array(arr)[xs]\n",
    "    plt.plot(xs,ys,'k.',markersize=20)\n",
    "    plt.legend(['face','place','other'])\n",
    "    \n",
    "    plt.subplot(1,8,3)\n",
    "    plt.plot(fmri_img.get_fdata()[mask_im.numpy()==1].transpose()[:,0:50],alpha=.3);plt.title('voxels over time')\n",
    "    \n",
    "    plt.subplot(1,8,4);plt.plot(fmri_img.get_fdata()[mask_im.numpy()==1].mean(axis=0));plt.title('voxels over time AVG')\n",
    "    \n",
    "    plt.subplot(1,8,5);plt.plot(first_level_model.predicted[0].get_fdata()[mask_im.numpy()==1].mean(axis=0),'k-',linewidth=5);plt.title('Predicted resp')\n",
    "    \n",
    "    plt.subplot(1,8,6);plt.hist(first_level_model.r_square[0].get_fdata()[:,:,:,0][mask_im.numpy()==1]);plt.title('r square')\n",
    "    \n",
    "    plt.subplot(1,8,7);plt.plot(first_level_model.residuals[0].get_fdata()[mask_im.numpy()==1].mean(axis=0));plt.title('residuals over time')\n",
    "    plt.subplot(1,8,8);plt.hist(first_level_model.residuals[0].get_fdata()[mask_im.numpy()==1].mean(axis=1));plt.title('residuals hist')\n",
    "    \n",
    "    plt.suptitle(suptitle)\n",
    "\n",
    "    return arr"
   ]
  },
  {
   "cell_type": "code",
   "execution_count": null,
   "id": "512a6c83-d872-4313-afbe-5562a3f5dc5a",
   "metadata": {},
   "outputs": [],
   "source": []
  },
  {
   "cell_type": "code",
   "execution_count": null,
   "id": "e0ccc480-ec8b-4017-b467-fbe0eebe7a43",
   "metadata": {
    "editable": true,
    "slideshow": {
     "slide_type": ""
    },
    "tags": []
   },
   "outputs": [],
   "source": [
    "# %%time\n",
    "# if do_synth_data==False:\n",
    "#     plot_GLM(nib.load(epi_fn.format(sub=sub,r=r).replace('preproc_bold.nii','DEEPCOR_bold.nii')),suptitle='DEEPCOR')\n",
    "#     plot_GLM(nib.load(epi_fn.format(sub=sub,r=r).replace('preproc_bold.nii','COMPCORR_bold.nii')),suptitle='COMPCOPR')\n",
    "#     plot_GLM(nib.load(epi_fn.format(sub=sub,r=r).replace('preproc_bold.nii','DEEPCOR-TG_bold.nii')),suptitle='DEEPCOR-TG')\n",
    "#     plot_GLM(nib.load(epi_fn.format(sub=sub,r=r).replace('preproc_bold.nii','DEEPCOR-BG_bold.nii')),suptitle='DEEPCOR-BG')\n",
    "#     plot_GLM(nib.load(epi_fn.format(sub=sub,r=r).replace('preproc_bold.nii','DEEPCOR-FG_bold.nii')),suptitle='DEEPCOR-FG')\n",
    "#     plot_GLM(nib.load(epi_fn.format(sub=sub,r=r).replace('preproc_bold.nii','DEEPCOR-twin_bold.nii')),suptitle='DEEPCOR-twin')"
   ]
  },
  {
   "cell_type": "code",
   "execution_count": null,
   "id": "e14fb174-abae-490d-9b96-c69bcb2e55b2",
   "metadata": {},
   "outputs": [],
   "source": []
  },
  {
   "cell_type": "code",
   "execution_count": null,
   "id": "b508f0bd-e5e0-49b7-affe-8dbad748aa7e",
   "metadata": {},
   "outputs": [],
   "source": []
  },
  {
   "cell_type": "code",
   "execution_count": null,
   "id": "2d9bf743-87bc-43a3-8573-328f31caeefc",
   "metadata": {},
   "outputs": [],
   "source": []
  },
  {
   "cell_type": "code",
   "execution_count": null,
   "id": "52e4debf-e01b-4a91-bc83-ad999193862d",
   "metadata": {},
   "outputs": [],
   "source": []
  },
  {
   "cell_type": "code",
   "execution_count": null,
   "id": "87b82381-1e90-4600-8578-9370d1dc9dbe",
   "metadata": {},
   "outputs": [],
   "source": [
    "#con_vec = np.array([1,1,-3,1,1,1,-3,1,0,0,0,0,0,0,0,0])\n",
    "#first_level_model.compute_contrast(con, output_type='z_score')\n",
    "#con = first_level_model.compute_contrast(con_vec, stat_type='t',output_type='stat')\n",
    "\n",
    "#plotting.plot_stat_map(con, title='face>place', threshold=3.0)\n",
    "#plotting.show()"
   ]
  },
  {
   "cell_type": "code",
   "execution_count": null,
   "id": "92e4c0ac-46c7-4f48-beee-7532dd7c7de2",
   "metadata": {},
   "outputs": [],
   "source": []
  },
  {
   "cell_type": "code",
   "execution_count": null,
   "id": "81881d58-b083-4972-a5d8-74694c8ee691",
   "metadata": {},
   "outputs": [],
   "source": []
  },
  {
   "cell_type": "code",
   "execution_count": null,
   "id": "d8c49e49-100d-4886-8052-3eb0a116f1db",
   "metadata": {},
   "outputs": [],
   "source": [
    "# def get_res_ims(name,stat='b'):\n",
    "#     #name = 'preproc'\n",
    "#     #name = 'COMPCORR'    \n",
    "#     #name = 'DEEPCOR-TG'\n",
    "#     #name = 'DEEPCOR-FG'\n",
    "#     #name = 'DEEPCOR-BG'\n",
    "#     #im = ants.image_read(epi_fn.format(sub=sub,r=r))\n",
    "#     im = ants.image_read(epi_fn.format(sub=sub,r=r).replace('preproc',name))\n",
    "#     #im = ants.image_read(epi_fn.format(sub=sub,r=r).replace('preproc','DEEPCOR-FG'))\n",
    "#     epi_flat = im.numpy().reshape(-1,im.shape[-1])\n",
    "    \n",
    "#     mask_fn = f'../Data/020-fmriprepped/{sub}/ses-baselineYear1Arm1/anat/{sub}_ses-baselineYear1Arm1_run-01_space-MNI152NLin2009cAsym_res-2_label-GM_probseg.nii.gz'\n",
    "#     mask = ants.image_read(mask_fn)\n",
    "#     mask_flat = mask.numpy().flatten()>.5\n",
    "#     mask_flat.shape\n",
    "\n",
    "#     if stat=='b':\n",
    "#         betas = np.linalg.lstsq(X1.values, epi_flat[mask_flat,:].transpose(), rcond=None)[0]\n",
    "#         face_betas = betas[np.array([0,1,3,4,5,7]),:].mean()\n",
    "#         place_betas = betas[np.array([2,6]),:].mean()\n",
    "\n",
    "#     if stat=='r':\n",
    "#         regmat = np.array([face_reg for _ in range(mask_flat.sum())])\n",
    "#         res = correlate_columns(epi_flat[mask_flat,:].transpose(),regmat.transpose())\n",
    "#     elif stat=='b':\n",
    "#         res = face_betas\n",
    "        \n",
    "#     res_flat = np.zeros(mask_flat.shape)\n",
    "#     res_flat[mask_flat] = res\n",
    "#     res_flat[np.isnan(res_flat)]=0\n",
    "    \n",
    "#     res_im = mask.new_image_like(res_flat.reshape(mask.numpy().shape))\n",
    "#     #res_im.to_filename(f'../{name}-im_face.nii')\n",
    "    \n",
    "#     im_face = res_im\n",
    "\n",
    "#     if stat=='r':\n",
    "#         regmat = np.array([place_reg for _ in range(mask_flat.sum())])\n",
    "#         res = correlate_columns(epi_flat[mask_flat,:].transpose(),regmat.transpose())\n",
    "#     elif stat=='b':\n",
    "#         res = place_betas\n",
    "    \n",
    "#     res_flat = np.zeros(mask_flat.shape)\n",
    "#     res_flat[mask_flat] = res\n",
    "#     res_flat[np.isnan(res_flat)]=0\n",
    "    \n",
    "#     res_im = mask.new_image_like(res_flat.reshape(mask.numpy().shape))\n",
    "#     #res_im.to_filename(f'../{name}-im_place.nii')\n",
    "    \n",
    "#     im_place = res_im\n",
    "    \n",
    "#     #(im_face-im_place).to_filename(f'../{name}-im_diff.nii')\n",
    "#     im_diff = (im_face-im_place)\n",
    "#     im_face_smooth = ants.smooth_image(image=im_face,sigma=6,sigma_in_physical_coordinates=True,FWHM=True,max_kernel_width=32)\n",
    "#     im_place_smooth = ants.smooth_image(image=im_place,sigma=6,sigma_in_physical_coordinates=True,FWHM=True,max_kernel_width=32)\n",
    "#     im_diff_smooth = ants.smooth_image(image=im_diff,sigma=6,sigma_in_physical_coordinates=True,FWHM=True,max_kernel_width=32)\n",
    "    \n",
    "#     #im_face_smooth.to_filename(f'../{name}-im_face_smooth.nii')\n",
    "#     #im_place_smooth.to_filename(f'../{name}-im_place_smooth.nii')\n",
    "#     #im_diff_smooth.to_filename(f'../{name}-im_diff_smooth.nii')\n",
    "    \n",
    "#     res = {}\n",
    "#     res['im_face'] = im_face\n",
    "#     res['im_place'] = im_place\n",
    "#     res['im_diff'] = im_diff\n",
    "#     res['im_face_smooth'] = im_face_smooth\n",
    "#     res['im_place_smooth'] = im_place_smooth\n",
    "#     res['im_diff_smooth'] = im_diff_smooth\n",
    "    \n",
    "#     return res"
   ]
  },
  {
   "cell_type": "code",
   "execution_count": null,
   "id": "87c91daa-fe4b-4b88-8fba-6a55c2555c03",
   "metadata": {},
   "outputs": [],
   "source": [
    "# ffa_map = ants.image_read('../Misc/ffa_map_resampled.nii')\n",
    "# ffa_mask = ffa_map.numpy()>10\n",
    "# ffa_mask.sum()"
   ]
  },
  {
   "cell_type": "code",
   "execution_count": null,
   "id": "36d0408a-43b2-4994-8cd8-b534089d6464",
   "metadata": {},
   "outputs": [],
   "source": []
  },
  {
   "cell_type": "code",
   "execution_count": null,
   "id": "3ae5f07a-8f24-4c54-bfe6-92eda1ac1c08",
   "metadata": {},
   "outputs": [],
   "source": [
    "# res_preproc = get_res_ims('preproc',stat='b')\n",
    "# res_compcor = get_res_ims('COMPCORR',stat='b')\n",
    "# res_deepcor_tg = get_res_ims(f'DEEPCOR-TG-{rep}',stat='b')\n",
    "# res_deepcor_fg = get_res_ims(f'DEEPCOR-FG-{rep}',stat='b')\n",
    "# res_deepcor_bg = get_res_ims(f'DEEPCOR-BG-{rep}',stat='b')\n",
    "\n",
    "# for key in ['im_face', 'im_place', 'im_diff']:\n",
    "#     arrs = [res_preproc[key].numpy()[ffa_mask==1],\n",
    "#     res_compcor[key].numpy()[ffa_mask==1],\n",
    "#     res_deepcor_tg[key].numpy()[ffa_mask==1],\n",
    "#     res_deepcor_fg[key].numpy()[ffa_mask==1],\n",
    "#     res_deepcor_bg[key].numpy()[ffa_mask==1],]\n",
    "    \n",
    "#     plt.figure(figsize=(15,5))\n",
    "#     ys = [arr.mean() for arr in arrs]\n",
    "#     xs = np.arange(len(ys));\n",
    "#     plt.bar(xs,ys);\n",
    "#     plt.xticks(xs,['res_preproc','res_compcor','res_deepcor_tg','res_deepcor_fg','res_deepcor_bg',]);\n",
    "#     plt.title(key);"
   ]
  },
  {
   "cell_type": "code",
   "execution_count": null,
   "id": "2ed4c6e5-cc67-402e-94d9-0bdf66ae21f6",
   "metadata": {},
   "outputs": [],
   "source": []
  },
  {
   "cell_type": "code",
   "execution_count": null,
   "id": "3513f784-9af7-49b2-ada2-c6900baa3bb4",
   "metadata": {},
   "outputs": [],
   "source": [
    "# res_preproc = get_res_ims('preproc',stat='r')\n",
    "# res_compcor = get_res_ims('COMPCORR',stat='r')\n",
    "# res_deepcor_tg = get_res_ims(f'DEEPCOR-TG-{rep}',stat='r')\n",
    "# res_deepcor_fg = get_res_ims(f'DEEPCOR-FG-{rep}',stat='r')\n",
    "# res_deepcor_bg = get_res_ims(f'DEEPCOR-BG-{rep}',stat='r')\n",
    "\n",
    "# for key in ['im_face', 'im_place', 'im_diff']:\n",
    "#     arrs = [res_preproc[key].numpy()[ffa_mask==1],\n",
    "#     res_compcor[key].numpy()[ffa_mask==1],\n",
    "#     res_deepcor_tg[key].numpy()[ffa_mask==1],\n",
    "#     res_deepcor_fg[key].numpy()[ffa_mask==1],\n",
    "#     res_deepcor_bg[key].numpy()[ffa_mask==1],]\n",
    "    \n",
    "#     plt.figure(figsize=(15,5))\n",
    "#     ys = [arr.mean() for arr in arrs]\n",
    "#     xs = np.arange(len(ys));\n",
    "#     plt.bar(xs,ys);\n",
    "#     plt.xticks(xs,['res_preproc','res_compcor','res_deepcor_tg','res_deepcor_fg','res_deepcor_bg',]);\n",
    "#     plt.title(key);"
   ]
  },
  {
   "cell_type": "code",
   "execution_count": null,
   "id": "5fe7238c-64f7-48c0-8227-18919b5c364d",
   "metadata": {},
   "outputs": [],
   "source": []
  },
  {
   "cell_type": "code",
   "execution_count": null,
   "id": "5189660a-9faa-408c-afed-9036c194c7ea",
   "metadata": {},
   "outputs": [],
   "source": []
  },
  {
   "cell_type": "code",
   "execution_count": null,
   "id": "aa16ec90-84f4-466c-a8e8-a37e5bf22b03",
   "metadata": {},
   "outputs": [],
   "source": []
  },
  {
   "cell_type": "code",
   "execution_count": null,
   "id": "f83ed831-327c-4a72-977f-0c7518231ee0",
   "metadata": {},
   "outputs": [],
   "source": []
  },
  {
   "cell_type": "code",
   "execution_count": null,
   "id": "61033eb3-8615-4bb0-ba24-9d640ee576bf",
   "metadata": {},
   "outputs": [],
   "source": []
  },
  {
   "cell_type": "code",
   "execution_count": null,
   "id": "8bdc1a87-d6ef-4f1a-8fc3-53b63b9eb02b",
   "metadata": {},
   "outputs": [],
   "source": []
  },
  {
   "cell_type": "code",
   "execution_count": null,
   "id": "6f50646c-b58d-4e1e-9ddc-8ecbeafc36ad",
   "metadata": {},
   "outputs": [],
   "source": []
  },
  {
   "cell_type": "code",
   "execution_count": null,
   "id": "e2b77c7a-1dcf-4a12-b588-48f36e49e735",
   "metadata": {
    "editable": true,
    "slideshow": {
     "slide_type": ""
    },
    "tags": []
   },
   "outputs": [],
   "source": []
  },
  {
   "cell_type": "code",
   "execution_count": null,
   "id": "450a5c04-82e7-4447-b421-3930e1481b0a",
   "metadata": {},
   "outputs": [],
   "source": []
  },
  {
   "cell_type": "code",
   "execution_count": null,
   "id": "3aa17142-0d26-42eb-845c-f87af40a2d73",
   "metadata": {},
   "outputs": [],
   "source": []
  },
  {
   "cell_type": "code",
   "execution_count": null,
   "id": "4a11bb1c-152e-4489-b639-ce2f16a28ba9",
   "metadata": {},
   "outputs": [],
   "source": []
  }
 ],
 "metadata": {
  "kernelspec": {
   "display_name": "Python 3 (ipykernel)",
   "language": "python",
   "name": "python3"
  },
  "language_info": {
   "codemirror_mode": {
    "name": "ipython",
    "version": 3
   },
   "file_extension": ".py",
   "mimetype": "text/x-python",
   "name": "python",
   "nbconvert_exporter": "python",
   "pygments_lexer": "ipython3",
   "version": "3.8.17"
  }
 },
 "nbformat": 4,
 "nbformat_minor": 5
}
