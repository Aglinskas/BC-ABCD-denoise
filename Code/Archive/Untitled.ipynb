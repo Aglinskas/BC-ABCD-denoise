{
 "cells": [
  {
   "cell_type": "code",
   "execution_count": 3,
   "id": "9069299f-4be1-428b-8ed2-b751953f13ec",
   "metadata": {},
   "outputs": [
    {
     "name": "stdout",
     "output_type": "stream",
     "text": [
      "Wed Oct  2 14:18:22 EDT 2024\n"
     ]
    }
   ],
   "source": [
    "!date"
   ]
  },
  {
   "cell_type": "code",
   "execution_count": 2,
   "id": "414c1185-3bd5-4dcd-a0f7-edba842cce55",
   "metadata": {},
   "outputs": [
    {
     "data": {
      "text/plain": [
       "'/mmfs1/data/aglinska/BC-ABCD-denoise/Code'"
      ]
     },
     "execution_count": 2,
     "metadata": {},
     "output_type": "execute_result"
    }
   ],
   "source": [
    "pwd"
   ]
  },
  {
   "cell_type": "code",
   "execution_count": 62,
   "id": "4e437e8e-a4cc-4c68-a50c-9e01ae00b324",
   "metadata": {},
   "outputs": [],
   "source": [
    "import os\n",
    "import numpy as np\n",
    "import pandas as pd\n",
    "import ants\n",
    "from tqdm import tqdm\n",
    "from matplotlib import pyplot as plt"
   ]
  },
  {
   "cell_type": "code",
   "execution_count": 94,
   "id": "2c9aa71a-d511-4f0e-82cc-9a594c2ada43",
   "metadata": {},
   "outputs": [],
   "source": [
    "def correlate_columns(arr1, arr2):\n",
    "    \"\"\"\n",
    "    Computes the Pearson correlation between corresponding columns of two matrices.\n",
    "    \n",
    "    Parameters:\n",
    "    arr1 (np.ndarray): First matrix of shape (370, 1000)\n",
    "    arr2 (np.ndarray): Second matrix of shape (370, 1000)\n",
    "    \n",
    "    Returns:\n",
    "    np.ndarray: 1D array of correlations for each column (size 1000)\n",
    "    \"\"\"\n",
    "    # Ensure input arrays are numpy arrays\n",
    "    arr1 = np.asarray(arr1)\n",
    "    arr2 = np.asarray(arr2)\n",
    "    \n",
    "    # Subtract the mean of each column (normalize)\n",
    "    arr1_centered = arr1 - np.mean(arr1, axis=0)\n",
    "    arr2_centered = arr2 - np.mean(arr2, axis=0)\n",
    "    \n",
    "    # Compute the numerator (covariance)\n",
    "    numerator = np.sum(arr1_centered * arr2_centered, axis=0)\n",
    "    \n",
    "    # Compute the denominator (product of standard deviations)\n",
    "    denominator = np.sqrt(np.sum(arr1_centered**2, axis=0) * np.sum(arr2_centered**2, axis=0))\n",
    "    \n",
    "    # Compute the Pearson correlation for each column\n",
    "    correlation = numerator / denominator\n",
    "    \n",
    "    return correlation\n",
    "\n",
    "# Example usage:\n",
    "#ARR1 = np.random.rand(370, 1000)  # Replace with your actual matrix\n",
    "#ARR2 = np.random.rand(370, 1000)  # Replace with your actual matrix\n",
    "#correlations = correlate_columns(ARR1, ARR2)"
   ]
  },
  {
   "cell_type": "code",
   "execution_count": 156,
   "id": "10cb9d3f-0a3f-4dac-a3be-dced4ea84473",
   "metadata": {},
   "outputs": [
    {
     "name": "stdout",
     "output_type": "stream",
     "text": [
      "34/34\n"
     ]
    }
   ],
   "source": [
    "indir = '../Data/020-fmriprepped/'\n",
    "subs_orig = [s for s in os.listdir(indir) if all((s.startswith('sub'),not s.endswith('.html')))]\n",
    "n_orig = len(subs_orig)\n",
    "epi_fn = os.path.join(indir,'{sub}/ses-baselineYear1Arm1/func/{sub}_ses-baselineYear1Arm1_task-nback_run-0{r}_space-MNI152NLin2009cAsym_res-2_desc-preproc_bold.nii')\n",
    "cf_fn = os.path.join(indir,'{sub}/ses-baselineYear1Arm1/anat/analysis_mask_CF.nii')\n",
    "gm_fn = os.path.join(indir,'{sub}/ses-baselineYear1Arm1/anat/analysis_mask_GM.nii')\n",
    "\n",
    "subs = [sub for sub in subs_orig if all(( \n",
    "    os.path.exists(epi_fn.format(sub=sub,r=1)),\n",
    "    os.path.exists(epi_fn.format(sub=sub,r=2)),\n",
    "    os.path.exists(cf_fn.format(sub=sub)),\n",
    "    os.path.exists(gm_fn.format(sub=sub)),\n",
    "    os.path.exists(epi_fn.format(sub=sub,r=1).replace('preproc','DEEPCOR'))\n",
    "    ))]\n",
    "\n",
    "subs.sort()\n",
    "print(f'{len(subs)}/{len(subs_orig)}')"
   ]
  },
  {
   "cell_type": "code",
   "execution_count": 8,
   "id": "7a8a8d75-d867-41ba-b172-a3e5b970f305",
   "metadata": {},
   "outputs": [],
   "source": [
    "s = 4\n",
    "r = 1"
   ]
  },
  {
   "cell_type": "code",
   "execution_count": 9,
   "id": "74621f68-7220-4143-b211-bf2b466e4712",
   "metadata": {},
   "outputs": [
    {
     "name": "stdout",
     "output_type": "stream",
     "text": [
      "sub-NDARINV6WXU5DEY\n"
     ]
    }
   ],
   "source": [
    "s = int(s)\n",
    "r = int(r)\n",
    "\n",
    "sub = subs[s]\n",
    "print(sub)"
   ]
  },
  {
   "cell_type": "code",
   "execution_count": 142,
   "id": "4dc21ff3-ad8e-45ac-bea8-bc2a8596731a",
   "metadata": {},
   "outputs": [],
   "source": [
    "brain = ants.image_read(epi_fn.format(sub=sub,r=r).replace('preproc_bold','brain_mask')+'.gz')\n",
    "#brain = ants.image_read(gm_fn.format(sub=sub))"
   ]
  },
  {
   "cell_type": "code",
   "execution_count": 143,
   "id": "4e12e75a-567e-42c0-8909-f76437ef1c37",
   "metadata": {},
   "outputs": [],
   "source": [
    "epi = ants.image_read(epi_fn.format(sub=sub,r=r))\n",
    "denoised = ants.image_read(epi_fn.format(sub=sub,r=r).replace('preproc','DEEPCOR'))"
   ]
  },
  {
   "cell_type": "code",
   "execution_count": 144,
   "id": "066ab4d2-6570-4225-886b-1690a5bee330",
   "metadata": {},
   "outputs": [],
   "source": [
    "brain_flat = brain.numpy().flatten()"
   ]
  },
  {
   "cell_type": "code",
   "execution_count": 145,
   "id": "11411f61-8763-4661-9236-167f16228d0a",
   "metadata": {},
   "outputs": [],
   "source": [
    "nt = epi.shape[-1] # Number of timepoints\n",
    "epi_flat = epi.numpy().reshape(-1,nt).transpose() # (370, 1082035)\n",
    "denoised_flat = denoised.numpy().reshape(-1,nt).transpose() # (370, 1082035)"
   ]
  },
  {
   "cell_type": "code",
   "execution_count": 146,
   "id": "db307067-c70e-4b13-bfdd-c4c99b9b1f52",
   "metadata": {},
   "outputs": [],
   "source": [
    "corrVals_flat = np.zeros(denoised_flat.shape[1])"
   ]
  },
  {
   "cell_type": "code",
   "execution_count": 147,
   "id": "ce1df710-cc20-4891-b4e4-b140dab22744",
   "metadata": {},
   "outputs": [],
   "source": [
    "nostd1 = epi_flat.std(axis=0)!=0\n",
    "nostd2 = denoised_flat.std(axis=0)!=0\n",
    "\n",
    "notflat = nostd1*nostd2"
   ]
  },
  {
   "cell_type": "code",
   "execution_count": 148,
   "id": "ab8dcb48-973b-48a2-9d78-26b2b781d573",
   "metadata": {},
   "outputs": [],
   "source": [
    "isbrain=brain_flat==1"
   ]
  },
  {
   "cell_type": "code",
   "execution_count": 149,
   "id": "25faf74c-082a-449a-a985-380901f9105d",
   "metadata": {},
   "outputs": [],
   "source": [
    "arr1 = epi_flat[:,isbrain*notflat]\n",
    "arr2 = denoised_flat[:,isbrain*notflat]"
   ]
  },
  {
   "cell_type": "code",
   "execution_count": 150,
   "id": "712a54f6-be50-4125-bc6c-4e09ddbc0227",
   "metadata": {},
   "outputs": [],
   "source": [
    "corrVals_flat[isbrain*notflat]=correlate_columns(arr1, arr2)"
   ]
  },
  {
   "cell_type": "code",
   "execution_count": 151,
   "id": "ef905e2b-e591-4532-b6f8-5306225c9cd4",
   "metadata": {},
   "outputs": [],
   "source": [
    "corrBrain = brain.new_image_like(corrVals_flat.reshape(brain.shape))"
   ]
  },
  {
   "cell_type": "code",
   "execution_count": 152,
   "id": "f3e63597-903a-4a0a-a877-01d0285180ac",
   "metadata": {},
   "outputs": [],
   "source": [
    "corrBrain.to_filename(f'../Data/DeepCorr-inout-corr/{s}-{r}.nii')"
   ]
  },
  {
   "cell_type": "code",
   "execution_count": null,
   "id": "f911b276-69c6-4589-bb39-7416dbb3497b",
   "metadata": {},
   "outputs": [],
   "source": []
  },
  {
   "cell_type": "code",
   "execution_count": null,
   "id": "703a2032-9de7-43bf-8a93-5610b7ed3519",
   "metadata": {},
   "outputs": [],
   "source": []
  },
  {
   "cell_type": "code",
   "execution_count": 179,
   "id": "3e91d0ac-2422-45e7-9785-17d2e6ac4c20",
   "metadata": {},
   "outputs": [
    {
     "name": "stderr",
     "output_type": "stream",
     "text": [
      "  0%|                                                    | 0/34 [00:00<?, ?it/s]"
     ]
    },
    {
     "name": "stdout",
     "output_type": "stream",
     "text": [
      "sub-NDARINV1H7JEJW1\n"
     ]
    },
    {
     "name": "stderr",
     "output_type": "stream",
     "text": [
      "  3%|█▎                                          | 1/34 [00:19<10:52, 19.79s/it]"
     ]
    },
    {
     "name": "stdout",
     "output_type": "stream",
     "text": [
      "sub-NDARINV29P0F670\n"
     ]
    },
    {
     "name": "stderr",
     "output_type": "stream",
     "text": [
      "  6%|██▌                                         | 2/34 [00:39<10:36, 19.88s/it]"
     ]
    },
    {
     "name": "stdout",
     "output_type": "stream",
     "text": [
      "sub-NDARINV3385AZ13\n"
     ]
    },
    {
     "name": "stderr",
     "output_type": "stream",
     "text": [
      "  9%|███▉                                        | 3/34 [01:00<10:23, 20.10s/it]"
     ]
    },
    {
     "name": "stdout",
     "output_type": "stream",
     "text": [
      "sub-NDARINV5YHWBYRD\n"
     ]
    },
    {
     "name": "stderr",
     "output_type": "stream",
     "text": [
      " 12%|█████▏                                      | 4/34 [01:19<09:59, 19.99s/it]"
     ]
    },
    {
     "name": "stdout",
     "output_type": "stream",
     "text": [
      "sub-NDARINV6WXU5DEY\n"
     ]
    },
    {
     "name": "stderr",
     "output_type": "stream",
     "text": [
      " 15%|██████▍                                     | 5/34 [01:40<09:41, 20.06s/it]"
     ]
    },
    {
     "name": "stdout",
     "output_type": "stream",
     "text": [
      "sub-NDARINV8RN0AJRP\n"
     ]
    },
    {
     "name": "stderr",
     "output_type": "stream",
     "text": [
      " 18%|███████▊                                    | 6/34 [02:00<09:22, 20.10s/it]"
     ]
    },
    {
     "name": "stdout",
     "output_type": "stream",
     "text": [
      "sub-NDARINVE1XNAPC7\n"
     ]
    },
    {
     "name": "stderr",
     "output_type": "stream",
     "text": [
      " 21%|█████████                                   | 7/34 [02:20<09:02, 20.09s/it]"
     ]
    },
    {
     "name": "stdout",
     "output_type": "stream",
     "text": [
      "sub-NDARINVET4W53Z8\n"
     ]
    },
    {
     "name": "stderr",
     "output_type": "stream",
     "text": [
      " 24%|██████████▎                                 | 8/34 [02:40<08:40, 20.03s/it]"
     ]
    },
    {
     "name": "stdout",
     "output_type": "stream",
     "text": [
      "sub-NDARINVG0K2DRXF\n"
     ]
    },
    {
     "name": "stderr",
     "output_type": "stream",
     "text": [
      " 26%|███████████▋                                | 9/34 [03:00<08:20, 20.00s/it]"
     ]
    },
    {
     "name": "stdout",
     "output_type": "stream",
     "text": [
      "sub-NDARINVHPU5TKNF\n"
     ]
    },
    {
     "name": "stderr",
     "output_type": "stream",
     "text": [
      " 29%|████████████▋                              | 10/34 [03:20<08:02, 20.12s/it]"
     ]
    },
    {
     "name": "stdout",
     "output_type": "stream",
     "text": [
      "sub-NDARINVHRTU9HVX\n"
     ]
    },
    {
     "name": "stderr",
     "output_type": "stream",
     "text": [
      " 32%|█████████████▉                             | 11/34 [03:40<07:43, 20.14s/it]"
     ]
    },
    {
     "name": "stdout",
     "output_type": "stream",
     "text": [
      "sub-NDARINVJNDY0DWK\n"
     ]
    },
    {
     "name": "stderr",
     "output_type": "stream",
     "text": [
      " 35%|███████████████▏                           | 12/34 [04:00<07:20, 20.01s/it]"
     ]
    },
    {
     "name": "stdout",
     "output_type": "stream",
     "text": [
      "sub-NDARINVJPMRY00B\n"
     ]
    },
    {
     "name": "stderr",
     "output_type": "stream",
     "text": [
      " 38%|████████████████▍                          | 13/34 [04:20<07:00, 20.01s/it]"
     ]
    },
    {
     "name": "stdout",
     "output_type": "stream",
     "text": [
      "sub-NDARINVKK5BJGB6\n"
     ]
    },
    {
     "name": "stderr",
     "output_type": "stream",
     "text": [
      " 41%|█████████████████▋                         | 14/34 [04:40<06:41, 20.07s/it]"
     ]
    },
    {
     "name": "stdout",
     "output_type": "stream",
     "text": [
      "sub-NDARINVMMN463FT\n"
     ]
    },
    {
     "name": "stderr",
     "output_type": "stream",
     "text": [
      " 44%|██████████████████▉                        | 15/34 [05:00<06:20, 20.02s/it]"
     ]
    },
    {
     "name": "stdout",
     "output_type": "stream",
     "text": [
      "sub-NDARINVN9D4XZKE\n"
     ]
    },
    {
     "name": "stderr",
     "output_type": "stream",
     "text": [
      " 47%|████████████████████▏                      | 16/34 [05:20<06:02, 20.11s/it]"
     ]
    },
    {
     "name": "stdout",
     "output_type": "stream",
     "text": [
      "sub-NDARINVNNNX0496\n"
     ]
    },
    {
     "name": "stderr",
     "output_type": "stream",
     "text": [
      " 50%|█████████████████████▌                     | 17/34 [05:41<05:44, 20.24s/it]"
     ]
    },
    {
     "name": "stdout",
     "output_type": "stream",
     "text": [
      "sub-NDARINVPAJ26DUR\n"
     ]
    },
    {
     "name": "stderr",
     "output_type": "stream",
     "text": [
      " 53%|██████████████████████▊                    | 18/34 [06:01<05:24, 20.29s/it]"
     ]
    },
    {
     "name": "stdout",
     "output_type": "stream",
     "text": [
      "sub-NDARINVPURW8L0G\n"
     ]
    },
    {
     "name": "stderr",
     "output_type": "stream",
     "text": [
      " 56%|████████████████████████                   | 19/34 [06:22<05:04, 20.30s/it]"
     ]
    },
    {
     "name": "stdout",
     "output_type": "stream",
     "text": [
      "sub-NDARINVR6R9DHFF\n"
     ]
    },
    {
     "name": "stderr",
     "output_type": "stream",
     "text": [
      " 59%|█████████████████████████▎                 | 20/34 [06:42<04:43, 20.22s/it]"
     ]
    },
    {
     "name": "stdout",
     "output_type": "stream",
     "text": [
      "sub-NDARINVRF70B79M\n"
     ]
    },
    {
     "name": "stderr",
     "output_type": "stream",
     "text": [
      " 62%|██████████████████████████▌                | 21/34 [07:02<04:22, 20.20s/it]"
     ]
    },
    {
     "name": "stdout",
     "output_type": "stream",
     "text": [
      "sub-NDARINVTDXHD95M\n"
     ]
    },
    {
     "name": "stderr",
     "output_type": "stream",
     "text": [
      " 65%|███████████████████████████▊               | 22/34 [07:21<04:00, 20.01s/it]"
     ]
    },
    {
     "name": "stdout",
     "output_type": "stream",
     "text": [
      "sub-NDARINVTHHL55VX\n"
     ]
    },
    {
     "name": "stderr",
     "output_type": "stream",
     "text": [
      " 68%|█████████████████████████████              | 23/34 [07:41<03:39, 19.97s/it]"
     ]
    },
    {
     "name": "stdout",
     "output_type": "stream",
     "text": [
      "sub-NDARINVTKENUL3C\n"
     ]
    },
    {
     "name": "stderr",
     "output_type": "stream",
     "text": [
      " 71%|██████████████████████████████▎            | 24/34 [08:01<03:19, 19.94s/it]"
     ]
    },
    {
     "name": "stdout",
     "output_type": "stream",
     "text": [
      "sub-NDARINVTMVWP642\n"
     ]
    },
    {
     "name": "stderr",
     "output_type": "stream",
     "text": [
      " 74%|███████████████████████████████▌           | 25/34 [08:22<03:01, 20.14s/it]"
     ]
    },
    {
     "name": "stdout",
     "output_type": "stream",
     "text": [
      "sub-NDARINVTPXZDTAT\n"
     ]
    },
    {
     "name": "stderr",
     "output_type": "stream",
     "text": [
      " 76%|████████████████████████████████▉          | 26/34 [08:42<02:41, 20.21s/it]"
     ]
    },
    {
     "name": "stdout",
     "output_type": "stream",
     "text": [
      "sub-NDARINVURJ3XK7W\n"
     ]
    },
    {
     "name": "stderr",
     "output_type": "stream",
     "text": [
      " 79%|██████████████████████████████████▏        | 27/34 [09:03<02:22, 20.30s/it]"
     ]
    },
    {
     "name": "stdout",
     "output_type": "stream",
     "text": [
      "sub-NDARINVVR8GJJYB\n"
     ]
    },
    {
     "name": "stderr",
     "output_type": "stream",
     "text": [
      " 82%|███████████████████████████████████▍       | 28/34 [09:23<02:02, 20.34s/it]"
     ]
    },
    {
     "name": "stdout",
     "output_type": "stream",
     "text": [
      "sub-NDARINVVWH7ZJJR\n"
     ]
    },
    {
     "name": "stderr",
     "output_type": "stream",
     "text": [
      " 85%|████████████████████████████████████▋      | 29/34 [09:43<01:41, 20.32s/it]"
     ]
    },
    {
     "name": "stdout",
     "output_type": "stream",
     "text": [
      "sub-NDARINVWNUXY3KF\n"
     ]
    },
    {
     "name": "stderr",
     "output_type": "stream",
     "text": [
      " 88%|█████████████████████████████████████▉     | 30/34 [10:04<01:21, 20.30s/it]"
     ]
    },
    {
     "name": "stdout",
     "output_type": "stream",
     "text": [
      "sub-NDARINVX6MC634B\n"
     ]
    },
    {
     "name": "stderr",
     "output_type": "stream",
     "text": [
      " 91%|███████████████████████████████████████▏   | 31/34 [10:23<01:00, 20.17s/it]"
     ]
    },
    {
     "name": "stdout",
     "output_type": "stream",
     "text": [
      "sub-NDARINVXZ44NE7H\n"
     ]
    },
    {
     "name": "stderr",
     "output_type": "stream",
     "text": [
      " 94%|████████████████████████████████████████▍  | 32/34 [10:44<00:40, 20.18s/it]"
     ]
    },
    {
     "name": "stdout",
     "output_type": "stream",
     "text": [
      "sub-NDARINVXZRDA6CJ\n"
     ]
    },
    {
     "name": "stderr",
     "output_type": "stream",
     "text": [
      " 97%|█████████████████████████████████████████▋ | 33/34 [11:04<00:20, 20.22s/it]"
     ]
    },
    {
     "name": "stdout",
     "output_type": "stream",
     "text": [
      "sub-NDARINVZ4YHXYLW\n"
     ]
    },
    {
     "name": "stderr",
     "output_type": "stream",
     "text": [
      "100%|███████████████████████████████████████████| 34/34 [11:24<00:00, 20.14s/it]\n"
     ]
    }
   ],
   "source": [
    "for s in tqdm(np.arange(34)):\n",
    "    for r in [1]:\n",
    "        s = int(s)\n",
    "        r = int(r)\n",
    "        \n",
    "        sub = subs[s]\n",
    "        print(sub)\n",
    "        \n",
    "        brain = ants.image_read(epi_fn.format(sub=sub,r=r).replace('preproc_bold','brain_mask')+'.gz')\n",
    "        epi = ants.image_read(epi_fn.format(sub=sub,r=r))\n",
    "        denoised = ants.image_read(epi_fn.format(sub=sub,r=r).replace('preproc','COMPCORR'))\n",
    "        brain_flat = brain.numpy().flatten()\n",
    "        nt = epi.shape[-1] # Number of timepoints\n",
    "        epi_flat = epi.numpy().reshape(-1,nt).transpose() # (370, 1082035)\n",
    "        denoised_flat = denoised.numpy().reshape(-1,nt).transpose() # (370, 1082035)\n",
    "        corrVals_flat = np.zeros(denoised_flat.shape[1])\n",
    "        nostd1 = epi_flat.std(axis=0)!=0\n",
    "        nostd2 = denoised_flat.std(axis=0)!=0\n",
    "        \n",
    "        notflat = nostd1*nostd2\n",
    "        isbrain=brain_flat==1\n",
    "        \n",
    "        arr1 = epi_flat[:,isbrain*notflat]\n",
    "        arr2 = denoised_flat[:,isbrain*notflat]\n",
    "        corrVals_flat[isbrain*notflat]=correlate_columns(arr1, arr2)\n",
    "        corrBrain = brain.new_image_like(corrVals_flat.reshape(brain.shape))\n",
    "        corrBrain.to_filename(f'../Data/CompCorr-inout-corr/{s}-{r}.nii')"
   ]
  },
  {
   "cell_type": "code",
   "execution_count": 180,
   "id": "d48d747b-1224-49d9-9665-c58013bc61bb",
   "metadata": {},
   "outputs": [],
   "source": [
    "ofdir = '../Data/CompCorr-inout-corr/'\n",
    "files = [f for f in os.listdir(ofdir) if f.endswith('.nii')]\n",
    "files.sort()"
   ]
  },
  {
   "cell_type": "code",
   "execution_count": 181,
   "id": "728c7e84-9e64-4fd7-b69d-51dab25882b2",
   "metadata": {},
   "outputs": [],
   "source": [
    "ims = [ants.image_read(os.path.join(ofdir,file)) for file in files]"
   ]
  },
  {
   "cell_type": "code",
   "execution_count": 182,
   "id": "87449f13-c3af-4697-929b-7f88d502d768",
   "metadata": {},
   "outputs": [],
   "source": [
    "ims[0].new_image_like(np.array([im.numpy() for im in ims]).mean(axis=0)).to_filename('../Misc/CompCorr-in-out-corr.nii')"
   ]
  },
  {
   "cell_type": "code",
   "execution_count": null,
   "id": "9cfaf453-51bf-41c3-81f8-227f1c8502bb",
   "metadata": {},
   "outputs": [],
   "source": []
  }
 ],
 "metadata": {
  "kernelspec": {
   "display_name": "Python 3 (ipykernel)",
   "language": "python",
   "name": "python3"
  },
  "language_info": {
   "codemirror_mode": {
    "name": "ipython",
    "version": 3
   },
   "file_extension": ".py",
   "mimetype": "text/x-python",
   "name": "python",
   "nbconvert_exporter": "python",
   "pygments_lexer": "ipython3",
   "version": "3.8.17"
  }
 },
 "nbformat": 4,
 "nbformat_minor": 5
}
